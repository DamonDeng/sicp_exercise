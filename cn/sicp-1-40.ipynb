{
 "cells": [
  {
   "cell_type": "markdown",
   "id": "485dab39",
   "metadata": {},
   "source": [
    "## SICP 习题 （1.40）解题总结"
   ]
  },
  {
   "cell_type": "markdown",
   "id": "36ec52ef",
   "metadata": {},
   "source": [
    "SICP 习题1.40 是一道题干很简单，但是看起来很复杂，本质其实比较简单的一道题。\n",
    "\n",
    "题目原题如下：\n",
    "\n",
    "请定义一个过程cubic, 它和newtons-method过程一起使用在下面形式的表达式里：\n",
    "\n",
    "    (newtons-method (cubic a b c) 1)\n",
    "\n",
    "能逼进三次方程\n",
    "\n",
    "的零点。"
   ]
  },
  {
   "cell_type": "markdown",
   "id": "23d065f5",
   "metadata": {},
   "source": [
    "题干是很简单，就要求我们做个cubic过程，不过里面涉及newtons-method和三次方程的零点，如果只看题目的话真不知道从哪里下手。\n",
    "\n",
    "要完成这道题，先得回去把书中得newtons-method过一遍，书中的newtons-method定义如下："
   ]
  },
  {
   "cell_type": "code",
   "execution_count": 1,
   "id": "4be13b62",
   "metadata": {},
   "outputs": [],
   "source": [
    "(define (newtons-method g guess)\n",
    "  (fixed-point (newton-transform g) guess))"
   ]
  },
  {
   "cell_type": "markdown",
   "id": "f1e91979",
   "metadata": {},
   "source": [
    "其实就是求newton-transform的不动点。\n",
    "\n",
    "那么这个newton-transform，就是牛顿变换又是什么呢?\n",
    "\n",
    "书中的newton-transform定义如下："
   ]
  },
  {
   "cell_type": "code",
   "execution_count": 2,
   "id": "1f1d7b9d",
   "metadata": {},
   "outputs": [],
   "source": [
    "(define (newton-transform g)\n",
    "  (lambda (x)\n",
    "    (- x (/ (g x) ((deriv g) x)))))\n"
   ]
  },
  {
   "cell_type": "markdown",
   "id": "312c0fb7",
   "metadata": {},
   "source": [
    "它的作用就是得出f(x)，使f(x)如下：\n",
    "\n",
    "    f(x)= x - g(x) / Dg(x)\n",
    "\n",
    "如书中1.3.4节介绍牛顿法时描述的：\n",
    "\n",
    "如果x-> g(x)是一个可微函数，那么方程g(x)=0 的一个解就是函数x->f(x)的一个不动点，其中f(x)= x - g(x) / Dg(x)\n",
    "\n",
    "好，回到我们的题目，我们有一个函数\n",
    "\n",
    "    g(x)= \n",
    "\n",
    "我们要逼进函数g(x)的零点，就是求g(x)=0的一个解。\n",
    "\n",
    "按以上的描述，就是我们要求(newtons-method <g(x)> 1)，注意这里不是一个合法的Scheme语句。\n",
    "\n",
    "这里的g(x)就是我们要做的cubic过程的返回值。\n",
    "\n",
    "问题到了这里就变得很简单了，不过是用cubic过程去生成一个表示三次方程的lambda过程而已，cubic过程定义如下："
   ]
  },
  {
   "cell_type": "code",
   "execution_count": 3,
   "id": "b4ab75c3",
   "metadata": {},
   "outputs": [],
   "source": [
    "(define (cubic a b c) \n",
    "  (lambda (x)\n",
    "    (+ (* x x x) (* a x x) (* b x) c)))"
   ]
  },
  {
   "cell_type": "markdown",
   "id": "1f9a917f",
   "metadata": {},
   "source": [
    "是不是结果有点出乎意料的简单呢？"
   ]
  },
  {
   "cell_type": "markdown",
   "id": "2143bae7",
   "metadata": {},
   "source": [
    "不过要把结果跑起来还是需要做些工作，先是要定义(diriv)函数"
   ]
  },
  {
   "cell_type": "code",
   "execution_count": 4,
   "id": "81b11f84",
   "metadata": {},
   "outputs": [],
   "source": [
    "(define (deriv g)\n",
    "  (lambda (x)\n",
    "    (/ (- (g (+ x dx)) (g x))\n",
    "       dx)))\n",
    "\n",
    "(define dx 0.00001)"
   ]
  },
  {
   "cell_type": "code",
   "execution_count": null,
   "id": "2107be77",
   "metadata": {},
   "outputs": [],
   "source": [
    "\n",
    "\n",
    "(define (newton-transform g)\n",
    "  (lambda (x)\n",
    "    (- x (/ (g x) ((deriv g) x)))))\n",
    "\n",
    "(define (newtons-method g guess)\n",
    "  (fixed-point (newton-transform g) guess))"
   ]
  },
  {
   "cell_type": "markdown",
   "id": "d3a44dbd",
   "metadata": {},
   "source": [
    "然后把(fixed-point）函数定义好"
   ]
  },
  {
   "cell_type": "code",
   "execution_count": 5,
   "id": "fb6fd266",
   "metadata": {},
   "outputs": [],
   "source": [
    "(define tolerance 0.00001)\n",
    "\n",
    "(define (fixed-point f first-guess)\n",
    "  (define (close-enough? v1 v2)\n",
    "    (< (abs (- v1 v2 )) tolerance))\n",
    "  (define (try-it guess)\n",
    "    (newline)\n",
    "    (display guess)\n",
    "    (let (( next (f guess)))\n",
    "      (if (close-enough? guess next)\n",
    "\t  next\n",
    "\t  (try-it next))))\n",
    "  (try-it first-guess))\n",
    "\n",
    "\n",
    "\n"
   ]
  },
  {
   "cell_type": "markdown",
   "id": "e9eca9ee",
   "metadata": {},
   "source": [
    "再打包一个测试函数出来"
   ]
  },
  {
   "cell_type": "code",
   "execution_count": 6,
   "id": "362a7836",
   "metadata": {},
   "outputs": [],
   "source": [
    "(define (test-it) (newtons-method (cubic 3 2 3) 1.0))"
   ]
  },
  {
   "cell_type": "markdown",
   "id": "05ed812c",
   "metadata": {},
   "source": [
    "开始测试"
   ]
  },
  {
   "cell_type": "code",
   "execution_count": 7,
   "id": "c95eb948",
   "metadata": {},
   "outputs": [
    {
     "name": "stdout",
     "output_type": "stream",
     "text": [
      "\n",
      "1.0\n",
      "0.1818226446260014\n",
      "-0.9055353009217961\n",
      "2.0807977671091358\n",
      "1.0194312175355107\n",
      "0.1990899009052146\n",
      "-0.8647388656124436\n",
      "2.1689989174377797\n",
      "1.0822058716044967\n",
      "0.253895106193991\n",
      "-0.746306338426162\n",
      "2.6774099011099937\n",
      "1.4377512504403323\n",
      "0.5434717669315625\n",
      "-0.29166422873520215\n",
      "-5.530886380070292\n",
      "-4.119959094544606\n",
      "-3.260095204226237\n",
      "-2.821353967385129\n",
      "-2.6849947860565306\n",
      "-2.6718183333582166\n",
      "-2.6716998903815274"
     ]
    },
    {
     "data": {
      "text/plain": [
       "-2.671699881657102"
      ]
     },
     "execution_count": 7,
     "metadata": {},
     "output_type": "execute_result"
    }
   ],
   "source": [
    "(test-it)"
   ]
  },
  {
   "cell_type": "markdown",
   "id": "34db4350",
   "metadata": {},
   "source": [
    "或者是直接用(newtons-method)进行测试："
   ]
  },
  {
   "cell_type": "code",
   "execution_count": 8,
   "id": "75b750de",
   "metadata": {},
   "outputs": [
    {
     "name": "stdout",
     "output_type": "stream",
     "text": [
      "\n",
      "1\n",
      "5.714266429257542e-06\n",
      "-1.4999839284734562\n",
      "-1.3043428073335799\n",
      "-1.276209090923146\n",
      "-1.27568238137649"
     ]
    },
    {
     "data": {
      "text/plain": [
       "-1.2756822036498454"
      ]
     },
     "execution_count": 8,
     "metadata": {},
     "output_type": "execute_result"
    }
   ],
   "source": [
    "(newtons-method (cubic 1 2 3) 1)"
   ]
  },
  {
   "cell_type": "code",
   "execution_count": null,
   "id": "c72d538c",
   "metadata": {},
   "outputs": [],
   "source": []
  }
 ],
 "metadata": {
  "kernelspec": {
   "display_name": "Calysto Scheme 3",
   "language": "scheme",
   "name": "calysto_scheme"
  },
  "language_info": {
   "codemirror_mode": {
    "name": "scheme"
   },
   "mimetype": "text/x-scheme",
   "name": "scheme",
   "pygments_lexer": "scheme"
  }
 },
 "nbformat": 4,
 "nbformat_minor": 5
}
