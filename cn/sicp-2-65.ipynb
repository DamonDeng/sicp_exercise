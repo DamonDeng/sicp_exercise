{
 "cells": [
  {
   "cell_type": "markdown",
   "id": "0454da55",
   "metadata": {},
   "source": [
    "## SICP 习题 （2.65）解题总结：新的并集和交集操作"
   ]
  },
  {
   "cell_type": "markdown",
   "id": "46f641f1",
   "metadata": {},
   "source": [
    "SICP 习题2.65要求我们使用2.63和2.64的函数构建union-set函数和intersection-set函数，同时要求复杂度为O(n)"
   ]
  },
  {
   "cell_type": "markdown",
   "id": "b02f1b99",
   "metadata": {},
   "source": [
    "这道题我自己做的时候花了很长时间，当时主要考虑的是如何同时递归遍历两棵树，一边遍历一边生成新的平衡树。\n",
    "\n",
    "这个困扰了我很长时间，因为要同时递归遍历两棵不同的树是一件非常诡异的事情，到现在我都还没有一个清晰的思路。\n",
    "\n",
    "后来去网上看了看别人的解题思路，发现大家用了一个非常简单的方法，就是把树转成列表,用之前的union-set函数和intersection-set函数进行操作，然后再把列表转成树。。。。。\n",
    "\n",
    "清奇的解题思路，因为所有涉及的函数都是O(n)，所以累积使用几个函数复杂度还是O(n)...."
   ]
  },
  {
   "cell_type": "markdown",
   "id": "600706a0",
   "metadata": {},
   "source": [
    "那下面就开始堆代码："
   ]
  },
  {
   "cell_type": "code",
   "execution_count": 28,
   "id": "b5e19e7c",
   "metadata": {},
   "outputs": [],
   "source": [
    "(define (list->tree elements)\n",
    "  (car (partial-tree elements (length elements))))\n",
    "\n",
    "(define (is-tree? tree)\n",
    "  (if (pair? tree)\n",
    "      (if (= (length tree) 3)\n",
    "\t  #t\n",
    "\t  #f)\n",
    "      #f))\n",
    "\n",
    "(define (entry tree) \n",
    "  (if (is-tree? tree) \n",
    "       (car tree)\n",
    "       tree))\n",
    "\n",
    "\n",
    "(define (left-branch tree)\n",
    "  (if (is-tree? tree)\n",
    "      (cadr tree)\n",
    "      '()))\n",
    "\n",
    "(define (right-branch tree) \n",
    "  (if (is-tree? tree)\n",
    "      (caddr tree)\n",
    "      '()))\n",
    "\n",
    "(define (make-tree entry left right)\n",
    "  (list entry left right))\n",
    "\n",
    "\n",
    "(define (partial-tree elts n)\n",
    "  (if (= n 0)\n",
    "      (cons '() elts)\n",
    "      (let ((left-size (quotient (- n 1) 2)))\n",
    "\t(let ((left-result (partial-tree elts left-size)))\n",
    "\t  (let ((left-tree (car left-result))\n",
    "\t\t(non-left-elts (cdr left-result))\n",
    "\t\t(right-size (- n (+ left-size 1))))\n",
    "\t    (let ((this-entry (car non-left-elts))\n",
    "\t\t  (right-result (partial-tree (cdr non-left-elts)\n",
    "\t\t\t\t\t    right-size)))\n",
    "\t      (let ((right-tree (car right-result))\n",
    "\t\t    (remaining-elts (cdr right-result)))\n",
    "\t\t(cons (make-tree this-entry left-tree right-tree)\n",
    "\t\t      remaining-elts))))))))\n",
    "\n",
    "(define (list->tree elements)\n",
    "  (car (partial-tree elements (length elements))))\n",
    "\n"
   ]
  },
  {
   "cell_type": "code",
   "execution_count": 29,
   "id": "7383f42b",
   "metadata": {},
   "outputs": [],
   "source": [
    "(define test-elements-1 '(1 3 4 5 6 7 9 10))\n",
    "(define test-elements-2 '(1 4 5 6 8 9 10 11))\n",
    "\n",
    "(define target-tree-1\n",
    "        (car (partial-tree test-elements-1 (length test-elements))))\n",
    "(define target-tree-2\n",
    "        (car (partial-tree test-elements-2 (length test-elements))))"
   ]
  },
  {
   "cell_type": "code",
   "execution_count": 30,
   "id": "83eb283b",
   "metadata": {},
   "outputs": [],
   "source": [
    "(define (tree->list-2 tree)\n",
    "  (define (copy-to-list tree result-list)\n",
    "    (if (null? tree)\n",
    "\tresult-list\n",
    "\t(copy-to-list (left-branch tree)\n",
    "\t\t      (cons (entry tree)\n",
    "\t\t\t    (copy-to-list (right-branch tree)\n",
    "\t\t\t\t\t  result-list)))))\n",
    "  (copy-to-list tree '()))"
   ]
  },
  {
   "cell_type": "code",
   "execution_count": 31,
   "id": "54cf110a",
   "metadata": {},
   "outputs": [],
   "source": [
    "(define target-list-1 (tree->list-2 target-tree-1))\n",
    "(define target-list-2 (tree->list-2 target-tree-2))"
   ]
  },
  {
   "cell_type": "code",
   "execution_count": 32,
   "id": "781051e7",
   "metadata": {},
   "outputs": [],
   "source": [
    "(define (intersection-set set1 set2)\n",
    "  (if (or (null? set1) (null? set2))\n",
    "      '()\n",
    "      (let (( x1 (car set1)) (x2 (car set2)))\n",
    "\t(cond ((= x1 x2)\n",
    "\t       (cons x1\n",
    "\t\t     (intersection-set (cdr set1)\n",
    "\t\t\t\t      (cdr set2))))\n",
    "\t      ((< x1 x2)\n",
    "\t       (intersection-set (cdr set1) set2))\n",
    "\t      ((< x2 x1)\n",
    "\t       (intersection-set set1 (cdr set2)))))))"
   ]
  },
  {
   "cell_type": "code",
   "execution_count": 33,
   "id": "46b7b778",
   "metadata": {},
   "outputs": [],
   "source": [
    "(define (union-set set1 set2)\n",
    "  (if (null? set1)\n",
    "       set2\n",
    "       (if (null? set2)\n",
    "\t   set1\n",
    "\t   (let (( x1 (car set1)) (x2 (car set2)))\n",
    "\t     (cond ((= x1 x2)\n",
    "\t\t    (cons x1\n",
    "\t\t\t  (union-set (cdr set1)\n",
    "\t\t\t\t     (cdr set2))))\n",
    "\t\t   ((< x1 x2)\n",
    "\t\t    (cons x1 (union-set (cdr set1) set2)))\n",
    "\t\t   ((< x2 x1)\n",
    "\t\t    (cons x2 (union-set set1 (cdr set2)))))))))\n",
    "\n"
   ]
  },
  {
   "cell_type": "code",
   "execution_count": 34,
   "id": "c68cd324",
   "metadata": {},
   "outputs": [
    {
     "data": {
      "text/plain": [
       "(1 3 4 5 6 7 9 10)"
      ]
     },
     "execution_count": 34,
     "metadata": {},
     "output_type": "execute_result"
    }
   ],
   "source": [
    "target-list-1"
   ]
  },
  {
   "cell_type": "code",
   "execution_count": 35,
   "id": "0058b3d8",
   "metadata": {},
   "outputs": [
    {
     "data": {
      "text/plain": [
       "(1 4 5 6 8 9 10 11)"
      ]
     },
     "execution_count": 35,
     "metadata": {},
     "output_type": "execute_result"
    }
   ],
   "source": [
    "target-list-2"
   ]
  },
  {
   "cell_type": "code",
   "execution_count": 36,
   "id": "5d795968",
   "metadata": {},
   "outputs": [
    {
     "data": {
      "text/plain": [
       "(1 4 5 6 9 10)"
      ]
     },
     "execution_count": 36,
     "metadata": {},
     "output_type": "execute_result"
    }
   ],
   "source": [
    "(intersection-set target-list-1 target-list-2)"
   ]
  },
  {
   "cell_type": "code",
   "execution_count": 37,
   "id": "baf2b48c",
   "metadata": {},
   "outputs": [
    {
     "data": {
      "text/plain": [
       "(1 3 4 5 6 7 8 9 10 11)"
      ]
     },
     "execution_count": 37,
     "metadata": {},
     "output_type": "execute_result"
    }
   ],
   "source": [
    "(union-set target-list-1 target-list-2)"
   ]
  },
  {
   "cell_type": "code",
   "execution_count": 38,
   "id": "c0d28de5",
   "metadata": {},
   "outputs": [
    {
     "data": {
      "text/plain": [
       "(5 (1 () (4 () ())) (9 (6 () ()) (10 () ())))"
      ]
     },
     "execution_count": 38,
     "metadata": {},
     "output_type": "execute_result"
    }
   ],
   "source": [
    "(list->tree (intersection-set target-list-1 target-list-2))"
   ]
  },
  {
   "cell_type": "code",
   "execution_count": 39,
   "id": "2c9a1681",
   "metadata": {},
   "outputs": [
    {
     "data": {
      "text/plain": [
       "(6 (3 (1 () ()) (4 () (5 () ()))) (9 (7 () (8 () ())) (10 () (11 () ()))))"
      ]
     },
     "execution_count": 39,
     "metadata": {},
     "output_type": "execute_result"
    }
   ],
   "source": [
    "(list->tree (union-set target-list-1 target-list-2))"
   ]
  },
  {
   "cell_type": "code",
   "execution_count": null,
   "id": "fb59d51c",
   "metadata": {},
   "outputs": [],
   "source": []
  }
 ],
 "metadata": {
  "kernelspec": {
   "display_name": "Calysto Scheme 3",
   "language": "scheme",
   "name": "calysto_scheme"
  },
  "language_info": {
   "codemirror_mode": {
    "name": "scheme"
   },
   "mimetype": "text/x-scheme",
   "name": "scheme",
   "pygments_lexer": "scheme"
  }
 },
 "nbformat": 4,
 "nbformat_minor": 5
}
