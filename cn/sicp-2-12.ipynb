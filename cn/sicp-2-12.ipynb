{
 "cells": [
  {
   "cell_type": "markdown",
   "id": "0454da55",
   "metadata": {},
   "source": [
    "SICP 习题 （2.12）解题总结 :区间的不同实现方式"
   ]
  },
  {
   "cell_type": "markdown",
   "id": "c9e3bf06",
   "metadata": {},
   "source": [
    "SICP 习题 2.12 要求我们定义一个构造函数make-center-percent，它接收两个参数，分别代表中心点和一个误差百分比。我们需要通过这个构造函数产生一个区间。此外还需要定义一个选择函数percent，用来获取指定区间的误差百分比。还有就是需要实现一个center函数用于获取区间的中间点。\n",
    "\n",
    "这里的关键就是要我们明白一个复合数据类型可能会有不同的表现形式，比如这里的区间可以用起点和终点表示，也可以使用中心点和误差表示。\n",
    "\n",
    "从内部实现来讲，可以简单的将两种表现形式相关的数据都保存起来，比如我们同时记录区间的起点、终点、中心点和误差。但是这样我们就需要在数据更新时同时两种数据，比如我们获得了新的起点和终点数据，那我们就必须同时更新起点，终点，中心点和误差这些数据，而新的中心点和误差可以根据新的起点和终点计算出来。\n",
    "\n",
    "既然都是需要转换，另一中实现思路就是只保留一种形式的数据，当获得另一种形式的数据时通过计算转换成第一种数据。\n",
    "\n",
    "所以，在这里我们就依然采用之前的起点和终点的区间数据保存形式，当我们通过make-center-percent构建区间时就通过计算把中心点和误差百分比转换成起点和终点。\n",
    "\n",
    "代码如下："
   ]
  },
  {
   "cell_type": "code",
   "execution_count": 1,
   "id": "153dc4ae",
   "metadata": {},
   "outputs": [],
   "source": [
    "(define (make-center-percent center percent)\n",
    "  (make-interval (- center (* center (/ percent 100))) (+ center (* center (/ percent 100)))))"
   ]
  },
  {
   "cell_type": "markdown",
   "id": "0d644257",
   "metadata": {},
   "source": [
    "这样，获取中心点的代码和书中就是一样的了，通过起点和终点相加再除于2可以得到："
   ]
  },
  {
   "cell_type": "code",
   "execution_count": 2,
   "id": "ca69a1a1",
   "metadata": {},
   "outputs": [],
   "source": [
    "(define (center i)\n",
    "  (/ (+ (lower-bound i) (upper-bound i)) 2))"
   ]
  },
  {
   "cell_type": "markdown",
   "id": "98b2b0df",
   "metadata": {},
   "source": [
    "当我们知道一个区间的起点和终点，就可以通过计算宽度再得出误差偏移量，再把偏移量除于中心点就可以得出误差相对于中心点的百分比了。这里要注意的时书中对区间宽度的定义是起点到终点距离的一半，所以这里的区间宽度恰好是它的误差偏移量。计算误差百分比的代码如下："
   ]
  },
  {
   "cell_type": "code",
   "execution_count": 3,
   "id": "00681b21",
   "metadata": {},
   "outputs": [],
   "source": [
    "(define (percent i)\n",
    "  (* 100 (abs  (/ (interval-width i) (center i)))))"
   ]
  },
  {
   "cell_type": "markdown",
   "id": "383194d4",
   "metadata": {},
   "source": [
    "这样就完成了习题2.12。"
   ]
  },
  {
   "cell_type": "code",
   "execution_count": 4,
   "id": "d09e8f98",
   "metadata": {},
   "outputs": [],
   "source": [
    "(define (make-interval a b)\n",
    "  (cons a b))\n",
    "\n",
    "(define (lower-bound x)\n",
    "  (car x))\n",
    "\n",
    "(define (upper-bound x)\n",
    "  (cdr x))\n",
    "\n",
    "\n",
    "(define (add-interval x y)\n",
    "  (make-interval (+ (lower-bound x) (lower-bound y))\n",
    "\t\t (+ (upper-bound x) (upper-bound y))))\n",
    "\n",
    "(define (sub-interval x y)\n",
    "  (make-interval (- (lower-bound x) (lower-bound y))\n",
    "\t\t (- (upper-bound x) (upper-bound y))))\n",
    "\n",
    "\n",
    "\n",
    "\n",
    "(define (mul-interval x y)\n",
    "  (if (> (lower-bound x) 0)\n",
    "      (if (> (lower-bound y) 0)\n",
    "\t  (make-interval (* (lower-bound x) (lower-bound y)) (* (upper-bound x) (upper-bound y)))\n",
    "\t  (if (> (upper-bound y) 0)\n",
    "\t      (make-interval (* (upper-bound x) (lower-bound y)) (* (upper-bound x) (upper-bound y)))\n",
    "\t      (make-interval (* (lower-bound x) (upper-bound y)) (* (lower-bound x) (upper-bound y)))))\n",
    "      (if (> (upper-bound x) 0)\n",
    "\t  (if (> (lower-bound y) 0)\n",
    "\t      (make-interval (* (lower-bound x) (upper-bound y)) (* (upper-bound x) (upper-bound y)))\n",
    "\t      (if (> (upper-bound y) 0)\n",
    "\t\t  (make-interval (* (lower-bound x) (lower-bound y)) \n",
    "\t\t\t\t (* (upper-bound x) (upper-bound y)))\n",
    "\t\t  (make-interval (* (lower-bound x) (lower-bound y))\n",
    "\t\t\t\t (* (upper-bound x) (upper-bound y)))))\n",
    "\t  (if (> (lower-bound y) 0)\n",
    "\t      (make-interval (* (lower-bound x) (lower-bound y)) (* (upper-bound x) (upper-bound y)))\n",
    "\t      (if (> (upper-bound y) 0)\n",
    "\t\t  (make-interval (* (lower-bound x) (lower-bound y)) \n",
    "\t\t\t\t (* (upper-bound x) (upper-bound y)))\n",
    "\t\t  (make-interval (* (lower-bound x) (lower-bound y)) \n",
    "\t\t\t\t (* (upper-bound x) (upper-bound y))))) )))\n",
    "\n",
    "\n",
    "(define (div-interval x y)\n",
    "  (if (< (* (upper-bound y) (lower-bound y)) 0)\n",
    "      (error \"Div 0:\" y))\n",
    "  (mul-interval x\n",
    "\t\t(make-interval (/ 1.0 (upper-bound y))\n",
    "\t\t\t       (/ 1.0 (lower-bound y)))))\n",
    "\n",
    "\n",
    "(define (interval-width interval)\n",
    "  (/ (-  (upper-bound interval) (lower-bound interval)) 2))\n",
    "\n",
    "\n",
    "\n",
    "\n",
    "\n",
    "\n",
    "(define (make-center-percent center percent)\n",
    "  (make-interval (- center (* center (/ percent 100))) (+ center (* center (/ percent 100)))))\n",
    "\n",
    "(define (center i)\n",
    "  (/ (+ (lower-bound i) (upper-bound i)) 2))\n",
    "\n",
    "(define (percent i)\n",
    "  (* 100 (abs (/ (interval-width i) (center i)))))\n",
    "\n",
    "\n",
    "(define (start-test-2-12)\n",
    "  (define first (make-center-percent 186 4))\n",
    "  (display (center first))(newline)\n",
    "  (display (percent first))(newline))"
   ]
  },
  {
   "cell_type": "code",
   "execution_count": 5,
   "id": "6870d065",
   "metadata": {},
   "outputs": [
    {
     "name": "stdout",
     "output_type": "stream",
     "text": [
      "186\n",
      "4\n"
     ]
    }
   ],
   "source": [
    "(start-test-2-12)"
   ]
  },
  {
   "cell_type": "code",
   "execution_count": null,
   "id": "f6db33c9",
   "metadata": {},
   "outputs": [],
   "source": []
  }
 ],
 "metadata": {
  "kernelspec": {
   "display_name": "Calysto Scheme 3",
   "language": "scheme",
   "name": "calysto_scheme"
  },
  "language_info": {
   "codemirror_mode": {
    "name": "scheme"
   },
   "mimetype": "text/x-scheme",
   "name": "scheme",
   "pygments_lexer": "scheme"
  }
 },
 "nbformat": 4,
 "nbformat_minor": 5
}
