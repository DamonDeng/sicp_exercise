{
 "cells": [
  {
   "cell_type": "markdown",
   "id": "079f4e51",
   "metadata": {},
   "source": [
    "## SICP 习题 （3.20）解题总结: 共享数据的set-car!操作。"
   ]
  },
  {
   "cell_type": "markdown",
   "id": "a3245b19",
   "metadata": {},
   "source": [
    "SICP 习题 3.20 比较简单，让我们分析以下代码里的环境变化："
   ]
  },
  {
   "cell_type": "code",
   "execution_count": 2,
   "id": "51239efd",
   "metadata": {},
   "outputs": [
    {
     "data": {
      "text/plain": [
       "17"
      ]
     },
     "execution_count": 2,
     "metadata": {},
     "output_type": "execute_result"
    }
   ],
   "source": [
    "(define x (cons 1 2))\n",
    "(define z (cons x x))\n",
    "(set-car! (cdr z) 17)\n",
    "(car x)"
   ]
  },
  {
   "cell_type": "markdown",
   "id": "83470c5a",
   "metadata": {},
   "source": [
    "简单讲就是z的car和cdr都指向了变量x，然后使用(set-car!)给(cdr z)赋值时其实是在给x的car赋值。\n",
    "\n",
    "所以(car x)会等于17"
   ]
  },
  {
   "cell_type": "code",
   "execution_count": null,
   "id": "3166fb96",
   "metadata": {},
   "outputs": [],
   "source": []
  }
 ],
 "metadata": {
  "kernelspec": {
   "display_name": "Calysto Scheme 3",
   "language": "scheme",
   "name": "calysto_scheme"
  },
  "language_info": {
   "codemirror_mode": {
    "name": "scheme"
   },
   "mimetype": "text/x-scheme",
   "name": "scheme",
   "pygments_lexer": "scheme"
  }
 },
 "nbformat": 4,
 "nbformat_minor": 5
}
