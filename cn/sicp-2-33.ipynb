{
 "cells": [
  {
   "cell_type": "markdown",
   "id": "0454da55",
   "metadata": {},
   "source": [
    "## SICP 习题 (2.33)解题总结 : 累积过程accumulate"
   ]
  },
  {
   "cell_type": "markdown",
   "id": "6c8f06a2",
   "metadata": {},
   "source": [
    "SICP  习题 2.33 开始讨论accumulate的使用，accumulate就是累积的意思。\n",
    "\n",
    "这道题和题目前的内容结合非常紧密，所以要完成这道题先得认真看完题目前面的内容，其中最关键的就是文中总结出的accumulate方法。\n",
    "\n",
    "该方法的代码如下："
   ]
  },
  {
   "cell_type": "code",
   "execution_count": 1,
   "id": "e3fbfb93",
   "metadata": {},
   "outputs": [],
   "source": [
    "(define (accumulate op initial sequence)\n",
    "  (if (null? sequence)\n",
    "      initial\n",
    "      (op (car sequence)\n",
    "\t  (accumulate op initial (cdr sequence)))))"
   ]
  },
  {
   "cell_type": "markdown",
   "id": "47071ea2",
   "metadata": {},
   "source": [
    "这个accumulate方法实际上将一个列表的遍历和累积过程抽象出来，在方法中实现了列表的遍历，同时提供给你op 接口让你可以指定累积动作，并提供了 initial接口用于指定累积的初始值。\n",
    "\n",
    "理解accumulate过程的最好方法是考察“加”操作的累积，代码如下："
   ]
  },
  {
   "cell_type": "code",
   "execution_count": 2,
   "id": "f24b8a34",
   "metadata": {},
   "outputs": [
    {
     "data": {
      "text/plain": [
       "15"
      ]
     },
     "execution_count": 2,
     "metadata": {},
     "output_type": "execute_result"
    }
   ],
   "source": [
    "(accumulate + 0 (list 1 2 3 4 5))"
   ]
  },
  {
   "cell_type": "markdown",
   "id": "3f428f3c",
   "metadata": {},
   "source": [
    "执行结果是15，就是将1 2 3 4 5这些数字累积加起来，这里0是初始的累积值，累积操作是+。\n",
    "\n",
    "accumulate会遍历到最后一个元素，执行最后一个元素5和初始元素0的累积操作，就是（+ 5 0），得出5，然后执行 4 和 5 的累积 ， 就是（+ 4 5） ， 得出9.\n",
    "\n",
    "接着执行 3 和 9 的累积，就是（ + 3 9），得出11， 如此类推。。。\n",
    "\n",
    "题目的要求是要我们通过accumulate 实现 map , append length 等操作。\n",
    "\n",
    "先看看map， map操作可以分为两部分，一部分是对所有元素执行指定操作，第二部分是将操作产生的值连接成另一个列表。所以，如果我们把map看做是一种累积的话，初始累积值是空集，累积操作是“连接 <指定操作生成的结果>”。\n",
    "\n",
    "所以，我们指定map的累积操作是一个lambda , 取两个参数，对第一个参数执行指定操作p，然后通过cons连接操作结果和之前需要连接的内容，代码如下："
   ]
  },
  {
   "cell_type": "code",
   "execution_count": 3,
   "id": "886890d6",
   "metadata": {},
   "outputs": [],
   "source": [
    "\n",
    "(define (map p sequence)\n",
    "  (accumulate (lambda (x y) (cons (p x) y) ) '() sequence))"
   ]
  },
  {
   "cell_type": "code",
   "execution_count": 14,
   "id": "48957f6e",
   "metadata": {},
   "outputs": [
    {
     "data": {
      "text/plain": [
       "(1 4 9 16)"
      ]
     },
     "execution_count": 14,
     "metadata": {},
     "output_type": "execute_result"
    }
   ],
   "source": [
    "(define (square x) (* x x))\n",
    "\n",
    "(map square '(1 2 3 4 ))"
   ]
  },
  {
   "cell_type": "markdown",
   "id": "af7f52d9",
   "metadata": {},
   "source": [
    "在考察append操作，我们可以认为(append seq1 seq2) 是以seq2为初始累积值，不断地将seq1中的元素cons到累积值中，代码如下："
   ]
  },
  {
   "cell_type": "code",
   "execution_count": 4,
   "id": "ff0cef79",
   "metadata": {},
   "outputs": [],
   "source": [
    "(define (append seq1 seq2)\n",
    "  (accumulate cons seq2 seq1))"
   ]
  },
  {
   "cell_type": "code",
   "execution_count": 15,
   "id": "58a5e97a",
   "metadata": {},
   "outputs": [
    {
     "data": {
      "text/plain": [
       "(1 2 3 4 5 6)"
      ]
     },
     "execution_count": 15,
     "metadata": {},
     "output_type": "execute_result"
    }
   ],
   "source": [
    "(append '(1 2 3) '(4 5 6))"
   ]
  },
  {
   "cell_type": "markdown",
   "id": "d5fca77a",
   "metadata": {},
   "source": [
    "最后是length，当我们对列表执行length操作时，我们不关注列表的元素是什么，我们只关注列表的元素有几个。\n",
    "\n",
    "所以，如果我们把length过程当做是一种累积，累积的初始值是0， 累积操作就是简单的+1操作。\n",
    "\n",
    "代码如下："
   ]
  },
  {
   "cell_type": "code",
   "execution_count": 16,
   "id": "64ca7ea3",
   "metadata": {},
   "outputs": [],
   "source": [
    "(define (length sequence)\n",
    "  (accumulate (lambda (x y) (+ 1 y)) 0 sequence))"
   ]
  },
  {
   "cell_type": "code",
   "execution_count": 17,
   "id": "47c35887",
   "metadata": {},
   "outputs": [
    {
     "data": {
      "text/plain": [
       "3"
      ]
     },
     "execution_count": 17,
     "metadata": {},
     "output_type": "execute_result"
    }
   ],
   "source": [
    "(length '(2 3 4 ))"
   ]
  },
  {
   "cell_type": "code",
   "execution_count": null,
   "id": "3e4068ac",
   "metadata": {},
   "outputs": [],
   "source": []
  }
 ],
 "metadata": {
  "kernelspec": {
   "display_name": "Calysto Scheme 3",
   "language": "scheme",
   "name": "calysto_scheme"
  },
  "language_info": {
   "codemirror_mode": {
    "name": "scheme"
   },
   "mimetype": "text/x-scheme",
   "name": "scheme",
   "pygments_lexer": "scheme"
  }
 },
 "nbformat": 4,
 "nbformat_minor": 5
}
