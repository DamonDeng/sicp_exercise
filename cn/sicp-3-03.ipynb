{
 "cells": [
  {
   "cell_type": "markdown",
   "id": "079f4e51",
   "metadata": {},
   "source": [
    "## SICP 习题 （3.3）解题总结:  给账号设置密码"
   ]
  },
  {
   "cell_type": "markdown",
   "id": "17972c47",
   "metadata": {},
   "source": [
    "SICP 习题 3.3 要求我们给(make-account)增加一个功能，可以在创建是设置密码，每次操作账号都要求带上密码。\n",
    "\n",
    "代码确实没有什么特别要讲解的："
   ]
  },
  {
   "cell_type": "code",
   "execution_count": 6,
   "id": "51239efd",
   "metadata": {},
   "outputs": [],
   "source": [
    "(define (make-account balance account-password)\n",
    "  (define (withdraw amount)\n",
    "    (if (>= balance amount)\n",
    "\t(begin (set! balance (- balance amount))\n",
    "\t       balance)\n",
    "\t\"insufficient funds\"))\n",
    "  (define (deposit amount)\n",
    "    (set! balance (+ balance amount))\n",
    "    balance)\n",
    "\n",
    "  (define (wrongpassword amount)\n",
    "    \"incorrect password\")\n",
    "\n",
    "  (define (dispatch password m)\n",
    "\n",
    "    (if (not (equal? password account-password))\n",
    "\twrongpassword\n",
    "\t(cond ((eq? m 'withdraw) withdraw)\n",
    "\t      ((eq? m 'deposit) deposit)\n",
    "\t      (else (error \"unknow request -- Make-Account\"\n",
    "\t\t\t   m)))))\n",
    "  dispatch)"
   ]
  },
  {
   "cell_type": "code",
   "execution_count": 7,
   "id": "301d55a3",
   "metadata": {},
   "outputs": [],
   "source": [
    "(define acc (make-account 100 'my-password))"
   ]
  },
  {
   "cell_type": "code",
   "execution_count": 8,
   "id": "794f6b6f",
   "metadata": {},
   "outputs": [
    {
     "data": {
      "text/plain": [
       "\"incorrect password\""
      ]
     },
     "execution_count": 8,
     "metadata": {},
     "output_type": "execute_result"
    }
   ],
   "source": [
    "((acc 'other-password 'deposit) 50)"
   ]
  },
  {
   "cell_type": "code",
   "execution_count": 9,
   "id": "5d54ecd6",
   "metadata": {},
   "outputs": [
    {
     "data": {
      "text/plain": [
       "150"
      ]
     },
     "execution_count": 9,
     "metadata": {},
     "output_type": "execute_result"
    }
   ],
   "source": [
    "((acc 'my-password 'deposit) 50)"
   ]
  },
  {
   "cell_type": "code",
   "execution_count": null,
   "id": "94f6abdb",
   "metadata": {},
   "outputs": [],
   "source": []
  }
 ],
 "metadata": {
  "kernelspec": {
   "display_name": "Calysto Scheme 3",
   "language": "scheme",
   "name": "calysto_scheme"
  },
  "language_info": {
   "codemirror_mode": {
    "name": "scheme"
   },
   "mimetype": "text/x-scheme",
   "name": "scheme",
   "pygments_lexer": "scheme"
  }
 },
 "nbformat": 4,
 "nbformat_minor": 5
}
