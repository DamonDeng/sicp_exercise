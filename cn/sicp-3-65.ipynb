{
 "cells": [
  {
   "cell_type": "markdown",
   "id": "079f4e51",
   "metadata": {},
   "source": [
    "## title"
   ]
  },
  {
   "cell_type": "code",
   "execution_count": null,
   "id": "51239efd",
   "metadata": {},
   "outputs": [],
   "source": [
    "(define (euler-transform s)\n",
    "  (let ((s0 (stream-ref s 0))\n",
    "\t(s1 (stream-ref s 1))\n",
    "\t(s2 (stream-ref s 2)))\n",
    "    (cons-stream (- s2 (/ (square (- s2 s1))\n",
    "\t\t\t  (+ s0 (* -2 s1) s2)))\n",
    "\t\t (euler-transform (stream-cdr s)))))\n",
    "\n",
    "(define (make-tableau transform s)\n",
    "  (cons-stream s \n",
    "\t       (make-tableau transform\n",
    "\t\t\t     (transform s))))\n",
    "\n",
    "(define (accelerated-sequence transform s)\n",
    "  (stream-map stream-car\n",
    "\t      (make-tableau transform s)))\n",
    "\n",
    "(define (e-summands n)\n",
    "  (cons-stream (/ 1.0 n)\n",
    "\t       (stream-map - (e-summands (+ n 1)))))\n",
    "\n",
    "(define e-stream\n",
    "  (partial-sums (e-summands 1)))\n",
    "\n"
   ]
  }
 ],
 "metadata": {
  "kernelspec": {
   "display_name": "Calysto Scheme 3",
   "language": "scheme",
   "name": "calysto_scheme"
  },
  "language_info": {
   "codemirror_mode": {
    "name": "scheme"
   },
   "mimetype": "text/x-scheme",
   "name": "scheme",
   "pygments_lexer": "scheme"
  }
 },
 "nbformat": 4,
 "nbformat_minor": 5
}
