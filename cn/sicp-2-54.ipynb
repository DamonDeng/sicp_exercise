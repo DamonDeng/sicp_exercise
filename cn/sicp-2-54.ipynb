{
 "cells": [
  {
   "cell_type": "markdown",
   "id": "0454da55",
   "metadata": {},
   "source": [
    "## SICP 习题 （2.54）解题总结：判断list是否相等"
   ]
  },
  {
   "cell_type": "markdown",
   "id": "ae070565",
   "metadata": {},
   "source": [
    "SICP习题2.54要求我们实现自己的(equal?)函数，用于判断两个list是否相等。\n",
    "\n",
    "两个list相等就是两个list的元素相同，而且排列顺序也一样。\n",
    "\n",
    "这个可以通过简单的递归实现，代码如下：\n",
    "\n",
    "另外注意就是系统其实已经实现了(equal?)方法，所以你不实现直接调用也是可以的，SICP的主旨就是元编程，就是让你自己构建自己的语言，所以经常会要求我们实现一个系统已经实现的功能，希望你可以更好地了解一个语言的工作机制。\n",
    "\n",
    "另外的话，做这样的练习做多了就会发现其实lisp语言的基石就是几个基本的函数，car, cdr什么的。"
   ]
  },
  {
   "cell_type": "code",
   "execution_count": 3,
   "id": "eaed2b97",
   "metadata": {},
   "outputs": [],
   "source": [
    "(define (my-equal? first-one second-one)\n",
    "  (if (list? first-one)\n",
    "\t (if (list? second-one) \n",
    "\t\t(if (null? first-one)\n",
    "\t\t    (if (null? second-one)\n",
    "\t\t\t#t\n",
    "\t\t\t#f)\n",
    "\t\t    (if (null? second-one)\n",
    "\t\t\t#f\n",
    "\t\t\t(if (my-equal? (car first-one) (car second-one))\n",
    "\t\t\t    (my-equal? (cdr first-one) (cdr second-one))\n",
    "\t\t\t    #f)))\n",
    "\t\t#f)\n",
    "\t (if (list? second-one)\n",
    "\t     #f\n",
    "\t     (eq? first-one second-one))))"
   ]
  },
  {
   "cell_type": "code",
   "execution_count": 4,
   "id": "19263726",
   "metadata": {},
   "outputs": [
    {
     "data": {
      "text/plain": [
       "#t"
      ]
     },
     "execution_count": 4,
     "metadata": {},
     "output_type": "execute_result"
    }
   ],
   "source": [
    "(my-equal? (list 1 2 3) '(1 2 3))"
   ]
  },
  {
   "cell_type": "code",
   "execution_count": null,
   "id": "4f6a6fa8",
   "metadata": {},
   "outputs": [],
   "source": []
  }
 ],
 "metadata": {
  "kernelspec": {
   "display_name": "Calysto Scheme 3",
   "language": "scheme",
   "name": "calysto_scheme"
  },
  "language_info": {
   "codemirror_mode": {
    "name": "scheme"
   },
   "mimetype": "text/x-scheme",
   "name": "scheme",
   "pygments_lexer": "scheme"
  }
 },
 "nbformat": 4,
 "nbformat_minor": 5
}
