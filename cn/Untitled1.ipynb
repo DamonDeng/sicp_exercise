{
 "cells": [
  {
   "cell_type": "code",
   "execution_count": 1,
   "id": "e9bd53ab",
   "metadata": {},
   "outputs": [],
   "source": [
    "import json"
   ]
  },
  {
   "cell_type": "code",
   "execution_count": 7,
   "id": "0e0cffed",
   "metadata": {},
   "outputs": [
    {
     "data": {
      "text/plain": [
       "[123, 456]"
      ]
     },
     "execution_count": 7,
     "metadata": {},
     "output_type": "execute_result"
    }
   ],
   "source": [
    "json.loads('[123,456]')"
   ]
  },
  {
   "cell_type": "code",
   "execution_count": 8,
   "id": "41ff83db",
   "metadata": {},
   "outputs": [],
   "source": [
    "a = dict()"
   ]
  },
  {
   "cell_type": "code",
   "execution_count": 9,
   "id": "d49247ae",
   "metadata": {},
   "outputs": [],
   "source": [
    "a['par'] = 2\n",
    "a['cat'] = 3"
   ]
  },
  {
   "cell_type": "code",
   "execution_count": 10,
   "id": "8c9e0036",
   "metadata": {},
   "outputs": [
    {
     "data": {
      "text/plain": [
       "{'par': 2, 'cat': 3}"
      ]
     },
     "execution_count": 10,
     "metadata": {},
     "output_type": "execute_result"
    }
   ],
   "source": [
    "a"
   ]
  },
  {
   "cell_type": "code",
   "execution_count": 15,
   "id": "82ed5e66",
   "metadata": {},
   "outputs": [
    {
     "data": {
      "text/plain": [
       "{'par': 2, 'cat': 3}"
      ]
     },
     "execution_count": 15,
     "metadata": {},
     "output_type": "execute_result"
    }
   ],
   "source": [
    "json.loads(\"{\\\"par\\\": 2, \\\"cat\\\": 3}\")"
   ]
  },
  {
   "cell_type": "code",
   "execution_count": null,
   "id": "e33422b9",
   "metadata": {},
   "outputs": [],
   "source": []
  },
  {
   "cell_type": "code",
   "execution_count": 1,
   "id": "f648d8e6",
   "metadata": {},
   "outputs": [],
   "source": [
    "import os"
   ]
  },
  {
   "cell_type": "code",
   "execution_count": 2,
   "id": "37241b57",
   "metadata": {},
   "outputs": [],
   "source": [
    "target_dir = './'"
   ]
  },
  {
   "cell_type": "code",
   "execution_count": 25,
   "id": "d7699d65",
   "metadata": {},
   "outputs": [],
   "source": [
    "all_file_name = list()\n",
    "\n",
    "for root, dirs, files in os.walk(target_dir):\n",
    "\n",
    "        # root 表示当前正在访问的文件夹路径\n",
    "        # dirs 表示该文件夹下的子目录名list\n",
    "        # files 表示该文件夹下的文件list\n",
    "\n",
    "        # 遍历文件\n",
    "        for f in files:\n",
    "            all_file_name.append(os.path.join(root, f))"
   ]
  },
  {
   "cell_type": "code",
   "execution_count": 26,
   "id": "c982b307",
   "metadata": {},
   "outputs": [
    {
     "name": "stdout",
     "output_type": "stream",
     "text": [
      "./sicp-5-01 copy.ipynb\n"
     ]
    }
   ],
   "source": [
    "original_name = list()\n",
    "new_name = list()\n",
    "\n",
    "for file_name in all_file_name:\n",
    "    if (file_name.startswith('./sicp-5')):\n",
    "#         print (int(file_name[-8:-6]))\n",
    "        try:\n",
    "            \n",
    "            number_str = ('0' + str(int(file_name[-8:-6])))[-2:]\n",
    "            original_name.append(file_name)\n",
    "            new_name.append('./sicp-5-' + number_str + '.ipynb')\n",
    "        except Exception:\n",
    "            print (file_name)"
   ]
  },
  {
   "cell_type": "code",
   "execution_count": 27,
   "id": "bebe8c96",
   "metadata": {},
   "outputs": [],
   "source": [
    "# new_name"
   ]
  },
  {
   "cell_type": "code",
   "execution_count": 29,
   "id": "6bf08b65",
   "metadata": {},
   "outputs": [],
   "source": [
    "for o_name, n_name in zip (original_name, new_name):\n",
    "    \n",
    "#     print (o_name + \":\" + n_name)\n",
    "    os.rename(o_name,n_name) "
   ]
  },
  {
   "cell_type": "code",
   "execution_count": 17,
   "id": "59dedeac",
   "metadata": {},
   "outputs": [],
   "source": [
    "# os.rename('./Untitled1.ipynb', './newtest.ipynb')"
   ]
  },
  {
   "cell_type": "code",
   "execution_count": 18,
   "id": "4bb2a32e",
   "metadata": {},
   "outputs": [],
   "source": [
    "# os.rename('~/Desktop/workspace/sicp/cn/sicp-2-01 copy 27.ipynb', '~/Desktop/workspace/sicp/cn/sicp-2-27./ipynb')"
   ]
  },
  {
   "cell_type": "code",
   "execution_count": null,
   "id": "0912a751",
   "metadata": {},
   "outputs": [],
   "source": []
  },
  {
   "cell_type": "code",
   "execution_count": 19,
   "id": "a7152b59",
   "metadata": {},
   "outputs": [
    {
     "data": {
      "text/plain": [
       "'./.ipynb_checkpoints/sicp-1-17-checkpoint.ipynb'"
      ]
     },
     "execution_count": 19,
     "metadata": {},
     "output_type": "execute_result"
    }
   ],
   "source": [
    "file_name"
   ]
  },
  {
   "cell_type": "code",
   "execution_count": 10,
   "id": "2bbd9971",
   "metadata": {},
   "outputs": [
    {
     "ename": "ValueError",
     "evalue": "invalid literal for int() with base 10: 'py'",
     "output_type": "error",
     "traceback": [
      "\u001b[0;31m---------------------------------------------------------------------------\u001b[0m",
      "\u001b[0;31mValueError\u001b[0m                                Traceback (most recent call last)",
      "\u001b[0;32m/var/folders/5b/1j9p58n93l7b6wj7szqcyv78nc656r/T/ipykernel_24559/4265572690.py\u001b[0m in \u001b[0;36m<module>\u001b[0;34m\u001b[0m\n\u001b[0;32m----> 1\u001b[0;31m \u001b[0mnumber_str\u001b[0m \u001b[0;34m=\u001b[0m \u001b[0;34m(\u001b[0m\u001b[0;34m'0'\u001b[0m \u001b[0;34m+\u001b[0m \u001b[0mstr\u001b[0m\u001b[0;34m(\u001b[0m\u001b[0mint\u001b[0m\u001b[0;34m(\u001b[0m\u001b[0mfile_name\u001b[0m\u001b[0;34m[\u001b[0m\u001b[0;34m-\u001b[0m\u001b[0;36m8\u001b[0m\u001b[0;34m:\u001b[0m\u001b[0;34m-\u001b[0m\u001b[0;36m6\u001b[0m\u001b[0;34m]\u001b[0m\u001b[0;34m)\u001b[0m\u001b[0;34m)\u001b[0m\u001b[0;34m)\u001b[0m\u001b[0;34m[\u001b[0m\u001b[0;34m-\u001b[0m\u001b[0;36m2\u001b[0m\u001b[0;34m:\u001b[0m\u001b[0;34m]\u001b[0m\u001b[0;34m\u001b[0m\u001b[0;34m\u001b[0m\u001b[0m\n\u001b[0m",
      "\u001b[0;31mValueError\u001b[0m: invalid literal for int() with base 10: 'py'"
     ]
    }
   ],
   "source": [
    "number_str = ('0' + str(int(file_name[-8:-6])))[-2:]"
   ]
  },
  {
   "cell_type": "code",
   "execution_count": null,
   "id": "b58bab18",
   "metadata": {},
   "outputs": [],
   "source": []
  }
 ],
 "metadata": {
  "kernelspec": {
   "display_name": "pytorch_dev",
   "language": "python",
   "name": "pytorch_dev"
  },
  "language_info": {
   "codemirror_mode": {
    "name": "ipython",
    "version": 3
   },
   "file_extension": ".py",
   "mimetype": "text/x-python",
   "name": "python",
   "nbconvert_exporter": "python",
   "pygments_lexer": "ipython3",
   "version": "3.8.10"
  }
 },
 "nbformat": 4,
 "nbformat_minor": 5
}
