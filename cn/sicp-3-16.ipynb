{
 "cells": [
  {
   "cell_type": "markdown",
   "id": "079f4e51",
   "metadata": {},
   "source": [
    "## SICP 习题 （3.16）解题总结: 序对的统计"
   ]
  },
  {
   "cell_type": "markdown",
   "id": "312abb9b",
   "metadata": {},
   "source": [
    "SICP 习题 3.16 通过一个错误的序对统计函数讲解car, cdr的具体工作方式。\n",
    "\n",
    "我们在完成SICP习题的时候要时刻留意题目的真正目的。像这道题，目的根本就不是为了计算序对的个数，而是了解序对的工作机制，car,cdr的作用，还有因为set-car! set-cdr!可能导致的复杂情况，如环链。\n",
    "\n",
    "开始细看题目之前稍微重温一下序对的概念，序对就是通过cons创建出来的形如(a . b)的东西，一个列表看起来是(1 2 3)这个样子的，其实它在本质上是(1 . (2 . (3 . ())))。\n",
    "\n",
    "题目说Ben Bitdiddle决定写一个统计序对的函数，代码如下："
   ]
  },
  {
   "cell_type": "code",
   "execution_count": 9,
   "id": "51239efd",
   "metadata": {},
   "outputs": [],
   "source": [
    "(define (count-pairs x)\n",
    "  (if (not (pair? x))\n",
    "      0\n",
    "      (+ (count-pairs (car x))\n",
    "         (count-pairs (cdr x))\n",
    "         1)))"
   ]
  },
  {
   "cell_type": "markdown",
   "id": "bd1330df",
   "metadata": {},
   "source": [
    "代码的逻辑初看是没有问题的，我们可以把一个列表当一颗树来看待，分别看看左树有多少个元素，右树有多少个元素，再加上当前这个元素，就是整个列表的元素个数。\n",
    "\n",
    "这个代码对普通的列表是没有问题的，测试一下："
   ]
  },
  {
   "cell_type": "code",
   "execution_count": 10,
   "id": "b549a242",
   "metadata": {},
   "outputs": [
    {
     "data": {
      "text/plain": [
       "3"
      ]
     },
     "execution_count": 10,
     "metadata": {},
     "output_type": "execute_result"
    }
   ],
   "source": [
    "(count-pairs '(1 2 3))"
   ]
  },
  {
   "cell_type": "markdown",
   "id": "7a5df368",
   "metadata": {},
   "source": [
    "注意，对下面这种形式的列表，它也是正常工作的，虽然我们看到3个元素，但是事实上里面有4个序对.\n",
    "\n",
    "列表(1 2 (3))在本质上是 (1 . (2 . ((3 . ()) . ())))"
   ]
  },
  {
   "cell_type": "code",
   "execution_count": 20,
   "id": "02bbeecc",
   "metadata": {},
   "outputs": [
    {
     "data": {
      "text/plain": [
       "4"
      ]
     },
     "execution_count": 20,
     "metadata": {},
     "output_type": "execute_result"
    }
   ],
   "source": [
    "(count-pairs '(1 2 (3)))"
   ]
  },
  {
   "cell_type": "markdown",
   "id": "37a29e62",
   "metadata": {},
   "source": [
    "但是，如果列表中有序对指向同一个元素，那么就出问题了，看看下面这个结果："
   ]
  },
  {
   "cell_type": "code",
   "execution_count": 18,
   "id": "9ba0943a",
   "metadata": {},
   "outputs": [],
   "source": [
    "(define leaf (cons 1 2))\n",
    "(define to-same-leaf (cons leaf leaf))\n",
    "(define test-sample (cons to-same-leaf 3))"
   ]
  },
  {
   "cell_type": "code",
   "execution_count": 19,
   "id": "9a650ee1",
   "metadata": {},
   "outputs": [
    {
     "data": {
      "text/plain": [
       "4"
      ]
     },
     "execution_count": 19,
     "metadata": {},
     "output_type": "execute_result"
    }
   ],
   "source": [
    "(count-pairs test-sample)"
   ]
  },
  {
   "cell_type": "markdown",
   "id": "8d4e3937",
   "metadata": {},
   "source": [
    "为什么会返回4呢，因为to-same-leaf的car和cdr同时指向了leaf，Ben设计的代码会重复计算leaf这个序对\n",
    "\n",
    "\n",
    "按这个逻辑，我们还可以通过下面的代码统计出5个元素来："
   ]
  },
  {
   "cell_type": "code",
   "execution_count": 23,
   "id": "5a548450",
   "metadata": {},
   "outputs": [
    {
     "data": {
      "text/plain": [
       "5"
      ]
     },
     "execution_count": 23,
     "metadata": {},
     "output_type": "execute_result"
    }
   ],
   "source": [
    "(define leaf (cons 1 2))\n",
    "(define to-same-leaf (cons leaf leaf))\n",
    "(define test-sample (cons to-same-leaf leaf))\n",
    "(count-pairs test-sample)"
   ]
  },
  {
   "cell_type": "markdown",
   "id": "e02070bb",
   "metadata": {},
   "source": [
    "题目还要求我们找出样例是可以算出7个的，如果理解了Ben的函数的问题所在，就知道我们需要尽可能地重复指向相同的元素，可以是这样："
   ]
  },
  {
   "cell_type": "code",
   "execution_count": 25,
   "id": "c7fb3ae5",
   "metadata": {},
   "outputs": [
    {
     "data": {
      "text/plain": [
       "7"
      ]
     },
     "execution_count": 25,
     "metadata": {},
     "output_type": "execute_result"
    }
   ],
   "source": [
    "(define leaf (cons 1 2))\n",
    "(define to-same-leaf (cons leaf leaf))\n",
    "(define test-sample (cons to-same-leaf to-same-leaf))\n",
    "(count-pairs test-sample)"
   ]
  },
  {
   "cell_type": "markdown",
   "id": "aabbb4be",
   "metadata": {},
   "source": [
    "题目还提示说不定Ben这个函数不会返回，什么情况下不会返回呢？前面练习里提到的那种环链就不会返回，可以统计出无限个序对出来。。。。。"
   ]
  },
  {
   "cell_type": "code",
   "execution_count": null,
   "id": "d57f8e2c",
   "metadata": {},
   "outputs": [],
   "source": []
  }
 ],
 "metadata": {
  "kernelspec": {
   "display_name": "Calysto Scheme 3",
   "language": "scheme",
   "name": "calysto_scheme"
  },
  "language_info": {
   "codemirror_mode": {
    "name": "scheme"
   },
   "mimetype": "text/x-scheme",
   "name": "scheme",
   "pygments_lexer": "scheme"
  }
 },
 "nbformat": 4,
 "nbformat_minor": 5
}
