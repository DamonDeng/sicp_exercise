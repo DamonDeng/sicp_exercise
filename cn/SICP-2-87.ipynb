{
 "cells": [
  {
   "cell_type": "code",
   "execution_count": 1,
   "id": "dfb12e2b",
   "metadata": {},
   "outputs": [],
   "source": [
    "(define (add-poly p1 p2)\n",
    "  (if (same-variable? (variable p1) (variable p2))\n",
    "      (make-poly (variable p1)\n",
    "                 (add-terms (term-list p1)\n",
    "                            (term-list p2)))\n",
    "      (error \"Polys not in same var -- ADD-POLY\"\n",
    "             (list p1 p2))))\n",
    "\n",
    "(define (mul-poly p1 p2)\n",
    "  (if (same-variable? (variable p1) (variable p2))\n",
    "      (make-poly (variable p1)\n",
    "                 (mul-terms (term-list p1)\n",
    "                            (term-list p2)))\n",
    "      (error \"Polys not in the same var -- MUL-POLY\"\n",
    "             (list p1 p2))))\n",
    "\n"
   ]
  },
  {
   "cell_type": "code",
   "execution_count": 4,
   "id": "ca139cd0",
   "metadata": {},
   "outputs": [],
   "source": [
    ";; (define (install-polynomial-package)\n",
    ";;   (define (make-poly variable term-list)\n",
    ";;     (cons variable term-list))\n",
    ";;   (define (variable p) (car p))\n",
    ";;   (define (term-list p) (cdr p))\n",
    "\n",
    ";; (define (taq p) (attach-tag 'polynomial p))\n",
    "\n",
    ";; (put 'add '(polynomial polynomial)\n",
    ";;      (lambda (p1 p2) (tag (add-poly p1 p2))))\n",
    "\n",
    ";; (put 'mul '(polynomial polynomial)\n",
    ";;      (lambda (p1 p2) (tag (mul-poly p1 p2))))\n",
    "\n",
    ";; (put 'make 'polynomial\n",
    ";;      (lambda (var terms) (tag (make-poly var terms))))\n",
    "\n",
    ";; 'done)\n"
   ]
  },
  {
   "cell_type": "code",
   "execution_count": 5,
   "id": "8d244f53",
   "metadata": {},
   "outputs": [],
   "source": [
    "(define (add-terms L1 L2)\n",
    "  (cond ((empty-termlist? L1) L2)\n",
    "        ((empty-termlist? L2) L1)\n",
    "        (else\n",
    "         (let ((t1 (first-term L1)) (t2 (first-term L2)))\n",
    "           (cond ((> (order t1) (order t2))\n",
    "                  (adjoin-term\n",
    "                   t1 (add-terms (rest-terms L1) L2)))\n",
    "                 ((< (order t1) (order t2))\n",
    "                  (adjoin-term\n",
    "                   t2 (add-terms L1 (rest-terms L2))))\n",
    "                 (else\n",
    "                  (adjoin-term\n",
    "                   (make-term (order t1)\n",
    "                              (add (coeff t1) (coeff t2)))\n",
    "                   (add-terms (rest-terms L1)\n",
    "                              (rest-terms L2)))))))))"
   ]
  },
  {
   "cell_type": "code",
   "execution_count": 6,
   "id": "175ddcd9",
   "metadata": {},
   "outputs": [],
   "source": [
    "(define (mul-terms L1 L2)\n",
    "  (if (empty-termlist? L1)\n",
    "      (the-empty-termlist)\n",
    "      (add-terms (mul-term-by-all-terms (first-term L1) L2)\n",
    "                 (mul-terms (rest-terms L1) L2))))"
   ]
  },
  {
   "cell_type": "code",
   "execution_count": 7,
   "id": "b788fcc3",
   "metadata": {},
   "outputs": [],
   "source": [
    "(define (mul-term-by-all-terms t1 L)\n",
    "  (if (empty-termlist? L)\n",
    "      (the-empty-termlist)\n",
    "      (let ((t2 (first-term L)))\n",
    "        (adjoin-term\n",
    "         (make-term (+ (order t1) (order t2))\n",
    "                    (mul (coeff t1) (coeff t2)))\n",
    "         (mul-term-by-all-terms t1 (rest-terms L))))))"
   ]
  },
  {
   "cell_type": "code",
   "execution_count": 8,
   "id": "57ee931f",
   "metadata": {},
   "outputs": [],
   "source": [
    "(define (adjoin-term term term-list)\n",
    "  (if (=zero? (coeff term))\n",
    "      term-list\n",
    "      (cons term term-list)))\n",
    "\n",
    "(define (the-empty-termlist) '())\n",
    "(define (first-term term-list) (car term-list))\n",
    "(define (rest-terms term-list) (cdr term-list))\n",
    "(define (empty-termlist? term-list) (null? term-list))\n",
    "\n",
    "(define (make-term order coeff) (list order coeff))\n",
    "(define (order term) (car term))\n",
    "(define (coeff term) (cadr term))"
   ]
  },
  {
   "cell_type": "code",
   "execution_count": 9,
   "id": "0f24d6d3",
   "metadata": {},
   "outputs": [],
   "source": [
    "(define (make-polynomial var terms)\n",
    "  ((get 'make 'polynomial) var terms))"
   ]
  },
  {
   "cell_type": "code",
   "execution_count": 10,
   "id": "492b43eb",
   "metadata": {},
   "outputs": [],
   "source": [
    "(define (div-terms L1 L2)\n",
    "  (if (empty-termlist? L1)\n",
    "      (list (the-empty-termlist) (the-empty-termlist))\n",
    "      (let ((t1 (first-term L1))\n",
    "            (t2 (first-term L2)))\n",
    "        (if (> (order t2) (order t1))\n",
    "            (list (the-empty-termlist) L1)\n",
    "            (let ((new-c (div (coeff t1) (coeff t2)))\n",
    "                  (new-o (- (order t1) (order t2))))\n",
    "              (let ((rest-of-result\n",
    "                     <input code here>\n",
    "                     ))\n",
    "                <other part>\n",
    "                ))))))"
   ]
  },
  {
   "cell_type": "code",
   "execution_count": null,
   "id": "3c0b811c",
   "metadata": {},
   "outputs": [],
   "source": []
  }
 ],
 "metadata": {
  "kernelspec": {
   "display_name": "Calysto Scheme 3",
   "language": "scheme",
   "name": "calysto_scheme"
  },
  "language_info": {
   "codemirror_mode": {
    "name": "scheme"
   },
   "mimetype": "text/x-scheme",
   "name": "scheme",
   "pygments_lexer": "scheme"
  }
 },
 "nbformat": 4,
 "nbformat_minor": 5
}
