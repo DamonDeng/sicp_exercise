{
 "cells": [
  {
   "cell_type": "markdown",
   "id": "0454da55",
   "metadata": {},
   "source": [
    "## SICP 习题 （2.40）解题总结：unique-pairs"
   ]
  },
  {
   "cell_type": "markdown",
   "id": "e20578cc",
   "metadata": {},
   "source": [
    "SICP习题2.40要求我们实现一个叫unique-pairs的函数，用于生成小于等于n的所有整数组合。\n",
    "\n",
    "然后题目要求我们使用(unique-pairs)函数去简化书中提到的(prime-sum-pairs)函数"
   ]
  },
  {
   "cell_type": "markdown",
   "id": "e5ce7f78",
   "metadata": {},
   "source": [
    "首先我们需要面对的是如何生成小于等于某一数的所有数字的序列，书中提到了(enumerate-interval)函数，函数定义如下："
   ]
  },
  {
   "cell_type": "code",
   "execution_count": 1,
   "id": "030ecdc4",
   "metadata": {},
   "outputs": [],
   "source": [
    "(define (enumerate-interval low high) \n",
    "   (if (> low high) \n",
    "       '()\n",
    "       (cons low (enumerate-interval (+ low 1) high)))) "
   ]
  },
  {
   "cell_type": "markdown",
   "id": "6b4c63c0",
   "metadata": {},
   "source": [
    "像下面这样的调用就可以生成0到10的序列"
   ]
  },
  {
   "cell_type": "code",
   "execution_count": 2,
   "id": "2dec2f45",
   "metadata": {},
   "outputs": [
    {
     "data": {
      "text/plain": [
       "(0 1 2 3 4 5 6 7 8 9 10)"
      ]
     },
     "execution_count": 2,
     "metadata": {},
     "output_type": "execute_result"
    }
   ],
   "source": [
    "(enumerate-interval 0 10)"
   ]
  },
  {
   "cell_type": "markdown",
   "id": "ecd47024",
   "metadata": {},
   "source": [
    "接着可以通过以下的(map)函数生成i和比i小的数的所有序对："
   ]
  },
  {
   "cell_type": "code",
   "execution_count": 3,
   "id": "12de8705",
   "metadata": {},
   "outputs": [
    {
     "data": {
      "text/plain": [
       "((10 1) (10 2) (10 3) (10 4) (10 5) (10 6) (10 7) (10 8) (10 9))"
      ]
     },
     "execution_count": 3,
     "metadata": {},
     "output_type": "execute_result"
    }
   ],
   "source": [
    "(define i 10)\n",
    "(map\n",
    "  (lambda (j) \n",
    "    (list i j))\n",
    "  (enumerate-interval 1 (- i 1)))"
   ]
  },
  {
   "cell_type": "markdown",
   "id": "60c53225",
   "metadata": {},
   "source": [
    "在外面再套一层map函数就可以生成比n小的所有序对了："
   ]
  },
  {
   "cell_type": "code",
   "execution_count": 4,
   "id": "efbbb88f",
   "metadata": {},
   "outputs": [
    {
     "data": {
      "text/plain": [
       "(() ((2 1)) ((3 1) (3 2)) ((4 1) (4 2) (4 3)) ((5 1) (5 2) (5 3) (5 4)) ((6 1) (6 2) (6 3) (6 4) (6 5)) ((7 1) (7 2) (7 3) (7 4) (7 5) (7 6)) ((8 1) (8 2) (8 3) (8 4) (8 5) (8 6) (8 7)) ((9 1) (9 2) (9 3) (9 4) (9 5) (9 6) (9 7) (9 8)) ((10 1) (10 2) (10 3) (10 4) (10 5) (10 6) (10 7) (10 8) (10 9)))"
      ]
     },
     "execution_count": 4,
     "metadata": {},
     "output_type": "execute_result"
    }
   ],
   "source": [
    "(define n 10)\n",
    "(map (lambda (i) \n",
    "\t (map\n",
    "\t  (lambda (j) \n",
    "\t    (list i j))\n",
    "\t  (enumerate-interval 1 (- i 1))))\n",
    "       (enumerate-interval 1 n))"
   ]
  },
  {
   "cell_type": "markdown",
   "id": "1a51fd35",
   "metadata": {},
   "source": [
    "这个差不多已经是题目要求的结果了，就是格式不太对。\n",
    "\n",
    "题目要求我们把生成的序对放在一个序列里，我们这里生成的是嵌套的序列。\n",
    "\n",
    "通过accumulate把他们串起来就好了："
   ]
  },
  {
   "cell_type": "code",
   "execution_count": 5,
   "id": "83d09b42",
   "metadata": {},
   "outputs": [],
   "source": [
    "(define (accumulate op initial sequence)\n",
    "  (if (null? sequence)\n",
    "      initial\n",
    "      (op (car sequence)\n",
    "\t  (accumulate op initial (cdr sequence)))))\n",
    "\n"
   ]
  },
  {
   "cell_type": "code",
   "execution_count": 6,
   "id": "49294678",
   "metadata": {},
   "outputs": [],
   "source": [
    "(define (unique-pairs n)\n",
    "  (accumulate append '() (map (lambda (i) \n",
    "\t (map\n",
    "\t  (lambda (j) \n",
    "\t    (list i j))\n",
    "\t  (enumerate-interval 1 (- i 1))))\n",
    "       (enumerate-interval 1 n))))"
   ]
  },
  {
   "cell_type": "code",
   "execution_count": 7,
   "id": "00c412b2",
   "metadata": {},
   "outputs": [
    {
     "data": {
      "text/plain": [
       "((2 1) (3 1) (3 2) (4 1) (4 2) (4 3) (5 1) (5 2) (5 3) (5 4) (6 1) (6 2) (6 3) (6 4) (6 5) (7 1) (7 2) (7 3) (7 4) (7 5) (7 6) (8 1) (8 2) (8 3) (8 4) (8 5) (8 6) (8 7) (9 1) (9 2) (9 3) (9 4) (9 5) (9 6) (9 7) (9 8) (10 1) (10 2) (10 3) (10 4) (10 5) (10 6) (10 7) (10 8) (10 9))"
      ]
     },
     "execution_count": 7,
     "metadata": {},
     "output_type": "execute_result"
    }
   ],
   "source": [
    "(unique-pairs 10)"
   ]
  },
  {
   "cell_type": "markdown",
   "id": "7af5c437",
   "metadata": {},
   "source": [
    "然后就是去简化(prime-sum-pairs)函数， 先看看检查一个序对和是不是质数的方法：\n",
    "\n",
    "先拷贝之前的检查质数的prime?函数："
   ]
  },
  {
   "cell_type": "code",
   "execution_count": 8,
   "id": "b2d1f06a",
   "metadata": {},
   "outputs": [],
   "source": [
    "\n",
    "(define (smallest-divisor n)\n",
    "  (find-divisor n 2))\n",
    "\n",
    "(define (find-divisor n test-divisor)\n",
    "  (cond ((> (square test-divisor) n) n)\n",
    "\t((divides? test-divisor n) test-divisor)\n",
    "\t(else (find-divisor n (+ test-divisor 1)))))\n",
    "\n",
    "(define (divides? a b)\n",
    "  (= (remainder b a) 0))\n",
    "\n",
    "(define (square x)\n",
    "  (* x x))\n",
    "\n",
    "(define (prime? n)\n",
    "  (= n (smallest-divisor n)))"
   ]
  },
  {
   "cell_type": "markdown",
   "id": "201a6957",
   "metadata": {},
   "source": [
    "检查序对和是不是质数的方法定义如下："
   ]
  },
  {
   "cell_type": "code",
   "execution_count": 9,
   "id": "1e0cceb0",
   "metadata": {},
   "outputs": [],
   "source": [
    "(define (prime-sum? pair)\n",
    "  (prime? (+ (car pair) (cadr pair))))"
   ]
  },
  {
   "cell_type": "markdown",
   "id": "f2058500",
   "metadata": {},
   "source": [
    "通过map调用prime-sum?就可以计算哪组序对满足条件了："
   ]
  },
  {
   "cell_type": "code",
   "execution_count": 10,
   "id": "5d18106e",
   "metadata": {},
   "outputs": [
    {
     "data": {
      "text/plain": [
       "(#t #f #t #t #f #t #f #t #f #f #t #f #f #f #t #f #f #f #t #f #t #f #f #t #f #t #f #f #f #t #f #t #f #f #f #t #t #f #t #f #f #f #t #f #t)"
      ]
     },
     "execution_count": 10,
     "metadata": {},
     "output_type": "execute_result"
    }
   ],
   "source": [
    "(map prime-sum? (unique-pairs 10))"
   ]
  },
  {
   "cell_type": "markdown",
   "id": "e57400a3",
   "metadata": {},
   "source": [
    "接着想用系统的filter函数来直接过滤出来，后来发现 Calysto Scheme的filter实现有点奇怪，老是报错，于是就自己实现了一遍："
   ]
  },
  {
   "cell_type": "code",
   "execution_count": 11,
   "id": "aa6e7cfb",
   "metadata": {},
   "outputs": [],
   "source": [
    "(define (filter function input-list)\n",
    "  (if (pair? input-list)\n",
    "      (if (function (car input-list))\n",
    "          (cons (car input-list) (filter function (cdr input-list)))\n",
    "          (filter function (cdr input-list)))\n",
    "      ()\n",
    "      ))"
   ]
  },
  {
   "cell_type": "markdown",
   "id": "2aa9844a",
   "metadata": {},
   "source": [
    "效果如下："
   ]
  },
  {
   "cell_type": "code",
   "execution_count": 12,
   "id": "cc3773f7",
   "metadata": {
    "scrolled": false
   },
   "outputs": [
    {
     "data": {
      "text/plain": [
       "((2 1) (3 2) (4 1) (4 3) (5 2) (6 1) (6 5) (7 4) (7 6) (8 3) (8 5) (9 2) (9 4) (9 8) (10 1) (10 3) (10 7) (10 9))"
      ]
     },
     "execution_count": 12,
     "metadata": {},
     "output_type": "execute_result"
    }
   ],
   "source": [
    "(filter  prime-sum? (unique-pairs n))"
   ]
  },
  {
   "cell_type": "markdown",
   "id": "ba78522d",
   "metadata": {},
   "source": [
    "最后就是按(prime-sum-paris)的要求把序对的和也算出来放进序列里，定义成函数如下："
   ]
  },
  {
   "cell_type": "code",
   "execution_count": 13,
   "id": "108cda9b",
   "metadata": {},
   "outputs": [],
   "source": [
    "(define (prime-sum-pairs n)\n",
    "  (map (lambda (pair-sum)\n",
    "\t (append pair-sum (list (+ (car pair-sum) (cadr pair-sum)))))\n",
    "\n",
    "   (filter  (lambda (pair) \n",
    "\t      (prime-sum? pair)) (unique-pairs n))))"
   ]
  },
  {
   "cell_type": "markdown",
   "id": "80467d5f",
   "metadata": {},
   "source": [
    "执行效果如下："
   ]
  },
  {
   "cell_type": "code",
   "execution_count": 18,
   "id": "1dd3e989",
   "metadata": {
    "scrolled": true
   },
   "outputs": [
    {
     "data": {
      "text/plain": [
       "((2 1 3) (3 2 5) (4 1 5) (4 3 7) (5 2 7) (6 1 7) (6 5 11) (7 4 11) (7 6 13) (8 3 11) (8 5 13) (9 2 11) (9 4 13) (9 8 17) (10 1 11) (10 3 13) (10 7 17) (10 9 19))"
      ]
     },
     "execution_count": 18,
     "metadata": {},
     "output_type": "execute_result"
    }
   ],
   "source": [
    "(prime-sum-pairs 10)"
   ]
  },
  {
   "cell_type": "code",
   "execution_count": null,
   "id": "216787e6",
   "metadata": {},
   "outputs": [],
   "source": [
    "\n",
    "\n",
    "\n",
    "\n",
    "\n"
   ]
  },
  {
   "cell_type": "code",
   "execution_count": null,
   "id": "8354d719",
   "metadata": {},
   "outputs": [],
   "source": []
  }
 ],
 "metadata": {
  "kernelspec": {
   "display_name": "Calysto Scheme 3",
   "language": "scheme",
   "name": "calysto_scheme"
  },
  "language_info": {
   "codemirror_mode": {
    "name": "scheme"
   },
   "mimetype": "text/x-scheme",
   "name": "scheme",
   "pygments_lexer": "scheme"
  }
 },
 "nbformat": 4,
 "nbformat_minor": 5
}
