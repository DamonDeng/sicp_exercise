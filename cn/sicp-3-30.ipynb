{
 "cells": [
  {
   "cell_type": "markdown",
   "id": "079f4e51",
   "metadata": {},
   "source": [
    "## SICP 习题 （3.30）解题总结: 半加器和全加器"
   ]
  },
  {
   "cell_type": "markdown",
   "id": "5ec1a5b0",
   "metadata": {},
   "source": [
    "SICP 习题 3.30 让我们用3.28构建的逻辑门去定义半加器和全加器。\n",
    "\n",
    "这里面的主要难点是对半加器和全加器的认识，属于逻辑电路课程中靠中间的内容。这里因为篇幅的原因就不展开描述了，这里倒是有个学习逻辑电路的建议：就是通过沙盒游戏《我的世界》去构建逻辑电路。\n",
    "\n",
    "在《我的世界》的游戏里有个特殊的方块叫红石方块，可以当电线用，而且在《我的世界》里还可以通过岩石方块构建非门，与门，或门。\n",
    "\n",
    "通过以上组件就可以在一个沙盒游戏里尝试各种逻辑电路了，当然也包括半加器和全加器。\n",
    "\n"
   ]
  },
  {
   "cell_type": "markdown",
   "id": "2109da45",
   "metadata": {},
   "source": [
    "以下是从3.28里拷贝过来的代码，包括一些解释，就原封不动放这里了。\n",
    "\n",
    "在这些代码的后面是关于半加器和全加器的实现\n"
   ]
  },
  {
   "cell_type": "markdown",
   "id": "5d4b5d48",
   "metadata": {},
   "source": [
    "首先是关于wire的函数，主要是用于建立连接，或者是一个“引脚”，可以往一个“引脚”发送信号，也可以获取里面的信号："
   ]
  },
  {
   "cell_type": "code",
   "execution_count": 1,
   "id": "fa623708",
   "metadata": {},
   "outputs": [],
   "source": [
    "(define (make-wire)\n",
    "  (let ((signal-value 0) (action-procedures '()))\n",
    "    (define (set-my-signal! new-value)\n",
    "      (if (not (= signal-value new-value))\n",
    "\t  (begin (set! signal-value new-value)\n",
    "\t\t (call-each action-procedures))\n",
    "\t  'done))\n",
    "    (define (accept-action-procedure! proc)\n",
    "      (set! action-procedures (cons proc action-procedures))\n",
    "      (proc))\n",
    "\n",
    "    (define (dispatch m)\n",
    "      (cond ((eq? m 'get-signal) signal-value)\n",
    "\t    ((eq? m 'set-signal!) set-my-signal!)\n",
    "\t    ((eq? m 'add-action!) accept-action-procedure!)\n",
    "\t    (else (error \"Unknown operation --WIRE\" m))))\n",
    "    dispatch))"
   ]
  },
  {
   "cell_type": "code",
   "execution_count": 2,
   "id": "87b8e220",
   "metadata": {},
   "outputs": [],
   "source": [
    "(define (get-signal wire)\n",
    "  (wire 'get-signal))\n",
    "\n",
    "(define (set-signal! wire new-value)\n",
    "  ((wire 'set-signal!) new-value))\n",
    "\n"
   ]
  },
  {
   "cell_type": "code",
   "execution_count": 3,
   "id": "2dac50dd",
   "metadata": {},
   "outputs": [],
   "source": [
    "\n",
    "(define (call-each procedures)\n",
    "  (if (null? procedures)\n",
    "      'done\n",
    "      (begin\n",
    "\t((car procedures))\n",
    "\t(call-each (cdr procedures)))))\n"
   ]
  },
  {
   "cell_type": "markdown",
   "id": "6eb9a668",
   "metadata": {},
   "source": [
    "以上定义了连线函数，或者说“引脚”函数，下面测试一下，先建立一个“引脚”，然后给它发射信号，然后获取里面的信号："
   ]
  },
  {
   "cell_type": "code",
   "execution_count": 4,
   "id": "f13135b3",
   "metadata": {},
   "outputs": [],
   "source": [
    "(define testing-wire (make-wire))"
   ]
  },
  {
   "cell_type": "code",
   "execution_count": 5,
   "id": "121c8c35",
   "metadata": {},
   "outputs": [
    {
     "data": {
      "text/plain": [
       "0"
      ]
     },
     "execution_count": 5,
     "metadata": {},
     "output_type": "execute_result"
    }
   ],
   "source": [
    "(get-signal testing-wire)"
   ]
  },
  {
   "cell_type": "code",
   "execution_count": 6,
   "id": "26c6a729",
   "metadata": {},
   "outputs": [
    {
     "data": {
      "text/plain": [
       "done"
      ]
     },
     "execution_count": 6,
     "metadata": {},
     "output_type": "execute_result"
    }
   ],
   "source": [
    "(set-signal! testing-wire 1)"
   ]
  },
  {
   "cell_type": "code",
   "execution_count": 7,
   "id": "acc61d74",
   "metadata": {},
   "outputs": [
    {
     "data": {
      "text/plain": [
       "1"
      ]
     },
     "execution_count": 7,
     "metadata": {},
     "output_type": "execute_result"
    }
   ],
   "source": [
    "(get-signal testing-wire)"
   ]
  },
  {
   "cell_type": "markdown",
   "id": "7f77a0cd",
   "metadata": {},
   "source": [
    "然后我们定义两个“引脚”，是给一个inverter用的，inverter就是非门，输入1就会出0，输入0就出1.\n",
    "\n",
    "下面两个引脚分别是inverter的输入和输出："
   ]
  },
  {
   "cell_type": "code",
   "execution_count": 8,
   "id": "eaf12e55",
   "metadata": {},
   "outputs": [],
   "source": [
    "  (define inverter-input (make-wire))\n",
    "  (define inverter-output (make-wire))"
   ]
  },
  {
   "cell_type": "code",
   "execution_count": 9,
   "id": "7c31de3d",
   "metadata": {},
   "outputs": [
    {
     "data": {
      "text/plain": [
       "0"
      ]
     },
     "execution_count": 9,
     "metadata": {},
     "output_type": "execute_result"
    }
   ],
   "source": [
    "(get-signal inverter-input)"
   ]
  },
  {
   "cell_type": "code",
   "execution_count": 10,
   "id": "0905fecf",
   "metadata": {},
   "outputs": [
    {
     "data": {
      "text/plain": [
       "0"
      ]
     },
     "execution_count": 10,
     "metadata": {},
     "output_type": "execute_result"
    }
   ],
   "source": [
    "(get-signal inverter-output)"
   ]
  },
  {
   "cell_type": "markdown",
   "id": "ad9905ee",
   "metadata": {},
   "source": [
    "然后我们定义一个inverter函数，这个函数把input和output连接起来，里面定义了一个invert-input的内部函数，专门对输入进行转换，转换用的函数是(logical-not):"
   ]
  },
  {
   "cell_type": "code",
   "execution_count": 11,
   "id": "15a0a05f",
   "metadata": {},
   "outputs": [],
   "source": [
    "(define (inverter input output)\n",
    "  (define (invert-input)\n",
    "    (let ((new-value (logical-not (get-signal input))))\n",
    "      (after-delay inverter-delay\n",
    "\t\t   (lambda ()\n",
    "\t\t     (set-signal! output new-value)))))\n",
    "  (add-action! input invert-input)\n",
    "  'ok)\n",
    "\n",
    "(define (logical-not s)\n",
    "  (cond ((= s 0 ) 1)\n",
    "\t((= s 1) 0)\n",
    "\t(else (error \"Invalid signal\" s))))"
   ]
  },
  {
   "cell_type": "markdown",
   "id": "a778d710",
   "metadata": {},
   "source": [
    "然后定义add-action!函数把一个动作绑定到“引脚”上："
   ]
  },
  {
   "cell_type": "code",
   "execution_count": 12,
   "id": "eb9f0066",
   "metadata": {},
   "outputs": [],
   "source": [
    "(define (add-action! wire action-procedure)\n",
    "  ((wire 'add-action!) action-procedure))\n"
   ]
  },
  {
   "cell_type": "markdown",
   "id": "f597f022",
   "metadata": {},
   "source": [
    "定义inverter操作的整体时延，这个非常重要，对于后续复杂线路的同步计算起到关键作用："
   ]
  },
  {
   "cell_type": "code",
   "execution_count": 13,
   "id": "074b1226",
   "metadata": {},
   "outputs": [],
   "source": [
    "(define inverter-delay 2)"
   ]
  },
  {
   "cell_type": "markdown",
   "id": "b59c5ecb",
   "metadata": {},
   "source": [
    "还有一个在指定“时间”后执行动作的函数。这里的“时间”线是通过一个列表来表示，(add-to-agenda!)函数会根据时延参数delay计算出具体要执行操作的时间点，然后挂载到agenda上："
   ]
  },
  {
   "cell_type": "code",
   "execution_count": 14,
   "id": "752f05b2",
   "metadata": {},
   "outputs": [],
   "source": [
    "(define (after-delay delay action)\n",
    "  (add-to-agenda! (+ delay (current-time the-agenda))\n",
    "\t\t  action\n",
    "\t\t  the-agenda))"
   ]
  },
  {
   "cell_type": "markdown",
   "id": "a80017e2",
   "metadata": {},
   "source": [
    "创建一个空的agenda"
   ]
  },
  {
   "cell_type": "code",
   "execution_count": 15,
   "id": "c2e77e9d",
   "metadata": {},
   "outputs": [],
   "source": [
    "(define (make-agenda) (list 0))"
   ]
  },
  {
   "cell_type": "code",
   "execution_count": 16,
   "id": "40f520c5",
   "metadata": {},
   "outputs": [],
   "source": [
    "(define the-agenda (make-agenda))"
   ]
  },
  {
   "cell_type": "markdown",
   "id": "d2d13435",
   "metadata": {},
   "source": [
    "创建获取“当前时间”的函数，这里的“当前时间”是指在calendar列表里现在执行到那个“时间点”了："
   ]
  },
  {
   "cell_type": "code",
   "execution_count": 17,
   "id": "8c81dfe8",
   "metadata": {},
   "outputs": [],
   "source": [
    "(define (current-time agenda) (car agenda))"
   ]
  },
  {
   "cell_type": "markdown",
   "id": "90dd29ca",
   "metadata": {},
   "source": [
    "接着是关于calendar的实现："
   ]
  },
  {
   "cell_type": "code",
   "execution_count": 18,
   "id": "b92949f4",
   "metadata": {},
   "outputs": [],
   "source": [
    "(define (add-to-agenda! time action agenda)\n",
    "  (define (belongs-before? segments)\n",
    "    (or (null? segments)\n",
    "\t(< time (segment-time (car segments)))))\n",
    "  (define (make-new-time-segment time action)\n",
    "    (let ((q (make-queue)))\n",
    "      (insert-queue! q action)\n",
    "      (make-time-segment time q )))\n",
    "  (define (add-to-segments! segments)\n",
    "    (if (= (segment-time (car segments)) time)\n",
    "\t(insert-queue! (segment-queue (car segments))\n",
    "\t\t       action)\n",
    "\t(let ((rest (cdr segments)))\n",
    "\t  (if (belongs-before? rest)\n",
    "\t      (set-cdr!\n",
    "\t       segments\n",
    "\t       (cons (make-new-time-segment time action)\n",
    "\t\t     (cdr segments)))\n",
    "\t      (add-to-segments! rest)))))\n",
    "  (let ((segments (segments agenda)))\n",
    "    (if (belongs-before? segments)\n",
    "\t(set-segments!\n",
    "\t agenda\n",
    "\t (cons (make-new-time-segment time action)\n",
    "\t       segments))\n",
    "\t(add-to-segments! segments))))"
   ]
  },
  {
   "cell_type": "code",
   "execution_count": 19,
   "id": "cc9aad75",
   "metadata": {},
   "outputs": [],
   "source": [
    "(define (segments agenda) (cdr agenda))"
   ]
  },
  {
   "cell_type": "markdown",
   "id": "d4ba6848",
   "metadata": {},
   "source": [
    "calendar的实现依赖于队列，所以把队列代码也拷贝过来："
   ]
  },
  {
   "cell_type": "code",
   "execution_count": 20,
   "id": "b057bfc6",
   "metadata": {},
   "outputs": [],
   "source": [
    "(define (make-queue) (cons '() '()))\n",
    "\n",
    "(define (front-queue queue)\n",
    "  (if (empty-queue? queue)\n",
    "      (error \"FRONT called with an empty queue\" queue)\n",
    "      (car (front-ptr queue))))\n",
    "\n",
    "(define (insert-queue! queue item)\n",
    "  (let ((new-pair (cons item '())))\n",
    "    (cond ((empty-queue? queue)\n",
    "\t   (set-front-ptr! queue new-pair)\n",
    "\t   (set-rear-ptr! queue new-pair)\n",
    "\t   queue)\n",
    "\t  (else\n",
    "\t   (set-cdr! (rear-ptr queue) new-pair)\n",
    "\t   (set-rear-ptr! queue new-pair)\n",
    "\t   queue))))\n",
    "\n",
    "(define (delete-queue! queue)\n",
    "  (cond ((empty-queue? queue)\n",
    "\t (error \"DELETE! called with an empty queue\" queue))\n",
    "\t(else\n",
    "\t (set-front-ptr! queue (cdr (front-ptr queue)))))\n",
    "\t queue)\n",
    "\n",
    "(define (print-queue queue)\n",
    "  (cond ((null? queue)\n",
    "\t (error \"print-queue called with an incorrect data\" queue))\n",
    "\t(else\n",
    "\t (display (car queue)))))\n",
    "\n",
    "(define (front-ptr queue) (car queue))\n",
    "\n",
    "(define (rear-ptr queue) (cdr queue))\n",
    "\n",
    "(define (set-front-ptr! queue item) (set-car! queue item))\n",
    "\n",
    "(define (set-rear-ptr! queue item) (set-cdr! queue item))\n",
    "\n",
    "(define (empty-queue? queue) (null? (front-ptr queue)))\n"
   ]
  },
  {
   "cell_type": "markdown",
   "id": "b6178f82",
   "metadata": {},
   "source": [
    "相关的时间处理函数："
   ]
  },
  {
   "cell_type": "code",
   "execution_count": 21,
   "id": "b2c833cb",
   "metadata": {},
   "outputs": [],
   "source": [
    "(define (make-time-segment time queue)\n",
    "  (cons time queue))\n",
    "\n",
    "(define (segment-time s) (car s))\n",
    "\n",
    "(define (segment-queue s) (cdr s))\n",
    "\n",
    "(define (set-current-time! agenda time)\n",
    "  (set-car! agenda time))\n",
    "\n",
    "(define (set-segments! agenda segments)\n",
    "  (set-cdr! agenda segments))\n",
    "\n",
    "(define (first-segment agenda) (car (segments agenda)))\n",
    "\n",
    "(define (rest-segments agenda) (cdr (segments agenda)))\n",
    "\n",
    "(define (empty-agenda? agenda)\n",
    "  (null? (segments agenda)))"
   ]
  },
  {
   "cell_type": "markdown",
   "id": "d797002e",
   "metadata": {},
   "source": [
    "用于强制执行agenda里所有操作的函数："
   ]
  },
  {
   "cell_type": "code",
   "execution_count": 22,
   "id": "b866005f",
   "metadata": {},
   "outputs": [],
   "source": [
    "(define (propagate)\n",
    "  (if (empty-agenda? the-agenda)\n",
    "      'done\n",
    "      (let ((first-item (first-agenda-item the-agenda)))\n",
    "\t(first-item)\n",
    "\t(remove-first-agenda-item! the-agenda)\n",
    "\t(propagate))))"
   ]
  },
  {
   "cell_type": "code",
   "execution_count": 23,
   "id": "da131bb1",
   "metadata": {},
   "outputs": [],
   "source": [
    "(define (first-agenda-item agenda)\n",
    "  (if (empty-agenda? agenda)\n",
    "      (error \"Agenda is empty -- FIRST-AGENDA-ITEM\")\n",
    "      (let ((first-seg (first-segment agenda)))\n",
    "\t(set-current-time! agenda (segment-time first-seg))\n",
    "\t(front-queue (segment-queue first-seg)))))\n",
    "\n",
    "(define (remove-first-agenda-item! agenda)\n",
    "  (let ((q (segment-queue (first-segment agenda))))\n",
    "    (delete-queue! q)\n",
    "    (if (empty-queue? q)\n",
    "\t(set-segments! agenda (rest-segments agenda)))))"
   ]
  },
  {
   "cell_type": "markdown",
   "id": "40f02026",
   "metadata": {},
   "source": [
    "这样就可以开始测试了，创建一个inverter，就是一个非门："
   ]
  },
  {
   "cell_type": "code",
   "execution_count": 24,
   "id": "210a8d50",
   "metadata": {},
   "outputs": [
    {
     "data": {
      "text/plain": [
       "ok"
      ]
     },
     "execution_count": 24,
     "metadata": {},
     "output_type": "execute_result"
    }
   ],
   "source": [
    "(inverter inverter-input inverter-output)"
   ]
  },
  {
   "cell_type": "markdown",
   "id": "a5c3e0e4",
   "metadata": {},
   "source": [
    "不做任何操作前先看看两个“引脚”的值："
   ]
  },
  {
   "cell_type": "code",
   "execution_count": 25,
   "id": "9edefb2b",
   "metadata": {},
   "outputs": [
    {
     "data": {
      "text/plain": [
       "0"
      ]
     },
     "execution_count": 25,
     "metadata": {},
     "output_type": "execute_result"
    }
   ],
   "source": [
    "(get-signal inverter-input)"
   ]
  },
  {
   "cell_type": "code",
   "execution_count": 26,
   "id": "49c877b6",
   "metadata": {},
   "outputs": [
    {
     "data": {
      "text/plain": [
       "0"
      ]
     },
     "execution_count": 26,
     "metadata": {},
     "output_type": "execute_result"
    }
   ],
   "source": [
    "(get-signal inverter-output)"
   ]
  },
  {
   "cell_type": "markdown",
   "id": "3b15b421",
   "metadata": {},
   "source": [
    "给输入引脚一个1的信号："
   ]
  },
  {
   "cell_type": "code",
   "execution_count": 27,
   "id": "5b77c3ca",
   "metadata": {},
   "outputs": [
    {
     "data": {
      "text/plain": [
       "done"
      ]
     },
     "execution_count": 27,
     "metadata": {},
     "output_type": "execute_result"
    }
   ],
   "source": [
    "(set-signal! inverter-input 1)"
   ]
  },
  {
   "cell_type": "markdown",
   "id": "4998d31c",
   "metadata": {},
   "source": [
    "强制执行所有待处理操作："
   ]
  },
  {
   "cell_type": "code",
   "execution_count": 28,
   "id": "7b057e09",
   "metadata": {},
   "outputs": [
    {
     "data": {
      "text/plain": [
       "done"
      ]
     },
     "execution_count": 28,
     "metadata": {},
     "output_type": "execute_result"
    }
   ],
   "source": [
    "(propagate)"
   ]
  },
  {
   "cell_type": "markdown",
   "id": "00c57580",
   "metadata": {},
   "source": [
    "再看看两个引脚的信号值："
   ]
  },
  {
   "cell_type": "code",
   "execution_count": 29,
   "id": "9d401cd2",
   "metadata": {},
   "outputs": [
    {
     "data": {
      "text/plain": [
       "1"
      ]
     },
     "execution_count": 29,
     "metadata": {},
     "output_type": "execute_result"
    }
   ],
   "source": [
    "(get-signal inverter-input)"
   ]
  },
  {
   "cell_type": "code",
   "execution_count": 30,
   "id": "325f5b40",
   "metadata": {},
   "outputs": [
    {
     "data": {
      "text/plain": [
       "0"
      ]
     },
     "execution_count": 30,
     "metadata": {},
     "output_type": "execute_result"
    }
   ],
   "source": [
    "(get-signal inverter-output)"
   ]
  },
  {
   "cell_type": "markdown",
   "id": "08ad5d3d",
   "metadata": {},
   "source": [
    "反过来把输入引脚的信号设置成0"
   ]
  },
  {
   "cell_type": "code",
   "execution_count": 31,
   "id": "a9579adc",
   "metadata": {},
   "outputs": [
    {
     "data": {
      "text/plain": [
       "done"
      ]
     },
     "execution_count": 31,
     "metadata": {},
     "output_type": "execute_result"
    }
   ],
   "source": [
    "(set-signal! inverter-input 0)"
   ]
  },
  {
   "cell_type": "code",
   "execution_count": 32,
   "id": "e8f47d71",
   "metadata": {},
   "outputs": [
    {
     "data": {
      "text/plain": [
       "0"
      ]
     },
     "execution_count": 32,
     "metadata": {},
     "output_type": "execute_result"
    }
   ],
   "source": [
    "(get-signal inverter-input)"
   ]
  },
  {
   "cell_type": "code",
   "execution_count": 33,
   "id": "bc734690",
   "metadata": {},
   "outputs": [
    {
     "data": {
      "text/plain": [
       "done"
      ]
     },
     "execution_count": 33,
     "metadata": {},
     "output_type": "execute_result"
    }
   ],
   "source": [
    "(propagate)"
   ]
  },
  {
   "cell_type": "markdown",
   "id": "42a4f179",
   "metadata": {},
   "source": [
    "再看看输出引脚的信号："
   ]
  },
  {
   "cell_type": "code",
   "execution_count": 34,
   "id": "d9757608",
   "metadata": {},
   "outputs": [
    {
     "data": {
      "text/plain": [
       "1"
      ]
     },
     "execution_count": 34,
     "metadata": {},
     "output_type": "execute_result"
    }
   ],
   "source": [
    "(get-signal inverter-output)"
   ]
  },
  {
   "cell_type": "markdown",
   "id": "8f01d962",
   "metadata": {},
   "source": [
    "下面定义一个展示引脚信号的函数："
   ]
  },
  {
   "cell_type": "code",
   "execution_count": 35,
   "id": "9d02edb4",
   "metadata": {},
   "outputs": [],
   "source": [
    "\n",
    "(define (probe name wire)\n",
    "  (add-action! wire\n",
    "\t       (lambda ()\n",
    "\t\t (newline)\n",
    "\t\t (display name)\n",
    "\t\t (display \" \")\n",
    "\t\t (display (current-time the-agenda))\n",
    "\t\t (display \" New-value = \")\n",
    "\t\t (display (get-signal wire)))))"
   ]
  },
  {
   "cell_type": "markdown",
   "id": "6053b639",
   "metadata": {},
   "source": [
    "然后把上面的测试代码打包一下："
   ]
  },
  {
   "cell_type": "code",
   "execution_count": 36,
   "id": "56cf8420",
   "metadata": {},
   "outputs": [],
   "source": [
    "(define (start-unit-test-3-28)\n",
    "  (define inverter-input (make-wire))\n",
    "  (define inverter-output (make-wire))\n",
    "  \n",
    "  (probe 'inverter-input inverter-input)\n",
    "  (probe 'inverter-output inverter-output)\n",
    "\n",
    "  (inverter inverter-input inverter-output)\n",
    "\n",
    "  (set-signal! inverter-input 1)\n",
    "\n",
    "  (propagate)\n",
    "  )\n"
   ]
  },
  {
   "cell_type": "code",
   "execution_count": 37,
   "id": "504390bb",
   "metadata": {},
   "outputs": [
    {
     "name": "stdout",
     "output_type": "stream",
     "text": [
      "\n",
      "inverter-input 4 New-value = 0\n",
      "inverter-output 4 New-value = 0\n",
      "inverter-input 4 New-value = 1\n",
      "inverter-output 6 New-value = 1\n",
      "inverter-output 6 New-value = 0"
     ]
    },
    {
     "data": {
      "text/plain": [
       "done"
      ]
     },
     "execution_count": 37,
     "metadata": {},
     "output_type": "execute_result"
    }
   ],
   "source": [
    "(start-unit-test-3-28)"
   ]
  },
  {
   "cell_type": "markdown",
   "id": "93247ae7",
   "metadata": {},
   "source": [
    "然后就照猫画老虎做个and-gate:"
   ]
  },
  {
   "cell_type": "code",
   "execution_count": 38,
   "id": "954e09d6",
   "metadata": {},
   "outputs": [],
   "source": [
    "(define (and-gate a1 a2 output)\n",
    "  (define (and-action-procedure)\n",
    "    (let ((new-value\n",
    "\t   (logical-and (get-signal a1) (get-signal a2))))\n",
    "      (after-delay and-gate-delay\n",
    "\t\t   (lambda ()\n",
    "\t\t     (set-signal! output new-value)))))\n",
    "  (add-action! a1 and-action-procedure)\n",
    "  (add-action! a2 and-action-procedure)\n",
    "  'ok)\n",
    "\n",
    "(define (logical-and a1 a2)\n",
    "  (cond ((and (not (= a1 0))\n",
    "\t     (not (= a1 1))) (error \"Invalid signal\" a1))\n",
    "\t((and (not (= a2 0))\n",
    "\t     (not (= a2 1))) (error \"Invalid signal\" a2))\n",
    "\t((and (= a1 1) (= a2 1)) 1)\n",
    "\t(else 0)))\n",
    "\n",
    "(define and-gate-delay 3)\n"
   ]
  },
  {
   "cell_type": "markdown",
   "id": "441ab4e7",
   "metadata": {},
   "source": [
    "还有or-gate，这个就是题目的要求了："
   ]
  },
  {
   "cell_type": "code",
   "execution_count": 39,
   "id": "5f39b5bd",
   "metadata": {},
   "outputs": [],
   "source": [
    "(define (or-gate a1 a2 output)\n",
    "  (define (or-action-procedure)\n",
    "    (let ((new-value\n",
    "\t   (logical-or (get-signal a1) (get-signal a2))))\n",
    "      (after-delay or-gate-delay\n",
    "\t\t   (lambda ()\n",
    "\t\t     (set-signal! output new-value)))))\n",
    "  (add-action! a1 or-action-procedure)\n",
    "  (add-action! a2 or-action-procedure)\n",
    "  'ok)\n",
    "\n",
    "(define (logical-or a1 a2)\n",
    "  (cond ((and (not (= a1 0))\n",
    "\t     (not (= a1 1))) (error \"Invalid signal\" a1))\n",
    "\t((and (not (= a2 0))\n",
    "\t     (not (= a2 1))) (error \"Invalid signal\" a2))\n",
    "\t((or (= a1 1) (= a2 1)) 1)\n",
    "\t(else 0)))\n",
    "\n",
    "\n",
    "(define or-gate-delay 5)\n"
   ]
  },
  {
   "cell_type": "markdown",
   "id": "e6767a97",
   "metadata": {},
   "source": [
    "再测试一下 and-gate和or-gate:"
   ]
  },
  {
   "cell_type": "code",
   "execution_count": 40,
   "id": "15421603",
   "metadata": {},
   "outputs": [],
   "source": [
    "(define (and-gate-test input-1-value input-2-value)\n",
    "  (define input-1 (make-wire))\n",
    "  (define input-2 (make-wire))\n",
    "  (define output (make-wire))\n",
    "  \n",
    "  (and-gate input-1 input-2 output)\n",
    "  \n",
    "  (set-signal! input-1 input-1-value)\n",
    "  (set-signal! input-2 input-2-value)\n",
    "  \n",
    "  (propagate)\n",
    "  \n",
    "  (get-signal output)\n",
    ")\n"
   ]
  },
  {
   "cell_type": "code",
   "execution_count": 41,
   "id": "e58c050a",
   "metadata": {},
   "outputs": [
    {
     "data": {
      "text/plain": [
       "(0 0 0 1)"
      ]
     },
     "execution_count": 41,
     "metadata": {},
     "output_type": "execute_result"
    }
   ],
   "source": [
    "(list (and-gate-test 0 0) (and-gate-test 0 1) (and-gate-test 1 0) (and-gate-test 1 1))"
   ]
  },
  {
   "cell_type": "code",
   "execution_count": 42,
   "id": "4f29bb31",
   "metadata": {},
   "outputs": [],
   "source": [
    "(define (or-gate-test input-1-value input-2-value)\n",
    "  (define input-1 (make-wire))\n",
    "  (define input-2 (make-wire))\n",
    "  (define output (make-wire))\n",
    "  \n",
    "  (or-gate input-1 input-2 output)\n",
    "  \n",
    "  (set-signal! input-1 input-1-value)\n",
    "  (set-signal! input-2 input-2-value)\n",
    "  \n",
    "  (propagate)\n",
    "  \n",
    "  (get-signal output)\n",
    ")\n"
   ]
  },
  {
   "cell_type": "code",
   "execution_count": 43,
   "id": "f994d7cc",
   "metadata": {},
   "outputs": [
    {
     "data": {
      "text/plain": [
       "(0 1 1 1)"
      ]
     },
     "execution_count": 43,
     "metadata": {},
     "output_type": "execute_result"
    }
   ],
   "source": [
    "(list (or-gate-test 0 0) (or-gate-test 0 1) (or-gate-test 1 0) (or-gate-test 1 1))"
   ]
  },
  {
   "cell_type": "markdown",
   "id": "06bfa492",
   "metadata": {},
   "source": [
    "到现在开始才是关于半加器的代码："
   ]
  },
  {
   "cell_type": "code",
   "execution_count": 44,
   "id": "4d372b1a",
   "metadata": {},
   "outputs": [],
   "source": [
    "(define (half-adder a b s c)\n",
    "  (let ((d (make-wire)) (e (make-wire)))\n",
    "    (or-gate a b d)\n",
    "    (and-gate a b c)\n",
    "    (inverter c e)\n",
    "    (and-gate d e s)\n",
    "    'ok))\n",
    "\n",
    "\n"
   ]
  },
  {
   "cell_type": "markdown",
   "id": "55ade683",
   "metadata": {},
   "source": [
    "再定义一个测试函数："
   ]
  },
  {
   "cell_type": "code",
   "execution_count": 50,
   "id": "a2288e3d",
   "metadata": {},
   "outputs": [],
   "source": [
    "(define (half-adder-test a-value b-value)\n",
    "  (define input-1 (make-wire))\n",
    "  (define input-2 (make-wire))\n",
    "  (define s-output (make-wire))\n",
    "  (define c-output (make-wire))\n",
    "  \n",
    "  \n",
    "  (half-adder input-1 input-2 s-output c-output)\n",
    "  \n",
    "  (set-signal! input-1 a-value)\n",
    "  (set-signal! input-2 b-value)\n",
    "  \n",
    "  (propagate)\n",
    "  \n",
    "  (list (get-signal s-output) (get-signal c-output))\n",
    ")\n"
   ]
  },
  {
   "cell_type": "code",
   "execution_count": 51,
   "id": "bf07b01d",
   "metadata": {},
   "outputs": [
    {
     "data": {
      "text/plain": [
       "((0 0) (1 0) (1 0) (0 1))"
      ]
     },
     "execution_count": 51,
     "metadata": {},
     "output_type": "execute_result"
    }
   ],
   "source": [
    "(list (half-adder-test 0 0) (half-adder-test 0 1) \n",
    "      (half-adder-test 1 0) (half-adder-test 1 1))"
   ]
  },
  {
   "cell_type": "markdown",
   "id": "e9a4dc9a",
   "metadata": {},
   "source": [
    "然后全加器就是由两个半加器构成的，额外加个或门："
   ]
  },
  {
   "cell_type": "code",
   "execution_count": 55,
   "id": "7e977cde",
   "metadata": {},
   "outputs": [],
   "source": [
    "\n",
    "\n",
    "(define (full-adder a b c-in sum c-out)\n",
    "  (let ((s (make-wire))\n",
    "\t(c1 (make-wire))\n",
    "\t(c2 (make-wire)))\n",
    "    (half-adder b c-in s c1)\n",
    "    (half-adder a s sum c2)\n",
    "    (or-gate c1 c2 c-out)\n",
    "    'ok))\n",
    "\n"
   ]
  },
  {
   "cell_type": "code",
   "execution_count": 56,
   "id": "70d1e90b",
   "metadata": {},
   "outputs": [],
   "source": [
    "(define (full-adder-test a-value b-value c-in-value)\n",
    "  (define input-1 (make-wire))\n",
    "  (define input-2 (make-wire))\n",
    "  (define input-c (make-wire))\n",
    "  (define s-output (make-wire))\n",
    "  (define c-output (make-wire))\n",
    "  \n",
    "  \n",
    "  (full-adder input-1 input-2 input-c s-output c-output)\n",
    "  \n",
    "  (set-signal! input-1 a-value)\n",
    "  (set-signal! input-2 b-value)\n",
    "  (set-signal! input-c c-in-value)\n",
    "  \n",
    "  (propagate)\n",
    "  \n",
    "  (list (get-signal s-output) (get-signal c-output))\n",
    ")\n"
   ]
  },
  {
   "cell_type": "code",
   "execution_count": 59,
   "id": "c2c1c2ef",
   "metadata": {},
   "outputs": [
    {
     "data": {
      "text/plain": [
       "((0 0) (1 0) (1 0) (0 1) (1 0) (0 1) (0 1) (1 1))"
      ]
     },
     "execution_count": 59,
     "metadata": {},
     "output_type": "execute_result"
    }
   ],
   "source": [
    "(list (full-adder-test 0 0 0)\n",
    "      (full-adder-test 1 0 0)\n",
    "      (full-adder-test 0 1 0)\n",
    "      (full-adder-test 1 1 0)\n",
    "      (full-adder-test 0 0 1)\n",
    "      (full-adder-test 1 0 1)\n",
    "      (full-adder-test 0 1 1)\n",
    "      (full-adder-test 1 1 1))"
   ]
  },
  {
   "cell_type": "markdown",
   "id": "2d3eb79f",
   "metadata": {},
   "source": [
    "要算时延就需要把最长的路线的时延叠加起来。\n",
    "\n",
    "当然我们也可以通过probe来测试："
   ]
  },
  {
   "cell_type": "code",
   "execution_count": 60,
   "id": "6abb800d",
   "metadata": {},
   "outputs": [],
   "source": [
    "(define (full-adder-test a-value b-value c-in-value)\n",
    "  (define input-1 (make-wire))\n",
    "  (define input-2 (make-wire))\n",
    "  (define input-c (make-wire))\n",
    "  (define s-output (make-wire))\n",
    "  (define c-output (make-wire))\n",
    "  \n",
    "  \n",
    "  (full-adder input-1 input-2 input-c s-output c-output)\n",
    "  \n",
    "  (set-signal! input-1 a-value)\n",
    "  (set-signal! input-2 b-value)\n",
    "  (set-signal! input-c c-in-value)\n",
    "  \n",
    "  (probe 's-output s-output)\n",
    "  \n",
    "  (propagate)\n",
    "  \n",
    "  (list (get-signal s-output) (get-signal c-output))\n",
    ")\n"
   ]
  },
  {
   "cell_type": "code",
   "execution_count": 61,
   "id": "d403cb14",
   "metadata": {},
   "outputs": [
    {
     "name": "stdout",
     "output_type": "stream",
     "text": [
      "\n",
      "s-output 308 New-value = 0\n",
      "s-output 324 New-value = 1"
     ]
    },
    {
     "data": {
      "text/plain": [
       "(1 0)"
      ]
     },
     "execution_count": 61,
     "metadata": {},
     "output_type": "execute_result"
    }
   ],
   "source": [
    "(full-adder-test 0 0 1)"
   ]
  },
  {
   "cell_type": "code",
   "execution_count": 62,
   "id": "c8d0c48d",
   "metadata": {},
   "outputs": [
    {
     "name": "stdout",
     "output_type": "stream",
     "text": [
      "\n",
      "s-output 324 New-value = 0\n",
      "s-output 340 New-value = 1"
     ]
    },
    {
     "data": {
      "text/plain": [
       "(1 0)"
      ]
     },
     "execution_count": 62,
     "metadata": {},
     "output_type": "execute_result"
    }
   ],
   "source": [
    "(full-adder-test 0 0 1)"
   ]
  },
  {
   "cell_type": "markdown",
   "id": "a00ef385",
   "metadata": {},
   "source": [
    "需要26个时延"
   ]
  },
  {
   "cell_type": "code",
   "execution_count": null,
   "id": "0ecc17e2",
   "metadata": {},
   "outputs": [],
   "source": []
  }
 ],
 "metadata": {
  "kernelspec": {
   "display_name": "Calysto Scheme 3",
   "language": "scheme",
   "name": "calysto_scheme"
  },
  "language_info": {
   "codemirror_mode": {
    "name": "scheme"
   },
   "mimetype": "text/x-scheme",
   "name": "scheme",
   "pygments_lexer": "scheme"
  }
 },
 "nbformat": 4,
 "nbformat_minor": 5
}
