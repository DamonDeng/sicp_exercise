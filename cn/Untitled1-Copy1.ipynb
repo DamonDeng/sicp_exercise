{
 "cells": [
  {
   "cell_type": "code",
   "execution_count": 1,
   "id": "f648d8e6",
   "metadata": {},
   "outputs": [],
   "source": [
    "import os"
   ]
  },
  {
   "cell_type": "code",
   "execution_count": 2,
   "id": "37241b57",
   "metadata": {},
   "outputs": [],
   "source": [
    "target_dir = './'"
   ]
  },
  {
   "cell_type": "code",
   "execution_count": 8,
   "id": "d7699d65",
   "metadata": {},
   "outputs": [],
   "source": [
    "all_file_name = list()\n",
    "\n",
    "for root, dirs, files in os.walk(target_dir):\n",
    "\n",
    "        # root 表示当前正在访问的文件夹路径\n",
    "        # dirs 表示该文件夹下的子目录名list\n",
    "        # files 表示该文件夹下的文件list\n",
    "\n",
    "        # 遍历文件\n",
    "        for f in files:\n",
    "            all_file_name.append(os.path.join(root, f))"
   ]
  },
  {
   "cell_type": "code",
   "execution_count": 12,
   "id": "c982b307",
   "metadata": {},
   "outputs": [
    {
     "name": "stdout",
     "output_type": "stream",
     "text": [
      "./sicp-2-01copy8.ipynb\n",
      "./sicp-2-01copy9.ipynb\n",
      "./sicp-2-01copy3.ipynb\n",
      "./sicp-2-01copy.ipynb\n",
      "./sicp-2-01copy7.ipynb\n",
      "./sicp-2-01copy5.ipynb\n",
      "./sicp-2-01copy4.ipynb\n",
      "./sicp-2-01copy6.ipynb\n"
     ]
    }
   ],
   "source": [
    "original_name = list()\n",
    "new_name = list()\n",
    "\n",
    "for file_name in all_file_name:\n",
    "    if (file_name.startswith('./sicp-2')):\n",
    "#         print (int(file_name[-8:-6]))\n",
    "        try:\n",
    "            original_name.append(file_name)\n",
    "            number_str = ('0' + str(int(file_name[-8:-6])))[-2:]\n",
    "            new_name.append('./sicp-2-' + number_str + '.ipynb')\n",
    "        except Exception:\n",
    "            print (file_name)"
   ]
  },
  {
   "cell_type": "code",
   "execution_count": 13,
   "id": "6bf08b65",
   "metadata": {},
   "outputs": [
    {
     "name": "stdout",
     "output_type": "stream",
     "text": [
      "./sicp-2-01copy32.ipynb:./sicp-2-32.ipynb\n",
      "./sicp-2-01copy77.ipynb:./sicp-2-77.ipynb\n",
      "./sicp-2-02.ipynb:./sicp-2-02.ipynb\n",
      "./sicp-2-01copy16.ipynb:./sicp-2-16.ipynb\n",
      "./sicp-2-01copy53.ipynb:./sicp-2-53.ipynb\n",
      "./sicp-2-01copy14.ipynb:./sicp-2-14.ipynb\n",
      "./sicp-2-01copy51.ipynb:./sicp-2-51.ipynb\n",
      "./sicp-2-01copy29.ipynb:./sicp-2-29.ipynb\n",
      "./sicp-2-01copy48.ipynb:./sicp-2-48.ipynb\n",
      "./sicp-2-01copy8.ipynb:./sicp-2-30.ipynb\n",
      "./sicp-2-01copy30.ipynb:./sicp-2-75.ipynb\n",
      "./sicp-2-01copy75.ipynb:./sicp-2-34.ipynb\n",
      "./sicp-2-01copy34.ipynb:./sicp-2-71.ipynb\n",
      "./sicp-2-01copy71.ipynb:./sicp-2-10.ipynb\n",
      "./sicp-2-01copy10.ipynb:./sicp-2-55.ipynb\n",
      "./sicp-2-01copy55.ipynb:./sicp-2-68.ipynb\n",
      "./sicp-2-01copy68.ipynb:./sicp-2-12.ipynb\n",
      "./sicp-2-01copy12.ipynb:./sicp-2-57.ipynb\n",
      "./sicp-2-01copy57.ipynb:./sicp-2-36.ipynb\n",
      "./sicp-2-01copy36.ipynb:./sicp-2-73.ipynb\n",
      "./sicp-2-01copy73.ipynb:./sicp-2-28.ipynb\n",
      "./sicp-2-01copy28.ipynb:./sicp-2-50.ipynb\n",
      "./sicp-2-01copy50.ipynb:./sicp-2-15.ipynb\n",
      "./sicp-2-01copy15.ipynb:./sicp-2-01.ipynb\n",
      "./sicp-2-01.ipynb:./sicp-2-74.ipynb\n",
      "./sicp-2-01copy9.ipynb:./sicp-2-31.ipynb\n",
      "./sicp-2-01copy74.ipynb:./sicp-2-49.ipynb\n",
      "./sicp-2-01copy31.ipynb:./sicp-2-76.ipynb\n",
      "./sicp-2-01copy49.ipynb:./sicp-2-33.ipynb\n",
      "./sicp-2-01copy76.ipynb:./sicp-2-52.ipynb\n",
      "./sicp-2-01copy33.ipynb:./sicp-2-17.ipynb\n",
      "./sicp-2-01copy52.ipynb:./sicp-2-56.ipynb\n",
      "./sicp-2-01copy17.ipynb:./sicp-2-13.ipynb\n",
      "./sicp-2-01copy56.ipynb:./sicp-2-72.ipynb\n",
      "./sicp-2-01copy13.ipynb:./sicp-2-37.ipynb\n",
      "./sicp-2-01copy72.ipynb:./sicp-2-70.ipynb\n",
      "./sicp-2-01copy37.ipynb:./sicp-2-35.ipynb\n",
      "./sicp-2-01copy70.ipynb:./sicp-2-69.ipynb\n",
      "./sicp-2-01copy35.ipynb:./sicp-2-54.ipynb\n",
      "./sicp-2-01copy69.ipynb:./sicp-2-11.ipynb\n",
      "./sicp-2-01copy54.ipynb:./sicp-2-58.ipynb\n",
      "./sicp-2-01copy11.ipynb:./sicp-2-20.ipynb\n",
      "./sicp-2-01copy58.ipynb:./sicp-2-65.ipynb\n",
      "./sicp-2-01copy20.ipynb:./sicp-2-41.ipynb\n",
      "./sicp-2-01copy65.ipynb:./sicp-2-39.ipynb\n",
      "./sicp-2-01copy41.ipynb:./sicp-2-81.ipynb\n",
      "./sicp-2-01copy39.ipynb:./sicp-2-83.ipynb\n",
      "./sicp-2-01copy81.ipynb:./sicp-2-43.ipynb\n",
      "./sicp-2-01copy3.ipynb:./sicp-2-22.ipynb\n",
      "./sicp-2-01copy83.ipynb:./sicp-2-67.ipynb\n",
      "./sicp-2-01copy43.ipynb:./sicp-2-26.ipynb\n",
      "./sicp-2-01copy22.ipynb:./sicp-2-63.ipynb\n",
      "./sicp-2-01copy67.ipynb:./sicp-2-47.ipynb\n",
      "./sicp-2-01copy.ipynb:./sicp-2-45.ipynb\n",
      "./sicp-2-01copy26.ipynb:./sicp-2-78.ipynb\n",
      "./sicp-2-01copy63.ipynb:./sicp-2-19.ipynb\n",
      "./sicp-2-01copy7.ipynb:./sicp-2-24.ipynb\n",
      "./sicp-2-01copy47.ipynb:./sicp-2-61.ipynb\n",
      "./sicp-2-01copy45.ipynb:./sicp-2-42.ipynb\n",
      "./sicp-2-01copy5.ipynb:./sicp-2-82.ipynb\n",
      "./sicp-2-01copy78.ipynb:./sicp-2-66.ipynb\n",
      "./sicp-2-01copy19.ipynb:./sicp-2-23.ipynb\n",
      "./sicp-2-01copy24.ipynb:./sicp-2-64.ipynb\n",
      "./sicp-2-01copy61.ipynb:./sicp-2-21.ipynb\n",
      "./sicp-2-01copy42.ipynb:./sicp-2-59.ipynb\n",
      "./sicp-2-01copy82.ipynb:./sicp-2-38.ipynb\n",
      "./sicp-2-01copy66.ipynb:./sicp-2-80.ipynb\n",
      "./sicp-2-01copy23.ipynb:./sicp-2-40.ipynb\n",
      "./sicp-2-01copy64.ipynb:./sicp-2-84.ipynb\n",
      "./sicp-2-01copy21.ipynb:./sicp-2-79.ipynb\n",
      "./sicp-2-01copy59.ipynb:./sicp-2-44.ipynb\n",
      "./sicp-2-01copy38.ipynb:./sicp-2-60.ipynb\n",
      "./sicp-2-01copy80.ipynb:./sicp-2-25.ipynb\n",
      "./sicp-2-01copy40.ipynb:./sicp-2-18.ipynb\n",
      "./sicp-2-01copy4.ipynb:./sicp-2-62.ipynb\n",
      "./sicp-2-01copy84.ipynb:./sicp-2-27.ipynb\n",
      "./sicp-2-01copy79.ipynb:./sicp-2-46.ipynb\n"
     ]
    }
   ],
   "source": [
    "for o_name, n_name in zip (original_name, new_name):\n",
    "    \n",
    "    print (o_name + \":\" + n_name)\n",
    "    os.rename(o_name,n_name) "
   ]
  },
  {
   "cell_type": "code",
   "execution_count": 6,
   "id": "59dedeac",
   "metadata": {},
   "outputs": [],
   "source": [
    "# os.rename('./Untitled1.ipynb', './newtest.ipynb')"
   ]
  },
  {
   "cell_type": "code",
   "execution_count": 7,
   "id": "4bb2a32e",
   "metadata": {},
   "outputs": [
    {
     "ename": "FileNotFoundError",
     "evalue": "[Errno 2] No such file or directory: '~/Desktop/workspace/sicp/cn/sicp-2-01 copy 27.ipynb' -> '~/Desktop/workspace/sicp/cn/sicp-2-27./ipynb'",
     "output_type": "error",
     "traceback": [
      "\u001b[0;31m---------------------------------------------------------------------------\u001b[0m",
      "\u001b[0;31mFileNotFoundError\u001b[0m                         Traceback (most recent call last)",
      "\u001b[0;32m/var/folders/5b/1j9p58n93l7b6wj7szqcyv78nc656r/T/ipykernel_26498/2216505039.py\u001b[0m in \u001b[0;36m<module>\u001b[0;34m\u001b[0m\n\u001b[0;32m----> 1\u001b[0;31m \u001b[0mos\u001b[0m\u001b[0;34m.\u001b[0m\u001b[0mrename\u001b[0m\u001b[0;34m(\u001b[0m\u001b[0;34m'~/Desktop/workspace/sicp/cn/sicp-2-01 copy 27.ipynb'\u001b[0m\u001b[0;34m,\u001b[0m \u001b[0;34m'~/Desktop/workspace/sicp/cn/sicp-2-27./ipynb'\u001b[0m\u001b[0;34m)\u001b[0m\u001b[0;34m\u001b[0m\u001b[0;34m\u001b[0m\u001b[0m\n\u001b[0m",
      "\u001b[0;31mFileNotFoundError\u001b[0m: [Errno 2] No such file or directory: '~/Desktop/workspace/sicp/cn/sicp-2-01 copy 27.ipynb' -> '~/Desktop/workspace/sicp/cn/sicp-2-27./ipynb'"
     ]
    }
   ],
   "source": [
    "os.rename('~/Desktop/workspace/sicp/cn/sicp-2-01 copy 27.ipynb', '~/Desktop/workspace/sicp/cn/sicp-2-27./ipynb')"
   ]
  },
  {
   "cell_type": "code",
   "execution_count": null,
   "id": "0912a751",
   "metadata": {},
   "outputs": [],
   "source": []
  },
  {
   "cell_type": "code",
   "execution_count": 11,
   "id": "a7152b59",
   "metadata": {},
   "outputs": [
    {
     "data": {
      "text/plain": [
       "'./sicp-2-01 copy.ipynb'"
      ]
     },
     "execution_count": 11,
     "metadata": {},
     "output_type": "execute_result"
    }
   ],
   "source": [
    "file_name"
   ]
  },
  {
   "cell_type": "code",
   "execution_count": 10,
   "id": "2bbd9971",
   "metadata": {},
   "outputs": [
    {
     "ename": "ValueError",
     "evalue": "invalid literal for int() with base 10: 'py'",
     "output_type": "error",
     "traceback": [
      "\u001b[0;31m---------------------------------------------------------------------------\u001b[0m",
      "\u001b[0;31mValueError\u001b[0m                                Traceback (most recent call last)",
      "\u001b[0;32m/var/folders/5b/1j9p58n93l7b6wj7szqcyv78nc656r/T/ipykernel_24559/4265572690.py\u001b[0m in \u001b[0;36m<module>\u001b[0;34m\u001b[0m\n\u001b[0;32m----> 1\u001b[0;31m \u001b[0mnumber_str\u001b[0m \u001b[0;34m=\u001b[0m \u001b[0;34m(\u001b[0m\u001b[0;34m'0'\u001b[0m \u001b[0;34m+\u001b[0m \u001b[0mstr\u001b[0m\u001b[0;34m(\u001b[0m\u001b[0mint\u001b[0m\u001b[0;34m(\u001b[0m\u001b[0mfile_name\u001b[0m\u001b[0;34m[\u001b[0m\u001b[0;34m-\u001b[0m\u001b[0;36m8\u001b[0m\u001b[0;34m:\u001b[0m\u001b[0;34m-\u001b[0m\u001b[0;36m6\u001b[0m\u001b[0;34m]\u001b[0m\u001b[0;34m)\u001b[0m\u001b[0;34m)\u001b[0m\u001b[0;34m)\u001b[0m\u001b[0;34m[\u001b[0m\u001b[0;34m-\u001b[0m\u001b[0;36m2\u001b[0m\u001b[0;34m:\u001b[0m\u001b[0;34m]\u001b[0m\u001b[0;34m\u001b[0m\u001b[0;34m\u001b[0m\u001b[0m\n\u001b[0m",
      "\u001b[0;31mValueError\u001b[0m: invalid literal for int() with base 10: 'py'"
     ]
    }
   ],
   "source": [
    "number_str = ('0' + str(int(file_name[-8:-6])))[-2:]"
   ]
  },
  {
   "cell_type": "code",
   "execution_count": null,
   "id": "b58bab18",
   "metadata": {},
   "outputs": [],
   "source": []
  }
 ],
 "metadata": {
  "kernelspec": {
   "display_name": "pytorch_dev",
   "language": "python",
   "name": "pytorch_dev"
  },
  "language_info": {
   "codemirror_mode": {
    "name": "ipython",
    "version": 3
   },
   "file_extension": ".py",
   "mimetype": "text/x-python",
   "name": "python",
   "nbconvert_exporter": "python",
   "pygments_lexer": "ipython3",
   "version": "3.8.10"
  }
 },
 "nbformat": 4,
 "nbformat_minor": 5
}
