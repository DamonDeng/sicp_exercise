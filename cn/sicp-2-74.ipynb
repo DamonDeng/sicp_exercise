{
 "cells": [
  {
   "cell_type": "markdown",
   "id": "0454da55",
   "metadata": {},
   "source": [
    "## SICP 习题 （2.74）解题总结：数据导向程序设计的应用"
   ]
  },
  {
   "cell_type": "markdown",
   "id": "867a8e97",
   "metadata": {},
   "source": [
    "SICP 习题 2.74 是一道“应用题”，需要我们把数据导向的程序设计理念运用到现实情况中。\n",
    "\n",
    "本来打算简单说说思路就跳过这道题的，因为里面涉及到的数据没有具体提供。后来就觉得还是写段代码试试，看看在实际应用中会不会遇到一些问题。"
   ]
  },
  {
   "cell_type": "markdown",
   "id": "6b983021",
   "metadata": {},
   "source": [
    "题目的基本设定就是有家大公司，各个子公司的人员记录格式不同。题目要求我们为总公司设计一套通用的查询应用。\n",
    "\n",
    "如上面提到的，题目中并没有提及具体的数据格式，我就按照题目的意思大概做一套数据出来。先是创造两家子公司的数据，数据如下："
   ]
  },
  {
   "cell_type": "code",
   "execution_count": 11,
   "id": "35623818",
   "metadata": {},
   "outputs": [],
   "source": [
    "(define company-a-data '(\"company-a\" (user1 1800 \"street A\") (user1 1900 \"street B\")))\n",
    "(define company-b-data '(\"company-b\" ((user3 \"street C\") 2000 ) ((user4 \"street D\") 2300 )))"
   ]
  },
  {
   "cell_type": "markdown",
   "id": "3c1eb4f5",
   "metadata": {},
   "source": [
    "然后把习题2.73的(make-table)搞过来："
   ]
  },
  {
   "cell_type": "code",
   "execution_count": 12,
   "id": "52fafc63",
   "metadata": {},
   "outputs": [],
   "source": [
    "(define (assoc key records)\n",
    "  (cond ((null? records) #f)\n",
    "\t((equal? key (caar records)) (car records))\n",
    "\t(else (assoc key (cdr records)))))\n",
    "\n",
    "(define (make-table)\n",
    "  (let ((local-table (list '*table*)))\n",
    "    (define (lookup key-1 key-2)\n",
    "      (let ((subtable (assoc key-1 (cdr local-table))))\n",
    "\t(if subtable\n",
    "\t    (let ((record (assoc key-2 (cdr subtable))))\n",
    "\t      (if record\n",
    "\t\t  (cdr record)\n",
    "\t\t  #f))\n",
    "\t    #f)))\n",
    "    (define (insert! key-1 key-2 value)\n",
    "      (let ((subtable (assoc key-1 (cdr local-table))))\n",
    "\t(if subtable\n",
    "\t    (let ((record (assoc key-2 (cdr subtable))))\n",
    "\t      (if record\n",
    "\t\t  (set-cdr! record value)\n",
    "\t\t  (set-cdr! subtable\n",
    "\t\t\t    (cons (cons key-2 value)\n",
    "\t\t\t\t  (cdr subtable)))))\n",
    "\t    (set-cdr! local-table\n",
    "\t\t      (cons (list key-1\n",
    "\t\t\t\t  (cons key-2 value))\n",
    "\t\t\t    (cdr local-table)))))\n",
    "      'ok)\n",
    "    (define (dispatch m)\n",
    "      (cond ((eq? m 'lookup-proc) lookup)\n",
    "\t    ((eq? m 'insert-proc!) insert!)\n",
    "\t    (else (error \"Unknown operation -- TABLE\" m))))\n",
    "    dispatch))"
   ]
  },
  {
   "cell_type": "markdown",
   "id": "b9f961ce",
   "metadata": {},
   "source": [
    "照猫画虎封装一个get和put函数："
   ]
  },
  {
   "cell_type": "code",
   "execution_count": 13,
   "id": "14484b4f",
   "metadata": {},
   "outputs": [],
   "source": [
    "(define employee-table (make-table))\n",
    "\n",
    "(define get (employee-table 'lookup-proc))\n",
    "\n",
    "(define put (employee-table 'insert-proc!))"
   ]
  },
  {
   "cell_type": "markdown",
   "id": "0026609c",
   "metadata": {},
   "source": [
    "先测试一下："
   ]
  },
  {
   "cell_type": "code",
   "execution_count": 14,
   "id": "6463475b",
   "metadata": {},
   "outputs": [
    {
     "data": {
      "text/plain": [
       "ok"
      ]
     },
     "execution_count": 14,
     "metadata": {},
     "output_type": "execute_result"
    }
   ],
   "source": [
    "(put \"company-a\" 'get-record \n",
    "     (lambda (name data) \n",
    "       (define (a-inter employee-data )\n",
    "         (cond ((null? employee-data) #f)\n",
    "               ((eq? name (caar employee-data)) (car employee-data))\n",
    "               (else (a-inter (cdr employee-data)))))\n",
    "       (a-inter (cdr data))\n",
    "       \n",
    "     \n",
    "     ))"
   ]
  },
  {
   "cell_type": "code",
   "execution_count": 15,
   "id": "110be06f",
   "metadata": {},
   "outputs": [
    {
     "data": {
      "text/plain": [
       "(user1 1800 \"street A\")"
      ]
     },
     "execution_count": 15,
     "metadata": {},
     "output_type": "execute_result"
    }
   ],
   "source": [
    "((get \"company-a\" 'get-record) 'user1 company-a-data)"
   ]
  },
  {
   "cell_type": "code",
   "execution_count": 16,
   "id": "0b768629",
   "metadata": {},
   "outputs": [
    {
     "data": {
      "text/plain": [
       "ok"
      ]
     },
     "execution_count": 16,
     "metadata": {},
     "output_type": "execute_result"
    }
   ],
   "source": [
    "(put \"company-b\" 'get-record \n",
    "     (lambda (name data) \n",
    "       (define (a-inter employee-data )\n",
    "         (cond ((null? employee-data) #f)\n",
    "               ((eq? name (caaar employee-data)) (car employee-data))\n",
    "               (else (a-inter (cdr employee-data)))))\n",
    "       (a-inter (cdr data))\n",
    "       \n",
    "     \n",
    "     ))"
   ]
  },
  {
   "cell_type": "code",
   "execution_count": 17,
   "id": "2ee0b04d",
   "metadata": {},
   "outputs": [
    {
     "data": {
      "text/plain": [
       "((user3 \"street C\") 2000)"
      ]
     },
     "execution_count": 17,
     "metadata": {},
     "output_type": "execute_result"
    }
   ],
   "source": [
    "((get \"company-b\" 'get-record) 'user3 company-b-data)"
   ]
  },
  {
   "cell_type": "markdown",
   "id": "3a116e17",
   "metadata": {},
   "source": [
    "然后就是定义get-record，get-record方法按照题目的意思只能输入员工ID和数据，那我们的数据里就需要表明该数据属于哪个子公司，所以在数据定义里我加了第一个元素用于描述公司名。"
   ]
  },
  {
   "cell_type": "code",
   "execution_count": 22,
   "id": "e78eaff4",
   "metadata": {},
   "outputs": [],
   "source": [
    "(define (get-record name employee-data)\n",
    "  (define company-name (car employee-data))\n",
    "  \n",
    "  ((get company-name 'get-record) name employee-data)\n",
    "  )"
   ]
  },
  {
   "cell_type": "code",
   "execution_count": 23,
   "id": "3dc26256",
   "metadata": {},
   "outputs": [
    {
     "data": {
      "text/plain": [
       "(user1 1800 \"street A\")"
      ]
     },
     "execution_count": 23,
     "metadata": {},
     "output_type": "execute_result"
    }
   ],
   "source": [
    "(get-record 'user1 company-a-data)"
   ]
  },
  {
   "cell_type": "code",
   "execution_count": 24,
   "id": "d72ce20d",
   "metadata": {},
   "outputs": [
    {
     "data": {
      "text/plain": [
       "((user3 \"street C\") 2000)"
      ]
     },
     "execution_count": 24,
     "metadata": {},
     "output_type": "execute_result"
    }
   ],
   "source": [
    "(get-record 'user3 company-b-data)"
   ]
  },
  {
   "cell_type": "markdown",
   "id": "53c8ffb4",
   "metadata": {},
   "source": [
    "大概按照书上的说明写了部分，因为没有具体的数据，所以写起代码来也不清楚有没有符合题目的要求。\n",
    "\n",
    "写得没劲，于是后面几个小题跳过"
   ]
  },
  {
   "cell_type": "code",
   "execution_count": null,
   "id": "aac24461",
   "metadata": {},
   "outputs": [],
   "source": []
  }
 ],
 "metadata": {
  "kernelspec": {
   "display_name": "Calysto Scheme 3",
   "language": "scheme",
   "name": "calysto_scheme"
  },
  "language_info": {
   "codemirror_mode": {
    "name": "scheme"
   },
   "mimetype": "text/x-scheme",
   "name": "scheme",
   "pygments_lexer": "scheme"
  }
 },
 "nbformat": 4,
 "nbformat_minor": 5
}
