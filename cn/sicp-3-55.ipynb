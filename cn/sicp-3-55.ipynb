{
 "cells": [
  {
   "cell_type": "markdown",
   "id": "079f4e51",
   "metadata": {},
   "source": [
    "## title"
   ]
  },
  {
   "cell_type": "code",
   "execution_count": null,
   "id": "51239efd",
   "metadata": {},
   "outputs": [],
   "source": [
    "(define (stream-enumerate-interval low high)\n",
    "  (if (> low high)\n",
    "      the-empty-stream\n",
    "      (cons-stream \n",
    "       low\n",
    "       (stream-enumerate-interval (+ low 1) high))))\n",
    "\n",
    "(define integers (stream-enumerate-interval 1 50))\n",
    "\n",
    "\n",
    "\n",
    "(define (stream-map proc . argstreams)\n",
    "  (if (null? (car argstreams))\n",
    "      the-empty-stream\n",
    "      (cons-stream\n",
    "       (apply proc (map (lambda (x) (stream-car x)) argstreams))\n",
    "       (apply stream-map\n",
    "\t      (cons proc (map (lambda (x) (stream-cdr x)) argstreams))))))\n",
    "\n",
    "\n",
    "(define (add-streams s1 s2)\n",
    "  (stream-map + s1 s2))\n",
    "\n",
    "(define (stream-for-each proc s)\n",
    "  (if (stream-null? s)\n",
    "      'done\n",
    "      (begin (proc (stream-car s))\n",
    "\t     (stream-for-each proc (stream-cdr s)))))\n",
    "\n",
    "\n",
    "(define (display-stream s)\n",
    "  (stream-for-each display-line s))\n",
    "\n",
    "\n",
    "\n",
    "\n",
    "(define (add-streams s1 s2)\n",
    "  (stream-map + s1 s2))\n",
    "\n",
    "(define (mul-streams s1 s2)\n",
    "  (stream-map * s1 s2))\n",
    "\n",
    "(define factorials (cons-stream 1 (mul-streams integers factorials)))\n",
    "\n",
    "(define (partial-sums s)\n",
    "  (define result-s (cons-stream (stream-car s) (add-streams (stream-cdr s) result-s)))\n",
    "  result-s)\n",
    "\n",
    "\n",
    "(define (start-test-3-55)\n",
    "\n",
    "  (define testing (partial-sums integers))\n",
    "  \n",
    "  (display \"elements 0 is: \") (display (stream-ref testing 0)) (newline)\n",
    "  \n",
    "  (display \"elements 1 is: \") (display (stream-ref testing 1)) (newline)\n",
    "  (display \"elements 2 is: \") (display (stream-ref testing 2)) (newline)\n",
    "  (display \"elements 3 is: \") (display (stream-ref testing 3)) (newline)\n",
    "  (display \"elements 4 is: \") (display (stream-ref testing 4)) (newline)\n",
    "  (display \"elements 5 is: \") (display (stream-ref testing 5)) (newline)\n",
    "  (display \"elements 6 is: \") (display (stream-ref testing 6)) (newline)\n",
    "\n",
    ")\n",
    "\n",
    "\n",
    "\n"
   ]
  }
 ],
 "metadata": {
  "kernelspec": {
   "display_name": "Calysto Scheme 3",
   "language": "scheme",
   "name": "calysto_scheme"
  },
  "language_info": {
   "codemirror_mode": {
    "name": "scheme"
   },
   "mimetype": "text/x-scheme",
   "name": "scheme",
   "pygments_lexer": "scheme"
  }
 },
 "nbformat": 4,
 "nbformat_minor": 5
}
