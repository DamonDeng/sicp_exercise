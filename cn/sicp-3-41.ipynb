{
 "cells": [
  {
   "cell_type": "markdown",
   "id": "079f4e51",
   "metadata": {},
   "source": [
    "## title"
   ]
  },
  {
   "cell_type": "code",
   "execution_count": 1,
   "id": "51239efd",
   "metadata": {},
   "outputs": [],
   "source": [
    "(define (start-test-3-41)\n",
    "  (display \"Ben's modification is not necessary, as we only access one variable while acessing balance\")\n",
    "  (newline))"
   ]
  },
  {
   "cell_type": "code",
   "execution_count": null,
   "id": "b5fc2d75",
   "metadata": {},
   "outputs": [],
   "source": []
  }
 ],
 "metadata": {
  "kernelspec": {
   "display_name": "Calysto Scheme 3",
   "language": "scheme",
   "name": "calysto_scheme"
  },
  "language_info": {
   "codemirror_mode": {
    "name": "scheme"
   },
   "mimetype": "text/x-scheme",
   "name": "scheme",
   "pygments_lexer": "scheme"
  }
 },
 "nbformat": 4,
 "nbformat_minor": 5
}
