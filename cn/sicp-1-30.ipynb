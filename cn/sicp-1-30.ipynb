{
 "cells": [
  {
   "cell_type": "markdown",
   "id": "06d55a7c",
   "metadata": {},
   "source": [
    "## SICP 习题 （1.30）解题总结"
   ]
  },
  {
   "cell_type": "markdown",
   "id": "f2b3f698",
   "metadata": {},
   "source": [
    "SICP 习题1.30看上去像是一条复习题，要求我们将一个线性递归过程改写成一个迭代过程。\n",
    "\n",
    "需要改写的过程如下："
   ]
  },
  {
   "cell_type": "code",
   "execution_count": 1,
   "id": "7cf237bd",
   "metadata": {},
   "outputs": [],
   "source": [
    "(define (sum term a next b)\n",
    "  (if (> a b)\n",
    "      0\n",
    "      (+ (term a)\n",
    "\t (sum term (next a) next b))))"
   ]
  },
  {
   "cell_type": "markdown",
   "id": "52719f7d",
   "metadata": {},
   "source": [
    "不过仔细看看题目就会发现，这道题和一般的递归该迭代的习题不同，这道题把过程term 和next当参数进行传递，其灵魂还是高阶函数。\n",
    "\n",
    "当我们逐渐习惯把一个过程当做普通的数据进行处理，就会发现这些东西其实没有那么难。"
   ]
  },
  {
   "cell_type": "markdown",
   "id": "cc13be32",
   "metadata": {},
   "source": [
    "现在有notebook环境可以直接运行测试，所以直接跑一个结果出来，对原函数的理解会比较深入。\n",
    "\n",
    "原函数接受几个参数，一个需要对元素进行的操作term，一个是起点a，一个是获取下一个数的函数next，一个是终点b\n",
    "\n",
    "下面定义square函数为term， increase函数（简单的+1操作）为next函数。\n",
    "\n",
    "按我们常见的python循环大概是这个意思：\n",
    "\n",
    "    result = 0\n",
    "    for i in range(a, b+1):\n",
    "        result = result + i*i"
   ]
  },
  {
   "cell_type": "code",
   "execution_count": 5,
   "id": "272e27af",
   "metadata": {},
   "outputs": [
    {
     "data": {
      "text/plain": [
       "14"
      ]
     },
     "execution_count": 5,
     "metadata": {},
     "output_type": "execute_result"
    }
   ],
   "source": [
    "(define (square x) (* x x))\n",
    "(define (increase x) (+ x 1))\n",
    "(sum square 1 increase 3)"
   ]
  },
  {
   "cell_type": "markdown",
   "id": "09d92881",
   "metadata": {},
   "source": [
    "按以前的递归转迭代的思路，主要是寻找中间的不变量。\n",
    "\n",
    "这里我们就定义参数result记录每次累加的结果，每次都先完成计算，将计算结果累加到result中后再进行“递归调用”。\n",
    "\n",
    "定义的迭代过程如下： "
   ]
  },
  {
   "cell_type": "code",
   "execution_count": 9,
   "id": "8806eeed",
   "metadata": {},
   "outputs": [],
   "source": [
    ";; (define (iter a result)\n",
    ";;     (if (> a b)\n",
    ";; \tresult\n",
    ";; \t(iter (next a) (+ (term a) result))))"
   ]
  },
  {
   "cell_type": "markdown",
   "id": "4af4083e",
   "metadata": {},
   "source": [
    "然后通过(iter a 0)来启动计算，最终结果如下："
   ]
  },
  {
   "cell_type": "code",
   "execution_count": 7,
   "id": "6117b1d9",
   "metadata": {},
   "outputs": [],
   "source": [
    "(define (sum-iter term a next b )\n",
    "  (define (iter a result)\n",
    "    (if (> a b)\n",
    "\tresult\n",
    "\t(iter (next a) (+ (term a) result))))\n",
    "  (iter a 0))"
   ]
  },
  {
   "cell_type": "markdown",
   "id": "ac1f9be9",
   "metadata": {},
   "source": [
    "简单测试一下："
   ]
  },
  {
   "cell_type": "code",
   "execution_count": 8,
   "id": "0ccaf657",
   "metadata": {},
   "outputs": [
    {
     "data": {
      "text/plain": [
       "14"
      ]
     },
     "execution_count": 8,
     "metadata": {},
     "output_type": "execute_result"
    }
   ],
   "source": [
    "(sum-iter square 1 increase 3)"
   ]
  }
 ],
 "metadata": {
  "kernelspec": {
   "display_name": "Calysto Scheme 3",
   "language": "scheme",
   "name": "calysto_scheme"
  },
  "language_info": {
   "codemirror_mode": {
    "name": "scheme"
   },
   "mimetype": "text/x-scheme",
   "name": "scheme",
   "pygments_lexer": "scheme"
  }
 },
 "nbformat": 4,
 "nbformat_minor": 5
}
