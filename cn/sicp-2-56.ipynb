{
 "cells": [
  {
   "cell_type": "markdown",
   "id": "0454da55",
   "metadata": {},
   "source": [
    "## SICP 习题 （2.56）解题总结：求导规则的增加"
   ]
  },
  {
   "cell_type": "markdown",
   "id": "969a4408",
   "metadata": {},
   "source": [
    "SICP 习题 2.56开始又进入普通程序员苦恼的领域，关于导数。\n",
    "\n",
    "很多程序员可能学过导数，但是忘了！\n",
    "\n",
    "有更多的程序员可能就没有学习过导数，比如开过课就没怎么听那种。\n",
    "\n",
    "面对这种题，和之前一样有两种策略，一种是抛开数学概念直接从逻辑角度去理解，这种方法马上可以干活，但是心里面一直都会有点虚；另一种方法就是去补习一下导数的概念，这种方法可以深入理解题目，对以后学习其它计算机领域的知识也起很大作用，比如神经网络的理解就需要对偏导数的概念有清晰的认知，但是这种方法有个极大的弊端，那就是你去翻开数学书或者数学网站的时候你就放弃了。。。。。\n",
    "\n"
   ]
  },
  {
   "cell_type": "markdown",
   "id": "34090273",
   "metadata": {},
   "source": [
    "回到题目上，这一节的内容主要是关于求导规则，希望用语言的方式实现求导规则。\n",
    "\n",
    "那首先要看看基本的求导规则：\n",
    "\n",
    "$$ \\frac {dc} {dx} = 0 $$ \n",
    "\n",
    "$$ \\frac {dx} {dx} = 1 $$ \n",
    "\n",
    "$$ \\frac {d(u+v)} {dx} = \\frac {du} {dx} + \\frac {dv} {dx} $$ \n",
    "\n",
    "$$ \\frac {d(uv)} {dx} = u \\left( {\\frac {dv} {dx}} \\right)  + v \\left( {\\frac {du} {dx}} \\right)$$ \n",
    "\n"
   ]
  },
  {
   "cell_type": "markdown",
   "id": "caed106a",
   "metadata": {},
   "source": [
    "可以看到这里的求值规则和我们之前考虑的函数求值规则是很类似的，对复杂的求导公式，可以分别对其中的不同部分进行展开，展开成基本的可以直接求值的部分，然后对基本部分进行求值，不断归约，最后得出结果。"
   ]
  },
  {
   "cell_type": "markdown",
   "id": "a21d2ea8",
   "metadata": {},
   "source": [
    "要完成习题需要先按照书上的介绍先把基础部分实现了，大部分都可以抄代码.\n",
    "\n",
    "实现之前可以先看看deriv函数的实现，先看看整体思路，这样对理解单个基础组件很有帮助"
   ]
  },
  {
   "cell_type": "code",
   "execution_count": 11,
   "id": "fbda4ba5",
   "metadata": {},
   "outputs": [],
   "source": [
    "(define (deriv exp var)\n",
    "  (cond ((number? exp) 0)\n",
    "\t((variable? exp)\n",
    "\t (if (same-variable? exp var) 1 0))\n",
    "\t((sum? exp)\n",
    "\t (make-sum (deriv (addend exp) var)\n",
    "\t\t   (deriv (augend exp) var)))\n",
    "\t((product? exp)\n",
    "\t (make-sum\n",
    "\t  (make-product (multiplier exp)\n",
    "\t\t\t(deriv (multiplicand exp) var))\n",
    "\t  (make-product (deriv (multiplier exp) var)\n",
    "\t\t\t(multiplicand exp))))\n",
    "\t((exponentiation? exp)\n",
    "\t (let ((n (exponent exp))\n",
    "\t       (u (base exp)))\n",
    "\t   (make-product\n",
    "\t    n\n",
    "\t    (make-product\n",
    "\t     (make-exponentiation\n",
    "\t      u\n",
    "\t      (- n 1))\n",
    "\t     (deriv u var)))))\n",
    "\t(else \n",
    "\t (error \"unkonwn expression type -- DERIV\" exp))))"
   ]
  },
  {
   "cell_type": "markdown",
   "id": "d8a2e93d",
   "metadata": {},
   "source": [
    "以上代码的主要思路就是按求导规则做判断，如果表达式是个数字，就返回0， 如果表达式和求导变量是一个变量，就返回1，如果表达式是个加法，就递归调用derive，然后将结果相加，如果表达式是个乘法，就对因子分别求导，交叉相乘。\n",
    "\n",
    "为了实现以上的判断，先要实现各种判断函数："
   ]
  },
  {
   "cell_type": "code",
   "execution_count": 12,
   "id": "6e98897a",
   "metadata": {},
   "outputs": [],
   "source": [
    "(define (variable? x) (symbol? x))"
   ]
  },
  {
   "cell_type": "code",
   "execution_count": 15,
   "id": "087f163c",
   "metadata": {},
   "outputs": [
    {
     "data": {
      "text/plain": [
       "#f"
      ]
     },
     "execution_count": 15,
     "metadata": {},
     "output_type": "execute_result"
    }
   ],
   "source": [
    "(variable? '1)"
   ]
  },
  {
   "cell_type": "code",
   "execution_count": 14,
   "id": "243f5d0a",
   "metadata": {},
   "outputs": [
    {
     "data": {
      "text/plain": [
       "#t"
      ]
     },
     "execution_count": 14,
     "metadata": {},
     "output_type": "execute_result"
    }
   ],
   "source": [
    "(variable? 'a)"
   ]
  },
  {
   "cell_type": "code",
   "execution_count": 16,
   "id": "eba8c8b9",
   "metadata": {},
   "outputs": [],
   "source": [
    "(define (same-variable? v1 v2)\n",
    "  (and (variable? v1) (variable? v2) (eq? v1 v2)))"
   ]
  },
  {
   "cell_type": "code",
   "execution_count": 17,
   "id": "41c45521",
   "metadata": {},
   "outputs": [
    {
     "data": {
      "text/plain": [
       "#t"
      ]
     },
     "execution_count": 17,
     "metadata": {},
     "output_type": "execute_result"
    }
   ],
   "source": [
    "(same-variable? 'a 'a)"
   ]
  },
  {
   "cell_type": "code",
   "execution_count": 18,
   "id": "4bc9785f",
   "metadata": {},
   "outputs": [
    {
     "data": {
      "text/plain": [
       "#f"
      ]
     },
     "execution_count": 18,
     "metadata": {},
     "output_type": "execute_result"
    }
   ],
   "source": [
    "(same-variable? 'a '1)"
   ]
  },
  {
   "cell_type": "code",
   "execution_count": 19,
   "id": "9758b959",
   "metadata": {},
   "outputs": [],
   "source": [
    "(define (make-sum-original a1 a2) (list '+ a1 a2))"
   ]
  },
  {
   "cell_type": "code",
   "execution_count": 20,
   "id": "1bfa2e7b",
   "metadata": {},
   "outputs": [
    {
     "data": {
      "text/plain": [
       "(+ 1 2)"
      ]
     },
     "execution_count": 20,
     "metadata": {},
     "output_type": "execute_result"
    }
   ],
   "source": [
    "(make-sum-original '1 '2)"
   ]
  },
  {
   "cell_type": "markdown",
   "id": "0e00e40e",
   "metadata": {},
   "source": [
    "上面是构建一个和式，不过这个和式没有做简化，1 + 2不就是3嘛，应该返回3才是，\n",
    "\n",
    "于是有下面这个加强版的(make-sum)"
   ]
  },
  {
   "cell_type": "code",
   "execution_count": 24,
   "id": "9a883a8a",
   "metadata": {},
   "outputs": [],
   "source": [
    "(define (=number? exp num)\n",
    "  (and (number? exp) (= exp num)))\n",
    "\n",
    "(define (make-sum a1 a2)\n",
    "  (cond ((=number? a1 0) a2)\n",
    "\t((=number? a2 0) a1)\n",
    "\t((and (number? a1) (number? a2)) (+ a1 a2))\n",
    "\t(else \n",
    "\t (list '+ a1 a2))))"
   ]
  },
  {
   "cell_type": "code",
   "execution_count": 25,
   "id": "08daabaf",
   "metadata": {},
   "outputs": [
    {
     "data": {
      "text/plain": [
       "3"
      ]
     },
     "execution_count": 25,
     "metadata": {},
     "output_type": "execute_result"
    }
   ],
   "source": [
    "(make-sum '1 '2)"
   ]
  },
  {
   "cell_type": "markdown",
   "id": "e4f83e01",
   "metadata": {},
   "source": [
    "乘式也做类似的处理："
   ]
  },
  {
   "cell_type": "code",
   "execution_count": 26,
   "id": "02c4d3ac",
   "metadata": {},
   "outputs": [],
   "source": [
    "(define (make-product-original m1 m2) (list '* m1 m2))\n",
    "\n",
    "(define (make-product m1 m2)\n",
    "  (cond ((or (=number? m1 0) (=number? m2 0)) 0)\n",
    "\t((=number? m1 1) m2)\n",
    "\t((=number? m2 1) m1)\n",
    "\t((and (number? m1) (number? m2)) (* m1 m2))\n",
    "\t(else (list '* m1 m2))))"
   ]
  },
  {
   "cell_type": "code",
   "execution_count": 27,
   "id": "5434cb20",
   "metadata": {},
   "outputs": [
    {
     "data": {
      "text/plain": [
       "135"
      ]
     },
     "execution_count": 27,
     "metadata": {},
     "output_type": "execute_result"
    }
   ],
   "source": [
    "(make-product '3 '45)"
   ]
  },
  {
   "cell_type": "code",
   "execution_count": 28,
   "id": "2de1a1df",
   "metadata": {},
   "outputs": [
    {
     "data": {
      "text/plain": [
       "(* a 45)"
      ]
     },
     "execution_count": 28,
     "metadata": {},
     "output_type": "execute_result"
    }
   ],
   "source": [
    "(make-product 'a '45)"
   ]
  },
  {
   "cell_type": "markdown",
   "id": "18b275c0",
   "metadata": {},
   "source": [
    "然后式对加式的判断和处理，通过判断表达式的第一个参数是不是`+`来确定表达式是不是加式。\n",
    "\n",
    "然后通过取表达式第二个参数取得加法的第一个数\n",
    "\n",
    "通过取表达式的第三个参数去的加法的第二个数，不过。。。。， 如果是`(+ x y z)`者中形式就有点麻烦，用`(caddr)`可以取第三个参数，但是把后面的z漏掉了，所有就需要判断一下后面还有没有参数，有后面的参数的话就把第三个参数和以后的所有参数变成一个新的加式，就是把`(+ x y z)` 当作 `'(+ x (+ y z))`\n",
    "\n",
    "当我们处理了这个问题以后其实就把题目2.57也解决了。"
   ]
  },
  {
   "cell_type": "code",
   "execution_count": 40,
   "id": "48fa412d",
   "metadata": {},
   "outputs": [],
   "source": [
    "(define (sum? x)\n",
    "  (and (pair? x) (eq? (car x) '+)))\n",
    "\n",
    "(define (addend s) (cadr s))\n",
    "\n",
    "(define (augend-original s) (cddr s))\n",
    "\n",
    "(define (augend s) \n",
    "   (if (null? (cdddr s)) \n",
    "       (caddr s) \n",
    "       (cons '+ (cddr s))))"
   ]
  },
  {
   "cell_type": "markdown",
   "id": "97215c04",
   "metadata": {},
   "source": [
    "然后是乘式的处理，方法和加式的处理几乎一样，大家也可以想想是不是可以抽象出更高阶的方法生成加式处理函数和乘式处理函数"
   ]
  },
  {
   "cell_type": "code",
   "execution_count": 42,
   "id": "2f1a38ae",
   "metadata": {},
   "outputs": [],
   "source": [
    "(define (product? x)\n",
    "  (and (pair? x) (eq? (car x) '*)))\n",
    "\n",
    "(define (multiplier p) (cadr p))\n",
    "\n",
    "(define (multiplicand-original p) (caddr p))\n",
    "\n",
    "\n",
    " (define (multiplicand p) \n",
    "   (if (null? (cdddr p)) \n",
    "       (caddr p) \n",
    "       (cons '* (cddr p)))) \n"
   ]
  },
  {
   "cell_type": "markdown",
   "id": "faeacdda",
   "metadata": {},
   "source": [
    "到这里就可以先测试一下现在的求导函数了："
   ]
  },
  {
   "cell_type": "code",
   "execution_count": 43,
   "id": "a8397ca3",
   "metadata": {},
   "outputs": [
    {
     "data": {
      "text/plain": [
       "1"
      ]
     },
     "execution_count": 43,
     "metadata": {},
     "output_type": "execute_result"
    }
   ],
   "source": [
    "(deriv '(+ x 3) 'x)"
   ]
  },
  {
   "cell_type": "code",
   "execution_count": 44,
   "id": "0f0b6e14",
   "metadata": {},
   "outputs": [
    {
     "data": {
      "text/plain": [
       "y"
      ]
     },
     "execution_count": 44,
     "metadata": {},
     "output_type": "execute_result"
    }
   ],
   "source": [
    "(deriv '(* x y) 'x)"
   ]
  },
  {
   "cell_type": "markdown",
   "id": "5af2ffbf",
   "metadata": {},
   "source": [
    "然后就到了题目要求的增加求导规则了，题目要求增加指数计算的求导。\n",
    "\n",
    "基本上就是参考加式处理和乘式处理，有(make-exponentitation)用于生成指数表达，然后(exponentiation?)用于判断一个表达式是不是指数式，然后还有获取表达式各元素的方法。"
   ]
  },
  {
   "cell_type": "code",
   "execution_count": 46,
   "id": "79d19ef1",
   "metadata": {},
   "outputs": [],
   "source": [
    "(define (make-exponentiation base exponent)\n",
    "  (cond ((= exponent 0)\n",
    "\t 1)\n",
    "\t((= exponent 1)\n",
    "\t base)\n",
    "\t(else\n",
    "\t (list '** base exponent))))\n",
    "\n",
    "(define (exponentiation? x)\n",
    "  (and (pair? x)\n",
    "       (eq? (car x) '**)))\n",
    "\n",
    "(define (base exp)\n",
    "  (cadr exp))\n",
    "\n",
    "(define (exponent exp)\n",
    "  (caddr exp))"
   ]
  },
  {
   "cell_type": "markdown",
   "id": "b3bd177b",
   "metadata": {},
   "source": [
    "最后在deriv函数里加上对指数的处理："
   ]
  },
  {
   "cell_type": "code",
   "execution_count": 47,
   "id": "6cf0af19",
   "metadata": {},
   "outputs": [],
   "source": [
    "(define (deriv exp var)\n",
    "  (cond ((number? exp) 0)\n",
    "\t((variable? exp)\n",
    "\t (if (same-variable? exp var) 1 0))\n",
    "\t((sum? exp)\n",
    "\t (make-sum (deriv (addend exp) var)\n",
    "\t\t   (deriv (augend exp) var)))\n",
    "\t((product? exp)\n",
    "\t (make-sum\n",
    "\t  (make-product (multiplier exp)\n",
    "\t\t\t(deriv (multiplicand exp) var))\n",
    "\t  (make-product (deriv (multiplier exp) var)\n",
    "\t\t\t(multiplicand exp))))\n",
    "\t((exponentiation? exp)\n",
    "\t (let ((n (exponent exp))\n",
    "\t       (u (base exp)))\n",
    "\t   (make-product\n",
    "\t    n\n",
    "\t    (make-product\n",
    "\t     (make-exponentiation\n",
    "\t      u\n",
    "\t      (- n 1))\n",
    "\t     (deriv u var)))))\n",
    "\t(else \n",
    "\t (error \"unkonwn expression type -- DERIV\" exp))))\n",
    "\n",
    "\n",
    "(define (start-base-test-2-56)\n",
    "  (display (deriv '(+ x 3) 'x)) (newline)\n",
    "\n",
    "  (display (deriv '(* x y) 'x)) (newline)\n",
    "\n",
    "  (display (deriv '(* (* x y) (+ x 3)) 'x))(newline)) \n",
    "\n",
    "(define (start-test-2-56)\n",
    "  (display (deriv '(** x 6) 'x)) (newline))"
   ]
  },
  {
   "cell_type": "code",
   "execution_count": 48,
   "id": "e6a2b08d",
   "metadata": {},
   "outputs": [
    {
     "name": "stdout",
     "output_type": "stream",
     "text": [
      "1\n",
      "y\n",
      "(+ (* x y) (* y (+ x 3)))\n"
     ]
    }
   ],
   "source": [
    "(start-base-test-2-56)"
   ]
  },
  {
   "cell_type": "code",
   "execution_count": 49,
   "id": "b4d70202",
   "metadata": {},
   "outputs": [
    {
     "name": "stdout",
     "output_type": "stream",
     "text": [
      "(* 6 (** x 5))\n"
     ]
    }
   ],
   "source": [
    "(start-test-2-56)"
   ]
  },
  {
   "cell_type": "code",
   "execution_count": null,
   "id": "4bbacc6a",
   "metadata": {},
   "outputs": [],
   "source": []
  }
 ],
 "metadata": {
  "kernelspec": {
   "display_name": "Calysto Scheme 3",
   "language": "scheme",
   "name": "calysto_scheme"
  },
  "language_info": {
   "codemirror_mode": {
    "name": "scheme"
   },
   "mimetype": "text/x-scheme",
   "name": "scheme",
   "pygments_lexer": "scheme"
  }
 },
 "nbformat": 4,
 "nbformat_minor": 5
}
