{
 "cells": [
  {
   "cell_type": "markdown",
   "id": "0454da55",
   "metadata": {},
   "source": [
    "## SICP 习题 （2.42）解题总结：八皇后问题"
   ]
  },
  {
   "cell_type": "markdown",
   "id": "eafaab73",
   "metadata": {},
   "source": [
    "著名的八皇后问题，题目要求就不需要再这里讲解了，估计大家都知道这个问题。\n",
    "\n",
    "真没有刷过算法题，没见过这个题目的话，题干里也有非常清晰的讲述。"
   ]
  },
  {
   "cell_type": "markdown",
   "id": "2a112fd0",
   "metadata": {},
   "source": [
    "直接上代码，以后有空回头整理一下，加上当时的一些思路："
   ]
  },
  {
   "cell_type": "code",
   "execution_count": 3,
   "id": "a8ce1ed6",
   "metadata": {},
   "outputs": [],
   "source": [
    "(define (queens board-size)\n",
    "  (define (queen-cols k)\n",
    "    (if (= k 0)\n",
    "\t(list empty-board)\n",
    "\t(filter\n",
    "\t (lambda (positions) (safe? k positions))\n",
    "\t (flatmap\n",
    "\t  (lambda (rest-of-queens)\n",
    "\t    (map (lambda (new-row)\n",
    "\t\t   (adjoin-position new-row k rest-of-queens))\n",
    "\t\t (enumerate-interval 1 board-size)))\n",
    "\t  (queen-cols (- k 1))))))\n",
    "  (queen-cols board-size))\n",
    "\n",
    "\n",
    "(define empty-board '())\n",
    "\n",
    "(define (safe? k positions)\n",
    "  (if (or (same-row (car positions) (cdr positions))\n",
    "\t  (same-45 k (car positions) (cdr positions))\n",
    "\t  (same-135 k (car positions) (cdr positions)))\n",
    "      #f\n",
    "      #t))\n",
    "\n",
    "(define (same-row first-one left-positions)\n",
    "  (if (null? left-positions)\n",
    "      #f\n",
    "      (memq first-one left-positions)) )\n",
    "\n",
    "(define (same-45 k first-one left-positions)\n",
    " \n",
    "  (if (null? left-positions)\n",
    "      #f\n",
    "      (if (< first-one 1)\n",
    "\t  #f\n",
    "\t  (if (= (- first-one 1) (car left-positions))\n",
    "\t      #t\n",
    "\t      (same-45 k (- first-one 1) (cdr left-positions))))))\n",
    "\n",
    "(define (same-135 k first-one left-positions)\n",
    " \n",
    "  (if (null? left-positions)\n",
    "      #f\n",
    "      \t  (if (= (+ first-one 1) (car left-positions))\n",
    "\t      #t\n",
    "\t      (same-135 k (+ first-one 1) (cdr left-positions)))))\n",
    "\t      \n",
    "\n",
    "(define (flat-map-test)\n",
    "   (flatmap\n",
    "\t  (lambda (rest-of-queens)\n",
    "\t    (map (lambda (new-row)\n",
    "\t\t   (adjoin-position new-row 1 rest-of-queens))\n",
    "\t\t (enumerate-interval 1 9)))\n",
    "\t  queen-cols-1))\n",
    "\n",
    " (define queen-cols-1 '((1) (2) (3) (4) (5) (6) (7) (8) (9)))\n",
    "\n",
    "(define (adjoin-position new-row k rest-of-queens)\n",
    "  \n",
    "\t (append  (list new-row) rest-of-queens))\n",
    "\n",
    "(define (enumerate-interval low high) \n",
    "   (if (> low high) \n",
    "       '()\n",
    "       (cons low (enumerate-interval (+ low 1) high)))) \n",
    "\n",
    "(define (accumulate op initial sequence)\n",
    "  (if (null? sequence)\n",
    "      initial\n",
    "      (op (car sequence)\n",
    "\t  (accumulate op initial (cdr sequence)))))\n",
    "\n",
    "(define (flatmap proc seq)\n",
    "  (accumulate append '() (map proc seq)))\n",
    "\n",
    "(define (increase-one x)\n",
    "  (+ x 1))\n",
    "\n",
    "(define (increase-list-element list-x)\n",
    "  (map increase-one list-x))\n",
    "\n",
    "(define (filter function input-list)\n",
    "  (if (pair? input-list)\n",
    "      (if (function (car input-list))\n",
    "          (cons (car input-list) (filter function (cdr input-list)))\n",
    "          (filter function (cdr input-list)))\n",
    "      ()\n",
    "      ))"
   ]
  },
  {
   "cell_type": "code",
   "execution_count": 4,
   "id": "481200e6",
   "metadata": {},
   "outputs": [
    {
     "data": {
      "text/plain": [
       "((4 2 7 3 6 8 5 1) (5 2 4 7 3 8 6 1) (3 5 2 8 6 4 7 1) (3 6 4 2 8 5 7 1) (5 7 1 3 8 6 4 2) (4 6 8 3 1 7 5 2) (3 6 8 1 4 7 5 2) (5 3 8 4 7 1 6 2) (5 7 4 1 3 8 6 2) (4 1 5 8 6 3 7 2) (3 6 4 1 8 5 7 2) (4 7 5 3 1 6 8 2) (6 4 2 8 5 7 1 3) (6 4 7 1 8 2 5 3) (1 7 4 6 8 2 5 3) (6 8 2 4 1 7 5 3) (6 2 7 1 4 8 5 3) (4 7 1 8 5 2 6 3) (5 8 4 1 7 2 6 3) (4 8 1 5 7 2 6 3) (2 7 5 8 1 4 6 3) (1 7 5 8 2 4 6 3) (2 5 7 4 1 8 6 3) (4 2 7 5 1 8 6 3) (5 7 1 4 2 8 6 3) (6 4 1 5 8 2 7 3) (5 1 4 6 8 2 7 3) (5 2 6 1 7 4 8 3) (6 3 7 2 8 5 1 4) (2 7 3 6 8 5 1 4) (7 3 1 6 8 5 2 4) (5 1 8 6 3 7 2 4) (1 5 8 6 3 7 2 4) (3 6 8 1 5 7 2 4) (6 3 1 7 5 8 2 4) (7 5 3 1 6 8 2 4) (7 3 8 2 5 1 6 4) (5 3 1 7 2 8 6 4) (2 5 7 1 3 8 6 4) (3 6 2 5 8 1 7 4) (6 1 5 2 8 3 7 4) (8 3 1 6 2 5 7 4) (2 8 6 1 3 5 7 4) (5 7 2 6 3 1 8 4) (3 6 2 7 5 1 8 4) (6 2 7 1 3 5 8 4) (3 7 2 8 6 4 1 5) (6 3 7 2 4 8 1 5) (4 2 7 3 6 8 1 5) (7 1 3 8 6 4 2 5) (1 6 8 3 7 4 2 5) (3 8 4 7 1 6 2 5) (6 3 7 4 1 8 2 5) (7 4 2 8 6 1 3 5) (4 6 8 2 7 1 3 5) (2 6 1 7 4 8 3 5) (2 4 6 8 3 1 7 5) (3 6 8 2 4 1 7 5) (6 3 1 8 4 2 7 5) (8 4 1 3 6 2 7 5) (4 8 1 3 6 2 7 5) (2 6 8 3 1 4 7 5) (7 2 6 3 1 4 8 5) (3 6 2 7 1 4 8 5) (4 7 3 8 2 5 1 6) (4 8 5 3 1 7 2 6) (3 5 8 4 1 7 2 6) (4 2 8 5 7 1 3 6) (5 7 2 4 8 1 3 6) (7 4 2 5 8 1 3 6) (8 2 4 1 7 5 3 6) (7 2 4 1 8 5 3 6) (5 1 8 4 2 7 3 6) (4 1 5 8 2 7 3 6) (5 2 8 1 4 7 3 6) (3 7 2 8 5 1 4 6) (3 1 7 5 8 2 4 6) (8 2 5 3 1 7 4 6) (3 5 2 8 1 7 4 6) (3 5 7 1 4 2 8 6) (5 2 4 6 8 3 1 7) (6 3 5 8 1 4 2 7) (5 8 4 1 3 6 2 7) (4 2 5 8 6 1 3 7) (4 6 1 5 2 8 3 7) (6 3 1 8 5 2 4 7) (5 3 1 6 8 2 4 7) (4 2 8 6 1 3 5 7) (6 3 5 7 1 4 2 8) (6 4 7 1 3 5 2 8) (4 7 5 2 6 1 3 8) (5 7 2 6 3 1 4 8))"
      ]
     },
     "execution_count": 4,
     "metadata": {},
     "output_type": "execute_result"
    }
   ],
   "source": [
    "(queens 8)"
   ]
  },
  {
   "cell_type": "markdown",
   "id": "48f52e71",
   "metadata": {},
   "source": [
    "以上是直接运行的结果，显示了所有的八皇后解，每个解包含8个数字，分别表示第一列放在第几行，第二列放在第几行。。。。\n",
    "\n",
    "题目里也讲解了基本思路，就是先看第一列放一个皇后可以怎么放，然后开始考虑第二列，第三列，基本上也是动态规划的思路\n",
    "\n",
    "要想具体分析代码实现，比较方便的是把里面的(queen-cols k)拿出来一步一步分析："
   ]
  },
  {
   "cell_type": "code",
   "execution_count": 12,
   "id": "7978a695",
   "metadata": {},
   "outputs": [],
   "source": [
    "(define (queen-cols k)\n",
    "    (if (= k 0)\n",
    "\t(list empty-board)\n",
    "\t(filter\n",
    "\t (lambda (positions) (safe? k positions))\n",
    "\t (flatmap\n",
    "\t  (lambda (rest-of-queens)\n",
    "\t    (map (lambda (new-row)\n",
    "\t\t   (adjoin-position new-row k rest-of-queens))\n",
    "\t\t (enumerate-interval 1 board-size)))\n",
    "\t  (queen-cols (- k 1))))))"
   ]
  },
  {
   "cell_type": "markdown",
   "id": "1ae3f5ff",
   "metadata": {},
   "source": [
    "先看看第一列放一个皇后可以怎么放"
   ]
  },
  {
   "cell_type": "code",
   "execution_count": 16,
   "id": "9e2df965",
   "metadata": {},
   "outputs": [
    {
     "name": "stdout",
     "output_type": "stream",
     "text": [
      "((1) (2) (3) (4) (5) (6) (7) (8))"
     ]
    }
   ],
   "source": [
    "(define board-size 8)\n",
    "(define positions_1 (queen-cols 1))\n",
    "(display positions_1)"
   ]
  },
  {
   "cell_type": "markdown",
   "id": "27a61be3",
   "metadata": {},
   "source": [
    "因为第一列放的皇后不受任何其他皇后的影响，所以1到8行都可以放。\n",
    "\n",
    "接着看第二列可能的所有放法，注意是所有放法，还没看是不是有皇后之间有冲突"
   ]
  },
  {
   "cell_type": "code",
   "execution_count": 20,
   "id": "676718ac",
   "metadata": {},
   "outputs": [
    {
     "name": "stdout",
     "output_type": "stream",
     "text": [
      "((1 1) (2 1) (3 1) (4 1) (5 1) (6 1) (7 1) (8 1) (1 2) (2 2) (3 2) (4 2) (5 2) (6 2) (7 2) (8 2) (1 3) (2 3) (3 3) (4 3) (5 3) (6 3) (7 3) (8 3) (1 4) (2 4) (3 4) (4 4) (5 4) (6 4) (7 4) (8 4) (1 5) (2 5) (3 5) (4 5) (5 5) (6 5) (7 5) (8 5) (1 6) (2 6) (3 6) (4 6) (5 6) (6 6) (7 6) (8 6) (1 7) (2 7) (3 7) (4 7) (5 7) (6 7) (7 7) (8 7) (1 8) (2 8) (3 8) (4 8) (5 8) (6 8) (7 8) (8 8))"
     ]
    }
   ],
   "source": [
    "(define k 2)\n",
    "(define all_positions_2 (flatmap\n",
    "\t  (lambda (rest-of-queens)\n",
    "\t    (map (lambda (new-row)\n",
    "\t\t   (adjoin-position new-row k rest-of-queens))\n",
    "\t\t (enumerate-interval 1 board-size)))\n",
    "\t  positions_1))\n",
    "(display all_positions_2)"
   ]
  },
  {
   "cell_type": "markdown",
   "id": "1ed1889b",
   "metadata": {},
   "source": [
    "接着把所有可能的放法都给safe?过滤器，找出安全的放法："
   ]
  },
  {
   "cell_type": "code",
   "execution_count": 23,
   "id": "73f1da63",
   "metadata": {},
   "outputs": [
    {
     "name": "stdout",
     "output_type": "stream",
     "text": [
      "((3 1) (4 1) (5 1) (6 1) (7 1) (8 1) (4 2) (5 2) (6 2) (7 2) (8 2) (1 3) (5 3) (6 3) (7 3) (8 3) (1 4) (2 4) (6 4) (7 4) (8 4) (1 5) (2 5) (3 5) (7 5) (8 5) (1 6) (2 6) (3 6) (4 6) (8 6) (1 7) (2 7) (3 7) (4 7) (5 7) (1 8) (2 8) (3 8) (4 8) (5 8) (6 8))"
     ]
    }
   ],
   "source": [
    "(define positions_2 (filter\n",
    "\t (lambda (positions) (safe? k positions))\n",
    "     all_positions_2))\n",
    "(display positions_2)"
   ]
  },
  {
   "cell_type": "markdown",
   "id": "e3ec396d",
   "metadata": {},
   "source": [
    "这样我们就找到了前两列的所有安全放法，接着考虑第三列："
   ]
  },
  {
   "cell_type": "code",
   "execution_count": 25,
   "id": "58faa2e0",
   "metadata": {},
   "outputs": [
    {
     "name": "stdout",
     "output_type": "stream",
     "text": [
      "((1 3 1) (2 3 1) (3 3 1) (4 3 1) (5 3 1) (6 3 1) (7 3 1) (8 3 1) (1 4 1) (2 4 1) (3 4 1) (4 4 1) (5 4 1) (6 4 1) (7 4 1) (8 4 1) (1 5 1) (2 5 1) (3 5 1) (4 5 1) (5 5 1) (6 5 1) (7 5 1) (8 5 1) (1 6 1) (2 6 1) (3 6 1) (4 6 1) (5 6 1) (6 6 1) (7 6 1) (8 6 1) (1 7 1) (2 7 1) (3 7 1) (4 7 1) (5 7 1) (6 7 1) (7 7 1) (8 7 1) (1 8 1) (2 8 1) (3 8 1) (4 8 1) (5 8 1) (6 8 1) (7 8 1) (8 8 1) (1 4 2) (2 4 2) (3 4 2) (4 4 2) (5 4 2) (6 4 2) (7 4 2) (8 4 2) (1 5 2) (2 5 2) (3 5 2) (4 5 2) (5 5 2) (6 5 2) (7 5 2) (8 5 2) (1 6 2) (2 6 2) (3 6 2) (4 6 2) (5 6 2) (6 6 2) (7 6 2) (8 6 2) (1 7 2) (2 7 2) (3 7 2) (4 7 2) (5 7 2) (6 7 2) (7 7 2) (8 7 2) (1 8 2) (2 8 2) (3 8 2) (4 8 2) (5 8 2) (6 8 2) (7 8 2) (8 8 2) (1 1 3) (2 1 3) (3 1 3) (4 1 3) (5 1 3) (6 1 3) (7 1 3) (8 1 3) (1 5 3) (2 5 3) (3 5 3) (4 5 3) (5 5 3) (6 5 3) (7 5 3) (8 5 3) (1 6 3) (2 6 3) (3 6 3) (4 6 3) (5 6 3) (6 6 3) (7 6 3) (8 6 3) (1 7 3) (2 7 3) (3 7 3) (4 7 3) (5 7 3) (6 7 3) (7 7 3) (8 7 3) (1 8 3) (2 8 3) (3 8 3) (4 8 3) (5 8 3) (6 8 3) (7 8 3) (8 8 3) (1 1 4) (2 1 4) (3 1 4) (4 1 4) (5 1 4) (6 1 4) (7 1 4) (8 1 4) (1 2 4) (2 2 4) (3 2 4) (4 2 4) (5 2 4) (6 2 4) (7 2 4) (8 2 4) (1 6 4) (2 6 4) (3 6 4) (4 6 4) (5 6 4) (6 6 4) (7 6 4) (8 6 4) (1 7 4) (2 7 4) (3 7 4) (4 7 4) (5 7 4) (6 7 4) (7 7 4) (8 7 4) (1 8 4) (2 8 4) (3 8 4) (4 8 4) (5 8 4) (6 8 4) (7 8 4) (8 8 4) (1 1 5) (2 1 5) (3 1 5) (4 1 5) (5 1 5) (6 1 5) (7 1 5) (8 1 5) (1 2 5) (2 2 5) (3 2 5) (4 2 5) (5 2 5) (6 2 5) (7 2 5) (8 2 5) (1 3 5) (2 3 5) (3 3 5) (4 3 5) (5 3 5) (6 3 5) (7 3 5) (8 3 5) (1 7 5) (2 7 5) (3 7 5) (4 7 5) (5 7 5) (6 7 5) (7 7 5) (8 7 5) (1 8 5) (2 8 5) (3 8 5) (4 8 5) (5 8 5) (6 8 5) (7 8 5) (8 8 5) (1 1 6) (2 1 6) (3 1 6) (4 1 6) (5 1 6) (6 1 6) (7 1 6) (8 1 6) (1 2 6) (2 2 6) (3 2 6) (4 2 6) (5 2 6) (6 2 6) (7 2 6) (8 2 6) (1 3 6) (2 3 6) (3 3 6) (4 3 6) (5 3 6) (6 3 6) (7 3 6) (8 3 6) (1 4 6) (2 4 6) (3 4 6) (4 4 6) (5 4 6) (6 4 6) (7 4 6) (8 4 6) (1 8 6) (2 8 6) (3 8 6) (4 8 6) (5 8 6) (6 8 6) (7 8 6) (8 8 6) (1 1 7) (2 1 7) (3 1 7) (4 1 7) (5 1 7) (6 1 7) (7 1 7) (8 1 7) (1 2 7) (2 2 7) (3 2 7) (4 2 7) (5 2 7) (6 2 7) (7 2 7) (8 2 7) (1 3 7) (2 3 7) (3 3 7) (4 3 7) (5 3 7) (6 3 7) (7 3 7) (8 3 7) (1 4 7) (2 4 7) (3 4 7) (4 4 7) (5 4 7) (6 4 7) (7 4 7) (8 4 7) (1 5 7) (2 5 7) (3 5 7) (4 5 7) (5 5 7) (6 5 7) (7 5 7) (8 5 7) (1 1 8) (2 1 8) (3 1 8) (4 1 8) (5 1 8) (6 1 8) (7 1 8) (8 1 8) (1 2 8) (2 2 8) (3 2 8) (4 2 8) (5 2 8) (6 2 8) (7 2 8) (8 2 8) (1 3 8) (2 3 8) (3 3 8) (4 3 8) (5 3 8) (6 3 8) (7 3 8) (8 3 8) (1 4 8) (2 4 8) (3 4 8) (4 4 8) (5 4 8) (6 4 8) (7 4 8) (8 4 8) (1 5 8) (2 5 8) (3 5 8) (4 5 8) (5 5 8) (6 5 8) (7 5 8) (8 5 8) (1 6 8) (2 6 8) (3 6 8) (4 6 8) (5 6 8) (6 6 8) (7 6 8) (8 6 8))"
     ]
    }
   ],
   "source": [
    "(define k 3)\n",
    "(define all_positions_3 (flatmap\n",
    "\t  (lambda (rest-of-queens)\n",
    "\t    (map (lambda (new-row)\n",
    "\t\t   (adjoin-position new-row k rest-of-queens))\n",
    "\t\t (enumerate-interval 1 board-size)))\n",
    "\t  positions_2))\n",
    "(display all_positions_3)"
   ]
  },
  {
   "cell_type": "markdown",
   "id": "bdcedeca",
   "metadata": {},
   "source": [
    "再过滤一把，找到安全的前三列的放法："
   ]
  },
  {
   "cell_type": "code",
   "execution_count": 26,
   "id": "914c6fda",
   "metadata": {},
   "outputs": [
    {
     "name": "stdout",
     "output_type": "stream",
     "text": [
      "((5 3 1) (6 3 1) (7 3 1) (8 3 1) (2 4 1) (6 4 1) (7 4 1) (8 4 1) (2 5 1) (7 5 1) (8 5 1) (2 6 1) (4 6 1) (8 6 1) (2 7 1) (4 7 1) (5 7 1) (2 8 1) (4 8 1) (5 8 1) (6 8 1) (1 4 2) (6 4 2) (7 4 2) (8 4 2) (1 5 2) (3 5 2) (7 5 2) (8 5 2) (1 6 2) (3 6 2) (8 6 2) (1 7 2) (3 7 2) (5 7 2) (1 8 2) (3 8 2) (5 8 2) (6 8 2) (4 1 3) (6 1 3) (7 1 3) (8 1 3) (2 5 3) (7 5 3) (8 5 3) (2 6 3) (4 6 3) (8 6 3) (2 7 3) (4 7 3) (2 8 3) (4 8 3) (6 8 3) (3 1 4) (5 1 4) (7 1 4) (8 1 4) (5 2 4) (7 2 4) (8 2 4) (1 6 4) (3 6 4) (8 6 4) (1 7 4) (3 7 4) (5 7 4) (1 8 4) (3 8 4) (5 8 4) (4 1 5) (6 1 5) (8 1 5) (4 2 5) (6 2 5) (8 2 5) (1 3 5) (6 3 5) (8 3 5) (1 7 5) (2 7 5) (4 7 5) (1 8 5) (2 8 5) (4 8 5) (6 8 5) (3 1 6) (5 1 6) (7 1 6) (5 2 6) (7 2 6) (1 3 6) (5 3 6) (7 3 6) (1 4 6) (2 4 6) (7 4 6) (1 8 6) (2 8 6) (3 8 6) (5 8 6) (3 1 7) (4 1 7) (6 1 7) (8 1 7) (4 2 7) (6 2 7) (8 2 7) (1 3 7) (6 3 7) (8 3 7) (1 4 7) (2 4 7) (6 4 7) (8 4 7) (1 5 7) (2 5 7) (3 5 7) (8 5 7) (3 1 8) (4 1 8) (5 1 8) (7 1 8) (4 2 8) (5 2 8) (7 2 8) (1 3 8) (5 3 8) (7 3 8) (1 4 8) (2 4 8) (7 4 8) (1 5 8) (2 5 8) (3 5 8) (7 5 8) (1 6 8) (2 6 8) (3 6 8) (4 6 8))"
     ]
    }
   ],
   "source": [
    "(define positions_3 (filter\n",
    "\t (lambda (positions) (safe? k positions))\n",
    "     all_positions_3))\n",
    "(display positions_3)"
   ]
  },
  {
   "cell_type": "markdown",
   "id": "7d0a0277",
   "metadata": {},
   "source": [
    "这样就可以明白这个函数怎么工作的了，就不一列一列往下运行代码了。\n",
    "\n",
    "理解了这个过程对后面解2.43也很有帮助，这里的关键就是每次都过滤出安全的放法再往下组合新的列，可以保证这些组合不扩散，如果不做这个操作，每次加多一列可能的组合数量就乘于8，6列就是8的6次方, 26万多种可能。\n",
    "\n",
    "不过，习题2.43里出现的问题是别的原因导致的，具体我们到2.43的题解里讨论。"
   ]
  },
  {
   "cell_type": "code",
   "execution_count": null,
   "id": "25faed8f",
   "metadata": {},
   "outputs": [],
   "source": []
  }
 ],
 "metadata": {
  "kernelspec": {
   "display_name": "Calysto Scheme 3",
   "language": "scheme",
   "name": "calysto_scheme"
  },
  "language_info": {
   "codemirror_mode": {
    "name": "scheme"
   },
   "mimetype": "text/x-scheme",
   "name": "scheme",
   "pygments_lexer": "scheme"
  }
 },
 "nbformat": 4,
 "nbformat_minor": 5
}
