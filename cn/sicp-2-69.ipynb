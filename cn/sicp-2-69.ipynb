{
 "cells": [
  {
   "cell_type": "markdown",
   "id": "0454da55",
   "metadata": {},
   "source": [
    "## SICP 习题 （2.69）解题总结：huffman树的生成"
   ]
  },
  {
   "cell_type": "markdown",
   "id": "5a1b4e01",
   "metadata": {},
   "source": [
    "SICP 习题2.69沿着既有的方向前进，开始讲述huffman树的生成。\n",
    "\n",
    "生成huffman树时输入是一堆的二元组，二元组里分别是符号和权重。\n",
    "\n",
    "书中提及的解题思路是先把二元组按权重排序，然后把排好序的二元组转换成huffman树。\n",
    "\n",
    "先考虑的是如何对二元组进行排序，书里面给了代码："
   ]
  },
  {
   "cell_type": "code",
   "execution_count": 1,
   "id": "b21ea0b2",
   "metadata": {},
   "outputs": [],
   "source": [
    "(define (adjoin-set x set)\n",
    "  (cond ((null? set) (list x))\n",
    "\t((< (weight x) (weight (car set))) (cons x set))\n",
    "\t(else (cons (car set)\n",
    "\t\t    (adjoin-set x (cdr set))))))\n",
    "\n",
    "(define (make-leaf-set pairs)\n",
    "  (if (null? pairs)\n",
    "      '()\n",
    "      (let ((pair (car pairs)))\n",
    "\t(adjoin-set (make-leaf (car pair)\n",
    "\t\t\t       (cadr pair))\n",
    "\t\t    (make-leaf-set (cdr pairs))))))"
   ]
  },
  {
   "cell_type": "markdown",
   "id": "cec5dc1e",
   "metadata": {},
   "source": [
    "基本思路和之前的(adjoin-set)是一样的，不同的是以前单纯根据元素的值进行排序，现在需要取元素的权重进行排序。\n",
    "\n",
    "为了测试这个(make-leaf-set)函数，需要把前几道题的关于编码树的代码拷贝过来："
   ]
  },
  {
   "cell_type": "code",
   "execution_count": 2,
   "id": "4472f1eb",
   "metadata": {},
   "outputs": [],
   "source": [
    "(define (make-leaf symbol weight)\n",
    "  (list 'leaf symbol weight))\n",
    "\n",
    "(define (leaf? object)\n",
    "  (eq? (car object) 'leaf))\n",
    "\n",
    "(define (symbol-leaf x) (cadr x))\n",
    "\n",
    "(define (weight-leaf x) (caddr x))\n",
    "\n",
    "(define (make-code-tree left right)\n",
    "  (list left\n",
    "\tright\n",
    "\t(append (symbols left) (symbols right))\n",
    "\t(+ (weight left) (weight right))))\n",
    "\n",
    "(define (left-branch tree) (car tree))\n",
    "\n",
    "(define (right-branch tree) (cadr tree))\n",
    "\n",
    "(define (symbols tree)\n",
    "  (if (leaf? tree)\n",
    "      (list (symbol-leaf tree))\n",
    "      (caddr tree)))\n",
    "\n",
    "(define (weight tree)\n",
    "  (if (leaf? tree)\n",
    "      (weight-leaf tree)\n",
    "      (cadddr tree)))\n"
   ]
  },
  {
   "cell_type": "markdown",
   "id": "22fb58c4",
   "metadata": {},
   "source": [
    "测试一下，可以发现(make-leaf-set)函数可以针对输入二元组列表进行排序，排序的依据是二元组中的权重："
   ]
  },
  {
   "cell_type": "code",
   "execution_count": 3,
   "id": "f17803eb",
   "metadata": {},
   "outputs": [
    {
     "data": {
      "text/plain": [
       "((leaf C 2) (leaf B 5) (leaf A 10) (leaf D 13))"
      ]
     },
     "execution_count": 3,
     "metadata": {},
     "output_type": "execute_result"
    }
   ],
   "source": [
    "(make-leaf-set '((A 10) (B 5) (C 2) (D 13)))"
   ]
  },
  {
   "cell_type": "markdown",
   "id": "91012197",
   "metadata": {},
   "source": [
    "然后就来到题目的主体了，题目帮我们定义好了(generate-huffman-tree)函数，要求我们实现(successive-merge)函数。(generate-huffman-tree)函数做的事情就是先把输入的二元组列表进行排序，然后调用successive-merge"
   ]
  },
  {
   "cell_type": "code",
   "execution_count": 4,
   "id": "5cb3a9c0",
   "metadata": {},
   "outputs": [],
   "source": [
    "(define (generate-huffman-tree pairs)\n",
    "  (successive-merge (make-leaf-set pairs)))"
   ]
  },
  {
   "cell_type": "markdown",
   "id": "e1a0f34d",
   "metadata": {},
   "source": [
    "下面是successive-merge的实现。\n",
    "\n",
    "这个方法的实现确实需要一点技巧，书里也有提示，让我们关注输入的序列是一个排序序列。\n",
    "\n",
    "按题目上文的思路，基本上就是在输入的leafs里找到权重最小的两个元素，将这两个元素通过(make-code-tree)组合起来，然后在leafs里删除这两个元素，取而代之的是(make-code-tree)生成的树。\n",
    "\n",
    "因为leafs是排序的，所以我们不需要搜索leafs，只需要处理leafs的前两个元素就好了，前两个就是最小的。\n",
    "\n",
    "第二步麻烦一点，就是用两个元素的合成结果代替这两个元素，把两个元素删除比较简单，直接(cddr)就好了，如何把(make-code-tree)生成的结果放回去让我费了不少脑筋，因为我们要保证放了新元素以后的序列还是排序的。直接的想法是通过(adjoin-set)函数把新元素放进，但是刚开始的时候我没有意识到(adjoin-set)可以同时处理leaf和tree，总想着怎么通过一些技巧实现新元素的插入。\n",
    "\n",
    "后来仔细看(adjoin-set)方法和(weight)方法，发现(weight)方法会根据输入元素是tree还是leaf做不同处理，意味着(adjoin-set)可以同时处理tree元素和leaf元素。\n",
    "\n",
    "那问题就变得简单了，使用简单的递归就可以处理：\n"
   ]
  },
  {
   "cell_type": "code",
   "execution_count": 5,
   "id": "024f2855",
   "metadata": {},
   "outputs": [],
   "source": [
    "(define (successive-merge leafs)\n",
    "  (cond ((null? leafs) '())\n",
    "        ((= 1 (length leafs)) (car leafs))\n",
    "        (else (successive-merge \n",
    "                   (adjoin-set \n",
    "                    (make-code-tree (car leafs) (cadr leafs))\n",
    "                    (cddr leafs))))))"
   ]
  },
  {
   "cell_type": "markdown",
   "id": "2732f2dd",
   "metadata": {},
   "source": [
    "下面是一些测试代码："
   ]
  },
  {
   "cell_type": "code",
   "execution_count": 6,
   "id": "d6d79322",
   "metadata": {},
   "outputs": [],
   "source": [
    "(define sample-paris (make-leaf-set '((A 8) (B 3) (C 1) (D 1) (E 1) (F 1) (G 1) (H 1))))"
   ]
  },
  {
   "cell_type": "code",
   "execution_count": 7,
   "id": "b33033df",
   "metadata": {},
   "outputs": [
    {
     "data": {
      "text/plain": [
       "((leaf H 1) (leaf G 1) (leaf F 1) (leaf E 1) (leaf D 1) (leaf C 1) (leaf B 3) (leaf A 8))"
      ]
     },
     "execution_count": 7,
     "metadata": {},
     "output_type": "execute_result"
    }
   ],
   "source": [
    "sample-paris"
   ]
  },
  {
   "cell_type": "code",
   "execution_count": 8,
   "id": "d06136fe",
   "metadata": {
    "scrolled": true
   },
   "outputs": [],
   "source": [
    "(define generate-code-tree (successive-merge sample-paris))"
   ]
  },
  {
   "cell_type": "code",
   "execution_count": 9,
   "id": "bf047a14",
   "metadata": {},
   "outputs": [
    {
     "data": {
      "text/plain": [
       "17"
      ]
     },
     "execution_count": 9,
     "metadata": {},
     "output_type": "execute_result"
    }
   ],
   "source": [
    "(weight generate-code-tree)"
   ]
  },
  {
   "cell_type": "code",
   "execution_count": 10,
   "id": "1ef23372",
   "metadata": {},
   "outputs": [
    {
     "data": {
      "text/plain": [
       "((leaf A 8) ((((leaf H 1) (leaf G 1) (H G) 2) ((leaf F 1) (leaf E 1) (F E) 2) (H G F E) 4) (((leaf D 1) (leaf C 1) (D C) 2) (leaf B 3) (D C B) 5) (H G F E D C B) 9) (A H G F E D C B) 17)"
      ]
     },
     "execution_count": 10,
     "metadata": {},
     "output_type": "execute_result"
    }
   ],
   "source": [
    "generate-code-tree"
   ]
  },
  {
   "cell_type": "code",
   "execution_count": 11,
   "id": "b0117da5",
   "metadata": {},
   "outputs": [],
   "source": [
    "\n",
    "\t\n",
    "\n",
    "(define (start-test-2-69)\n",
    "  (define new-sample-tree (generate-huffman-tree '((A 8) (B 3) (C 1) (D 1) (E 1) (F 1) (G 1) (H 1))))\n",
    "\n",
    "  \n",
    "  (display \"new sample tree generates is:\") (newline) (display new-sample-tree) (newline))"
   ]
  },
  {
   "cell_type": "code",
   "execution_count": 12,
   "id": "5a36940b",
   "metadata": {},
   "outputs": [
    {
     "name": "stdout",
     "output_type": "stream",
     "text": [
      "new sample tree generates is:\n",
      "((leaf A 8) ((((leaf H 1) (leaf G 1) (H G) 2) ((leaf F 1) (leaf E 1) (F E) 2) (H G F E) 4) (((leaf D 1) (leaf C 1) (D C) 2) (leaf B 3) (D C B) 5) (H G F E D C B) 9) (A H G F E D C B) 17)\n"
     ]
    }
   ],
   "source": [
    "(start-test-2-69)"
   ]
  },
  {
   "cell_type": "code",
   "execution_count": null,
   "id": "4d6bbb4e",
   "metadata": {},
   "outputs": [],
   "source": []
  }
 ],
 "metadata": {
  "kernelspec": {
   "display_name": "Calysto Scheme 3",
   "language": "scheme",
   "name": "calysto_scheme"
  },
  "language_info": {
   "codemirror_mode": {
    "name": "scheme"
   },
   "mimetype": "text/x-scheme",
   "name": "scheme",
   "pygments_lexer": "scheme"
  }
 },
 "nbformat": 4,
 "nbformat_minor": 5
}
