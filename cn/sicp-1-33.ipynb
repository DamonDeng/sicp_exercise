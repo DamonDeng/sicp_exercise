{
 "cells": [
  {
   "cell_type": "markdown",
   "id": "a28b95fa",
   "metadata": {},
   "source": [
    "## SICP 习题 （1.33）解题总结"
   ]
  },
  {
   "cell_type": "markdown",
   "id": "a0deb90d",
   "metadata": {},
   "source": [
    "SICP 习题 1.33将之前抽象的accumulate过程继续往上拔，要求我们定义一个带过滤器的accumulate过程，在这个过程中加多一个参数，这个参数是另一个过程，用来做过滤器。\n",
    "\n",
    "比如我们调用\n",
    "\n",
    "    (filtered-accumulate 奇数？+ 0 my-self 1 next-int 100)\n",
    "\n",
    "就是列出1到100的数，对每个数调用(奇数？ n)，如果结果为真就将这个数加入到累积结果中，如果结果位假就忽略这个数，不将它加入到累积结果中。\n",
    "\n",
    "明白了这个要求后写代码就比较简单了，我写的代码如下："
   ]
  },
  {
   "cell_type": "code",
   "execution_count": 1,
   "id": "913b818d",
   "metadata": {},
   "outputs": [],
   "source": [
    "(define (filtered-accumulate filter combiner null-value term a next b)\n",
    "  (if (> a b)\n",
    "      null-value\n",
    "      (if (filter a)\n",
    "\t  (combiner (term a)\n",
    "\t\t     (filtered-accumulate filter combiner null-value term (next a) next b))\n",
    "\t  (combiner null-value\n",
    "\t\t     (filtered-accumulate filter combiner null-value term (next a) next b))\n",
    "\t  )))"
   ]
  },
  {
   "cell_type": "markdown",
   "id": "67ceb68a",
   "metadata": {},
   "source": [
    "其中最关键的就是对(filter a)的调用，如果(filter a)为真，就进行累积，如果(filter a)为假，就使用null-value进行累积。按我们的定义，对null-value进行累积相当于是没有累积。\n",
    "\n",
    "同时，我惯性地实现了迭代版的filtered-accumulate:"
   ]
  },
  {
   "cell_type": "code",
   "execution_count": 2,
   "id": "79f817c0",
   "metadata": {},
   "outputs": [],
   "source": [
    "(define (filtered-accumulate-iter filter combiner null-value term a next b )\n",
    "  (define (iter a result)\n",
    "    (if (> a b)\n",
    "\tresult\n",
    "\t(if (filter a)\n",
    "\t    (iter (next a) (combiner (term a) result))\n",
    "\t    (iter (next a) (combiner null-value result)))))\n",
    "  (iter a null-value))"
   ]
  },
  {
   "cell_type": "markdown",
   "id": "11efe55c",
   "metadata": {},
   "source": [
    "为了测试，还是先定义term函数和next函数："
   ]
  },
  {
   "cell_type": "code",
   "execution_count": 5,
   "id": "d4c3ea84",
   "metadata": {},
   "outputs": [],
   "source": [
    "(define (square x) (* x x))\n",
    "(define (increase x) (+ x 1))"
   ]
  },
  {
   "cell_type": "markdown",
   "id": "750cfcc9",
   "metadata": {},
   "source": [
    "filter函数就用开始的时候说的(?奇数)这个吧，对应scheme的函数是 (odd?)"
   ]
  },
  {
   "cell_type": "code",
   "execution_count": 6,
   "id": "21c2496f",
   "metadata": {},
   "outputs": [
    {
     "data": {
      "text/plain": [
       "#f"
      ]
     },
     "execution_count": 6,
     "metadata": {},
     "output_type": "execute_result"
    }
   ],
   "source": [
    "(odd? 10)"
   ]
  },
  {
   "cell_type": "code",
   "execution_count": 7,
   "id": "076a7ca1",
   "metadata": {},
   "outputs": [
    {
     "data": {
      "text/plain": [
       "11025"
      ]
     },
     "execution_count": 7,
     "metadata": {},
     "output_type": "execute_result"
    }
   ],
   "source": [
    "(filtered-accumulate odd? * 1 square 1 increase 7)"
   ]
  },
  {
   "cell_type": "code",
   "execution_count": 8,
   "id": "249db86e",
   "metadata": {},
   "outputs": [
    {
     "data": {
      "text/plain": [
       "11025"
      ]
     },
     "execution_count": 8,
     "metadata": {},
     "output_type": "execute_result"
    }
   ],
   "source": [
    "(filtered-accumulate-iter odd? * 1 square 1 increase 7 )"
   ]
  },
  {
   "cell_type": "markdown",
   "id": "5337a565",
   "metadata": {},
   "source": [
    "后面题目要求我们通过filtered-accumulate求a到b的素数和，调用方式如下：\n",
    "\n",
    "    (filtered-accumulate prime? + 0 my-self 1 increase 10)\n",
    "\n",
    "当然，我们还需要先把之前练习里实现的prime?函数拷贝过来："
   ]
  },
  {
   "cell_type": "code",
   "execution_count": 13,
   "id": "18ca6f2c",
   "metadata": {},
   "outputs": [],
   "source": [
    "(define (smallest-divisor n)\n",
    "  (find-divisor n 2))\n",
    "\n",
    "(define (find-divisor n test-divisor)\n",
    "  (cond ((> (square test-divisor) n) n)\n",
    "\t((divides? test-divisor n) test-divisor)\n",
    "\t(else (find-divisor n (+ test-divisor 1)))))\n",
    "\n",
    "(define (divides? a b)\n",
    "  (= (remainder b a) 0))\n",
    "\n",
    "(define (square x)\n",
    "  (* x x))\n",
    "\n",
    "(define (prime? n)\n",
    "  (= n (smallest-divisor n)))"
   ]
  },
  {
   "cell_type": "code",
   "execution_count": 14,
   "id": "68b6297e",
   "metadata": {},
   "outputs": [
    {
     "data": {
      "text/plain": [
       "#t"
      ]
     },
     "execution_count": 14,
     "metadata": {},
     "output_type": "execute_result"
    }
   ],
   "source": [
    "(prime? 101)"
   ]
  },
  {
   "cell_type": "code",
   "execution_count": 15,
   "id": "1231ac83",
   "metadata": {},
   "outputs": [],
   "source": [
    "(define (my-self x) x)"
   ]
  },
  {
   "cell_type": "code",
   "execution_count": 16,
   "id": "3d346224",
   "metadata": {},
   "outputs": [
    {
     "data": {
      "text/plain": [
       "18"
      ]
     },
     "execution_count": 16,
     "metadata": {},
     "output_type": "execute_result"
    }
   ],
   "source": [
    "(filtered-accumulate prime? + 0 my-self 1 increase 10)"
   ]
  },
  {
   "cell_type": "markdown",
   "id": "c35cfe4d",
   "metadata": {},
   "source": [
    "最后题目还要求我们通过filtered-accumulate求所有小于n的与n互素的正整数的乘积，定义的过程如下："
   ]
  },
  {
   "cell_type": "code",
   "execution_count": 26,
   "id": "bd2fcb5a",
   "metadata": {},
   "outputs": [],
   "source": [
    "(define (relatively-prime-accumulate n)\n",
    "    (filtered-accumulate (lambda (i) (= (gcd i n) 1))\n",
    "                                    *\n",
    "                                    1\n",
    "                                    my-self\n",
    "                                    1\n",
    "                                    increase\n",
    "                                    (- n 1)) )"
   ]
  },
  {
   "cell_type": "markdown",
   "id": "34b1a241",
   "metadata": {},
   "source": [
    "然后在notebook里运行的时候悲催地发现Calysto Scheme没有实现gcd，于是手工实现一把"
   ]
  },
  {
   "cell_type": "code",
   "execution_count": 23,
   "id": "16292a3d",
   "metadata": {},
   "outputs": [],
   "source": [
    "(define (gcd a b)\n",
    "  (if (= b 0)\n",
    "        a\n",
    "      (gcd b (remainder a b))))"
   ]
  },
  {
   "cell_type": "code",
   "execution_count": 24,
   "id": "ab663dff",
   "metadata": {},
   "outputs": [
    {
     "data": {
      "text/plain": [
       "2"
      ]
     },
     "execution_count": 24,
     "metadata": {},
     "output_type": "execute_result"
    }
   ],
   "source": [
    "(gcd 10 8)"
   ]
  },
  {
   "cell_type": "code",
   "execution_count": 27,
   "id": "05ef8590",
   "metadata": {
    "scrolled": true
   },
   "outputs": [
    {
     "data": {
      "text/plain": [
       "189"
      ]
     },
     "execution_count": 27,
     "metadata": {},
     "output_type": "execute_result"
    }
   ],
   "source": [
    "(relatively-prime-accumulate 10)"
   ]
  },
  {
   "cell_type": "markdown",
   "id": "a6f862e8",
   "metadata": {},
   "source": [
    "\n",
    "这里事实上作者给我们出了个难题，在我们的filtered-accumulate中，会对a到b之间的数逐个调用(filter i)，以判断i是否满足过滤条件，但是这里的过滤条件比较特殊，同时需要i和n才能确定是否满足过滤条件。那么应该如何实现呢？其实这个在接着的下一节就要讲到，就是lambda函数。\n",
    "\n",
    "有关lambda函数我们后面继续讨论，大家可以先看看上面的调用过程，看看能不能看出点感觉来。"
   ]
  }
 ],
 "metadata": {
  "kernelspec": {
   "display_name": "Calysto Scheme 3",
   "language": "scheme",
   "name": "calysto_scheme"
  },
  "language_info": {
   "codemirror_mode": {
    "name": "scheme"
   },
   "mimetype": "text/x-scheme",
   "name": "scheme",
   "pygments_lexer": "scheme"
  }
 },
 "nbformat": 4,
 "nbformat_minor": 5
}
