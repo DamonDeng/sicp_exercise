{
 "cells": [
  {
   "cell_type": "markdown",
   "id": "3d733939",
   "metadata": {},
   "source": [
    "## SICP 习题 (1.7) 解题总结：改进版的牛顿法求平方根"
   ]
  },
  {
   "cell_type": "markdown",
   "id": "dac9fadc",
   "metadata": {},
   "source": [
    "SICP 习题 1.7 是对正文1.1.7节中的牛顿法求平方根的改进，改进部分是good-enough?过程。\n",
    "\n",
    "原来的good-enough?是判断x和guess平方的差值是否小于0.001，这个过程在一般情况下没什么问题，但是，当需要求平方根的目标本身比较小时就会出现问题。\n",
    "\n",
    "比如我们求(sqrt-iter 1.0 0.00000016)，我们口算都知道结果是0.0004，但是(sqrt-iter)返回的结果大概是0.03125，因为0.03125的平方是.0009765625 ，这个数本身就小于0.001，所以它和0.00000016的差值当然也小于0.001。\n",
    "\n",
    "题中提到的更好的方法应该是计算两次猜测的差值相对于上次猜测的比例，用一般数学公式表示就是( (guess - previous-guess) / previous-guess)这个数要足够小。\n",
    "\n",
    "理清了这个思路做起程序来就很方便了，首先定义is-small-part-of?过程如下：\n"
   ]
  },
  {
   "cell_type": "code",
   "execution_count": 1,
   "id": "1be5a759",
   "metadata": {},
   "outputs": [],
   "source": [
    "(define (is-small-part-of? small-one big-one)\n",
    "  (< (abs (/ small-one big-one)) 0.001))"
   ]
  },
  {
   "cell_type": "markdown",
   "id": "eb836c3b",
   "metadata": {},
   "source": [
    "然后修改sqrt-iter为："
   ]
  },
  {
   "cell_type": "code",
   "execution_count": 2,
   "id": "9a5f9651",
   "metadata": {},
   "outputs": [],
   "source": [
    "(define (new-sqrt-iter guess x previous-guess)\n",
    "\t(if (is-small-part-of? (- previous-guess guess) previous-guess)\n",
    "\tguess\n",
    "\t(new-sqrt-iter (improve guess x) x guess)))"
   ]
  },
  {
   "cell_type": "markdown",
   "id": "89397c47",
   "metadata": {},
   "source": [
    "当然，还有之前实现的各种支持方法，从之前的作业里拷贝过来："
   ]
  },
  {
   "cell_type": "code",
   "execution_count": 3,
   "id": "29e111c5",
   "metadata": {},
   "outputs": [],
   "source": [
    "(define (improve guess x)\n",
    "  (average guess (/ x guess)))\n",
    "\n",
    "(define (average x y)\n",
    "  (/ (+ x y) 2))\n",
    "\n",
    "\n",
    "(define (square x)\n",
    "  (* x x))\n"
   ]
  },
  {
   "cell_type": "markdown",
   "id": "fa58ccd0",
   "metadata": {},
   "source": [
    "做完拿以下代码测试一下，看结果相对于sqrt-iter是否有改进:"
   ]
  },
  {
   "cell_type": "code",
   "execution_count": 4,
   "id": "c3e31b32",
   "metadata": {},
   "outputs": [
    {
     "data": {
      "text/plain": [
       "0.00040000000000329854"
      ]
     },
     "execution_count": 4,
     "metadata": {},
     "output_type": "execute_result"
    }
   ],
   "source": [
    "(new-sqrt-iter 1.0 0.00000016 0.00000016)"
   ]
  },
  {
   "cell_type": "markdown",
   "id": "d2061c3f",
   "metadata": {},
   "source": [
    "\n",
    "注意这里的new-sqrt-iter调用的第三个参数，因为第三个参数是上一次猜测的平方根，当我们第一次猜测时没有上一次，所以选一个和当前猜测数1相差比较大的数就好了。\n",
    "\n",
    "这题做起来比较简单一点，因为没涉及到太多复杂的数学问题。"
   ]
  },
  {
   "cell_type": "code",
   "execution_count": null,
   "id": "856001a3",
   "metadata": {},
   "outputs": [],
   "source": []
  }
 ],
 "metadata": {
  "kernelspec": {
   "display_name": "Calysto Scheme 3",
   "language": "scheme",
   "name": "calysto_scheme"
  },
  "language_info": {
   "codemirror_mode": {
    "name": "scheme"
   },
   "mimetype": "text/x-scheme",
   "name": "scheme",
   "pygments_lexer": "scheme"
  }
 },
 "nbformat": 4,
 "nbformat_minor": 5
}
