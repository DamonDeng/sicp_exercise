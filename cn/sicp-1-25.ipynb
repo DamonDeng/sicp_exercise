{
 "cells": [
  {
   "cell_type": "markdown",
   "id": "430f72db",
   "metadata": {},
   "source": [
    "## SICP 习题 (1.25) 解题总结"
   ]
  },
  {
   "cell_type": "markdown",
   "id": "b1c30505",
   "metadata": {},
   "source": [
    "SICP 习题 1.25 就是我上面说过的伤自尊的题了。\n",
    "\n",
    "习题1.25说到有个叫Allyssa P. Hacker的人说expmod过程完全没有必要搞那么麻烦，直接使用前面的fast-expt过程和remainder过程就好了，她（叫Alyssa的应该是女的吧）觉得可以这样定义expmod:"
   ]
  },
  {
   "cell_type": "code",
   "execution_count": 1,
   "id": "88f5630b",
   "metadata": {},
   "outputs": [],
   "source": [
    "(define (expmod base exp m)\n",
    "\t(remainder (fast-expt base exp) m))"
   ]
  },
  {
   "cell_type": "code",
   "execution_count": 4,
   "id": "d14488a2",
   "metadata": {},
   "outputs": [],
   "source": [
    "(define (square x)\n",
    "  (* x x))\n",
    "\n",
    "(define (fast-expt b n)\n",
    "  (cond ((= n 0) 1)\n",
    "\t((even? n) (square (fast-expt b (/ n 2))))\n",
    "\t(else (* b (fast-expt b (- n 1))))))"
   ]
  },
  {
   "cell_type": "markdown",
   "id": "c4fd8cd0",
   "metadata": {},
   "source": [
    "天哪！我就是这么想的呀，我觉得没什么问题呀！\n",
    "\n",
    "不过，既然题目这么列出来，肯定是有问题啦，在中国接受应试教育这么长时间，揣摩出题者的心理还是有一套的。\n",
    "\n",
    "我想来想去没想到使用fast-expt和remainder有什么问题，和前面习题中定义的expmod一样是对数步数的时间复杂度，凭什么说fast-expt不行？\n",
    "\n",
    "后来就去网上查答案，因为我确实想不到答案了。\n",
    "\n",
    "找到后面发现问题在于长数字的处理，使用习题1.24中的expmod过程，计算时将大数拆成小的数进行计算，计算完了直接取模，返回结果不会大于取模的数，所以不会出现很长的数。\n",
    "\n",
    "而使用fast-expt和remainder来定义expmod的话，先计算出a的n次方，这个数可能会很大很大，所以数位会很长很长。然后再进行remainder计算就会消耗很长时间。\n",
    "\n",
    "最终的原因是Scheme提供了对任意长整数的支持，但是当数位太长时，系统处理这个数的时候就会消耗很长的时间。\n",
    "\n",
    "说到最简单，就是说计算2*3和计算2000000000000000000000000000*3在Scheme中所需要的时间是不同的，而且后者可能需要前者好几倍的时间。\n",
    "\n",
    "这就是习题1.25题的结果，一个我没有猜想到的结局，当然，我连故事的开头都没有猜到，怎么会猜到故事的结局呢！！！"
   ]
  },
  {
   "cell_type": "markdown",
   "id": "8bb1b4fd",
   "metadata": {},
   "source": [
    "不过，真的跑代码的话也没啥感觉，下面的代码运行起来也是秒出结果，不知道是不是Calysto Scheme在实现上有优化"
   ]
  },
  {
   "cell_type": "code",
   "execution_count": 13,
   "id": "8015b32c",
   "metadata": {},
   "outputs": [
    {
     "data": {
      "text/plain": [
       "2"
      ]
     },
     "execution_count": 13,
     "metadata": {},
     "output_type": "execute_result"
    }
   ],
   "source": [
    "(expmod 100000000000000000000000 10 7)"
   ]
  },
  {
   "cell_type": "code",
   "execution_count": null,
   "id": "9d649f65",
   "metadata": {},
   "outputs": [],
   "source": []
  }
 ],
 "metadata": {
  "kernelspec": {
   "display_name": "Calysto Scheme 3",
   "language": "scheme",
   "name": "calysto_scheme"
  },
  "language_info": {
   "codemirror_mode": {
    "name": "scheme"
   },
   "mimetype": "text/x-scheme",
   "name": "scheme",
   "pygments_lexer": "scheme"
  }
 },
 "nbformat": 4,
 "nbformat_minor": 5
}
