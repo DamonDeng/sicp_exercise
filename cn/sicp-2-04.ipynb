{
 "cells": [
  {
   "cell_type": "markdown",
   "id": "0454da55",
   "metadata": {},
   "source": [
    "## SICP 习题 （2.4） 解题总结：序对的过程性表示"
   ]
  },
  {
   "cell_type": "markdown",
   "id": "7489ef10",
   "metadata": {},
   "source": [
    "SICP 习题 2.4 是一道很有意思的题目，它在一定程度上会改变你对数据结构的认识。\n",
    "\n",
    "按题目的说法，这里讲到的是“序对的过程性表示”。\n",
    "\n",
    "序对大家应该熟悉了，前面几道题都和序对有关系，那序对的“过程性表示”是什么意思呢？\n",
    "\n",
    "简单一点说就是用一种过程（或者说函数啦）来实现序对。\n",
    "\n",
    "在此之前，对于很多程序员来讲，数据是数据，过程是过程，两者是单独存在的，过程一般是用来访问数据的。像这里讲到的使用一个过程来实现数据结构真是一件奇怪的事情。\n",
    "\n",
    "先看看题目给出的样例吧，题目说到，如果我们有下面这些个过程定义，那么，对于任意的x 和y , （car（cons x y))都将产生x："
   ]
  },
  {
   "cell_type": "code",
   "execution_count": 1,
   "id": "0baf6550",
   "metadata": {},
   "outputs": [],
   "source": [
    "(define (cons x y)\n",
    "  (lambda (m) (m x y)))\n",
    "\n",
    "(define (car z)\n",
    "  (z (lambda (p q) p)))"
   ]
  },
  {
   "cell_type": "markdown",
   "id": "baaa0519",
   "metadata": {},
   "source": [
    "上面的代码阅读起来还是有些困难的，因为涉及到两个lambda过程\n",
    "\n",
    "就像题目说到的，为了更好地理解这里的过程，建议使用代换的方式，我们来看看代换的过程："
   ]
  },
  {
   "cell_type": "markdown",
   "id": "9e65b1ce",
   "metadata": {},
   "source": [
    "    （car（cons x y))\n",
    "\n",
    "    => (car (lambda (m) (m x y)))\n",
    "\n",
    "    => ((lambda (m) (m x y)) (lambda (p q) p))\n",
    "\n",
    "    => ((lambda (p q) p) x y)\n",
    "\n",
    "    =>((lambda (x y) x))\n",
    "\n",
    "    => x"
   ]
  },
  {
   "cell_type": "markdown",
   "id": "d805eb3e",
   "metadata": {},
   "source": [
    "我第一次做完这个代换过程后都觉得不可思议，感觉就像是眼睁睁看着扑克牌从刘谦手里消失一样。\n",
    "\n",
    "这里cons返回的是一个lambda函数，这个lambda函数接受一个参数，将这个参数作用于x y。\n",
    "\n",
    "而car 接受一个参数，将这个参数作用于另一个lambda函数，这个lambda函数接受两个参数，永远返回第一个参数。\n",
    "\n",
    "将cons和car连接起来使用就是“作用于x y，永远返回第一个参数x”。\n",
    "\n",
    "这个想明白了以后完成题目就比较简单了，题目要求我们按这个思路去定义对应cdr过程，我定义的cdr代码如下："
   ]
  },
  {
   "cell_type": "code",
   "execution_count": 2,
   "id": "0af81849",
   "metadata": {},
   "outputs": [],
   "source": [
    "(define (cdr z)\n",
    "  (z (lambda (p q) q)))"
   ]
  },
  {
   "cell_type": "markdown",
   "id": "4465fabd",
   "metadata": {},
   "source": [
    "意思就是cdr接受一个参数，将这个参数作用于一个lambda过程，该lambda过程接受两个参数，永远返回第二个参数。\n",
    "\n",
    "这样题目就完成了，不过关于这道题给我们带来的启发还是值得我们仔细琢磨。\n",
    "\n",
    "完成题目容易，理解题目的用意不易。。。。。。"
   ]
  },
  {
   "cell_type": "code",
   "execution_count": 4,
   "id": "022ff334",
   "metadata": {},
   "outputs": [],
   "source": [
    "(define (start-test-2-4)\n",
    "  (define test1 (cons 'a 'b))\n",
    "  (display (car test1))(newline)\n",
    "  (display (cdr test1))(newline))"
   ]
  },
  {
   "cell_type": "code",
   "execution_count": 5,
   "id": "f67e0a50",
   "metadata": {},
   "outputs": [
    {
     "name": "stdout",
     "output_type": "stream",
     "text": [
      "a\n",
      "b\n"
     ]
    }
   ],
   "source": [
    "(start-test-2-4)"
   ]
  },
  {
   "cell_type": "code",
   "execution_count": 7,
   "id": "7c28410d",
   "metadata": {},
   "outputs": [],
   "source": [
    "(define new-test-target (cons 1 2))"
   ]
  },
  {
   "cell_type": "code",
   "execution_count": 8,
   "id": "8d83edc9",
   "metadata": {},
   "outputs": [
    {
     "data": {
      "text/plain": [
       "1"
      ]
     },
     "execution_count": 8,
     "metadata": {},
     "output_type": "execute_result"
    }
   ],
   "source": [
    "(car new-test-target)"
   ]
  },
  {
   "cell_type": "code",
   "execution_count": 9,
   "id": "6a6c7587",
   "metadata": {},
   "outputs": [
    {
     "data": {
      "text/plain": [
       "2"
      ]
     },
     "execution_count": 9,
     "metadata": {},
     "output_type": "execute_result"
    }
   ],
   "source": [
    "(cdr new-test-target)"
   ]
  },
  {
   "cell_type": "code",
   "execution_count": null,
   "id": "38b82bea",
   "metadata": {},
   "outputs": [],
   "source": []
  }
 ],
 "metadata": {
  "kernelspec": {
   "display_name": "Calysto Scheme 3",
   "language": "scheme",
   "name": "calysto_scheme"
  },
  "language_info": {
   "codemirror_mode": {
    "name": "scheme"
   },
   "mimetype": "text/x-scheme",
   "name": "scheme",
   "pygments_lexer": "scheme"
  }
 },
 "nbformat": 4,
 "nbformat_minor": 5
}
