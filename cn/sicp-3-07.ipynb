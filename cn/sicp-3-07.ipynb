{
 "cells": [
  {
   "cell_type": "markdown",
   "id": "079f4e51",
   "metadata": {},
   "source": [
    "## SICP 习题 （3.7）解题总结: 联合账户"
   ]
  },
  {
   "cell_type": "markdown",
   "id": "27aa062e",
   "metadata": {},
   "source": [
    "SICP 习题 3.7 要求我们在习题3.3，3.4的基础上创建一个“联合账户”的函数，用于支持账号的“套娃”行为，就是一个账号连接另一个账号作为主体。\n",
    "\n",
    "表面上这个是一个关于联合两个函数的练习，本质上作者在和我们讨论变量的引用，还有什么样的变量可以认为是“同一个”变量。\n",
    "\n",
    "比如用习题3.4里的(make-account)创建了acc1和acc2，问acc1和acc2是不是同一个？如果没有引入set!函数，那么acc1和acc2是“同一个”，他们的行为一致，我们无法区分他们。但是，引入set!函数以后acc1和acc2分别都有了状态，他们的账号存款也可能不一样了，虽然他们的底层代码是一样的，但他们是“不同的”两个账号。\n",
    "\n",
    "另外，就本习题的要求，在我们实现了联合账户以后，如果acc2和acc3都指向到了acc1，那么acc2和acc3是不是“同一个”账户呢？这个问题就比较难回答了。从财务上看，从acc2里取了钱，acc3会发现自己账户里的钱变少了，他们感觉上确实是“同一个”账户。但是acc2和acc3的密码又是不同的，他们又不是“同一个”账户。\n",
    "\n",
    "如果我们看其它语言里面变量的使用，也同样有这样的问题, 如果变量a2和a3都指向a1这个列表，那么a2和a3是不是“同一个”变量呢？\n",
    "\n",
    "    a1 = [1,2,3]\n",
    "    a2 = a1\n",
    "    a3 = a1\n",
    "    a2.append(4)\n",
    "    ；a3 == ?\n",
    "    \n",
    "做以上思考可以增强我们对变量的理解。"
   ]
  },
  {
   "cell_type": "markdown",
   "id": "9fac72ed",
   "metadata": {},
   "source": [
    "这道题的具体代码实现上就没有什么难度，先是拷贝3.4的代码："
   ]
  },
  {
   "cell_type": "code",
   "execution_count": 27,
   "id": "fbc31306",
   "metadata": {},
   "outputs": [],
   "source": [
    "(define (make-account balance account-password)\n",
    "  (define illegal-access-times 0)\n",
    "  \n",
    "  (define (withdraw amount)\n",
    "    (if (>= balance amount)\n",
    "\t(begin (set! balance (- balance amount))\n",
    "\t       balance)\n",
    "\t\"insufficient funds\"))\n",
    "  \n",
    "  (define (deposit amount)\n",
    "    (set! balance (+ balance amount))\n",
    "    balance)\n",
    "\n",
    "  (define (wrongpassword amount)\n",
    "    (if (< illegal-access-times 7)\n",
    "\t(begin (set! illegal-access-times (+ illegal-access-times 1))\n",
    "\t\"incorrect password\")\n",
    "\t(begin \n",
    "\t  (call-the-cops)\n",
    "\t  \"incorrect password (and you don't know that I will call a cop)\")))\n",
    "\n",
    "  (define (call-the-cops)\n",
    "    (display \" cops are comming\"))\n",
    "\n",
    "  (define (rightpassword)\n",
    "    (set! illegal-access-times 0))\n",
    "  \n",
    "  (define (check-password amount)\n",
    "    'ok)\n",
    "\n",
    "  (define (dispatch password m)\n",
    "\n",
    "    (if (not (equal? password account-password))\n",
    "\twrongpassword\n",
    "\t(begin\n",
    "\t  (rightpassword)\n",
    "\t  (cond ((eq? m 'withdraw) withdraw)\n",
    "            ((eq? m 'deposit) deposit)\n",
    "            ((eq? m 'check-password) check-password)\n",
    "            (else (error \"unknow request -- Make-Account\"\n",
    "\t\t\t     m))))))\n",
    "  dispatch)"
   ]
  },
  {
   "cell_type": "markdown",
   "id": "43205565",
   "metadata": {},
   "source": [
    "然后是定义(make-joint)代码，这里没有重用3.4的代码，几乎所有功能都是重新实现了一次，主要用于打包一个account，在打包的这个account里检查新的joint-account密码："
   ]
  },
  {
   "cell_type": "code",
   "execution_count": 28,
   "id": "ee514c0d",
   "metadata": {},
   "outputs": [],
   "source": [
    "(define (make-joint original-account original-password joint-password)\n",
    "  \n",
    "  (define illegal-access-times 0)\n",
    "  \n",
    "  (define (withdraw amount)\n",
    "    ((original-account original-password 'withdraw) amount))\n",
    "  \n",
    "  (define (deposit amount)\n",
    "    \n",
    "    ((original-account original-password 'deposit) amount))\n",
    "  \n",
    "  \n",
    "  (define (call-the-cops)\n",
    "    (display \" cops are comming\"))\n",
    "\n",
    "  (define (rightpassword)\n",
    "    (set! illegal-access-times 0))\n",
    "  \n",
    "  (define (check-password amount)\n",
    "    'ok)\n",
    "  \n",
    "  \n",
    "  (define (dispatch password m)\n",
    "\n",
    "    (if (not (equal? password joint-password))\n",
    "\twrongpassword\n",
    "\t(begin\n",
    "\t  (rightpassword)\n",
    "\t  (cond ((eq? m 'withdraw) withdraw)\n",
    "            ((eq? m 'deposit) deposit)\n",
    "            ((eq? m 'check-password) check-password)\n",
    "            (else (error \"unknow request -- Make-Account\"\n",
    "\t\t\t     m))))))\n",
    "  \n",
    "  dispatch\n",
    "  )"
   ]
  },
  {
   "cell_type": "markdown",
   "id": "07366082",
   "metadata": {},
   "source": [
    "最后创建一个peter-account, 然后关联给joint-account-1和joint-account-2。\n",
    "\n",
    "这个时候我们可以看见joint-account-1和joint-account-2是联通的，从joint-account-1里取钱，joint-account-2里的存款也会变少："
   ]
  },
  {
   "cell_type": "code",
   "execution_count": 29,
   "id": "3508fbfa",
   "metadata": {},
   "outputs": [],
   "source": [
    "(define peter-account (make-account 1000 'peter-password))"
   ]
  },
  {
   "cell_type": "code",
   "execution_count": 30,
   "id": "64efba03",
   "metadata": {},
   "outputs": [],
   "source": [
    "(define joint-account-1 (make-joint peter-account 'peter-password 'joint-account-p1))"
   ]
  },
  {
   "cell_type": "code",
   "execution_count": 31,
   "id": "44554947",
   "metadata": {},
   "outputs": [],
   "source": [
    "(define joint-account-2 (make-joint peter-account 'peter-password 'joint-account-p2))"
   ]
  },
  {
   "cell_type": "code",
   "execution_count": 32,
   "id": "becbf67e",
   "metadata": {},
   "outputs": [
    {
     "data": {
      "text/plain": [
       "990"
      ]
     },
     "execution_count": 32,
     "metadata": {},
     "output_type": "execute_result"
    }
   ],
   "source": [
    "((joint-account-1 'joint-account-p1 'withdraw) 10)"
   ]
  },
  {
   "cell_type": "code",
   "execution_count": 33,
   "id": "7cc6cff3",
   "metadata": {},
   "outputs": [
    {
     "data": {
      "text/plain": [
       "980"
      ]
     },
     "execution_count": 33,
     "metadata": {},
     "output_type": "execute_result"
    }
   ],
   "source": [
    "((joint-account-2 'joint-account-p2 'withdraw) 10)"
   ]
  },
  {
   "cell_type": "code",
   "execution_count": null,
   "id": "2b27bbc9",
   "metadata": {},
   "outputs": [],
   "source": []
  },
  {
   "cell_type": "code",
   "execution_count": null,
   "id": "9589fa7f",
   "metadata": {},
   "outputs": [],
   "source": []
  },
  {
   "cell_type": "code",
   "execution_count": null,
   "id": "351f08c1",
   "metadata": {},
   "outputs": [],
   "source": []
  },
  {
   "cell_type": "code",
   "execution_count": null,
   "id": "e062365a",
   "metadata": {},
   "outputs": [],
   "source": []
  }
 ],
 "metadata": {
  "kernelspec": {
   "display_name": "Calysto Scheme 3",
   "language": "scheme",
   "name": "calysto_scheme"
  },
  "language_info": {
   "codemirror_mode": {
    "name": "scheme"
   },
   "mimetype": "text/x-scheme",
   "name": "scheme",
   "pygments_lexer": "scheme"
  }
 },
 "nbformat": 4,
 "nbformat_minor": 5
}
