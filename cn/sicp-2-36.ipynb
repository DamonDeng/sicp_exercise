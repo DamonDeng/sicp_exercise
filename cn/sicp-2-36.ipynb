{
 "cells": [
  {
   "cell_type": "markdown",
   "id": "0454da55",
   "metadata": {},
   "source": [
    "## SICP 习题 (2.36)解题总结 : accumulate-n的实现"
   ]
  },
  {
   "cell_type": "markdown",
   "id": "aa37739e",
   "metadata": {},
   "source": [
    "SICP 习题 2.36 是前面几道题的延伸，题目要求我们实现accumulate-n函数，accumulate-n和之前的accumulate差不多，差别是第三个参数是个序列的序列，而且假设序列中的每个序列拥有相同数量的元素。\n",
    "\n",
    "听起来还是拗口，题目举的例子是 `((1 2 3)(4 5 6)(7 8 9)(10 11 12))`, 这是一个序列的序列，序列中的每个序列都有3个元素。\n",
    "\n",
    "对以上序列执行accumulate-n的话应该返回 `(22 26 30)`，就是分别把子序列的第1个，第2个，第3个 元素加起来。\n",
    "\n",
    "相当于是`((+ 1 4 7 10) (+ 2 5 8 11) (+ 3 6 9 12))`\n"
   ]
  },
  {
   "cell_type": "markdown",
   "id": "bf7e5a2f",
   "metadata": {},
   "source": [
    "题目还贴心地给了代码框架：\n",
    "\n",
    "    (define (accumulate-n op init seqs)\n",
    "      (if (null? (car seqs))\n",
    "          '()\n",
    "          (cons (accumulate op init <??>)\n",
    "            (accumulate-n op init <??>))))"
   ]
  },
  {
   "cell_type": "markdown",
   "id": "882a3071",
   "metadata": {},
   "source": [
    "理解的题目的要求以后实现就不难了，代码如下："
   ]
  },
  {
   "cell_type": "code",
   "execution_count": 3,
   "id": "53418736",
   "metadata": {},
   "outputs": [],
   "source": [
    "(define (accumulate-n op init seqs)\n",
    "  (if (null? (car seqs))\n",
    "      '()\n",
    "      (cons (accumulate op init (map (lambda (i) (car i)) seqs))\n",
    "\t    (accumulate-n op init (map (lambda (j) (cdr j)) seqs)))))\n",
    "\n"
   ]
  },
  {
   "cell_type": "code",
   "execution_count": 4,
   "id": "dd66263b",
   "metadata": {},
   "outputs": [],
   "source": [
    "\n",
    "(define (accumulate op initial sequence)\n",
    "  (if (null? sequence)\n",
    "      initial\n",
    "      (op (car sequence)\n",
    "\t  (accumulate op initial (cdr sequence)))))"
   ]
  },
  {
   "cell_type": "code",
   "execution_count": 6,
   "id": "3adde429",
   "metadata": {},
   "outputs": [
    {
     "data": {
      "text/plain": [
       "(22 26 30)"
      ]
     },
     "execution_count": 6,
     "metadata": {},
     "output_type": "execute_result"
    }
   ],
   "source": [
    "(accumulate-n + 0 '((1 2 3)(4 5 6)(7 8 9)(10 11 12)))"
   ]
  },
  {
   "cell_type": "code",
   "execution_count": null,
   "id": "4e72a1af",
   "metadata": {},
   "outputs": [],
   "source": []
  }
 ],
 "metadata": {
  "kernelspec": {
   "display_name": "Calysto Scheme 3",
   "language": "scheme",
   "name": "calysto_scheme"
  },
  "language_info": {
   "codemirror_mode": {
    "name": "scheme"
   },
   "mimetype": "text/x-scheme",
   "name": "scheme",
   "pygments_lexer": "scheme"
  }
 },
 "nbformat": 4,
 "nbformat_minor": 5
}
