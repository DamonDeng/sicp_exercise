{
 "cells": [
  {
   "cell_type": "markdown",
   "id": "0ab37537",
   "metadata": {},
   "source": [
    "## SICP 习题 (1.18) 解题总结"
   ]
  },
  {
   "cell_type": "markdown",
   "id": "0b7c6685",
   "metadata": {},
   "source": [
    "SICP 习题 1.18是习题1.17的扩展，要求我们将1.17题中的对数步数求加法的过程修改成迭代方式。同时，习题1.18习题也是对习题1.16的强调，习题1.16是通过迭代方法求幂，这里是通过迭代方法求加法。\n",
    "\n",
    "所以我们需要回过头去看习题1.16和1.17。"
   ]
  },
  {
   "cell_type": "markdown",
   "id": "cea71780",
   "metadata": {},
   "source": [
    "习题1.16是将以下函数进行修改："
   ]
  },
  {
   "cell_type": "code",
   "execution_count": 1,
   "id": "610f663f",
   "metadata": {},
   "outputs": [],
   "source": [
    "(define (fast-expt b n)\n",
    "  (cond ((= n 0) 1)\n",
    "\t((even? n) (square (fast-expt b (/ n 2))))\n",
    "\t(else (* b (fast-expt b (- n 1))))))"
   ]
  },
  {
   "cell_type": "markdown",
   "id": "e7ebfeba",
   "metadata": {},
   "source": [
    "变成了这样："
   ]
  },
  {
   "cell_type": "code",
   "execution_count": 2,
   "id": "ba7dfcbf",
   "metadata": {},
   "outputs": [],
   "source": [
    "(define (fast-expt-iter root cur-result n)\n",
    "  (cond ((= n 0) 1)\n",
    "\t((= n 1) (* root cur-result))\n",
    "\t((even? n) (fast-expt-iter (square root) cur-result (/ n 2)))\n",
    "\t(else (fast-expt-iter root (* root cur-result)  (- n 1)))))"
   ]
  },
  {
   "cell_type": "markdown",
   "id": "c7b5f985",
   "metadata": {},
   "source": [
    "而习题1.17的结果如下："
   ]
  },
  {
   "cell_type": "code",
   "execution_count": 3,
   "id": "88b94530",
   "metadata": {},
   "outputs": [],
   "source": [
    "(define (fast-mul a b)\n",
    "  (cond ((= b 0) 0)\n",
    "\t((even? b) (double (fast-mul a (halve b ))))\n",
    "\t(else (+ a (fast-mul a (- b 1))))))"
   ]
  },
  {
   "cell_type": "markdown",
   "id": "d3e83c6f",
   "metadata": {},
   "source": [
    "我们发现习题1.16修改前的代码和习题1.17的结果几乎是一样的。\n",
    "\n",
    "所以，我们可以完全按照相同的思路完成迭代方法求加法的代码："
   ]
  },
  {
   "cell_type": "markdown",
   "id": "9650398e",
   "metadata": {},
   "source": [
    "先定义基本的函数："
   ]
  },
  {
   "cell_type": "code",
   "execution_count": 6,
   "id": "0dd247f7",
   "metadata": {},
   "outputs": [],
   "source": [
    "(define (even? x)\n",
    "  (= (remainder x 2) 0))\n",
    "\n",
    "(define (double x)\n",
    "  (+ x x))\n",
    "\n",
    "(define (halve x)\n",
    "  (/ x 2))"
   ]
  },
  {
   "cell_type": "markdown",
   "id": "8028b4fa",
   "metadata": {},
   "source": [
    "函数主体实现如下："
   ]
  },
  {
   "cell_type": "code",
   "execution_count": 7,
   "id": "b4fd712d",
   "metadata": {},
   "outputs": [],
   "source": [
    "(define (fast-mul-iter a cur-result b)\n",
    "  (cond ((= b 0) 0)\n",
    "\t((= b 1) (+ a cur-result))\n",
    "\t((even? b) (fast-mul-iter (double a) cur-result (halve b)))\n",
    "\t(else (fast-mul-iter a (+ a cur-result)  (- b 1)))))"
   ]
  },
  {
   "cell_type": "code",
   "execution_count": 10,
   "id": "040fabad",
   "metadata": {},
   "outputs": [
    {
     "data": {
      "text/plain": [
       "100"
      ]
     },
     "execution_count": 10,
     "metadata": {},
     "output_type": "execute_result"
    }
   ],
   "source": [
    "(fast-mul-iter 50 0 2)"
   ]
  },
  {
   "cell_type": "markdown",
   "id": "3d37d311",
   "metadata": {},
   "source": [
    "所以说习题1.18没有什么难度，前提是你能够独立完成习题1.16和习题1.17 。"
   ]
  },
  {
   "cell_type": "code",
   "execution_count": null,
   "id": "31f428b6",
   "metadata": {},
   "outputs": [],
   "source": []
  }
 ],
 "metadata": {
  "kernelspec": {
   "display_name": "Calysto Scheme 3",
   "language": "scheme",
   "name": "calysto_scheme"
  },
  "language_info": {
   "codemirror_mode": {
    "name": "scheme"
   },
   "mimetype": "text/x-scheme",
   "name": "scheme",
   "pygments_lexer": "scheme"
  }
 },
 "nbformat": 4,
 "nbformat_minor": 5
}
