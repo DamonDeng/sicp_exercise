{
 "cells": [
  {
   "cell_type": "markdown",
   "id": "6ac27209",
   "metadata": {},
   "source": [
    "## SICP 习题 （1.43）解题总结"
   ]
  },
  {
   "cell_type": "markdown",
   "id": "f3edbc15",
   "metadata": {},
   "source": [
    "SICP 习题 1.43 是前面两道题的延续，习题要求我们定义一个过程(repeat f n) ，其中f是一个单参数过程，题目要求我们通过repeat过程将过程f调用n次，注意是嵌套调用n次，不是连续调用n次。就是说结果应该是(f ( f ( … (f x) …)))，而不是(begin (f x) (f x) (f x) … (f x))。\n",
    "\n",
    "题目还提醒我们使用习题1.42所定义的compose方法。\n",
    "\n",
    "仔细想想的话这一工作可以通过递归调用完成，就是(repeat f n) 等于 (compose f (repeat f (- n 1))，就是说n次嵌套调用f可以转换成(f (<n-1次嵌套调用f))。\n",
    "\n",
    "理解了这一点后就比较容易了，控制好递归调用的结束就可以了，代码如下："
   ]
  },
  {
   "cell_type": "code",
   "execution_count": 1,
   "id": "0cacb483",
   "metadata": {},
   "outputs": [],
   "source": [
    "(define (repeat f n)\n",
    "  (define (repeat-inner f cur-n)\n",
    "    (if (< cur-n n)\n",
    "\t (compose f (repeat-inner f (+ cur-n 1)))\n",
    "\tf ))\n",
    "  (repeat-inner f 1))"
   ]
  },
  {
   "cell_type": "code",
   "execution_count": 4,
   "id": "9d029843",
   "metadata": {},
   "outputs": [],
   "source": [
    "(define (compose f g)\n",
    "  (lambda (x)\n",
    "    (f (g x))))\t"
   ]
  },
  {
   "cell_type": "code",
   "execution_count": 5,
   "id": "a04682bf",
   "metadata": {},
   "outputs": [],
   "source": [
    "(define (my-inc x) (+ x 1))"
   ]
  },
  {
   "cell_type": "code",
   "execution_count": 6,
   "id": "272f40f1",
   "metadata": {},
   "outputs": [
    {
     "data": {
      "text/plain": [
       "11"
      ]
     },
     "execution_count": 6,
     "metadata": {},
     "output_type": "execute_result"
    }
   ],
   "source": [
    "((repeat my-inc 10) 1)"
   ]
  },
  {
   "cell_type": "code",
   "execution_count": null,
   "id": "cc0852a0",
   "metadata": {},
   "outputs": [],
   "source": []
  }
 ],
 "metadata": {
  "kernelspec": {
   "display_name": "Calysto Scheme 3",
   "language": "scheme",
   "name": "calysto_scheme"
  },
  "language_info": {
   "codemirror_mode": {
    "name": "scheme"
   },
   "mimetype": "text/x-scheme",
   "name": "scheme",
   "pygments_lexer": "scheme"
  }
 },
 "nbformat": 4,
 "nbformat_minor": 5
}
