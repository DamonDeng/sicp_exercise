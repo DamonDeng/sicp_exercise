{
 "cells": [
  {
   "cell_type": "markdown",
   "id": "079f4e51",
   "metadata": {},
   "source": [
    "## SICP 习题 （3.24）解题总结: 表格的处理"
   ]
  },
  {
   "cell_type": "markdown",
   "id": "8118537d",
   "metadata": {},
   "source": [
    "SICP 习题 3.24 开始讨论表格。\n",
    "\n",
    "这里的表格对应的是table，就是表，最简单的表就是有行有列，可以通过行列来定位数据。\n",
    "\n",
    "关于表的代码现实在题目上文有完整提到，把代码抄写下来运行测试一下就好。\n",
    "\n",
    "题目具体的要求是要我们实现更广泛的关键字比较，书中原来的比较代码如下：\n",
    "\n",
    "    (define (assoc key records)\n",
    "      (cond ((null? records) #f)\n",
    "        ((equal? key (caar records)) (car records))\n",
    "        (else (assoc key (cdr records)))))\n",
    "        \n",
    "这里使用了equal?对两个输入进行了比较。题目提出这种比较有局限性，有些比较是不能直接用equal?来实现的，比如相差不到0.00001的两个数我们也可以认为是相等的，这个时候用equal?就会认为它们不相等。\n",
    "\n",
    "要实现更广泛的关键字比较，我们就需要把比较这件事情从具体代码中抽离出来。通过一个未确定的比较函数来替换equal?，在创建一个表格时可以指定比较函数。\n",
    "\n",
    "这样，比较关键字的代码可以写成这样：\n",
    "\n",
    "    (define (assoc key records same-key?)\n",
    "      (cond ((null? records) #f)\n",
    "        ((same-key? key (caar records)) (car records))\n",
    "        (else (assoc key (cdr records) same-key?))))\n",
    "\n",
    "这里把比较函数抽离出来，通过函数的参数传入。这里也充分利用了Lisp里过程就是数据，数据也可以是函数的特性。"
   ]
  },
  {
   "cell_type": "markdown",
   "id": "bca03b9b",
   "metadata": {},
   "source": [
    "完整代码如下："
   ]
  },
  {
   "cell_type": "code",
   "execution_count": 9,
   "id": "51239efd",
   "metadata": {},
   "outputs": [],
   "source": [
    "(define (assoc key records same-key?)\n",
    "  (cond ((null? records) #f)\n",
    "\t((same-key? key (caar records)) (car records))\n",
    "\t(else (assoc key (cdr records) same-key?))))\n",
    "\n",
    "(define (make-table same-key?)\n",
    "  (let ((local-table (list '*table*)))\n",
    "    (define (lookup key-1 key-2)\n",
    "      (let ((subtable (assoc key-1 (cdr local-table) same-key?)))\n",
    "\t(if subtable\n",
    "\t    (let ((record (assoc key-2 (cdr subtable) same-key?)))\n",
    "\t      (if record\n",
    "\t\t  (cdr record)\n",
    "\t\t  (begin\n",
    "\t\t    (display \"record not found: \") (display key-2) (newline)\n",
    "\t\t    #f\n",
    "\t\t    )))\n",
    "\t    (begin \n",
    "\t      (display \"subtable not found: \") (display key-1)(newline)\n",
    "\t      #f))))\n",
    "    (define (insert! key-1 key-2 value)\n",
    "      (let ((subtable (assoc key-1 (cdr local-table) same-key?)))\n",
    "\t(if subtable\n",
    "\t    (let ((record (assoc key-2 (cdr subtable) same-key?)))\n",
    "\t      (if record\n",
    "\t\t  (set-cdr! record value)\n",
    "\t\t  (set-cdr! subtable\n",
    "\t\t\t    (cons (cons key-2 value)\n",
    "\t\t\t\t  (cdr subtable)))))\n",
    "\t    (set-cdr! local-table\n",
    "\t\t      (cons (list key-1\n",
    "\t\t\t\t  (cons key-2 value))\n",
    "\t\t\t    (cdr local-table)))))\n",
    "      'ok)\n",
    "    (define (dispatch m)\n",
    "      (cond ((eq? m 'lookup-proc) lookup)\n",
    "\t    ((eq? m 'insert-proc!) insert!)\n",
    "\t    (else (error \"Unknown operation -- TABLE\" m))))\n",
    "    dispatch))\n",
    "\n",
    "\n"
   ]
  },
  {
   "cell_type": "markdown",
   "id": "ceaf73ff",
   "metadata": {},
   "source": [
    "然后可以开始测试一下。为了进行基本的测试，我们先看看直接把equal?函数放回去当比较函数是不是可以正常工作："
   ]
  },
  {
   "cell_type": "code",
   "execution_count": 15,
   "id": "e29a25b0",
   "metadata": {},
   "outputs": [
    {
     "name": "stdout",
     "output_type": "stream",
     "text": [
      "21"
     ]
    }
   ],
   "source": [
    "(define operation-table (make-table equal?))\n",
    "\n",
    "(define get (operation-table 'lookup-proc))\n",
    "\n",
    "(define put (operation-table 'insert-proc!))\n",
    "\n",
    "(put 'column1 'row1 '11)\n",
    "(put 'column2 'row1 '21)\n",
    "\n",
    "(display (get 'column2 'row1))"
   ]
  },
  {
   "cell_type": "markdown",
   "id": "c476c5b5",
   "metadata": {},
   "source": [
    "确认以上代码是可以工作的，我们再来定义一个close-number函数来判断两个数是不是足够接近："
   ]
  },
  {
   "cell_type": "code",
   "execution_count": 18,
   "id": "ff29c47c",
   "metadata": {},
   "outputs": [],
   "source": [
    "(define (close-number? x y)\n",
    "  (< (abs (- x y)) 0.001))"
   ]
  },
  {
   "cell_type": "code",
   "execution_count": 19,
   "id": "b204ee57",
   "metadata": {},
   "outputs": [
    {
     "data": {
      "text/plain": [
       "#t"
      ]
     },
     "execution_count": 19,
     "metadata": {},
     "output_type": "execute_result"
    }
   ],
   "source": [
    "(close-number? 2 2.00009)"
   ]
  },
  {
   "cell_type": "markdown",
   "id": "f1e416eb",
   "metadata": {},
   "source": [
    "使用这个新的比较函数就可以创建新的表格了："
   ]
  },
  {
   "cell_type": "code",
   "execution_count": 21,
   "id": "dde68392",
   "metadata": {},
   "outputs": [
    {
     "name": "stdout",
     "output_type": "stream",
     "text": [
      "11"
     ]
    }
   ],
   "source": [
    "(define operation-table (make-table close-number?))\n",
    "\n",
    "(define get (operation-table 'lookup-proc))\n",
    "\n",
    "(define put (operation-table 'insert-proc!))\n",
    "\n",
    "(put 1 1 '11)\n",
    "(put 2 1 '21)\n",
    "\n",
    "(display (get 1.000008 1.00000009))"
   ]
  },
  {
   "cell_type": "code",
   "execution_count": 5,
   "id": "5f03f8fb",
   "metadata": {},
   "outputs": [
    {
     "name": "stdout",
     "output_type": "stream",
     "text": [
      "21"
     ]
    }
   ],
   "source": []
  },
  {
   "cell_type": "code",
   "execution_count": 10,
   "id": "9d1931bb",
   "metadata": {},
   "outputs": [
    {
     "data": {
      "text/plain": [
       "ok"
      ]
     },
     "execution_count": 10,
     "metadata": {},
     "output_type": "execute_result"
    }
   ],
   "source": [
    "(put 1 2 100)"
   ]
  },
  {
   "cell_type": "code",
   "execution_count": 11,
   "id": "b9ef9ae9",
   "metadata": {},
   "outputs": [
    {
     "data": {
      "text/plain": [
       "100"
      ]
     },
     "execution_count": 11,
     "metadata": {},
     "output_type": "execute_result"
    }
   ],
   "source": [
    "(get 1 2)"
   ]
  },
  {
   "cell_type": "code",
   "execution_count": 6,
   "id": "476b4ed2",
   "metadata": {},
   "outputs": [
    {
     "data": {
      "text/plain": [
       "11"
      ]
     },
     "execution_count": 6,
     "metadata": {},
     "output_type": "execute_result"
    }
   ],
   "source": [
    "(get 'column1 'row1)"
   ]
  },
  {
   "cell_type": "code",
   "execution_count": 7,
   "id": "213d3510",
   "metadata": {},
   "outputs": [
    {
     "data": {
      "text/plain": [
       "ok"
      ]
     },
     "execution_count": 7,
     "metadata": {},
     "output_type": "execute_result"
    }
   ],
   "source": [
    "(put 'column2 'row2 'abc)"
   ]
  },
  {
   "cell_type": "code",
   "execution_count": 8,
   "id": "b3fecc6a",
   "metadata": {},
   "outputs": [
    {
     "data": {
      "text/plain": [
       "abc"
      ]
     },
     "execution_count": 8,
     "metadata": {},
     "output_type": "execute_result"
    }
   ],
   "source": [
    "(get 'column2 'row2)"
   ]
  },
  {
   "cell_type": "code",
   "execution_count": null,
   "id": "4fbf264f",
   "metadata": {},
   "outputs": [],
   "source": [
    "(define (start-test-3-24)\n",
    "  (define operation-table (make-table (lambda (x y) (equal? x y))))\n",
    "\n",
    "  (define get (operation-table 'lookup-proc))\n",
    "\n",
    "  (define put (operation-table 'insert-proc!))\n",
    "\n",
    "  (put 'column1 'row1 '11)\n",
    "  (put 'column2 'row1 '21)\n",
    "\n",
    "  (display (get 'column2 'row1)))\n",
    "\n"
   ]
  }
 ],
 "metadata": {
  "kernelspec": {
   "display_name": "Calysto Scheme 3",
   "language": "scheme",
   "name": "calysto_scheme"
  },
  "language_info": {
   "codemirror_mode": {
    "name": "scheme"
   },
   "mimetype": "text/x-scheme",
   "name": "scheme",
   "pygments_lexer": "scheme"
  }
 },
 "nbformat": 4,
 "nbformat_minor": 5
}
