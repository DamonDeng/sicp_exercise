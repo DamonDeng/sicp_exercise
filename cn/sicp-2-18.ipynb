{
 "cells": [
  {
   "cell_type": "markdown",
   "id": "0454da55",
   "metadata": {},
   "source": [
    "## SICP 习题 （2.18） 解题总结：反转列表"
   ]
  },
  {
   "cell_type": "markdown",
   "id": "fe3c6125",
   "metadata": {},
   "source": [
    "SICP 习题 2.18 要求我们定义一个过程名叫reverse，可以将一个list反转过来。\n",
    "\n",
    "比如 `(reverse (list 1 4 9 16 25))` 的结果是：\n",
    "\n",
    "`(25 16 9 4 1)`\n",
    "\n",
    "这道题和之前的2.17有相似之处，都是对list进行遍历，然后做相应处理。不过2.17比较简单，遍历到最后面返回最后的元素就好了，2.18复杂一点，需要在遍历之后将list元素反向组装起来。\n",
    "\n",
    "我们可以按以前的思路，通过递归来描述整个过程。\n",
    "\n",
    "其实，`(reverse (list 1 4 9 16 25))`可以表示为\n",
    "\n",
    "`(append (reverse (list 4 9 16 25)) 1)`\n",
    "\n",
    "如此可以一直递归，直到reverse的参数只有一个元素为止。\n",
    "\n",
    "对应的代码如下："
   ]
  },
  {
   "cell_type": "code",
   "execution_count": 1,
   "id": "1a4f2252",
   "metadata": {},
   "outputs": [],
   "source": [
    "(define (reverse input-list)\n",
    "  (if (null? (cdr input-list))\n",
    "      input-list\n",
    "      (append (reverse (cdr input-list)) (cons (car input-list) '()))))"
   ]
  },
  {
   "cell_type": "code",
   "execution_count": 2,
   "id": "4f25a295",
   "metadata": {},
   "outputs": [
    {
     "data": {
      "text/plain": [
       "(6 5 4 3 29 4 3 1)"
      ]
     },
     "execution_count": 2,
     "metadata": {},
     "output_type": "execute_result"
    }
   ],
   "source": [
    "(reverse '(1 3 4 29 3 4 5 6))"
   ]
  },
  {
   "cell_type": "code",
   "execution_count": null,
   "id": "8773afbd",
   "metadata": {},
   "outputs": [],
   "source": []
  }
 ],
 "metadata": {
  "kernelspec": {
   "display_name": "Calysto Scheme 3",
   "language": "scheme",
   "name": "calysto_scheme"
  },
  "language_info": {
   "codemirror_mode": {
    "name": "scheme"
   },
   "mimetype": "text/x-scheme",
   "name": "scheme",
   "pygments_lexer": "scheme"
  }
 },
 "nbformat": 4,
 "nbformat_minor": 5
}
