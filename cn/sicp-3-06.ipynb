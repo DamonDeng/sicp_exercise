{
 "cells": [
  {
   "cell_type": "markdown",
   "id": "079f4e51",
   "metadata": {},
   "source": [
    "## SICP 习题 （3.6）解题总结: 随机生成函数的重置"
   ]
  },
  {
   "cell_type": "markdown",
   "id": "9cfa62d3",
   "metadata": {},
   "source": [
    "SICP 习题 3.6 要求我们设计一个可以重置的rand函数，当需要的时候可以调用重置函数让它从头开始生成随机数。\n",
    "\n",
    "之所以会有这样的题目是因为上文提到rand的实现是一个特殊的形式，在创建随机器的时候输入一个初始值，每次调用的时候通过 `x = rand-update(x)`更新x然后返回更新的值。\n",
    "\n",
    "实现大概是这个样子的，注意这段代码不能直接调用的，因为我们事实上没有实现一个叫(rand-update)的方法："
   ]
  },
  {
   "cell_type": "code",
   "execution_count": 3,
   "id": "fcdc915b",
   "metadata": {},
   "outputs": [],
   "source": [
    "(define random-init 10)\n",
    "\n",
    "(define rand\n",
    "  (let ((x random-init))\n",
    "    (lambda ()\n",
    "      (set! x (rand-update x))\n",
    "      x)))"
   ]
  },
  {
   "cell_type": "markdown",
   "id": "4da93389",
   "metadata": {},
   "source": [
    "题目要求我们增加一个重置函数，可以让初始值变成一个新的初始值，基本代码如下："
   ]
  },
  {
   "cell_type": "code",
   "execution_count": 4,
   "id": "51239efd",
   "metadata": {},
   "outputs": [],
   "source": [
    "\n",
    "\n",
    "(define (new-rand action)\n",
    "  (cond ((equal? action 'reset)\n",
    "\t (lambda (new-value)\n",
    "\t   (set! x new-value)\n",
    "\t   x))\n",
    "\t((equal? action 'generate)\n",
    "\t (lambda ()\n",
    "\t   (set! x (rand-update x))\n",
    "\t   x))))"
   ]
  },
  {
   "cell_type": "markdown",
   "id": "04770181",
   "metadata": {},
   "source": [
    "虽然题目3.6是题目3.5的后续，但是我们在3.5里是通过打包python rand接口实现的rand，所以我们没办法拿3.5的代码来测试本题目的内容。"
   ]
  },
  {
   "cell_type": "code",
   "execution_count": null,
   "id": "8419efdd",
   "metadata": {},
   "outputs": [],
   "source": []
  }
 ],
 "metadata": {
  "kernelspec": {
   "display_name": "Calysto Scheme 3",
   "language": "scheme",
   "name": "calysto_scheme"
  },
  "language_info": {
   "codemirror_mode": {
    "name": "scheme"
   },
   "mimetype": "text/x-scheme",
   "name": "scheme",
   "pygments_lexer": "scheme"
  }
 },
 "nbformat": 4,
 "nbformat_minor": 5
}
