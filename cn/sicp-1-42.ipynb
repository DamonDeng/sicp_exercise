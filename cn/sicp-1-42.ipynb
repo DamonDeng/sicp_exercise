{
 "cells": [
  {
   "cell_type": "markdown",
   "id": "4d608b9a",
   "metadata": {},
   "source": [
    "## SICP 习题 （1.42）解题总结"
   ]
  },
  {
   "cell_type": "markdown",
   "id": "f732ee1a",
   "metadata": {},
   "source": [
    "\n",
    "SICP  习题 1.42 出人意料的简单，题目要求我们定义一个名为compose的过程，该过程接收两个参数，都是单参数过程，要求我们将这两个参数代表的过程串起来。\n",
    "\n",
    "题目举例((compose square inc) 6)等于49，其中inc过程接收一个参数，执行加一操作，而square过程也只接收一个参数，执行求平方操作，6加1再求平方就是49了。\n",
    "\n",
    "如果习题1.41都做完了，这道题就比较简单了，定义的compose过程直接返回一个lambda过程，将两个过程串起来就好了，代码如下：\n",
    "\n",
    "\n"
   ]
  },
  {
   "cell_type": "code",
   "execution_count": 1,
   "id": "e4c0b6c0",
   "metadata": {},
   "outputs": [],
   "source": [
    "\n",
    "(define (compose f g)\n",
    "  (lambda (x)\n",
    "    (f (g x))))\t"
   ]
  },
  {
   "cell_type": "code",
   "execution_count": 6,
   "id": "2d161c6b",
   "metadata": {},
   "outputs": [],
   "source": [
    "(define (square x) (* x x))\n",
    "(define (my-inc x) (+ x 1))\n"
   ]
  },
  {
   "cell_type": "code",
   "execution_count": 8,
   "id": "4a3b6653",
   "metadata": {},
   "outputs": [
    {
     "data": {
      "text/plain": [
       "49"
      ]
     },
     "execution_count": 8,
     "metadata": {},
     "output_type": "execute_result"
    }
   ],
   "source": [
    "((compose square my-inc) 6)"
   ]
  },
  {
   "cell_type": "code",
   "execution_count": null,
   "id": "cbf2bcac",
   "metadata": {},
   "outputs": [],
   "source": []
  }
 ],
 "metadata": {
  "kernelspec": {
   "display_name": "Calysto Scheme 3",
   "language": "scheme",
   "name": "calysto_scheme"
  },
  "language_info": {
   "codemirror_mode": {
    "name": "scheme"
   },
   "mimetype": "text/x-scheme",
   "name": "scheme",
   "pygments_lexer": "scheme"
  }
 },
 "nbformat": 4,
 "nbformat_minor": 5
}
