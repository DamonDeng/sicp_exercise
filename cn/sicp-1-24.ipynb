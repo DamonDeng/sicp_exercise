{
 "cells": [
  {
   "cell_type": "markdown",
   "id": "bb1d5e2b",
   "metadata": {},
   "source": [
    "## SICP 习题 （1.24） 解题总结"
   ]
  },
  {
   "cell_type": "markdown",
   "id": "c62b77b8",
   "metadata": {},
   "source": [
    "SICP 习题 1.24 要求使用费马检测检测素数，可以说我的噩梦是从这道题开始的，从这道题开始的好几个星期内完全处于怀疑自己智商的状态中，因为我发现我要面对的不是会不会解题这个问题，而是我能不能理解题目的问题。\n",
    "\n",
    "后来的努力证明，普通人也是可以理解复杂的数学问题的，所以各位可以继续努力！！\n",
    "\n",
    "说到费马检测，首先是要去看看最朴素的素数检测方法，就是使用我们之前的smallest-divisor找最小因数的过程，如果一个数的最小因数就是它自己，那么这个数就是素数。\n",
    "\n",
    "如果你对我上面说到的还是不太明白的话，就需要回去看看数论中有关素数，合数的基本讨论了。没事，我也是特意在网上找了一些资料重新看了有关素数的讨论才开始继续下面的解题过程的。\n",
    "\n",
    "因为上面提到的朴素的素数检测方法比较耗时，所以大家就开始找方法更快地检测一个数是不是素数。费马检测就是其中的著名方法，SICP书中也比较详细地讲解了费马检测。\n",
    "\n",
    "首先要明确的就是费马检测这个方法是一个“概率方法”，就是通过这个方法可以发现一个数是素数的可能性大不大，并不能准确地判断一个数是不是素数。\n",
    "\n",
    "有关“概率方法”这个想法一定要理解清楚，后面好几道题都和这个概念有关。\n",
    "\n",
    "然后就是理解费马检测的具体操作，如果要判断一个数n是不是素数，最基本的就是找一个比n小，比1大的数a，如果（（a的n次方）对n求模）＝ a  的话，这个数n是素数的可能性就很大。\n",
    "\n",
    "现在的问题是如何求（（a的n次方）对n求模）），其实我最早想到的就是用我们前面的题目中做的快速求n次方的过程fast-expt，再加上remainder过程就可以了。没想到后来这个方法还在习题1.25中作为反例出现！伤自尊呀！\n",
    "\n",
    "后来就去看别人实现的（（a的n次方）对n求模））的过程，出乎我意料地长成这个样子："
   ]
  },
  {
   "cell_type": "code",
   "execution_count": 7,
   "id": "f82abbbd",
   "metadata": {},
   "outputs": [],
   "source": [
    "(define (expmod base exp m)\n",
    "  (cond ((= exp 0) 1)\n",
    "\t((even? exp) \n",
    "\t (remainder (square (expmod base (/ exp 2) m))\n",
    "\t\t    m))\n",
    "\t(else\n",
    "\t (remainder (* base (expmod base (- exp 1) m))\n",
    "\t\t    m))))\n",
    "\n",
    "(define (square x)\n",
    "  (* x x))"
   ]
  },
  {
   "cell_type": "markdown",
   "id": "a855256b",
   "metadata": {},
   "source": [
    "看了几遍以后也算看明白了，其实和fast-expt同一个原理，通过这个我自己叫做“折半”的方法可以再对数步数完成计算。\n",
    "\n",
    "简单测试一下：\n",
    "\n",
    "10 的 4 次方 对 7 求模"
   ]
  },
  {
   "cell_type": "code",
   "execution_count": 12,
   "id": "4ff94a6c",
   "metadata": {},
   "outputs": [
    {
     "data": {
      "text/plain": [
       "4"
      ]
     },
     "execution_count": 12,
     "metadata": {},
     "output_type": "execute_result"
    }
   ],
   "source": [
    "(expmod 10 4 7)"
   ]
  },
  {
   "cell_type": "markdown",
   "id": "f685f055",
   "metadata": {},
   "source": [
    "接着看费马测试的过程就很简单了，实现如下："
   ]
  },
  {
   "cell_type": "code",
   "execution_count": 2,
   "id": "9b525013",
   "metadata": {},
   "outputs": [],
   "source": [
    "(define (fermat-test n)\n",
    "  (define (try-it a)\n",
    "    (= (expmod a n n ) a))\n",
    "  (try-it (+ 1 (random (- n 1)))))"
   ]
  },
  {
   "cell_type": "markdown",
   "id": "26e19385",
   "metadata": {},
   "source": [
    "其实就是通过random过程随机找一个比n小比1大的数，然后通过expmod过程进行检测。\n",
    "\n",
    "先跑着测试一下："
   ]
  },
  {
   "cell_type": "code",
   "execution_count": 14,
   "id": "ae34401a",
   "metadata": {},
   "outputs": [
    {
     "data": {
      "text/plain": [
       "#t"
      ]
     },
     "execution_count": 14,
     "metadata": {},
     "output_type": "execute_result"
    }
   ],
   "source": [
    "(fermat-test 101)"
   ]
  },
  {
   "cell_type": "markdown",
   "id": "5e56fc46",
   "metadata": {},
   "source": [
    "不过，以上方法只是对数n做了一次费马检测，如果数n通过检测的话只能说n这个数是素数的可能性大。如何让这种方法更厉害一点呢？简单的方法就是多做几次费马检测，如果都通过的话那n这个数是素数的可能性就更大了。\n",
    "\n",
    "过程如下："
   ]
  },
  {
   "cell_type": "code",
   "execution_count": 17,
   "id": "208657ac",
   "metadata": {},
   "outputs": [],
   "source": [
    "(define (fast-prime? n times)\n",
    "       (cond ((= times 0) #t)\n",
    "\t     ((fermat-test n) (fast-prime? n (- times 1)))\n",
    "\t     (else #f)))"
   ]
  },
  {
   "cell_type": "code",
   "execution_count": 18,
   "id": "66f5e3e2",
   "metadata": {},
   "outputs": [
    {
     "data": {
      "text/plain": [
       "#t"
      ]
     },
     "execution_count": 18,
     "metadata": {},
     "output_type": "execute_result"
    }
   ],
   "source": [
    "(fast-prime? 101 3)"
   ]
  },
  {
   "cell_type": "markdown",
   "id": "0188a231",
   "metadata": {},
   "source": [
    "上面的过程可以指定一个数n进行费马检测，同时指定检测次数，检测次数越大，出来的结果就越准确。\n",
    "\n",
    "事实上，悄悄告诉你，不管你检测多少次，有些数就是可以骗过费马检测的，那些数不是素数，不过它们可以百分百通过费马检测，后面的习题还会讨论这一点。\n",
    "\n",
    "最后，结合之前的习题，可以通过以下过程对一个数n进行素数检测，同时报告检测所需要的时间，可以发现，下面的过程中调用fast-prime?时指定检测次数为100次。"
   ]
  },
  {
   "cell_type": "code",
   "execution_count": 19,
   "id": "e0022b01",
   "metadata": {},
   "outputs": [],
   "source": [
    "(define (start-prime-test n start-time)\n",
    "  (if (fast-prime? n 100)\n",
    "      (begin \n",
    "\t(report-prime n (- (real-time-clock) start-time))\n",
    "\t#t)\n",
    "      #f))"
   ]
  },
  {
   "cell_type": "code",
   "execution_count": 21,
   "id": "6d653a42",
   "metadata": {},
   "outputs": [],
   "source": [
    "(import \"time\")\n",
    "(define (real-time-clock) (python-eval \"time.time()\"))"
   ]
  },
  {
   "cell_type": "code",
   "execution_count": 24,
   "id": "6ccad800",
   "metadata": {},
   "outputs": [],
   "source": [
    "(define (report-prime number elapsed-time)\n",
    "  (display number)\n",
    "  (display \" *** \")\n",
    "  (display elapsed-time)\n",
    "  (newline))"
   ]
  },
  {
   "cell_type": "code",
   "execution_count": 26,
   "id": "36457dc2",
   "metadata": {},
   "outputs": [],
   "source": [
    "(define (timed-prime-test n)\n",
    "  (start-prime-test n (real-time-clock)))"
   ]
  },
  {
   "cell_type": "code",
   "execution_count": 27,
   "id": "cbfb9ebf",
   "metadata": {},
   "outputs": [
    {
     "name": "stdout",
     "output_type": "stream",
     "text": [
      "101 *** 0.6294889450073242\n"
     ]
    },
    {
     "data": {
      "text/plain": [
       "#t"
      ]
     },
     "execution_count": 27,
     "metadata": {},
     "output_type": "execute_result"
    }
   ],
   "source": [
    "(timed-prime-test 101)"
   ]
  },
  {
   "cell_type": "code",
   "execution_count": 25,
   "id": "ef18b354",
   "metadata": {
    "scrolled": false
   },
   "outputs": [
    {
     "name": "stdout",
     "output_type": "stream",
     "text": [
      "101 *** 0.6662869453430176\n"
     ]
    },
    {
     "data": {
      "text/plain": [
       "#t"
      ]
     },
     "execution_count": 25,
     "metadata": {},
     "output_type": "execute_result"
    }
   ],
   "source": [
    "(start-prime-test 101 (real-time-clock))"
   ]
  },
  {
   "cell_type": "code",
   "execution_count": 28,
   "id": "d01cc1b8",
   "metadata": {},
   "outputs": [],
   "source": [
    "(define (find-prime start end number)\n",
    "  (if (even? start) \n",
    "      (find-prime (+ start 1) end number)\n",
    "      (find-prime-iter start end 0 number)))\n",
    "\n",
    "(define (find-prime-iter start end cur-number max-number)\n",
    "  (if (and (< start end) (< cur-number max-number))\n",
    "      (if (timed-prime-test start)\n",
    "\t  (find-prime-iter (+ start 2) end (+ 1 cur-number) max-number)\n",
    "\t  (find-prime-iter (+ start 2) end cur-number max-number))\n",
    "      cur-number))"
   ]
  },
  {
   "cell_type": "markdown",
   "id": "1160a68e",
   "metadata": {},
   "source": [
    "通过以上方法就可以回答题中的有关计算时间的问题了。\n",
    "\n",
    "我测试了比100，10000，100000000，10000000000000000大的三个素数，测试100， 10000的时候不明显，测试到100000000，10000000000000000的时候就比较明显了，1000000000比10000多用了一倍时间，而10000000000000000比1000000000又多用了一倍时间。\n",
    "\n",
    "部分测试代码运行如下："
   ]
  },
  {
   "cell_type": "code",
   "execution_count": 29,
   "id": "f162c505",
   "metadata": {},
   "outputs": [
    {
     "name": "stdout",
     "output_type": "stream",
     "text": [
      "1009 *** 0.9310851097106934\n",
      "1013 *** 1.0506370067596436\n",
      "1019 *** 1.0829501152038574\n"
     ]
    },
    {
     "data": {
      "text/plain": [
       "3"
      ]
     },
     "execution_count": 29,
     "metadata": {},
     "output_type": "execute_result"
    }
   ],
   "source": [
    "(find-prime 1000 1200 3)"
   ]
  },
  {
   "cell_type": "code",
   "execution_count": 30,
   "id": "db11755a",
   "metadata": {},
   "outputs": [
    {
     "name": "stdout",
     "output_type": "stream",
     "text": [
      "10007 *** 1.2378168106079102\n",
      "10009 *** 1.2237510681152344\n",
      "10037 *** 1.2692410945892334\n"
     ]
    },
    {
     "data": {
      "text/plain": [
       "3"
      ]
     },
     "execution_count": 30,
     "metadata": {},
     "output_type": "execute_result"
    }
   ],
   "source": [
    "(find-prime 10000 12000 3)"
   ]
  },
  {
   "cell_type": "code",
   "execution_count": 31,
   "id": "4c4ede4e",
   "metadata": {},
   "outputs": [
    {
     "name": "stdout",
     "output_type": "stream",
     "text": [
      "10000000000000061 *** 4.495697975158691\n",
      "10000000000000069 *** 4.407871961593628\n",
      "10000000000000079 *** 4.5740110874176025\n"
     ]
    },
    {
     "data": {
      "text/plain": [
       "3"
      ]
     },
     "execution_count": 31,
     "metadata": {},
     "output_type": "execute_result"
    }
   ],
   "source": [
    "(find-prime 10000000000000000 10000000000200000 3)"
   ]
  },
  {
   "cell_type": "markdown",
   "id": "0362d0ec",
   "metadata": {},
   "source": [
    "一切符合理论上的对数步数的预期。\n",
    "\n",
    "同时惊叹一下，能找到对数步数的算法真的很牛X，计算10000000000000000左右的数值只比计算1000000000左右的数值花多了一倍的时间！"
   ]
  }
 ],
 "metadata": {
  "kernelspec": {
   "display_name": "Calysto Scheme 3",
   "language": "scheme",
   "name": "calysto_scheme"
  },
  "language_info": {
   "codemirror_mode": {
    "name": "scheme"
   },
   "mimetype": "text/x-scheme",
   "name": "scheme",
   "pygments_lexer": "scheme"
  }
 },
 "nbformat": 4,
 "nbformat_minor": 5
}
