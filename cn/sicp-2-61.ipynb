{
 "cells": [
  {
   "cell_type": "markdown",
   "id": "0454da55",
   "metadata": {},
   "source": [
    "## SICP 习题 （2.61）解题总结：用排序的列表表示集合"
   ]
  },
  {
   "cell_type": "markdown",
   "id": "19824a6c",
   "metadata": {},
   "source": [
    "SICP 习题2.61开始提出了新的集合表示方式，就是用排序的列表来表示集合。\n",
    "\n",
    "之所以会考虑使用排序的列表，主要还是效率的问题。\n",
    "\n",
    "首先，关于元素的查找。如果是未排序的列表，我们需要一直查找，直到找到元素为止，如果运气不好，查找的元素不在集合里，那就要一直找到列表结束才行。如果是排序的列表，我们只要找比查找元素小的元素就好了，如果看到列表里有个元素大于查找元素，就可以停止了，因为往后都是比查找元素大的元素了。作者认为这样可以大概节省一半的时间。\n",
    "\n",
    "SICP书本的译者提出了疑问，译者认为，如果运气不好，查找的元素不在列表里，还是需要一直查找到列表结束。所以译者不同意作者的解释。这个也怪作者没有详细进行解释。我们思考这个问题不能单纯看查找元素在不在列表里，我们要看查找的元素是不是比列表里最大的元素还要大。比如有个列表包含了 1 到 10000的整数，如果查找的元素是 10001，那么确实需要找到列表结束才行。但是，注意这个但是，如果查找的元素是 2.1，虽然这个数不在列表里，但是我们不需要查找到列表结束，我们找到3的时候就可以停止了，往后都是比3大的数，当然也比2.1大。所以，只要查找元素不大于列表里的所有元素，那么就有机会节省时间。另外，从实际应用来看，当一个应用运行到稳定状态，大概率集合里已经包含业务需要的数值范围。这个时候要查找一个比集合最大元素还大的元素，机会就不大了，所以大部分时间都是可以节省近一半的时间。\n",
    "\n"
   ]
  },
  {
   "cell_type": "markdown",
   "id": "d6b589d2",
   "metadata": {},
   "source": [
    "先看看(element-of-set?)的实现，依次比较列表中的元素，相等就是找到了，小于就是找不到，因为后面的元素越来越大，现在小于以后一直都是小于，大于就继续往前找。"
   ]
  },
  {
   "cell_type": "code",
   "execution_count": 1,
   "id": "e37b8f56",
   "metadata": {},
   "outputs": [],
   "source": [
    "(define (element-of-set? x set)\n",
    "  (cond ((null? set) #f)\n",
    "\t((= x (car set)) #t)\n",
    "\t((< x (car set)) #f)\n",
    "\t(else (element-of-set? x (cdr set)))))"
   ]
  },
  {
   "cell_type": "markdown",
   "id": "7328616f",
   "metadata": {},
   "source": [
    "再看看交集的实现，分别拿出两个列表的第一个元素进行比较。如果相等就找到一个交集元素，接着拿两个列表的第二个元素继续比较。如果两个列表拿出来的元素不相等，就看哪边的元素小，把小的那个扔掉，这个元素不可能是交集的一部分。\n",
    "\n",
    "这个过程用文字描述起来比较啰嗦，难怪大师们都愿意用数学符号进行表达，恐怕都是不想费口舌和我们凡人解释。\n",
    "\n",
    "我个人觉得这个过程用扑克牌比较容易解释，就是有两堆排好序的不重复的扑克牌，要找这两堆扑克牌的交集，就是两堆扑克牌都有的牌，先看两边牌堆最上方的牌，如果相同就取其中一张，另一张扔掉，如果不相同就把点数小的那张扔掉，拿那张牌下面的牌继续比较。"
   ]
  },
  {
   "cell_type": "code",
   "execution_count": 4,
   "id": "e605fba8",
   "metadata": {},
   "outputs": [],
   "source": [
    "(define (intersection-set set1 set2)\n",
    "  (if (or (null? set1) (null? set2))\n",
    "      '()\n",
    "      (let (( x1 (car set1)) (x2 (car set2)))\n",
    "\t(cond ((= x1 x2)\n",
    "\t       (cons x1\n",
    "\t\t     (intersection-set (cdr set1)\n",
    "\t\t\t\t      (cdr set2))))\n",
    "\t      ((< x1 x2)\n",
    "\t       (intersection-set (cdr set1) set2))\n",
    "\t      ((< x2 x1)\n",
    "\t       (intersection-set set1 (cdr set2)))))))"
   ]
  },
  {
   "cell_type": "code",
   "execution_count": 5,
   "id": "3a2ab62f",
   "metadata": {},
   "outputs": [
    {
     "data": {
      "text/plain": [
       "(2 5 8)"
      ]
     },
     "execution_count": 5,
     "metadata": {},
     "output_type": "execute_result"
    }
   ],
   "source": [
    "(intersection-set '(1 2 5 8 9) '(2 4 5 8 10))"
   ]
  },
  {
   "cell_type": "markdown",
   "id": "60513025",
   "metadata": {},
   "source": [
    "注意这个函数假定输入的都是排好序的列表，如果输入的列表没有排序就会出错。\n",
    "\n",
    "至于是否允许重复，你会发现这个函数对排序的重复列表也是可以工作的。"
   ]
  },
  {
   "cell_type": "code",
   "execution_count": 11,
   "id": "1801cda6",
   "metadata": {},
   "outputs": [
    {
     "data": {
      "text/plain": [
       "(2 5 8)"
      ]
     },
     "execution_count": 11,
     "metadata": {},
     "output_type": "execute_result"
    }
   ],
   "source": [
    "(intersection-set '(1 2 2 5 8 9) '(2 4 5 8 10))"
   ]
  },
  {
   "cell_type": "code",
   "execution_count": 12,
   "id": "8707ff00",
   "metadata": {},
   "outputs": [
    {
     "data": {
      "text/plain": [
       "(2 5 8)"
      ]
     },
     "execution_count": 12,
     "metadata": {},
     "output_type": "execute_result"
    }
   ],
   "source": [
    "(intersection-set '(1 2 5 8 9) '(2 2 4 5 8 10))"
   ]
  },
  {
   "cell_type": "markdown",
   "id": "703a0ed6",
   "metadata": {},
   "source": [
    "接着就来到题目2.61的要求，要求我们实现(adjoin-set)。\n",
    "\n",
    "这里的关键就是插入元素的时候要保证产生的新列表是排好序的，思路也比较简单，就是一直遍历列表元素，直到找到比插入元素大的，这个元素前就是要插入的位置："
   ]
  },
  {
   "cell_type": "code",
   "execution_count": 16,
   "id": "b37138b8",
   "metadata": {},
   "outputs": [],
   "source": [
    "\n",
    "\n",
    "(define (adjoin-set x set)\n",
    ";  (display \"caculating x:\") (display x) (display \"   and (car set) \") (display (car set)) (newline)\n",
    "  (cond ((null? set) (list x))\n",
    "\t((= x (car set)) set)\n",
    "\t((> x (car set)) \n",
    "\t   (cons (car set) (adjoin-set x (cdr set))))\n",
    "\t(else (cons x set))))\n",
    "\n",
    "\n"
   ]
  },
  {
   "cell_type": "code",
   "execution_count": 17,
   "id": "5d81f6a2",
   "metadata": {},
   "outputs": [
    {
     "data": {
      "text/plain": [
       "(1 3 5 6 9 10)"
      ]
     },
     "execution_count": 17,
     "metadata": {},
     "output_type": "execute_result"
    }
   ],
   "source": [
    "(adjoin-set 6 '( 1 3 5 9 10))"
   ]
  },
  {
   "cell_type": "code",
   "execution_count": null,
   "id": "d559028e",
   "metadata": {},
   "outputs": [],
   "source": []
  }
 ],
 "metadata": {
  "kernelspec": {
   "display_name": "Calysto Scheme 3",
   "language": "scheme",
   "name": "calysto_scheme"
  },
  "language_info": {
   "codemirror_mode": {
    "name": "scheme"
   },
   "mimetype": "text/x-scheme",
   "name": "scheme",
   "pygments_lexer": "scheme"
  }
 },
 "nbformat": 4,
 "nbformat_minor": 5
}
