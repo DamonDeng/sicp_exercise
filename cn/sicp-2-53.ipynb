{
 "cells": [
  {
   "cell_type": "markdown",
   "id": "0454da55",
   "metadata": {},
   "source": [
    "## SICP 习题 （2.53）解题总结：list基本操作"
   ]
  },
  {
   "cell_type": "markdown",
   "id": "caf8bea9",
   "metadata": {},
   "source": [
    "SICP习题2.53开始讨论的是Scheme里，或者说Lisp里，对序列（list）的操作和各种数据结构的处理。\n",
    "\n",
    "从习题2.44到2.52的图形语言来到这里，对我们程序员来讲感觉就像回到老家一样，这些处理都瞬间给你一种亲切感。"
   ]
  },
  {
   "cell_type": "markdown",
   "id": "2a216691",
   "metadata": {},
   "source": [
    "这道题要我们去看看求值器中以下代码会得出什么结果。\n",
    "\n",
    "这种事情，直接运行一下代码就好了，:-)，写好的代码如下："
   ]
  },
  {
   "cell_type": "code",
   "execution_count": 3,
   "id": "54ba410d",
   "metadata": {},
   "outputs": [],
   "source": [
    "(define (list-test)\n",
    "  (display (list 'a 'b 'c))\n",
    "  (newline)\n",
    "  (display (list (list 'george)))\n",
    "  (newline)\n",
    "  (display (cdr '((x1 x2) (y1 y2))))\n",
    "  (newline)\n",
    "  (display (cadr '((x1 x2) (y1 y2))))\n",
    "  (newline)\n",
    "  (display (pair? (car '(a short list))))\n",
    "  (newline)\n",
    "  (display (memq 'red '((red shoes) (blue socks))))\n",
    "  (newline)\n",
    "  (display (memq 'red '(testing red shoes blue shocks)))\n",
    "  )\n",
    "\n"
   ]
  },
  {
   "cell_type": "code",
   "execution_count": 4,
   "id": "0f12879c",
   "metadata": {},
   "outputs": [
    {
     "name": "stdout",
     "output_type": "stream",
     "text": [
      "(a b c)\n",
      "((george))\n",
      "((y1 y2))\n",
      "(y1 y2)\n",
      "False\n",
      "False\n",
      "(red shoes blue shocks)"
     ]
    }
   ],
   "source": [
    "(list-test)"
   ]
  },
  {
   "cell_type": "markdown",
   "id": "6e8ea00d",
   "metadata": {},
   "source": [
    "当然，运行这些代码之后还是要逐个逐个理解他们的意思。\n",
    "\n",
    "里面第一个知识点就是 `'` 符合的使用，这个其实就可以当引号用，表示引用这个表达式，要求求值器不去求结果。\n",
    "\n",
    "好处是这个引号只需要写一边，不需要去看另一边的引号要写在哪里。\n",
    "\n",
    "看完这道题才意识到，SICP书中在这节之前都没有介绍过`'`这个符号，之前的样例代码也没有使用这个符号，反倒是我们题解代码随便乱用，鲁莽了。"
   ]
  },
  {
   "cell_type": "markdown",
   "id": "10a6c321",
   "metadata": {},
   "source": [
    "另外注意，`'`符号其实是(quote)函数的语法糖，它本质上是调用了(quote)函数\n",
    "\n",
    "下面两个表达式是等效的："
   ]
  },
  {
   "cell_type": "code",
   "execution_count": 18,
   "id": "e52dd707",
   "metadata": {},
   "outputs": [
    {
     "data": {
      "text/plain": [
       "(1 2 3)"
      ]
     },
     "execution_count": 18,
     "metadata": {},
     "output_type": "execute_result"
    }
   ],
   "source": [
    "'(1 2 3)"
   ]
  },
  {
   "cell_type": "code",
   "execution_count": 19,
   "id": "19e57f6a",
   "metadata": {},
   "outputs": [
    {
     "data": {
      "text/plain": [
       "(1 2 3)"
      ]
     },
     "execution_count": 19,
     "metadata": {},
     "output_type": "execute_result"
    }
   ],
   "source": [
    "(quote (1 2 3))"
   ]
  },
  {
   "cell_type": "code",
   "execution_count": 20,
   "id": "3bec716c",
   "metadata": {},
   "outputs": [
    {
     "data": {
      "text/plain": [
       "#t"
      ]
     },
     "execution_count": 20,
     "metadata": {},
     "output_type": "execute_result"
    }
   ],
   "source": [
    "(equal? '(1 2 3) (quote (1 2 3)))"
   ]
  },
  {
   "cell_type": "markdown",
   "id": "c4b62739",
   "metadata": {},
   "source": [
    "另外一个就是memq函数，书中给出了menq函数的代码，可以自己实现的，不过Calysto Scheme帮我们做了系统实现，可以直接调用\n",
    "\n",
    "memq函数在一个列表里找指定的元素，找到就返回该元素开始到列表结束的所有元素，找不到就返回#f"
   ]
  },
  {
   "cell_type": "code",
   "execution_count": 21,
   "id": "67d79627",
   "metadata": {},
   "outputs": [
    {
     "data": {
      "text/plain": [
       "(1 3 3)"
      ]
     },
     "execution_count": 21,
     "metadata": {},
     "output_type": "execute_result"
    }
   ],
   "source": [
    "(memq 1 (list 2 2 1 3 3))"
   ]
  },
  {
   "cell_type": "code",
   "execution_count": null,
   "id": "0d46a342",
   "metadata": {},
   "outputs": [],
   "source": []
  },
  {
   "cell_type": "code",
   "execution_count": null,
   "id": "73045ed5",
   "metadata": {},
   "outputs": [],
   "source": []
  }
 ],
 "metadata": {
  "kernelspec": {
   "display_name": "Calysto Scheme 3",
   "language": "scheme",
   "name": "calysto_scheme"
  },
  "language_info": {
   "codemirror_mode": {
    "name": "scheme"
   },
   "mimetype": "text/x-scheme",
   "name": "scheme",
   "pygments_lexer": "scheme"
  }
 },
 "nbformat": 4,
 "nbformat_minor": 5
}
