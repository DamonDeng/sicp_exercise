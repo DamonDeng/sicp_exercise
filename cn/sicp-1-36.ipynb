{
 "cells": [
  {
   "cell_type": "markdown",
   "id": "e452c712",
   "metadata": {},
   "source": [
    "## SICP 习题 （1.36）解题总结"
   ]
  },
  {
   "cell_type": "markdown",
   "id": "9f12aba4",
   "metadata": {},
   "source": [
    "SICP 习题 1.36 要求我们修改fixed-point函数，使它能够打印出计算中产生的近似值序列，使用练习1.22展示的newline和display方法。而后通过找出变换x => log (1000)/log(x)的不动点的方式确定x^x=1000的一个根（书中还提示你使用Scheme的基本过程log，用于计算自然对数值）。然后比较一下使用平均阻尼和不用平均阻尼的计算步数。要注意的是不能使用1作为初始猜测去启动fixed-point，因为log(1)=0，会导致0除数错误。\n",
    "\n",
    "从题目来看，第一步比较简单，就是加多一些输出而已，这个我们程序员在行，平时调试就经常玩这一手。第二步求x^x=1000的根问题也不是太大，前提是你完成了习题1.35，最好是看完我的1.35题解题总结。第三步是比较使用平均阻尼和不使用平均阻尼的计算步数，就是做两次调用，一次使用平均阻尼，一次不使用，然后比较计算步数，计算步数这一块因为有第一步的输出命令变得比较简单，就是在控制台数一数就好了，对于平均阻尼，理解了习题1.35后也是比较简单。\n",
    "\n",
    "总结而言，习题1.36是比较简单那种，主要是加深你对函数不动点和平均阻尼的理解。\n",
    "\n",
    "开始吧，第一步就是修改fixed-point函数，使它能够打印出计算中产生的近似值序列。\n",
    "\n",
    "因为fixed-point 主要是递归调用try函数产生不断逼近的近似值，所以我们只需要在try函数中将guess值打印出来就好了。\n",
    "\n",
    "其实在1.35的题解中为了展示效果，我已经加入display语句进去，直接抄过来就好了："
   ]
  },
  {
   "cell_type": "code",
   "execution_count": 1,
   "id": "2fc90c06",
   "metadata": {},
   "outputs": [],
   "source": [
    "(define tolerance 0.00001)\n",
    "\n",
    "(define (close-enough? v1 v2)\n",
    "    (< (abs (- v1 v2 )) tolerance))\n",
    "\n",
    "(define (try-it f guess)\n",
    "    (let (( next (f guess)))\n",
    "      (display next)(newline)\n",
    "      (if (close-enough? guess next)\n",
    "\t  next\n",
    "\t  (try-it f next))))\n",
    "\n",
    "(define (fixed-point f first-guess)  \n",
    "  (try-it f first-guess))"
   ]
  },
  {
   "cell_type": "code",
   "execution_count": 3,
   "id": "2963f763",
   "metadata": {},
   "outputs": [
    {
     "name": "stdout",
     "output_type": "stream",
     "text": [
      "2.0\n",
      "1.5\n",
      "1.6666666666666665\n",
      "1.6\n",
      "1.625\n",
      "1.6153846153846154\n",
      "1.619047619047619\n",
      "1.6176470588235294\n",
      "1.6181818181818182\n",
      "1.6179775280898876\n",
      "1.6180555555555556\n",
      "1.6180257510729614\n",
      "1.6180371352785146\n",
      "1.6180327868852458\n"
     ]
    },
    {
     "data": {
      "text/plain": [
       "1.6180327868852458"
      ]
     },
     "execution_count": 3,
     "metadata": {},
     "output_type": "execute_result"
    }
   ],
   "source": [
    "(fixed-point (lambda (x) (+ 1.0 (/ 1.0 x))) 1.0)"
   ]
  },
  {
   "cell_type": "markdown",
   "id": "f6e39b76",
   "metadata": {},
   "source": [
    "### 第二步，求x => log (1000)/log(x)的不动点\n",
    "\n",
    "接着就是第二步，寻找变换x => log (1000)/log(x)的不动点，先不使用平均阻尼，直接使用变换：\n",
    "\n",
    "调用过程是：\n",
    "\n",
    "    (fixed-point (lambda (x) (/ (log 1000) (log x))) 2)\n",
    "    \n",
    "然而，再次悲催地发现Calysto Scheme里没有实现(log x)函数,于是投机取巧地利用Calysto Scheme里提供的内嵌python能力定义了一个(log x)函数"
   ]
  },
  {
   "cell_type": "code",
   "execution_count": 10,
   "id": "efef6339",
   "metadata": {},
   "outputs": [],
   "source": [
    "(import \"math\")\n",
    "(python-exec \n",
    " \"\n",
    "def log(x):\n",
    "     return math.log(x)\n",
    " \")"
   ]
  },
  {
   "cell_type": "code",
   "execution_count": 11,
   "id": "2b3612f1",
   "metadata": {},
   "outputs": [
    {
     "data": {
      "text/plain": [
       "2.302585092994046"
      ]
     },
     "execution_count": 11,
     "metadata": {},
     "output_type": "execute_result"
    }
   ],
   "source": [
    "(log 10)"
   ]
  },
  {
   "cell_type": "markdown",
   "id": "1153b313",
   "metadata": {},
   "source": [
    "接着就可以求`x => log (1000)/log(x)`的不动点了。\n",
    "\n",
    "从2开始猜，就像题目提示的，不能用1开始猜。\n",
    "\n",
    "运算结果如下，结果比较长，慢慢看："
   ]
  },
  {
   "cell_type": "code",
   "execution_count": 12,
   "id": "66ab4fb0",
   "metadata": {},
   "outputs": [
    {
     "name": "stdout",
     "output_type": "stream",
     "text": [
      "9.965784284662087\n",
      "3.004472209841214\n",
      "6.279195757507157\n",
      "3.759850702401539\n",
      "5.215843784925895\n",
      "4.182207192401397\n",
      "4.8277650983445906\n",
      "4.387593384662677\n",
      "4.671250085763899\n",
      "4.481403616895052\n",
      "4.6053657460929\n",
      "4.5230849678718865\n",
      "4.577114682047341\n",
      "4.541382480151454\n",
      "4.564903245230833\n",
      "4.549372679303342\n",
      "4.559606491913287\n",
      "4.552853875788271\n",
      "4.557305529748263\n",
      "4.554369064436181\n",
      "4.556305311532999\n",
      "4.555028263573554\n",
      "4.555870396702851\n",
      "4.555315001192079\n",
      "4.5556812635433275\n",
      "4.555439715736846\n",
      "4.555599009998291\n",
      "4.555493957531389\n",
      "4.555563237292884\n",
      "4.555517548417651\n",
      "4.555547679306398\n",
      "4.555527808516254\n",
      "4.555540912917957\n",
      "4.555532270803653\n"
     ]
    },
    {
     "data": {
      "text/plain": [
       "4.555532270803653"
      ]
     },
     "execution_count": 12,
     "metadata": {},
     "output_type": "execute_result"
    }
   ],
   "source": [
    "(fixed-point (lambda (x) (/ (log 1000) (log x))) 2)"
   ]
  },
  {
   "cell_type": "markdown",
   "id": "df72c510",
   "metadata": {},
   "source": [
    "\n",
    "然后再来一个使用平均阻尼的，调用过程如下：\n",
    "\n",
    "    (fixed-point (lambda (x) (/ (+ (/ (log 1000) (log x)) x) 2)) 2)\n",
    "\n",
    "就是把变换变为 x => (x + log (1000)/log(x))/2\n",
    "\n",
    "运算结果如下，可以发现输出很快逼近我们要的结果："
   ]
  },
  {
   "cell_type": "code",
   "execution_count": 13,
   "id": "86acfdc1",
   "metadata": {},
   "outputs": [
    {
     "name": "stdout",
     "output_type": "stream",
     "text": [
      "5.9828921423310435\n",
      "4.922168721308343\n",
      "4.628224318195455\n",
      "4.568346513136242\n",
      "4.5577305909237005\n",
      "4.555909809045131\n",
      "4.555599411610624\n",
      "4.5555465521473675\n",
      "4.555537551999825\n"
     ]
    },
    {
     "data": {
      "text/plain": [
       "4.555537551999825"
      ]
     },
     "execution_count": 13,
     "metadata": {},
     "output_type": "execute_result"
    }
   ],
   "source": [
    "(fixed-point (lambda (x) (/ (+ (/ (log 1000) (log x)) x) 2)) 2)"
   ]
  },
  {
   "cell_type": "markdown",
   "id": "954ec453",
   "metadata": {},
   "source": [
    "\n",
    "解题结束！平均阻尼术真得很强！！\n",
    "\n",
    "有兴趣的同学还可以尝试去证明为什么变换x => log (1000)/log(x)的不动点就是x^x=1000的根，对数运算哟！\n"
   ]
  },
  {
   "cell_type": "code",
   "execution_count": null,
   "id": "ffc8c852",
   "metadata": {},
   "outputs": [],
   "source": []
  }
 ],
 "metadata": {
  "kernelspec": {
   "display_name": "Calysto Scheme 3",
   "language": "scheme",
   "name": "calysto_scheme"
  },
  "language_info": {
   "codemirror_mode": {
    "name": "scheme"
   },
   "mimetype": "text/x-scheme",
   "name": "scheme",
   "pygments_lexer": "scheme"
  }
 },
 "nbformat": 4,
 "nbformat_minor": 5
}
