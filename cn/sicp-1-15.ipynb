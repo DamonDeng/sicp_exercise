{
 "cells": [
  {
   "cell_type": "markdown",
   "id": "53a13986",
   "metadata": {},
   "source": [
    "## SICP 习题 (1.15) 解题总结"
   ]
  },
  {
   "cell_type": "markdown",
   "id": "7b717488",
   "metadata": {},
   "source": [
    "SICP 习题 1.15要求计算过程Sine的空间和步数增长阶。\n",
    "\n",
    "有人可能会和我一样，问Sine是什么，呵呵，就是三角函数Sin啦，书中讲到一种求sin函数的方法，要求计算这种方法的增长阶。\n",
    "\n",
    "先看看Sine过程的定义，书中全写出来了，照抄出来："
   ]
  },
  {
   "cell_type": "code",
   "execution_count": 1,
   "id": "a568cc1f",
   "metadata": {},
   "outputs": [],
   "source": [
    "(define (cube x) (* x x x))\n",
    "\n",
    "(define (p x) \n",
    "  (- (* 3 x) (* 4 (cube x))))\n",
    "\n",
    "(define (sine angle)\n",
    "  (if (not (> (abs angle) 0.1))\n",
    "      angle\n",
    "      (p (sine (/ angle 3.0)))))"
   ]
  },
  {
   "cell_type": "code",
   "execution_count": 8,
   "id": "880b1a91",
   "metadata": {},
   "outputs": [
    {
     "data": {
      "text/plain": [
       "0.9999996073961978"
      ]
     },
     "execution_count": 8,
     "metadata": {},
     "output_type": "execute_result"
    }
   ],
   "source": [
    "(sine (/ 3.14159 2))"
   ]
  },
  {
   "cell_type": "markdown",
   "id": "f53c86ec",
   "metadata": {},
   "source": [
    "首先题目问求(sine 12.15)的时候p过程调用了多少次，这个很简单，在过程p里加多几句输出，跑代码数一下一下就好了，:-) 像下面这样："
   ]
  },
  {
   "cell_type": "code",
   "execution_count": 10,
   "id": "d7de0d03",
   "metadata": {},
   "outputs": [],
   "source": [
    "(define (p x) \n",
    "  (display \"run !\")\n",
    "  (newline)\n",
    "  (- (* 3 x) (* 4 (cube x))))"
   ]
  },
  {
   "cell_type": "code",
   "execution_count": 11,
   "id": "6360d821",
   "metadata": {},
   "outputs": [
    {
     "name": "stdout",
     "output_type": "stream",
     "text": [
      "run !\n",
      "run !\n",
      "run !\n",
      "run !\n",
      "run !\n"
     ]
    },
    {
     "data": {
      "text/plain": [
       "-0.39980345741334"
      ]
     },
     "execution_count": 11,
     "metadata": {},
     "output_type": "execute_result"
    }
   ],
   "source": [
    "(sine 12.15)"
   ]
  },
  {
   "cell_type": "markdown",
   "id": "ad32eb52",
   "metadata": {},
   "source": [
    "接着的问题才是这道题的根本，就是sine过程的空间和步数增长阶是什么？\n",
    "\n",
    "要回答问题，我们先要理解这个过程的机制，它其实就是每次都将参数除于3，直到参数足够小为止。\n",
    "\n",
    "也就是说 0.1 * ( 3 的 x次方）＝ n  ，其中n为要求的角度，x就是我们要求的步数。\n",
    "\n",
    "于是有x = Log 3 (10n )\n",
    "\n",
    "就是说步数的增长阶是对数的。\n",
    "\n",
    "因为是简单的递归调用，所以空间增长阶和步数增长阶是相同的。"
   ]
  },
  {
   "cell_type": "code",
   "execution_count": null,
   "id": "3f928f19",
   "metadata": {},
   "outputs": [],
   "source": []
  }
 ],
 "metadata": {
  "kernelspec": {
   "display_name": "Calysto Scheme 3",
   "language": "scheme",
   "name": "calysto_scheme"
  },
  "language_info": {
   "codemirror_mode": {
    "name": "scheme"
   },
   "mimetype": "text/x-scheme",
   "name": "scheme",
   "pygments_lexer": "scheme"
  }
 },
 "nbformat": 4,
 "nbformat_minor": 5
}
