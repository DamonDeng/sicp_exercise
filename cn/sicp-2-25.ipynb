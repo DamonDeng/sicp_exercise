{
 "cells": [
  {
   "cell_type": "markdown",
   "id": "0454da55",
   "metadata": {},
   "source": [
    "## SICP 习题 （2.25）解题总结：列表的操作"
   ]
  },
  {
   "cell_type": "markdown",
   "id": "212dbd0b",
   "metadata": {},
   "source": [
    "SICP 习题 2.25 简单到不用解释\n",
    "\n",
    "题目要求我们使用car和cdr操作获得以下列表中的7：\n",
    "\n",
    "    '(1 3 (5 7) 9)\n",
    "    '((7))\n",
    "    '(1 (2 (3 (4 (5 (6 7))))))\n",
    "\n",
    "各位同学搞清楚car和cdr就可以简单完成了，代码如下："
   ]
  },
  {
   "cell_type": "code",
   "execution_count": 4,
   "id": "fe289961",
   "metadata": {},
   "outputs": [],
   "source": [
    "(define (start-test-2-25)\n",
    "  (display (car (cdr (car (cdr (cdr '(1 3 (5 7) 9))))))) (newline)\n",
    "  (display (car (car '((7))))) (newline)\n",
    "  (display (car (cdr (car (cdr (car (cdr (car (cdr (car (cdr (car (cdr '(1 (2 (3 (4 (5 (6 7)))))))))))))))))))\n",
    ")"
   ]
  },
  {
   "cell_type": "code",
   "execution_count": 5,
   "id": "ed4a9d98",
   "metadata": {},
   "outputs": [
    {
     "name": "stdout",
     "output_type": "stream",
     "text": [
      "7\n",
      "7\n",
      "7"
     ]
    }
   ],
   "source": [
    "(start-test-2-25)"
   ]
  },
  {
   "cell_type": "code",
   "execution_count": null,
   "id": "c4c01b80",
   "metadata": {},
   "outputs": [],
   "source": []
  }
 ],
 "metadata": {
  "kernelspec": {
   "display_name": "Calysto Scheme 3",
   "language": "scheme",
   "name": "calysto_scheme"
  },
  "language_info": {
   "codemirror_mode": {
    "name": "scheme"
   },
   "mimetype": "text/x-scheme",
   "name": "scheme",
   "pygments_lexer": "scheme"
  }
 },
 "nbformat": 4,
 "nbformat_minor": 5
}
