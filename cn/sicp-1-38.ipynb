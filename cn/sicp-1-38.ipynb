{
 "cells": [
  {
   "cell_type": "markdown",
   "id": "acc0b595",
   "metadata": {},
   "source": [
    "## SICP 习题 （1.38）解题总结"
   ]
  },
  {
   "cell_type": "markdown",
   "id": "7f1447c3",
   "metadata": {},
   "source": [
    "SICP 习题1.38 紧跟着习题1.37的方向，要求我们用习题1.37中定义的cont-frac过程计算数学家欧拉大师在论文De Fractionibus Continuis 中提到的e-2的连分式。说实话，我不知道论文De Franctionibus Continuis讲的是什么，我甚至不知道论文的题目是什么意思。不过，这一切都不能阻止我这个数学盲去解答这道SICP习题。"
   ]
  },
  {
   "cell_type": "markdown",
   "id": "5f3580f2",
   "metadata": {},
   "source": [
    "仔细阅读题目，我们可以发现题目要求我们计算的是下面这样的无穷连分式：\n",
    "\n",
    "$$ \\frac {1} {1 + \\frac {1} {2 + \\frac {1} {1 + \\frac {1} {1 + \\frac {1} {4 + \\frac {1} {1 + ...}}}}}} $$\n",
    "\n",
    "其中N永远等于1， D等于1 ,  2 , 1 , 1 , 4 , 1 , 1 , 6 , 1 , 1 , 8 …"
   ]
  },
  {
   "cell_type": "markdown",
   "id": "78a8366b",
   "metadata": {},
   "source": [
    "所以我们调用cont-frac时给的N比较简单，就是一个永远返回1的lambda过程，过程如下：\n",
    "\n",
    "    (lambda (i) 1.0)\n",
    "\n",
    "而调用cont-fract时给的D复杂一点点，D是一个lambda过程,能根据下标生成1 ,  2 , 1 , 1 , 4 , 1 , 1 , 6 , 1 , 1 , 8 …这样的数列。\n",
    "\n",
    "这个数列规律还是比较明显，稍微费点脑筋可以做个lambda过程来生成，我做的过程如下：\n",
    "\n",
    "    (lambda (i) \n",
    "         (if (= (remainder (+ i 1) 3) 0)\n",
    "         (* (/ (+ i 1) 3) 2)\n",
    "         1))"
   ]
  },
  {
   "cell_type": "markdown",
   "id": "5f51c2e1",
   "metadata": {},
   "source": [
    "所以，下面的调用就可以得出e-2的值了："
   ]
  },
  {
   "cell_type": "code",
   "execution_count": 9,
   "id": "91d5d8bb",
   "metadata": {},
   "outputs": [
    {
     "data": {
      "text/plain": [
       "0.7182818284590453"
      ]
     },
     "execution_count": 9,
     "metadata": {},
     "output_type": "execute_result"
    }
   ],
   "source": [
    "(define (cont-frac n d k)\n",
    "  (define (cont-frac-inner n d cur-k)\n",
    "    (if (< cur-k k)\n",
    "\t(/ (n cur-k) (+ (d cur-k) (cont-frac-inner n d (+ cur-k 1))))\n",
    "\t(d cur-k)))\n",
    "  (cont-frac-inner n d 1))\n",
    "\n",
    "(cont-frac \n",
    "   (lambda (i) 1.0)\n",
    "   (lambda (i) \n",
    "     (if (= (remainder (+ i 1.0) 3.0) 0.0)\n",
    "\t (* (/ (+ i 1.0) 3.0) 2.0)\n",
    "\t 1.0))\n",
    "   100)"
   ]
  },
  {
   "cell_type": "markdown",
   "id": "a9cb7407",
   "metadata": {},
   "source": [
    "以上结果再+2就等于e了，我的完整测试过程如下："
   ]
  },
  {
   "cell_type": "code",
   "execution_count": 10,
   "id": "28ea8a8e",
   "metadata": {},
   "outputs": [],
   "source": [
    "(define (e-test k)\n",
    " (+ 2 (cont-frac \n",
    "   (lambda (i) 1.0)\n",
    "   (lambda (i) \n",
    "     (if (= (remainder (+ i 1) 3) 0)\n",
    "\t (* (/ (+ i 1) 3) 2)\n",
    "\t 1))\n",
    "   k)))"
   ]
  },
  {
   "cell_type": "code",
   "execution_count": 8,
   "id": "a992fe7c",
   "metadata": {},
   "outputs": [
    {
     "data": {
      "text/plain": [
       "2.7182818284590455"
      ]
     },
     "execution_count": 8,
     "metadata": {},
     "output_type": "execute_result"
    }
   ],
   "source": [
    "(e-test 100)"
   ]
  },
  {
   "cell_type": "markdown",
   "id": "e43f56de",
   "metadata": {},
   "source": [
    "结束！！"
   ]
  }
 ],
 "metadata": {
  "kernelspec": {
   "display_name": "Calysto Scheme 3",
   "language": "scheme",
   "name": "calysto_scheme"
  },
  "language_info": {
   "codemirror_mode": {
    "name": "scheme"
   },
   "mimetype": "text/x-scheme",
   "name": "scheme",
   "pygments_lexer": "scheme"
  }
 },
 "nbformat": 4,
 "nbformat_minor": 5
}
