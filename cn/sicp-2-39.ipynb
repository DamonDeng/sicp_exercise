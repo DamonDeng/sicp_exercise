{
 "cells": [
  {
   "cell_type": "markdown",
   "id": "0454da55",
   "metadata": {},
   "source": [
    "## SICP 习题 （2.39）解题总结：用fold-right和fold-left完成reverse"
   ]
  },
  {
   "cell_type": "markdown",
   "id": "6e914d4b",
   "metadata": {},
   "source": [
    "SICP习题2.39的题干很简单，就是希望我们用2.38提到的fold-right和fold-left函数完成reverse操作，就是倒转序列的顺序。\n",
    "\n",
    "所谓fold-right，其实就是accumulate,为什么可以拿来做reverse操作呢？\n",
    "\n",
    "题目还给我们写好了代码框架：\n",
    "\n",
    "    (fold-right <??>\n",
    "            '()\n",
    "            sequence)\n",
    "\n",
    "    (fold-left <??>\n",
    "            '()\n",
    "            sequence)\n",
    "            \n",
    "这里的关键就是accumulate里的operator操作的两个参数：当前元素  和  后续所有元素的累积结果。\n",
    "\n",
    "如果你现在处理的是第一元素，后续的所有元素都当它处理好了，你只需要将当前这个第一个元素加到后续元素的后面就可以完成reverse操作了，至于后续元素是怎么处理的，递归进行操作就可以了。\n",
    "\n",
    "代码如下："
   ]
  },
  {
   "cell_type": "code",
   "execution_count": 6,
   "id": "7abc7d3a",
   "metadata": {},
   "outputs": [],
   "source": [
    "(define (new-reverse sequence)\n",
    "  (fold-right (lambda (cur-item pre-result)\n",
    "\t\t(append pre-result (list cur-item)))\n",
    "\t\t'()\n",
    "\t\tsequence))\n",
    "\n",
    "\n",
    "(define (new-reverse-2 sequence)\n",
    "  (fold-left (lambda (pre-result cur-item)\n",
    "\t       (newline)\n",
    "\t       (display \":\")\n",
    "\t       (display cur-item)\n",
    "\t       (display \":\")\n",
    "\t       (display pre-result)\n",
    "\t\t(append  (list cur-item) pre-result))\n",
    "\t\t'()\n",
    "\t\tsequence))\n",
    "\n",
    "(define (fold-left op initial sequence)\n",
    "  (define (iter result rest)\n",
    "    (if (null? rest)\n",
    "\tresult\n",
    "\t(iter (op result (car rest))\n",
    "\t      (cdr rest))))\n",
    "  (iter initial sequence))\n",
    "\n",
    "(define (fold-right op initial sequence)\n",
    "  \n",
    "  (if (null? sequence)\n",
    "      initial\n",
    "      (op (car sequence)\n",
    "\t  (fold-right op initial (cdr sequence)))))\n",
    "\n"
   ]
  },
  {
   "cell_type": "code",
   "execution_count": 7,
   "id": "edd62203",
   "metadata": {},
   "outputs": [
    {
     "data": {
      "text/plain": [
       "(3 2 1)"
      ]
     },
     "execution_count": 7,
     "metadata": {},
     "output_type": "execute_result"
    }
   ],
   "source": [
    "(new-reverse '(1 2 3))"
   ]
  },
  {
   "cell_type": "code",
   "execution_count": 8,
   "id": "d552f678",
   "metadata": {},
   "outputs": [
    {
     "data": {
      "text/plain": [
       "(5 (3 4) 2 1)"
      ]
     },
     "execution_count": 8,
     "metadata": {},
     "output_type": "execute_result"
    }
   ],
   "source": [
    "(new-reverse '(1 2 (3 4) 5))"
   ]
  },
  {
   "cell_type": "code",
   "execution_count": 9,
   "id": "27208316",
   "metadata": {},
   "outputs": [
    {
     "name": "stdout",
     "output_type": "stream",
     "text": [
      "\n",
      ":1:()\n",
      ":2:(1)\n",
      ":3:(2 1)"
     ]
    },
    {
     "data": {
      "text/plain": [
       "(3 2 1)"
      ]
     },
     "execution_count": 9,
     "metadata": {},
     "output_type": "execute_result"
    }
   ],
   "source": [
    "(new-reverse-2 '(1 2 3))"
   ]
  },
  {
   "cell_type": "code",
   "execution_count": 10,
   "id": "3f563d60",
   "metadata": {},
   "outputs": [
    {
     "name": "stdout",
     "output_type": "stream",
     "text": [
      "\n",
      ":1:()\n",
      ":2:(1)\n",
      ":(3 4):(2 1)\n",
      ":5:((3 4) 2 1)"
     ]
    },
    {
     "data": {
      "text/plain": [
       "(5 (3 4) 2 1)"
      ]
     },
     "execution_count": 10,
     "metadata": {},
     "output_type": "execute_result"
    }
   ],
   "source": [
    "(new-reverse-2 '(1 2 (3 4) 5))"
   ]
  },
  {
   "cell_type": "code",
   "execution_count": null,
   "id": "f1e1b6ab",
   "metadata": {},
   "outputs": [],
   "source": []
  }
 ],
 "metadata": {
  "kernelspec": {
   "display_name": "Calysto Scheme 3",
   "language": "scheme",
   "name": "calysto_scheme"
  },
  "language_info": {
   "codemirror_mode": {
    "name": "scheme"
   },
   "mimetype": "text/x-scheme",
   "name": "scheme",
   "pygments_lexer": "scheme"
  }
 },
 "nbformat": 4,
 "nbformat_minor": 5
}
