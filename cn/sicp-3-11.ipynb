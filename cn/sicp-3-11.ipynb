{
 "cells": [
  {
   "cell_type": "markdown",
   "id": "079f4e51",
   "metadata": {},
   "source": [
    "## SICP 习题 （3.11）解题总结: 消息传递风格的环境结构"
   ]
  },
  {
   "cell_type": "markdown",
   "id": "da8351da",
   "metadata": {},
   "source": [
    "SICP 习题 3.11 是要让我们去思考消息传递风格里的环境结构的问题。\n",
    "\n",
    "题目使用的材料是习题 3.3 里用到的(make-account)函数。在这个(make-account)函数里我们返回的是dispatch，dispatch本身是个函数。从整体上看，这里的环境结构是由(make-account)创建出来，然后(make-account)的环境挂载了dispatch的环境，在dispatch函数里又会根据消息的类型返回真正的操作函数，如withdraw, deposit。在dispatch函数的环境里又会挂载操作函数的环境。所以我们在操作函数里是可以访问和修改balance这中变量的，在操作函数的环境里找不到balance就会去dispatch函数的环境里找，在dispatch环境里也没有balance变量就会去(make-account)的环境里去找，终于可以找到。"
   ]
  },
  {
   "cell_type": "markdown",
   "id": "14fa8e66",
   "metadata": {},
   "source": [
    "下面是3.3的代码，供测试分析："
   ]
  },
  {
   "cell_type": "code",
   "execution_count": 2,
   "id": "51239efd",
   "metadata": {},
   "outputs": [],
   "source": [
    "(define (make-account balance account-password)\n",
    "  (define (withdraw amount)\n",
    "    (if (>= balance amount)\n",
    "\t(begin (set! balance (- balance amount))\n",
    "\t       balance)\n",
    "\t\"insufficient funds\"))\n",
    "  (define (deposit amount)\n",
    "    (set! balance (+ balance amount))\n",
    "    balance)\n",
    "\n",
    "  (define (wrongpassword amount)\n",
    "    \"incorrect password\")\n",
    "\n",
    "  (define (dispatch password m)\n",
    "\n",
    "    (if (not (equal? password account-password))\n",
    "\twrongpassword\n",
    "\t(cond ((eq? m 'withdraw) withdraw)\n",
    "\t      ((eq? m 'deposit) deposit)\n",
    "\t      (else (error \"unknow request -- Make-Account\"\n",
    "\t\t\t   m)))))\n",
    "  dispatch)"
   ]
  },
  {
   "cell_type": "code",
   "execution_count": 3,
   "id": "8f1cd473",
   "metadata": {},
   "outputs": [],
   "source": [
    "(define acc (make-account 100 'my-password))"
   ]
  },
  {
   "cell_type": "code",
   "execution_count": 4,
   "id": "9af718c6",
   "metadata": {},
   "outputs": [
    {
     "data": {
      "text/plain": [
       "110"
      ]
     },
     "execution_count": 4,
     "metadata": {},
     "output_type": "execute_result"
    }
   ],
   "source": [
    "((acc 'my-password 'deposit) 10)"
   ]
  },
  {
   "cell_type": "code",
   "execution_count": null,
   "id": "e8cd78d3",
   "metadata": {},
   "outputs": [],
   "source": []
  }
 ],
 "metadata": {
  "kernelspec": {
   "display_name": "Calysto Scheme 3",
   "language": "scheme",
   "name": "calysto_scheme"
  },
  "language_info": {
   "codemirror_mode": {
    "name": "scheme"
   },
   "mimetype": "text/x-scheme",
   "name": "scheme",
   "pygments_lexer": "scheme"
  }
 },
 "nbformat": 4,
 "nbformat_minor": 5
}
