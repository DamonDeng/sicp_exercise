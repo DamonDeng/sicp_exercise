{
 "cells": [
  {
   "cell_type": "markdown",
   "id": "0556f778",
   "metadata": {},
   "source": [
    "## SICP 习题 （1.26） 解题总结"
   ]
  },
  {
   "cell_type": "markdown",
   "id": "c606a9e6",
   "metadata": {},
   "source": [
    "SCIP 习题1.26是对expmod过程的讨论。\n",
    "\n",
    "我不知道这道题对你来说是否简单，我个人是觉得比较简单。\n",
    "\n",
    "题目说的是一个叫Louis Reasoner的人将expmod 过程实现成下面这个样子："
   ]
  },
  {
   "cell_type": "code",
   "execution_count": 4,
   "id": "cdfe668a",
   "metadata": {},
   "outputs": [],
   "source": [
    "(define (expmod base exp m)\n",
    "\t(cond (( = exp 0) 1)\n",
    "\t\t((even? exp)\n",
    "\t\t\t(remainder (* (expmod base (/ exp 2) m)\n",
    "\t\t\t\t\t\t\t(expmod base (/ exp 2) m))\n",
    "\t\t\t\t\t\tm))\n",
    "\t\t\t(else\n",
    "\t\t\t\t(remainder (* base (expmod base (- exp 1) m))\n",
    "\t\t\t\t\t\tm))))"
   ]
  },
  {
   "cell_type": "markdown",
   "id": "e9c1c2ca",
   "metadata": {},
   "source": [
    "注意其中的关键是将：\n",
    "\n",
    "    (square (expmod base (/ exp 2) m))\n",
    "\n",
    "改成了：\n",
    "\n",
    "    (* (expmod base (/ exp 2) m)\n",
    "       (expmod base (/ exp 2) m))\n",
    "\n",
    "这个改动看上去很小，其实影响很大。\n",
    "\n",
    "如果对前面有关应用序的讨论和“折半法”还有印象的话，解这道题问题不大。\n",
    "\n",
    "原来的expmod过程之所以可以在对数步数内完成，是因为将两次变换转成了一次变换，如今使用下面的代码把一次变换有变成了两次变换：\n",
    "\n",
    "    (* (expmod base (/ exp 2) m)\n",
    "       (expmod base (/ exp 2) m))\n",
    "\n",
    "因为按应用序的规则，所有参数是计算出结果再代入，而不同的参数是分别计算的，即使两个参数的公式是一样的，系统也会计算两次。而这里的参数又恰好是递归调用，本来递归调用一次的简单递归变成了递归调用两次的树形递归，计算效率就变的差很多了。\n",
    "\n",
    "好，到这里就解题结束！"
   ]
  },
  {
   "cell_type": "markdown",
   "id": "01a7f13e",
   "metadata": {},
   "source": [
    "简单跑一下代码，代码运行本身是没有问题的，就是效率变低了："
   ]
  },
  {
   "cell_type": "code",
   "execution_count": 5,
   "id": "5db70321",
   "metadata": {},
   "outputs": [
    {
     "data": {
      "text/plain": [
       "0"
      ]
     },
     "execution_count": 5,
     "metadata": {},
     "output_type": "execute_result"
    }
   ],
   "source": [
    "(expmod 10 4 8)"
   ]
  },
  {
   "cell_type": "code",
   "execution_count": null,
   "id": "34d45458",
   "metadata": {},
   "outputs": [],
   "source": []
  }
 ],
 "metadata": {
  "kernelspec": {
   "display_name": "Calysto Scheme 3",
   "language": "scheme",
   "name": "calysto_scheme"
  },
  "language_info": {
   "codemirror_mode": {
    "name": "scheme"
   },
   "mimetype": "text/x-scheme",
   "name": "scheme",
   "pygments_lexer": "scheme"
  }
 },
 "nbformat": 4,
 "nbformat_minor": 5
}
