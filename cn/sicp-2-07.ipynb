{
 "cells": [
  {
   "cell_type": "markdown",
   "id": "0454da55",
   "metadata": {},
   "source": [
    "## SICP 习题 （2.7） 解题总结 : 定义区间数据结构"
   ]
  },
  {
   "cell_type": "markdown",
   "id": "39ebc09b",
   "metadata": {},
   "source": [
    "\n",
    "SICP 习题 2.7 开始属于扩展练习，可以考虑不做，对后面的学习没什么影响。不过，如果上面的使用过程表示序对，还有丘奇计数你都可以理解的话，完成这些扩展练习其实没什么问题。\n",
    "\n",
    "习题2.7是要求我们协助Allysa完成interval的定义。\n",
    "\n",
    "Allysa定义了下面的过程来创建一个区间（interval），其中a是起点（就是较小的部分），而b是终点（就是较大部分）。"
   ]
  },
  {
   "cell_type": "code",
   "execution_count": 1,
   "id": "cec1781c",
   "metadata": {},
   "outputs": [],
   "source": [
    "(define (make-interval a b)\n",
    "  (cons a b))"
   ]
  },
  {
   "cell_type": "markdown",
   "id": "ac847efb",
   "metadata": {},
   "source": [
    "\n",
    "题目要求我们实现lower-bound过程和upper-bound过程，用于获取一个区间的起点和终点。\n",
    "\n",
    "既然起点和终点是使用cons函数连接在一起的，获取起点和终点的函数就很简单啦，通过car和cdr获取就行了："
   ]
  },
  {
   "cell_type": "code",
   "execution_count": 2,
   "id": "8efd0a64",
   "metadata": {},
   "outputs": [],
   "source": [
    "(define (lower-bound x)\n",
    "  (car x))\n",
    "\n",
    "(define (upper-bound x)\n",
    "  (cdr x))"
   ]
  },
  {
   "cell_type": "markdown",
   "id": "d84b11bd",
   "metadata": {},
   "source": [
    "值得注意的是，像这样简单的构建复合数据的方式在本书后面的章节中不断出现，变成了一个常规的数据组织手段，所以大家还是可以多留意一下这一系列扩展练习，加强对复合数据的理解。"
   ]
  },
  {
   "cell_type": "code",
   "execution_count": null,
   "id": "a5605750",
   "metadata": {},
   "outputs": [],
   "source": []
  }
 ],
 "metadata": {
  "kernelspec": {
   "display_name": "Calysto Scheme 3",
   "language": "scheme",
   "name": "calysto_scheme"
  },
  "language_info": {
   "codemirror_mode": {
    "name": "scheme"
   },
   "mimetype": "text/x-scheme",
   "name": "scheme",
   "pygments_lexer": "scheme"
  }
 },
 "nbformat": 4,
 "nbformat_minor": 5
}
