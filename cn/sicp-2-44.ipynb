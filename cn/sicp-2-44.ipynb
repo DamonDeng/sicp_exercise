{
 "cells": [
  {
   "cell_type": "markdown",
   "id": "0454da55",
   "metadata": {},
   "source": [
    "## SICP 习题 （2.44）解题总结：一种图形语言"
   ]
  },
  {
   "cell_type": "markdown",
   "id": "f604bfc5",
   "metadata": {},
   "source": [
    "SICP习题2.44开始，一直到习题2.52， 讲的都是一种图形语言。\n",
    "\n",
    "SICP书中介绍的这种图形语言是一种“基于数据的语言”，主要是为了让读者更好地了解 `闭包` 的概念。\n",
    "\n",
    "闭包的概念就是集合元素的操作结果也是集合的一部分，比如整数的+和-操作生成的结果也是整数。\n",
    "\n",
    "这里提到的图形语言也是符合这个要求的，一个“画家”翻转以后还是“画家”。 这里用“画家”是延用了书中的概念，书里的“画家”其实就是一幅画，一幅画的翻转还是一幅画。\n",
    "\n",
    "从2.44开始，解题的困难之处是书里的代码执行起来没有明确的输出。正常来说这个图形语言运行的结果就是一个图形界面的输出，但是一般的scheme都没有直接的图形化界面，要对接图形界面都比较麻烦。\n",
    "\n",
    "但是，作为程序员的我，运行一个图形语言没有图形输出实在太难受了，所以我还是去想办法做图形化输出。\n",
    "本来是希望用Calysto Scheme在notebook里的graphics包，但是一直测试不通过，无法import calysto包。\n",
    "\n",
    "后来就折中，把图形语言的输出变成一个文本记录，保存在txt文件里，由另一个使用python的 \n",
    "[notebook](./sicp-2-44-display.ipynb)\n",
    "进行canvas展示。虽然麻烦一点，总算是有个展示形式。"
   ]
  },
  {
   "cell_type": "markdown",
   "id": "bac1cc95",
   "metadata": {},
   "source": [
    "另外一个SICP解题的困惑是书中的习题是有依赖性的，很多代码都依赖于后续题目的代码，也就是说不把所有相关题目做完就不能成功运行当前题目的代码，如果不能成功运行当前习题的代码，又不能很好地理解题目，导致无法学习后续的题目。。。。。\n",
    "\n",
    "好矛盾。\n",
    "\n",
    "后来我的做法就是不管三七二十一，先把相关代码一股脑抄进去，逐步调试代码，让基本的代码可以运行起来，然后再开始看习题。\n",
    "\n",
    "针对这个图形语言，我也是这么干的。"
   ]
  },
  {
   "cell_type": "markdown",
   "id": "77253fc7",
   "metadata": {},
   "source": [
    "因为是个图形化语言，需要定义基本的向量和线段操作："
   ]
  },
  {
   "cell_type": "code",
   "execution_count": 1,
   "id": "6670f310",
   "metadata": {},
   "outputs": [],
   "source": [
    "(define (make-vect x y)\n",
    "  (cons x y))\n",
    "\n",
    "(define (xcor-vect vect)\n",
    "  (car vect))\n",
    "\n",
    "(define (ycor-vect vect)\n",
    "  (cdr vect))\n",
    "\n",
    "(define (add-vect vect1 vect2)\n",
    "  (cons (+ (xcor-vect vect1) (xcor-vect vect2))\n",
    "\t(+ (ycor-vect vect1) (ycor-vect vect2))))\n",
    "\n",
    "(define (sub-vect vect1 vect2)\n",
    "  (cons (- (xcor-vect vect1) (xcor-vect vect2))\n",
    "\t(- (ycor-vect vect1) (ycor-vect vect2))))\n",
    "\n",
    "(define (scale-vect scale vect)\n",
    "  (cons (* (xcor-vect vect) scale) (* (ycor-vect vect) scale)))\n",
    "\n",
    " "
   ]
  },
  {
   "cell_type": "markdown",
   "id": "372ff3df",
   "metadata": {},
   "source": [
    "### 2.46\n",
    "\n",
    "做完上面的向量函数以后你就发现你已经完成习题2.46了，:-)\n",
    "\n",
    "这一个系列的题目从2.44开始，不过你要是从最基本的组建开始构建，发现你先完成了习题2.46\n",
    "\n",
    "所以我觉得SICP在这些习题的规划中有种故意不让你从基础模块开始的意思，估计是想锻炼你的抽象思维能力吧\n",
    "\n",
    "我自认抽象思维能力一般，只能从基础组建开始往上抽象，不能直接在抽象层面对问题进行思考。"
   ]
  },
  {
   "cell_type": "markdown",
   "id": "50da38a8",
   "metadata": {},
   "source": [
    "### 2.48\n",
    "\n",
    "接着开始定义线段，定义完你就做完习题2.48了。。。。"
   ]
  },
  {
   "cell_type": "code",
   "execution_count": 2,
   "id": "fadfef4d",
   "metadata": {},
   "outputs": [],
   "source": [
    "(define (make-segment v1 v2)\n",
    "   (cons v1 v2))\n",
    "\n",
    "(define (start-segment segment)\n",
    "  (car segment))\n",
    "\n",
    "(define (end-segment segment)\n",
    "  (cdr segment))"
   ]
  },
  {
   "cell_type": "markdown",
   "id": "3637f7ca",
   "metadata": {},
   "source": [
    "然后就是draw-line方法，把线段画出来，因为当前notebook不能直接操作canvas，所以我们定义一个特殊的draw-line-to-buffer方法，把需要绘制的线段保存到一个序列里："
   ]
  },
  {
   "cell_type": "code",
   "execution_count": 3,
   "id": "30ce8f23",
   "metadata": {},
   "outputs": [],
   "source": [
    "(define (draw-line start-vect end-vect)\n",
    "  (draw-line-to-buffer start-vect end-vect)\n",
    "  )"
   ]
  },
  {
   "cell_type": "code",
   "execution_count": 4,
   "id": "64894b10",
   "metadata": {},
   "outputs": [],
   "source": [
    "\n",
    "\n",
    "(define line-buffer ())\n",
    "\n",
    "\n",
    "(define (draw-line-to-buffer start-vect end-vect)\n",
    "  (let ((x1 (xcor-vect start-vect))\n",
    "        (y1 (ycor-vect start-vect))\n",
    "        (x2 (xcor-vect end-vect))\n",
    "        (y2 (ycor-vect end-vect))\n",
    "        )\n",
    "    \n",
    "      (if (null? line-buffer)\n",
    "        (set! line-buffer (list (list x1 y1 x2 y2)))\n",
    "        (set! line-buffer (append line-buffer (list (list x1 y1 x2 y2)))))\n",
    "  ))"
   ]
  },
  {
   "cell_type": "markdown",
   "id": "0564ff9a",
   "metadata": {},
   "source": [
    "简单测试一下："
   ]
  },
  {
   "cell_type": "code",
   "execution_count": 5,
   "id": "089565ce",
   "metadata": {},
   "outputs": [],
   "source": [
    "(draw-line-to-buffer (make-vect 10 20) (make-vect 30 40))\n",
    "(draw-line-to-buffer (make-vect 15 25) (make-vect 35 45))\n"
   ]
  },
  {
   "cell_type": "markdown",
   "id": "5d68a7ae",
   "metadata": {},
   "source": [
    "看看buffer里有什么："
   ]
  },
  {
   "cell_type": "code",
   "execution_count": 5,
   "id": "fad27788",
   "metadata": {},
   "outputs": [
    {
     "data": {
      "text/plain": [
       "((10 20 30 40) (15 25 35 45))"
      ]
     },
     "execution_count": 5,
     "metadata": {},
     "output_type": "execute_result"
    }
   ],
   "source": [
    "line-buffer"
   ]
  },
  {
   "cell_type": "markdown",
   "id": "92d64aff",
   "metadata": {},
   "source": [
    "## 2.47\n",
    "\n",
    "然后定义“绘制框架”，用于框定“画家”，做完你就完成习题2.47了，这题目顺序。。。。"
   ]
  },
  {
   "cell_type": "code",
   "execution_count": 6,
   "id": "ca0434ef",
   "metadata": {},
   "outputs": [],
   "source": [
    "(define (make-frame origin edge1 edge2)\n",
    "  (list origin edge1 edge2))\n",
    "\n",
    "(define (origin-frame frame)\n",
    "  (car frame))\n",
    "\n",
    "(define (edge1-frame frame)\n",
    "  (cadr frame))\n",
    "\n",
    "(define (edge2-frame frame)\n",
    "  (caddr frame))"
   ]
  },
  {
   "cell_type": "markdown",
   "id": "4b0d1a7d",
   "metadata": {},
   "source": [
    "然后定义一个最基本的框架，原点就在画板的原点上，x坐标和y坐标都不做伸缩变化："
   ]
  },
  {
   "cell_type": "code",
   "execution_count": 7,
   "id": "268b7e53",
   "metadata": {},
   "outputs": [],
   "source": [
    "(define target-frame (make-frame (make-vect 0 300) (make-vect 300 0) (make-vect 0 -300)))"
   ]
  },
  {
   "cell_type": "markdown",
   "id": "eb4ff505",
   "metadata": {},
   "source": [
    "再定义基于框架转化“画家”坐标的方法， 这个是书上直接给了代码的："
   ]
  },
  {
   "cell_type": "code",
   "execution_count": 8,
   "id": "2633063c",
   "metadata": {},
   "outputs": [],
   "source": [
    "(define (frame-coord-map frame)\n",
    "  (lambda (v)\n",
    "    (add-vect\n",
    "     (origin-frame frame)\n",
    "     (add-vect (scale-vect (xcor-vect v)\n",
    "                           (edge1-frame frame))\n",
    "               (scale-vect (ycor-vect v)\n",
    "                           (edge2-frame frame))))))"
   ]
  },
  {
   "cell_type": "markdown",
   "id": "655f691d",
   "metadata": {},
   "source": [
    "接着按书里的要求，定义一堆的点，用来画书里那个奇奇怪怪的小人："
   ]
  },
  {
   "cell_type": "code",
   "execution_count": 9,
   "id": "9890aeae",
   "metadata": {},
   "outputs": [],
   "source": [
    "(define key-points '((0.6 1.0) (0.67 0.83) (0.6 0.67) (0.7 0.67) (1.0 0.3) (1.0 0.17) (0.6 0.5) \n",
    "  (0.7 0.0) (0.6 0.0) (0.5 0.3) (0.4 0.0) (0.27 0.0) (0.4 0.5)\n",
    "  (0.33 0.6) (0.17 0.5) (0.0 0.7) (0.0 0.83) (0.17 0.63)\n",
    "  (0.33 0.67) (0.4 0.67) (0.33 0.83) (0.4 1.0)))"
   ]
  },
  {
   "cell_type": "code",
   "execution_count": 10,
   "id": "2ee67954",
   "metadata": {},
   "outputs": [
    {
     "data": {
      "text/plain": [
       "((0.6 1.0) (0.67 0.83) (0.6 0.67) (0.7 0.67) (1.0 0.3) (1.0 0.17) (0.6 0.5) (0.7 0.0) (0.6 0.0) (0.5 0.3) (0.4 0.0) (0.27 0.0) (0.4 0.5) (0.33 0.6) (0.17 0.5) (0.0 0.7) (0.0 0.83) (0.17 0.63) (0.33 0.67) (0.4 0.67) (0.33 0.83) (0.4 1.0))"
      ]
     },
     "execution_count": 10,
     "metadata": {},
     "output_type": "execute_result"
    }
   ],
   "source": [
    "key-points"
   ]
  },
  {
   "cell_type": "markdown",
   "id": "5e573cbc",
   "metadata": {},
   "source": [
    "然后用上面的点定义一堆的线段："
   ]
  },
  {
   "cell_type": "code",
   "execution_count": 11,
   "id": "5b737be0",
   "metadata": {},
   "outputs": [],
   "source": [
    "(define (make-segment-list key-points) \n",
    "  \n",
    "  (define (make-segment-list-inner key-points)\n",
    "    (if (null? key-points )\n",
    "        ()\n",
    "        (if (null? (cdr key-points))\n",
    "            ()\n",
    "            (cons (make-segment (make-vect (caar key-points) (cadar key-points))\n",
    "                                (make-vect (caadr key-points) (cadadr key-points)))\n",
    "                  (make-segment-list-inner (cdr key-points))))))\n",
    "  \n",
    "  (make-segment-list-inner key-points))"
   ]
  },
  {
   "cell_type": "code",
   "execution_count": 12,
   "id": "3ccdc9bb",
   "metadata": {},
   "outputs": [],
   "source": [
    "(define target-segment-list (make-segment-list key-points))"
   ]
  },
  {
   "cell_type": "code",
   "execution_count": 13,
   "id": "924ad78d",
   "metadata": {},
   "outputs": [
    {
     "data": {
      "text/plain": [
       "(((0.6 . 1.0) 0.67 . 0.83) ((0.67 . 0.83) 0.6 . 0.67) ((0.6 . 0.67) 0.7 . 0.67) ((0.7 . 0.67) 1.0 . 0.3) ((1.0 . 0.3) 1.0 . 0.17) ((1.0 . 0.17) 0.6 . 0.5) ((0.6 . 0.5) 0.7 . 0.0) ((0.7 . 0.0) 0.6 . 0.0) ((0.6 . 0.0) 0.5 . 0.3) ((0.5 . 0.3) 0.4 . 0.0) ((0.4 . 0.0) 0.27 . 0.0) ((0.27 . 0.0) 0.4 . 0.5) ((0.4 . 0.5) 0.33 . 0.6) ((0.33 . 0.6) 0.17 . 0.5) ((0.17 . 0.5) 0.0 . 0.7) ((0.0 . 0.7) 0.0 . 0.83) ((0.0 . 0.83) 0.17 . 0.63) ((0.17 . 0.63) 0.33 . 0.67) ((0.33 . 0.67) 0.4 . 0.67) ((0.4 . 0.67) 0.33 . 0.83) ((0.33 . 0.83) 0.4 . 1.0))"
      ]
     },
     "execution_count": 13,
     "metadata": {},
     "output_type": "execute_result"
    }
   ],
   "source": [
    "target-segment-list"
   ]
  },
  {
   "cell_type": "markdown",
   "id": "75a0f7a4",
   "metadata": {},
   "source": [
    "然后定义一个线段画手，把输入的线段都“绘制”到buffer上"
   ]
  },
  {
   "cell_type": "code",
   "execution_count": 14,
   "id": "870232c1",
   "metadata": {},
   "outputs": [],
   "source": [
    "(define (segments->painter segment-list)\n",
    "  (lambda (frame)\n",
    "    (for-each\n",
    "         (lambda (segment)\n",
    "           (draw-line\n",
    "            ((frame-coord-map frame) (start-segment segment))\n",
    "            ((frame-coord-map frame) (end-segment segment))))\n",
    "     segment-list)))"
   ]
  },
  {
   "cell_type": "markdown",
   "id": "72a1422c",
   "metadata": {},
   "source": [
    "先把buffer清空"
   ]
  },
  {
   "cell_type": "code",
   "execution_count": 15,
   "id": "6c393003",
   "metadata": {},
   "outputs": [],
   "source": [
    "(define line-buffer ())"
   ]
  },
  {
   "cell_type": "markdown",
   "id": "8030296e",
   "metadata": {},
   "source": [
    "调用segments->painter生成画家，然后返回的是一个函数，可以直接调用，用目标框架作为参数："
   ]
  },
  {
   "cell_type": "code",
   "execution_count": 16,
   "id": "7dcdfdeb",
   "metadata": {},
   "outputs": [],
   "source": [
    "((segments->painter target-segment-list) target-frame)"
   ]
  },
  {
   "cell_type": "markdown",
   "id": "c71cbd95",
   "metadata": {},
   "source": [
    "看看buffer里都画了什么"
   ]
  },
  {
   "cell_type": "code",
   "execution_count": 17,
   "id": "07c8e8ae",
   "metadata": {},
   "outputs": [
    {
     "data": {
      "text/plain": [
       "((180.0 0.0 201.0 51.0) (201.0 51.0 180.0 99.0) (180.0 99.0 210.0 99.0) (210.0 99.0 300.0 210.0) (300.0 210.0 300.0 249.0) (300.0 249.0 180.0 150.0) (180.0 150.0 210.0 300.0) (210.0 300.0 180.0 300.0) (180.0 300.0 150.0 210.0) (150.0 210.0 120.0 300.0) (120.0 300.0 81.0 300.0) (81.0 300.0 120.0 150.0) (120.0 150.0 99.0 120.0) (99.0 120.0 51.00000000000001 150.0) (51.00000000000001 150.0 0.0 90.0) (0.0 90.0 0.0 51.0) (0.0 51.0 51.00000000000001 111.0) (51.00000000000001 111.0 99.0 99.0) (99.0 99.0 120.0 99.0) (120.0 99.0 99.0 51.0) (99.0 51.0 120.0 0.0))"
      ]
     },
     "execution_count": 17,
     "metadata": {},
     "output_type": "execute_result"
    }
   ],
   "source": [
    "line-buffer"
   ]
  },
  {
   "cell_type": "markdown",
   "id": "cccb5109",
   "metadata": {},
   "source": [
    "为了保存这些数据，定义一个保存数据的函数："
   ]
  },
  {
   "cell_type": "code",
   "execution_count": 18,
   "id": "8eb18139",
   "metadata": {},
   "outputs": [],
   "source": [
    "(python-exec \"\n",
    "def save_wave_data (file_name, input_data):\n",
    "    python_file = open(file_name, 'w')\n",
    "    python_file.write(str(input_data))\n",
    "    python_file.close()\n",
    "             \")"
   ]
  },
  {
   "cell_type": "markdown",
   "id": "c19c5cae",
   "metadata": {},
   "source": [
    "调用保存方法保存数据："
   ]
  },
  {
   "cell_type": "code",
   "execution_count": 19,
   "id": "ec1849af",
   "metadata": {},
   "outputs": [],
   "source": [
    "(save_wave_data \"./sicp-2-44-output.txt\" line-buffer)"
   ]
  },
  {
   "cell_type": "markdown",
   "id": "05d11dd2",
   "metadata": {},
   "source": [
    "### 2.49\n",
    "\n",
    "这个其实就是习题2.49的要求，不过我只画了这个奇怪小人，没有去画个叉叉什么的。\n",
    "\n",
    "保存数据以后到display那个 \n",
    "[notebook](./sicp-2-44-display.ipynb) 把数据绘制成正真的画\n",
    "\n",
    "结果如下：\n",
    "\n",
    "![](./image/2-44-1.png)\n",
    "\n"
   ]
  },
  {
   "cell_type": "markdown",
   "id": "29052de8",
   "metadata": {},
   "source": [
    "接着对这个基本的painter做些测试，测试的过程是按书中的样例的顺序进行安排的。"
   ]
  },
  {
   "cell_type": "markdown",
   "id": "db81d114",
   "metadata": {},
   "source": [
    "先定义basic-painter，书里面用的变量名叫wave，我为了区分自己的代码，用了个不同的名字，叫basic-painter"
   ]
  },
  {
   "cell_type": "code",
   "execution_count": 20,
   "id": "b8b0010a",
   "metadata": {},
   "outputs": [],
   "source": [
    "(define basic-painter (segments->painter target-segment-list))"
   ]
  },
  {
   "cell_type": "markdown",
   "id": "5ec30f7c",
   "metadata": {},
   "source": [
    "可以先看看basic-painter的类型，认识到basic-painter，或者说书中的所有“画家”都是一个函数，对你理解整体代码有很大帮助："
   ]
  },
  {
   "cell_type": "code",
   "execution_count": 21,
   "id": "05f4b864",
   "metadata": {},
   "outputs": [
    {
     "data": {
      "text/plain": [
       "#<procedure>"
      ]
     },
     "execution_count": 21,
     "metadata": {},
     "output_type": "execute_result"
    }
   ],
   "source": [
    "basic-painter"
   ]
  },
  {
   "cell_type": "markdown",
   "id": "1a59c3da",
   "metadata": {},
   "source": [
    "接着清空buffer运行一下basic-painter看看，运行basic-painter时需要输入一个参数，这个参数时你希望绘制的目标框架，这里我用了一个300x300的框架，原点设置在显示屏幕的左下角，这样在python notebook里绘制就不会倒过来："
   ]
  },
  {
   "cell_type": "code",
   "execution_count": 23,
   "id": "bfeee153",
   "metadata": {},
   "outputs": [],
   "source": [
    "(define line-buffer ())\n",
    "(basic-painter target-frame)\n"
   ]
  },
  {
   "cell_type": "markdown",
   "id": "0cfaeb89",
   "metadata": {},
   "source": [
    "看看buffer里都有什么，这个和第一个运行的“画家”是一样的："
   ]
  },
  {
   "cell_type": "code",
   "execution_count": 24,
   "id": "806a000f",
   "metadata": {},
   "outputs": [
    {
     "data": {
      "text/plain": [
       "((180.0 0.0 201.0 51.0) (201.0 51.0 180.0 99.0) (180.0 99.0 210.0 99.0) (210.0 99.0 300.0 210.0) (300.0 210.0 300.0 249.0) (300.0 249.0 180.0 150.0) (180.0 150.0 210.0 300.0) (210.0 300.0 180.0 300.0) (180.0 300.0 150.0 210.0) (150.0 210.0 120.0 300.0) (120.0 300.0 81.0 300.0) (81.0 300.0 120.0 150.0) (120.0 150.0 99.0 120.0) (99.0 120.0 51.00000000000001 150.0) (51.00000000000001 150.0 0.0 90.0) (0.0 90.0 0.0 51.0) (0.0 51.0 51.00000000000001 111.0) (51.00000000000001 111.0 99.0 99.0) (99.0 99.0 120.0 99.0) (120.0 99.0 99.0 51.0) (99.0 51.0 120.0 0.0))"
      ]
     },
     "execution_count": 24,
     "metadata": {},
     "output_type": "execute_result"
    }
   ],
   "source": [
    "line-buffer"
   ]
  },
  {
   "cell_type": "markdown",
   "id": "8932ceb1",
   "metadata": {},
   "source": [
    "接着我们要做垂直翻转的效果。\n",
    "\n",
    "这里的翻转效果是用(transform-painter)函数完成的，代码在书中有完整给出："
   ]
  },
  {
   "cell_type": "code",
   "execution_count": 25,
   "id": "a41e0d52",
   "metadata": {},
   "outputs": [],
   "source": [
    "(define (transform-painter painter origin corner1 corner2)\n",
    "  (lambda (frame)\n",
    "    (let ((m (frame-coord-map frame)))\n",
    "      (let ((new-origin (m origin)))\n",
    "        (painter\n",
    "         (make-frame new-origin\n",
    "                     (sub-vect (m corner1) new-origin)\n",
    "                     (sub-vect (m corner2) new-origin)))))))"
   ]
  },
  {
   "cell_type": "markdown",
   "id": "826b8541",
   "metadata": {},
   "source": [
    "那垂直翻转的函数就可以这样定义：\n",
    "\n",
    "注意这里(transform-painter)函数的第一个参数是需要操作的“画家”，第二个参数时处理后图像的原点，第三个参数是原图右下角的新的位置，第四个参数是原图左上角的新的位置"
   ]
  },
  {
   "cell_type": "code",
   "execution_count": 26,
   "id": "b878935e",
   "metadata": {},
   "outputs": [],
   "source": [
    "(define (flip-vert painter)\n",
    "  (transform-painter painter\n",
    "                     (make-vect 0.0 1.0)\n",
    "                     (make-vect 1.0 1.0)\n",
    "                     (make-vect 0.0 0.0)))"
   ]
  },
  {
   "cell_type": "code",
   "execution_count": 27,
   "id": "0e193751",
   "metadata": {},
   "outputs": [],
   "source": [
    "(define vert-painter (flip-vert basic-painter))"
   ]
  },
  {
   "cell_type": "code",
   "execution_count": 28,
   "id": "8924b051",
   "metadata": {},
   "outputs": [],
   "source": [
    "(define line-buffer ())"
   ]
  },
  {
   "cell_type": "code",
   "execution_count": 29,
   "id": "e837a78b",
   "metadata": {},
   "outputs": [],
   "source": [
    "(vert-painter target-frame)"
   ]
  },
  {
   "cell_type": "code",
   "execution_count": 30,
   "id": "52cdb921",
   "metadata": {},
   "outputs": [],
   "source": [
    "(save_wave_data \"./sicp-2-44-output-vert.txt\" line-buffer)"
   ]
  },
  {
   "cell_type": "markdown",
   "id": "8f9f9cf5",
   "metadata": {},
   "source": [
    "绘制的图形效果如下：\n",
    "\n",
    "![](./image/2-44-2.png)"
   ]
  },
  {
   "cell_type": "markdown",
   "id": "4b07b66d",
   "metadata": {},
   "source": [
    "接着要完成并排两个画家的效果，\n",
    "\n",
    "先定义(beside)函数"
   ]
  },
  {
   "cell_type": "code",
   "execution_count": 31,
   "id": "28abea84",
   "metadata": {},
   "outputs": [],
   "source": [
    "(define (beside painter1 painter2)\n",
    "  (let ((split-point (make-vect 0.5 0.0)))\n",
    "    (let ((paint-left\n",
    "           (transform-painter painter1\n",
    "                              (make-vect 0.0 0.0)\n",
    "                              split-point\n",
    "                              (make-vect 0.0 1.0)))\n",
    "          (paint-right\n",
    "           (transform-painter painter2\n",
    "                              split-point\n",
    "                              (make-vect 1.0 0.0)\n",
    "                              (make-vect 0.5 1.0))))\n",
    "      (lambda (frame)\n",
    "        (paint-left frame)\n",
    "        (paint-right frame)))))"
   ]
  },
  {
   "cell_type": "code",
   "execution_count": 32,
   "id": "3b05ec26",
   "metadata": {},
   "outputs": [],
   "source": [
    "(define painter-2 (beside basic-painter (flip-vert basic-painter)))"
   ]
  },
  {
   "cell_type": "code",
   "execution_count": 33,
   "id": "bc7fe1f0",
   "metadata": {},
   "outputs": [],
   "source": [
    "(define line-buffer ())"
   ]
  },
  {
   "cell_type": "code",
   "execution_count": 34,
   "id": "b44e64dc",
   "metadata": {},
   "outputs": [],
   "source": [
    "(painter-2 target-frame)"
   ]
  },
  {
   "cell_type": "code",
   "execution_count": 35,
   "id": "e05c7694",
   "metadata": {},
   "outputs": [],
   "source": [
    "(save_wave_data \"./sicp-2-44-output-painter2.txt\" line-buffer)"
   ]
  },
  {
   "cell_type": "markdown",
   "id": "6dd1a725",
   "metadata": {},
   "source": [
    "绘制效果如下：\n",
    "\n",
    "![](./image/2-44-3.png)"
   ]
  },
  {
   "cell_type": "markdown",
   "id": "7bc1472e",
   "metadata": {},
   "source": [
    "### 2.51 below函数\n",
    "\n",
    "接着要实现上下并排的效果，这里需要用到below函数，可以根据beside进行仿写。\n",
    "\n",
    "做完了你会发现你完成了习题2.51的一半"
   ]
  },
  {
   "cell_type": "code",
   "execution_count": 36,
   "id": "10262562",
   "metadata": {},
   "outputs": [],
   "source": [
    "(define (below painter1 painter2)\n",
    "  (let ((split-point (make-vect 0.0 0.5)))\n",
    "    (let ((paint-lower\n",
    "           (transform-painter painter1\n",
    "                              (make-vect 0.0 0.0)\n",
    "                              (make-vect 1.0 0.0)\n",
    "                              split-point))\n",
    "          (paint-upper\n",
    "           (transform-painter painter2\n",
    "                              split-point\n",
    "                              (make-vect 1.0 .5)\n",
    "                              (make-vect 0.0 1.0)\n",
    "                              )))\n",
    "      (lambda (frame)\n",
    "        (paint-lower frame)\n",
    "        (paint-upper frame)\n",
    "        ))))"
   ]
  },
  {
   "cell_type": "code",
   "execution_count": 37,
   "id": "ac68ba58",
   "metadata": {
    "scrolled": true
   },
   "outputs": [],
   "source": [
    "(define painter-4 (below painter-2 painter-2))"
   ]
  },
  {
   "cell_type": "code",
   "execution_count": 38,
   "id": "826f64b4",
   "metadata": {},
   "outputs": [],
   "source": [
    "(define line-buffer ())\n",
    "(painter-4 target-frame)\n",
    "(save_wave_data \"./sicp-2-44-output-painter4.txt\" line-buffer)"
   ]
  },
  {
   "cell_type": "markdown",
   "id": "99a5b40f",
   "metadata": {},
   "source": [
    "绘制效果如下：\n",
    "\n",
    "![](./image/2-44-4.png)"
   ]
  },
  {
   "cell_type": "markdown",
   "id": "20dc3995",
   "metadata": {},
   "source": [
    "另外，如书中提到的，现在可以在Scheme环境里自由地使用这种图形语言，比如把以上方法打包成一个新的方法叫flipped-pairs，直接实现翻转，beside组合，below组合等效果"
   ]
  },
  {
   "cell_type": "code",
   "execution_count": 39,
   "id": "1ca42c21",
   "metadata": {},
   "outputs": [],
   "source": [
    "(define (flipped-pairs painter)\n",
    "  (let ((painter2 (beside painter (flip-vert painter))))\n",
    "    (below painter2 painter2)))\n"
   ]
  },
  {
   "cell_type": "code",
   "execution_count": 40,
   "id": "6e2093ae",
   "metadata": {},
   "outputs": [],
   "source": [
    "(define painter-4 (flipped-pairs basic-painter))"
   ]
  },
  {
   "cell_type": "code",
   "execution_count": 41,
   "id": "63f279cc",
   "metadata": {},
   "outputs": [],
   "source": [
    "(define line-buffer ())\n",
    "(painter-4 target-frame)\n",
    "(save_wave_data \"./sicp-2-44-output-painter4.txt\" line-buffer)"
   ]
  },
  {
   "cell_type": "markdown",
   "id": "b6edf0b7",
   "metadata": {},
   "source": [
    "这个运行效果和之前那个painter-4是一样的，就不显示绘制效果了。"
   ]
  },
  {
   "cell_type": "markdown",
   "id": "89531cea",
   "metadata": {},
   "source": [
    "接着可以实现right-split效果，不断在右边细分填充painter:"
   ]
  },
  {
   "cell_type": "code",
   "execution_count": 42,
   "id": "6722fc9d",
   "metadata": {},
   "outputs": [],
   "source": [
    "(define (right-split painter n)\n",
    "  (if (= n 0)\n",
    "      painter\n",
    "      (let ((smaller (right-split painter (- n 1))))\n",
    "        (beside painter (below smaller smaller)))))"
   ]
  },
  {
   "cell_type": "code",
   "execution_count": 43,
   "id": "e0df2dd7",
   "metadata": {},
   "outputs": [],
   "source": [
    "(define right-split-painter (right-split basic-painter 5))"
   ]
  },
  {
   "cell_type": "code",
   "execution_count": 44,
   "id": "aac293c2",
   "metadata": {},
   "outputs": [],
   "source": [
    "(define line-buffer ())\n",
    "(right-split-painter target-frame)\n",
    "(save_wave_data \"./sicp-2-44-output-right-split.txt\" line-buffer)"
   ]
  },
  {
   "cell_type": "markdown",
   "id": "47a5fb96",
   "metadata": {},
   "source": [
    "绘制效果如下：\n",
    "\n",
    "这个看起来就很有感觉了，这么复杂的图形可以通过简单的语句实现\n",
    "\n",
    "![](./image/2-44-5.png)"
   ]
  },
  {
   "cell_type": "markdown",
   "id": "aea15cc4",
   "metadata": {},
   "source": [
    "### 2.44\n",
    "\n",
    "同样的效果，方向不同，把细分的方向变成向上就完成了(up-split)函数了。\n",
    "\n",
    "这个才是题目2.44的真正题干，要求我们实现(up-split)"
   ]
  },
  {
   "cell_type": "code",
   "execution_count": 45,
   "id": "5a374a97",
   "metadata": {},
   "outputs": [],
   "source": [
    "(define (up-split painter n)\n",
    "  (if (= n 0)\n",
    "      painter\n",
    "      (let ((up (up-split painter (- n 1))))\n",
    "        (below painter (beside up up)))))"
   ]
  },
  {
   "cell_type": "code",
   "execution_count": 46,
   "id": "b0ff2af1",
   "metadata": {},
   "outputs": [],
   "source": [
    "(define up-split-painter (up-split basic-painter 5))"
   ]
  },
  {
   "cell_type": "code",
   "execution_count": 47,
   "id": "68d18539",
   "metadata": {},
   "outputs": [],
   "source": [
    "(define line-buffer ())\n",
    "(up-split-painter target-frame)\n",
    "(save_wave_data \"./sicp-2-44-output-up-split.txt\" line-buffer)"
   ]
  },
  {
   "cell_type": "markdown",
   "id": "4e3de311",
   "metadata": {},
   "source": [
    "绘制效果如下：\n",
    "\n",
    "![](./image/2-44-6.png)"
   ]
  },
  {
   "cell_type": "markdown",
   "id": "3f195a7e",
   "metadata": {},
   "source": [
    "接着就可以实现(corner-split)了，组合使用right-split和up-split可以绘制往右上角细分的效果："
   ]
  },
  {
   "cell_type": "code",
   "execution_count": 48,
   "id": "aec1043d",
   "metadata": {},
   "outputs": [],
   "source": [
    "(define (corner-split painter n)\n",
    "  (if (= n 0)\n",
    "      painter\n",
    "      (let ((up (up-split painter (- n 1)))\n",
    "            (right (right-split painter (- n 1))))\n",
    "        (let ((top-left (beside up up))\n",
    "              (bottom-right (below right right))\n",
    "              (corner (corner-split painter (- n 1))))\n",
    "          (beside (below painter top-left)\n",
    "                  (below bottom-right corner))))))\n"
   ]
  },
  {
   "cell_type": "code",
   "execution_count": 49,
   "id": "df3ac634",
   "metadata": {},
   "outputs": [],
   "source": [
    "(define corner-split-painter (corner-split basic-painter 3))"
   ]
  },
  {
   "cell_type": "code",
   "execution_count": 50,
   "id": "a293e150",
   "metadata": {},
   "outputs": [],
   "source": [
    "(define line-buffer ())\n",
    "(corner-split-painter target-frame)\n",
    "(save_wave_data \"./sicp-2-44-output-corner-split.txt\" line-buffer)"
   ]
  },
  {
   "cell_type": "markdown",
   "id": "c1e09cce",
   "metadata": {},
   "source": [
    "绘制效果如下：\n",
    "\n",
    "![](./image/2-44-7.png)"
   ]
  },
  {
   "cell_type": "markdown",
   "id": "059c10d4",
   "metadata": {},
   "source": [
    "### 2.50\n",
    "\n",
    "接着是实现水平翻转，这个参考垂直翻转的代码就好了。\n",
    "\n",
    "做完的话就完成习题2.50的一部分了，另外题目还要求我们实现逆时针180度和270的旋转，下面分别有实现："
   ]
  },
  {
   "cell_type": "code",
   "execution_count": 51,
   "id": "30c02ae8",
   "metadata": {},
   "outputs": [],
   "source": [
    "(define (flip-horiz painter)\n",
    "  (transform-painter painter\n",
    "                     (make-vect 1.0 0.0)\n",
    "                     (make-vect 0.0 0.0)\n",
    "                     (make-vect 1.0 1.0)))"
   ]
  },
  {
   "cell_type": "code",
   "execution_count": 52,
   "id": "9bf1effc",
   "metadata": {},
   "outputs": [],
   "source": [
    "(define h-flip-painter (flip-horiz basic-painter))"
   ]
  },
  {
   "cell_type": "code",
   "execution_count": 53,
   "id": "539c1bf7",
   "metadata": {},
   "outputs": [],
   "source": [
    "(define line-buffer ())\n",
    "(h-flip-painter target-frame)\n",
    "(save_wave_data \"./sicp-2-44-output-h-flip.txt\" line-buffer)"
   ]
  },
  {
   "cell_type": "markdown",
   "id": "d0638ae3",
   "metadata": {},
   "source": [
    "这个就不展示效果了，可以到display那个notebook看看效果"
   ]
  },
  {
   "cell_type": "markdown",
   "id": "0aaabb51",
   "metadata": {},
   "source": [
    "另外还有一个很特殊的“画家”，是从中间到四面八方细分的效果，代码如下："
   ]
  },
  {
   "cell_type": "code",
   "execution_count": 54,
   "id": "7a08c2c2",
   "metadata": {},
   "outputs": [],
   "source": [
    "(define (square-limit painter n)\n",
    "  (let ((quarter (corner-split painter n)))\n",
    "    (let ((half (beside (flip-horiz quarter) quarter)))\n",
    "      (below (flip-vert half) half))))"
   ]
  },
  {
   "cell_type": "code",
   "execution_count": 55,
   "id": "502adce7",
   "metadata": {},
   "outputs": [],
   "source": [
    "(define square-painter (square-limit basic-painter 3))"
   ]
  },
  {
   "cell_type": "code",
   "execution_count": 56,
   "id": "757ed339",
   "metadata": {},
   "outputs": [],
   "source": [
    "(define line-buffer ())\n",
    "(square-painter target-frame)\n",
    "(save_wave_data \"./sicp-2-44-output-square.txt\" line-buffer)"
   ]
  },
  {
   "cell_type": "markdown",
   "id": "6422b81a",
   "metadata": {},
   "source": [
    "绘制效果如下, 这个就更炫酷了：\n",
    "\n",
    "![](./image/2-44-8.png)"
   ]
  },
  {
   "cell_type": "markdown",
   "id": "72a9da72",
   "metadata": {},
   "source": [
    "### 2.45\n",
    "\n",
    "题目2.45要求我们对right-split和up-split进行抽象。\n",
    "\n",
    "仔细看right-split和up-split，发现代码几乎是一样的，难怪作者要我们去做抽象，\n",
    "\n",
    "我定义的方法如下："
   ]
  },
  {
   "cell_type": "code",
   "execution_count": 57,
   "id": "d08447e2",
   "metadata": {},
   "outputs": [],
   "source": [
    "(define (split first-method second-method)\n",
    "  (lambda (painter n)\n",
    "    \n",
    "    (define (split_inner painter n)\n",
    "        (if (= n 0)\n",
    "          painter\n",
    "          (let ((smaller (split_inner painter (- n 1))))\n",
    "            (first-method painter (second-method smaller smaller)))))\n",
    "    (split_inner painter n)))\n"
   ]
  },
  {
   "cell_type": "code",
   "execution_count": 58,
   "id": "49623aab",
   "metadata": {},
   "outputs": [],
   "source": [
    "(define new-right-split (split beside below))"
   ]
  },
  {
   "cell_type": "code",
   "execution_count": 59,
   "id": "105b0482",
   "metadata": {},
   "outputs": [],
   "source": [
    "(define new-right-split-painter (new-right-split basic-painter 3))"
   ]
  },
  {
   "cell_type": "code",
   "execution_count": 60,
   "id": "58171185",
   "metadata": {},
   "outputs": [],
   "source": [
    "(define line-buffer ())\n",
    "(new-right-split-painter target-frame)\n",
    "(save_wave_data \"./sicp-2-44-output-new-right-split.txt\" line-buffer)"
   ]
  },
  {
   "cell_type": "markdown",
   "id": "7d582bd5",
   "metadata": {},
   "source": [
    "效果就不发了，只是现实方式不同，展示效果是一样的。"
   ]
  },
  {
   "cell_type": "markdown",
   "id": "999fc1d9",
   "metadata": {},
   "source": [
    "下面是旋转180度和270度的代码，我还添加了逆时针旋转90度的函数，后面做习题2.51的第二部分时有用："
   ]
  },
  {
   "cell_type": "code",
   "execution_count": 61,
   "id": "e82f09b4",
   "metadata": {},
   "outputs": [],
   "source": [
    "(define (rotate-180 painter)\n",
    "  (transform-painter painter\n",
    "                     (make-vect 1.0 1.0)\n",
    "                     (make-vect 0.0 1.0)\n",
    "                     (make-vect 1.0 0.0)))"
   ]
  },
  {
   "cell_type": "code",
   "execution_count": 62,
   "id": "ef4b39d2",
   "metadata": {},
   "outputs": [],
   "source": [
    "(define rotate-180-painter (rotate-180 basic-painter))"
   ]
  },
  {
   "cell_type": "code",
   "execution_count": 63,
   "id": "20edf01f",
   "metadata": {},
   "outputs": [],
   "source": [
    "(define line-buffer ())\n",
    "(rotate-180-painter target-frame)\n",
    "(save_wave_data \"./sicp-2-44-output-rotate-180.txt\" line-buffer)"
   ]
  },
  {
   "cell_type": "markdown",
   "id": "678d35ac",
   "metadata": {},
   "source": [
    "具体效果也不发了"
   ]
  },
  {
   "cell_type": "code",
   "execution_count": 64,
   "id": "fe2a830c",
   "metadata": {},
   "outputs": [],
   "source": [
    "(define (rotate-270 painter)\n",
    "  (transform-painter painter\n",
    "                     (make-vect 0.0 1.0)\n",
    "                     (make-vect 0.0 0.0)\n",
    "                     (make-vect 1.0 1.0)))"
   ]
  },
  {
   "cell_type": "code",
   "execution_count": 65,
   "id": "338d0163",
   "metadata": {},
   "outputs": [],
   "source": [
    "(define (rotate-90 painter)\n",
    "  (transform-painter painter\n",
    "                     (make-vect 1.0 0.0)\n",
    "                     (make-vect 1.0 1.0)\n",
    "                     (make-vect 0.0 0.0)))"
   ]
  },
  {
   "cell_type": "code",
   "execution_count": 66,
   "id": "2a768219",
   "metadata": {},
   "outputs": [],
   "source": [
    "(define rotate-270-painter (rotate-270 basic-painter))"
   ]
  },
  {
   "cell_type": "code",
   "execution_count": 67,
   "id": "fe3ea8c7",
   "metadata": {},
   "outputs": [],
   "source": [
    "(define line-buffer ())\n",
    "(rotate-270-painter target-frame)\n",
    "(save_wave_data \"./sicp-2-44-output-rotate-270.txt\" line-buffer)"
   ]
  },
  {
   "cell_type": "markdown",
   "id": "b6ecfc8e",
   "metadata": {},
   "source": [
    "题目2.51还希望我们使用各种rotate方法，结合beside方法生成below:"
   ]
  },
  {
   "cell_type": "code",
   "execution_count": 68,
   "id": "475ed78d",
   "metadata": {},
   "outputs": [],
   "source": [
    "(define (new-below painter1 painter2)\n",
    "  (rotate-270 (beside (rotate-90 painter2) (rotate-90 painter1))))"
   ]
  },
  {
   "cell_type": "code",
   "execution_count": 69,
   "id": "62bac1ee",
   "metadata": {},
   "outputs": [],
   "source": [
    "(define new-below-painter (new-below basic-painter painter-2))"
   ]
  },
  {
   "cell_type": "code",
   "execution_count": 70,
   "id": "6f062980",
   "metadata": {},
   "outputs": [],
   "source": [
    "(define line-buffer ())\n",
    "(new-below-painter target-frame)\n",
    "(save_wave_data \"./sicp-2-44-output-new-below.txt\" line-buffer)"
   ]
  },
  {
   "cell_type": "markdown",
   "id": "12212be0",
   "metadata": {},
   "source": [
    "这里用beside生成below，其实就是生成了beside效果后图片一个在左，一个在右，把真个框架旋转270度，就是要求的below了，不过里面的小人还需要再旋转90度。"
   ]
  },
  {
   "cell_type": "markdown",
   "id": "400fe37a",
   "metadata": {},
   "source": [
    "# 结束\n",
    "\n",
    "到这里就完成习题2.44到2.51的题了\n",
    "\n",
    "还剩最后一道题，就是2.52.\n",
    "\n",
    "### 2.52\n",
    "\n",
    "习题2.52其实是想让我们多摆弄一下这个图形语言，比如给小人加个笑脸，改造corner-split的模式等。\n",
    "\n",
    "如果上面的习题都理解透彻了，剩下这道题就算去玩去了，建议大家不一定完全按照题目要求来，可以自己尝试多捣鼓一下。这里就不给相关的代码和解释了。\n",
    "\n",
    "主要的是，自己从头到尾撸一遍代码，可以理清代码的关系，同时也理解了这里的“图形语言”是什么意思，为什么称之为“语言”，是因为他屏蔽了具体绘画细节，直接用一种编程的方式实现复杂图形的生成。"
   ]
  },
  {
   "cell_type": "code",
   "execution_count": null,
   "id": "775495b4",
   "metadata": {},
   "outputs": [],
   "source": []
  }
 ],
 "metadata": {
  "kernelspec": {
   "display_name": "Calysto Scheme 3",
   "language": "scheme",
   "name": "calysto_scheme"
  },
  "language_info": {
   "codemirror_mode": {
    "name": "scheme"
   },
   "mimetype": "text/x-scheme",
   "name": "scheme",
   "pygments_lexer": "scheme"
  }
 },
 "nbformat": 4,
 "nbformat_minor": 5
}
