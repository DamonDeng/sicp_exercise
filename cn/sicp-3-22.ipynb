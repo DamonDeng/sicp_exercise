{
 "cells": [
  {
   "cell_type": "markdown",
   "id": "079f4e51",
   "metadata": {},
   "source": [
    "## SICP 习题 （3.22）解题总结: 队列的过程表示"
   ]
  },
  {
   "cell_type": "markdown",
   "id": "00d49cee",
   "metadata": {},
   "source": [
    "SICP 习题 3.22 要求我们实现一个过程来构建队列。\n",
    "\n",
    "题目中说到，我们可以像习题 3.21那样通过一个序对来保存队列，也可以用一个包含局部变量的过程来表示队列。我们可以通过一个(make-queue)函数返回一个过程，在这个过程里包含队列的数据，同时这个过程可以使用消息传递的风格实现动作的调用。\n",
    "\n",
    "这种实现方法在前面的很多习题里面都使用了，所以在这里就直接上代码了："
   ]
  },
  {
   "cell_type": "code",
   "execution_count": 7,
   "id": "51239efd",
   "metadata": {},
   "outputs": [],
   "source": [
    "(define (make-queue)\n",
    "  \n",
    "  (let ((front-ptr '())\n",
    "\t(rear-ptr '()))\n",
    "\n",
    "  \n",
    "    (define (set-front-ptr! item)\n",
    "      (set! front-ptr item))\n",
    "\n",
    "    (define (set-rear-ptr! item)\n",
    "      (set! rear-ptr item))\n",
    "\n",
    "    (define (empty-queue?)\n",
    "      (null? front-ptr))\n",
    "\n",
    "    (define (front-queue)\n",
    "      (if (empty-queue?)\n",
    "\t  (error \"FRONT called with an empty queue\" front-ptr)\n",
    "\t  (car front-ptr)))\n",
    "\n",
    "\n",
    "\n",
    "    (define (insert-queue! item)\n",
    "      (let ((new-pair (cons item '())))\n",
    "\t(cond ((empty-queue?)\n",
    "\t       (set-front-ptr! new-pair)\n",
    "\t       (set-rear-ptr! new-pair)\n",
    "\t       front-ptr)\n",
    "\t      (else\n",
    "\t       (set-cdr! rear-ptr new-pair)\n",
    "\t       (set-rear-ptr! new-pair)\n",
    "\t       front-ptr))))\n",
    "    \n",
    "\n",
    "\n",
    "    (define (delete-queue!)\n",
    "      (cond ((empty-queue?)\n",
    "\t     (error \"DELETE! called with an empty queue\" front-ptr))\n",
    "\t    (else\n",
    "\t     (set-front-ptr! (cdr front-ptr))\n",
    "\t     front-ptr)))\n",
    "\n",
    "\n",
    "\n",
    "    (define (dispatch m)\n",
    "      (cond ((eq? m 'delete-queue! ) delete-queue!)\n",
    "\t    ((eq? m 'insert-queue! ) insert-queue!)\n",
    "\t    ((eq? m 'front-queue ) front-queue)\n",
    "\t    ((eq? m 'empty-queue? ) empty-queue?)\n",
    "\t    (else (error \"Unknown action!\" m))))\n",
    "\t    \n",
    "      \n",
    "\n",
    "    dispatch))\n",
    "\n"
   ]
  },
  {
   "cell_type": "markdown",
   "id": "dd1ff331",
   "metadata": {},
   "source": [
    "然后打包一个测试函数："
   ]
  },
  {
   "cell_type": "code",
   "execution_count": 8,
   "id": "2e30218a",
   "metadata": {},
   "outputs": [],
   "source": [
    "(define (start-test-3-22)\n",
    "  (define testing-queue (make-queue))\n",
    "\n",
    "  (display \"it is empty now?\") (newline)\n",
    "  (display ((testing-queue 'empty-queue?)))\n",
    "  (newline)\n",
    "\n",
    "  (display ((testing-queue 'insert-queue!) 'a))\n",
    "  (newline)\n",
    "  (display ((testing-queue 'insert-queue!) 'b))\n",
    "  (newline)\n",
    "  (display ((testing-queue 'insert-queue!) 'a))\n",
    "  (newline)\n",
    "\n",
    "  (display ((testing-queue 'front-queue)))\n",
    "  (newline)\n",
    "  (display ((testing-queue 'delete-queue!)))\n",
    "  (newline)\n",
    "\n",
    "  (display ((testing-queue 'front-queue)))\n",
    "  (newline)\n",
    "  (display ((testing-queue 'delete-queue!)))\n",
    "  (newline)\n",
    "  (display ((testing-queue 'front-queue)))\n",
    "  (newline))\n"
   ]
  },
  {
   "cell_type": "code",
   "execution_count": 9,
   "id": "a5831f9b",
   "metadata": {},
   "outputs": [
    {
     "name": "stdout",
     "output_type": "stream",
     "text": [
      "it is empty now?\n",
      "True\n",
      "(a)\n",
      "(a b)\n",
      "(a b a)\n",
      "a\n",
      "(b a)\n",
      "b\n",
      "(a)\n",
      "a\n"
     ]
    }
   ],
   "source": [
    "(start-test-3-22)"
   ]
  },
  {
   "cell_type": "code",
   "execution_count": null,
   "id": "20c7e553",
   "metadata": {},
   "outputs": [],
   "source": []
  }
 ],
 "metadata": {
  "kernelspec": {
   "display_name": "Calysto Scheme 3",
   "language": "scheme",
   "name": "calysto_scheme"
  },
  "language_info": {
   "codemirror_mode": {
    "name": "scheme"
   },
   "mimetype": "text/x-scheme",
   "name": "scheme",
   "pygments_lexer": "scheme"
  }
 },
 "nbformat": 4,
 "nbformat_minor": 5
}
