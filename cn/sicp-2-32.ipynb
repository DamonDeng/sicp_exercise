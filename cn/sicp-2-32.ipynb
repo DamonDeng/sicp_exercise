{
 "cells": [
  {
   "cell_type": "markdown",
   "id": "0454da55",
   "metadata": {},
   "source": [
    "## SICP 习题 (2.32)解题总结 : 产生列表子集的subsets过程"
   ]
  },
  {
   "cell_type": "markdown",
   "id": "5ab0fa34",
   "metadata": {},
   "source": [
    "SICP  习题 2.32 理解起来有点麻烦，题目要求我们完成过程subsets，用于生产一个列表的子集。\n",
    "\n",
    "有关子集的概念应该比较简单，这里就不详细阐述了。\n",
    "\n",
    "题目给出了一个代码框架，要求我们完成map过程里的lambda定义，下面代码中<??>部分是需要我们补充的。"
   ]
  },
  {
   "cell_type": "markdown",
   "id": "ad751be5",
   "metadata": {},
   "source": [
    "    (define (subsets s)\n",
    "      (if (null? s)\n",
    "          '(())\n",
    "          (let ((rest (subsets (cdr s))))\n",
    "        (append rest \n",
    "            <??>     rest)))))"
   ]
  },
  {
   "cell_type": "markdown",
   "id": "5cfe126c",
   "metadata": {},
   "source": [
    "我们先从代码框架上理解一下出题者的思路，代码框架里关键的点是subsets的递归调用。\n",
    "\n",
    "当递归到列表末尾的时候返回一个只有空集一个元素的列表，这个要注意，不是空集，是只有空集一个元素的列表。\n",
    "\n",
    "接着我们来看倒数第一个元素，按题要求我们处理的样例(1 2 3)来看，这时rest应该是(())，而s应该是(3)，我们要构建出来的应该是包含3和()的子集，就是(() (3))。\n",
    "\n",
    "这时候还不是很明显可以理解这个代码框架，我们继续看倒数第二个元素，就是2，这个时候rest已经是(() (3))了，而s是（2 3），我们需要做的是将2和(() (3))里的每一个元素组合，然后再加上(() (3))中的两个元素，就是得出( () (3) (2) (2 3))这四个。\n",
    "\n",
    "我们知道2可以通过(car s)求得，而(cons (car s) i)可以将(car s)和列表i组合起来\n",
    "\n",
    "对应的，下面的代码就可以将(car s)和rest中的每一个元素组合起来，按上面的例子，下面的代码会生成((2) (2 3))\n",
    "\n",
    "    (map (lambda (i)\n",
    "                   (cons (car s) i))\n",
    "                 rest)\n",
    "\n",
    "接着，通过代码框架的append可以将原来的子集和新生成的子集合起来，按上面的例子就是将(() (3))   和  ((2) (2 3))组合成新的列表，就是结果(() (3) (2) (2 3))：\n",
    "\n",
    "    (append rest \n",
    "\t\t(map (lambda (i)\n",
    "\t\t       (cons (car s) i))\n",
    "\t\t     rest))\n",
    "\n",
    "所以最终的代码如下："
   ]
  },
  {
   "cell_type": "code",
   "execution_count": 1,
   "id": "bf439276",
   "metadata": {},
   "outputs": [],
   "source": [
    "\n",
    "(define (subsets s)\n",
    "  (if (null? s)\n",
    "      '(())\n",
    "      (let ((rest (subsets (cdr s))))\n",
    "\t(append rest \n",
    "\t\t(map (lambda (i)\n",
    "\t\t       (cons (car s) i))\n",
    "\t\t     rest)))))"
   ]
  },
  {
   "cell_type": "code",
   "execution_count": 4,
   "id": "b4c35b9a",
   "metadata": {},
   "outputs": [
    {
     "data": {
      "text/plain": [
       "(() (e) (d) (d e) (c) (c e) (c d) (c d e) (b) (b e) (b d) (b d e) (b c) (b c e) (b c d) (b c d e) (a) (a e) (a d) (a d e) (a c) (a c e) (a c d) (a c d e) (a b) (a b e) (a b d) (a b d e) (a b c) (a b c e) (a b c d) (a b c d e))"
      ]
     },
     "execution_count": 4,
     "metadata": {},
     "output_type": "execute_result"
    }
   ],
   "source": [
    "(subsets '(a b c d e))"
   ]
  },
  {
   "cell_type": "markdown",
   "id": "ceaa3285",
   "metadata": {},
   "source": [
    "另外，如果对以上说明理解不是很透彻，可以使用下面的debug版的subsets来试试。\n",
    "\n",
    "其实就是在处理过程中加入了很多display输出，让我们看明白每一步是如何处理的。print是一个非常有效的调试方法，不管你是在写java, 写c，还是写汇编。"
   ]
  },
  {
   "cell_type": "code",
   "execution_count": 2,
   "id": "8f98d5ec",
   "metadata": {},
   "outputs": [],
   "source": [
    "(define (subsets-debug s)\n",
    "  (newline)\n",
    "  (display \"handling:\")\n",
    "  (display s)\n",
    "  (if (null? s)\n",
    "      '(())\n",
    "      (let ((rest (subsets-debug (cdr s))))\n",
    "\t(let ((result (append rest (map (lambda (i)\n",
    "\t\t\t\t\t  (newline)\n",
    "\t\t\t\t\t  (display \"trying to cons:\")\n",
    "\t\t\t\t\t  (display (car s))\n",
    "\t\t\t\t\t  (display \" \")\n",
    "\t\t\t\t\t  (display i)\n",
    "\t\t\t\t\t  (cons (car s) i))\n",
    "\t\t\t\t\trest))))\n",
    "\t  (newline)(display \"now rest is:\") (display result) (newline)\n",
    "\t  result\n",
    "\t  ))))"
   ]
  },
  {
   "cell_type": "code",
   "execution_count": 5,
   "id": "27c6bacf",
   "metadata": {},
   "outputs": [
    {
     "name": "stdout",
     "output_type": "stream",
     "text": [
      "\n",
      "handling:(a b c d e)\n",
      "handling:(b c d e)\n",
      "handling:(c d e)\n",
      "handling:(d e)\n",
      "handling:(e)\n",
      "handling:()\n",
      "trying to cons:e ()\n",
      "now rest is:(() (e))\n",
      "\n",
      "trying to cons:d ()\n",
      "trying to cons:d (e)\n",
      "now rest is:(() (e) (d) (d e))\n",
      "\n",
      "trying to cons:c ()\n",
      "trying to cons:c (e)\n",
      "trying to cons:c (d)\n",
      "trying to cons:c (d e)\n",
      "now rest is:(() (e) (d) (d e) (c) (c e) (c d) (c d e))\n",
      "\n",
      "trying to cons:b ()\n",
      "trying to cons:b (e)\n",
      "trying to cons:b (d)\n",
      "trying to cons:b (d e)\n",
      "trying to cons:b (c)\n",
      "trying to cons:b (c e)\n",
      "trying to cons:b (c d)\n",
      "trying to cons:b (c d e)\n",
      "now rest is:(() (e) (d) (d e) (c) (c e) (c d) (c d e) (b) (b e) (b d) (b d e) (b c) (b c e) (b c d) (b c d e))\n",
      "\n",
      "trying to cons:a ()\n",
      "trying to cons:a (e)\n",
      "trying to cons:a (d)\n",
      "trying to cons:a (d e)\n",
      "trying to cons:a (c)\n",
      "trying to cons:a (c e)\n",
      "trying to cons:a (c d)\n",
      "trying to cons:a (c d e)\n",
      "trying to cons:a (b)\n",
      "trying to cons:a (b e)\n",
      "trying to cons:a (b d)\n",
      "trying to cons:a (b d e)\n",
      "trying to cons:a (b c)\n",
      "trying to cons:a (b c e)\n",
      "trying to cons:a (b c d)\n",
      "trying to cons:a (b c d e)\n",
      "now rest is:(() (e) (d) (d e) (c) (c e) (c d) (c d e) (b) (b e) (b d) (b d e) (b c) (b c e) (b c d) (b c d e) (a) (a e) (a d) (a d e) (a c) (a c e) (a c d) (a c d e) (a b) (a b e) (a b d) (a b d e) (a b c) (a b c e) (a b c d) (a b c d e))\n"
     ]
    },
    {
     "data": {
      "text/plain": [
       "(() (e) (d) (d e) (c) (c e) (c d) (c d e) (b) (b e) (b d) (b d e) (b c) (b c e) (b c d) (b c d e) (a) (a e) (a d) (a d e) (a c) (a c e) (a c d) (a c d e) (a b) (a b e) (a b d) (a b d e) (a b c) (a b c e) (a b c d) (a b c d e))"
      ]
     },
     "execution_count": 5,
     "metadata": {},
     "output_type": "execute_result"
    }
   ],
   "source": [
    "(subsets-debug '(a b c d e))"
   ]
  },
  {
   "cell_type": "code",
   "execution_count": null,
   "id": "dd815573",
   "metadata": {},
   "outputs": [],
   "source": []
  }
 ],
 "metadata": {
  "kernelspec": {
   "display_name": "Calysto Scheme 3",
   "language": "scheme",
   "name": "calysto_scheme"
  },
  "language_info": {
   "codemirror_mode": {
    "name": "scheme"
   },
   "mimetype": "text/x-scheme",
   "name": "scheme",
   "pygments_lexer": "scheme"
  }
 },
 "nbformat": 4,
 "nbformat_minor": 5
}
