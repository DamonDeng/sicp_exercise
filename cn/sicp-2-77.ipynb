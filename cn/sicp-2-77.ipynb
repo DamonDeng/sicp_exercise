{
 "cells": [
  {
   "cell_type": "markdown",
   "id": "0454da55",
   "metadata": {},
   "source": [
    "## SICP 习题 （2.77）解题总结： 通用型算术运算"
   ]
  },
  {
   "cell_type": "markdown",
   "id": "1b444e1d",
   "metadata": {},
   "source": [
    "SICP 习题 2.77 涉及的内容是通用型算术运算。\n",
    "\n",
    "虽然题目本身只是问我们为什么Louis在对复数求(magnitude)时会报错，让我们去debug分析一下。\n",
    "\n",
    "但是，如果你想重现问题，你需要把这个小节涉及的代码都实现了。\n",
    "\n",
    "有了前面几道大题的经验以后，我们面对这种题目已经没有压力了，先撸一段代码，把书里涉及到的代码都抄进来，尝试运行它就好了。\n",
    "\n",
    "不过抄写代码之前还是要理解这个小节的内容。这个小节的内容是关于通用运算，这里还是用了算术运算为例，不管是整数，实数还是复数，它们都有加减乘除，完全可以把这部分抽象出来构建一套通用的应用处理所有数的加减乘除。"
   ]
  },
  {
   "cell_type": "markdown",
   "id": "5a944149",
   "metadata": {},
   "source": [
    "首先拷贝的是前面习题里面的三角函数代码，这个是因为Calysto Scheme没有帮我们实现三角函数，所以我们把python里的三角函数打包一下："
   ]
  },
  {
   "cell_type": "code",
   "execution_count": 9,
   "id": "5b9a2a2f",
   "metadata": {},
   "outputs": [],
   "source": [
    "(import 'math)\n",
    "\n",
    "(python-exec \"\n",
    "def cos(input_number):\n",
    "    return math.cos(input_number)\n",
    "             \")\n",
    "\n",
    "(python-exec \"\n",
    "def sin(input_number):\n",
    "    return math.sin(input_number)\n",
    "             \")\n",
    "\n",
    "(python-exec \"\n",
    "def atan(input_number):\n",
    "    return math.atan(input_number)\n",
    "             \")"
   ]
  },
  {
   "cell_type": "markdown",
   "id": "d2f5901f",
   "metadata": {},
   "source": [
    "接着是大段的书里的代码："
   ]
  },
  {
   "cell_type": "code",
   "execution_count": 10,
   "id": "2e580efb",
   "metadata": {},
   "outputs": [],
   "source": [
    "(define (square x) (* x x))\n",
    "\n",
    "(define (assoc key records)\n",
    ";;   (display \"---------------\")(newline)\n",
    ";;   (display key)(newline)\n",
    ";;   (display records)(newline)\n",
    ";;   (cond (((not (null? records)) (begin (display (car records))(newline)))))\n",
    "  \n",
    "  \n",
    "  (cond ((null? records) #f)\n",
    "\t((equal? key (caar records)) (car records))\n",
    "\t(else (assoc key (cdr records)))))\n",
    "\n",
    "(define (make-table)\n",
    "  (let ((local-table (list '*table*)))\n",
    "    (define (lookup key-1 key-2)\n",
    "      (let ((subtable (assoc key-1 (cdr local-table))))\n",
    "\t(if subtable\n",
    "\t    (let ((record (assoc key-2 (cdr subtable))))\n",
    "\t      (if record\n",
    "\t\t  (cdr record)\n",
    "\t\t  (begin\n",
    "\t\t    (display \"record not found: \") (display key-2) (newline)\n",
    "\t\t    #f\n",
    "\t\t    )))\n",
    "\t    (begin \n",
    "\t      (display \"subtable not found: \") (display key-1)(newline)\n",
    "\t      #f))))\n",
    "    (define (insert! key-1 key-2 value)\n",
    "      (let ((subtable (assoc key-1 (cdr local-table))))\n",
    "\t(if subtable\n",
    "\t    (let ((record (assoc key-2 (cdr subtable))))\n",
    "\t      (if record\n",
    "\t\t  (set-cdr! record value)\n",
    "\t\t  (set-cdr! subtable\n",
    "\t\t\t    (cons (cons key-2 value)\n",
    "\t\t\t\t  (cdr subtable)))))\n",
    "\t    (set-cdr! local-table\n",
    "\t\t      (cons (list key-1\n",
    "\t\t\t\t  (cons key-2 value))\n",
    "\t\t\t    (cdr local-table)))))\n",
    "      'ok)\n",
    "    (define (dispatch m)\n",
    "      (cond ((eq? m 'lookup-proc) lookup)\n",
    "\t    ((eq? m 'insert-proc!) insert!)\n",
    "\t    (else (error \"Unknown operation -- TABLE\" m))))\n",
    "    dispatch))\n",
    "\n",
    "\n",
    "(define operation-table (make-table))\n",
    "\n",
    "(define get (operation-table 'lookup-proc))\n",
    "\n",
    "(define put (operation-table 'insert-proc!))\n",
    "\n",
    "\n",
    "(define (attach-tag type-tag contents)\n",
    "  (cons type-tag contents))\n",
    "\n",
    "(define (type-tag datum)\n",
    "  (if (pair? datum)\n",
    "      (car datum)\n",
    "      (error \"Bad tagged datum -- TYPE-TAG\" datum)))\n",
    "\n",
    "(define (contents datum)\n",
    "  (if (pair? datum)\n",
    "      (cdr datum)\n",
    "      (error \"Bad tagged datum -- CONTENTS\" datum)))\n",
    "\n"
   ]
  },
  {
   "cell_type": "code",
   "execution_count": 11,
   "id": "ae161004",
   "metadata": {},
   "outputs": [
    {
     "data": {
      "text/plain": [
       "#<procedure>"
      ]
     },
     "execution_count": 11,
     "metadata": {},
     "output_type": "execute_result"
    }
   ],
   "source": [
    "operation-table"
   ]
  },
  {
   "cell_type": "code",
   "execution_count": 12,
   "id": "d86db275",
   "metadata": {},
   "outputs": [
    {
     "name": "stdout",
     "output_type": "stream",
     "text": [
      "subtable not found: make\n"
     ]
    },
    {
     "data": {
      "text/plain": [
       "#f"
      ]
     },
     "execution_count": 12,
     "metadata": {},
     "output_type": "execute_result"
    }
   ],
   "source": [
    "(get 'make 'scheme-number)"
   ]
  },
  {
   "cell_type": "code",
   "execution_count": 13,
   "id": "b9c9f236",
   "metadata": {},
   "outputs": [],
   "source": [
    ";; (install-scheme-number-package)"
   ]
  },
  {
   "cell_type": "code",
   "execution_count": 14,
   "id": "d5aa1c0f",
   "metadata": {},
   "outputs": [],
   "source": [
    "(define (add x y) (apply-generic 'add x y))\n",
    "\n",
    "(define (sub x y) (apply-generic 'sub x y))\n",
    "\n",
    "(define (mul x y) (apply-generic 'mul x y))\n",
    "\n",
    "(define (div x y) (apply-generic 'div x y))\n",
    "\n",
    "(define (install-scheme-number-package)\n",
    "  (define (tag x)\n",
    "    (attach-tag 'scheme-number x))\n",
    "  (put 'add '(scheme-number scheme-number)\n",
    "       (lambda (x y) (tag (+ x y))))\n",
    "  (put 'sub '(scheme-number scheme-number)\n",
    "       (lambda (x y) (tag (- x y))))\n",
    "  (put 'mul '(scheme-number scheme-number)\n",
    "       (lambda (x y) (tag (* x y))))\n",
    "  (put 'div '(scheme-number scheme-number)\n",
    "       (lambda (x y) (tag (/ x y))))\n",
    "  (put 'make 'scheme-number\n",
    "       (lambda (x) (tag x)))\n",
    "  'done)\n",
    "\n",
    "(define (make-scheme-number n)\n",
    "  ((get 'make 'scheme-number) n))"
   ]
  },
  {
   "cell_type": "code",
   "execution_count": 15,
   "id": "11e34875",
   "metadata": {},
   "outputs": [],
   "source": [
    "\n",
    "\n",
    "\n",
    "\n",
    "(define (install-rational-package)\n",
    "  (define (numer x) (car x))\n",
    "  (define (denom x) (cdr x))\n",
    "  (define (make-rat n d)\n",
    "    (let ((g (gcd n d)))\n",
    "      (cons (/ n g) (/ d g))))\n",
    "  (define (add-rat x y)\n",
    "    (make-rat (+ (* (numer x) (denom y))\n",
    "\t\t (* (numer y) (denom x)))\n",
    "\t      (* (denom x) (denom y))))\n",
    "  (define (sub-rat x y)\n",
    "    (make-rat (- (* (numer x) (denom y))\n",
    "\t\t (* (numer y) (denom x)))\n",
    "\t      (* (denom x) (denom y))))\n",
    "  (define (mul-rat x y)\n",
    "    (make-rat (* (numer x) (numer y))\n",
    "\t      (* (denom x) (denom y))))\n",
    "  (define (div-rat x y)\n",
    "    (make-rat (* (numer x) (denom y))\n",
    "\t      (* (denom x) (numer y))))\n",
    "\n",
    "  (define (tag x) (attach-tag 'rational x))\n",
    "  (put 'add '(rational rational)\n",
    "       (lambda (x y) (tag (add-rat x y))))\n",
    "  (put 'sub '(rational rational)\n",
    "       (lambda (x y) (tag (sub-rat x y))))\n",
    "  (put 'mul '(rational rational)\n",
    "       (lambda (x y) (tag (mul-rat x y))))\n",
    "  (put 'div '(rational rational)\n",
    "       (lambda (x y) (tag (div-rat x y))))\n",
    "\n",
    "  (put 'make 'rational\n",
    "       (lambda (n d) (tag (make-rat n d))))\n",
    "  'done)\n",
    "\n",
    "(define (make-rational n d)\n",
    "  ((get 'make 'rational) n d))\n",
    "\n",
    "\n",
    "(define (apply-generic op . args)\n",
    "  (let ((type-tags (map type-tag args)))\n",
    "    (let ((proc (get op type-tags)))\n",
    "      (if proc\n",
    "\t  (apply proc (map contents args))\n",
    "\t  (error \n",
    "\t   \"No method for these types -- APPLY-GENERIC\"\n",
    "\t   (list op type-tags))))))\n",
    "\n",
    "(define (real-part z) (apply-generic 'real-part z))\n",
    "(define (imag-part z) (apply-generic 'imag-part z))\n",
    "(define (magnitude z) (apply-generic 'magnitude z))\n",
    "(define (angle z) (apply-generic 'angle z))\n",
    "\n",
    "\n",
    "(define (install-rectangular-package)\n",
    "  (define (real-part z) (car z))\n",
    "  (define (imag-part z) (cdr z))\n",
    "  (define (make-from-real-imag x y) (cons x y))\n",
    "  (define (magnitude z)\n",
    "    (sqrt (+ (square (real-part z))\n",
    "\t     (square (imag-part z)))))\n",
    "  (define (angle z)\n",
    "    (atan (/ (imag-part z) (real-part z))))\n",
    "  (define (make-from-mag-ang r a)\n",
    "    (cons (* r (cos a)) (* r (sin a))))\n",
    "\n",
    "  (define (tag x) (attach-tag 'rectangular x))\n",
    "  (put 'real-part '(rectangular) real-part)\n",
    "  (put 'imag-part '(rectangular) imag-part)\n",
    "  (put 'magnitude '(rectangular) magnitude)\n",
    "  (put 'angle '(rectangular) angle)\n",
    "  (put 'make-from-real-imag 'rectangular\n",
    "       (lambda (x y) (tag (make-from-real-imag x y))))\n",
    "  (put 'make-from-mag-ang 'rectangular\n",
    "       (lambda (r a) (tag (make-from-mag-ang r a))))\n",
    "  'done)\n",
    "\n",
    "(define (install-polar-package)\n",
    "  (define (magnitude z) (car z))\n",
    "  (define (angle z) (cdr z))\n",
    "  (define (make-from-mag-ang r a) (cons r a))\n",
    "  (define (real-part z)\n",
    "    (* (magnitude z) (cos (angle z))))\n",
    "  (define (imag-part z)\n",
    "    (* (magnitude z) (sing (angle z))))\n",
    "  (define (make-from-real-imag x y)\n",
    "    (cons (sqrt (+ (square x) (square y)))\n",
    "\t  (atan (/ y x))))\n",
    "  (define (tag x) (attach-tag 'polar x))\n",
    "  (put 'real-part '(polar) real-part)\n",
    "  (put 'imag-part '(polar) imag-part)\n",
    "  (put 'magnitude '(polar) magnitude)\n",
    "  (put 'angle '(polar) angle)\n",
    "  (put 'make-from-real-imag 'polar\n",
    "       (lambda (x y) (tag (make-from-real-imag x y))))\n",
    "  (put 'make-from-mag-ang 'polar\n",
    "       (lambda (r a) (tag (make-from-mag-ang r a))))\n",
    "  'done)\n",
    "\n",
    "(define (install-complex-package)\n",
    "  (define (make-from-real-imag x y)\n",
    "    ((get 'make-from-real-imag 'rectangular) x y))\n",
    "  (define (make-from-mag-ang r a)\n",
    "    ((get 'make-from-mag-ang 'polar) r a))\n",
    "\n",
    "  (define (add-complex z1 z2)\n",
    "    (make-from-real-imag (+ (real-part z1) (real-part z2))\n",
    "\t\t\t (+ (imag-part z1) (imag-part z2))))\n",
    "\n",
    "  (define (sub-complex z1 z2)\n",
    "    (make-from-real-imag (- (real-part z1) (real-part z2))\n",
    "\t\t\t (- (imag-part z1) (imag-part z2))))\n",
    "\n",
    "  (define (mul-complex z1 z2)\n",
    "    (make-from-mag-ang (* (magnitude z1) (magnitude z2))\n",
    "\t\t       (+ (angle z1) (angle z2))))\n",
    "\n",
    "  (define (div-complex z1 z2)\n",
    "    (make-from-mag-ang (/ (magnitude z1) (magnitude z2))\n",
    "\t\t       (- (angle z1 ) (angle z2))))\n",
    "\n",
    "  (define (tag z) (attach-tag 'complex z))\n",
    "\n",
    "\n",
    "\n",
    "  (put 'add '(complex complex)\n",
    "       (lambda (z1 z2) (tag (add-complex z1 z2))))\n",
    "  (put 'sub '(complex complex)\n",
    "       (lambda (z1 z2) (tag (sub-complex z1 z2))))\n",
    "  (put 'mul '(complex complex)\n",
    "       (lambda (z1 z2) (tag (mul-complex z1 z2))))\n",
    "  (put 'div '(complex complex)\n",
    "       (lambda (z1 z2) (tag (div-complex z1 z2))))\n",
    "  (put 'make-from-real-imag 'complex\n",
    "       (lambda (x y) (tag (make-from-real-imag x y))))\n",
    "  (put 'make-from-mag-ang 'complex\n",
    "       (lambda (r a) (tag (make-from-mag-ang r a))))\n",
    "  'done)\n",
    "\n",
    "(define (make-complex-from-real-imag x y)\n",
    "  ((get 'make-from-real-imag 'complex) x y))\n",
    "(define (make-complex-from-mag-ang r a)\n",
    "  ((get 'make-from-mag-ang 'complex) r a))\n",
    "\n",
    "(define (display-complex complex)\n",
    " (display \"--------------------\") (newline)\n",
    "  (display \"real part:\") (display (real-part complex)) (newline)\n",
    "  (display \"imag part:\") (display (imag-part complex)) (newline)\n",
    "  (display \"magnitude:\") (display (magnitude complex)) (newline)\n",
    "  (display \"angle    :\") (display (angle complex))(newline)\n",
    "  (display \"--------------------\") (newline)\n",
    ")\n",
    "\n",
    "(define (start-test-2-77)\n",
    "  (install-scheme-number-package)\n",
    "  (install-rational-package)\n",
    "  (install-rectangular-package)\n",
    "  (install-polar-package)\n",
    "  (install-complex-package)\n",
    "  (display-complex (make-complex-from-real-imag 3 4))\n",
    ";;   (display-complex z)\n",
    "  )\n",
    "\n"
   ]
  },
  {
   "cell_type": "markdown",
   "id": "2ff542a1",
   "metadata": {},
   "source": [
    "接着我们跑一下测试代码看看，会发现程序报错：\"record not found (complex)\"，看这个错误就知道是数据表里没有发现(complex)这东西。"
   ]
  },
  {
   "cell_type": "code",
   "execution_count": 16,
   "id": "e1eb5f95",
   "metadata": {},
   "outputs": [
    {
     "name": "stdout",
     "output_type": "stream",
     "text": [
      "--------------------\n",
      "real part:record not found: (complex)\n"
     ]
    },
    {
     "name": "stderr",
     "output_type": "stream",
     "text": [
      "\u001b[0;31m\n",
      "Traceback (most recent call last):\n",
      "  File \"In [16]\", line 1, col 1, in 'start-test-2-77'\n",
      "  File \"In [15]\", line 164, col 3, in 'display-complex'\n",
      "  File \"In [15]\", line 151, col 35, in 'real-part'\n",
      "  File \"In [15]\", line 53, col 23, in 'apply-generic'\n",
      "  File \"In [15]\", line 45, col 3, in 'let'\n",
      "  File \"In [15]\", line 46, col 5, in 'let'\n",
      "  File \"In [15]\", line 49, col 4, in 'error'\n",
      "UnhandledException: string argument expected, got 'Symbol'\n",
      "\n",
      "\u001b[0m"
     ]
    }
   ],
   "source": [
    "(start-test-2-77)"
   ]
  },
  {
   "cell_type": "markdown",
   "id": "06b4d73a",
   "metadata": {},
   "source": [
    "这个时候按书上的提示加入以下代码："
   ]
  },
  {
   "cell_type": "code",
   "execution_count": 17,
   "id": "f8585d3d",
   "metadata": {},
   "outputs": [
    {
     "data": {
      "text/plain": [
       "ok"
      ]
     },
     "execution_count": 17,
     "metadata": {},
     "output_type": "execute_result"
    }
   ],
   "source": [
    "  ; the following lines are added for this execise:\n",
    "  (put 'real-part '(complex) real-part)\n",
    "  (put 'imag-part '(complex) imag-part)\n",
    "  (put 'magnitude '(complex) magnitude)\n",
    "  (put 'angle '(complex) angle)\n",
    "  ;end of the execise"
   ]
  },
  {
   "cell_type": "markdown",
   "id": "212fb02a",
   "metadata": {},
   "source": [
    "再跑一遍测试代码，这次就没有问题了。"
   ]
  },
  {
   "cell_type": "code",
   "execution_count": 18,
   "id": "465e5bb0",
   "metadata": {},
   "outputs": [
    {
     "name": "stdout",
     "output_type": "stream",
     "text": [
      "--------------------\n",
      "real part:3\n",
      "imag part:4\n",
      "magnitude:5.0\n",
      "angle    :0.9272952180016122\n",
      "--------------------\n"
     ]
    }
   ],
   "source": [
    "(start-test-2-77)"
   ]
  },
  {
   "cell_type": "markdown",
   "id": "ff994fc4",
   "metadata": {},
   "source": [
    "题目问我们为什么，如果你仔细拆开上面的代码进行测试分析，不难发现是因为(complex)的各种操作没有安装，导致执行这些操作，如real-part, magnitude等时在数据表里找不到对应处理数据。"
   ]
  },
  {
   "cell_type": "markdown",
   "id": "d24d8274",
   "metadata": {},
   "source": [
    "彩蛋：试试scheme-number的操作，然后直接试试对纯数字进行操作："
   ]
  },
  {
   "cell_type": "code",
   "execution_count": 23,
   "id": "bceef8b2",
   "metadata": {},
   "outputs": [
    {
     "data": {
      "text/plain": [
       "(scheme-number . 5)"
      ]
     },
     "execution_count": 23,
     "metadata": {},
     "output_type": "execute_result"
    }
   ],
   "source": [
    "(add (make-scheme-number 2) (make-scheme-number 3))"
   ]
  },
  {
   "cell_type": "markdown",
   "id": "0485f4b9",
   "metadata": {},
   "source": [
    "下面这个会报错，因为我们目前还不支持直接处理纯数字"
   ]
  },
  {
   "cell_type": "code",
   "execution_count": 19,
   "id": "6f18bed8",
   "metadata": {},
   "outputs": [
    {
     "name": "stderr",
     "output_type": "stream",
     "text": [
      "\u001b[0;31m\n",
      "Traceback (most recent call last):\n",
      "  File \"In [19]\", line 1, col 1, in 'add'\n",
      "  File \"In [14]\", line 1, col 19, in 'apply-generic'\n",
      "  File \"In [15]\", line 45, col 20, in 'map'\n",
      "  File \"In [10]\", line 63, col 7, in 'error'\n",
      "UnhandledException: object of type 'int' has no len()\n",
      "\n",
      "\u001b[0m"
     ]
    }
   ],
   "source": [
    "(add 2 3)"
   ]
  },
  {
   "cell_type": "code",
   "execution_count": null,
   "id": "1534b95e",
   "metadata": {},
   "outputs": [],
   "source": []
  },
  {
   "cell_type": "code",
   "execution_count": null,
   "id": "9ff434bb",
   "metadata": {},
   "outputs": [],
   "source": []
  }
 ],
 "metadata": {
  "kernelspec": {
   "display_name": "Calysto Scheme 3",
   "language": "scheme",
   "name": "calysto_scheme"
  },
  "language_info": {
   "codemirror_mode": {
    "name": "scheme"
   },
   "mimetype": "text/x-scheme",
   "name": "scheme",
   "pygments_lexer": "scheme"
  }
 },
 "nbformat": 4,
 "nbformat_minor": 5
}
