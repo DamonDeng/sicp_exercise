{
 "cells": [
  {
   "cell_type": "markdown",
   "id": "fa50b765",
   "metadata": {},
   "source": [
    "## SICP 习题 (1.22) 解题总结"
   ]
  },
  {
   "cell_type": "markdown",
   "id": "173a605b",
   "metadata": {},
   "source": [
    "SICP 习题 1.22 要求改进题中列举出来检查素数的过程，用来求1000， 10000， 100 000，还有1000 000附近的素数，然后比较求这些素数的时间，看是否符合θ(√n)的复杂度。\n",
    "\n",
    "要完成这道题首先要将题目中列出的过程照抄到你的Scheme环境中。因为书中的代码使用了`（runtime）`过程，我就先在我的环境中测试了`(runtime)`的结果，很悲剧地发现`(runtime)`的返回值好几秒才变一个数字，根本没办法用来纪录计算过程所需要的时间。于是去查Mit-Scheme的参考文档，找到过程`(real-time-clock)` ，发现`(real-time-clock)`还靠谱一点，返回的是一个很长的整数，每次手工执行`(real-time-clock)`都返回一个不同的数值。"
   ]
  },
  {
   "cell_type": "markdown",
   "id": "e23a836b",
   "metadata": {},
   "source": [
    "于是使用(real-time-clock)代替(runtime)做了实现\n",
    "\n",
    "然而，\n",
    "\n",
    "当我把代码放进jupyter notebook, 用Calysto Scheme去测试的时候，发现Calysto Scheme没有实现`(runtime)`和`(real-time-clock)`\n",
    "\n",
    "于是各种想办法，后来发现Calysto Scheme可以内嵌python代码，于是用python的time模块进行了实现："
   ]
  },
  {
   "cell_type": "code",
   "execution_count": 27,
   "id": "70941dac",
   "metadata": {},
   "outputs": [],
   "source": [
    "(import \"time\")\n",
    "(define (real-time-clock) (python-eval \"time.time()\"))"
   ]
  },
  {
   "cell_type": "markdown",
   "id": "cd899ffa",
   "metadata": {},
   "source": [
    "测试一下新定义的(real-time-clock)"
   ]
  },
  {
   "cell_type": "code",
   "execution_count": 28,
   "id": "58dfea63",
   "metadata": {},
   "outputs": [
    {
     "data": {
      "text/plain": [
       "1636107828.385174"
      ]
     },
     "execution_count": 28,
     "metadata": {},
     "output_type": "execute_result"
    }
   ],
   "source": [
    "(real-time-clock)"
   ]
  },
  {
   "cell_type": "markdown",
   "id": "20bf791b",
   "metadata": {},
   "source": [
    "函数主体实现如下："
   ]
  },
  {
   "cell_type": "code",
   "execution_count": 23,
   "id": "6e067e3b",
   "metadata": {},
   "outputs": [],
   "source": [
    "(define (timed-prime-test n)\n",
    "  (start-prime-test n (real-time-clock)))\n",
    "\n",
    "(define (start-prime-test n start-time)\n",
    "  (if (prime? n)\n",
    "      (begin \n",
    "\t(report-prime n (- (real-time-clock) start-time))\n",
    "\t#t)\n",
    "      #f))\n",
    "\n",
    "(define (report-prime number elapsed-time)\n",
    "  (display number)\n",
    "  (display \" *** \")\n",
    "  (display elapsed-time)\n",
    "  (newline))"
   ]
  },
  {
   "cell_type": "markdown",
   "id": "406ebc3b",
   "metadata": {},
   "source": [
    "还有一些基本的支持函数"
   ]
  },
  {
   "cell_type": "code",
   "execution_count": 29,
   "id": "66d88391",
   "metadata": {},
   "outputs": [],
   "source": [
    "(define (smallest-divisor n)\n",
    "  (find-divisor n 2))\n",
    "\n",
    "(define (find-divisor n test-divisor)\n",
    "  (cond ((> (square test-divisor) n) n)\n",
    "\t((divides? test-divisor n) test-divisor)\n",
    "\t(else (find-divisor n (+ test-divisor 1)))))\n",
    "\n",
    "(define (divides? a b)\n",
    "  (= (remainder b a) 0))\n",
    "\n",
    "(define (square x)\n",
    "  (* x x))\n",
    "\n",
    "(define (prime? n)\n",
    "  (= n (smallest-divisor n)))"
   ]
  },
  {
   "cell_type": "markdown",
   "id": "a880832a",
   "metadata": {},
   "source": [
    "这样就可以跑跑试试看了："
   ]
  },
  {
   "cell_type": "code",
   "execution_count": 30,
   "id": "b7e1b337",
   "metadata": {},
   "outputs": [
    {
     "name": "stdout",
     "output_type": "stream",
     "text": [
      "79 *** 0.010171890258789062\n"
     ]
    },
    {
     "data": {
      "text/plain": [
       "#t"
      ]
     },
     "execution_count": 30,
     "metadata": {},
     "output_type": "execute_result"
    }
   ],
   "source": [
    "(timed-prime-test 79)"
   ]
  },
  {
   "cell_type": "code",
   "execution_count": 31,
   "id": "40d92424",
   "metadata": {},
   "outputs": [
    {
     "name": "stdout",
     "output_type": "stream",
     "text": [
      "17 *** 0.004405021667480469\n"
     ]
    },
    {
     "data": {
      "text/plain": [
       "#t"
      ]
     },
     "execution_count": 31,
     "metadata": {},
     "output_type": "execute_result"
    }
   ],
   "source": [
    "(timed-prime-test 17)"
   ]
  },
  {
   "cell_type": "markdown",
   "id": "04d77510",
   "metadata": {},
   "source": [
    "除了使用（real-time-clock)代替(runtime)以外，这里的过程代码和书中的也不太一样，主要是一些输出的过程有调整，这样在后面的使用中不会那么啰嗦。另外添加了返回值，表示检查的目标数是否为素数。\n",
    "\n",
    "有了以上过程就可以去检查任意一个数是否为素数，如果是的话会打印检查所花费的时间，同时返回＃t。\n",
    "\n",
    "接着按题目要求，定义过程去查找比1000大的三个素数，还有比10000, 100 000,1000 000大的三个素数，看花费多长时间。"
   ]
  },
  {
   "cell_type": "markdown",
   "id": "0ef37d5e",
   "metadata": {},
   "source": [
    "我定义的过程如下："
   ]
  },
  {
   "cell_type": "code",
   "execution_count": 32,
   "id": "c1bfc3f5",
   "metadata": {},
   "outputs": [],
   "source": [
    "(define (find-prime start end number)\n",
    "  (if (even? start) \n",
    "      (find-prime (+ start 1) end number)\n",
    "      (find-prime-iter start end 0 number)))\n",
    "\n",
    "(define (find-prime-iter start end cur-number max-number)\n",
    "  (if (and (< start end) (< cur-number max-number))\n",
    "      (if (timed-prime-test start)\n",
    "\t  (find-prime-iter (+ start 2) end (+ 1 cur-number) max-number)\n",
    "\t  (find-prime-iter (+ start 2) end cur-number max-number))\n",
    "      cur-number))"
   ]
  },
  {
   "cell_type": "markdown",
   "id": "0c9d517f",
   "metadata": {},
   "source": [
    "过程(find-prime)接受三个参数：查找的起点，终点，还有需要查找的素数个数，如果找到的素数超过指定的数量，或者知道终点都没有找足指定数量的素数，过程都会返回，返回值是找到的素数个数。\n",
    "\n",
    "后来测试了一下，发现找比1000大的三个素数没有多大意义，因为计算机太快，总认为在0单位时间内就找到三个素数。\n",
    "\n",
    "后来就增加了测试数的大小。 增加到10 000 000的时候开始出现有意义的结果，执行结果如下："
   ]
  },
  {
   "cell_type": "code",
   "execution_count": 33,
   "id": "c5fe16a3",
   "metadata": {},
   "outputs": [
    {
     "name": "stdout",
     "output_type": "stream",
     "text": [
      "10000019 *** 1.8013441562652588\n",
      "10000079 *** 1.83365797996521\n",
      "10000103 *** 1.850243091583252\n"
     ]
    },
    {
     "data": {
      "text/plain": [
       "3"
      ]
     },
     "execution_count": 33,
     "metadata": {},
     "output_type": "execute_result"
    }
   ],
   "source": [
    "(find-prime 10000000 10002000 3)"
   ]
  },
  {
   "cell_type": "code",
   "execution_count": 34,
   "id": "d1b112be",
   "metadata": {},
   "outputs": [
    {
     "name": "stdout",
     "output_type": "stream",
     "text": [
      "100000007 *** 5.82714581489563\n",
      "100000037 *** 5.782638788223267\n",
      "100000039 *** 5.749161958694458\n"
     ]
    },
    {
     "data": {
      "text/plain": [
       "3"
      ]
     },
     "execution_count": 34,
     "metadata": {},
     "output_type": "execute_result"
    }
   ],
   "source": [
    "(find-prime 100000000 100002000 3)"
   ]
  },
  {
   "cell_type": "code",
   "execution_count": 35,
   "id": "f44faa25",
   "metadata": {},
   "outputs": [
    {
     "name": "stdout",
     "output_type": "stream",
     "text": [
      "1000000007 *** 19.26989984512329\n",
      "1000000009 *** 18.600305318832397\n",
      "1000000021 *** 18.50896430015564\n"
     ]
    },
    {
     "data": {
      "text/plain": [
       "3"
      ]
     },
     "execution_count": 35,
     "metadata": {},
     "output_type": "execute_result"
    }
   ],
   "source": [
    "(find-prime 1000000000 1000002000 3)"
   ]
  },
  {
   "cell_type": "markdown",
   "id": "0d535f49",
   "metadata": {},
   "source": [
    "可以发现查找100000000附近的素数花费的时间大概是查找10000000附近的素数时间的3倍。\n",
    "\n",
    "总结来讲，就是目标数大10倍，检验它是否为素数的时间就大3倍。\n",
    "\n",
    "这一点和书中要求我们检查的“根号10”的结果接近，因为“根号10”的计算结果大概就是3左右。"
   ]
  }
 ],
 "metadata": {
  "kernelspec": {
   "display_name": "Calysto Scheme 3",
   "language": "scheme",
   "name": "calysto_scheme"
  },
  "language_info": {
   "codemirror_mode": {
    "name": "scheme"
   },
   "mimetype": "text/x-scheme",
   "name": "scheme",
   "pygments_lexer": "scheme"
  }
 },
 "nbformat": 4,
 "nbformat_minor": 5
}
