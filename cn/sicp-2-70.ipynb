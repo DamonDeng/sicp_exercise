{
 "cells": [
  {
   "cell_type": "markdown",
   "id": "0454da55",
   "metadata": {},
   "source": [
    "## SICP 习题 （2.70）解题总结：huffman树的应用"
   ]
  },
  {
   "cell_type": "markdown",
   "id": "ef5dbe85",
   "metadata": {},
   "source": [
    "SICP 习题2.70有点像复习题，要求我们用huffman编码树对一首歌进行编码。\n",
    "\n",
    "题目没有什么特别的代码量，主要的代码都用来输入歌词去了。"
   ]
  },
  {
   "cell_type": "markdown",
   "id": "acb7ebdc",
   "metadata": {},
   "source": [
    "先是把前几道题目的代码都拷贝进来，形成完整的编码树应用："
   ]
  },
  {
   "cell_type": "code",
   "execution_count": 1,
   "id": "3cfad37c",
   "metadata": {},
   "outputs": [],
   "source": [
    "(define (make-leaf symbol weight)\n",
    "  (list 'leaf symbol weight))\n",
    "\n",
    "(define (leaf? object)\n",
    "  (eq? (car object) 'leaf))\n",
    "\n",
    "(define (symbol-leaf x) (cadr x))\n",
    "\n",
    "(define (weight-leaf x) (caddr x))\n",
    "\n",
    "(define (make-code-tree left right)\n",
    "  (list left\n",
    "\tright\n",
    "\t(append (symbols left) (symbols right))\n",
    "\t(+ (weight left) (weight right))))\n",
    "\n",
    "(define (left-branch tree) (car tree))\n",
    "\n",
    "(define (right-branch tree) (cadr tree))\n",
    "\n",
    "(define (symbols tree)\n",
    "  (if (leaf? tree)\n",
    "      (list (symbol-leaf tree))\n",
    "      (caddr tree)))\n",
    "\n",
    "(define (weight tree)\n",
    "  (if (leaf? tree)\n",
    "      (weight-leaf tree)\n",
    "      (cadddr tree)))\n",
    "\n",
    "(define (decode bits tree)\n",
    "  (define (decode-1 bits current-branch)\n",
    "    (if (null? bits)\n",
    "\t'()\n",
    "\t(let ((next-branch\n",
    "\t       (choose-branch (car bits) current-branch)))\n",
    "\t  (if (leaf? next-branch)\n",
    "\t      (cons (symbol-leaf next-branch)\n",
    "\t\t    (decode-1 (cdr bits) tree))\n",
    "\t      (decode-1 (cdr bits) next-branch)))))\n",
    "  (decode-1 bits tree))\n",
    "\n",
    "(define (choose-branch bit branch)\n",
    "  (cond ((= bit 0) (left-branch branch))\n",
    "\t((= bit 1) (right-branch branch))\n",
    "\t(else (error \"bad bit -- CHOOSE-BRANCH\" bit))))\n",
    "\n",
    "(define (adjoin-set x set)\n",
    "  (cond ((null? set) (list x))\n",
    "\t((< (weight x) (weight (car set))) (cons x set))\n",
    "\t(else (cons (car set)\n",
    "\t\t    (adjoin-set x (cdr set))))))\n",
    "\n",
    "(define (make-leaf-set pairs)\n",
    "  (if (null? pairs)\n",
    "      '()\n",
    "      (let ((pair (car pairs)))\n",
    "\t(adjoin-set (make-leaf (car pair)\n",
    "\t\t\t       (cadr pair))\n",
    "\t\t    (make-leaf-set (cdr pairs))))))\n",
    "\n",
    "\n",
    "(define (encode message tree)\n",
    "  (if (null? message)\n",
    "      '()\n",
    "      (append (encode-symbol (car message) tree)\n",
    "\t      (encode (cdr message) tree))))\n",
    "\n",
    "(define (encode-symbol symbol tree)\n",
    "  (cond ((leaf? tree)\n",
    "\t (if (equal? symbol (symbol-leaf tree))\n",
    "\t     '()\n",
    "\t     #f))\n",
    "\t(else \n",
    "\t (let ((left-branch-result (encode-symbol symbol (left-branch tree))))\n",
    "\t   (if left-branch-result\n",
    "\t       (cons '0 left-branch-result)\n",
    "\t       (let ((right-branch-result (encode-symbol symbol (right-branch tree))))\n",
    "\t\t (if right-branch-result\n",
    "\t\t     (cons '1 right-branch-result)\n",
    "\t\t     #f)))))))\n",
    "  \n",
    "\n",
    "\n",
    "(define (generate-huffman-tree pairs)\n",
    "  (successive-merge (make-leaf-set pairs)))\n",
    "\n",
    "(define (successive-merge leafs)\n",
    "  (cond ((null? leafs) '())\n",
    "        ((= 1 (length leafs)) (car leafs))\n",
    "        (else (successive-merge \n",
    "                   (adjoin-set \n",
    "                    (make-code-tree (car leafs) (cadr leafs))\n",
    "                    (cddr leafs))))))\n",
    "\t\n"
   ]
  },
  {
   "cell_type": "code",
   "execution_count": 27,
   "id": "287073c6",
   "metadata": {},
   "outputs": [],
   "source": [
    "\n",
    "\n",
    "(define (start-test-2-70)\n",
    "  (define song-words '((a 2) (na 16) (boom 1) (Sha 3) (Get 2) (yip 9) (job 2) (Wah 1)))\n",
    "  (define song-tree (generate-huffman-tree song-words))\n",
    "\n",
    "  (define testing-song '(Get a job Sha na na na na na na na na Get a job Sha na na na na na na na na  Wah yip yip yip yip yip yip yip yip Sha boom))\n",
    "\n",
    "  (define encoded-song (encode testing-song song-tree))\n",
    "\n",
    "  (display \"encode result is:\") (display encoded-song) (newline)\n",
    "  (display \"length of encode result is:\") (display (length encoded-song)) (newline)\n",
    "\n",
    "  (display \"We use 8 words in the song, in general way, we can use 3 bits data for each word\") (newline)\n",
    "  (display \"there are 35 words in the song, we need 35*3 bits to store the song\") (newline)\n",
    "  (display \"the result of 35*3 is:\") (display (* 35 3)) (newline))\n",
    "\n"
   ]
  },
  {
   "cell_type": "code",
   "execution_count": 28,
   "id": "73b9e980",
   "metadata": {},
   "outputs": [
    {
     "name": "stdout",
     "output_type": "stream",
     "text": [
      "encode result is:(1 1 1 1 1 1 1 0 0 1 1 1 1 0 1 1 1 0 0 0 0 0 0 0 0 0 1 1 1 1 1 1 1 0 0 1 1 1 1 0 1 1 1 0 0 0 0 0 0 0 0 0 1 1 0 1 0 1 0 1 0 1 0 1 0 1 0 1 0 1 0 1 0 1 1 1 0 1 1 0 1 1)\n",
      "length of encode result is:82\n",
      "We use 8 words in the song, in general way, we can use 3 bits data for each word\n",
      "there are 35 words in the song, we need 35*3 bits to store the song\n",
      "the result of 35*3 is:105\n"
     ]
    }
   ],
   "source": [
    "(start-test-2-70)"
   ]
  },
  {
   "cell_type": "markdown",
   "id": "8ca43b1e",
   "metadata": {},
   "source": [
    "题目还问我们这个编码有多长，上面直接用length计算出来是82个bit。\n",
    "\n",
    "最后题目还问我们如果用定长编码需要多长，题目中用的歌词用了8个不同的歌词，可以用3个bit表达一个歌词，估计是故意选了8个歌词，如果是9个就要额外再加个bit了。因为是定长，所以整首歌有多少个歌词就需要多少个3bit."
   ]
  },
  {
   "cell_type": "code",
   "execution_count": null,
   "id": "1314885b",
   "metadata": {},
   "outputs": [],
   "source": []
  }
 ],
 "metadata": {
  "kernelspec": {
   "display_name": "Calysto Scheme 3",
   "language": "scheme",
   "name": "calysto_scheme"
  },
  "language_info": {
   "codemirror_mode": {
    "name": "scheme"
   },
   "mimetype": "text/x-scheme",
   "name": "scheme",
   "pygments_lexer": "scheme"
  }
 },
 "nbformat": 4,
 "nbformat_minor": 5
}
