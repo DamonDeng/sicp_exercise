{
 "cells": [
  {
   "cell_type": "markdown",
   "id": "6cc4b8d2",
   "metadata": {},
   "source": [
    "### 闲话\n",
    "近来在重读SICP，以前读过一次，读了第一二章就没有坚持下去，时间一长就基本忘记了，脑海里什么都不剩，就隐约记得自己曾经读过一本很牛B的书。\n",
    "\n",
    "这次读希望能够扎实一点，不管能读到哪里，希望可以理解一些东西，以后可以在日常工作中用到，所以开始一道一道地做题，强迫自己深入学习。\n",
    "\n",
    "后来发现效果不错，于是产生了写解题总结的想法，可以和大家分享，同时加深自己的印象。因为是工作之余才有时间写总结，所以也不能确定更新时间，能写多少是多少吧。\n",
    "\n",
    "前面几道题比较简答，所以就将1.1，1.2，1.3，1.4这四道题合在一起写了。"
   ]
  },
  {
   "cell_type": "markdown",
   "id": "feb946cb",
   "metadata": {},
   "source": [
    "\n",
    "\n",
    "### 1.1的题目是写出一系列表达式的输出结果。\n",
    "\n",
    "题中列出的表达式里主要是＋，－，＊，／四则运算，cond和if的使用，还有define的使用。具体表达式就不列出来了，解这道题建议分两步，第一步是拿纸笔做，目的是深入了解Scheme的基本语法，第二步是搭建mit-scheme环境逐步去验证自己第一步做的答案，目的是搭建mit-scheme环境，熟悉mit-scheme环境的使用。如果发现对不上的话就同时检查两边的结果，看是自己用纸笔算错了还是代码写错了，记住，不一定计算机算出来就是对的，我自己就有纸笔算对了，然后通过计算机运行时因为输入错误导致代码出错的。\n"
   ]
  },
  {
   "cell_type": "markdown",
   "id": "749ab63f",
   "metadata": {},
   "source": [
    "### 1.2 是将一个表达式转换成前缀表达式。\n",
    "\n",
    "这道题认真一点慢慢做的话没什么难度，属于RPG游戏里刚开始那种引导性的角色，按步就班一招一式下来就完成任务了。主要目的是熟悉前缀表达式。\n",
    "\n",
    "同样，建议手算一遍，在mit-scheme环境里跑一遍，然后对对结果。"
   ]
  },
  {
   "cell_type": "markdown",
   "id": "3ea0255b",
   "metadata": {},
   "source": [
    "### 1.3 的原题是这样的：请定义一个过程，它以三个数为参数，返回其中较大的两个数的和。\n",
    "\n",
    "我刚开始做这道题的时候，怀着对SICP的无比崇敬，总觉得会有一个特别聪明的方法，左思右想不敢开始写代码。\n",
    "\n",
    "后来终于屈服于“自己不是天才”的想法，老老实实写了下面的代码："
   ]
  },
  {
   "cell_type": "code",
   "execution_count": 6,
   "id": "eb464285",
   "metadata": {},
   "outputs": [],
   "source": [
    "(define (sum-larger-two x y z)\n",
    "\t  (cond ((and (< x y) (< x z)) (+ y z))\n",
    "\t\t(else (cond ((< y z) (+ x z))\n",
    "\t\t\t    (else (+ x y))))))"
   ]
  },
  {
   "cell_type": "code",
   "execution_count": 4,
   "id": "7bc24873",
   "metadata": {},
   "outputs": [
    {
     "data": {
      "text/plain": [
       "50"
      ]
     },
     "execution_count": 4,
     "metadata": {},
     "output_type": "execute_result"
    }
   ],
   "source": [
    ";测试一下\n",
    "\n",
    "(sum-larger-two 10 20 30)"
   ]
  },
  {
   "cell_type": "markdown",
   "id": "63b3cb87",
   "metadata": {},
   "source": [
    "简单测试通过，后来就去网上找答案，发现原来大家的解法都差不多，都是几个判断组合起来。有趣的是网上的答案五花八门，各种条件的组合都有，有兴趣的同学们可以去找找看。\n",
    "\n",
    "回过头来看这道题的话，主要就是看你对cond或者是if的使用了，能够正确地写完cond或者是if的完整结构就能解这道题了。"
   ]
  },
  {
   "cell_type": "markdown",
   "id": "c9d2f230",
   "metadata": {},
   "source": [
    "### 1.4 的题目如下：\n",
    "\n",
    "请仔细考察上面给出的允许运算符为复合表达式的组合式的求值模型，根据对这一模型的认识描述下面过程的行为："
   ]
  },
  {
   "cell_type": "code",
   "execution_count": 7,
   "id": "d5a9f810",
   "metadata": {},
   "outputs": [],
   "source": [
    "(define (a-plus-abs-b a b)\n",
    "\t  ((if (> b 0) + -) a b))"
   ]
  },
  {
   "cell_type": "markdown",
   "id": "582e7330",
   "metadata": {},
   "source": [
    "题目本身有点绕，什么“允许运算符为复合表达式的组合式的求值模型”，看一轮下来不知道题目说的啥。其实就是说＋ 和－这样的运算符可以当作返回值，返回以后就真的当运行符使用。\n",
    "\n",
    "就像上面的代码，如果b>0就返回+，否则就返回-，同时，返回的+或者-就直接作为a和b的运算符，理解了这一点上面的代码就很清晰了。\n",
    "\n",
    "做到这里已经感觉到SICP的强大气场了，大家手上用的编程语言没几个可以将运算符当返回值用的吧，而且返回后真的就当运算符用！\n",
    "\n",
    "下面具体测试一下"
   ]
  },
  {
   "cell_type": "code",
   "execution_count": 8,
   "id": "32835f7f",
   "metadata": {},
   "outputs": [
    {
     "data": {
      "text/plain": [
       "15"
      ]
     },
     "execution_count": 8,
     "metadata": {},
     "output_type": "execute_result"
    }
   ],
   "source": [
    "(a-plus-abs-b 10 -5)"
   ]
  },
  {
   "cell_type": "code",
   "execution_count": 9,
   "id": "2d3902d4",
   "metadata": {},
   "outputs": [
    {
     "data": {
      "text/plain": [
       "15"
      ]
     },
     "execution_count": 9,
     "metadata": {},
     "output_type": "execute_result"
    }
   ],
   "source": [
    "(a-plus-abs-b 10 5)"
   ]
  },
  {
   "cell_type": "markdown",
   "id": "b8183233",
   "metadata": {},
   "source": [
    "同样的，在Scheme里，或者说在Lisp里，运算符是可以当参数传到过程里的。\n",
    "\n",
    "就这个后来还有人演绎成一个故事叫《四个程序员的一天》，引起无数程序员的惊叹，同时也引起无数程序员的不满。\n",
    "\n",
    "如果你曾经为《四个程序员的一天》感叹过，那么，请注意，该故事中强大的Lisp程序员使用的那招不过是SICP中第一章起步的一个小练习而已。\n",
    "\n",
    "就像是《大雨商家堡》中阎基打败大镖头马行空的那几招不过是《胡家刀法》中前面两页的入门招数而已。"
   ]
  },
  {
   "cell_type": "code",
   "execution_count": null,
   "id": "3a0759f0",
   "metadata": {},
   "outputs": [],
   "source": []
  }
 ],
 "metadata": {
  "kernelspec": {
   "display_name": "Calysto Scheme 3",
   "language": "scheme",
   "name": "calysto_scheme"
  },
  "language_info": {
   "codemirror_mode": {
    "name": "scheme"
   },
   "mimetype": "text/x-scheme",
   "name": "scheme",
   "pygments_lexer": "scheme"
  }
 },
 "nbformat": 4,
 "nbformat_minor": 5
}
