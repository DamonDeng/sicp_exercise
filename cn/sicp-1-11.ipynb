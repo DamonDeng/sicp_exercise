{
 "cells": [
  {
   "cell_type": "markdown",
   "id": "0dc9d5a8",
   "metadata": {},
   "source": [
    "## SICP 习题 (1.11) 解题总结：加强版斐波那契数"
   ]
  },
  {
   "cell_type": "markdown",
   "id": "f4344619",
   "metadata": {},
   "source": [
    "SICP 习题 1.11相对简单一点，主要是里面没有太多数学问题，数学还是有一点，让这些数学天才们不使用数学样例他们可能宁愿不写书了。\n",
    "\n",
    "题目要求我们定义一个过程实现函数f，f的规则是：\n",
    "\n",
    "如果n< 3那么f（n) =n\n",
    "\n",
    "如果n>=3那么f(n)= f(n-1) + 2f (n-2) + 3f(n-3)\n",
    "\n",
    "要求用递归实现一遍，然后用迭代实现一遍\n",
    "\n",
    "这个题目差不多是书中1.2.2节提到的“斐波那契数”的翻版，就是斐波那契数是前两个数相加，而这个是前三个数相加，同时加了一些“乘2”，“乘3”的操作。\n",
    "\n",
    "书中讲到斐波那契数主要是为了讲解树形递归，所谓树形递归可以简单地理解为一个过程两次以上递归调用自己，作为程序员的我们应该不难理解这个概念。\n",
    "\n",
    "因为斐波那契数经常被当作递归教材的例子，所以很多人应该都熟悉这个数学概念，这里就不详细讲了，不明白的人仔细看一下书中的内容也应该可以理解。\n",
    "\n",
    "归于题目的递归解，做起来还是比较简单的，递归解的好处就是比较直观，我做的答案如下："
   ]
  },
  {
   "cell_type": "code",
   "execution_count": 2,
   "id": "cc50bd55",
   "metadata": {},
   "outputs": [],
   "source": [
    "(define (myf n)\n",
    "  (display (format \"Caculating n, n is ~s ~%\" n))\n",
    "  (if (< n 3) n \n",
    "      (+ (myf (- n 1)) (* 2 (myf (- n 2))) (* 3 (myf (- n 3))))))"
   ]
  },
  {
   "cell_type": "markdown",
   "id": "40778ba4",
   "metadata": {},
   "source": [
    "简单测试一下"
   ]
  },
  {
   "cell_type": "code",
   "execution_count": 5,
   "id": "eddb2654",
   "metadata": {},
   "outputs": [
    {
     "name": "stdout",
     "output_type": "stream",
     "text": [
      "Caculating n, n is 5 \n",
      "Caculating n, n is 4 \n",
      "Caculating n, n is 3 \n",
      "Caculating n, n is 2 \n",
      "Caculating n, n is 1 \n",
      "Caculating n, n is 0 \n",
      "Caculating n, n is 2 \n",
      "Caculating n, n is 1 \n",
      "Caculating n, n is 3 \n",
      "Caculating n, n is 2 \n",
      "Caculating n, n is 1 \n",
      "Caculating n, n is 0 \n",
      "Caculating n, n is 2 \n"
     ]
    },
    {
     "data": {
      "text/plain": [
       "25"
      ]
     },
     "execution_count": 5,
     "metadata": {},
     "output_type": "execute_result"
    }
   ],
   "source": [
    "(myf 5)"
   ]
  },
  {
   "cell_type": "markdown",
   "id": "8e73f057",
   "metadata": {},
   "source": [
    "做迭代解的话稍微麻烦一点点，就是要想明白从哪里开始计算，如何替换中间数，如何结束。\n",
    "\n",
    "对于这里的函数f(n)，需要将前三个数的计算结果加起来，我们就从0 1 2 三个数开始，将（0*3）（1*2） 2三个数加起来作为第四个数，然后将1 2 和\"（0*3）+（1*2）+ 2\"作为需要处理的三个数重新代入函数f中，这样就通过迭代实现了本来用递归实现的函数，函数代码如下："
   ]
  },
  {
   "cell_type": "markdown",
   "id": "c64b6c20",
   "metadata": {},
   "source": [
    "然后多说一句，书里提到的迭代解，对应到另一个大家可能听得比较多的概念 “动态规划”， 基本的“动态规划”就是在寻求迭代解。"
   ]
  },
  {
   "cell_type": "code",
   "execution_count": 8,
   "id": "8860a6b3",
   "metadata": {},
   "outputs": [],
   "source": [
    "(define (myf-iter a b c n)\n",
    "  (display (format \"Caculating n, n is ~s, a is ~s, b is ~s, c is ~s ~%\" n a b c))\n",
    "  (if (= n 0)\n",
    "      a\n",
    "  (myf-iter b c ( + (* 3 a) (* 2 b) c) (- n 1))))\n",
    "\n",
    "(define (newf n)\n",
    "  (myf-iter 0 1 2 n))"
   ]
  },
  {
   "cell_type": "markdown",
   "id": "fab2ccaa",
   "metadata": {},
   "source": [
    "再简单测试一下"
   ]
  },
  {
   "cell_type": "code",
   "execution_count": 9,
   "id": "9ac7d1a5",
   "metadata": {},
   "outputs": [
    {
     "name": "stdout",
     "output_type": "stream",
     "text": [
      "Caculating n, n is 10, a is 0, b is 1, c is 2 \n",
      "Caculating n, n is 9, a is 1, b is 2, c is 4 \n",
      "Caculating n, n is 8, a is 2, b is 4, c is 11 \n",
      "Caculating n, n is 7, a is 4, b is 11, c is 25 \n",
      "Caculating n, n is 6, a is 11, b is 25, c is 59 \n",
      "Caculating n, n is 5, a is 25, b is 59, c is 142 \n",
      "Caculating n, n is 4, a is 59, b is 142, c is 335 \n",
      "Caculating n, n is 3, a is 142, b is 335, c is 796 \n",
      "Caculating n, n is 2, a is 335, b is 796, c is 1892 \n",
      "Caculating n, n is 1, a is 796, b is 1892, c is 4489 \n",
      "Caculating n, n is 0, a is 1892, b is 4489, c is 10661 \n"
     ]
    },
    {
     "data": {
      "text/plain": [
       "1892"
      ]
     },
     "execution_count": 9,
     "metadata": {},
     "output_type": "execute_result"
    }
   ],
   "source": [
    "(newf 10)"
   ]
  },
  {
   "cell_type": "markdown",
   "id": "6b80ea56",
   "metadata": {},
   "source": [
    "因为习题1.11比较简单，就不罗嗦了。\n"
   ]
  },
  {
   "cell_type": "code",
   "execution_count": null,
   "id": "d8e7c8d6",
   "metadata": {},
   "outputs": [],
   "source": []
  }
 ],
 "metadata": {
  "kernelspec": {
   "display_name": "Calysto Scheme 3",
   "language": "scheme",
   "name": "calysto_scheme"
  },
  "language_info": {
   "codemirror_mode": {
    "name": "scheme"
   },
   "mimetype": "text/x-scheme",
   "name": "scheme",
   "pygments_lexer": "scheme"
  }
 },
 "nbformat": 4,
 "nbformat_minor": 5
}
