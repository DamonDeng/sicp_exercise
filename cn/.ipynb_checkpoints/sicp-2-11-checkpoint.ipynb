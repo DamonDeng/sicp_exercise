{
 "cells": [
  {
   "cell_type": "markdown",
   "id": "0454da55",
   "metadata": {},
   "source": [
    "SICP 习题 （2.11）解题总结:区间乘法的优化"
   ]
  },
  {
   "cell_type": "markdown",
   "id": "87d4413e",
   "metadata": {},
   "source": [
    "SICP 习题 2.11又出现Ben这个人了，如以前说到的，只要是Ben说的一般都是对的。\n",
    "\n",
    "来看看Ben说什么，他说：“通过监测区间的端点，有可能将mul-interval分解为9中情况，每种情况中所需要的乘法都不超过两次”。\n",
    "\n",
    "所以这个叫Ben的人建议Allysa重写mul-interval过程。\n",
    "\n",
    "到底是啥意思呢，我们先来看看以前的mul-interval过程："
   ]
  },
  {
   "cell_type": "code",
   "execution_count": 1,
   "id": "61c230d8",
   "metadata": {},
   "outputs": [],
   "source": [
    "(define (mul-interval x y)\n",
    "  (let (( p1 (* (lower-bound x) (lower-bound y)))\n",
    "\t( p2 (* (lower-bound x) (upper-bound y)))\n",
    "\t( p3 (* (upper-bound x) (lower-bound y)))\n",
    "\t( p4 (* (upper-bound x) (upper-bound y))))\n",
    "    (make-interval (min p1 p2 p3 p4)\n",
    "\t\t   (max p1 p2 p3 p4))))"
   ]
  },
  {
   "cell_type": "markdown",
   "id": "005f3617",
   "metadata": {},
   "source": [
    "可以发现，这里使用了4次乘法，然后取4此乘法的最小值为起点，最大值为终点。\n",
    "\n",
    "按Ben的意思，我们可以将这4次乘法减少为两次，前提是对区间的端点进行判断。\n",
    "\n",
    "其实我们自己想一想大概能够明白Ben这段神秘的话。 比如，如果相乘的两个区间都是完全大于零的区间，两个区间的起点相乘肯定是4次乘法中最小的值，而两个终点相乘肯定是4次乘法中的最大的，这样我们只需要计算两个起点相乘，还有就是两个终点相乘就可以了。这样我们就可以使用2次乘法完成工作，而不用4次。\n",
    "\n",
    "不过，对我们程序员来讲工作就复杂很多了，我们需要取判断这9中情况，分别想好9种情况种选用什么作为结构的起点和终点，最后写出来的代码如下，巨烦琐："
   ]
  },
  {
   "cell_type": "code",
   "execution_count": 2,
   "id": "5862c805",
   "metadata": {},
   "outputs": [],
   "source": [
    "(define (mul-interval x y)\n",
    "  (if (> (lower-bound x) 0)\n",
    "      (if (> (lower-bound y) 0)\n",
    "\t  (make-interval (* (lower-bound x) (lower-bound y)) (* (upper-bound x) (upper-bound y)))\n",
    "\t  (if (> (upper-bound y) 0)\n",
    "\t      (make-interval (* (upper-bound x) (lower-bound y)) (* (upper-bound x) (upper-bound y)))\n",
    "\t      (make-interval (* (lower-bound x) (upper-bound y)) (* (lower-bound x) (upper-bound y)))))\n",
    "      (if (> (upper-bound x) 0)\n",
    "\t  (if (> (lower-bound y) 0)\n",
    "\t      (make-interval (* (lower-bound x) (upper-bound y)) (* (upper-bound x) (upper-bound y)))\n",
    "\t      (if (> (upper-bound y) 0)\n",
    "\t\t  (make-interval (* (lower-bound x) (lower-bound y)) \n",
    "\t\t\t\t (* (upper-bound x) (upper-bound y)))\n",
    "\t\t  (make-interval (* (lower-bound x) (lower-bound y))\n",
    "\t\t\t\t (* (upper-bound x) (upper-bound y)))))\n",
    "\t  (if (> (lower-bound y) 0)\n",
    "\t      (make-interval (* (lower-bound x) (lower-bound y)) (* (upper-bound x) (upper-bound y)))\n",
    "\t      (if (> (upper-bound y) 0)\n",
    "\t\t  (make-interval (* (lower-bound x) (lower-bound y)) \n",
    "\t\t\t\t (* (upper-bound x) (upper-bound y)))\n",
    "\t\t  (make-interval (* (lower-bound x) (lower-bound y)) \n",
    "\t\t\t\t (* (upper-bound x) (upper-bound y))))) )))"
   ]
  },
  {
   "cell_type": "markdown",
   "id": "3c5fa647",
   "metadata": {},
   "source": [
    "有人可能会问，把原来那个如此优雅的过程写成现在这样有意思吗？一堆丑陋的判断！\n",
    "\n",
    "这里需要理解的就是，如果系统中乘法是一个消耗很大的操作，比如每个乘法消耗2秒，这样我们做这个优化就有意义的，虽然我们写的代码丑很多，麻烦很多，不过代码运行效率就比较高了。"
   ]
  },
  {
   "cell_type": "code",
   "execution_count": 5,
   "id": "9b60cd99",
   "metadata": {},
   "outputs": [],
   "source": [
    "(define (make-interval a b)\n",
    "  (cons a b))\n",
    "\n",
    "(define (lower-bound x)\n",
    "  (car x))\n",
    "\n",
    "(define (upper-bound x)\n",
    "  (cdr x))\n",
    "\n",
    "\n",
    "(define (add-interval x y)\n",
    "  (make-interval (+ (lower-bound x) (lower-bound y))\n",
    "\t\t (+ (upper-bound x) (upper-bound y))))\n",
    "\n",
    "(define (sub-interval x y)\n",
    "  (make-interval (- (lower-bound x) (lower-bound y))\n",
    "\t\t (- (upper-bound x) (upper-bound y))))\n",
    "\n",
    "\n",
    "\n",
    "\n",
    "(define (mul-interval x y)\n",
    "  (if (> (lower-bound x) 0)\n",
    "      (if (> (lower-bound y) 0)\n",
    "\t  (make-interval (* (lower-bound x) (lower-bound y)) (* (upper-bound x) (upper-bound y)))\n",
    "\t  (if (> (upper-bound y) 0)\n",
    "\t      (make-interval (* (upper-bound x) (lower-bound y)) (* (upper-bound x) (upper-bound y)))\n",
    "\t      (make-interval (* (lower-bound x) (upper-bound y)) (* (lower-bound x) (upper-bound y)))))\n",
    "      (if (> (upper-bound x) 0)\n",
    "\t  (if (> (lower-bound y) 0)\n",
    "\t      (make-interval (* (lower-bound x) (upper-bound y)) (* (upper-bound x) (upper-bound y)))\n",
    "\t      (if (> (upper-bound y) 0)\n",
    "\t\t  (make-interval (* (lower-bound x) (lower-bound y)) \n",
    "\t\t\t\t (* (upper-bound x) (upper-bound y)))\n",
    "\t\t  (make-interval (* (lower-bound x) (lower-bound y))\n",
    "\t\t\t\t (* (upper-bound x) (upper-bound y)))))\n",
    "\t  (if (> (lower-bound y) 0)\n",
    "\t      (make-interval (* (lower-bound x) (lower-bound y)) (* (upper-bound x) (upper-bound y)))\n",
    "\t      (if (> (upper-bound y) 0)\n",
    "\t\t  (make-interval (* (lower-bound x) (lower-bound y)) \n",
    "\t\t\t\t (* (upper-bound x) (upper-bound y)))\n",
    "\t\t  (make-interval (* (lower-bound x) (lower-bound y)) \n",
    "\t\t\t\t (* (upper-bound x) (upper-bound y))))) )))\n",
    "\n",
    "\n",
    "(define (div-interval x y)\n",
    "  (if (< (* (upper-bound y) (lower-bound y)) 0)\n",
    "      (error \"Div 0:\" y))\n",
    "  (mul-interval x\n",
    "\t\t(make-interval (/ 1.0 (upper-bound y))\n",
    "\t\t\t       (/ 1.0 (lower-bound y)))))\n",
    "\n",
    "\n",
    "(define (interval-width interval)\n",
    "  (/ (-  (upper-bound interval) (lower-bound interval)) 2))\n",
    "\n",
    "\n",
    "\n",
    "\n",
    "(define (start-test-2-11)\n",
    "  (mul-interval (make-interval 1 2) (make-interval -1 3)))\n"
   ]
  },
  {
   "cell_type": "code",
   "execution_count": 6,
   "id": "b44c42b9",
   "metadata": {},
   "outputs": [
    {
     "data": {
      "text/plain": [
       "(-2 . 6)"
      ]
     },
     "execution_count": 6,
     "metadata": {},
     "output_type": "execute_result"
    }
   ],
   "source": [
    "(start-test-2-11)"
   ]
  },
  {
   "cell_type": "code",
   "execution_count": null,
   "id": "718339d4",
   "metadata": {},
   "outputs": [],
   "source": []
  }
 ],
 "metadata": {
  "kernelspec": {
   "display_name": "Calysto Scheme 3",
   "language": "scheme",
   "name": "calysto_scheme"
  },
  "language_info": {
   "codemirror_mode": {
    "name": "scheme"
   },
   "mimetype": "text/x-scheme",
   "name": "scheme",
   "pygments_lexer": "scheme"
  }
 },
 "nbformat": 4,
 "nbformat_minor": 5
}
