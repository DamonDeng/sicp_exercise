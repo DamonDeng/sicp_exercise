{
 "cells": [
  {
   "cell_type": "markdown",
   "id": "0454da55",
   "metadata": {},
   "source": [
    "## SICP 习题 （2.8） 解题总结：区间的减法"
   ]
  },
  {
   "cell_type": "markdown",
   "id": "63c967ca",
   "metadata": {},
   "source": [
    "\n",
    "SICP 习题 2.8 需要我们完成区间运算的减法，区间运算的加法书中已经有了，代码如下："
   ]
  },
  {
   "cell_type": "code",
   "execution_count": 1,
   "id": "6f6122ae",
   "metadata": {},
   "outputs": [],
   "source": [
    "(define (add-interval x y)\n",
    "  (make-interval (+ (lower-bound x) (lower-bound y))\n",
    "\t\t (+ (upper-bound x) (upper-bound y))))"
   ]
  },
  {
   "cell_type": "markdown",
   "id": "201fca26",
   "metadata": {},
   "source": [
    "以上代码很简单，就是计算区间的加法时将两个区间的起点相加，称为新区间的起点，然后将两个区间的终点相加，成为新区间的终点。\n",
    "\n",
    "减法时加法的逆运算，我们看着加法的代码照猫画虎一番就可以了，代码如下："
   ]
  },
  {
   "cell_type": "code",
   "execution_count": 2,
   "id": "223ddb23",
   "metadata": {},
   "outputs": [],
   "source": [
    "(define (sub-interval x y)\n",
    "  (make-interval (- (lower-bound x) (lower-bound y))\n",
    "\t\t (- (upper-bound x) (upper-bound y))))"
   ]
  },
  {
   "cell_type": "markdown",
   "id": "7647fb92",
   "metadata": {},
   "source": [
    "这是一道完全不符合SICP难度级别的题目。。。。。。"
   ]
  },
  {
   "cell_type": "code",
   "execution_count": null,
   "id": "94b387b0",
   "metadata": {},
   "outputs": [],
   "source": []
  }
 ],
 "metadata": {
  "kernelspec": {
   "display_name": "Calysto Scheme 3",
   "language": "scheme",
   "name": "calysto_scheme"
  },
  "language_info": {
   "codemirror_mode": {
    "name": "scheme"
   },
   "mimetype": "text/x-scheme",
   "name": "scheme",
   "pygments_lexer": "scheme"
  }
 },
 "nbformat": 4,
 "nbformat_minor": 5
}
