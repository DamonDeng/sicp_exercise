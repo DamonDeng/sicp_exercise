{
 "cells": [
  {
   "cell_type": "markdown",
   "id": "079f4e51",
   "metadata": {},
   "source": [
    "## SICP 习题 （3.27）解题总结: 通过记忆法提高程序的性能。\n",
    "\n",
    "SICP 习题 3.27 提出了用记忆法提高程序的性能。\n",
    "\n",
    "虽然这里提到记忆法也被称为表格法，但是这个方法其实和表格关系不大，关键在于记忆这件事情上，至于用树还是表格进行记忆是没有太大关系的。\n",
    "\n",
    "记忆法的基本思路就是把计算过程中的值保留在内存里，当我们需要计算的时候先查一下内存里有没有计算好的值，有的话就直接使用，没有才真正计算一次，但凡计算出来的结果都会被保留在内存里供以后使用。\n",
    "\n",
    "以斐波那契数为例，(f 3) = (f 2) + (f 1), (f 4) = (f 3) + (f 2), 其中的很多计算都是重复的，所以用记忆法可以大范围提高速度。"
   ]
  },
  {
   "cell_type": "markdown",
   "id": "a5891dca",
   "metadata": {},
   "source": [
    "为了实现计算结果的保存，我们把3.24里的表格代码拿过来："
   ]
  },
  {
   "cell_type": "code",
   "execution_count": 68,
   "id": "e47df60a",
   "metadata": {},
   "outputs": [],
   "source": [
    "(define (assoc key records same-key?)\n",
    "  (cond ((null? records) #f)\n",
    "\t((same-key? key (caar records)) (car records))\n",
    "\t(else (assoc key (cdr records) same-key?))))\n",
    "\n",
    "(define (make-table same-key?)\n",
    "  (let ((local-table (list '*table*)))\n",
    "    (define (lookup key-1 key-2)\n",
    "      (let ((subtable (assoc key-1 (cdr local-table) same-key?)))\n",
    "\t(if subtable\n",
    "\t    (let ((record (assoc key-2 (cdr subtable) same-key?)))\n",
    "\t      (if record\n",
    "\t\t  (cdr record)\n",
    "\t\t  (begin\n",
    "\t\t    (display \"record not found: \") (display key-2) (newline)\n",
    "\t\t    #f\n",
    "\t\t    )))\n",
    "\t    (begin \n",
    "\t      (display \"subtable not found: \") (display key-1)(newline)\n",
    "\t      #f))))\n",
    "    (define (insert! key-1 key-2 value)\n",
    "      (let ((subtable (assoc key-1 (cdr local-table) same-key?)))\n",
    "\t(if subtable\n",
    "\t    (let ((record (assoc key-2 (cdr subtable) same-key?)))\n",
    "\t      (if record\n",
    "\t\t  (set-cdr! record value)\n",
    "\t\t  (set-cdr! subtable\n",
    "\t\t\t    (cons (cons key-2 value)\n",
    "\t\t\t\t  (cdr subtable)))))\n",
    "\t    (set-cdr! local-table\n",
    "\t\t      (cons (list key-1\n",
    "\t\t\t\t  (cons key-2 value))\n",
    "\t\t\t    (cdr local-table)))))\n",
    "      'ok)\n",
    "    (define (dispatch m)\n",
    "      (cond ((eq? m 'lookup-proc) lookup)\n",
    "\t    ((eq? m 'insert-proc!) insert!)\n",
    "\t    (else (error \"Unknown operation -- TABLE\" m))))\n",
    "    dispatch))\n",
    "\n",
    "\n"
   ]
  },
  {
   "cell_type": "markdown",
   "id": "7c5e9b4f",
   "metadata": {},
   "source": [
    "然后打包一下查找函数和插入函数："
   ]
  },
  {
   "cell_type": "code",
   "execution_count": 69,
   "id": "bb3c0231",
   "metadata": {},
   "outputs": [],
   "source": [
    "(define (lookup x table)\n",
    ";;   (display \"looking up\")(display x)(newline)\n",
    "  ((table 'lookup-proc) 100 x))"
   ]
  },
  {
   "cell_type": "code",
   "execution_count": 80,
   "id": "93933008",
   "metadata": {},
   "outputs": [],
   "source": [
    "(define (insert! x value table)\n",
    "  (display \"inserting value for \") (display x)(newline)\n",
    "  ((table 'insert-proc!) 100 x value))"
   ]
  },
  {
   "cell_type": "markdown",
   "id": "5d825f6f",
   "metadata": {},
   "source": [
    "按书上的定义写好memo-fib和memoize方法："
   ]
  },
  {
   "cell_type": "code",
   "execution_count": 86,
   "id": "91f7ddcd",
   "metadata": {},
   "outputs": [],
   "source": [
    "(define memo-fib\n",
    "  (memoize (lambda (n)\n",
    "             (cond ((= n 0) 0)\n",
    "                   ((= n 1) 1)\n",
    "                   (else (+ (memo-fib (- n 1))\n",
    "                         (memo-fib (- n 2))))))))"
   ]
  },
  {
   "cell_type": "code",
   "execution_count": 87,
   "id": "bff98d8b",
   "metadata": {
    "scrolled": true
   },
   "outputs": [],
   "source": [
    "\n",
    "\n",
    "\n",
    "(define (memoize f)\n",
    "  (let ((table (make-table =)))\n",
    "\n",
    "    (lambda (x)\n",
    "      (let ((previously-computed-result (lookup x table)))\n",
    "        (if previously-computed-result\n",
    "            previously-computed-result\n",
    "            (let ((result (f x)))\n",
    "              (insert! x result table)\n",
    "              result))))))\n",
    "\n",
    "\n"
   ]
  },
  {
   "cell_type": "markdown",
   "id": "ff54b6be",
   "metadata": {},
   "source": [
    "测试一下："
   ]
  },
  {
   "cell_type": "code",
   "execution_count": 83,
   "id": "63e3f70c",
   "metadata": {},
   "outputs": [
    {
     "name": "stdout",
     "output_type": "stream",
     "text": [
      "subtable not found: 100\n",
      "subtable not found: 100\n",
      "subtable not found: 100\n",
      "subtable not found: 100\n",
      "subtable not found: 100\n",
      "subtable not found: 100\n",
      "subtable not found: 100\n",
      "subtable not found: 100\n",
      "subtable not found: 100\n",
      "subtable not found: 100\n",
      "inserting value for 1\n",
      "record not found: 0\n",
      "inserting value for 0\n",
      "inserting value for 2\n",
      "inserting value for 3\n",
      "inserting value for 4\n",
      "inserting value for 5\n",
      "inserting value for 6\n",
      "inserting value for 7\n",
      "inserting value for 8\n",
      "inserting value for 9\n",
      "inserting value for 10\n"
     ]
    },
    {
     "data": {
      "text/plain": [
       "55"
      ]
     },
     "execution_count": 83,
     "metadata": {},
     "output_type": "execute_result"
    }
   ],
   "source": [
    "(memo-fib 10)"
   ]
  },
  {
   "cell_type": "markdown",
   "id": "04bc2d5c",
   "metadata": {},
   "source": [
    "然后题目还问我们如果直接调用(memoize fib)是不是可以达到一样的效果，其中的fib函数定义如下："
   ]
  },
  {
   "cell_type": "code",
   "execution_count": 88,
   "id": "552ee420",
   "metadata": {},
   "outputs": [],
   "source": [
    "(define (fib n)\n",
    "  (cond ((= n 0) 0)\n",
    "        ((= n 1) 1)\n",
    "        (else (+ (fib (- n 1))\n",
    "                 (fib ( - n 2))))))"
   ]
  },
  {
   "cell_type": "markdown",
   "id": "bb7071ce",
   "metadata": {},
   "source": [
    "因为fib函数并不会调用memoize，所以通过(memoize fib)虽然也可以得到结果，但是并没有用上记忆法的保存内容。"
   ]
  },
  {
   "cell_type": "code",
   "execution_count": 89,
   "id": "e8268eb8",
   "metadata": {},
   "outputs": [
    {
     "name": "stdout",
     "output_type": "stream",
     "text": [
      "subtable not found: 100\n",
      "inserting value for 10\n"
     ]
    },
    {
     "data": {
      "text/plain": [
       "55"
      ]
     },
     "execution_count": 89,
     "metadata": {},
     "output_type": "execute_result"
    }
   ],
   "source": [
    "((memoize fib) 10)"
   ]
  },
  {
   "cell_type": "code",
   "execution_count": null,
   "id": "6a7de117",
   "metadata": {},
   "outputs": [],
   "source": []
  }
 ],
 "metadata": {
  "kernelspec": {
   "display_name": "Calysto Scheme 3",
   "language": "scheme",
   "name": "calysto_scheme"
  },
  "language_info": {
   "codemirror_mode": {
    "name": "scheme"
   },
   "mimetype": "text/x-scheme",
   "name": "scheme",
   "pygments_lexer": "scheme"
  }
 },
 "nbformat": 4,
 "nbformat_minor": 5
}
