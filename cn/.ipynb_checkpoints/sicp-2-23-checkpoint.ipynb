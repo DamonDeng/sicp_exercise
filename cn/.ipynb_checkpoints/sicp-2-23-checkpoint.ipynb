{
 "cells": [
  {
   "cell_type": "markdown",
   "id": "0454da55",
   "metadata": {},
   "source": [
    "## SICP 习题 （2.23）解题总结：for-each的实现"
   ]
  },
  {
   "cell_type": "markdown",
   "id": "1142f583",
   "metadata": {},
   "source": [
    "SICP 习题 2.23 要求我们实现一个for-each过程。\n",
    "\n",
    "for-each过程和map过程其实很像，只不过for-each过程不返回值，如果返回一个值的话也是不包含意义的值。\n",
    "\n",
    "map比较像一个加工厂，进去一堆东西，加工一下，出来另一堆东西。\n",
    "\n",
    "for-each更像一个蒸汽机，进去一堆煤，燃烧一下，产生能量干点活，不出来东西，真的一定要说有东西出来也是煤渣，大家不在乎的东西。\n",
    "\n",
    "所以for-each更关注的是里面执行的操作。\n",
    "\n",
    "其实for-each操作在我们日常使用的语言中都会有，如c语言里的for，php里的foreach，都是在完成类似的工作。\n",
    "\n",
    "另外要注意的是Scheme里有for-each过程，系统自带的，SICP的作者要求你实现for-each过程并不是因为Scheme里没有，而是要让你从最基本的层面上理解for-each和map的差别。\n",
    "\n",
    "最终实现比较简单，其实也是遍历输入的列表，针对每一个元素执行一个操作。\n",
    "\n",
    "因为在if判断语句中同时要处理动作和递归调用两件事情，所以这里使用了begin过程将多个操作组合在一起顺序执行。\n",
    "\n",
    "代码如下："
   ]
  },
  {
   "cell_type": "code",
   "execution_count": 1,
   "id": "028e4b9d",
   "metadata": {},
   "outputs": [],
   "source": [
    "(define (my-for-each action items)\n",
    "   (if (null? items)\n",
    "      '()\n",
    "      (begin\n",
    "\t(action (car items))\n",
    "\t(cons (car items) \n",
    "\t    (my-for-each action (cdr items))))))"
   ]
  },
  {
   "cell_type": "markdown",
   "id": "622ff331",
   "metadata": {},
   "source": [
    "看代码大家可以发现，其实my-for-each方法是有返回值的，就是传入的列表本身，不过，因为for-each返回的结果是大家不关心的，所以不需要去留意它的返回值。\n"
   ]
  },
  {
   "cell_type": "code",
   "execution_count": 4,
   "id": "db891c22",
   "metadata": {},
   "outputs": [],
   "source": [
    "(define (display-square x)\n",
    "      (display \"Nice decorating string: \")\n",
    "      (display x)\n",
    "      (newline))"
   ]
  },
  {
   "cell_type": "code",
   "execution_count": 5,
   "id": "03e9d517",
   "metadata": {},
   "outputs": [
    {
     "name": "stdout",
     "output_type": "stream",
     "text": [
      "Nice decorating string: 1\n",
      "Nice decorating string: 2\n",
      "Nice decorating string: 3\n",
      "Nice decorating string: 4\n"
     ]
    },
    {
     "data": {
      "text/plain": [
       "(1 2 3 4)"
      ]
     },
     "execution_count": 5,
     "metadata": {},
     "output_type": "execute_result"
    }
   ],
   "source": [
    "(my-for-each display-square '(1 2 3 4))"
   ]
  },
  {
   "cell_type": "code",
   "execution_count": null,
   "id": "012428c3",
   "metadata": {},
   "outputs": [],
   "source": []
  }
 ],
 "metadata": {
  "kernelspec": {
   "display_name": "Calysto Scheme 3",
   "language": "scheme",
   "name": "calysto_scheme"
  },
  "language_info": {
   "codemirror_mode": {
    "name": "scheme"
   },
   "mimetype": "text/x-scheme",
   "name": "scheme",
   "pygments_lexer": "scheme"
  }
 },
 "nbformat": 4,
 "nbformat_minor": 5
}
