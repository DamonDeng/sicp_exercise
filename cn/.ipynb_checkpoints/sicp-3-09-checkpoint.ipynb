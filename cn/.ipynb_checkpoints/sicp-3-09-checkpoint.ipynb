{
 "cells": [
  {
   "cell_type": "markdown",
   "id": "079f4e51",
   "metadata": {},
   "source": [
    "## SICP 习题 （3.9）解题总结: 环境结构"
   ]
  },
  {
   "cell_type": "markdown",
   "id": "c828ffc5",
   "metadata": {},
   "source": [
    "SICP 习题 3.9 是道论述题，要求我们描述两个函数的环境结构，这两个函数分别是递归计算版本的(factorial)和迭代版本的(factorial)。\n",
    "\n",
    "关于环境结构，主要是和我们平时接触的变量作用空间有关，一个变量会和一个“环境”关联，或者按照书上的说法和一个framework相关。当有函数调用发生时，会发生“环境”的切换，同一个变量名在不同“环境”里往往指向不同的值。\n",
    "\n",
    "如果平时理解了变量的作用空间，对这道题应该比较容易入手。\n",
    "\n",
    "因为在Notebook环境里缺少合适的绘图手段，所以这里就不画图了。\n",
    "\n",
    "一个相对可以说明问题的方法是在函数里加上(display)函数用于显示不同变量在不同调用里的值，像下面这样"
   ]
  },
  {
   "cell_type": "code",
   "execution_count": 13,
   "id": "51239efd",
   "metadata": {},
   "outputs": [],
   "source": [
    "(define (factorial n)\n",
    "  (display \"n=\")(display n)(newline)\n",
    "  (if (= n 1)\n",
    "      1\n",
    "      (begin\n",
    "       (display \"calling (factorial \")(display n)(display \") \")(newline)\n",
    "       (let ((return-value (factorial (- n 1))))\n",
    "         (display \"return value is:\")(display return-value)(newline)\n",
    "         (* n return-value)))))"
   ]
  },
  {
   "cell_type": "code",
   "execution_count": null,
   "id": "10c8f6d5",
   "metadata": {},
   "outputs": [],
   "source": []
  },
  {
   "cell_type": "code",
   "execution_count": 14,
   "id": "6c2e7bfa",
   "metadata": {},
   "outputs": [
    {
     "name": "stdout",
     "output_type": "stream",
     "text": [
      "n=6\n",
      "calling (factorial 6) \n",
      "n=5\n",
      "calling (factorial 5) \n",
      "n=4\n",
      "calling (factorial 4) \n",
      "n=3\n",
      "calling (factorial 3) \n",
      "n=2\n",
      "calling (factorial 2) \n",
      "n=1\n",
      "return value is:1\n",
      "return value is:2\n",
      "return value is:6\n",
      "return value is:24\n",
      "return value is:120\n"
     ]
    },
    {
     "data": {
      "text/plain": [
       "720"
      ]
     },
     "execution_count": 14,
     "metadata": {},
     "output_type": "execute_result"
    }
   ],
   "source": [
    "(factorial 6)"
   ]
  },
  {
   "cell_type": "code",
   "execution_count": 17,
   "id": "0f1b5861",
   "metadata": {},
   "outputs": [],
   "source": [
    "(define (factorial n)\n",
    "  (fact-iter 1 1 n))\n",
    "\n",
    "(define (fact-iter product counter max-count)\n",
    "  (display \"-------------------------\")(newline)\n",
    "  (display \"product:\")(display product)(newline)\n",
    "  (display \"counter:\")(display counter)(newline)\n",
    "  (display \"max-count:\")(display max-count)(newline)\n",
    "  \n",
    "  (if (> counter max-count)\n",
    "      product\n",
    "      (fact-iter (* counter product)\n",
    "                 (+ counter 1)\n",
    "                 max-count)))"
   ]
  },
  {
   "cell_type": "code",
   "execution_count": 18,
   "id": "6c4363a7",
   "metadata": {},
   "outputs": [
    {
     "name": "stdout",
     "output_type": "stream",
     "text": [
      "-------------------------\n",
      "product:1\n",
      "counter:1\n",
      "max-count:6\n",
      "-------------------------\n",
      "product:1\n",
      "counter:2\n",
      "max-count:6\n",
      "-------------------------\n",
      "product:2\n",
      "counter:3\n",
      "max-count:6\n",
      "-------------------------\n",
      "product:6\n",
      "counter:4\n",
      "max-count:6\n",
      "-------------------------\n",
      "product:24\n",
      "counter:5\n",
      "max-count:6\n",
      "-------------------------\n",
      "product:120\n",
      "counter:6\n",
      "max-count:6\n",
      "-------------------------\n",
      "product:720\n",
      "counter:7\n",
      "max-count:6\n"
     ]
    },
    {
     "data": {
      "text/plain": [
       "720"
      ]
     },
     "execution_count": 18,
     "metadata": {},
     "output_type": "execute_result"
    }
   ],
   "source": [
    "(factorial 6)"
   ]
  },
  {
   "cell_type": "code",
   "execution_count": null,
   "id": "ad95d766",
   "metadata": {},
   "outputs": [],
   "source": []
  }
 ],
 "metadata": {
  "kernelspec": {
   "display_name": "Calysto Scheme 3",
   "language": "scheme",
   "name": "calysto_scheme"
  },
  "language_info": {
   "codemirror_mode": {
    "name": "scheme"
   },
   "mimetype": "text/x-scheme",
   "name": "scheme",
   "pygments_lexer": "scheme"
  }
 },
 "nbformat": 4,
 "nbformat_minor": 5
}
