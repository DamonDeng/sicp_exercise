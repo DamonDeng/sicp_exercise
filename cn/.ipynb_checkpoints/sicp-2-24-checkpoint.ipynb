{
 "cells": [
  {
   "cell_type": "markdown",
   "id": "0454da55",
   "metadata": {},
   "source": [
    "## SICP 习题 （2.24）解题总结：列表的结构"
   ]
  },
  {
   "cell_type": "markdown",
   "id": "68340f72",
   "metadata": {},
   "source": [
    "SICP 习题 2.24 是列表的巩固题，让我们更清晰的理解列表。\n",
    "\n",
    "题目要求我们求如下表达式的值：\n",
    "\n",
    "    (list 1 (list 2 (list 3 4)))\n",
    "\n",
    "因为我是一个程序员，这种事我不会自己求值的，我会让计算机完成。。。。\n",
    "\n",
    "在Scheme环境里运行以上表达式得到的结果是："
   ]
  },
  {
   "cell_type": "code",
   "execution_count": 2,
   "id": "c5811d25",
   "metadata": {},
   "outputs": [
    {
     "data": {
      "text/plain": [
       "(1 (2 (3 4)))"
      ]
     },
     "execution_count": 2,
     "metadata": {},
     "output_type": "execute_result"
    }
   ],
   "source": [
    "(list 1 (list 2 (list 3 4)))"
   ]
  },
  {
   "cell_type": "markdown",
   "id": "8156a7b2",
   "metadata": {},
   "source": [
    "这个结果并不意外，相对有经验的程序员大概可以猜出来。\n",
    "\n",
    "题目后来还要求画一个盒子指针结构将以上数据解释成一棵树。\n",
    "\n",
    "手上没有方便的画图工具，于是用keynote直接画了一个盒子指针图，发现画起来还挺方便的。\n",
    "\n",
    "![](./image/2-24.png)"
   ]
  },
  {
   "cell_type": "markdown",
   "id": "5a20f37b",
   "metadata": {},
   "source": [
    "注意，理论上讲，列表里有几个)号，图中就应该有几个nil的符号，就是带斜杠的盒子。"
   ]
  },
  {
   "cell_type": "code",
   "execution_count": null,
   "id": "32ae17c2",
   "metadata": {},
   "outputs": [],
   "source": []
  }
 ],
 "metadata": {
  "kernelspec": {
   "display_name": "Calysto Scheme 3",
   "language": "scheme",
   "name": "calysto_scheme"
  },
  "language_info": {
   "codemirror_mode": {
    "name": "scheme"
   },
   "mimetype": "text/x-scheme",
   "name": "scheme",
   "pygments_lexer": "scheme"
  }
 },
 "nbformat": 4,
 "nbformat_minor": 5
}
