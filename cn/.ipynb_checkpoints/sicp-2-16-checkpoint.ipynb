{
 "cells": [
  {
   "cell_type": "markdown",
   "id": "0454da55",
   "metadata": {},
   "source": [
    "## SICP 习题 （2.16）解题总结：避免误差的区间计算系统"
   ]
  },
  {
   "cell_type": "markdown",
   "id": "eb4c330f",
   "metadata": {},
   "source": [
    "SICP 习题 2.16 问我们能不能设计一个没有问题的区间计算系统，可以避免习题2.14中的问题。题目还吓我们说这可能很难。\n",
    "\n",
    "\n",
    "这一下就把我吓住了，你不是说很难吗，那就很难吧，我不会。呵呵"
   ]
  },
  {
   "cell_type": "code",
   "execution_count": null,
   "id": "8e2577e9",
   "metadata": {},
   "outputs": [],
   "source": []
  }
 ],
 "metadata": {
  "kernelspec": {
   "display_name": "Calysto Scheme 3",
   "language": "scheme",
   "name": "calysto_scheme"
  },
  "language_info": {
   "codemirror_mode": {
    "name": "scheme"
   },
   "mimetype": "text/x-scheme",
   "name": "scheme",
   "pygments_lexer": "scheme"
  }
 },
 "nbformat": 4,
 "nbformat_minor": 5
}
