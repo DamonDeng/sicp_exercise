{
 "cells": [
  {
   "cell_type": "markdown",
   "id": "0454da55",
   "metadata": {},
   "source": [
    "## SICP 习题 （2.52）解题总结：深入练习"
   ]
  },
  {
   "cell_type": "markdown",
   "id": "cf21283a",
   "metadata": {},
   "source": [
    "关于图形语言这部分的所有习题都在2.44里讲解了。\n",
    "\n",
    "关于2.52的部分摘抄如下："
   ]
  },
  {
   "cell_type": "markdown",
   "id": "3b7e9e97",
   "metadata": {},
   "source": [
    "### 2.52\n",
    "\n",
    "习题2.52其实是想让我们多摆弄一下这个图形语言，比如给小人加个笑脸，改造corner-split的模式等。\n",
    "\n",
    "如果上面的习题都理解透彻了，剩下这道题就算去玩去了，建议大家不一定完全按照题目要求来，可以自己尝试多捣鼓一下。这里就不给相关的代码和解释了。\n",
    "\n",
    "主要的是，自己从头到尾撸一遍代码，可以理清代码的关系，同时也理解了这里的“图形语言”是什么意思，为什么称之为“语言”，是因为他屏蔽了具体绘画细节，直接用一种编程的方式实现复杂图形的生成。"
   ]
  },
  {
   "cell_type": "code",
   "execution_count": null,
   "id": "4f061a1b",
   "metadata": {},
   "outputs": [],
   "source": []
  }
 ],
 "metadata": {
  "kernelspec": {
   "display_name": "Calysto Scheme 3",
   "language": "scheme",
   "name": "calysto_scheme"
  },
  "language_info": {
   "codemirror_mode": {
    "name": "scheme"
   },
   "mimetype": "text/x-scheme",
   "name": "scheme",
   "pygments_lexer": "scheme"
  }
 },
 "nbformat": 4,
 "nbformat_minor": 5
}
