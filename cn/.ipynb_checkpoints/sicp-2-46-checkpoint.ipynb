{
 "cells": [
  {
   "cell_type": "markdown",
   "id": "0454da55",
   "metadata": {},
   "source": [
    "## SICP 习题 （2.46）解题总结：向量和线段操作"
   ]
  },
  {
   "cell_type": "markdown",
   "id": "cb893ca7",
   "metadata": {},
   "source": [
    "关于图形语言这部分的所有习题都在2.44里讲解了。\n",
    "\n",
    "关于2.46的部分摘抄如下："
   ]
  },
  {
   "cell_type": "markdown",
   "id": "a5964a01",
   "metadata": {},
   "source": [
    "题目 2.46是关于向量和线段操作："
   ]
  },
  {
   "cell_type": "code",
   "execution_count": 1,
   "id": "51ab3255",
   "metadata": {},
   "outputs": [],
   "source": [
    "(define (make-vect x y)\n",
    "  (cons x y))\n",
    "\n",
    "(define (xcor-vect vect)\n",
    "  (car vect))\n",
    "\n",
    "(define (ycor-vect vect)\n",
    "  (cdr vect))\n",
    "\n",
    "(define (add-vect vect1 vect2)\n",
    "  (cons (+ (xcor-vect vect1) (xcor-vect vect2))\n",
    "\t(+ (ycor-vect vect1) (ycor-vect vect2))))\n",
    "\n",
    "(define (sub-vect vect1 vect2)\n",
    "  (cons (- (xcor-vect vect1) (xcor-vect vect2))\n",
    "\t(- (ycor-vect vect1) (ycor-vect vect2))))\n",
    "\n",
    "(define (scale-vect scale vect)\n",
    "  (cons (* (xcor-vect vect) scale) (* (ycor-vect vect) scale)))\n",
    "\n",
    " "
   ]
  },
  {
   "cell_type": "code",
   "execution_count": null,
   "id": "28220363",
   "metadata": {},
   "outputs": [],
   "source": []
  }
 ],
 "metadata": {
  "kernelspec": {
   "display_name": "Calysto Scheme 3",
   "language": "scheme",
   "name": "calysto_scheme"
  },
  "language_info": {
   "codemirror_mode": {
    "name": "scheme"
   },
   "mimetype": "text/x-scheme",
   "name": "scheme",
   "pygments_lexer": "scheme"
  }
 },
 "nbformat": 4,
 "nbformat_minor": 5
}
