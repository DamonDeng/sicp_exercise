{
 "cells": [
  {
   "cell_type": "markdown",
   "id": "224fd1c0",
   "metadata": {},
   "source": [
    "## SICP 习题 ( 1.17) 解题总结"
   ]
  },
  {
   "cell_type": "markdown",
   "id": "8e24bacb",
   "metadata": {},
   "source": [
    "SICP习题 1.17 是将一个计算加法的过程修改成一个只使用对数计算步数的方法。\n",
    "\n",
    "其实这个习题是对书中对数步数求幂方法的强调，对数步数求幂的方法是将一系列的乘法变成对数步数的求幂。本习题就是要求将一系列的加法变成对数步数的乘法。\n",
    "\n",
    "需要转换的过程如下："
   ]
  },
  {
   "cell_type": "code",
   "execution_count": 1,
   "id": "ebd4561d",
   "metadata": {},
   "outputs": [],
   "source": [
    "(define (* a b)\n",
    "  (if (= b 0)\n",
    "      0\n",
    "      (+ a (* a (- b 1)))))"
   ]
  },
  {
   "cell_type": "markdown",
   "id": "bafb7404",
   "metadata": {},
   "source": [
    "我们要做的就是对b进行判断，如果是偶数，就将a*b变成(double a*（halve b))\n",
    "\n",
    "如果b是奇数，就将a*b变成 （a + a * (b -1))\n",
    "\n",
    "你会发现这个过程和书上的对数步数求幂几乎一模一样，过程定义如下："
   ]
  },
  {
   "cell_type": "code",
   "execution_count": 3,
   "id": "8c0923bd",
   "metadata": {},
   "outputs": [],
   "source": [
    "(define (fast-mul a b)\n",
    "  (cond ((= b 0) 0)\n",
    "\t((even? b) (double (fast-mul a (halve b ))))\n",
    "\t(else (+ a (fast-mul a (- b 1))))))"
   ]
  },
  {
   "cell_type": "markdown",
   "id": "e76c8209",
   "metadata": {},
   "source": [
    "进一步想的话，其实可以对这种“折半”的方法进行抽象，在更高的抽象层面完成所有的这些过程，其中的关键就是找出将连续两次变换变成一次变换的方法。\n",
    "\n",
    "就好像书中将b*b 变成b的平方，还有本例中b+b 变成 (double b)。\n",
    "\n",
    "有关这种变换在后面的习题中还会提到，其实本习题的目的应该也是希望大家对这种变换有更深刻的认识。"
   ]
  }
 ],
 "metadata": {
  "kernelspec": {
   "display_name": "Calysto Scheme 3",
   "language": "scheme",
   "name": "calysto_scheme"
  },
  "language_info": {
   "codemirror_mode": {
    "name": "scheme"
   },
   "mimetype": "text/x-scheme",
   "name": "scheme",
   "pygments_lexer": "scheme"
  }
 },
 "nbformat": 4,
 "nbformat_minor": 5
}
