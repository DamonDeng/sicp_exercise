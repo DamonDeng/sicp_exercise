{
 "cells": [
  {
   "cell_type": "markdown",
   "id": "079f4e51",
   "metadata": {},
   "source": [
    "## SICP 习题 （3.1）解题总结:  赋值和累积器"
   ]
  },
  {
   "cell_type": "markdown",
   "id": "92d0a06a",
   "metadata": {},
   "source": [
    "SICP的第三个章节是“模块化，对象和赋值”，从这里开始讨论“赋值”这个概念。作为典型程序员的我们确实会觉得很奇怪，一本编程书都讲了快一半了，还没有讲“赋值”？不能赋值的话，前面一百多道题目的程序都干了些什么？\n",
    "\n",
    "这是函数式编程和命令式编程的一个很大差别。函数式编程里函数本身是没有状态的，一个给定函数在被调用时会对输入值进行处理，然后给出输出值，它的行为是固定的，不管你什么时候调用它。命令式编程，特别是后面演化出来的面向对象编程，一个函数是可能有状态的，调用某些函数可以改变状态，最明显的就是一个类的setter函数。因为一个函数拥有了状态，它的行为就是不确定的，调用它的时候的返回值不仅依赖于输入值，还依赖于它本身的状态。"
   ]
  },
  {
   "cell_type": "markdown",
   "id": "09990ade",
   "metadata": {},
   "source": [
    "在Scheme里也有改变状态的语句，像set!，可以改变一个变量的值。在Scheme里，如果你看到一个函数名带感叹号，要留意，这个函数是会改变状态的。"
   ]
  },
  {
   "cell_type": "markdown",
   "id": "e8a7054e",
   "metadata": {},
   "source": [
    "下面跑几个简单的代码看看，这些代码特别简单，非常像一般的幼儿编程书里的第一个章节。确实很难想象在SICP这种书的题解中，我们会讨论这样的代码："
   ]
  },
  {
   "cell_type": "code",
   "execution_count": 5,
   "id": "4359319f",
   "metadata": {},
   "outputs": [],
   "source": [
    "(define a 10)"
   ]
  },
  {
   "cell_type": "code",
   "execution_count": 6,
   "id": "f2365db3",
   "metadata": {},
   "outputs": [
    {
     "data": {
      "text/plain": [
       "10"
      ]
     },
     "execution_count": 6,
     "metadata": {},
     "output_type": "execute_result"
    }
   ],
   "source": [
    "a"
   ]
  },
  {
   "cell_type": "code",
   "execution_count": 7,
   "id": "2cc5d2ef",
   "metadata": {},
   "outputs": [],
   "source": [
    "(set! a 20)"
   ]
  },
  {
   "cell_type": "code",
   "execution_count": 8,
   "id": "65de4424",
   "metadata": {},
   "outputs": [
    {
     "data": {
      "text/plain": [
       "20"
      ]
     },
     "execution_count": 8,
     "metadata": {},
     "output_type": "execute_result"
    }
   ],
   "source": [
    "a"
   ]
  },
  {
   "cell_type": "markdown",
   "id": "681b2be6",
   "metadata": {},
   "source": [
    "题目本身要求我们创建一个累加器。虽然代码非常简单，但是我们是不是已经看到了一些面向对象的影子？\n",
    "\n",
    "虽然在Lisp语言里通过状态的引入就形成了面向对象的处理能力，但是SICP的作者似乎并不觉得有什么了不起。作者在后面还在讨论“引入赋值的代价”，这个代价就是“任何具有漂亮性质的简单模型”都会因为赋值的引入而变得难以处理。很多喜欢Lisp的人都会把(set!)这种带感叹号的函数称之为有“副作用”的函数，对他们来讲，这是个“副作用”。"
   ]
  },
  {
   "cell_type": "code",
   "execution_count": 9,
   "id": "51239efd",
   "metadata": {},
   "outputs": [],
   "source": [
    "(define (make-accumulator total)\n",
    "  (lambda (value-added)\n",
    "    (begin \n",
    "      (set! total (+ total value-added))\n",
    "      total)))\n",
    "\n",
    "(define (start-test-3-1)\n",
    "  (define A (make-accumulator 5))\n",
    "  (define B (make-accumulator 10))\n",
    "  (display \"A: \")\n",
    "  (display (A 5))\n",
    "  (newline)\n",
    "  (display \"B: \")\n",
    "  (display (B 5))\n",
    "  (newline)\n",
    "  (display \"A: \")\n",
    "  (display (A 5))\n",
    "  (newline)\n",
    "  (display \"A: \")\n",
    "  (display (A 5))\n",
    "  (newline)\n",
    "  (display \"B: \")\n",
    "  (display (B 5))\n",
    "  (newline)\n",
    "  )"
   ]
  },
  {
   "cell_type": "code",
   "execution_count": 10,
   "id": "61275507",
   "metadata": {},
   "outputs": [
    {
     "name": "stdout",
     "output_type": "stream",
     "text": [
      "A: 10\n",
      "B: 15\n",
      "A: 15\n",
      "A: 20\n",
      "B: 20\n"
     ]
    }
   ],
   "source": [
    "(start-test-3-1)"
   ]
  },
  {
   "cell_type": "code",
   "execution_count": null,
   "id": "039713f8",
   "metadata": {},
   "outputs": [],
   "source": []
  }
 ],
 "metadata": {
  "kernelspec": {
   "display_name": "Calysto Scheme 3",
   "language": "scheme",
   "name": "calysto_scheme"
  },
  "language_info": {
   "codemirror_mode": {
    "name": "scheme"
   },
   "mimetype": "text/x-scheme",
   "name": "scheme",
   "pygments_lexer": "scheme"
  }
 },
 "nbformat": 4,
 "nbformat_minor": 5
}
