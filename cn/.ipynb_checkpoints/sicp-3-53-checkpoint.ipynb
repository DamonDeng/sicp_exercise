{
 "cells": [
  {
   "cell_type": "markdown",
   "id": "079f4e51",
   "metadata": {},
   "source": [
    "## title"
   ]
  },
  {
   "cell_type": "code",
   "execution_count": null,
   "id": "51239efd",
   "metadata": {},
   "outputs": [],
   "source": [
    "(define (stream-map proc . argstreams)\n",
    "  (if (null? (car argstreams))\n",
    "      the-empty-stream\n",
    "      (cons-stream\n",
    "       (apply proc (map (lambda (x) (stream-car x)) argstreams))\n",
    "       (apply stream-map\n",
    "\t      (cons proc (map (lambda (x) (stream-cdr x)) argstreams))))))\n",
    "\n",
    "\n",
    "(define (add-streams s1 s2)\n",
    "  (stream-map + s1 s2))\n",
    "\n",
    "(define (stream-for-each proc s)\n",
    "  (if (stream-null? s)\n",
    "      'done\n",
    "      (begin (proc (stream-car s))\n",
    "\t     (stream-for-each proc (stream-cdr s)))))\n",
    "\n",
    "\n",
    "(define (display-stream s)\n",
    "  (stream-for-each display-line s))\n",
    "\n",
    "\n",
    "\n",
    "(define (start-test-3-53) \n",
    "  (define s(cons-stream 1 (add-streams s s ))))\n",
    "\n",
    "\n",
    "; the result is 1 2 4 8 16 .... 2^n\n",
    "\n"
   ]
  }
 ],
 "metadata": {
  "kernelspec": {
   "display_name": "Calysto Scheme 3",
   "language": "scheme",
   "name": "calysto_scheme"
  },
  "language_info": {
   "codemirror_mode": {
    "name": "scheme"
   },
   "mimetype": "text/x-scheme",
   "name": "scheme",
   "pygments_lexer": "scheme"
  }
 },
 "nbformat": 4,
 "nbformat_minor": 5
}
