{
 "cells": [
  {
   "cell_type": "markdown",
   "id": "0454da55",
   "metadata": {},
   "source": [
    "## SICP 习题 （2.51）解题总结：below"
   ]
  },
  {
   "cell_type": "markdown",
   "id": "de31d4e6",
   "metadata": {},
   "source": [
    "关于图形语言这部分的所有习题都在2.44里讲解了。\n",
    "\n",
    "关于2.51的部分摘抄如下："
   ]
  },
  {
   "cell_type": "markdown",
   "id": "a4b44066",
   "metadata": {},
   "source": [
    "### 2.51 below函数\n",
    "\n",
    "接着要实现上下并排的效果，这里需要用到below函数，可以根据beside进行仿写。\n",
    "\n",
    "做完了你会发现你完成了习题2.51的一半"
   ]
  },
  {
   "cell_type": "code",
   "execution_count": 1,
   "id": "4f421131",
   "metadata": {},
   "outputs": [],
   "source": [
    "(define (below painter1 painter2)\n",
    "  (let ((split-point (make-vect 0.0 0.5)))\n",
    "    (let ((paint-lower\n",
    "           (transform-painter painter1\n",
    "                              (make-vect 0.0 0.0)\n",
    "                              (make-vect 1.0 0.0)\n",
    "                              split-point))\n",
    "          (paint-upper\n",
    "           (transform-painter painter2\n",
    "                              split-point\n",
    "                              (make-vect 1.0 .5)\n",
    "                              (make-vect 0.0 1.0)\n",
    "                              )))\n",
    "      (lambda (frame)\n",
    "        (paint-lower frame)\n",
    "        (paint-upper frame)\n",
    "        ))))"
   ]
  },
  {
   "cell_type": "markdown",
   "id": "1ab038c6",
   "metadata": {},
   "source": [
    "题目2.51还希望我们使用各种rotate方法，结合beside方法生成below:"
   ]
  },
  {
   "cell_type": "code",
   "execution_count": 2,
   "id": "42e2caf8",
   "metadata": {},
   "outputs": [],
   "source": [
    "(define (new-below painter1 painter2)\n",
    "  (rotate-270 (beside (rotate-90 painter2) (rotate-90 painter1))))"
   ]
  },
  {
   "cell_type": "code",
   "execution_count": null,
   "id": "d2ce0e6c",
   "metadata": {},
   "outputs": [],
   "source": []
  }
 ],
 "metadata": {
  "kernelspec": {
   "display_name": "Calysto Scheme 3",
   "language": "scheme",
   "name": "calysto_scheme"
  },
  "language_info": {
   "codemirror_mode": {
    "name": "scheme"
   },
   "mimetype": "text/x-scheme",
   "name": "scheme",
   "pygments_lexer": "scheme"
  }
 },
 "nbformat": 4,
 "nbformat_minor": 5
}
