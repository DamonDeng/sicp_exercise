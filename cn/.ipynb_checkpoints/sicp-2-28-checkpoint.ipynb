{
 "cells": [
  {
   "cell_type": "markdown",
   "id": "0454da55",
   "metadata": {},
   "source": [
    "## SICP 习题 （2.28）解题总结：树状列表的遍历"
   ]
  },
  {
   "cell_type": "markdown",
   "id": "79f5373d",
   "metadata": {},
   "source": [
    "SICP  习题 2.28 的本质其实是树的遍历\n",
    "\n",
    "题目要求我们实现一个叫fringe的过程，fringe的英文意思是边缘，花边的意思，题目的意思其实就是要我们遍历一棵树，然后以列表的形式返回这棵树的所有叶子。\n",
    "\n",
    "该过程的实现和上面的deep-reverse差不多，都是遍历元素，如果元素是一个列表则递归调用fringe进入，如果元素是一个简单元素则直接组合起来。\n",
    "\n",
    "代码如下："
   ]
  },
  {
   "cell_type": "code",
   "execution_count": 1,
   "id": "fc1da806",
   "metadata": {},
   "outputs": [],
   "source": [
    "(define (fringe input-list)\n",
    "  \n",
    "  (if (null? input-list)\n",
    "      '()\n",
    "      (append (if (list? (car input-list))\n",
    "\t\t  (fringe (car input-list))\n",
    "\t\t  (list (car input-list)))\n",
    "\t      (fringe (cdr input-list)))))"
   ]
  },
  {
   "cell_type": "code",
   "execution_count": 2,
   "id": "b0326130",
   "metadata": {},
   "outputs": [],
   "source": [
    "(define (start-test-2-28)\n",
    "  (fringe '(1 2 (3 4 5 (7 8 9) 10 11 (12 13 (14 15 16 17)))))\n",
    "  )"
   ]
  },
  {
   "cell_type": "code",
   "execution_count": 3,
   "id": "2ca920e3",
   "metadata": {},
   "outputs": [
    {
     "data": {
      "text/plain": [
       "(1 2 3 4 5 7 8 9 10 11 12 13 14 15 16 17)"
      ]
     },
     "execution_count": 3,
     "metadata": {},
     "output_type": "execute_result"
    }
   ],
   "source": [
    "(start-test-2-28)"
   ]
  },
  {
   "cell_type": "code",
   "execution_count": null,
   "id": "5b686a1d",
   "metadata": {},
   "outputs": [],
   "source": []
  }
 ],
 "metadata": {
  "kernelspec": {
   "display_name": "Calysto Scheme 3",
   "language": "scheme",
   "name": "calysto_scheme"
  },
  "language_info": {
   "codemirror_mode": {
    "name": "scheme"
   },
   "mimetype": "text/x-scheme",
   "name": "scheme",
   "pygments_lexer": "scheme"
  }
 },
 "nbformat": 4,
 "nbformat_minor": 5
}
