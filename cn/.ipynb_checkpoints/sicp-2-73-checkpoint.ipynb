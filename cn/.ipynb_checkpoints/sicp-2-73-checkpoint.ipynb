{
 "cells": [
  {
   "cell_type": "markdown",
   "id": "0454da55",
   "metadata": {},
   "source": [
    "## SICP 习题 （2.73）解题总结：数据导向的程序设计"
   ]
  },
  {
   "cell_type": "markdown",
   "id": "eaa557b6",
   "metadata": {},
   "source": [
    "SICP 习题 2.73开始了一个新的内容，关于数据导向的程序设计，这是一个很重要的设计理念，也是元编程的一个基础。\n",
    "\n",
    "习题 2.73 的上文讲述了数据导向的程序设计思想，书中以 极坐标 和 直角坐标 为例讲了数据封装的概念，然后引入了 数据导向的程序设计理念。"
   ]
  },
  {
   "cell_type": "markdown",
   "id": "f23b78fc",
   "metadata": {},
   "source": [
    "题目要求我们修改之前的求导函数，变成下面这样："
   ]
  },
  {
   "cell_type": "code",
   "execution_count": 1,
   "id": "7819addd",
   "metadata": {},
   "outputs": [],
   "source": [
    "(define (deriv exp var)\n",
    "  (cond ((number? exp) 0)\n",
    "\t((variable? exp)\n",
    "\t (if (same-variable? exp var) 1 0))\n",
    "\t(else ((get 'deriv (operator exp)) (operands exp)\n",
    "\t       var))))"
   ]
  },
  {
   "cell_type": "markdown",
   "id": "36a5bc1b",
   "metadata": {},
   "source": [
    "这里的基本思路就是把具体的求导代码当作一种数据保存在一张表里，用操作符当作key。\n",
    "\n",
    "当我们需要调用某个操作符的求导代码时，用该操作符作为key去表里查找，找到以后直接调用。这里又充分体现了Lisp语言里过程就是数据，数据也是过程的理念。"
   ]
  },
  {
   "cell_type": "markdown",
   "id": "e963224f",
   "metadata": {},
   "source": [
    "为了实现以上想法，我们先要设计一个简单的表插入和表查询的功能，这个也是这组题目的关键实现："
   ]
  },
  {
   "cell_type": "code",
   "execution_count": 2,
   "id": "38b40569",
   "metadata": {},
   "outputs": [],
   "source": [
    "\n",
    "(define (operator exp) (car exp))\n",
    "\n",
    "(define (operands exp) (cdr exp))\n",
    "\n",
    "(define (assoc key records)\n",
    "  (cond ((null? records) #f)\n",
    "\t((equal? key (caar records)) (car records))\n",
    "\t(else (assoc key (cdr records)))))\n",
    "\n",
    "(define (make-table)\n",
    "  (let ((local-table (list '*table*)))\n",
    "    (define (lookup key-1 key-2)\n",
    "      (let ((subtable (assoc key-1 (cdr local-table))))\n",
    "\t(if subtable\n",
    "\t    (let ((record (assoc key-2 (cdr subtable))))\n",
    "\t      (if record\n",
    "\t\t  (cdr record)\n",
    "\t\t  #f))\n",
    "\t    #f)))\n",
    "    (define (insert! key-1 key-2 value)\n",
    "      (let ((subtable (assoc key-1 (cdr local-table))))\n",
    "\t(if subtable\n",
    "\t    (let ((record (assoc key-2 (cdr subtable))))\n",
    "\t      (if record\n",
    "\t\t  (set-cdr! record value)\n",
    "\t\t  (set-cdr! subtable\n",
    "\t\t\t    (cons (cons key-2 value)\n",
    "\t\t\t\t  (cdr subtable)))))\n",
    "\t    (set-cdr! local-table\n",
    "\t\t      (cons (list key-1\n",
    "\t\t\t\t  (cons key-2 value))\n",
    "\t\t\t    (cdr local-table)))))\n",
    "      'ok)\n",
    "    (define (dispatch m)\n",
    "      (cond ((eq? m 'lookup-proc) lookup)\n",
    "\t    ((eq? m 'insert-proc!) insert!)\n",
    "\t    (else (error \"Unknown operation -- TABLE\" m))))\n",
    "    dispatch))"
   ]
  },
  {
   "cell_type": "markdown",
   "id": "c481b140",
   "metadata": {},
   "source": [
    "注意上面的(make-table)代码返回的是dispatch函数，该函数接受一个参数表示要对表执行的操作，如果参数是lookup-proc就是要查找表，这时再返回lookup函数，如果参数是insert-proc!就表示要插入数据，这时再返回insert!函数。\n",
    "\n",
    "这里已经使用了消息传递的概念，希望调用某个函数时给管理对象发送一个消息，让管理对象根据消息内容返回不同的函数供调用。\n",
    "\n",
    "对应我们在面向对象的环境，相当于是调用一个对象的方法。"
   ]
  },
  {
   "cell_type": "markdown",
   "id": "7e5aa08a",
   "metadata": {},
   "source": [
    "然后就是给这张表插入不同求导规则的操作符和对应的代码："
   ]
  },
  {
   "cell_type": "code",
   "execution_count": 3,
   "id": "ec232cef",
   "metadata": {},
   "outputs": [],
   "source": [
    "(define operation-table (make-table))\n",
    "\n",
    "(define get (operation-table 'lookup-proc))\n",
    "\n",
    "(define put (operation-table 'insert-proc!))\n",
    "\n",
    "(define (install-operations)\n",
    "  (put 'deriv '+ (lambda (operands var) (make-sum (deriv (car operands) var) (deriv (cadr operands) var))))\n",
    "  (put 'deriv '* (lambda (operands var)\n",
    "\t\t   (make-sum\n",
    "\t\t    (make-product  (car operands) (deriv (cadr operands) var))\n",
    "\t\t    (make-product (deriv (car operands) var) (cadr operands) ))))\n",
    "\n",
    "  (put 'deriv '** (lambda (operands var)\n",
    "\t\t    (let ((n (cadr operands))\n",
    "\t\t\t  (u (car operands)))\n",
    "\t\t      (display n) (newline)\n",
    "\t\t      (display u) (newline)\n",
    "\t\t      (make-product\n",
    "\t\t       n\n",
    "\t\t       (make-product\n",
    "\t\t\t(make-exponentiation\n",
    "\t\t\t u\n",
    "\t\t\t (- n 1))\n",
    "\t\t\t(deriv u var))))))\n",
    "\n",
    "\n",
    ")\n"
   ]
  },
  {
   "cell_type": "markdown",
   "id": "74d3f317",
   "metadata": {},
   "source": [
    "然后把之前的各种相关函数拷贝进来："
   ]
  },
  {
   "cell_type": "code",
   "execution_count": 4,
   "id": "f50503e5",
   "metadata": {},
   "outputs": [],
   "source": [
    "(define (variable? x) (symbol? x))\n",
    "\n",
    "(define (same-variable? v1 v2)\n",
    "  (and (variable? v1) (variable? v2) (eq? v1 v2)))\n",
    "\n",
    "(define (make-sum a1 a2)\n",
    "  (define (iter sum1 sum2)\n",
    "    '())\n",
    "  (cond ((=number? a1 0) a2)\n",
    "\t((=number? a2 0) a1)\n",
    "\t((and (number? a1) (number? a2)) (+ a1 a2))\n",
    "\t(else \n",
    "\t (list '+ a1 a2))))\n",
    "\n",
    "(define (=number? exp num)\n",
    "  (and (number? exp) (= exp num)))\n",
    "\n",
    "(define (make-product m1 m2)\n",
    "  (cond ((or (=number? m1 0) (=number? m2 0)) 0)\n",
    "\t((=number? m1 1) m2)\n",
    "\t((=number? m2 1) m1)\n",
    "\t((and (number? m1) (number? m2)) (* m1 m2))\n",
    "\t(else (list '* m1 m2))))\n",
    "\n",
    "(define (sum? x)\n",
    "  (and (pair? x) (eq? (car x) '+)))\n",
    "\n",
    "(define (addend s) (cadr s))\n",
    "\n",
    "(define (augend s) \n",
    "   (if (null? (cdddr s)) \n",
    "       (caddr s) \n",
    "       (cons '+ (cddr s)))) \n",
    "\n",
    "(define (product? x)\n",
    "  (and (pair? x) (eq? (car x) '*)))\n",
    "\n",
    "(define (multiplier p) (cadr p))\n",
    "\n",
    "\n",
    "(define (multiplicand p) \n",
    "   (if (null? (cdddr p)) \n",
    "       (caddr p) \n",
    "       (cons '* (cddr p)))) \n",
    "\n",
    "\n",
    "(define (make-exponentiation base exponent)\n",
    "  (cond ((= exponent 0)\n",
    "\t 1)\n",
    "\t((= exponent 1)\n",
    "\t base)\n",
    "\t(else\n",
    "\t (list '** base exponent))))\n",
    "\n",
    "(define (exponentiation? x)\n",
    "  (and (pair? x)\n",
    "       (eq? (car x) '**)))\n",
    "\n",
    "(define (base exp)\n",
    "  (cadr exp))\n",
    "\n",
    "(define (exponent exp)\n",
    "  (caddr exp))\n",
    "\n"
   ]
  },
  {
   "cell_type": "markdown",
   "id": "11e815a1",
   "metadata": {},
   "source": [
    "再封装一个测试函数，测试函数先调用(install-operations)构建操作符和对应求导程序的关系表，供后续查找。\n",
    "\n",
    "然后就是调用(deriv)函数，虽然在这里看起来和之前题目的调用方式完全一样，但是这个deriv的实现是完全不同的。"
   ]
  },
  {
   "cell_type": "code",
   "execution_count": 7,
   "id": "ea2278fe",
   "metadata": {},
   "outputs": [],
   "source": [
    "\n",
    "\n",
    "(define (start-test-2-73)\n",
    "\n",
    "  (install-operations)\n",
    "  \n",
    "  (display (deriv '(+ x 3) 'x)) (newline)\n",
    "\n",
    "  (display (deriv '(* x y) 'x)) (newline)\n",
    "\n",
    "  (display (deriv '(* (* x y) (+ x 3)) 'x)) (newline)\n",
    "\n",
    "  (display (deriv '(** x 6) 'x)) (newline)\n",
    "\n",
    "  (display \"if we want to call the deriv with (get (operator exp) 'deriv)\") (newline)\n",
    "  (display \"we only need to put the actions with (put (lambda (...) ...) 'deriv)\") (newline)\n",
    "\n",
    "  (newline)) \n"
   ]
  },
  {
   "cell_type": "code",
   "execution_count": 8,
   "id": "99560d95",
   "metadata": {
    "scrolled": true
   },
   "outputs": [
    {
     "name": "stdout",
     "output_type": "stream",
     "text": [
      "1\n",
      "y\n",
      "(+ (* x y) (* y (+ x 3)))\n",
      "6\n",
      "x\n",
      "(* 6 (** x 5))\n",
      "if we want to call the deriv with (get (operator exp) 'deriv)\n",
      "we only need to put the actions with (put (lambda (...) ...) 'deriv)\n",
      "\n"
     ]
    }
   ],
   "source": [
    "(start-test-2-73)"
   ]
  },
  {
   "cell_type": "markdown",
   "id": "0e3bacad",
   "metadata": {},
   "source": [
    "然后到这里才开始看题目的具体问题。\n",
    "\n",
    "第一小问问我们为什这种方式不能把 (number?) (same-variable)这样的函数也当做普通的操作符处理。\n",
    "\n",
    "要回答这个问题你可以尝试真的去实现它。为了实现它你需要看这类表达式里操作符是什么，这里就傻眼了，(number?)的操作符会是所有数字，准确讲应该是所有变量加数字。因为我们需要判断(number? 1) (number? 2) (number? 3) ... 还有(number? 2.1) (number? a)...\n",
    "\n",
    "对这种情况我们是无法现实成有限操作符的查找操作的。\n",
    "\n",
    "第二问要求我们安装 和式 和 乘式 的求导法则，这个在上面的代码里为了测试已经加进去了。\n",
    "\n",
    "第三问要求我们安装的 幂计算 的求导法则，这个在上面的代码里也囊括了。\n",
    "\n",
    "第四问有点奇怪，题目问我们能不能实现(get '+ 'deriv)这样的操作，题目原来的实现是这样的(get 'deriv '+)。\n",
    "\n",
    "题目要求新方法就是参数顺序不同了，如果希望做到这点，在(put 'deriv '+)时换个顺序就好了，用(put '+ 'deriv)"
   ]
  },
  {
   "cell_type": "code",
   "execution_count": null,
   "id": "a725c3a6",
   "metadata": {},
   "outputs": [],
   "source": []
  }
 ],
 "metadata": {
  "kernelspec": {
   "display_name": "Calysto Scheme 3",
   "language": "scheme",
   "name": "calysto_scheme"
  },
  "language_info": {
   "codemirror_mode": {
    "name": "scheme"
   },
   "mimetype": "text/x-scheme",
   "name": "scheme",
   "pygments_lexer": "scheme"
  }
 },
 "nbformat": 4,
 "nbformat_minor": 5
}
