{
 "cells": [
  {
   "cell_type": "markdown",
   "id": "da12bba1",
   "metadata": {},
   "source": [
    "## SICP 习题 (1.8) 解题总结：牛顿法求立方根"
   ]
  },
  {
   "cell_type": "markdown",
   "id": "c6457bd6",
   "metadata": {},
   "source": [
    "SICP 习题1.8需要我们做的是按照牛顿法求平方根的方法做一个求立方根的过程。\n",
    "\n",
    "所以说书中讲牛顿法求平方根的内容还是要好好理解，不然后面这几道题做起来就比较困难。\n",
    "\n",
    "反过来，如果理解了牛顿法求平方根的方法，做出一个求立方根的过程就很容易了。当然，我们需要一个改进猜测的方法，就是improve那部分，如果要我自己想出来这个改进方法我觉得是有挑战性的，还好书中直接写出来了，就是：\n",
    "\n",
    "    （（x / (y * y) )  +  ( 2 * y) )  /  3)\n",
    "    \n",
    "其中y是猜测值，x是需要求立方根的数。"
   ]
  },
  {
   "cell_type": "markdown",
   "id": "a13a6780",
   "metadata": {},
   "source": [
    "根据以上公式，我们定义一个next-try过程，相当于求平方根过程里的improve过程。"
   ]
  },
  {
   "cell_type": "code",
   "execution_count": 1,
   "id": "7e25fa2d",
   "metadata": {},
   "outputs": [],
   "source": [
    "(define (next-try try-value x)\n",
    "  (/ (+ (/ x (* try-value try-value)) (* 2 try-value)) 3))"
   ]
  },
  {
   "cell_type": "markdown",
   "id": "9da26172",
   "metadata": {},
   "source": [
    "接着是定义try-cube-root 过程，整个过程几乎和书中的sqrt-iter过程相同，就是看猜测结果是否足够好，如果不够好就通过new-try过程计算一个更好的猜测结果出来继续。\n",
    "\n",
    "也正因为求平方根和求立方根的过程有这么多相似的代码，所以我们可以对这个过程进行抽象，形成一个应用范伟更广泛的过程。有关这一点书中很快就会开始讨论。\n",
    "\n",
    "回到我们的题目，定义的try-cube-root过程如下："
   ]
  },
  {
   "cell_type": "code",
   "execution_count": 2,
   "id": "1ae9f44f",
   "metadata": {},
   "outputs": [],
   "source": [
    "(define (try-cube-root try-value x)\n",
    "  (if (good-cube-root try-value x)\n",
    "      try-value\n",
    "      (try-cube-root (next-try try-value x) x)))"
   ]
  },
  {
   "cell_type": "markdown",
   "id": "6a0830f9",
   "metadata": {},
   "source": [
    "然后定义相关的支持函数："
   ]
  },
  {
   "cell_type": "code",
   "execution_count": 3,
   "id": "e64a7126",
   "metadata": {},
   "outputs": [],
   "source": [
    "(define (good-cube-root try-value x)\n",
    "  (if (> 0.02 (abs (- (* (* try-value try-value) try-value) x)))\n",
    "      #t\n",
    "      #f))\n",
    "\n",
    "(define (abs value)\n",
    "  (if (< value 0)\n",
    "      (- value)\n",
    "      value))\n"
   ]
  },
  {
   "cell_type": "markdown",
   "id": "be623ea7",
   "metadata": {},
   "source": [
    "接着试试try-cube-root方法"
   ]
  },
  {
   "cell_type": "code",
   "execution_count": 4,
   "id": "694b0848",
   "metadata": {},
   "outputs": [
    {
     "data": {
      "text/plain": [
       "3.0000891400524456"
      ]
     },
     "execution_count": 4,
     "metadata": {},
     "output_type": "execute_result"
    }
   ],
   "source": [
    "(try-cube-root 1.1 27.0)"
   ]
  },
  {
   "cell_type": "markdown",
   "id": "7435f25e",
   "metadata": {},
   "source": [
    "为了调用方便，还可以打包一下，定义cube-root方法，把try-value设置成1.1，因为牛顿法求立方根对初始猜测值也没啥要求，就直接帮用户写成1.1好了"
   ]
  },
  {
   "cell_type": "code",
   "execution_count": 5,
   "id": "4437c4be",
   "metadata": {},
   "outputs": [],
   "source": [
    "(define (cube-root x)\n",
    "  (try-cube-root 1.1 x))\n",
    "\n"
   ]
  },
  {
   "cell_type": "markdown",
   "id": "9dc75f89",
   "metadata": {},
   "source": [
    "下面直接调用cube-root"
   ]
  },
  {
   "cell_type": "code",
   "execution_count": 6,
   "id": "9e0c75a6",
   "metadata": {},
   "outputs": [
    {
     "data": {
      "text/plain": [
       "3.0000891400524456"
      ]
     },
     "execution_count": 6,
     "metadata": {},
     "output_type": "execute_result"
    }
   ],
   "source": [
    "(cube-root 27.0)"
   ]
  },
  {
   "cell_type": "markdown",
   "id": "9b264184",
   "metadata": {},
   "source": [
    "好，题目做完了，整体上还是比较简单，如果感觉这题比较难的，一般是因为没有理解牛顿法求平方根的部分，需要回到书中的正文去理解。\n"
   ]
  },
  {
   "cell_type": "code",
   "execution_count": null,
   "id": "d148b432",
   "metadata": {},
   "outputs": [],
   "source": []
  },
  {
   "cell_type": "code",
   "execution_count": null,
   "id": "152e590e",
   "metadata": {},
   "outputs": [],
   "source": []
  },
  {
   "cell_type": "code",
   "execution_count": null,
   "id": "d87d4d5f",
   "metadata": {},
   "outputs": [],
   "source": []
  }
 ],
 "metadata": {
  "kernelspec": {
   "display_name": "Calysto Scheme 3",
   "language": "scheme",
   "name": "calysto_scheme"
  },
  "language_info": {
   "codemirror_mode": {
    "name": "scheme"
   },
   "mimetype": "text/x-scheme",
   "name": "scheme",
   "pygments_lexer": "scheme"
  }
 },
 "nbformat": 4,
 "nbformat_minor": 5
}
