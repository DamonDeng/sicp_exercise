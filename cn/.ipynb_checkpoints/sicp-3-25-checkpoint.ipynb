{
 "cells": [
  {
   "cell_type": "markdown",
   "id": "079f4e51",
   "metadata": {},
   "source": [
    "## SICP 习题 （3.25）解题总结: 多维表格的处理"
   ]
  },
  {
   "cell_type": "markdown",
   "id": "57db37e4",
   "metadata": {},
   "source": [
    "SICP 习题 3.25 希望我们实现多维表格。\n",
    "\n",
    "就像我们讨论一维数组和二维数组一样，当我们学会处理一维表格后就可以处理二维表格了，处理方法不过就是增加一个key而已。那要处理多维表格，就是处理多个key的表格。\n",
    "\n",
    "这里想强调的是书中实现的表格并不是严格要求的表格，不同行可以拥有不同数量的列。因为这里的表格是通过指针实现的，并不是通过等长数据段实现的。这里的表格有点像我们在普通编程书里面提到的不定长数组。\n",
    "\n",
    "处理多维表格，关键在与多个key的表格，如果是指定三维或者四维，无外乎就是改代码加多几个参数而已。但是，已经建立抽象能力的我们，怎么会满足于重复相同的代码呢？我们要构建一个能处理不定长key表格的函数。\n",
    "\n",
    "要处理不定长key，把不定长key表达为一个列表，然后不断递归处理就好了。\n",
    "\n"
   ]
  },
  {
   "cell_type": "code",
   "execution_count": 7,
   "id": "51239efd",
   "metadata": {},
   "outputs": [],
   "source": [
    "(define (assoc key records same-key?)\n",
    "  (cond ((null? records) #f)\n",
    "\t((same-key? key (caar records)) (car records))\n",
    "\t(else (assoc key (cdr records) same-key?))))\n",
    "\n",
    "(define (make-table same-key?)\n",
    "  (let ((local-table (list '*table*)))\n",
    "    (define (lookup keys)\n",
    "      (define (inter-lookup keys inter-table same-key?)\n",
    "\t(if (null? keys)\n",
    "\t      (if inter-table\n",
    "\t\t  (cdr inter-table)\n",
    "\t\t  (begin\n",
    "\t\t    (display \"record not found \") (display keys) (newline)\n",
    "\t\t    (display \"record not found \") (display inter-table) (newline)\n",
    "\t\t    #f))\n",
    "\t    (let ((subtable (assoc (car keys) (cdr inter-table) same-key?)))\n",
    "\t      (if subtable\n",
    "\t\t  (inter-lookup (cdr keys) subtable same-key?)\n",
    "\t\t  (begin \n",
    "\t\t    (display \"record not found \")(display keys)(newline)\n",
    "\t\t    #f)))))\n",
    "      (inter-lookup keys local-table same-key?)) \n",
    "\n",
    "    (define (insert! keys value)\n",
    "      (define (inter-insert keys inter-table value)\n",
    "\t(if (null? keys)\n",
    "\t    (if inter-table\n",
    "\t\t(set-cdr! inter-table value)\n",
    "\t\t#f)\n",
    "\t    (let ((subtable (assoc (car keys) (cdr inter-table) same-key?)))\n",
    "\t      (if subtable\n",
    "\t\t  (inter-insert (cdr keys) (cdr inter-table) value )\n",
    "\t\t  #f))))\n",
    "      (define (inter-append keys value)\n",
    ";\t(display \"inter-append: \") (display keys) (newline) \n",
    "\t\n",
    "\t(if (= (length keys) 1)\n",
    "\t    (cons (car keys) value)\n",
    "\t    (append (list (car keys))  (list (inter-append (cdr keys) value)))))\n",
    "\n",
    "      (if (inter-insert keys local-table value)\n",
    "\t  'ok\n",
    "\t  (begin\n",
    "\t   ; (display (inter-append keys value))(newline)\n",
    "\t   ; (display \"---------\")(newline)\n",
    "\t    (set! local-table (append local-table (list (inter-append keys value)))))))\n",
    "    (define (display-struct)\n",
    "      local-table)\n",
    "\n",
    "    (define (dispatch m)\n",
    "      (cond ((eq? m 'lookup-proc) lookup)\n",
    "\t    ((eq? m 'insert-proc!) insert!)\n",
    "\t    ((eq? m 'display-struct) display-struct)\n",
    "\t    \n",
    "\t    (else (error \"Unknown operation -- TABLE\" m))))\n",
    "    dispatch))\n",
    "\n",
    "\n",
    "\n",
    "\n",
    "\n"
   ]
  },
  {
   "cell_type": "code",
   "execution_count": 8,
   "id": "0aaa3e52",
   "metadata": {},
   "outputs": [],
   "source": [
    "(define (start-test-3-25)\n",
    "  (define operation-table (make-table (lambda (x y) (equal? x y))))\n",
    "\n",
    "  (define get (operation-table 'lookup-proc))\n",
    "\n",
    "  (define put (operation-table 'insert-proc!))\n",
    "\n",
    "  (define display-struct (operation-table 'display-struct))\n",
    "\n",
    "  (put '(column1 row1 test ky) '11)\n",
    "  (display \"after put  \")\n",
    "  (display (display-struct)) (newline)\n",
    "  \n",
    "  (put '(column2 row1) '21)\n",
    "  (display \"after put  \")\n",
    "  (display (display-struct)) (newline)\n",
    " \n",
    " ; (display (get 'column2 'row1))\n",
    "  (display \"get value of column2 row1\")(newline)\n",
    "  (display (get '(column1 row1 test ky)))\n",
    "  (newline)\n",
    "  (display \"after put  \")\n",
    "  (display (display-struct))\n",
    "  )"
   ]
  },
  {
   "cell_type": "code",
   "execution_count": 9,
   "id": "6d236445",
   "metadata": {},
   "outputs": [
    {
     "name": "stdout",
     "output_type": "stream",
     "text": [
      "after put  (*table* (column1 (row1 (test (ky . 11)))))\n",
      "after put  (*table* (column1 (row1 (test (ky . 11)))) (column2 (row1 . 21)))\n",
      "get value of column2 row1\n",
      "11\n",
      "after put  (*table* (column1 (row1 (test (ky . 11)))) (column2 (row1 . 21)))"
     ]
    }
   ],
   "source": [
    "(start-test-3-25)"
   ]
  },
  {
   "cell_type": "code",
   "execution_count": null,
   "id": "2febb478",
   "metadata": {},
   "outputs": [],
   "source": []
  }
 ],
 "metadata": {
  "kernelspec": {
   "display_name": "Calysto Scheme 3",
   "language": "scheme",
   "name": "calysto_scheme"
  },
  "language_info": {
   "codemirror_mode": {
    "name": "scheme"
   },
   "mimetype": "text/x-scheme",
   "name": "scheme",
   "pygments_lexer": "scheme"
  }
 },
 "nbformat": 4,
 "nbformat_minor": 5
}
