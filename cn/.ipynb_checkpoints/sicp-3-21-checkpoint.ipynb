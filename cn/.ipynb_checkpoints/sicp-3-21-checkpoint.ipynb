{
 "cells": [
  {
   "cell_type": "markdown",
   "id": "079f4e51",
   "metadata": {},
   "source": [
    "## SICP 习题 （3.21）解题总结: 队列的实现"
   ]
  },
  {
   "cell_type": "markdown",
   "id": "1d253bfa",
   "metadata": {},
   "source": [
    "SICP习题 3.21 讨论的是队列的实现，题目的上文已经具体讲述了用列表实现队列的方式。\n",
    "\n",
    "然后题目中说Ben Bitdiddle决定对队列进行一些测试，测试的时候发现队列打印出来特别奇怪，当他往队列中加入了第一个元素a以后队列显示是这样的：\n",
    "\n",
    "    ((a) a)\n",
    "    \n",
    "当他再次插入一个新的元素b是显示的结果是这样的：\n",
    "\n",
    "    ((a b) b)\n",
    "    \n",
    "Ben觉得代码有问题，Eva告诉他这个不是问题，是因为Lisp解释器不知道怎么解释这种特殊的数据结构，所以才会这样。\n",
    "\n",
    "题目还希望我们设计一个队列的打印函数用来正确显示一个队列的元素。\n",
    "\n",
    "要分析为什么会有这种情况出现，我们先要把书里面的队列实现代码抄下来："
   ]
  },
  {
   "cell_type": "code",
   "execution_count": null,
   "id": "c1533874",
   "metadata": {},
   "outputs": [],
   "source": [
    "(define (front-ptr queue) (car queue))\n",
    "\n",
    "(define (rear-ptr queue) (cdr queue))\n",
    "\n",
    "(define (set-front-ptr! queue item) (set-car! queue item))\n",
    "\n",
    "(define (set-rear-ptr! queue item) (set-cdr! queue item))\n",
    "\n",
    "(define (empty-queue? queue) (null? (front-ptr queue)))\n",
    "\n",
    "(define (make-queue) (cons '() '()))\n",
    "\n",
    "(define (front-queue queue)\n",
    "  (if (empty-queue? queue)\n",
    "      (error \"FRONT called with an empty queue\" queue)\n",
    "      (car (front-ptr queue))))\n",
    "\n",
    "(define (insert-queue! queue item)\n",
    "  (let ((new-pair (cons item '())))\n",
    "    (cond ((empty-queue? queue)\n",
    "\t   (set-front-ptr! queue new-pair)\n",
    "\t   (set-rear-ptr! queue new-pair)\n",
    "\t   queue)\n",
    "\t  (else\n",
    "\t   (set-cdr! (rear-ptr queue) new-pair)\n",
    "\t   (set-rear-ptr! queue new-pair)\n",
    "\t   queue))))\n",
    "\n",
    "(define (delete-queue! queue)\n",
    "  (cond ((empty-queue? queue)\n",
    "\t (error \"DELETE! called with an empty queue\" queue))\n",
    "\t(else\n",
    "\t (set-front-ptr! queue (cdr (front-ptr queue)))))\n",
    "\t queue)\n",
    "\n"
   ]
  },
  {
   "cell_type": "markdown",
   "id": "380a51d4",
   "metadata": {},
   "source": [
    "然后简单测试一下，看看Ben说的现象能不能重现："
   ]
  },
  {
   "cell_type": "code",
   "execution_count": 22,
   "id": "c9f483b1",
   "metadata": {},
   "outputs": [],
   "source": [
    "(define q1 (make-queue))"
   ]
  },
  {
   "cell_type": "code",
   "execution_count": 23,
   "id": "a19a7c81",
   "metadata": {},
   "outputs": [
    {
     "data": {
      "text/plain": [
       "(())"
      ]
     },
     "execution_count": 23,
     "metadata": {},
     "output_type": "execute_result"
    }
   ],
   "source": [
    "q1"
   ]
  },
  {
   "cell_type": "code",
   "execution_count": 24,
   "id": "1130211f",
   "metadata": {},
   "outputs": [
    {
     "data": {
      "text/plain": [
       "((a) a)"
      ]
     },
     "execution_count": 24,
     "metadata": {},
     "output_type": "execute_result"
    }
   ],
   "source": [
    "(insert-queue! q1 'a)"
   ]
  },
  {
   "cell_type": "code",
   "execution_count": 25,
   "id": "b8bb86fa",
   "metadata": {},
   "outputs": [
    {
     "data": {
      "text/plain": [
       "((a b) b)"
      ]
     },
     "execution_count": 25,
     "metadata": {},
     "output_type": "execute_result"
    }
   ],
   "source": [
    "(insert-queue! q1 'b)"
   ]
  },
  {
   "cell_type": "markdown",
   "id": "91be015c",
   "metadata": {},
   "source": [
    "测试发现这个队列确实是存在Ben描述的这种情况。\n",
    "\n",
    "我们具体看看代码就会发现，这个现象出现的根本原因是我们使用了一个序对来保存队列的第一个元素和最后一个元素，Lisp解释器（在这里就是Calysto Scheme）会认为这是一个列表，所以会以列表的形式显示它，这样队的最后一个元素就会被显示两次。"
   ]
  },
  {
   "cell_type": "markdown",
   "id": "0289953a",
   "metadata": {},
   "source": [
    "为了正确显示队列的元素，我们只需要显示序对的car就好了，代码如下："
   ]
  },
  {
   "cell_type": "code",
   "execution_count": 26,
   "id": "03d2ac21",
   "metadata": {},
   "outputs": [],
   "source": [
    "(define (print-queue queue)\n",
    "  (cond ((null? queue)\n",
    "\t (error \"print-queue called with an incorrect data\" queue))\n",
    "\t(else\n",
    "\t (display (car queue)))))\n"
   ]
  },
  {
   "cell_type": "markdown",
   "id": "166c1a18",
   "metadata": {},
   "source": [
    "然后打包一个测试函数："
   ]
  },
  {
   "cell_type": "code",
   "execution_count": 27,
   "id": "a2ebb1e8",
   "metadata": {},
   "outputs": [],
   "source": [
    "(define (start-test-3-21)\n",
    "  (define q1 (make-queue))\n",
    "  \n",
    "  (display (insert-queue! q1 'a))\n",
    "  (newline)\n",
    "  (print-queue q1)\n",
    "  (newline)\n",
    "\n",
    "  (display (insert-queue! q1 'b))\n",
    "  (newline)\n",
    "  (print-queue q1)\n",
    "  (newline)\n",
    "\n",
    "  (display (delete-queue! q1))\n",
    "  (newline)\n",
    "  (print-queue q1)\n",
    "  (newline)\n",
    "\n",
    "  (display (delete-queue! q1))\n",
    "  (newline)\n",
    "  (print-queue q1)\n",
    "  (newline))"
   ]
  },
  {
   "cell_type": "code",
   "execution_count": 28,
   "id": "4ac1ba6c",
   "metadata": {},
   "outputs": [
    {
     "name": "stdout",
     "output_type": "stream",
     "text": [
      "((a) a)\n",
      "(a)\n",
      "((a b) b)\n",
      "(a b)\n",
      "((b) b)\n",
      "(b)\n",
      "(() b)\n",
      "()\n"
     ]
    }
   ],
   "source": [
    "(start-test-3-21)"
   ]
  },
  {
   "cell_type": "code",
   "execution_count": null,
   "id": "d985fe89",
   "metadata": {},
   "outputs": [],
   "source": []
  }
 ],
 "metadata": {
  "kernelspec": {
   "display_name": "Calysto Scheme 3",
   "language": "scheme",
   "name": "calysto_scheme"
  },
  "language_info": {
   "codemirror_mode": {
    "name": "scheme"
   },
   "mimetype": "text/x-scheme",
   "name": "scheme",
   "pygments_lexer": "scheme"
  }
 },
 "nbformat": 4,
 "nbformat_minor": 5
}
