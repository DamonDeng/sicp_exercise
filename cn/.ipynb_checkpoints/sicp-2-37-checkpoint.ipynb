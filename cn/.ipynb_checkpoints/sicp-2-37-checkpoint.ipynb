{
 "cells": [
  {
   "cell_type": "markdown",
   "id": "0454da55",
   "metadata": {},
   "source": [
    "## SICP 习题 （2.37）解题总结：矩阵的操作"
   ]
  },
  {
   "cell_type": "markdown",
   "id": "08dd351f",
   "metadata": {},
   "source": [
    "SICP习题2.37引入了矩阵操作，基本操作单元还是前几个习题中的accumulate。\n",
    "\n",
    "这道题本身不难，不过对于不熟悉矩阵运算的程序员来讲需要花点时间重温一下矩阵操作。如果有可能，关于线性代数的相关知识还是需要掌握，因为现在火热的深度学习的基础。\n",
    "\n",
    "题目首先提出用序列$ v = (v_i) $表示向量 $ v $, 然后就可以用序列的序列表示矩阵 $ m = (m_ij) $。举例讲就是用序列`(1 2 3 4)`表示向量\n",
    "\n",
    "$$ \\begin{bmatrix}\n",
    "1 \\\\ 2 \\\\ 3 \\\\ 4 \\end{bmatrix} $$\n",
    "\n",
    "然后用序列的序列 `((1 2 3 4 )(5 6 7 8 )(9 10 11 12)(13 14 15 16))`表示矩阵：\n",
    "\n",
    "$$ \\begin{bmatrix}\n",
    "1 & 2 & 3 & 4 \\\\\n",
    "5 & 6 & 7 & 8  \\\\\n",
    "9 & 10 & 11 & 12\\\\\n",
    "13 & 14 & 15 & 16 \\end{bmatrix} $$ \n",
    "\n"
   ]
  },
  {
   "cell_type": "markdown",
   "id": "90ff959c",
   "metadata": {},
   "source": [
    "接着题目要求我们实现向量的点乘 （dot-product）， 矩阵和向量的乘法，矩阵和矩阵的乘法，还有矩阵的转置。\n",
    "\n",
    "题目已经告诉我们(dot-product)怎么定义："
   ]
  },
  {
   "cell_type": "code",
   "execution_count": 2,
   "id": "dea90071",
   "metadata": {},
   "outputs": [],
   "source": [
    "(define (dot-product v w)\n",
    "  (accumulate + 0 (map * v w)))"
   ]
  },
  {
   "cell_type": "markdown",
   "id": "896a1441",
   "metadata": {},
   "source": [
    "其中(accumulate)是之前习题学习的，直接拷贝过来："
   ]
  },
  {
   "cell_type": "code",
   "execution_count": 4,
   "id": "f68bf223",
   "metadata": {},
   "outputs": [],
   "source": [
    "(define (accumulate op initial sequence)\n",
    "  (if (null? sequence)\n",
    "      initial\n",
    "      (op (car sequence)\n",
    "\t  (accumulate op initial (cdr sequence)))))"
   ]
  },
  {
   "cell_type": "code",
   "execution_count": 5,
   "id": "ee828245",
   "metadata": {},
   "outputs": [
    {
     "data": {
      "text/plain": [
       "70"
      ]
     },
     "execution_count": 5,
     "metadata": {},
     "output_type": "execute_result"
    }
   ],
   "source": [
    "(dot-product '(1 2 3 4) '(5 6 7 8))"
   ]
  },
  {
   "cell_type": "markdown",
   "id": "fd5140d9",
   "metadata": {},
   "source": [
    "然后题目让我们填写以下函数模版中缺失的部分，以实现矩阵和向量的乘法，矩阵的乘法，还有矩阵的转置：\n",
    "\n",
    "    (define (matrix-*-vector m v)\n",
    "      (map <??>\n",
    "           m))\n",
    "\n",
    "    (define (transpose mat)\n",
    "      (accumulate-n <> <> mat))\n",
    "\n",
    "    (define (matrix-*-matrix m n)\n",
    "      (let ((cols (transpose n)))\n",
    "        (map <??> \n",
    "            m)))"
   ]
  },
  {
   "cell_type": "markdown",
   "id": "6f23cdb2",
   "metadata": {},
   "source": [
    "先看矩阵和向量的乘法，其实就是把第一个参数中的矩阵中的每一行拿出来和第二个参数中的向量进行点乘："
   ]
  },
  {
   "cell_type": "code",
   "execution_count": 6,
   "id": "962fdbcc",
   "metadata": {},
   "outputs": [],
   "source": [
    "(define (matrix-*-vector m v)\n",
    "  (map (lambda (i)\n",
    "\t (dot-product i v))\n",
    "       m))"
   ]
  },
  {
   "cell_type": "code",
   "execution_count": 8,
   "id": "3370633a",
   "metadata": {},
   "outputs": [
    {
     "data": {
      "text/plain": [
       "(12 30 48)"
      ]
     },
     "execution_count": 8,
     "metadata": {},
     "output_type": "execute_result"
    }
   ],
   "source": [
    "(matrix-*-vector '((1 2 3) (4 5 6) (7 8 9)) '(2 2 2))"
   ]
  },
  {
   "cell_type": "markdown",
   "id": "05f08284",
   "metadata": {},
   "source": [
    "再看(transpose)的实现，题干已经帮我们定义好了代码框架，使用之前习题定义的(accumulate-n)函数。\n",
    "\n",
    "回顾一下(accumulate-n)函数，和(accumulate)类似，不过输入的是序列的序列，该函数会依次对序列中所有第1个元素进行累积，然后对所有第2个元素进行累积。。。。\n",
    "\n",
    "这个恰好就是矩阵转置需要用到的，矩阵的转置就是取每一行的第一元素，组合成新矩阵的第一行，去每一行的第2个元素，组合成新矩阵的第二行。。。。\n",
    "\n",
    "所以解题就很简单了，需要做的累积就是把元素组织成序列，代码如下："
   ]
  },
  {
   "cell_type": "code",
   "execution_count": 13,
   "id": "c9084509",
   "metadata": {},
   "outputs": [],
   "source": [
    "(define (accumulate-n op init seqs)\n",
    "  (if (null?  (car seqs))\n",
    "      '()\n",
    "      (cons (accumulate op init (map car seqs))\n",
    "\t    (accumulate-n op init (map cdr seqs)))))\n",
    "\n"
   ]
  },
  {
   "cell_type": "code",
   "execution_count": 14,
   "id": "515f7bf5",
   "metadata": {},
   "outputs": [],
   "source": [
    "(define (transpose mat)\n",
    "  (accumulate-n cons '() mat))"
   ]
  },
  {
   "cell_type": "code",
   "execution_count": 15,
   "id": "adde418b",
   "metadata": {},
   "outputs": [
    {
     "data": {
      "text/plain": [
       "((1 4 7) (2 5 8) (3 6 9))"
      ]
     },
     "execution_count": 15,
     "metadata": {},
     "output_type": "execute_result"
    }
   ],
   "source": [
    "(transpose '((1 2 3) (4 5 6) (7 8 9)))"
   ]
  },
  {
   "cell_type": "markdown",
   "id": "e5a366a8",
   "metadata": {},
   "source": [
    "接着， 矩阵和矩阵的乘法就可以使用刚才定义的(matrix-*-vector)和(transpose)了，\n",
    "\n",
    "注意这里受之前定义的函数的限制，在处理矩阵乘法时把第二个矩阵转置，然后逐行取第一个矩阵的元素，执行矩阵和向量的乘法，这个和常规的讲解矩阵乘法不一样，虽然结果是一样的。\n",
    "\n",
    "因为题干已经作了这个限制，就不修改了，代码如下："
   ]
  },
  {
   "cell_type": "code",
   "execution_count": 22,
   "id": "7ca1a64a",
   "metadata": {},
   "outputs": [],
   "source": [
    "(define (matrix-*-matrix m n)\n",
    "  (let ((cols (transpose n)))\n",
    "    (map (lambda (i)\n",
    "\t   (matrix-*-vector cols i)) \n",
    "\t    m)))"
   ]
  },
  {
   "cell_type": "code",
   "execution_count": 25,
   "id": "82bfe5b1",
   "metadata": {},
   "outputs": [
    {
     "data": {
      "text/plain": [
       "((7 10) (15 22))"
      ]
     },
     "execution_count": 25,
     "metadata": {},
     "output_type": "execute_result"
    }
   ],
   "source": [
    "(matrix-*-matrix '((1 2)(3 4)) '((1 2) (3 4)))"
   ]
  },
  {
   "cell_type": "markdown",
   "id": "651a3cdb",
   "metadata": {},
   "source": [
    "用下面分拆的调用比较容易看清楚："
   ]
  },
  {
   "cell_type": "code",
   "execution_count": 23,
   "id": "2fb704d7",
   "metadata": {},
   "outputs": [
    {
     "data": {
      "text/plain": [
       "((1 3) (2 4))"
      ]
     },
     "execution_count": 23,
     "metadata": {},
     "output_type": "execute_result"
    }
   ],
   "source": [
    "(transpose '((1 2) (3 4)))"
   ]
  },
  {
   "cell_type": "code",
   "execution_count": 24,
   "id": "e88a0b90",
   "metadata": {},
   "outputs": [
    {
     "data": {
      "text/plain": [
       "(7 10)"
      ]
     },
     "execution_count": 24,
     "metadata": {},
     "output_type": "execute_result"
    }
   ],
   "source": [
    "(matrix-*-vector '((1 3) (2 4)) '(1 2))"
   ]
  },
  {
   "cell_type": "code",
   "execution_count": null,
   "id": "313b8362",
   "metadata": {},
   "outputs": [],
   "source": []
  }
 ],
 "metadata": {
  "kernelspec": {
   "display_name": "Calysto Scheme 3",
   "language": "scheme",
   "name": "calysto_scheme"
  },
  "language_info": {
   "codemirror_mode": {
    "name": "scheme"
   },
   "mimetype": "text/x-scheme",
   "name": "scheme",
   "pygments_lexer": "scheme"
  }
 },
 "nbformat": 4,
 "nbformat_minor": 5
}
