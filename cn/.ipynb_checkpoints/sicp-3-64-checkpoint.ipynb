{
 "cells": [
  {
   "cell_type": "markdown",
   "id": "079f4e51",
   "metadata": {},
   "source": [
    "## title"
   ]
  },
  {
   "cell_type": "code",
   "execution_count": 1,
   "id": "51239efd",
   "metadata": {},
   "outputs": [],
   "source": [
    "(define (stream-limit s tolerance)\n",
    "  (define (inter-limit inter-s last-one inter-tolerance)\n",
    "    (if (stream-null? inter-s)\n",
    "\tlast-one\n",
    "\t(let ((current-one (stream-car inter-s)))\n",
    "\t  (if (> inter-tolerance (abs (- current-one last-one)))\n",
    "\t      current-one\n",
    "\t      (inter-limit (stream-cdr inter-s) current-one inter-tolerance)))))\n",
    "  (inter-limit s (+ (stream-car s) (* tolerance 10)) tolerance))"
   ]
  },
  {
   "cell_type": "code",
   "execution_count": null,
   "id": "967b7f49",
   "metadata": {},
   "outputs": [],
   "source": []
  }
 ],
 "metadata": {
  "kernelspec": {
   "display_name": "Calysto Scheme 3",
   "language": "scheme",
   "name": "calysto_scheme"
  },
  "language_info": {
   "codemirror_mode": {
    "name": "scheme"
   },
   "mimetype": "text/x-scheme",
   "name": "scheme",
   "pygments_lexer": "scheme"
  }
 },
 "nbformat": 4,
 "nbformat_minor": 5
}
