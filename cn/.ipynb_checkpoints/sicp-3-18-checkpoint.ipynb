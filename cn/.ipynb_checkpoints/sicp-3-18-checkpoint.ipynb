{
 "cells": [
  {
   "cell_type": "markdown",
   "id": "079f4e51",
   "metadata": {},
   "source": [
    "## SICP 习题 （3.18）解题总结: 环路的检测"
   ]
  },
  {
   "cell_type": "markdown",
   "id": "2f90630b",
   "metadata": {},
   "source": [
    "SICP 习题 3.18 要求我们检测一个列表是否包含环路，就是对一个列表不断执行cdr会不会一直循环下去。\n",
    "\n",
    "关于环路我们在习题3.13里已经讨论过，它可以用下面的(make-cycle)函数创建："
   ]
  },
  {
   "cell_type": "code",
   "execution_count": 30,
   "id": "51239efd",
   "metadata": {},
   "outputs": [],
   "source": [
    "(define (make-cycle x)\n",
    "  (set-cdr! (last-pair x) x)\n",
    "  x)\n",
    "\n",
    "\n",
    "(define (last-pair x)\n",
    "  (if (null? (cdr x))\n",
    "      x\n",
    "      (last-pair (cdr x))))"
   ]
  },
  {
   "cell_type": "markdown",
   "id": "b551d2b9",
   "metadata": {},
   "source": [
    "要检测环路，主要是看遍历过程中是不是总是遇到同一个元素。但是要注意，我们要检查是不是通过同一个路径不断到达这个元素，我们不能简单地认为看见一个之前看过的元素就是形成了环路。\n",
    "\n",
    "简单的思路就是在行进过程中不断记录自己走过的元素，如果遇到分支的话要分别创建不同分支的路径，不同分支不能共享一个路径数据，不然的话两个分支指向同一个元素也会被误认为是形成环路。\n",
    "\n",
    "为不同的分支创建不同的路径听起来挺复杂，但是我们可以利用递归调用的变量处理能力自动完成这个工作。\n",
    "\n",
    "主体代码如下："
   ]
  },
  {
   "cell_type": "code",
   "execution_count": 31,
   "id": "426bc439",
   "metadata": {},
   "outputs": [],
   "source": [
    "(define (loop-detect x track-path)\n",
    "  (if (not (pair? x))\n",
    "      #f\n",
    "      (if (element-of-set? x track-path)\n",
    "          #t\n",
    "          (or (loop-detect (car x) (adjoin-set x track-path))\n",
    "              (loop-detect (cdr x) (adjoin-set x track-path))))))"
   ]
  },
  {
   "cell_type": "markdown",
   "id": "94d14f74",
   "metadata": {},
   "source": [
    "为了记录和检测元素，我们还是需要之前创建的set的处理代码："
   ]
  },
  {
   "cell_type": "code",
   "execution_count": 32,
   "id": "817341f8",
   "metadata": {},
   "outputs": [],
   "source": [
    "(define (element-of-set? x set)\n",
    "  (cond ((null? set) #f)\n",
    "\t((eq? x (car set)) #t)\n",
    "\t(else (element-of-set? x (cdr set)))))\n",
    "\n",
    "(define (adjoin-set x set)\n",
    "  (if (element-of-set? x set)\n",
    "      set\n",
    "      (cons x set)))"
   ]
  },
  {
   "cell_type": "markdown",
   "id": "6623f514",
   "metadata": {},
   "source": [
    "先测试一下不是环路但是有共享元素的情况："
   ]
  },
  {
   "cell_type": "code",
   "execution_count": 33,
   "id": "b9986b42",
   "metadata": {},
   "outputs": [
    {
     "data": {
      "text/plain": [
       "#f"
      ]
     },
     "execution_count": 33,
     "metadata": {},
     "output_type": "execute_result"
    }
   ],
   "source": [
    "(define leaf (cons 1 2))\n",
    "(define to-same-leaf (cons leaf leaf))\n",
    "(define test-sample (cons to-same-leaf leaf))\n",
    "(loop-detect test-sample '(0))"
   ]
  },
  {
   "cell_type": "markdown",
   "id": "6a59b0fc",
   "metadata": {},
   "source": [
    "然后用make-cycle创建一个环路样例进行测试："
   ]
  },
  {
   "cell_type": "code",
   "execution_count": 34,
   "id": "5d2ad3f5",
   "metadata": {},
   "outputs": [],
   "source": [
    "(define cycle-sample (make-cycle '(1 2 3 4)))"
   ]
  },
  {
   "cell_type": "code",
   "execution_count": 35,
   "id": "d87c37eb",
   "metadata": {},
   "outputs": [
    {
     "data": {
      "text/plain": [
       "#t"
      ]
     },
     "execution_count": 35,
     "metadata": {},
     "output_type": "execute_result"
    }
   ],
   "source": [
    "(loop-detect cycle-sample '(0))"
   ]
  },
  {
   "cell_type": "code",
   "execution_count": null,
   "id": "60d2830b",
   "metadata": {},
   "outputs": [],
   "source": []
  }
 ],
 "metadata": {
  "kernelspec": {
   "display_name": "Calysto Scheme 3",
   "language": "scheme",
   "name": "calysto_scheme"
  },
  "language_info": {
   "codemirror_mode": {
    "name": "scheme"
   },
   "mimetype": "text/x-scheme",
   "name": "scheme",
   "pygments_lexer": "scheme"
  }
 },
 "nbformat": 4,
 "nbformat_minor": 5
}
