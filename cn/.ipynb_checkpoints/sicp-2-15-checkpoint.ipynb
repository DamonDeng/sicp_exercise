{
 "cells": [
  {
   "cell_type": "markdown",
   "id": "0454da55",
   "metadata": {},
   "source": [
    "## SICP 习题 （2.15）解题总结：区间误差的深入思考"
   ]
  },
  {
   "cell_type": "markdown",
   "id": "4f163f4d",
   "metadata": {},
   "source": [
    "SICP 习题 2.15 是接着 题目 2.14 的， 题目 2.14中提到了Alyssa设计的区间计算模块在并联电阻计算时会出现问题，这个问题是Lem发现的。接着，一个叫Eva的人也发现了这个问题，同时她还有更深入的思考。\n",
    "\n",
    "\n",
    "Eva觉得，如果一个公式可以写成一种形式，其中具有非准确性的变量不重复出现，那么Alyssa的系统产生的区间的限界会更紧一些。\n",
    "\n",
    "因此，她觉得在计算并联电阻时，公式“1/（1/R1 ＋ 1/R2）”比公式“(R1*R2)/ (R1 + R2)”要更好一些。\n",
    "\n",
    "\n",
    "题目要求我们去看看Eva说的对不对。\n",
    "\n",
    "\n",
    "\n",
    "要理解题目的意思有点困难，主要是不知道这里的“具有非准确性的变量”什么意思。\n",
    "\n",
    "不过我们可以根据我们在习题2.14中观察到的现象来做一个直观的推断。\n",
    "\n",
    "我们在习题2.14中发现，Alyssa的区间除法会出现问题，两个区间相除会扩大误差。\n",
    "\n",
    "不过，一个值得注意的是，实现公式“1/（1/R1 ＋ 1/R2）”时Lem定义了一个叫one的区间，值是(1 1)，这是一个确定区间，没有误差，在区间除法中使用它是不会带来误差扩大的问题的。\n",
    "\n",
    "比如one/(100 200)，就是\n",
    "\n",
    "\n",
    "    (1 1) / (100 200)\n",
    "\n",
    "    => (1 1) * (1/100  1/200)\n",
    "\n",
    "\n",
    "    => (1/100  1/200)\n",
    "\n",
    "\n",
    "进一步计算one / (one / (100 200))的话，就是\n",
    "\n",
    "     (1 1) /  (1/100  1/200)\n",
    "\n",
    "    (1 1) * (100 200)\n",
    "\n",
    "    (100 200)\n",
    "\n",
    "\n",
    "也就是说，如果我们有定义区间one为(1 1)，那么one/(one/A)还是A，不会带来区间误差变大的问题。\n",
    "\n",
    "\n",
    "所以，就如题目2.15提到的，使用了one的程序part2是一个比较好的程序。\n",
    "\n",
    "\n",
    "\n"
   ]
  },
  {
   "cell_type": "code",
   "execution_count": null,
   "id": "0fd593f8",
   "metadata": {},
   "outputs": [],
   "source": []
  },
  {
   "cell_type": "code",
   "execution_count": null,
   "id": "c8173935",
   "metadata": {},
   "outputs": [],
   "source": []
  }
 ],
 "metadata": {
  "kernelspec": {
   "display_name": "Calysto Scheme 3",
   "language": "scheme",
   "name": "calysto_scheme"
  },
  "language_info": {
   "codemirror_mode": {
    "name": "scheme"
   },
   "mimetype": "text/x-scheme",
   "name": "scheme",
   "pygments_lexer": "scheme"
  }
 },
 "nbformat": 4,
 "nbformat_minor": 5
}
