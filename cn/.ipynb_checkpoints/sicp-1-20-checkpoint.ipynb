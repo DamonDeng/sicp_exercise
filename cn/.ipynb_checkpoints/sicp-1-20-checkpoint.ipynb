{
 "cells": [
  {
   "cell_type": "markdown",
   "id": "72db9e4f",
   "metadata": {},
   "source": [
    "## SICP 习题 (1.20) 解题总结"
   ]
  },
  {
   "cell_type": "markdown",
   "id": "5f5fdffc",
   "metadata": {},
   "source": [
    "SICP 习题 1.20 又回去讲正则序和应用序了，题目主要是考察书中提到的求最大公约数的过程gcd，问正则序中(gcd 206 40)调用了几次remainder，而应用序中(gcd 206 40)又调用了几次remainder。"
   ]
  },
  {
   "cell_type": "markdown",
   "id": "c0fd5319",
   "metadata": {},
   "source": [
    "gcd过程的定义如下："
   ]
  },
  {
   "cell_type": "code",
   "execution_count": 1,
   "id": "2ac7dc85",
   "metadata": {},
   "outputs": [],
   "source": [
    "(define (gcd a b)\n",
    "\t(if (= b 0)\n",
    "\t\ta\n",
    "\t\t(gcd b (remainder a b))))"
   ]
  },
  {
   "cell_type": "markdown",
   "id": "084355ef",
   "metadata": {},
   "source": [
    "对于（gcd 206 40)来讲，如果是正则序，展开应该是这样的："
   ]
  },
  {
   "cell_type": "code",
   "execution_count": 2,
   "id": "b0b16550",
   "metadata": {},
   "outputs": [],
   "source": [
    ";; (if (= 40 0)\n",
    ";; \t206\n",
    ";; \t(gcd 40 (remainder 206 40)))"
   ]
  },
  {
   "cell_type": "markdown",
   "id": "8c0b2248",
   "metadata": {},
   "source": [
    "现在的关键在于对`(gcd 40 (remainder 206 40))`的展开。\n",
    "\n",
    "从过程调用我们知道：\n",
    "\n",
    "    a = 40 \n",
    "    b = (remainder 206 40)\n",
    "\n",
    "再看过程gcd的定义："
   ]
  },
  {
   "cell_type": "code",
   "execution_count": 3,
   "id": "0789e57a",
   "metadata": {},
   "outputs": [],
   "source": [
    "(define (gcd a b)\n",
    "\t(if (= b 0)\n",
    "\t\ta\n",
    "\t\t(gcd b (remainder a b))))"
   ]
  },
  {
   "cell_type": "markdown",
   "id": "f0deeb76",
   "metadata": {},
   "source": [
    "每次gcd的调用如果展开的话会包含三次使用b的过程，将`(remainder 206 40)`代入b中就得到第二次展开的gcd过程。\n",
    "\n",
    "结果是："
   ]
  },
  {
   "cell_type": "code",
   "execution_count": 4,
   "id": "96a18f8f",
   "metadata": {},
   "outputs": [],
   "source": [
    ";; （if (= (remainder 206 40) 0)\n",
    ";; \t40\n",
    ";; \t(gcd (remainder 206 40) \n",
    ";; \t\t\t(remainder a (remainder 206 40))))"
   ]
  },
  {
   "cell_type": "markdown",
   "id": "74aef37a",
   "metadata": {},
   "source": [
    "通过这样的方法不断展开就可以得到正则序下`(gcd 206 40)`到底调用了几次remainder过程。\n",
    "\n",
    "而应用序就很简单了，因为`(gcd 206 40)`展开成：\n",
    "\n",
    "    （if (= 40 0)\n",
    "            206\n",
    "            (gcd 40 (remainder 206 40)))\n",
    "\n",
    "对(remainder 206 40)先求值再代入，变成：\n",
    "\n",
    "\t（if (= 40 0)\n",
    "\t\t206\n",
    "\t\t(gcd 40 6))\n",
    "\n",
    "然后继续对`(gcd 40 6)`进行展开，每次展开只调用了一次remainder。\n",
    "\n",
    "这个题目再次说明应用序在一般情况下其效率都优于正则序。"
   ]
  }
 ],
 "metadata": {
  "kernelspec": {
   "display_name": "Calysto Scheme 3",
   "language": "scheme",
   "name": "calysto_scheme"
  },
  "language_info": {
   "codemirror_mode": {
    "name": "scheme"
   },
   "mimetype": "text/x-scheme",
   "name": "scheme",
   "pygments_lexer": "scheme"
  }
 },
 "nbformat": 4,
 "nbformat_minor": 5
}
