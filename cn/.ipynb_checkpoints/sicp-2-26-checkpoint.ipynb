{
 "cells": [
  {
   "cell_type": "markdown",
   "id": "0454da55",
   "metadata": {},
   "source": [
    "## SICP 习题 （2.26）解题总结：列表操作符append cons list"
   ]
  },
  {
   "cell_type": "markdown",
   "id": "e70e83a1",
   "metadata": {},
   "source": [
    "SICP  习题 2.26 也是不需要太多解释的题目, 题目的主要目的是让读者理解append cons list三个操作的差别。\n",
    "\n",
    "直接运行下面代码中的start-test-2-26过程就可以了，需要留意一下的是append 过程， cons过程和list过程的使用。\n",
    "\n",
    "最好翻一下mit-schme的参考手册，对了，一直没有提mit-scheme的手册，建议大家去下载一份备用，需要的时候查一查\n",
    "\n",
    "链接如下：\n",
    "\n",
    "http://www.gnu.org/software/mit-scheme/\n",
    "\n",
    "有pdf版可以下载。\n",
    "\n",
    "下面是测试代码，建议自己写一遍，不要抄我的。\n"
   ]
  },
  {
   "cell_type": "code",
   "execution_count": 1,
   "id": "c55d67e6",
   "metadata": {},
   "outputs": [],
   "source": [
    "(define x (list 1 2 3))\n",
    "\n",
    "(define y (list 4 5 6))\n",
    "\n",
    "(define (start-test-2-26)\n",
    "  (display (append x y))\n",
    "  (newline)\n",
    "  (display (cons x y))\n",
    "  (newline)\n",
    "  (display (list x y)))"
   ]
  },
  {
   "cell_type": "code",
   "execution_count": 2,
   "id": "c634f2ce",
   "metadata": {},
   "outputs": [
    {
     "name": "stdout",
     "output_type": "stream",
     "text": [
      "(1 2 3 4 5 6)\n",
      "((1 2 3) 4 5 6)\n",
      "((1 2 3) (4 5 6))"
     ]
    }
   ],
   "source": [
    "(start-test-2-26)"
   ]
  }
 ],
 "metadata": {
  "kernelspec": {
   "display_name": "Calysto Scheme 3",
   "language": "scheme",
   "name": "calysto_scheme"
  },
  "language_info": {
   "codemirror_mode": {
    "name": "scheme"
   },
   "mimetype": "text/x-scheme",
   "name": "scheme",
   "pygments_lexer": "scheme"
  }
 },
 "nbformat": 4,
 "nbformat_minor": 5
}
