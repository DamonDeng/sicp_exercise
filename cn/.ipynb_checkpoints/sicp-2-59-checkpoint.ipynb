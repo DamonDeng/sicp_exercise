{
 "cells": [
  {
   "cell_type": "markdown",
   "id": "0454da55",
   "metadata": {},
   "source": [
    "## SICP 习题 （2.59）解题总结：集合的构建和处理"
   ]
  },
  {
   "cell_type": "markdown",
   "id": "25716817",
   "metadata": {},
   "source": [
    "SICP习题2.59又回到我们程序员们熟悉的领域，关于数据结构的问题，第一个要处理的是集合\n",
    "\n"
   ]
  },
  {
   "cell_type": "markdown",
   "id": "3c27cf2e",
   "metadata": {},
   "source": [
    "书中给出了基本的集合操作,包括判断元素是否在集合中，给集合添加一个元素，求两个集合的交集等："
   ]
  },
  {
   "cell_type": "code",
   "execution_count": 7,
   "id": "6a1ad496",
   "metadata": {},
   "outputs": [],
   "source": [
    "(define (element-of-set? x set)\n",
    "  (cond ((null? set) #f)\n",
    "\t((equal? x (car set)) #t)\n",
    "\t(else (element-of-set? x (cdr set)))))\n",
    "\n",
    "(define (adjoin-set x set)\n",
    "  (if (element-of-set? x set)\n",
    "      set\n",
    "      (cons x set)))\n",
    "\n",
    "(define (intersection-set set1 set2)\n",
    "  (cond ((or (null? set1) (null? set2)) '())\n",
    "\t((element-of-set? (car set1) set2)\n",
    "\t (cons (car set1)\n",
    "\t       (intersection-set (cdr set1) set2)))\n",
    "\t(else (intersection-set (cdr set1) set2))))"
   ]
  },
  {
   "cell_type": "code",
   "execution_count": 8,
   "id": "81999918",
   "metadata": {},
   "outputs": [
    {
     "data": {
      "text/plain": [
       "#t"
      ]
     },
     "execution_count": 8,
     "metadata": {},
     "output_type": "execute_result"
    }
   ],
   "source": [
    "(element-of-set? 'a '(b c a))"
   ]
  },
  {
   "cell_type": "code",
   "execution_count": 9,
   "id": "dc2aeacb",
   "metadata": {},
   "outputs": [
    {
     "data": {
      "text/plain": [
       "(a b c d e f g)"
      ]
     },
     "execution_count": 9,
     "metadata": {},
     "output_type": "execute_result"
    }
   ],
   "source": [
    "(adjoin-set 'a '(b c d e f g))"
   ]
  },
  {
   "cell_type": "code",
   "execution_count": 10,
   "id": "5e97b0f5",
   "metadata": {},
   "outputs": [
    {
     "data": {
      "text/plain": [
       "(b c)"
      ]
     },
     "execution_count": 10,
     "metadata": {},
     "output_type": "execute_result"
    }
   ],
   "source": [
    "(intersection-set '(a b c) '(b c d k k ))"
   ]
  },
  {
   "cell_type": "markdown",
   "id": "dfc1b941",
   "metadata": {},
   "source": [
    "题目要求我们定义(union-set)函数求两个集合的并集。\n",
    "\n",
    "基本思路就是先看set1是否为空，是的话并集就是set2\n",
    "\n",
    "如果set1不为空，就逐个看set1的元素是否是set2的元素，不是的话就加到set2里："
   ]
  },
  {
   "cell_type": "code",
   "execution_count": 13,
   "id": "314adc2f",
   "metadata": {},
   "outputs": [],
   "source": [
    "\n",
    "\n",
    "(define (union-set set1 set2)\n",
    "  (cond ((null? set1) set2)\n",
    "\t((element-of-set? (car set1) set2)\n",
    "\t (union-set (cdr set1) set2))\n",
    "\t(else\n",
    "\t (cons (car set1) (union-set (cdr set1) set2)))))\n"
   ]
  },
  {
   "cell_type": "code",
   "execution_count": 14,
   "id": "5ab0ab6f",
   "metadata": {},
   "outputs": [
    {
     "data": {
      "text/plain": [
       "(a b c d k k)"
      ]
     },
     "execution_count": 14,
     "metadata": {},
     "output_type": "execute_result"
    }
   ],
   "source": [
    "(union-set '(a b c) '(b c d k k))"
   ]
  },
  {
   "cell_type": "code",
   "execution_count": null,
   "id": "7ff5fab2",
   "metadata": {},
   "outputs": [],
   "source": []
  }
 ],
 "metadata": {
  "kernelspec": {
   "display_name": "Calysto Scheme 3",
   "language": "scheme",
   "name": "calysto_scheme"
  },
  "language_info": {
   "codemirror_mode": {
    "name": "scheme"
   },
   "mimetype": "text/x-scheme",
   "name": "scheme",
   "pygments_lexer": "scheme"
  }
 },
 "nbformat": 4,
 "nbformat_minor": 5
}
