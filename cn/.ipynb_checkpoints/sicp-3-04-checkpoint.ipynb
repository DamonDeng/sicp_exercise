{
 "cells": [
  {
   "cell_type": "markdown",
   "id": "079f4e51",
   "metadata": {},
   "source": [
    "## SICP 习题 （3.4）解题总结: 给账号绑个110  "
   ]
  },
  {
   "cell_type": "markdown",
   "id": "daa4c9fc",
   "metadata": {},
   "source": [
    "SICP 习题 3.4 要求我们修改 3.3的(make-account)函数，增加一个输错密码的计数器，输错7次密码就打110报警。\n",
    "\n",
    "当然，这个只是个样例，没有真的对接电话接口。\n",
    "\n",
    "同样，代码没有特别需要讲解的："
   ]
  },
  {
   "cell_type": "code",
   "execution_count": 1,
   "id": "51239efd",
   "metadata": {},
   "outputs": [],
   "source": [
    "(define (make-account balance account-password)\n",
    "  (define illegal-access-times 0)\n",
    "  (define (withdraw amount)\n",
    "    (if (>= balance amount)\n",
    "\t(begin (set! balance (- balance amount))\n",
    "\t       balance)\n",
    "\t\"insufficient funds\"))\n",
    "  (define (deposit amount)\n",
    "    (set! balance (+ balance amount))\n",
    "    balance)\n",
    "\n",
    "  (define (wrongpassword amount)\n",
    "    (if (< illegal-access-times 7)\n",
    "\t(begin (set! illegal-access-times (+ illegal-access-times 1))\n",
    "\t\"incorrect password\")\n",
    "\t(begin \n",
    "\t  (call-the-cops)\n",
    "\t  \"incorrect password (and you don't know that I will call a cop)\")))\n",
    "\n",
    "  (define (call-the-cops)\n",
    "    (display \" cops are comming\"))\n",
    "\n",
    "  (define (rightpassword)\n",
    "    (set! illegal-access-times 0))\n",
    "\n",
    "  (define (dispatch password m)\n",
    "\n",
    "    (if (not (equal? password account-password))\n",
    "\twrongpassword\n",
    "\t(begin\n",
    "\t  (rightpassword)\n",
    "\t  (cond ((eq? m 'withdraw) withdraw)\n",
    "\t\t((eq? m 'deposit) deposit)\n",
    "\t\t(else (error \"unknow request -- Make-Account\"\n",
    "\t\t\t     m))))))\n",
    "  dispatch)"
   ]
  },
  {
   "cell_type": "code",
   "execution_count": 2,
   "id": "b49080f4",
   "metadata": {},
   "outputs": [],
   "source": [
    "(define (start-test-3-4)\n",
    "  (define acc (make-account 100 'my-password))\n",
    "  ((acc 'other-password 'deposit) 50)\n",
    "  ((acc 'other-password 'deposit) 50)\n",
    "  ((acc 'other-password 'deposit) 50)\n",
    "  ((acc 'other-password 'deposit) 50)\n",
    "  ((acc 'other-password 'deposit) 50)\n",
    "  ((acc 'other-password 'deposit) 50)\n",
    "  ((acc 'other-password 'deposit) 50)\n",
    "  ((acc 'other-password 'deposit) 50)\n",
    "  \n",
    "  )"
   ]
  },
  {
   "cell_type": "code",
   "execution_count": 3,
   "id": "02ac1d4c",
   "metadata": {},
   "outputs": [
    {
     "name": "stdout",
     "output_type": "stream",
     "text": [
      " cops are comming"
     ]
    },
    {
     "data": {
      "text/plain": [
       "\"incorrect password (and you don't know that I will call a cop)\""
      ]
     },
     "execution_count": 3,
     "metadata": {},
     "output_type": "execute_result"
    }
   ],
   "source": [
    "(start-test-3-4)"
   ]
  },
  {
   "cell_type": "code",
   "execution_count": null,
   "id": "b3ed6f35",
   "metadata": {},
   "outputs": [],
   "source": []
  }
 ],
 "metadata": {
  "kernelspec": {
   "display_name": "Calysto Scheme 3",
   "language": "scheme",
   "name": "calysto_scheme"
  },
  "language_info": {
   "codemirror_mode": {
    "name": "scheme"
   },
   "mimetype": "text/x-scheme",
   "name": "scheme",
   "pygments_lexer": "scheme"
  }
 },
 "nbformat": 4,
 "nbformat_minor": 5
}
