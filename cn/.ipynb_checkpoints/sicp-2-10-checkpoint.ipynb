{
 "cells": [
  {
   "cell_type": "markdown",
   "id": "0454da55",
   "metadata": {},
   "source": [
    "SICP 习题 （2.10）解题总结: 区间除法中除于零的问题"
   ]
  },
  {
   "cell_type": "markdown",
   "id": "e81c639d",
   "metadata": {},
   "source": [
    "SICP 习题 2.10 要求我们处理区间除法运算中除于零的问题。\n",
    "\n",
    "题中讲到一个专业程序员Ben Bitdiddle看了Alyssa的工作后提出了除于零的问题，大家留意一下这个叫Ben的人，后面会不断出现这个人，只要是这个人提到的事情一般是对的，他的角色定位是个计算机牛人，不过是办公室经常能看到的那种牛人，后面还有更牛的。\n",
    "\n",
    "对于区间运算的除于零的问题，处理起来也比较简单，只需要判断除数是不是为零，除数为零就报错。对于一个区间来讲，所谓为零就是这个区间横跨0，再直接一点讲就是起点是负数，终点是正数。\n",
    "\n",
    "理解了以后写代码就很简单了："
   ]
  },
  {
   "cell_type": "code",
   "execution_count": 11,
   "id": "a031ecb9",
   "metadata": {},
   "outputs": [],
   "source": [
    "(define (div-interval x y)\n",
    "  (if (< (* (upper-bound y) (lower-bound y)) 0)\n",
    "      (error \"div-interval\" \"Div 0: the input y is ~s\" y))\n",
    "  (mul-interval x\n",
    "\t\t(make-interval (/ 1.0 (upper-bound y))\n",
    "\t\t\t       (/ 1.0 (lower-bound y)))))"
   ]
  },
  {
   "cell_type": "markdown",
   "id": "66cc00e9",
   "metadata": {},
   "source": [
    "\n",
    "好，解题结束。\n"
   ]
  },
  {
   "cell_type": "code",
   "execution_count": 12,
   "id": "ff834ae6",
   "metadata": {},
   "outputs": [],
   "source": [
    "(define (make-interval a b)\n",
    "  (cons a b))\n",
    "\n",
    "(define (lower-bound x)\n",
    "  (car x))\n",
    "\n",
    "(define (upper-bound x)\n",
    "  (cdr x))\n",
    "\n",
    "\n",
    "(define (add-interval x y)\n",
    "  (make-interval (+ (lower-bound x) (lower-bound y))\n",
    "\t\t (+ (upper-bound x) (upper-bound y))))\n",
    "\n",
    "(define (sub-interval x y)\n",
    "  (make-interval (- (lower-bound x) (lower-bound y))\n",
    "\t\t (- (upper-bound x) (upper-bound y))))\n",
    "\n",
    "\n",
    "\n",
    "\n",
    "(define (mul-interval x y)\n",
    "  (if (> (lower-bound x) 0)\n",
    "      (if (> (lower-bound y) 0)\n",
    "\t  (make-interval (* (lower-bound x) (lower-bound y)) (* (upper-bound x) (upper-bound y)))\n",
    "\t  (if (> (upper-bound y) 0)\n",
    "\t      (make-interval (* (upper-bound x) (lower-bound y)) (* (upper-bound x) (upper-bound y)))\n",
    "\t      (make-interval (* (lower-bound x) (upper-bound y)) (* (lower-bound x) (upper-bound y)))))\n",
    "      (if (> (upper-bound x) 0)\n",
    "\t  (if (> (lower-bound y) 0)\n",
    "\t      (make-interval (* (lower-bound x) (upper-bound y)) (* (upper-bound x) (upper-bound y)))\n",
    "\t      (if (> (upper-bound y) 0)\n",
    "\t\t  (make-interval (* (lower-bound x) (lower-bound y)) \n",
    "\t\t\t\t (* (upper-bound x) (upper-bound y)))\n",
    "\t\t  (make-interval (* (lower-bound x) (lower-bound y))\n",
    "\t\t\t\t (* (upper-bound x) (upper-bound y)))))\n",
    "\t  (if (> (lower-bound y) 0)\n",
    "\t      (make-interval (* (lower-bound x) (lower-bound y)) (* (upper-bound x) (upper-bound y)))\n",
    "\t      (if (> (upper-bound y) 0)\n",
    "\t\t  (make-interval (* (lower-bound x) (lower-bound y)) \n",
    "\t\t\t\t (* (upper-bound x) (upper-bound y)))\n",
    "\t\t  (make-interval (* (lower-bound x) (lower-bound y)) \n",
    "\t\t\t\t (* (upper-bound x) (upper-bound y))))) )))\n",
    "\n",
    "\n",
    "(define (div-interval x y)\n",
    "  (if (< (* (upper-bound y) (lower-bound y)) 0)\n",
    "      (error \"div-interval\" \"Div 0: the input y is ~s\" y))\n",
    "  (mul-interval x\n",
    "\t\t(make-interval (/ 1.0 (upper-bound y))\n",
    "\t\t\t       (/ 1.0 (lower-bound y)))))\n",
    "\n",
    "\n",
    "(define (interval-width interval)\n",
    "  (/ (-  (upper-bound interval) (lower-bound interval)) 2))\n",
    "\n",
    "\n",
    "\n",
    "\n",
    "(define (start-test-2-10)\n",
    "  (div-interval (make-interval 1 2) (make-interval -1 3)))"
   ]
  },
  {
   "cell_type": "code",
   "execution_count": 13,
   "id": "feb0806f",
   "metadata": {},
   "outputs": [
    {
     "name": "stderr",
     "output_type": "stream",
     "text": [
      "\u001b[0;31m\n",
      "Traceback (most recent call last):\n",
      "  File \"In [13]\", line 1, col 1, in 'start-test-2-10'\n",
      "  File \"In [12]\", line 61, col 3, in 'div-interval'\n",
      "  File \"In [12]\", line 48, col 7, in 'error'\n",
      "  File \"In [12]\", line 48, col 7\n",
      "RunTimeError: Error in 'div-interval': Div 0: the input y is (-1 . 3)\n",
      "\n",
      "\u001b[0m"
     ]
    }
   ],
   "source": [
    "(start-test-2-10)"
   ]
  },
  {
   "cell_type": "code",
   "execution_count": null,
   "id": "fb6ad0fa",
   "metadata": {},
   "outputs": [],
   "source": []
  }
 ],
 "metadata": {
  "kernelspec": {
   "display_name": "Calysto Scheme 3",
   "language": "scheme",
   "name": "calysto_scheme"
  },
  "language_info": {
   "codemirror_mode": {
    "name": "scheme"
   },
   "mimetype": "text/x-scheme",
   "name": "scheme",
   "pygments_lexer": "scheme"
  }
 },
 "nbformat": 4,
 "nbformat_minor": 5
}
