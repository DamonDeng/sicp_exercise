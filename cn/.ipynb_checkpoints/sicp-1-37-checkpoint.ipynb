{
 "cells": [
  {
   "cell_type": "markdown",
   "id": "2e709e12",
   "metadata": {},
   "source": [
    "## SICP 习题 （1.37）解题总结"
   ]
  },
  {
   "cell_type": "markdown",
   "id": "172e9013",
   "metadata": {},
   "source": [
    "SICP 习题 1.37是一条很长的题目，主要讲的是无穷连分式。无穷连分式对我来说又是一个陌生的概念，于是又去百度了一番，发现无穷连分式也是一个很有意思的话题，涉及到无理数的表达。不过我建议大家还是暂时不要深入思考它的数学含义，一旦开始思考可能你又会跳进数学的深渊中不可自拔。\n",
    "\n",
    "无穷连分式的形式如下：\n",
    "\n",
    "$$ f = \\frac {N_1}  {D_1 + \\frac {N_2}  {D_2 + \\frac {N_3}  {D_3 + \\frac {N_4}  {D_4 + ...}}}} $$"
   ]
  },
  {
   "cell_type": "markdown",
   "id": "20fcb404",
   "metadata": {},
   "source": [
    "就像书中说到的，作为无穷连分式的一个特殊例子，如果N和D都为1的话，f= 1/ φ， 这点可以结合我们之前对黄金分割率的计算证明，这里就不多说了，而且，如果你不能从数学上理解它也无所谓，不影响我们做题目，我们越来越强大了，强大到可以忽略题干中得数学定义直接完成习题。\n",
    "\n",
    "题目进一步讨论无穷连分式的计算，因为无穷连分式是无穷的，所以我们无法直接计算它的结果。为了计算一个无穷连分式的大概结果，简单的办法就是计算前面K个项，就像下面这样：\n",
    "\n",
    "这样我们就可以通过K 次计算完成某个无穷连分式的计算，当然，计算的结果是一个约数，不是准确数字。\n",
    "\n",
    "题目要求我们完成一个名为cont-frac的过程，这个过程接受3个参数，分别是n, d 和k，其中n表示无穷连分式的N部分，d表示无穷连分式的D部分，k代表取几个项进行计算。\n",
    "\n",
    "如果我们仔细看无穷连分式的定义，就会发现这是一个很典型的递归定义。对于我们定义的cont-frac的过程，基本上它要做的事情就是：(cont-frac n) = N(n) / (D(n) + contact-frac(n+1))\n",
    "\n",
    "除了上面的递归调用以外，cont-frac中还要完成的就是对k的比较，确定什么时候结束递归调用，开始返回。\n",
    "\n",
    "我定义的递归计算过程如下："
   ]
  },
  {
   "cell_type": "code",
   "execution_count": 1,
   "id": "5c9c1fcb",
   "metadata": {},
   "outputs": [],
   "source": [
    "(define (cont-frac n d k)\n",
    "  (define (cont-frac-inner n d cur-k)\n",
    "    (if (< cur-k k)\n",
    "\t(/ (n cur-k) (+ (d cur-k) (cont-frac-inner n d (+ cur-k 1))))\n",
    "\t(d cur-k)))\n",
    "  (cont-frac-inner n d 1))"
   ]
  },
  {
   "cell_type": "markdown",
   "id": "95ebb18b",
   "metadata": {},
   "source": [
    "反过来，实现的迭代计算过程如下："
   ]
  },
  {
   "cell_type": "code",
   "execution_count": 2,
   "id": "feccb201",
   "metadata": {},
   "outputs": [],
   "source": [
    "(define (cont-frac-iter n d k)\n",
    "  (define (cont-frac-iter-inner n d cur-k cur-value)\n",
    "    (if (= cur-k k)\n",
    "\t(cont-frac-iter-inner n d (- cur-k 1) (d cur-k))\n",
    "\t(if (> cur-k 1)\n",
    "\t    (cont-frac-iter-inner n d (- cur-k 1) (+ (d cur-k) (/ (n cur-k) cur-value)))\n",
    "\t     (/ (n cur-k) cur-value))))\n",
    "\n",
    "  (cont-frac-iter-inner n d k 0))"
   ]
  },
  {
   "cell_type": "markdown",
   "id": "fee5fb18",
   "metadata": {},
   "source": [
    "接着，题目还要求我们用这个cont-frac来计算黄金分割率，这个比较简单，直接给n和d传递一个返回1的lambda过程就好了，我的测试方法如下:"
   ]
  },
  {
   "cell_type": "code",
   "execution_count": 3,
   "id": "96ca8828",
   "metadata": {},
   "outputs": [],
   "source": [
    "(define (Phi-test k)\n",
    "  (cont-frac (lambda (i) 1.0)\n",
    "\t     (lambda (i) 1.0)\n",
    "\t     k))\n",
    "\n",
    "(define (Phi-test-iter k)\n",
    "  (cont-frac-iter (lambda (i) 1.0)\n",
    "\t     (lambda (i) 1.0)\n",
    "\t     k))\n"
   ]
  },
  {
   "cell_type": "code",
   "execution_count": 5,
   "id": "cddaa5a4",
   "metadata": {},
   "outputs": [
    {
     "data": {
      "text/plain": [
       "0.6180339887498948"
      ]
     },
     "execution_count": 5,
     "metadata": {},
     "output_type": "execute_result"
    }
   ],
   "source": [
    "(Phi-test 100)"
   ]
  },
  {
   "cell_type": "code",
   "execution_count": 6,
   "id": "7b095af0",
   "metadata": {},
   "outputs": [
    {
     "data": {
      "text/plain": [
       "0.6180339887498948"
      ]
     },
     "execution_count": 6,
     "metadata": {},
     "output_type": "execute_result"
    }
   ],
   "source": [
    "(Phi-test-iter 1000)"
   ]
  },
  {
   "cell_type": "markdown",
   "id": "2a6e4b0a",
   "metadata": {},
   "source": [
    "最后，题目中还要求我们确定k取值多少的时候可以计算出有4位精度的黄金分割率，这就非常简单了，多测试几个cont-frac的调用就好了。"
   ]
  }
 ],
 "metadata": {
  "kernelspec": {
   "display_name": "Calysto Scheme 3",
   "language": "scheme",
   "name": "calysto_scheme"
  },
  "language_info": {
   "codemirror_mode": {
    "name": "scheme"
   },
   "mimetype": "text/x-scheme",
   "name": "scheme",
   "pygments_lexer": "scheme"
  }
 },
 "nbformat": 4,
 "nbformat_minor": 5
}
