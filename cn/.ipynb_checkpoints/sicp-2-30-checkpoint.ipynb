{
 "cells": [
  {
   "cell_type": "markdown",
   "id": "0454da55",
   "metadata": {},
   "source": [
    "## SICP 习题 (2.30)解题总结 : Square-Tree"
   ]
  },
  {
   "cell_type": "markdown",
   "id": "c1b7437e",
   "metadata": {},
   "source": [
    "SICP 习题 2.30 要求我们完成一个叫square-tree的过程，其作用和之前的square过程差不多，square过程是针对简单列表的，将列表中的所有元素求平方，然后返回新的平方数列表。不过square不能对嵌套列表进行处理，如果列表中还包含列表的话会报错。\n",
    "\n",
    "题目要求我们实现一个square-tree的过程，当输入的列表包含另一个列表时可以对嵌套的列表进行处理，生成所有列表元素的平方数。\n",
    "\n",
    "这个和之前几道题差不多，都是对树状列表的遍历和处理。题目还要求我们用两种方式实现，一种使用map，一种不使用map。\n",
    "\n",
    "先看看不使用map的方法，就是不断取列表第一个元素，如果元素是个简单的数就求平方，如果元素是一个列表就递归调用square-tree。处理完第一个元素接着处理后面的cdr部分的内容。\n",
    "\n",
    "代码如下："
   ]
  },
  {
   "cell_type": "code",
   "execution_count": 1,
   "id": "6125045a",
   "metadata": {},
   "outputs": [],
   "source": [
    "(define (square-tree input-list)\n",
    "  (if (null? input-list)\n",
    "      '()\n",
    "      (if (list? (car input-list))\n",
    "\t  (cons (square-tree (car input-list)) (square-tree (cdr input-list)))\n",
    "\t  (cons (square (car input-list)) (square-tree (cdr input-list))))))"
   ]
  },
  {
   "cell_type": "markdown",
   "id": "39e9be2e",
   "metadata": {},
   "source": [
    "如果是使用map的话，就不用自己遍历了，直接使用map过程对所有元素进行处理，如果是数字就求平方，如果是列表就递归调用square-tree-map。\n"
   ]
  },
  {
   "cell_type": "code",
   "execution_count": 2,
   "id": "4031e56c",
   "metadata": {},
   "outputs": [],
   "source": [
    "(define (square-tree-map input-list)\n",
    "  (map (lambda (i) \n",
    "\t (if (list? i)\n",
    "\t     (square-tree-map i)\n",
    "\t     (square i))) input-list) )\n",
    "\n",
    "\n"
   ]
  },
  {
   "cell_type": "code",
   "execution_count": 3,
   "id": "5bdee736",
   "metadata": {},
   "outputs": [],
   "source": [
    "(define (square x)\n",
    "  (* x x))"
   ]
  },
  {
   "cell_type": "code",
   "execution_count": 4,
   "id": "c173b6b1",
   "metadata": {},
   "outputs": [
    {
     "data": {
      "text/plain": [
       "(1 4 (9 16) 25 (64 (81 100)))"
      ]
     },
     "execution_count": 4,
     "metadata": {},
     "output_type": "execute_result"
    }
   ],
   "source": [
    "(square-tree '(1 2 (3 4) 5 ( 8 (9 10))))"
   ]
  },
  {
   "cell_type": "code",
   "execution_count": 5,
   "id": "9ecf6647",
   "metadata": {},
   "outputs": [
    {
     "data": {
      "text/plain": [
       "(1 4 (9 16) 25 (64 (81 100)))"
      ]
     },
     "execution_count": 5,
     "metadata": {},
     "output_type": "execute_result"
    }
   ],
   "source": [
    "(square-tree-map '(1 2 (3 4) 5 ( 8 (9 10))))"
   ]
  },
  {
   "cell_type": "code",
   "execution_count": null,
   "id": "cfe7c949",
   "metadata": {},
   "outputs": [],
   "source": []
  }
 ],
 "metadata": {
  "kernelspec": {
   "display_name": "Calysto Scheme 3",
   "language": "scheme",
   "name": "calysto_scheme"
  },
  "language_info": {
   "codemirror_mode": {
    "name": "scheme"
   },
   "mimetype": "text/x-scheme",
   "name": "scheme",
   "pygments_lexer": "scheme"
  }
 },
 "nbformat": 4,
 "nbformat_minor": 5
}
