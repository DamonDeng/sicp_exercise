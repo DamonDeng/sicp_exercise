{
 "cells": [
  {
   "cell_type": "markdown",
   "id": "079f4e51",
   "metadata": {},
   "source": [
    "## SICP 习题 （3.26）解题总结: 表格的树形索引"
   ]
  },
  {
   "cell_type": "markdown",
   "id": "fa493aef",
   "metadata": {},
   "source": [
    "SICP习题 3.26 要求我们为上文构建的表格创建一个索引，为了加快索引的查找，题目要求我们创建树形索引。\n",
    "\n",
    "这个题目其实是两道题目的集成题，一个是关于树形数据结构和查找，一个是本章节的表格处理。\n",
    "\n",
    "关于树形索引，也就是树构建和查找，我们之前在习题2.66里实现过，现在根据需要将树查找的代码整理如下："
   ]
  },
  {
   "cell_type": "code",
   "execution_count": 172,
   "id": "8f371c81",
   "metadata": {},
   "outputs": [],
   "source": [
    "(define (lookup-tree given-key tree)\n",
    "  (define (inter-lookup given-key tree)\n",
    "      (if (not (is-tree? tree))\n",
    "          #f\n",
    "          (if (null? tree)\n",
    "              #f\n",
    "              (let ((target-key (key (entry tree))))\n",
    "            (cond ((eq? target-key given-key) (entry tree))\n",
    "                  ((> target-key given-key) (lookup-tree given-key (left-branch tree)))\n",
    "                  ((< target-key given-key) (lookup-tree given-key (right-branch tree)))\n",
    "                  (else (error \"impossible value!\" (list target-key given-key))))))))\n",
    "  (if (null?  (cdr tree))\n",
    "      #f\n",
    "      (inter-lookup given-key (cadr tree))))\n",
    "\n",
    "(define (insert-tree! given-key value tree)\n",
    "  (define (inter-insert! given-key value tree)\n",
    "    ;(display \"handling tree:\") (display tree) (newline)\n",
    "    (let ((target-key (key (entry tree))))\n",
    "      ;(display \"target-key:\") (display target-key) (display \"given-key:\") (display given-key) (newline)\n",
    "      (cond ((= target-key given-key) \n",
    "\t     (begin \n",
    "\t       (set-value! tree value)\n",
    "\t       'done))\n",
    "\t     ((> target-key given-key) \n",
    "\t      (if (null? (left-branch tree))\n",
    "\t\t  (begin \n",
    "\t\t    ;(display \"setting branch!\") (newline)\n",
    "\t\t    (set-left-branch! tree (make-tree (make-entry given-key value) '() '()))\n",
    "\t\t    'done\n",
    "\t\t    )\n",
    "\t\t  (inter-insert! given-key value (left-branch tree))))\n",
    "\t     ((< target-key given-key) \n",
    "\t      (if (null? (right-branch tree))\n",
    "\t\t  (begin \n",
    "\t\t    (set-right-branch! tree (make-tree (make-entry given-key value) '() '()))\n",
    "\t\t    'done\n",
    "\t\t    )\n",
    "\t\t  (inter-insert! given-key value (right-branch tree))))\n",
    "\t     (else (error \"impossible value!\" (list target-key given-key))))))\n",
    "  (if (null?  (cdr tree))\n",
    "      (set-cdr!  tree (list (make-tree (make-entry given-key value) '() '())))\n",
    "      (inter-insert! given-key value  (cadr tree))))\n",
    "\n",
    "(define (set-value! tree value)\n",
    "  (set-entry-value! (entry tree) value))\n",
    "\n",
    "(define (set-left-branch! tree branch)\n",
    "  (display \"setting left-branch \") (display tree) (newline)\n",
    "  (set-car! (cdr tree) branch))\n",
    "\n",
    "(define (set-right-branch! tree branch)\n",
    "  (set-car! (cddr tree) branch))\n",
    "\n",
    "(define (set-entry-value! entry value)\n",
    "  (set-car! (cdr entry) value))\n",
    "      \n",
    "    \n",
    "\n",
    "(define (is-tree? tree)\n",
    "  (if (pair? tree)\n",
    "      (if (= (length tree) 3)\n",
    "\t  #t\n",
    "\t  #f)\n",
    "      #f))\n",
    "\n",
    "(define (entry tree) \n",
    "  (if (is-tree? tree) \n",
    "       (car tree)\n",
    "       tree))\n",
    "\n",
    "\n",
    "(define (left-branch tree)\n",
    "  (if (is-tree? tree)\n",
    "      (cadr tree)\n",
    "      '()))\n",
    "\n",
    "(define (right-branch tree) \n",
    "  (if (is-tree? tree)\n",
    "      (caddr tree)\n",
    "      '()))\n",
    "\n",
    "(define (make-tree entry left right)\n",
    "  (list entry left right))\n",
    "\n",
    "(define (make-entry key value)\n",
    "  (list key value))\n",
    "\n",
    "(define (key entry)\n",
    "  (car entry))\n",
    "\n",
    "(define (value entry)\n",
    "  (cadr entry))\n",
    "\n",
    "(define (create-tree tree-name)\n",
    "  (list tree-name))"
   ]
  },
  {
   "cell_type": "markdown",
   "id": "aa0ca579",
   "metadata": {},
   "source": [
    "然后先测试一下这个可以查找的树："
   ]
  },
  {
   "cell_type": "code",
   "execution_count": 173,
   "id": "2d4652df",
   "metadata": {},
   "outputs": [],
   "source": [
    "(define testing-tree (create-tree 'testing-tree))"
   ]
  },
  {
   "cell_type": "code",
   "execution_count": 174,
   "id": "9474dedf",
   "metadata": {},
   "outputs": [
    {
     "data": {
      "text/plain": [
       "#f"
      ]
     },
     "execution_count": 174,
     "metadata": {},
     "output_type": "execute_result"
    }
   ],
   "source": [
    "(lookup-tree 100 testing-tree)"
   ]
  },
  {
   "cell_type": "code",
   "execution_count": 175,
   "id": "e4714093",
   "metadata": {},
   "outputs": [],
   "source": [
    "(insert-tree! 100 '100a testing-tree)"
   ]
  },
  {
   "cell_type": "code",
   "execution_count": 176,
   "id": "59864ea2",
   "metadata": {},
   "outputs": [
    {
     "data": {
      "text/plain": [
       "done"
      ]
     },
     "execution_count": 176,
     "metadata": {},
     "output_type": "execute_result"
    }
   ],
   "source": [
    "(insert-tree! 200 '200a testing-tree)"
   ]
  },
  {
   "cell_type": "code",
   "execution_count": 177,
   "id": "38cc271b",
   "metadata": {
    "scrolled": true
   },
   "outputs": [
    {
     "data": {
      "text/plain": [
       "(100 100a)"
      ]
     },
     "execution_count": 177,
     "metadata": {},
     "output_type": "execute_result"
    }
   ],
   "source": [
    "(lookup-tree 100 testing-tree)"
   ]
  },
  {
   "cell_type": "code",
   "execution_count": 178,
   "id": "e323d024",
   "metadata": {},
   "outputs": [
    {
     "data": {
      "text/plain": [
       "(testing-tree ((100 100a) () ((200 200a) () ())))"
      ]
     },
     "execution_count": 178,
     "metadata": {},
     "output_type": "execute_result"
    }
   ],
   "source": [
    "testing-tree"
   ]
  },
  {
   "cell_type": "markdown",
   "id": "4eab4a44",
   "metadata": {},
   "source": [
    "然后创建表格函数，按之前几道题的指导，我们已经可以创建多维表格，就是可以处理不定长的key。\n",
    "\n",
    "在这里就对应多个层次的树查找，一个key对应一棵树，如果在第一棵树里找到了关键字，该关键字对应的内容是另一棵树，这棵树是第二个key对应的树。"
   ]
  },
  {
   "cell_type": "code",
   "execution_count": null,
   "id": "d2a93f3f",
   "metadata": {},
   "outputs": [],
   "source": []
  },
  {
   "cell_type": "code",
   "execution_count": 190,
   "id": "919ea98e",
   "metadata": {},
   "outputs": [],
   "source": [
    "(define (make-table)\n",
    "  (let ((local-table (create-tree '*table*)))\n",
    "    (define (lookup keys)\n",
    "      \n",
    "      (define (lookup-inter keys in-tree)\n",
    ";;         (display keys)(newline)\n",
    ";;         (display in-tree)(newline)\n",
    "        \n",
    "        (if (= (length keys) 1)\n",
    "            (lookup-tree (car keys) in-tree)\n",
    "            (let ((sub-tree (lookup-tree (car keys) in-tree)))\n",
    "              (if sub-tree\n",
    "                  (lookup-inter (cdr keys) (value sub-tree))\n",
    "                  #f))))\n",
    "      \n",
    "      (lookup-inter  keys local-table))\n",
    "      \n",
    "    (define (insert! keys value)\n",
    "      (define (insert-inter keys value in-tree)\n",
    "        (if (= (length keys) 1)\n",
    "            (insert-tree!  (car keys) value in-tree)\n",
    "            (begin\n",
    "             (let ((subtree (lookup-tree (car key) (list 'temp-tree in-tree))))\n",
    "               (if subtree\n",
    "                   (insert-iner (cdr key) subtree)\n",
    "                   (let ((new-tree (create-tree 'sub-tree)))\n",
    "                     (insert-tree! (car keys) new-tree in-tree)\n",
    "                     (insert-inter (cdr keys) value new-tree)))))))\n",
    "       (insert-inter keys value local-table))\n",
    "\n",
    "    (define (display-struct)\n",
    "      local-table)\n",
    "\n",
    "    (define (dispatch m)\n",
    "      (cond ((eq? m 'lookup-proc) lookup)\n",
    "\t    ((eq? m 'insert-proc!) insert!)\n",
    "\t    ((eq? m 'display-struct) display-struct)\n",
    "\t    \n",
    "\t    (else (error \"Unknown operation -- TABLE\" m))))\n",
    "    dispatch))"
   ]
  },
  {
   "cell_type": "markdown",
   "id": "9d7eeb20",
   "metadata": {},
   "source": [
    "创建一个临时表格测试一下："
   ]
  },
  {
   "cell_type": "code",
   "execution_count": 199,
   "id": "0a52b19f",
   "metadata": {},
   "outputs": [],
   "source": [
    "(define testing-table (make-table))"
   ]
  },
  {
   "cell_type": "code",
   "execution_count": 200,
   "id": "9af80834",
   "metadata": {},
   "outputs": [],
   "source": [
    "  (define get (testing-table 'lookup-proc))\n",
    "\n",
    "  (define put (testing-table 'insert-proc!))"
   ]
  },
  {
   "cell_type": "markdown",
   "id": "38372fb0",
   "metadata": {},
   "source": [
    "插入一个新的值，key是 （100 200），值是 1-200a"
   ]
  },
  {
   "cell_type": "code",
   "execution_count": 201,
   "id": "d94d2691",
   "metadata": {},
   "outputs": [],
   "source": [
    "(put '(100 200) '1-200a)"
   ]
  },
  {
   "cell_type": "code",
   "execution_count": 202,
   "id": "5049e838",
   "metadata": {},
   "outputs": [
    {
     "data": {
      "text/plain": [
       "(*table* ((100 (sub-tree ((200 1-200a) () ()))) () ()))"
      ]
     },
     "execution_count": 202,
     "metadata": {},
     "output_type": "execute_result"
    }
   ],
   "source": [
    "((testing-table 'display-struct))"
   ]
  },
  {
   "cell_type": "code",
   "execution_count": 203,
   "id": "9cb55809",
   "metadata": {},
   "outputs": [
    {
     "data": {
      "text/plain": [
       "(200 1-200a)"
      ]
     },
     "execution_count": 203,
     "metadata": {},
     "output_type": "execute_result"
    }
   ],
   "source": [
    "(get '(100 200))"
   ]
  },
  {
   "cell_type": "markdown",
   "id": "ca4331fe",
   "metadata": {},
   "source": [
    "再插入一个新的值："
   ]
  },
  {
   "cell_type": "code",
   "execution_count": 204,
   "id": "86d06690",
   "metadata": {},
   "outputs": [],
   "source": [
    "(put '(100 200) '1-2-3-500a)"
   ]
  },
  {
   "cell_type": "markdown",
   "id": "bf06de58",
   "metadata": {},
   "source": [
    "再查找一下新插入的值："
   ]
  },
  {
   "cell_type": "code",
   "execution_count": 205,
   "id": "f1023010",
   "metadata": {},
   "outputs": [
    {
     "data": {
      "text/plain": [
       "(200 1-2-3-500a)"
      ]
     },
     "execution_count": 205,
     "metadata": {},
     "output_type": "execute_result"
    }
   ],
   "source": [
    "(get '(100 200))"
   ]
  },
  {
   "cell_type": "markdown",
   "id": "330efc20",
   "metadata": {},
   "source": [
    "打包一个测试函数："
   ]
  },
  {
   "cell_type": "code",
   "execution_count": 206,
   "id": "51239efd",
   "metadata": {},
   "outputs": [],
   "source": [
    "\n",
    "(define (start-test-3-26)\n",
    "  (define operation-table (make-table))\n",
    "\n",
    "  (define get (operation-table 'lookup-proc))\n",
    "\n",
    "  (define put (operation-table 'insert-proc!))\n",
    "\n",
    "  (define display-struct (operation-table 'display-struct))\n",
    "\n",
    "  (put '(100 200 300 500) '1-2-3-500a)\n",
    "  (display \"after put  \")\n",
    "  (display (display-struct)) (newline)\n",
    "  \n",
    "  (put '(300 200 100) '3-2-100a)\n",
    "  (display \"after put  \")\n",
    "  (display (display-struct)) (newline)\n",
    " \n",
    " \n",
    "  (display \"get value of (100 200 300 500):\")(newline)\n",
    "  (display (get '(100 200 300 500)))\n",
    "  (newline)\n",
    "  )\n",
    "\n",
    "\n",
    "\n"
   ]
  },
  {
   "cell_type": "code",
   "execution_count": 207,
   "id": "561408ff",
   "metadata": {},
   "outputs": [
    {
     "name": "stdout",
     "output_type": "stream",
     "text": [
      "after put  (*table* ((100 (sub-tree ((200 (sub-tree ((300 (sub-tree ((500 1-2-3-500a) () ()))) () ()))) () ()))) () ()))\n",
      "after put  (*table* ((100 (sub-tree ((200 (sub-tree ((300 (sub-tree ((500 1-2-3-500a) () ()))) () ()))) () ()))) () ((300 (sub-tree ((200 (sub-tree ((100 3-2-100a) () ()))) () ()))) () ())))\n",
      "get value of (100 200 300 500):\n",
      "(500 1-2-3-500a)\n"
     ]
    }
   ],
   "source": [
    "(start-test-3-26)"
   ]
  },
  {
   "cell_type": "code",
   "execution_count": null,
   "id": "5fb47ee5",
   "metadata": {},
   "outputs": [],
   "source": []
  }
 ],
 "metadata": {
  "kernelspec": {
   "display_name": "Calysto Scheme 3",
   "language": "scheme",
   "name": "calysto_scheme"
  },
  "language_info": {
   "codemirror_mode": {
    "name": "scheme"
   },
   "mimetype": "text/x-scheme",
   "name": "scheme",
   "pygments_lexer": "scheme"
  }
 },
 "nbformat": 4,
 "nbformat_minor": 5
}
