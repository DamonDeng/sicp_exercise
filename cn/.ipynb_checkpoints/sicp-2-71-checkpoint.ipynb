{
 "cells": [
  {
   "cell_type": "markdown",
   "id": "0454da55",
   "metadata": {},
   "source": [
    "## SICP 习题 （2.71）解题总结：huffman树的结构"
   ]
  },
  {
   "cell_type": "markdown",
   "id": "4d609c2e",
   "metadata": {},
   "source": [
    "SICP 习题 2.71鼓励我们去思考huffman树的结构。\n",
    "\n",
    "题目中列出了一个特别的情形，就是符号的使用频率是以平方形式递增的，像下面这样：\n",
    "\n",
    "    '(a 1) (b 2) (c 4) (d 8) (e 16) (f 32)\n",
    "    \n",
    "题目问我们，如果n=5，就是有5个这样的元素，对应的huffman树长成什么样子，接着还问n=10，就是有10个这样的元素，对应的huffman树又长成什么样子。\n",
    "\n",
    "对于这样的情形，频率最小的符号的编码是什么，频率最大的符号编码又是什么。"
   ]
  },
  {
   "cell_type": "markdown",
   "id": "ea37fc32",
   "metadata": {},
   "source": [
    "对于我这个典型的程序员来讲，这样的题目直接写个样例跑一下就可以知道结果的啦。当然，为了表示自己的级别，还是需要封装一下代码。具体的代码后面会列出来。\n",
    "\n",
    "不过，我们除了写代码看结果，还是要仔细思考这个问题。\n",
    "\n",
    "按照2.69的思路，我们生成huffman树的基本思路就是找到权重最小的两个元素进行合并，然后用合并出来的元素替代原来的两个元素，不断进行直到待处理的元素数量为1.\n",
    "\n",
    "按照上面的特殊情形，第一个和第二个元素的权重分别是 1和2，加起来是3，没有第三个元素的权重大，所以下一步就是把第三个元素拿出来合并到前面的两个元素里，合并出来的元素权重为7，没有第四个元素的8大，只能继续把第四个元素合并进来。\n",
    "\n",
    "看得出来这是故意的。。。。。。。\n",
    "\n",
    "这样长出来一棵比较不平衡的树，就差说它是最不平衡了。\n",
    "\n",
    "大概描述就是左边长片叶子，右边是剩下的所有部分，再细看右边的子树，还是左边长片叶子，右边是剩下的所有部分。。。。这长的，啥树长这样？\n",
    "\n",
    "也因为这个特殊的长相，这种huffman树里频率最小的符号编码特别长。。。。。"
   ]
  },
  {
   "cell_type": "markdown",
   "id": "255e98e2",
   "metadata": {},
   "source": [
    "下面来看看测试的代码，先是把之前的代码都拷贝过来："
   ]
  },
  {
   "cell_type": "code",
   "execution_count": 10,
   "id": "0e7c2c2a",
   "metadata": {},
   "outputs": [],
   "source": [
    "(define (make-leaf symbol weight)\n",
    "  (list 'leaf symbol weight))\n",
    "\n",
    "(define (leaf? object)\n",
    "  (eq? (car object) 'leaf))\n",
    "\n",
    "(define (symbol-leaf x) (cadr x))\n",
    "\n",
    "(define (weight-leaf x) (caddr x))\n",
    "\n",
    "(define (make-code-tree left right)\n",
    "  (list left\n",
    "\tright\n",
    "\t(append (symbols left) (symbols right))\n",
    "\t(+ (weight left) (weight right))))\n",
    "\n",
    "(define (left-branch tree) (car tree))\n",
    "\n",
    "(define (right-branch tree) (cadr tree))\n",
    "\n",
    "(define (symbols tree)\n",
    "  (if (leaf? tree)\n",
    "      (list (symbol-leaf tree))\n",
    "      (caddr tree)))\n",
    "\n",
    "(define (weight tree)\n",
    "  (if (leaf? tree)\n",
    "      (weight-leaf tree)\n",
    "      (cadddr tree)))\n",
    "\n",
    "(define (decode bits tree)\n",
    "  (define (decode-1 bits current-branch)\n",
    "    (if (null? bits)\n",
    "\t'()\n",
    "\t(let ((next-branch\n",
    "\t       (choose-branch (car bits) current-branch)))\n",
    "\t  (if (leaf? next-branch)\n",
    "\t      (cons (symbol-leaf next-branch)\n",
    "\t\t    (decode-1 (cdr bits) tree))\n",
    "\t      (decode-1 (cdr bits) next-branch)))))\n",
    "  (decode-1 bits tree))\n",
    "\n",
    "(define (choose-branch bit branch)\n",
    "  (cond ((= bit 0) (left-branch branch))\n",
    "\t((= bit 1) (right-branch branch))\n",
    "\t(else (error \"bad bit -- CHOOSE-BRANCH\" bit))))\n",
    "\n",
    "(define (adjoin-set x set)\n",
    "  (cond ((null? set) (list x))\n",
    "\t((< (weight x) (weight (car set))) (cons x set))\n",
    "\t(else (cons (car set)\n",
    "\t\t    (adjoin-set x (cdr set))))))\n",
    "\n",
    "(define (make-leaf-set pairs)\n",
    "  (if (null? pairs)\n",
    "      '()\n",
    "      (let ((pair (car pairs)))\n",
    "\t(adjoin-set (make-leaf (car pair)\n",
    "\t\t\t       (cadr pair))\n",
    "\t\t    (make-leaf-set (cdr pairs))))))\n",
    "\n",
    "\n",
    "\n",
    "(define (encode message tree)\n",
    "  (if (null? message)\n",
    "      '()\n",
    "      (append (encode-symbol (car message) tree)\n",
    "\t      (encode (cdr message) tree))))\n",
    "\n",
    "(define (encode-symbol symbol tree)\n",
    "  (cond ((leaf? tree)\n",
    "\t (if (equal? symbol (symbol-leaf tree))\n",
    "\t     '()\n",
    "\t     #f))\n",
    "\t(else \n",
    "\t (let ((left-branch-result (encode-symbol symbol (left-branch tree))))\n",
    "\t   (if left-branch-result\n",
    "\t       (cons '0 left-branch-result)\n",
    "\t       (let ((right-branch-result (encode-symbol symbol (right-branch tree))))\n",
    "\t\t (if right-branch-result\n",
    "\t\t     (cons '1 right-branch-result)\n",
    "\t\t     #f)))))))\n",
    "\n",
    "\n",
    "\n",
    "(define (generate-huffman-tree pairs)\n",
    "  (successive-merge (make-leaf-set pairs)))\n",
    "\n",
    "(define (successive-merge leafs)\n",
    "  (cond ((null? leafs) '())\n",
    "        ((= 1 (length leafs)) (car leafs))\n",
    "        (else (successive-merge \n",
    "                   (adjoin-set \n",
    "                    (make-code-tree (car leafs) (cadr leafs))\n",
    "                    (cddr leafs))))))\n",
    "\t\n",
    "\n",
    "\n"
   ]
  },
  {
   "cell_type": "markdown",
   "id": "b31b59b9",
   "metadata": {},
   "source": [
    "接着是关于样例序对的生成，按题目的要求简单手工输入也是可以的，但是学习了lisp，这种事情要让代码完成吧："
   ]
  },
  {
   "cell_type": "code",
   "execution_count": 35,
   "id": "7d223140",
   "metadata": {},
   "outputs": [],
   "source": [
    "(define (generate-pairs n)\n",
    "  (define (inter i exp-result)\n",
    "    (cond ((> i n) '())\n",
    "          (else (cons (list (format \"a~s\" i) exp-result) (inter (+ i 1) (* exp-result 2))))))\n",
    "  (inter 1 1)\n",
    "  )"
   ]
  },
  {
   "cell_type": "markdown",
   "id": "23d73b2b",
   "metadata": {},
   "source": [
    "这样通过输入n就可以获得样例序列了："
   ]
  },
  {
   "cell_type": "code",
   "execution_count": 47,
   "id": "d6b1d798",
   "metadata": {},
   "outputs": [
    {
     "data": {
      "text/plain": [
       "((\"a1\" 1) (\"a2\" 2) (\"a3\" 4) (\"a4\" 8) (\"a5\" 16) (\"a6\" 32) (\"a7\" 64) (\"a8\" 128) (\"a9\" 256) (\"a10\" 512))"
      ]
     },
     "execution_count": 47,
     "metadata": {},
     "output_type": "execute_result"
    }
   ],
   "source": [
    "(generate-pairs 10)"
   ]
  },
  {
   "cell_type": "markdown",
   "id": "f549ec86",
   "metadata": {},
   "source": [
    "再打包一个显示huffman树细节的函数："
   ]
  },
  {
   "cell_type": "code",
   "execution_count": 48,
   "id": "4a6674ff",
   "metadata": {},
   "outputs": [],
   "source": [
    "(define (display-tree-detail n)\n",
    "  (define sample-words (generate-pairs n))\n",
    "  \n",
    "  (define sample-tree (generate-huffman-tree sample-words))\n",
    "  \n",
    "  (display (format \"sample tree when n=~s:\" n)) (newline)(display sample-tree) (newline)\n",
    "  (display (format \"smallest one of n=~s:\" n)) (newline) (display (encode (list (format \"a~s\" 1)) sample-tree)) (newline)\n",
    "  (display (format \"largest one of n=~s:\" n)) (newline) (display (encode (list (format \"a~s\" n)) sample-tree)) (newline)\n",
    "  \n",
    "  )"
   ]
  },
  {
   "cell_type": "code",
   "execution_count": 43,
   "id": "c8c7388c",
   "metadata": {},
   "outputs": [
    {
     "name": "stdout",
     "output_type": "stream",
     "text": [
      "sample tree when n=10:\n",
      "((((((((((leaf \"a1\" 1) (leaf \"a2\" 2) (\"a1\" \"a2\") 3) (leaf \"a3\" 4) (\"a1\" \"a2\" \"a3\") 7) (leaf \"a4\" 8) (\"a1\" \"a2\" \"a3\" \"a4\") 15) (leaf \"a5\" 16) (\"a1\" \"a2\" \"a3\" \"a4\" \"a5\") 31) (leaf \"a6\" 32) (\"a1\" \"a2\" \"a3\" \"a4\" \"a5\" \"a6\") 63) (leaf \"a7\" 64) (\"a1\" \"a2\" \"a3\" \"a4\" \"a5\" \"a6\" \"a7\") 127) (leaf \"a8\" 128) (\"a1\" \"a2\" \"a3\" \"a4\" \"a5\" \"a6\" \"a7\" \"a8\") 255) (leaf \"a9\" 256) (\"a1\" \"a2\" \"a3\" \"a4\" \"a5\" \"a6\" \"a7\" \"a8\" \"a9\") 511) (leaf \"a10\" 512) (\"a1\" \"a2\" \"a3\" \"a4\" \"a5\" \"a6\" \"a7\" \"a8\" \"a9\" \"a10\") 1023)\n",
      "smallest one of n=10:\n",
      "(0 0 0 0 0 0 0 0 0)\n",
      "largest one of n=10:\n",
      "(1)\n"
     ]
    }
   ],
   "source": [
    "(display-tree-detail 10)"
   ]
  },
  {
   "cell_type": "code",
   "execution_count": 44,
   "id": "3866628d",
   "metadata": {},
   "outputs": [
    {
     "name": "stdout",
     "output_type": "stream",
     "text": [
      "sample tree when n=5:\n",
      "(((((leaf \"a1\" 1) (leaf \"a2\" 2) (\"a1\" \"a2\") 3) (leaf \"a3\" 4) (\"a1\" \"a2\" \"a3\") 7) (leaf \"a4\" 8) (\"a1\" \"a2\" \"a3\" \"a4\") 15) (leaf \"a5\" 16) (\"a1\" \"a2\" \"a3\" \"a4\" \"a5\") 31)\n",
      "smallest one of n=5:\n",
      "(0 0 0 0)\n",
      "largest one of n=5:\n",
      "(1)\n"
     ]
    }
   ],
   "source": [
    "(display-tree-detail 5)"
   ]
  },
  {
   "cell_type": "markdown",
   "id": "b7b9d2ae",
   "metadata": {},
   "source": [
    "再打包一个整体测试函数："
   ]
  },
  {
   "cell_type": "code",
   "execution_count": 50,
   "id": "fdf8cffb",
   "metadata": {},
   "outputs": [],
   "source": [
    "(define (start-test-2-71)\n",
    "  (display-tree-detail 5)\n",
    "  (display-tree-detail 10))\n",
    "  "
   ]
  },
  {
   "cell_type": "code",
   "execution_count": 51,
   "id": "6ec9c680",
   "metadata": {},
   "outputs": [
    {
     "name": "stdout",
     "output_type": "stream",
     "text": [
      "sample tree when n=5:\n",
      "(((((leaf \"a1\" 1) (leaf \"a2\" 2) (\"a1\" \"a2\") 3) (leaf \"a3\" 4) (\"a1\" \"a2\" \"a3\") 7) (leaf \"a4\" 8) (\"a1\" \"a2\" \"a3\" \"a4\") 15) (leaf \"a5\" 16) (\"a1\" \"a2\" \"a3\" \"a4\" \"a5\") 31)\n",
      "smallest one of n=5:\n",
      "(0 0 0 0)\n",
      "largest one of n=5:\n",
      "(1)\n",
      "sample tree when n=10:\n",
      "((((((((((leaf \"a1\" 1) (leaf \"a2\" 2) (\"a1\" \"a2\") 3) (leaf \"a3\" 4) (\"a1\" \"a2\" \"a3\") 7) (leaf \"a4\" 8) (\"a1\" \"a2\" \"a3\" \"a4\") 15) (leaf \"a5\" 16) (\"a1\" \"a2\" \"a3\" \"a4\" \"a5\") 31) (leaf \"a6\" 32) (\"a1\" \"a2\" \"a3\" \"a4\" \"a5\" \"a6\") 63) (leaf \"a7\" 64) (\"a1\" \"a2\" \"a3\" \"a4\" \"a5\" \"a6\" \"a7\") 127) (leaf \"a8\" 128) (\"a1\" \"a2\" \"a3\" \"a4\" \"a5\" \"a6\" \"a7\" \"a8\") 255) (leaf \"a9\" 256) (\"a1\" \"a2\" \"a3\" \"a4\" \"a5\" \"a6\" \"a7\" \"a8\" \"a9\") 511) (leaf \"a10\" 512) (\"a1\" \"a2\" \"a3\" \"a4\" \"a5\" \"a6\" \"a7\" \"a8\" \"a9\" \"a10\") 1023)\n",
      "smallest one of n=10:\n",
      "(0 0 0 0 0 0 0 0 0)\n",
      "largest one of n=10:\n",
      "(1)\n"
     ]
    }
   ],
   "source": [
    "(start-test-2-71)"
   ]
  },
  {
   "cell_type": "code",
   "execution_count": null,
   "id": "2a04c0da",
   "metadata": {},
   "outputs": [],
   "source": []
  }
 ],
 "metadata": {
  "kernelspec": {
   "display_name": "Calysto Scheme 3",
   "language": "scheme",
   "name": "calysto_scheme"
  },
  "language_info": {
   "codemirror_mode": {
    "name": "scheme"
   },
   "mimetype": "text/x-scheme",
   "name": "scheme",
   "pygments_lexer": "scheme"
  }
 },
 "nbformat": 4,
 "nbformat_minor": 5
}
