{
 "cells": [
  {
   "cell_type": "markdown",
   "id": "0454da55",
   "metadata": {},
   "source": [
    "## SICP 习题 （2.41）解题总结:  三元组的和"
   ]
  },
  {
   "cell_type": "markdown",
   "id": "f7c38ae7",
   "metadata": {},
   "source": [
    "SICP 习题2.41要我们生成一种满足要求三元组序列。做完题目2.40再看这个就比较简单了\n",
    "\n",
    "题目要求我们生成三元组，元素小于等于整数n，然后三元组成员各不相同，同时要求加起来等于指定整数s"
   ]
  },
  {
   "cell_type": "markdown",
   "id": "4a3b3338",
   "metadata": {},
   "source": [
    "我定义的函数如下，按程序员的习惯不断加嵌套，性能上没有做什么优化，细想的话优化空间还是很大的，做了很多重复计算："
   ]
  },
  {
   "cell_type": "code",
   "execution_count": 15,
   "id": "3fdb2786",
   "metadata": {},
   "outputs": [],
   "source": [
    "(define (three-sum n s)\n",
    "  (filter (lambda (out-three-group)\n",
    "\t    (= (+ (car out-three-group) (cadr out-three-group) (caddr out-three-group)) s))\n",
    "\t  (filter (lambda (three-group)\n",
    "\t\t    (not (and (= (car three-group) (cadr three-group)) \n",
    "                      (= (cadr three-group) (caddr three-group)))))\n",
    "\t\t  (accumulate append '() (map\n",
    "\t\t   (lambda (i)\n",
    "\t\t     (accumulate append '() (map\n",
    "\t\t      (lambda (j)\n",
    "\t\t\t (map (lambda (k)\n",
    "\t\t\t       (list i j k))\n",
    "\t\t\t     (enumerate-interval 1 (- n 1))))\n",
    "\t\t      (enumerate-interval 1 (- n 1)))))\n",
    "\t\t   (enumerate-interval 1 (- n 1)))))))\n"
   ]
  },
  {
   "cell_type": "markdown",
   "id": "2e019135",
   "metadata": {},
   "source": [
    "然后拷贝依赖的各种函数"
   ]
  },
  {
   "cell_type": "code",
   "execution_count": 16,
   "id": "0b18ddc0",
   "metadata": {},
   "outputs": [],
   "source": [
    "(define (enumerate-interval low high) \n",
    "   (if (> low high) \n",
    "       '()\n",
    "       (cons low (enumerate-interval (+ low 1) high)))) "
   ]
  },
  {
   "cell_type": "code",
   "execution_count": 17,
   "id": "ab6a9ad5",
   "metadata": {},
   "outputs": [],
   "source": [
    "(define (accumulate op initial sequence)\n",
    "  (if (null? sequence)\n",
    "      initial\n",
    "      (op (car sequence)\n",
    "\t  (accumulate op initial (cdr sequence)))))"
   ]
  },
  {
   "cell_type": "code",
   "execution_count": 18,
   "id": "fba7c850",
   "metadata": {},
   "outputs": [],
   "source": [
    "(define (filter function input-list)\n",
    "  (if (pair? input-list)\n",
    "      (if (function (car input-list))\n",
    "          (cons (car input-list) (filter function (cdr input-list)))\n",
    "          (filter function (cdr input-list)))\n",
    "      ()\n",
    "      ))"
   ]
  },
  {
   "cell_type": "markdown",
   "id": "8cba02f1",
   "metadata": {},
   "source": [
    "最后测试的结果："
   ]
  },
  {
   "cell_type": "code",
   "execution_count": 19,
   "id": "cad6b0d4",
   "metadata": {},
   "outputs": [
    {
     "data": {
      "text/plain": [
       "((1 1 3) (1 2 2) (1 3 1) (2 1 2) (2 2 1) (3 1 1))"
      ]
     },
     "execution_count": 19,
     "metadata": {},
     "output_type": "execute_result"
    }
   ],
   "source": [
    "(three-sum 10 5)"
   ]
  },
  {
   "cell_type": "code",
   "execution_count": null,
   "id": "ba991c1a",
   "metadata": {},
   "outputs": [],
   "source": []
  }
 ],
 "metadata": {
  "kernelspec": {
   "display_name": "Calysto Scheme 3",
   "language": "scheme",
   "name": "calysto_scheme"
  },
  "language_info": {
   "codemirror_mode": {
    "name": "scheme"
   },
   "mimetype": "text/x-scheme",
   "name": "scheme",
   "pygments_lexer": "scheme"
  }
 },
 "nbformat": 4,
 "nbformat_minor": 5
}
