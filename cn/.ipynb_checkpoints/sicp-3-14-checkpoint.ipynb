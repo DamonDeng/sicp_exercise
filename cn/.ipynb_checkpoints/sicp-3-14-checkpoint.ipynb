{
 "cells": [
  {
   "cell_type": "markdown",
   "id": "079f4e51",
   "metadata": {},
   "source": [
    "## SICP 习题 （3.14）解题总结: 神秘函数"
   ]
  },
  {
   "cell_type": "markdown",
   "id": "95899a01",
   "metadata": {},
   "source": [
    "SICP 习题 3.14 是关于一个神秘的函数，这个函数神秘到作者直接把这个函数叫做mystery.\n",
    "\n",
    "这个神秘函数的作用是把一个列表倒转，头变尾，尾变成头。\n",
    "\n",
    "它的基本实现想法就是改变列表元素的cdr，让它的cdr指向列表中前一个元素。\n",
    "\n",
    "代码如下："
   ]
  },
  {
   "cell_type": "code",
   "execution_count": 3,
   "id": "c4668cfb",
   "metadata": {},
   "outputs": [],
   "source": [
    "(define (mystery x)\n",
    "  (define (loop x y)\n",
    "    (if (null? x)\n",
    "\ty\n",
    "\t(let ((temp (cdr x)))\n",
    "\t  (set-cdr! x y)\n",
    "\t  (loop temp x))))\n",
    "  (loop x '()))"
   ]
  },
  {
   "cell_type": "markdown",
   "id": "56fd14d8",
   "metadata": {},
   "source": [
    "对这个代码的分析主要是对在这部分：\n",
    "\n",
    "    (let ((temp (cdr x)))\n",
    "          (set-cdr! x y)\n",
    "          (loop temp x))\n",
    "          \n",
    "就是用用temp保存x的cdr，也就是x列表中第二个元素和它开始的后续所有元素。\n",
    "\n",
    "然后让x的cdr指向y，也就是之前累积的前面的元素。\n",
    "\n",
    "接着递归调用loop，然后temp里面的元素倒转，连接到x。\n",
    "\n",
    "这种操作有点像开着火车修铁路，要特别准确地操作“指针”。"
   ]
  },
  {
   "cell_type": "markdown",
   "id": "fd0129f4",
   "metadata": {},
   "source": [
    "下面是测试函数："
   ]
  },
  {
   "cell_type": "code",
   "execution_count": 4,
   "id": "51239efd",
   "metadata": {},
   "outputs": [],
   "source": [
    "\n",
    "\n",
    "(define (start-test-3-14)\n",
    "  (define v (list 'a 'b 'c 'd))\n",
    "  (define w (mystery v))\n",
    "  (display \"v is: \") (display v)\n",
    "  (newline)\n",
    "  (display \"w is: \") (display w)\n",
    "  (newline))"
   ]
  },
  {
   "cell_type": "code",
   "execution_count": 5,
   "id": "00ea9de4",
   "metadata": {},
   "outputs": [
    {
     "name": "stdout",
     "output_type": "stream",
     "text": [
      "v is: (a)\n",
      "w is: (d c b a)\n"
     ]
    }
   ],
   "source": [
    "(start-test-3-14)"
   ]
  },
  {
   "cell_type": "code",
   "execution_count": null,
   "id": "290a0d50",
   "metadata": {},
   "outputs": [],
   "source": []
  }
 ],
 "metadata": {
  "kernelspec": {
   "display_name": "Calysto Scheme 3",
   "language": "scheme",
   "name": "calysto_scheme"
  },
  "language_info": {
   "codemirror_mode": {
    "name": "scheme"
   },
   "mimetype": "text/x-scheme",
   "name": "scheme",
   "pygments_lexer": "scheme"
  }
 },
 "nbformat": 4,
 "nbformat_minor": 5
}
