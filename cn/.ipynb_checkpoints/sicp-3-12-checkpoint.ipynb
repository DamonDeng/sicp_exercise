{
 "cells": [
  {
   "cell_type": "markdown",
   "id": "079f4e51",
   "metadata": {},
   "source": [
    "## SICP 习题 （3.12）解题总结: 变动的表结构"
   ]
  },
  {
   "cell_type": "markdown",
   "id": "a25f20d7",
   "metadata": {},
   "source": [
    "SICP 习题 3.12 开始讨论变动的表结构。\n",
    "\n",
    "题目的上文已经介绍了(set-car!) (set-cdr!)函数，一看这函数长成这样都知道是会改变状态的家伙。\n",
    "\n",
    "之前我们对于(car) 和 (cdr)都讨论了很多，他们分别取(cons)函数的第一个值和第二个值，而(cons)函数可以接受各种输入，所以(car)和(cdr)也就可以是各种内容，包括指向其它变量的“指针”。也正是通过这种方式，我们可以通过(cons)构建各种数据结构，像 顺序的列表，树，等等。\n",
    "\n",
    "这里面开始提到的(set-car!)和(set-cdr!)其实就是改变这个“指针”的值，可以让他们变成一个新的变量，或者指向一个新的其它数据结构。\n",
    "\n",
    "题目还介绍了(append!)函数，他接受两个参数，会把第二个参数的列表接到第一个参数里。\n",
    "\n",
    "普通的(append)函数也可以对接列表，但是不会改变第一个列表，而(append!)函数会直接修改第一个列表："
   ]
  },
  {
   "cell_type": "markdown",
   "id": "c398827c",
   "metadata": {},
   "source": [
    "一下是普通(append)的表现："
   ]
  },
  {
   "cell_type": "code",
   "execution_count": 24,
   "id": "83062fd3",
   "metadata": {},
   "outputs": [
    {
     "data": {
      "text/plain": [
       "(1 2 3 4)"
      ]
     },
     "execution_count": 24,
     "metadata": {},
     "output_type": "execute_result"
    }
   ],
   "source": [
    "(append '(1 2) '(3 4))"
   ]
  },
  {
   "cell_type": "code",
   "execution_count": 25,
   "id": "37ed2336",
   "metadata": {},
   "outputs": [],
   "source": [
    "(define a (list 1 2))\n",
    "(define b (list 3 4))"
   ]
  },
  {
   "cell_type": "code",
   "execution_count": 26,
   "id": "402d60b5",
   "metadata": {},
   "outputs": [
    {
     "data": {
      "text/plain": [
       "(1 2)"
      ]
     },
     "execution_count": 26,
     "metadata": {},
     "output_type": "execute_result"
    }
   ],
   "source": [
    "a"
   ]
  },
  {
   "cell_type": "code",
   "execution_count": 27,
   "id": "d343eb52",
   "metadata": {},
   "outputs": [
    {
     "data": {
      "text/plain": [
       "(3 4)"
      ]
     },
     "execution_count": 27,
     "metadata": {},
     "output_type": "execute_result"
    }
   ],
   "source": [
    "b"
   ]
  },
  {
   "cell_type": "code",
   "execution_count": 29,
   "id": "bb550546",
   "metadata": {},
   "outputs": [
    {
     "data": {
      "text/plain": [
       "(1 2 3 4)"
      ]
     },
     "execution_count": 29,
     "metadata": {},
     "output_type": "execute_result"
    }
   ],
   "source": [
    "(append a b)"
   ]
  },
  {
   "cell_type": "code",
   "execution_count": 30,
   "id": "5eea138b",
   "metadata": {},
   "outputs": [
    {
     "data": {
      "text/plain": [
       "(1 2)"
      ]
     },
     "execution_count": 30,
     "metadata": {},
     "output_type": "execute_result"
    }
   ],
   "source": [
    "a"
   ]
  },
  {
   "cell_type": "code",
   "execution_count": 31,
   "id": "fdf98261",
   "metadata": {},
   "outputs": [
    {
     "data": {
      "text/plain": [
       "(3 4)"
      ]
     },
     "execution_count": 31,
     "metadata": {},
     "output_type": "execute_result"
    }
   ],
   "source": [
    "b"
   ]
  },
  {
   "cell_type": "markdown",
   "id": "51d25183",
   "metadata": {},
   "source": [
    "以下是(append!)的实现："
   ]
  },
  {
   "cell_type": "code",
   "execution_count": 32,
   "id": "46412992",
   "metadata": {},
   "outputs": [],
   "source": [
    "(define (append! x y)\n",
    "  (set-cdr! (last-pair x) y)\n",
    "  x)\n",
    "\n",
    "(define (last-pair x)\n",
    "  (if (null? (cdr x))\n",
    "      x\n",
    "      (last-pair (cdr x))))"
   ]
  },
  {
   "cell_type": "markdown",
   "id": "8c91ee5f",
   "metadata": {},
   "source": [
    "以下是(append!)的表现："
   ]
  },
  {
   "cell_type": "code",
   "execution_count": 33,
   "id": "7eb0384d",
   "metadata": {},
   "outputs": [],
   "source": [
    "(define a (list 1 2))\n",
    "(define b (list 3 4))"
   ]
  },
  {
   "cell_type": "code",
   "execution_count": 34,
   "id": "0d9bc708",
   "metadata": {},
   "outputs": [
    {
     "data": {
      "text/plain": [
       "(1 2)"
      ]
     },
     "execution_count": 34,
     "metadata": {},
     "output_type": "execute_result"
    }
   ],
   "source": [
    "a"
   ]
  },
  {
   "cell_type": "code",
   "execution_count": 35,
   "id": "4a277ac3",
   "metadata": {},
   "outputs": [
    {
     "data": {
      "text/plain": [
       "(3 4)"
      ]
     },
     "execution_count": 35,
     "metadata": {},
     "output_type": "execute_result"
    }
   ],
   "source": [
    "b"
   ]
  },
  {
   "cell_type": "code",
   "execution_count": 36,
   "id": "a67ab7c3",
   "metadata": {},
   "outputs": [
    {
     "data": {
      "text/plain": [
       "(1 2 3 4)"
      ]
     },
     "execution_count": 36,
     "metadata": {},
     "output_type": "execute_result"
    }
   ],
   "source": [
    "(append! a b)"
   ]
  },
  {
   "cell_type": "code",
   "execution_count": 37,
   "id": "202bf791",
   "metadata": {},
   "outputs": [
    {
     "data": {
      "text/plain": [
       "(1 2 3 4)"
      ]
     },
     "execution_count": 37,
     "metadata": {},
     "output_type": "execute_result"
    }
   ],
   "source": [
    "a"
   ]
  },
  {
   "cell_type": "code",
   "execution_count": 38,
   "id": "c482e6d7",
   "metadata": {},
   "outputs": [
    {
     "data": {
      "text/plain": [
       "(3 4)"
      ]
     },
     "execution_count": 38,
     "metadata": {},
     "output_type": "execute_result"
    }
   ],
   "source": [
    "b"
   ]
  },
  {
   "cell_type": "markdown",
   "id": "446ed013",
   "metadata": {},
   "source": [
    "以下是统一的测试："
   ]
  },
  {
   "cell_type": "code",
   "execution_count": 39,
   "id": "5e213cf3",
   "metadata": {},
   "outputs": [
    {
     "name": "stdout",
     "output_type": "stream",
     "text": [
      "z is: (a b c d)\n",
      "x is: (a b)\n",
      "w is: (a b c d)\n",
      "x is: (a b c d)"
     ]
    }
   ],
   "source": [
    "(define x (list 'a 'b))\n",
    "(define y (list 'c 'd))\n",
    "(define z (append x y))\n",
    "(display \"z is: \")(display z)\n",
    "(newline)\n",
    "(display \"x is: \")(display x)\n",
    "(newline)\n",
    "(define w (append! x y))\n",
    "(display \"w is: \") (display w)\n",
    "(newline)\n",
    "(display \"x is: \")(display x)"
   ]
  },
  {
   "cell_type": "code",
   "execution_count": null,
   "id": "48fddc16",
   "metadata": {},
   "outputs": [],
   "source": []
  }
 ],
 "metadata": {
  "kernelspec": {
   "display_name": "Calysto Scheme 3",
   "language": "scheme",
   "name": "calysto_scheme"
  },
  "language_info": {
   "codemirror_mode": {
    "name": "scheme"
   },
   "mimetype": "text/x-scheme",
   "name": "scheme",
   "pygments_lexer": "scheme"
  }
 },
 "nbformat": 4,
 "nbformat_minor": 5
}
