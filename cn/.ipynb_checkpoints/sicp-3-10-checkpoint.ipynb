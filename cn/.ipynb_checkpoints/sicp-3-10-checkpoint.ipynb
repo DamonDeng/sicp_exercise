{
 "cells": [
  {
   "cell_type": "markdown",
   "id": "079f4e51",
   "metadata": {},
   "source": [
    "## SICP 习题 （3.10）解题总结: Lambda相关的环境结构"
   ]
  },
  {
   "cell_type": "markdown",
   "id": "71b540a3",
   "metadata": {},
   "source": [
    "SICP 习题 3.10 讨论的是lambda函数相关的环境结构。\n",
    "\n",
    "虽然本题也是论述题，但是还是需要我们跑一跑代码。\n",
    "\n",
    "先看看书里的(make-withdraw)函数，这个函数返回一个lambda函数，注意在(make-withdraw)函数里创建lambda的过程中把balance变量绑定到了lambda函数的“环境”里。这样返回的一个lambda函数就像一个对象一样，拥有自己的变量balance。"
   ]
  },
  {
   "cell_type": "code",
   "execution_count": 15,
   "id": "51239efd",
   "metadata": {},
   "outputs": [],
   "source": [
    "(define (make-withdraw balance)\n",
    "  (lambda (amount)\n",
    "    (if (>= balance amount)\n",
    "        (begin (set! balance (- balance amount))\n",
    "               balance)\n",
    "        \"Insufficient funds\")))"
   ]
  },
  {
   "cell_type": "markdown",
   "id": "12581844",
   "metadata": {},
   "source": [
    "下面简单测试一下："
   ]
  },
  {
   "cell_type": "code",
   "execution_count": 16,
   "id": "27b0e898",
   "metadata": {},
   "outputs": [],
   "source": [
    "(define w1 (make-withdraw 100))"
   ]
  },
  {
   "cell_type": "code",
   "execution_count": 17,
   "id": "6d0479c6",
   "metadata": {},
   "outputs": [
    {
     "data": {
      "text/plain": [
       "50"
      ]
     },
     "execution_count": 17,
     "metadata": {},
     "output_type": "execute_result"
    }
   ],
   "source": [
    "(w1 50)"
   ]
  },
  {
   "cell_type": "code",
   "execution_count": 18,
   "id": "ad6ef04a",
   "metadata": {},
   "outputs": [
    {
     "data": {
      "text/plain": [
       "40"
      ]
     },
     "execution_count": 18,
     "metadata": {},
     "output_type": "execute_result"
    }
   ],
   "source": [
    "(w1 10)"
   ]
  },
  {
   "cell_type": "code",
   "execution_count": 19,
   "id": "6f37804c",
   "metadata": {},
   "outputs": [],
   "source": [
    "(define w2 (make-withdraw 200))"
   ]
  },
  {
   "cell_type": "code",
   "execution_count": 20,
   "id": "b8470c85",
   "metadata": {},
   "outputs": [
    {
     "data": {
      "text/plain": [
       "190"
      ]
     },
     "execution_count": 20,
     "metadata": {},
     "output_type": "execute_result"
    }
   ],
   "source": [
    "(w2 10)"
   ]
  },
  {
   "cell_type": "markdown",
   "id": "f9ba7970",
   "metadata": {},
   "source": [
    "题目提出了一个新的实现方法，在(make-withdraw)里使用(let)函数把initial-amount绑定给了balance。\n",
    "\n",
    "题目也提到(let)函数其实是(lambda)的语法糖，也就是说调用(let)函数相当于创建了一个lambda。\n",
    "\n",
    "所以我们分析这个新的make-withdraw函数时可以把它当两层嵌套的lambda来看。这样的话initial-amount的值就被赋予了balance，而balance变量被绑定到了里面那个lambda里变成了那个lambda函数的变量。"
   ]
  },
  {
   "cell_type": "code",
   "execution_count": 21,
   "id": "b92598c0",
   "metadata": {},
   "outputs": [],
   "source": [
    "(define (make-withdraw initial-amount)\n",
    "  (let ((balance initial-amount))\n",
    "    (lambda (amount)\n",
    "           (if (>= balance amount)\n",
    "               (begin (set! balance (- balance amount))\n",
    "                      balance)\n",
    "               \"Insufficient funds\"))))"
   ]
  },
  {
   "cell_type": "markdown",
   "id": "588f1381",
   "metadata": {},
   "source": [
    "简答测试一下可以发现新的(make-withdraw)函数和以前那个是同样工作的。"
   ]
  },
  {
   "cell_type": "code",
   "execution_count": 22,
   "id": "7d10c602",
   "metadata": {},
   "outputs": [],
   "source": [
    "(define w1 (make-withdraw 100))"
   ]
  },
  {
   "cell_type": "code",
   "execution_count": 23,
   "id": "0dee0ac6",
   "metadata": {},
   "outputs": [
    {
     "data": {
      "text/plain": [
       "50"
      ]
     },
     "execution_count": 23,
     "metadata": {},
     "output_type": "execute_result"
    }
   ],
   "source": [
    "(w1 50)"
   ]
  },
  {
   "cell_type": "code",
   "execution_count": 24,
   "id": "f756fed6",
   "metadata": {},
   "outputs": [],
   "source": [
    "(define w2 (make-withdraw 100))"
   ]
  },
  {
   "cell_type": "code",
   "execution_count": 25,
   "id": "ebce243d",
   "metadata": {},
   "outputs": [
    {
     "data": {
      "text/plain": [
       "99"
      ]
     },
     "execution_count": 25,
     "metadata": {},
     "output_type": "execute_result"
    }
   ],
   "source": [
    "(w2 1)"
   ]
  },
  {
   "cell_type": "code",
   "execution_count": null,
   "id": "fbc081fe",
   "metadata": {},
   "outputs": [],
   "source": []
  }
 ],
 "metadata": {
  "kernelspec": {
   "display_name": "Calysto Scheme 3",
   "language": "scheme",
   "name": "calysto_scheme"
  },
  "language_info": {
   "codemirror_mode": {
    "name": "scheme"
   },
   "mimetype": "text/x-scheme",
   "name": "scheme",
   "pygments_lexer": "scheme"
  }
 },
 "nbformat": 4,
 "nbformat_minor": 5
}
