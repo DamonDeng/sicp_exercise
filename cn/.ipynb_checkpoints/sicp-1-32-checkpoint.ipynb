{
 "cells": [
  {
   "cell_type": "markdown",
   "id": "5f77e014",
   "metadata": {},
   "source": [
    "## SICP 习题 （1.32）解题总结"
   ]
  },
  {
   "cell_type": "markdown",
   "id": "496e64f8",
   "metadata": {},
   "source": [
    "SICP  习题1.32要求我们考察之前完成的sum过程和product 过程，说明它们是名为accumulate的过程的特殊情况。\n",
    "\n",
    "反过来说的话，就是要我们对sum过程和product过程进行抽象，形成一个更普遍，更通用的过程。"
   ]
  },
  {
   "cell_type": "markdown",
   "id": "d9a16c51",
   "metadata": {},
   "source": [
    "我们在习题1.31的解题总结中已经讨论了，其实sum过程和product过程相差很小，就是累积的操作不一样，初始化的数值不一样。\n",
    "\n",
    "这样，我们就可以将不同的东西抽离出来，定义一个更广泛的过程，按题目要求，把这个过程叫做accumulate过程，accumulate就是“累积”的意思。\n",
    "\n",
    "我定义的accumulate过程如下："
   ]
  },
  {
   "cell_type": "code",
   "execution_count": 1,
   "id": "8e304bb2",
   "metadata": {},
   "outputs": [],
   "source": [
    "(define (accumulate combiner null-value term a next b)\n",
    "  (if (> a b)\n",
    "      null-value\n",
    "      (combiner (term a)\n",
    "\t (accumulate combiner null-value term (next a) next b))))"
   ]
  },
  {
   "cell_type": "markdown",
   "id": "5c249e31",
   "metadata": {},
   "source": [
    "可以看出，它和sum过程或者是product过程很像，就是加了combiner参数和null-value参数，用combiner参数代替+号和*号，用null-value代替0和1。\n",
    "\n",
    "如果用accumulate来实现sum的话是这样的："
   ]
  },
  {
   "cell_type": "code",
   "execution_count": 2,
   "id": "61d4b9dc",
   "metadata": {},
   "outputs": [],
   "source": [
    "(define (sum term a next b)\n",
    "    (accumulate + 0 term a next b))"
   ]
  },
  {
   "cell_type": "markdown",
   "id": "c993e003",
   "metadata": {},
   "source": [
    "实现的product应该是这个样子的："
   ]
  },
  {
   "cell_type": "code",
   "execution_count": 3,
   "id": "759a2435",
   "metadata": {},
   "outputs": [],
   "source": [
    "(define (product term a next b)\n",
    "    (accumulate * 1 term a next b))"
   ]
  },
  {
   "cell_type": "markdown",
   "id": "fbe322b9",
   "metadata": {},
   "source": [
    "定义term函数和next函数："
   ]
  },
  {
   "cell_type": "code",
   "execution_count": 5,
   "id": "21bbd1d4",
   "metadata": {},
   "outputs": [],
   "source": [
    "(define (square x) (* x x))\n",
    "(define (increase x) (+ x 1))"
   ]
  },
  {
   "cell_type": "markdown",
   "id": "ad70f21d",
   "metadata": {},
   "source": [
    "测试一下sum函数和product函数"
   ]
  },
  {
   "cell_type": "code",
   "execution_count": 7,
   "id": "2fbad696",
   "metadata": {},
   "outputs": [
    {
     "data": {
      "text/plain": [
       "30"
      ]
     },
     "execution_count": 7,
     "metadata": {},
     "output_type": "execute_result"
    }
   ],
   "source": [
    "(sum square 1 increase 4)"
   ]
  },
  {
   "cell_type": "code",
   "execution_count": 6,
   "id": "47fd7f25",
   "metadata": {},
   "outputs": [
    {
     "data": {
      "text/plain": [
       "576"
      ]
     },
     "execution_count": 6,
     "metadata": {},
     "output_type": "execute_result"
    }
   ],
   "source": [
    "(product square 1 increase 4)"
   ]
  },
  {
   "cell_type": "markdown",
   "id": "0e900d2f",
   "metadata": {},
   "source": [
    "然后，题目要求我们实现迭代版的accumulate，这个对我们来讲就不算太难了，过程如下："
   ]
  },
  {
   "cell_type": "code",
   "execution_count": 4,
   "id": "b9152584",
   "metadata": {},
   "outputs": [],
   "source": [
    "(define (accumulate-iter combiner null-value term a next b )\n",
    "  (define (iter a result)\n",
    "    (if (> a b)\n",
    "\tresult\n",
    "\t(iter (next a) (combiner (term a) result))))\n",
    "  (iter a null-value))"
   ]
  },
  {
   "cell_type": "markdown",
   "id": "a7c1a24c",
   "metadata": {},
   "source": [
    "简单测试一下："
   ]
  },
  {
   "cell_type": "code",
   "execution_count": 8,
   "id": "3497b65f",
   "metadata": {},
   "outputs": [
    {
     "data": {
      "text/plain": [
       "14400"
      ]
     },
     "execution_count": 8,
     "metadata": {},
     "output_type": "execute_result"
    }
   ],
   "source": [
    "(accumulate-iter * 1 square 1 increase 5)"
   ]
  }
 ],
 "metadata": {
  "kernelspec": {
   "display_name": "Calysto Scheme 3",
   "language": "scheme",
   "name": "calysto_scheme"
  },
  "language_info": {
   "codemirror_mode": {
    "name": "scheme"
   },
   "mimetype": "text/x-scheme",
   "name": "scheme",
   "pygments_lexer": "scheme"
  }
 },
 "nbformat": 4,
 "nbformat_minor": 5
}
