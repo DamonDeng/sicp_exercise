{
 "cells": [
  {
   "cell_type": "markdown",
   "id": "079f4e51",
   "metadata": {},
   "source": [
    "## SICP 习题 （3.19）解题总结: 空间复杂度为常数的环路的检测"
   ]
  },
  {
   "cell_type": "markdown",
   "id": "80443e9b",
   "metadata": {},
   "source": [
    "SICP 习题 3.19 要求我们构建一个空间复杂度为O(1)的环路检测函数。\n",
    "\n",
    "之所以会提出这个要求是因为我们的3.18的实现的空间复杂度是O(n)的，因为我们要记录遍历过的元素，所以需要和目标等数量级的空间来保存路径。"
   ]
  },
  {
   "cell_type": "markdown",
   "id": "efd28f23",
   "metadata": {},
   "source": [
    "题目也说了，要构建空间复杂度为常数的环路检测函数还是需要一个聪明的想法的。\n",
    "\n",
    "关于这个问题，其实是一个图的环路检测问题，空间复杂度为常数的检测方法有很多人研究过。\n",
    "\n",
    "大概的思路是这样的，就是在遍历过程中留下一个路标，如果在往前走的时候又遇到了这个路标，那就是个环路了。注意这里只能是往前走，后退不算。\n",
    "\n",
    "说到这个让我想起年轻的时候玩文字网络游戏MUD，走迷宫的时候会习惯地往地上扔几个铜板，如果走着走着又遇到了自己扔下的铜板，那就是绕圈圈了。\n",
    "\n",
    "不过这里有个问题，如果我们仍铜板的地方还没有进入环路，我们在环路上绕圈圈的时候是看不到我们扔下的铜板的。解决办法就是给自己设置一个最大步数，如果超过最大步数还没有看到铜板，就重新扔一个铜板，同时把最大步数增加一倍。\n",
    "\n",
    "因为我们在实现的时候只需要记录最后一个扔下的铜板，所以存储的空间复杂度是常数的。\n",
    "\n",
    "基本的代码实现如下："
   ]
  },
  {
   "cell_type": "code",
   "execution_count": 6,
   "id": "01cbfa48",
   "metadata": {},
   "outputs": [],
   "source": [
    "(define (find-loop target)\n",
    "  (define coin '(0))\n",
    "\n",
    "  (define (step-forward x max-step cur-step)\n",
    "    \n",
    "    (if (not (pair? x))\n",
    "\t#f \n",
    "\t(if (eq? coin x)\n",
    "\t    #t \n",
    "\t    (if (> cur-step max-step)\n",
    "\t\t(begin \n",
    "\t\t  (set! coin x)\n",
    "\t\t  (or (step-forward (car x) (* max-step 2) 1)\n",
    "\t\t      (step-forward (cdr x) (* max-step 2) 1)))\n",
    "\t\t(begin\n",
    "\t\t  (or (step-forward (car x) max-step (+ cur-step 1))\n",
    "\t\t      (step-forward (cdr x) max-step (+ cur-step 1))))))))\n",
    "\n",
    "  (step-forward target 200 1))"
   ]
  },
  {
   "cell_type": "code",
   "execution_count": 7,
   "id": "8481ac84",
   "metadata": {},
   "outputs": [],
   "source": [
    "(define (make-cycle x)\n",
    "  (set-cdr! (last-pair x) x)\n",
    "  x)\n",
    "\n",
    "\n",
    "(define (last-pair x)\n",
    "  (if (null? (cdr x))\n",
    "      x\n",
    "      (last-pair (cdr x))))"
   ]
  },
  {
   "cell_type": "code",
   "execution_count": 8,
   "id": "22b3e2df",
   "metadata": {},
   "outputs": [
    {
     "data": {
      "text/plain": [
       "#t"
      ]
     },
     "execution_count": 8,
     "metadata": {},
     "output_type": "execute_result"
    }
   ],
   "source": [
    "(define cycle-sample (make-cycle '(1 2 3 4)))\n",
    "(find-loop cycle-sample )"
   ]
  },
  {
   "cell_type": "markdown",
   "id": "5887b02a",
   "metadata": {},
   "source": [
    "这个方法确实是一个巧妙的方法，向算法研究的先驱们致敬！"
   ]
  },
  {
   "cell_type": "code",
   "execution_count": null,
   "id": "40b8e635",
   "metadata": {},
   "outputs": [],
   "source": []
  }
 ],
 "metadata": {
  "kernelspec": {
   "display_name": "Calysto Scheme 3",
   "language": "scheme",
   "name": "calysto_scheme"
  },
  "language_info": {
   "codemirror_mode": {
    "name": "scheme"
   },
   "mimetype": "text/x-scheme",
   "name": "scheme",
   "pygments_lexer": "scheme"
  }
 },
 "nbformat": 4,
 "nbformat_minor": 5
}
