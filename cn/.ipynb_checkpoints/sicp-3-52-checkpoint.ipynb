{
 "cells": [
  {
   "cell_type": "markdown",
   "id": "079f4e51",
   "metadata": {},
   "source": [
    "## title"
   ]
  },
  {
   "cell_type": "code",
   "execution_count": null,
   "id": "51239efd",
   "metadata": {},
   "outputs": [],
   "source": [
    "(define (stream-enumerate-interval low high)\n",
    "  (if (> low high)\n",
    "      the-empty-stream\n",
    "      (cons-stream \n",
    "       low\n",
    "       (stream-enumerate-interval (+ low 1) high))))\n",
    "\n",
    "(define (show x)\n",
    "  (display x)\n",
    "  \n",
    "  x)\n",
    "\n",
    "(define (start-test-3-51)\n",
    "  (define x (stream-map show (stream-enumerate-interval 0 10)))\n",
    "  (newline)\n",
    "  (display (stream-ref x 5))\n",
    "  (newline)\n",
    "  (display (stream-ref x 7)))\n",
    "\n",
    "(define (stream-for-each proc s)\n",
    "  (if (stream-null? s)\n",
    "      'done\n",
    "      (begin (proc (stream-car s))\n",
    "\t     (stream-for-each proc (stream-cdr s)))))\n",
    "\n",
    "\n",
    "(define (display-stream s)\n",
    "  (stream-for-each display-line s))\n",
    "\n",
    "(define (display-line x)\n",
    "  (newline)\n",
    "  (display x))\n",
    "\n",
    "\n",
    "(define (start-test-3-52)\n",
    "\n",
    "  (define sum 0)\n",
    "  (define (accum x)\n",
    "    (set! sum (+ x sum))\n",
    "    sum)\n",
    "\n",
    "  (define seq (stream-map accum (stream-enumerate-interval 1 20)))\n",
    "  (display \"after (define seq...\")\n",
    "  (display sum)\n",
    "  (newline)\n",
    "\n",
    "\n",
    "  (define y (stream-filter even? seq))\n",
    "  (display \"after (define y ...\")\n",
    "  (display sum)\n",
    "  (newline)\n",
    "\n",
    "  (define z (stream-filter (lambda (x) (= (remainder x 5) 0))\n",
    "\t\t\t   seq))\n",
    "  (display \"after (define z ...\")\n",
    "  (display sum)\n",
    "  (newline)\n",
    "\n",
    "  (display \"after (stream-ref y 7 ...\")\n",
    "  (stream-ref y 7)\n",
    "  (display sum)\n",
    "  (newline)\n",
    "\n",
    "  (display-stream z)\n",
    "  (display \"after (display-stream z ...\")\n",
    "  (display sum)\n",
    "  (newline))"
   ]
  }
 ],
 "metadata": {
  "kernelspec": {
   "display_name": "Calysto Scheme 3",
   "language": "scheme",
   "name": "calysto_scheme"
  },
  "language_info": {
   "codemirror_mode": {
    "name": "scheme"
   },
   "mimetype": "text/x-scheme",
   "name": "scheme",
   "pygments_lexer": "scheme"
  }
 },
 "nbformat": 4,
 "nbformat_minor": 5
}
