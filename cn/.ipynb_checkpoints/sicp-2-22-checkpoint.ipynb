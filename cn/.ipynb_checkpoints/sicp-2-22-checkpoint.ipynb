{
 "cells": [
  {
   "cell_type": "markdown",
   "id": "0454da55",
   "metadata": {},
   "source": [
    "## SICP 习题 （2.22）解题总结: 迭代过程中的列表处理"
   ]
  },
  {
   "cell_type": "markdown",
   "id": "f9e3d749",
   "metadata": {},
   "source": [
    "SICP 习题 2.22是习题2.21的后续题目，题目中讲到叫Louis Reasoner的人想重写suqare-list过程，希望使用迭代计算过程，而不是递归计算过程，有关迭代计算过程和递归计算过程，如果你没什么印象了，请翻回习题1.9 的解题总结看看。\n",
    "\n",
    "那个叫Louis Reasoner的人写的迭代版的suqre-list是这样的："
   ]
  },
  {
   "cell_type": "code",
   "execution_count": 1,
   "id": "6a26d176",
   "metadata": {},
   "outputs": [],
   "source": [
    "(define (square-list-revert items)\n",
    "  (define (iter things answer)\n",
    "    (if (null? things)\n",
    "\tanswer\n",
    "\t(iter (cdr things)\n",
    "\t      (cons (square (car things))\n",
    "\t\t    answer))))\n",
    "  (iter items '()))\n"
   ]
  },
  {
   "cell_type": "markdown",
   "id": "c8736d43",
   "metadata": {},
   "source": [
    "然后他发现这个过程有些问题，所有平方数的顺序反了。测试一下就知道了："
   ]
  },
  {
   "cell_type": "code",
   "execution_count": 4,
   "id": "d3af3007",
   "metadata": {},
   "outputs": [],
   "source": [
    "(define (square x) (* x x))"
   ]
  },
  {
   "cell_type": "code",
   "execution_count": 5,
   "id": "1ff19276",
   "metadata": {
    "scrolled": true
   },
   "outputs": [
    {
     "data": {
      "text/plain": [
       "(9 4 36 16)"
      ]
     },
     "execution_count": 5,
     "metadata": {},
     "output_type": "execute_result"
    }
   ],
   "source": [
    "(square-list-revert '(4 6 2 3))"
   ]
  },
  {
   "cell_type": "markdown",
   "id": "6980d91c",
   "metadata": {},
   "source": [
    "\n",
    "\n",
    "于是他又将过程改成这样：\n"
   ]
  },
  {
   "cell_type": "code",
   "execution_count": 6,
   "id": "e1060f50",
   "metadata": {},
   "outputs": [],
   "source": [
    "(define (square-list-revert-2 items)\n",
    "  (define (iter things answer)\n",
    "    (if (null? things)\n",
    "\tanswer\n",
    "\t(iter (cdr things)\n",
    "\t      (cons answer\n",
    "\t\t    (square (car things))))))\n",
    "  (iter items '()))"
   ]
  },
  {
   "cell_type": "markdown",
   "id": "df538a26",
   "metadata": {},
   "source": [
    "结果还是不对，这次返回的平方数的顺序是对了，不过格式有问题，没有形成一个列表，而是形成了一个嵌套的列表。。。。\n",
    "\n",
    "像下面这样："
   ]
  },
  {
   "cell_type": "code",
   "execution_count": 7,
   "id": "10a76068",
   "metadata": {},
   "outputs": [
    {
     "data": {
      "text/plain": [
       "((((() . 16) . 36) . 4) . 9)"
      ]
     },
     "execution_count": 7,
     "metadata": {},
     "output_type": "execute_result"
    }
   ],
   "source": [
    "(square-list-revert-2 '(4 6 2 3))"
   ]
  },
  {
   "cell_type": "markdown",
   "id": "661c5333",
   "metadata": {},
   "source": [
    "\n",
    "\n",
    "题目要求我们解释为什么。\n",
    "\n",
    "如果仔细分析以上的返回值，我觉得很多程序员都会明白是为什么：\n",
    "\n",
    "可以看到，Louis其实是将() 和 1 连接在一起，应为后面没有nil，所以这个变成了一个序对(() . 1)，然后又将序对(()  .  1) 和 4 连接起来，继续形成新的序对。。。。。\n",
    "\n",
    "最后，如果一定要使用Louis的代码进行修改，完成相同的功能的话，可以使用append过程代替cons过程，将代码写成这样："
   ]
  },
  {
   "cell_type": "code",
   "execution_count": 8,
   "id": "e441b44e",
   "metadata": {},
   "outputs": [],
   "source": [
    "\n",
    "(define (square-list-revert-right items)\n",
    "  (define (iter things answer)\n",
    "    (if (null? things)\n",
    "\tanswer\n",
    "\t(iter (cdr things)\n",
    "\t      (append answer\n",
    "\t\t    (list (square (car things)))))))\n",
    "  (iter items '()))"
   ]
  },
  {
   "cell_type": "code",
   "execution_count": 9,
   "id": "7b3a2833",
   "metadata": {},
   "outputs": [
    {
     "data": {
      "text/plain": [
       "(16 36 4 9)"
      ]
     },
     "execution_count": 9,
     "metadata": {},
     "output_type": "execute_result"
    }
   ],
   "source": [
    "(square-list-revert-right '(4 6 2 3))"
   ]
  },
  {
   "cell_type": "markdown",
   "id": "1673127c",
   "metadata": {},
   "source": [
    "不过，如果我们考虑的是效率的话，使用append并不是一个好主意，大家可以想一想为什么。"
   ]
  },
  {
   "cell_type": "code",
   "execution_count": null,
   "id": "a52d49cb",
   "metadata": {},
   "outputs": [],
   "source": []
  }
 ],
 "metadata": {
  "kernelspec": {
   "display_name": "Calysto Scheme 3",
   "language": "scheme",
   "name": "calysto_scheme"
  },
  "language_info": {
   "codemirror_mode": {
    "name": "scheme"
   },
   "mimetype": "text/x-scheme",
   "name": "scheme",
   "pygments_lexer": "scheme"
  }
 },
 "nbformat": 4,
 "nbformat_minor": 5
}
