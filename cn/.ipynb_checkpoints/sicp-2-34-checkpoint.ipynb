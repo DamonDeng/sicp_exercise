{
 "cells": [
  {
   "cell_type": "markdown",
   "id": "0454da55",
   "metadata": {},
   "source": [
    "## SICP 习题 (2.34)解题总结 : 累积过程的深入运用"
   ]
  },
  {
   "cell_type": "markdown",
   "id": "42723e82",
   "metadata": {},
   "source": [
    "SICP 习题 2.34 是对accumulate过程的进一步讨论，这次又讲到数学了。。。。。\n",
    "\n",
    "题目提到Horner规则，就是说下面这种多项式：\n",
    "\n",
    "a(n) * x ^n  +  a(n-1) * x ^ (n-1) ….. + a(1) x  + a(0)\n",
    "\n",
    "可以表达为另一种形式，就是：\n",
    "\n",
    "((…(a(n) * x + a(n-1)) * x + a( n- 2)) * x ) … + a(1)) x + a(0)\n",
    "\n",
    "这个在数学上不难理解，就是不断将x抽出来，举个简单的例子就是下面这样：\n",
    "\n",
    "a* x ^ 5  + b * x ^4 + c* x^3 + d * x ^2 + e * x +f\n",
    "\n",
    "可以变为：\n",
    "\n",
    "((((ax + b)* x + c )* x + d )* x + e )* x+ f\n",
    "\n",
    "如果把这个也当做是一个累积的话，用于累积的列表就是各个系数，把它们倒序放入一个列表，有(f e d c b a)。\n",
    "\n",
    "先是(  0 + a) * x\n",
    "\n",
    "接着是(( 0 + a) * x +b ) * x\n",
    "\n",
    "再接着是((( 0 + a) * x + b) * x ) + c)* x\n",
    "\n",
    "可以总结，累积操作就是 “加上 当前系数”，然后乘于 x \n",
    "\n",
    "而初始累积值是0\n",
    "\n",
    "对应的代码是："
   ]
  },
  {
   "cell_type": "code",
   "execution_count": 1,
   "id": "9e85ae8c",
   "metadata": {},
   "outputs": [],
   "source": [
    "(define (horner-eval x coefficient-sequence)\n",
    "  (accumulate (lambda (this-coeff higher-terms)\n",
    "\t\t(* (+ this-coeff higher-terms) x))\n",
    "\t      0\n",
    "\t      coefficient-sequence))\n",
    "\n",
    "\n",
    "(define (accumulate op initial sequence)\n",
    "  (if (null? sequence)\n",
    "      initial\n",
    "      (op (car sequence)\n",
    "\t  (accumulate op initial (cdr sequence)))))"
   ]
  },
  {
   "cell_type": "code",
   "execution_count": 2,
   "id": "8f33c498",
   "metadata": {},
   "outputs": [
    {
     "data": {
      "text/plain": [
       "158"
      ]
     },
     "execution_count": 2,
     "metadata": {},
     "output_type": "execute_result"
    }
   ],
   "source": [
    "(horner-eval 2 (list 1 3 0 5 0 1))"
   ]
  },
  {
   "cell_type": "code",
   "execution_count": null,
   "id": "4e6a56d3",
   "metadata": {},
   "outputs": [],
   "source": []
  }
 ],
 "metadata": {
  "kernelspec": {
   "display_name": "Calysto Scheme 3",
   "language": "scheme",
   "name": "calysto_scheme"
  },
  "language_info": {
   "codemirror_mode": {
    "name": "scheme"
   },
   "mimetype": "text/x-scheme",
   "name": "scheme",
   "pygments_lexer": "scheme"
  }
 },
 "nbformat": 4,
 "nbformat_minor": 5
}
