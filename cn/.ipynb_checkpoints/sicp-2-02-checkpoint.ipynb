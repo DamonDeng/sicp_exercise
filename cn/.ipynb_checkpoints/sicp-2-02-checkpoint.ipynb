{
 "cells": [
  {
   "cell_type": "markdown",
   "id": "0454da55",
   "metadata": {},
   "source": [
    "## SICP 习题 （2.2） 解题总结：用复合数据表示点和线段"
   ]
  },
  {
   "cell_type": "markdown",
   "id": "4dbf3750",
   "metadata": {},
   "source": [
    "SICP 习题 2.2要求我们使用这一节的数据抽象方法定义几何里“点”的概念，还要定义“线段”的概念，最后还要求我们定义midpoint-segment过程，这个过程根据参数中的线段进行计算，返回该线段的中点。\n",
    "\n",
    "题目还给出了一个print-point过程，用于输出一个点，代码如下："
   ]
  },
  {
   "cell_type": "code",
   "execution_count": 9,
   "id": "4c545477",
   "metadata": {},
   "outputs": [],
   "source": [
    "(define (print-point p)\n",
    "  (newline)\n",
    "  (display \"(\")\n",
    "  (display (point-x p))\n",
    "  (display \",\")\n",
    "  (display (point-y p))\n",
    "  (display \")\"))\n"
   ]
  },
  {
   "cell_type": "markdown",
   "id": "8e827080",
   "metadata": {},
   "source": [
    "这部分代码好像在帮我们，为我们写好了一些基础代码，其实作者在给我们下着套呢！通过这个print-point过程，作者其实暗地里规定了一些接口。比如print-point过程规定了一个点需要由x坐标和y坐标组成，其中x坐标可以通过point-x过程获得，而y坐标可以通过point-y过程获得。\n",
    "\n",
    "所以我们首先需要实现“点”的函数，代码如下："
   ]
  },
  {
   "cell_type": "code",
   "execution_count": 10,
   "id": "38a01e1e",
   "metadata": {},
   "outputs": [],
   "source": [
    "(define (make-point x y)\n",
    "  (cons x y))\n",
    "\n",
    "\n",
    "(define (point-x point)\n",
    "  (car point))\n",
    "\n",
    "(define (point-y point)\n",
    "  (cdr point))"
   ]
  },
  {
   "cell_type": "markdown",
   "id": "d15f9238",
   "metadata": {},
   "source": [
    "以上代码很明显参考了书中对有理数的实现，书中实现有理数的时候使用cons将分子和分母组织起来，我们这里就使用cons将x坐标和y坐标组织起来。通过这样的定义，获取x坐标和y坐标的过程就很简单了，分别通过car指令和cdr指令获得对应数据就可以了。\n",
    "\n",
    "定义了“点”的数据结构以后就可以开始定义“线段”的数据结构了，很明显，一个线段可以由“起点”和“终点”两部分数据构成，基于同样地考虑，我们可以使用cons过程将“起点”和“终点”组织起来，然后定义start-segment和end-segment过程，分别使用car和cdr指令获得对应的数据。\n",
    "\n",
    "不管是“起点”还是“终点”，它们本质上都是一个点，他们都可以通过x坐标和y坐标来定义，所以，我们可以使用上面定义的make-point过程生成“起点”和“终点”。\n",
    "\n",
    "对应的代码如下："
   ]
  },
  {
   "cell_type": "code",
   "execution_count": 11,
   "id": "b05e4b39",
   "metadata": {},
   "outputs": [],
   "source": [
    "(define (make-segment start-segment end-segment)\n",
    "  (cons start-segment end-segment))\n",
    "\n",
    "(define (start-segment segment)\n",
    "  (car segment))\n",
    "\n",
    "(define (end-segment segment)\n",
    "  (cdr segment))\n"
   ]
  },
  {
   "cell_type": "markdown",
   "id": "dbc28abd",
   "metadata": {},
   "source": [
    "最终，按题目要求，我们需要定义一个过程获得一个“线段”的中点，注意是中点，就是中间点。\n",
    "\n",
    "根据我们初中几何的知识，线段的中点的x坐标为起点和终点的x坐标的平均值，中点的y坐标为起点和终点的y坐标的平均值。\n",
    "\n",
    "代码如下，做的事情很简单，就是计算出中点的x坐标和y坐标，再通过make-point过程构建这个“中点”的结构化数据，最终返回："
   ]
  },
  {
   "cell_type": "code",
   "execution_count": 12,
   "id": "62bc580e",
   "metadata": {},
   "outputs": [],
   "source": [
    "(define (mid-segment segment)\n",
    "  (make-point \n",
    "   (/ (+ (point-x (start-segment segment)) (point-x (end-segment segment))) 2)\n",
    "   (/ (+ (point-y (start-segment segment)) (point-y (end-segment segment))) 2)))\n"
   ]
  },
  {
   "cell_type": "markdown",
   "id": "2c7bc5e9",
   "metadata": {},
   "source": [
    "解题结束！\n",
    "\n",
    "下面简单测试一下："
   ]
  },
  {
   "cell_type": "code",
   "execution_count": 13,
   "id": "8f1b720d",
   "metadata": {},
   "outputs": [],
   "source": [
    "(define (test-it) (print-point (mid-segment (make-segment (make-point 10 30) (make-point -100 20)))))"
   ]
  },
  {
   "cell_type": "code",
   "execution_count": 14,
   "id": "efcfe0e0",
   "metadata": {},
   "outputs": [
    {
     "name": "stdout",
     "output_type": "stream",
     "text": [
      "\n",
      "(-45,25)"
     ]
    }
   ],
   "source": [
    "(test-it)"
   ]
  },
  {
   "cell_type": "code",
   "execution_count": null,
   "id": "f950ccf1",
   "metadata": {},
   "outputs": [],
   "source": []
  }
 ],
 "metadata": {
  "kernelspec": {
   "display_name": "Calysto Scheme 3",
   "language": "scheme",
   "name": "calysto_scheme"
  },
  "language_info": {
   "codemirror_mode": {
    "name": "scheme"
   },
   "mimetype": "text/x-scheme",
   "name": "scheme",
   "pygments_lexer": "scheme"
  }
 },
 "nbformat": 4,
 "nbformat_minor": 5
}
