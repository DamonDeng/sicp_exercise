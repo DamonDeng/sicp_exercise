{
 "cells": [
  {
   "cell_type": "markdown",
   "id": "0454da55",
   "metadata": {},
   "source": [
    "## SICP 习题 （2.38）解题总结：fold-right和fold-left"
   ]
  },
  {
   "cell_type": "markdown",
   "id": "37d4040e",
   "metadata": {},
   "source": [
    "SICP习题2.38是对之前的(accumulate)函数的变形.\n",
    "\n",
    "题目说道，之前的(accumulate)函数也被称之为fold-right,因为它将序列的第一个元素组合到右边元素的组合结果中。\n",
    "\n",
    "我看完题目对这里的fold-right和fold-left有点迷糊，因为之前考虑累积都是从第一个元素开始考虑，一直往后累积，感觉是“往左”产生累积，后来细看自己的实现和之前的题目，确实是先递归进去，找到最后一个元素，和倒数第二个进行累积，然后才和倒数第三个元素进行累积，确实是在“往右折叠”。\n",
    "\n",
    "题目讲完fold-right就让我们看看fold-left，就是和fold-right反着的，先操作前面的两个元素，接着开始累积第三个，是“往左折叠”的。\n",
    "\n",
    "题目已经帮我们写好代码了："
   ]
  },
  {
   "cell_type": "code",
   "execution_count": 1,
   "id": "0e2e4e0b",
   "metadata": {},
   "outputs": [],
   "source": [
    "(define (fold-left op initial sequence)\n",
    "  (define (iter result rest)\n",
    "    (if (null? rest)\n",
    "\tresult\n",
    "\t(iter (op result (car rest))\n",
    "\t      (cdr rest))))\n",
    "  (iter initial sequence))\n",
    "\n",
    "(define (fold-right op initial sequence)\n",
    "  \n",
    "  (if (null? sequence)\n",
    "      initial\n",
    "      (op (car sequence)\n",
    "\t  (fold-right op initial (cdr sequence)))))"
   ]
  },
  {
   "cell_type": "markdown",
   "id": "c9578115",
   "metadata": {},
   "source": [
    "题目只是问我们执行以下代码会有什么结果，另外问我们如果要求fold-left和fold-right结果一直，有什么要求。\n",
    "\n",
    "先看看代码的执行情况："
   ]
  },
  {
   "cell_type": "code",
   "execution_count": 3,
   "id": "98a7ffdf",
   "metadata": {},
   "outputs": [],
   "source": [
    "\n",
    "\n",
    "(define (start-test-2-38)\n",
    "  (display (fold-right / 1 (list 1 2 3)))\n",
    "  (newline)\n",
    "  (display (fold-left / 1 (list 1 2 3)))\n",
    "  (newline)\n",
    "  (display (fold-right list '() (list 1 2 3)))\n",
    "  (newline)\n",
    "  (display (fold-left list '() (list 1 2 3))))"
   ]
  },
  {
   "cell_type": "code",
   "execution_count": 4,
   "id": "b7f231a1",
   "metadata": {},
   "outputs": [
    {
     "name": "stdout",
     "output_type": "stream",
     "text": [
      "3/2\n",
      "1/6\n",
      "(1 (2 (3 ())))\n",
      "(((() 1) 2) 3)"
     ]
    }
   ],
   "source": [
    "(start-test-2-38)"
   ]
  },
  {
   "cell_type": "markdown",
   "id": "7796c47d",
   "metadata": {},
   "source": [
    "仔细想其中的差别，大概可以想到，如果要求fold-left和fold-right结果一致，就要求operator满足交换律，"
   ]
  },
  {
   "cell_type": "markdown",
   "id": "7b442d8d",
   "metadata": {},
   "source": [
    "看看下面关于加法和减法的累积也可以比较清楚。加法是满足交换律的，a + b 等于 b + a， 减法是不满足交换律的， a - b 不一定等于 b - a"
   ]
  },
  {
   "cell_type": "code",
   "execution_count": 5,
   "id": "08ec330d",
   "metadata": {},
   "outputs": [
    {
     "data": {
      "text/plain": [
       "6"
      ]
     },
     "execution_count": 5,
     "metadata": {},
     "output_type": "execute_result"
    }
   ],
   "source": [
    "(fold-left + 0 '(1 2 3))"
   ]
  },
  {
   "cell_type": "code",
   "execution_count": 6,
   "id": "a46759ac",
   "metadata": {},
   "outputs": [
    {
     "data": {
      "text/plain": [
       "6"
      ]
     },
     "execution_count": 6,
     "metadata": {},
     "output_type": "execute_result"
    }
   ],
   "source": [
    "(fold-right + 0 '(1 2 3))"
   ]
  },
  {
   "cell_type": "code",
   "execution_count": 7,
   "id": "fb7168d0",
   "metadata": {},
   "outputs": [
    {
     "data": {
      "text/plain": [
       "-6"
      ]
     },
     "execution_count": 7,
     "metadata": {},
     "output_type": "execute_result"
    }
   ],
   "source": [
    "(fold-left - 0 '(1 2 3))\n"
   ]
  },
  {
   "cell_type": "code",
   "execution_count": 8,
   "id": "7e2a67c4",
   "metadata": {},
   "outputs": [
    {
     "data": {
      "text/plain": [
       "2"
      ]
     },
     "execution_count": 8,
     "metadata": {},
     "output_type": "execute_result"
    }
   ],
   "source": [
    "(fold-right - 0 '(1 2 3))"
   ]
  },
  {
   "cell_type": "code",
   "execution_count": null,
   "id": "9fe51f16",
   "metadata": {},
   "outputs": [],
   "source": []
  }
 ],
 "metadata": {
  "kernelspec": {
   "display_name": "Calysto Scheme 3",
   "language": "scheme",
   "name": "calysto_scheme"
  },
  "language_info": {
   "codemirror_mode": {
    "name": "scheme"
   },
   "mimetype": "text/x-scheme",
   "name": "scheme",
   "pygments_lexer": "scheme"
  }
 },
 "nbformat": 4,
 "nbformat_minor": 5
}
