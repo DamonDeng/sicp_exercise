{
 "cells": [
  {
   "cell_type": "markdown",
   "id": "0454da55",
   "metadata": {},
   "source": [
    "## SICP 习题 （2.55）解题总结：quote函数的理解"
   ]
  },
  {
   "cell_type": "markdown",
   "id": "9f094ad5",
   "metadata": {},
   "source": [
    "SICP习题2.55的目的是让我们更好地理解 `'` 操作符。\n",
    "\n",
    "关于`'`操作符，我在习题2.53里也有剧透，`'`操作其实就是(quote)函数的语法糖，它本质上就是对(quote)函数的一种特殊调用方式。\n",
    "\n",
    "题目问我们为什么 `(car ''abcdefg)` 会返回quote\n",
    "\n",
    "我们把`''abcdefg`转换成标准的(quote)写法就清楚了：`(quote (quote abcdegf)`\n",
    "\n",
    "下面是测试代码："
   ]
  },
  {
   "cell_type": "code",
   "execution_count": 3,
   "id": "5dd5bd0a",
   "metadata": {},
   "outputs": [],
   "source": [
    "(define (start-test-2-55)\n",
    "  (display (car ''abcdefg))\n",
    "  (newline)\n",
    "  (display (car (quote (quote abcdefg)))))"
   ]
  },
  {
   "cell_type": "code",
   "execution_count": 4,
   "id": "367c5e56",
   "metadata": {},
   "outputs": [
    {
     "name": "stdout",
     "output_type": "stream",
     "text": [
      "quote\n",
      "quote"
     ]
    }
   ],
   "source": [
    "(start-test-2-55)"
   ]
  },
  {
   "cell_type": "code",
   "execution_count": null,
   "id": "e91ecfc6",
   "metadata": {},
   "outputs": [],
   "source": []
  }
 ],
 "metadata": {
  "kernelspec": {
   "display_name": "Calysto Scheme 3",
   "language": "scheme",
   "name": "calysto_scheme"
  },
  "language_info": {
   "codemirror_mode": {
    "name": "scheme"
   },
   "mimetype": "text/x-scheme",
   "name": "scheme",
   "pygments_lexer": "scheme"
  }
 },
 "nbformat": 4,
 "nbformat_minor": 5
}
