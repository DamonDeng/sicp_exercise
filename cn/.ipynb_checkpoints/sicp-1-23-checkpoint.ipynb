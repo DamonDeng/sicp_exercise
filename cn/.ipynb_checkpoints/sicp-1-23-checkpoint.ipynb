{
 "cells": [
  {
   "cell_type": "markdown",
   "id": "7d31c98b",
   "metadata": {},
   "source": [
    "## SICP 习题 (1.23) 解题总结"
   ]
  },
  {
   "cell_type": "markdown",
   "id": "ccace9f0",
   "metadata": {},
   "source": [
    "SICP 习题 1.23要求改进smallest-deivisor过程，因为samllest-devisor过程从2开始一直检测所有小于“根号n”的数，查找最小的因数。其实在检测了2以后就可以不再检测4,6,8,10等偶数，直接检查3,5,7,9等数就好了。\n",
    "\n",
    "这题比较简单，就是定义一个过程，不断生成下一个奇数就好了，过程如下："
   ]
  },
  {
   "cell_type": "code",
   "execution_count": 1,
   "id": "b11f8c00",
   "metadata": {},
   "outputs": [],
   "source": [
    "(define (next-candidate n)\n",
    "  (if (= n 2) 3\n",
    "      (+ n 2)))"
   ]
  },
  {
   "cell_type": "markdown",
   "id": "7e9f32f0",
   "metadata": {},
   "source": [
    "然后将以前的find-divisor中的(+ test-divisor)替换成上面这个过程，结果如下："
   ]
  },
  {
   "cell_type": "code",
   "execution_count": 2,
   "id": "c79f508c",
   "metadata": {},
   "outputs": [],
   "source": [
    "(define (find-divisor n test-divisor)\n",
    "  (cond ((> (square test-divisor) n) n)\n",
    "\t((divides? test-divisor n) test-divisor)\n",
    "\t(else (find-divisor n (next-candidate test-divisor)))))"
   ]
  },
  {
   "cell_type": "markdown",
   "id": "ede867c8",
   "metadata": {},
   "source": [
    "后来测试发现这个方法比原始的smallest-devisor快，但是没有快一倍。\n",
    "\n",
    "回来查看代码可以发现，以前的获得下一个检测数的过程很简单，就是(+ test-divisor)，而新版的获得下一个检测数的过程比较复杂，需要判断n是否等于2等。\n",
    "\n",
    "如果一定要进一步提升效率，可以考虑使用(+ test-divisor 2) 作为获得下一个检测数的方法，以3开始为检测数，这样开始检测前需要先对2进行检测。因为对2的检测只发生一次，所以效率比较高，可以非常接近原始smallest-divisor过程的一倍的效率。\n",
    "\n",
    "从这里开始作者已经开始强调，考虑时间复杂度时单纯地考虑计算步数是不够的，需要考虑每一步计算消耗的时间，如果减少了步数，增加了每步计算需要的时间，就有可能总体计算时间不如我们估计的那样减少的那么厉害，甚至有些时候总体计算时间反而更长了。\n",
    "\n",
    "更多的相关因素在后面的习题中有更多的讨论。"
   ]
  }
 ],
 "metadata": {
  "kernelspec": {
   "display_name": "Calysto Scheme 3",
   "language": "scheme",
   "name": "calysto_scheme"
  },
  "language_info": {
   "codemirror_mode": {
    "name": "scheme"
   },
   "mimetype": "text/x-scheme",
   "name": "scheme",
   "pygments_lexer": "scheme"
  }
 },
 "nbformat": 4,
 "nbformat_minor": 5
}
