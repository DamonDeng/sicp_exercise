{
 "cells": [
  {
   "cell_type": "markdown",
   "id": "8ed3413f",
   "metadata": {},
   "source": [
    "## SICP 习题 （1.27） 解题总结"
   ]
  },
  {
   "cell_type": "markdown",
   "id": "42cafadf",
   "metadata": {},
   "source": [
    "SICP 习题 1.27要求我们证明书中指出的Carmichael数可以骗过费马检测。\n",
    "\n",
    "要证明这一点其实很简单，对于一个Carmichael数，找比这个数小同时大于1的所有数，逐个进行费马检测，如果有90%以上的数可以通过费马检测，那么这个数就有很大的几率骗过费马检测了。\n",
    "\n",
    "事实上，我测试发现，Carmichael数（561，1105，1729，2465，2821，6601 这些）可以100%通过费马检测，以1729为例，就是说从2到1728都有（a的1728次方）对1728求模））等于a.\n",
    "\n",
    "真是，有这么厉害的费马，想出这么奇妙的方法，就有这么奇妙的数，可以骗过这么奇妙的方法！\n",
    "\n",
    "程序的具体实现比较简单，就是遍历比n小，比1大的数，进行费马检测而已，我的代码如下："
   ]
  },
  {
   "cell_type": "code",
   "execution_count": 1,
   "id": "8b8b9dd1",
   "metadata": {},
   "outputs": [],
   "source": [
    "(define (full-fermat-test n)\n",
    "  (if (fermat-try-all 2 n)\n",
    "      #t\n",
    "      #f))\n",
    "\n",
    "(define (fermat-try-all current n)\n",
    "  (if (< current n)\n",
    "      (if (fermat-try n current)\n",
    "\t  (fermat-try-all (+ current 1) n)\n",
    "\t  #f)\n",
    "      #t))"
   ]
  },
  {
   "cell_type": "code",
   "execution_count": 7,
   "id": "7798bc39",
   "metadata": {},
   "outputs": [],
   "source": [
    "(define (fermat-try-all current n)\n",
    "  (if (< current n)\n",
    "      (if (fermat-try n current)\n",
    "\t  (fermat-try-all (+ current 1) n)\n",
    "\t  #f)\n",
    "      #t))\n",
    "\n",
    "(define (fermat-try n a)\n",
    "  (= (expmod a n n ) a))\n",
    "\n",
    "(define (expmod base exp m)\n",
    "  (cond ((= exp 0) 1)\n",
    "\t((even? exp) \n",
    "\t (remainder (square (expmod base (/ exp 2) m))\n",
    "\t\t    m))\n",
    "\t(else\n",
    "\t (remainder (* base (expmod base (- exp 1) m))\n",
    "\t\t    m))))\n",
    "\n",
    "(define (square x)\n",
    "  (* x x))"
   ]
  },
  {
   "cell_type": "markdown",
   "id": "be6f0622",
   "metadata": {},
   "source": [
    "通过(full-fermat-test n)测试的数是完全通过费马检测的。\n",
    "\n",
    "结果是561，1105，1729，2465，2821，6601 全部通过(full-fermat-test n)检测。\n",
    "\n",
    "不过要注意，(full-fermat-test)在现实计算中是没有意义的，因为它比使用smallest-divisor方法还复杂，定义(full-fermat-test)只是为了检测Carmichael数。"
   ]
  },
  {
   "cell_type": "code",
   "execution_count": 8,
   "id": "40948e15",
   "metadata": {},
   "outputs": [
    {
     "data": {
      "text/plain": [
       "#t"
      ]
     },
     "execution_count": 8,
     "metadata": {},
     "output_type": "execute_result"
    }
   ],
   "source": [
    "(full-fermat-test 561)"
   ]
  },
  {
   "cell_type": "markdown",
   "id": "e461c8c7",
   "metadata": {},
   "source": [
    "可以定义一个list包含这些特殊的数字，用map函数调用full-fermat-test进行检查"
   ]
  },
  {
   "cell_type": "code",
   "execution_count": 18,
   "id": "ed20bf59",
   "metadata": {},
   "outputs": [],
   "source": [
    "(define exception-number '(561 1105 1729 2465 2821 6601))"
   ]
  },
  {
   "cell_type": "code",
   "execution_count": 20,
   "id": "1ff64895",
   "metadata": {},
   "outputs": [
    {
     "data": {
      "text/plain": [
       "(#t #t #t #t #t #t)"
      ]
     },
     "execution_count": 20,
     "metadata": {},
     "output_type": "execute_result"
    }
   ],
   "source": [
    "(map (lambda (x) (full-fermat-test x)) exception-number)"
   ]
  },
  {
   "cell_type": "markdown",
   "id": "55476f18",
   "metadata": {},
   "source": [
    "为了更好地进行检查，我把这些函数封装了一下，定义了(test-next-fermat start end)函数，寻找start 和 end这两个数字之间的Carmichael数字"
   ]
  },
  {
   "cell_type": "code",
   "execution_count": 9,
   "id": "58081617",
   "metadata": {},
   "outputs": [],
   "source": [
    "(define (report-prime number elapsed-time)\n",
    "  (display number)\n",
    "  (display \" *** \")\n",
    "  (display elapsed-time)\n",
    "  (newline))"
   ]
  },
  {
   "cell_type": "code",
   "execution_count": 10,
   "id": "666bebf7",
   "metadata": {},
   "outputs": [],
   "source": [
    "(define (report-prime-exception n)\n",
    "  (newline)\n",
    "  (display \"Fermat thinks:\")\n",
    "  (display n)\n",
    "  (display \" is a prime.  \")\n",
    "  (newline)\n",
    "  (display \"it is infact not a prime!!!!\")\n",
    "  (newline)\n",
    ")"
   ]
  },
  {
   "cell_type": "code",
   "execution_count": 11,
   "id": "e4525de3",
   "metadata": {},
   "outputs": [],
   "source": [
    "(define (test-next-fermat current end)\n",
    "\n",
    "      (if (full-fermat-test current)\n",
    "\t  (if (not (prime? current))\n",
    "\t       (report-prime-exception current)))\n",
    "\n",
    "      (if (< current end )\n",
    "\t  (test-next-fermat (+ current 1) end)\n",
    "\t  \"end\"))"
   ]
  },
  {
   "cell_type": "code",
   "execution_count": 14,
   "id": "cd90862b",
   "metadata": {},
   "outputs": [],
   "source": [
    "(define (prime? n)\n",
    "  (= n (smallest-divisor n)))\n",
    "\n",
    "(define (smallest-divisor n)\n",
    "  (find-divisor n 2))\n",
    "\n",
    "(define (find-divisor n test-divisor)\n",
    "  (cond ((> (square test-divisor) n) n)\n",
    "\t((divides? test-divisor n) test-divisor)\n",
    "\t(else (find-divisor n (+ test-divisor 1)))))\n",
    "\n",
    "(define (divides? a b)\n",
    "  (= (remainder b a) 0))"
   ]
  },
  {
   "cell_type": "code",
   "execution_count": 16,
   "id": "87c99089",
   "metadata": {
    "scrolled": true
   },
   "outputs": [
    {
     "name": "stdout",
     "output_type": "stream",
     "text": [
      "\n",
      "Fermat thinks:561 is a prime.  \n",
      "it is infact not a prime!!!!\n"
     ]
    },
    {
     "data": {
      "text/plain": [
       "\"end\""
      ]
     },
     "execution_count": 16,
     "metadata": {},
     "output_type": "execute_result"
    }
   ],
   "source": [
    "(test-next-fermat 500 600)"
   ]
  },
  {
   "cell_type": "code",
   "execution_count": null,
   "id": "9cc8a635",
   "metadata": {},
   "outputs": [],
   "source": []
  }
 ],
 "metadata": {
  "kernelspec": {
   "display_name": "Calysto Scheme 3",
   "language": "scheme",
   "name": "calysto_scheme"
  },
  "language_info": {
   "codemirror_mode": {
    "name": "scheme"
   },
   "mimetype": "text/x-scheme",
   "name": "scheme",
   "pygments_lexer": "scheme"
  }
 },
 "nbformat": 4,
 "nbformat_minor": 5
}
