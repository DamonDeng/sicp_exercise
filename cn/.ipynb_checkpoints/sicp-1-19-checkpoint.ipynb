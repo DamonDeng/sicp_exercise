{
 "cells": [
  {
   "cell_type": "markdown",
   "id": "e0a14947",
   "metadata": {},
   "source": [
    "## SICP 习题 (1.19) 解题总结"
   ]
  },
  {
   "cell_type": "markdown",
   "id": "97170ebb",
   "metadata": {},
   "source": [
    "SICP习题1.19要求用对数步数求斐波那契数，有关斐波那契数我们在习题1.13 中讨论过，书中1.2.2节也详细讲解了斐波那契数的求法。在1.2.2节中讲述了斐波那契数的递归求法和迭代求法，其中递归求法的步数为Fib(n)，而迭代求法的步数相对于n是线性的。虽然迭代求法的步数已经很少了，但是我们可以通过一种方法将步数减少为对数步数，其中的关键就是前面习题中提到的，将两个连续变换转换成一次变换的方法。"
   ]
  },
  {
   "cell_type": "markdown",
   "id": "3e1fb8ea",
   "metadata": {},
   "source": [
    "在迭代求法中，关键是以下变换：\n",
    "\n",
    "求出Fib(0)，令其为b1\n",
    "\n",
    "求出Fib(1)，令其为a1\n",
    "\n",
    "按斐波那契数定义，那么a1+b1就是Fib(2)\n",
    "\n",
    "接着，令b2等于a1, a2等于a1+b1，那么a2+b2就是Fib(3)\n",
    "\n",
    "如此一直变换，就可以通过a(n-1)+b(n-1)求出Fib(n)。\n",
    "\n",
    "现在的关键就是找出将以上变换中的连续两次变换转换成一次变换的方法。\n",
    "\n",
    "首先声明，这个让我自己想是打破脑袋都想不出来的，我是按书中题目的提示来的。\n",
    "\n",
    "首先按我们总结的，\n",
    "\n",
    "有等式1:\n",
    "\n",
    "    b2=a1\n",
    "    a2=a1+b1\n",
    "\n",
    "接着按书上的提示，用等式2表达等式1：\n",
    "\n",
    "等式2:\n",
    "\n",
    "    b2=b1p+a1q\n",
    "    a2=b1q+a1q+a1p\n",
    "\n",
    "按等式2可以得到：\n",
    "\n",
    "等式3:\n",
    "\n",
    "    b3=b2p+a2q\n",
    "    a3=b2q+a2q+a2p\n",
    "\n",
    "将等式2代入等式3，有：\n",
    "\n",
    "    b3 = b2p+a2q = (b1p+a1q)p+(b1q+a1q+a1p)q \n",
    "    =>b3 = b1pp + a1qp + b1qq + a1qq + a1pq\n",
    "    =>b3= b1(pp + qq)  +  a1 (qp + qq + pq)\n",
    "    =>b3= b1 (pp + qq) + a1 (qq + 2pq)\n",
    "\n",
    "    a3 = b2q+a2q+a2p = (b1p+a1q)q+(b1q+a1q+a1p)q+(b1q+a1q+a1p)p\n",
    "    => a3= b1pq + a1qq + b1qq + a1qq + a1pq + b1qp + a1qp + a1pp\n",
    "    => a3= b1 (pq + qq + qp) + a1(qq + qq +pq+ qp + pp)\n",
    "    => a3= b1 (pq + qq + pq) + a1(qq + pp) + a1 (qq + pq + qp)\n",
    "    => a3=b1(qq+2pq) + a1(qq + pp) + a1(qq +2pq)\n",
    "\n",
    "令`p2= (pp + qq)   q2=(qq + 2pq)`\n",
    "\n",
    "则有：\n",
    "\n",
    "    b3=b1p2  + a1 q2\n",
    "    a3=b1q2 + a1 p2 + a1q2\n",
    "\n",
    "所以`p2= (pp + qq)   q2=(qq + 2pq)`是题解"
   ]
  },
  {
   "cell_type": "markdown",
   "id": "457d2296",
   "metadata": {},
   "source": [
    "将以上公式转换为代码填入题目准备好的过程主体，结果如下："
   ]
  },
  {
   "cell_type": "code",
   "execution_count": 1,
   "id": "af5ae4b7",
   "metadata": {},
   "outputs": [],
   "source": [
    "(define (fib-iter a b p q count)\n",
    "  (cond ((= count 0) b)\n",
    "\t((even? count)\n",
    "\t (fib-iter a\n",
    "\t\t   b\n",
    "\t\t   (+ (* p p) (* q q))\n",
    "\t\t   (+ (* q q) (* 2 q p))\n",
    "\t\t   (/ count 2)))\n",
    "\t(else (fib-iter (+ (* b q) (* a q) (* a p))\n",
    "\t\t\t (+ (* b p) (* a q))\n",
    "\t\t\t p\n",
    "\t\t\t q\n",
    "\t\t\t (- count 1)))))"
   ]
  },
  {
   "cell_type": "markdown",
   "id": "b6289155",
   "metadata": {},
   "source": [
    "封装一下："
   ]
  },
  {
   "cell_type": "code",
   "execution_count": 3,
   "id": "03e761b4",
   "metadata": {},
   "outputs": [],
   "source": [
    "(define (fib n)\n",
    "  (fib-iter 1 0 0 1 n))"
   ]
  },
  {
   "cell_type": "code",
   "execution_count": 4,
   "id": "d469c910",
   "metadata": {},
   "outputs": [
    {
     "data": {
      "text/plain": [
       "55"
      ]
     },
     "execution_count": 4,
     "metadata": {},
     "output_type": "execute_result"
    }
   ],
   "source": [
    "(fib 10)"
   ]
  },
  {
   "cell_type": "code",
   "execution_count": null,
   "id": "86188839",
   "metadata": {},
   "outputs": [],
   "source": []
  }
 ],
 "metadata": {
  "kernelspec": {
   "display_name": "Calysto Scheme 3",
   "language": "scheme",
   "name": "calysto_scheme"
  },
  "language_info": {
   "codemirror_mode": {
    "name": "scheme"
   },
   "mimetype": "text/x-scheme",
   "name": "scheme",
   "pygments_lexer": "scheme"
  }
 },
 "nbformat": 4,
 "nbformat_minor": 5
}
