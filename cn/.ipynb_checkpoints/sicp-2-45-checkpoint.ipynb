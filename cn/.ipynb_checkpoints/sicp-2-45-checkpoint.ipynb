{
 "cells": [
  {
   "cell_type": "markdown",
   "id": "0454da55",
   "metadata": {},
   "source": [
    "## SICP 习题 （2.45）解题总结：right-split和up-split的抽象"
   ]
  },
  {
   "cell_type": "markdown",
   "id": "a356da2e",
   "metadata": {},
   "source": [
    "关于图形语言这部分的所有习题都在2.44里讲解了。\n",
    "\n",
    "关于2.45的部分摘抄如下："
   ]
  },
  {
   "cell_type": "markdown",
   "id": "36a85948",
   "metadata": {},
   "source": [
    "题目2.45要求我们对right-split和up-split进行抽象。\n",
    "\n",
    "仔细看right-split和up-split，发现代码几乎是一样的，难怪作者要我们去做抽象，\n",
    "\n",
    "我定义的方法如下："
   ]
  },
  {
   "cell_type": "code",
   "execution_count": 2,
   "id": "a27af25d",
   "metadata": {},
   "outputs": [],
   "source": [
    "(define (split first-method second-method)\n",
    "  (lambda (painter n)\n",
    "    \n",
    "    (define (split_inner painter n)\n",
    "        (if (= n 0)\n",
    "          painter\n",
    "          (let ((smaller (split_inner painter (- n 1))))\n",
    "            (first-method painter (second-method smaller smaller)))))\n",
    "    (split_inner painter n)))\n"
   ]
  },
  {
   "cell_type": "code",
   "execution_count": null,
   "id": "53fedc25",
   "metadata": {},
   "outputs": [],
   "source": []
  }
 ],
 "metadata": {
  "kernelspec": {
   "display_name": "Calysto Scheme 3",
   "language": "scheme",
   "name": "calysto_scheme"
  },
  "language_info": {
   "codemirror_mode": {
    "name": "scheme"
   },
   "mimetype": "text/x-scheme",
   "name": "scheme",
   "pygments_lexer": "scheme"
  }
 },
 "nbformat": 4,
 "nbformat_minor": 5
}
