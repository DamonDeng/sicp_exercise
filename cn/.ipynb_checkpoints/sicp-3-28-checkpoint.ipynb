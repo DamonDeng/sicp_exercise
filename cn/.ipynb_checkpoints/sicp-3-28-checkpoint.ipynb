{
 "cells": [
  {
   "cell_type": "markdown",
   "id": "079f4e51",
   "metadata": {},
   "source": [
    "## SICP 习题 （3.28）解题总结: 数字电路的模拟"
   ]
  },
  {
   "cell_type": "markdown",
   "id": "5ec1a5b0",
   "metadata": {},
   "source": [
    "SICP 习题 3.28 开始引入了数字电路的模拟。\n",
    "\n",
    "后续的几道题目都是围绕这个数字电路展开的。和之前讨论的几道大题目一样，这道题目涉及到的基础组件很多，要完成后续的作业就必须把所有的基础组件都联合起来。\n",
    "\n",
    "一个粗暴的做法就是把相关代码一股脑抄进来，调试通过以后慢慢理解整理。"
   ]
  },
  {
   "cell_type": "markdown",
   "id": "2109da45",
   "metadata": {},
   "source": [
    "下面是已经整理过的代码，整理过程尽量将最基本的组件先构建起来："
   ]
  },
  {
   "cell_type": "markdown",
   "id": "5d4b5d48",
   "metadata": {},
   "source": [
    "首先是关于wire的函数，主要是用于建立连接，或者是一个“引脚”，可以往一个“引脚”发送信号，也可以获取里面的信号："
   ]
  },
  {
   "cell_type": "code",
   "execution_count": 7,
   "id": "fa623708",
   "metadata": {},
   "outputs": [],
   "source": [
    "(define (make-wire)\n",
    "  (let ((signal-value 0) (action-procedures '()))\n",
    "    (define (set-my-signal! new-value)\n",
    "      (if (not (= signal-value new-value))\n",
    "\t  (begin (set! signal-value new-value)\n",
    "\t\t (call-each action-procedures))\n",
    "\t  'done))\n",
    "    (define (accept-action-procedure! proc)\n",
    "      (set! action-procedures (cons proc action-procedures))\n",
    "      (proc))\n",
    "\n",
    "    (define (dispatch m)\n",
    "      (cond ((eq? m 'get-signal) signal-value)\n",
    "\t    ((eq? m 'set-signal!) set-my-signal!)\n",
    "\t    ((eq? m 'add-action!) accept-action-procedure!)\n",
    "\t    (else (error \"Unknown operation --WIRE\" m))))\n",
    "    dispatch))"
   ]
  },
  {
   "cell_type": "code",
   "execution_count": 8,
   "id": "87b8e220",
   "metadata": {},
   "outputs": [],
   "source": [
    "(define (get-signal wire)\n",
    "  (wire 'get-signal))\n",
    "\n",
    "(define (set-signal! wire new-value)\n",
    "  ((wire 'set-signal!) new-value))\n",
    "\n"
   ]
  },
  {
   "cell_type": "code",
   "execution_count": 9,
   "id": "2dac50dd",
   "metadata": {},
   "outputs": [],
   "source": [
    "\n",
    "(define (call-each procedures)\n",
    "  (if (null? procedures)\n",
    "      'done\n",
    "      (begin\n",
    "\t((car procedures))\n",
    "\t(call-each (cdr procedures)))))\n"
   ]
  },
  {
   "cell_type": "markdown",
   "id": "6eb9a668",
   "metadata": {},
   "source": [
    "以上定义了连线函数，或者说“引脚”函数，下面测试一下，先建立一个“引脚”，然后给它发射信号，然后获取里面的信号："
   ]
  },
  {
   "cell_type": "code",
   "execution_count": 14,
   "id": "f13135b3",
   "metadata": {},
   "outputs": [],
   "source": [
    "(define testing-wire (make-wire))"
   ]
  },
  {
   "cell_type": "code",
   "execution_count": 15,
   "id": "121c8c35",
   "metadata": {},
   "outputs": [
    {
     "data": {
      "text/plain": [
       "0"
      ]
     },
     "execution_count": 15,
     "metadata": {},
     "output_type": "execute_result"
    }
   ],
   "source": [
    "(get-signal testing-wire)"
   ]
  },
  {
   "cell_type": "code",
   "execution_count": 16,
   "id": "26c6a729",
   "metadata": {},
   "outputs": [
    {
     "data": {
      "text/plain": [
       "done"
      ]
     },
     "execution_count": 16,
     "metadata": {},
     "output_type": "execute_result"
    }
   ],
   "source": [
    "(set-signal! testing-wire 1)"
   ]
  },
  {
   "cell_type": "code",
   "execution_count": 17,
   "id": "acc61d74",
   "metadata": {},
   "outputs": [
    {
     "data": {
      "text/plain": [
       "1"
      ]
     },
     "execution_count": 17,
     "metadata": {},
     "output_type": "execute_result"
    }
   ],
   "source": [
    "(get-signal testing-wire)"
   ]
  },
  {
   "cell_type": "markdown",
   "id": "7f77a0cd",
   "metadata": {},
   "source": [
    "然后我们定义两个“引脚”，是给一个inverter用的，inverter就是非门，输入1就会出0，输入0就出1.\n",
    "\n",
    "下面两个引脚分别是inverter的输入和输出："
   ]
  },
  {
   "cell_type": "code",
   "execution_count": 86,
   "id": "eaf12e55",
   "metadata": {},
   "outputs": [],
   "source": [
    "  (define inverter-input (make-wire))\n",
    "  (define inverter-output (make-wire))"
   ]
  },
  {
   "cell_type": "code",
   "execution_count": 87,
   "id": "7c31de3d",
   "metadata": {},
   "outputs": [
    {
     "data": {
      "text/plain": [
       "0"
      ]
     },
     "execution_count": 87,
     "metadata": {},
     "output_type": "execute_result"
    }
   ],
   "source": [
    "(get-signal inverter-input)"
   ]
  },
  {
   "cell_type": "code",
   "execution_count": 88,
   "id": "0905fecf",
   "metadata": {},
   "outputs": [
    {
     "data": {
      "text/plain": [
       "0"
      ]
     },
     "execution_count": 88,
     "metadata": {},
     "output_type": "execute_result"
    }
   ],
   "source": [
    "(get-signal inverter-output)"
   ]
  },
  {
   "cell_type": "markdown",
   "id": "ad9905ee",
   "metadata": {},
   "source": [
    "然后我们定义一个inverter函数，这个函数把input和output连接起来，里面定义了一个invert-input的内部函数，专门对输入进行转换，转换用的函数是(logical-not):"
   ]
  },
  {
   "cell_type": "code",
   "execution_count": 89,
   "id": "15a0a05f",
   "metadata": {},
   "outputs": [],
   "source": [
    "(define (inverter input output)\n",
    "  (define (invert-input)\n",
    "    (let ((new-value (logical-not (get-signal input))))\n",
    "      (after-delay inverter-delay\n",
    "\t\t   (lambda ()\n",
    "\t\t     (set-signal! output new-value)))))\n",
    "  (add-action! input invert-input)\n",
    "  'ok)\n",
    "\n",
    "(define (logical-not s)\n",
    "  (cond ((= s 0 ) 1)\n",
    "\t((= s 1) 0)\n",
    "\t(else (error \"Invalid signal\" s))))"
   ]
  },
  {
   "cell_type": "markdown",
   "id": "a778d710",
   "metadata": {},
   "source": [
    "然后定义add-action!函数把一个动作绑定到“引脚”上："
   ]
  },
  {
   "cell_type": "code",
   "execution_count": 90,
   "id": "eb9f0066",
   "metadata": {},
   "outputs": [],
   "source": [
    "(define (add-action! wire action-procedure)\n",
    "  ((wire 'add-action!) action-procedure))\n"
   ]
  },
  {
   "cell_type": "markdown",
   "id": "f597f022",
   "metadata": {},
   "source": [
    "定义inverter操作的整体时延，这个非常重要，对于后续复杂线路的同步计算起到关键作用："
   ]
  },
  {
   "cell_type": "code",
   "execution_count": 91,
   "id": "074b1226",
   "metadata": {},
   "outputs": [],
   "source": [
    "(define inverter-delay 2)"
   ]
  },
  {
   "cell_type": "markdown",
   "id": "b59c5ecb",
   "metadata": {},
   "source": [
    "还有一个在指定“时间”后执行动作的函数。这里的“时间”线是通过一个列表来表示，(add-to-agenda!)函数会根据时延参数delay计算出具体要执行操作的时间点，然后挂载到agenda上："
   ]
  },
  {
   "cell_type": "code",
   "execution_count": 92,
   "id": "752f05b2",
   "metadata": {},
   "outputs": [],
   "source": [
    "(define (after-delay delay action)\n",
    "  (add-to-agenda! (+ delay (current-time the-agenda))\n",
    "\t\t  action\n",
    "\t\t  the-agenda))"
   ]
  },
  {
   "cell_type": "markdown",
   "id": "a80017e2",
   "metadata": {},
   "source": [
    "创建一个空的agenda"
   ]
  },
  {
   "cell_type": "code",
   "execution_count": 93,
   "id": "c2e77e9d",
   "metadata": {},
   "outputs": [],
   "source": [
    "(define (make-agenda) (list 0))"
   ]
  },
  {
   "cell_type": "code",
   "execution_count": 94,
   "id": "40f520c5",
   "metadata": {},
   "outputs": [],
   "source": [
    "(define the-agenda (make-agenda))"
   ]
  },
  {
   "cell_type": "markdown",
   "id": "d2d13435",
   "metadata": {},
   "source": [
    "创建获取“当前时间”的函数，这里的“当前时间”是指在calendar列表里现在执行到那个“时间点”了："
   ]
  },
  {
   "cell_type": "code",
   "execution_count": 95,
   "id": "8c81dfe8",
   "metadata": {},
   "outputs": [],
   "source": [
    "(define (current-time agenda) (car agenda))"
   ]
  },
  {
   "cell_type": "markdown",
   "id": "90dd29ca",
   "metadata": {},
   "source": [
    "接着是关于calendar的实现："
   ]
  },
  {
   "cell_type": "code",
   "execution_count": 96,
   "id": "b92949f4",
   "metadata": {},
   "outputs": [],
   "source": [
    "(define (add-to-agenda! time action agenda)\n",
    "  (define (belongs-before? segments)\n",
    "    (or (null? segments)\n",
    "\t(< time (segment-time (car segments)))))\n",
    "  (define (make-new-time-segment time action)\n",
    "    (let ((q (make-queue)))\n",
    "      (insert-queue! q action)\n",
    "      (make-time-segment time q )))\n",
    "  (define (add-to-segments! segments)\n",
    "    (if (= (segment-time (car segments)) time)\n",
    "\t(insert-queue! (segment-queue (car segments))\n",
    "\t\t       action)\n",
    "\t(let ((rest (cdr segments)))\n",
    "\t  (if (belongs-before? rest)\n",
    "\t      (set-cdr!\n",
    "\t       segments\n",
    "\t       (cons (make-new-time-segment time action)\n",
    "\t\t     (cdr segments)))\n",
    "\t      (add-to-segments! rest)))))\n",
    "  (let ((segments (segments agenda)))\n",
    "    (if (belongs-before? segments)\n",
    "\t(set-segments!\n",
    "\t agenda\n",
    "\t (cons (make-new-time-segment time action)\n",
    "\t       segments))\n",
    "\t(add-to-segments! segments))))"
   ]
  },
  {
   "cell_type": "code",
   "execution_count": 97,
   "id": "cc9aad75",
   "metadata": {},
   "outputs": [],
   "source": [
    "(define (segments agenda) (cdr agenda))"
   ]
  },
  {
   "cell_type": "markdown",
   "id": "d4ba6848",
   "metadata": {},
   "source": [
    "calendar的实现依赖于队列，所以把队列代码也拷贝过来："
   ]
  },
  {
   "cell_type": "code",
   "execution_count": 98,
   "id": "b057bfc6",
   "metadata": {},
   "outputs": [],
   "source": [
    "(define (make-queue) (cons '() '()))\n",
    "\n",
    "(define (front-queue queue)\n",
    "  (if (empty-queue? queue)\n",
    "      (error \"FRONT called with an empty queue\" queue)\n",
    "      (car (front-ptr queue))))\n",
    "\n",
    "(define (insert-queue! queue item)\n",
    "  (let ((new-pair (cons item '())))\n",
    "    (cond ((empty-queue? queue)\n",
    "\t   (set-front-ptr! queue new-pair)\n",
    "\t   (set-rear-ptr! queue new-pair)\n",
    "\t   queue)\n",
    "\t  (else\n",
    "\t   (set-cdr! (rear-ptr queue) new-pair)\n",
    "\t   (set-rear-ptr! queue new-pair)\n",
    "\t   queue))))\n",
    "\n",
    "(define (delete-queue! queue)\n",
    "  (cond ((empty-queue? queue)\n",
    "\t (error \"DELETE! called with an empty queue\" queue))\n",
    "\t(else\n",
    "\t (set-front-ptr! queue (cdr (front-ptr queue)))))\n",
    "\t queue)\n",
    "\n",
    "(define (print-queue queue)\n",
    "  (cond ((null? queue)\n",
    "\t (error \"print-queue called with an incorrect data\" queue))\n",
    "\t(else\n",
    "\t (display (car queue)))))\n",
    "\n",
    "(define (front-ptr queue) (car queue))\n",
    "\n",
    "(define (rear-ptr queue) (cdr queue))\n",
    "\n",
    "(define (set-front-ptr! queue item) (set-car! queue item))\n",
    "\n",
    "(define (set-rear-ptr! queue item) (set-cdr! queue item))\n",
    "\n",
    "(define (empty-queue? queue) (null? (front-ptr queue)))\n"
   ]
  },
  {
   "cell_type": "markdown",
   "id": "b6178f82",
   "metadata": {},
   "source": [
    "相关的时间处理函数："
   ]
  },
  {
   "cell_type": "code",
   "execution_count": 99,
   "id": "b2c833cb",
   "metadata": {},
   "outputs": [],
   "source": [
    "(define (make-time-segment time queue)\n",
    "  (cons time queue))\n",
    "\n",
    "(define (segment-time s) (car s))\n",
    "\n",
    "(define (segment-queue s) (cdr s))\n",
    "\n",
    "(define (set-current-time! agenda time)\n",
    "  (set-car! agenda time))\n",
    "\n",
    "(define (set-segments! agenda segments)\n",
    "  (set-cdr! agenda segments))\n",
    "\n",
    "(define (first-segment agenda) (car (segments agenda)))\n",
    "\n",
    "(define (rest-segments agenda) (cdr (segments agenda)))\n",
    "\n",
    "(define (empty-agenda? agenda)\n",
    "  (null? (segments agenda)))"
   ]
  },
  {
   "cell_type": "markdown",
   "id": "d797002e",
   "metadata": {},
   "source": [
    "用于强制执行agenda里所有操作的函数："
   ]
  },
  {
   "cell_type": "code",
   "execution_count": 100,
   "id": "b866005f",
   "metadata": {},
   "outputs": [],
   "source": [
    "(define (propagate)\n",
    "  (if (empty-agenda? the-agenda)\n",
    "      'done\n",
    "      (let ((first-item (first-agenda-item the-agenda)))\n",
    "\t(first-item)\n",
    "\t(remove-first-agenda-item! the-agenda)\n",
    "\t(propagate))))"
   ]
  },
  {
   "cell_type": "code",
   "execution_count": 101,
   "id": "da131bb1",
   "metadata": {},
   "outputs": [],
   "source": [
    "(define (first-agenda-item agenda)\n",
    "  (if (empty-agenda? agenda)\n",
    "      (error \"Agenda is empty -- FIRST-AGENDA-ITEM\")\n",
    "      (let ((first-seg (first-segment agenda)))\n",
    "\t(set-current-time! agenda (segment-time first-seg))\n",
    "\t(front-queue (segment-queue first-seg)))))\n",
    "\n",
    "(define (remove-first-agenda-item! agenda)\n",
    "  (let ((q (segment-queue (first-segment agenda))))\n",
    "    (delete-queue! q)\n",
    "    (if (empty-queue? q)\n",
    "\t(set-segments! agenda (rest-segments agenda)))))"
   ]
  },
  {
   "cell_type": "markdown",
   "id": "40f02026",
   "metadata": {},
   "source": [
    "这样就可以开始测试了，创建一个inverter，就是一个非门："
   ]
  },
  {
   "cell_type": "code",
   "execution_count": 102,
   "id": "210a8d50",
   "metadata": {},
   "outputs": [
    {
     "data": {
      "text/plain": [
       "ok"
      ]
     },
     "execution_count": 102,
     "metadata": {},
     "output_type": "execute_result"
    }
   ],
   "source": [
    "(inverter inverter-input inverter-output)"
   ]
  },
  {
   "cell_type": "markdown",
   "id": "a5c3e0e4",
   "metadata": {},
   "source": [
    "不做任何操作前先看看两个“引脚”的值："
   ]
  },
  {
   "cell_type": "code",
   "execution_count": 103,
   "id": "9edefb2b",
   "metadata": {},
   "outputs": [
    {
     "data": {
      "text/plain": [
       "0"
      ]
     },
     "execution_count": 103,
     "metadata": {},
     "output_type": "execute_result"
    }
   ],
   "source": [
    "(get-signal inverter-input)"
   ]
  },
  {
   "cell_type": "code",
   "execution_count": 104,
   "id": "49c877b6",
   "metadata": {},
   "outputs": [
    {
     "data": {
      "text/plain": [
       "0"
      ]
     },
     "execution_count": 104,
     "metadata": {},
     "output_type": "execute_result"
    }
   ],
   "source": [
    "(get-signal inverter-output)"
   ]
  },
  {
   "cell_type": "markdown",
   "id": "3b15b421",
   "metadata": {},
   "source": [
    "给输入引脚一个1的信号："
   ]
  },
  {
   "cell_type": "code",
   "execution_count": 105,
   "id": "5b77c3ca",
   "metadata": {},
   "outputs": [
    {
     "data": {
      "text/plain": [
       "done"
      ]
     },
     "execution_count": 105,
     "metadata": {},
     "output_type": "execute_result"
    }
   ],
   "source": [
    "(set-signal! inverter-input 1)"
   ]
  },
  {
   "cell_type": "markdown",
   "id": "4998d31c",
   "metadata": {},
   "source": [
    "强制执行所有待处理操作："
   ]
  },
  {
   "cell_type": "code",
   "execution_count": 106,
   "id": "7b057e09",
   "metadata": {},
   "outputs": [
    {
     "data": {
      "text/plain": [
       "done"
      ]
     },
     "execution_count": 106,
     "metadata": {},
     "output_type": "execute_result"
    }
   ],
   "source": [
    "(propagate)"
   ]
  },
  {
   "cell_type": "markdown",
   "id": "00c57580",
   "metadata": {},
   "source": [
    "再看看两个引脚的信号值："
   ]
  },
  {
   "cell_type": "code",
   "execution_count": 107,
   "id": "9d401cd2",
   "metadata": {},
   "outputs": [
    {
     "data": {
      "text/plain": [
       "1"
      ]
     },
     "execution_count": 107,
     "metadata": {},
     "output_type": "execute_result"
    }
   ],
   "source": [
    "(get-signal inverter-input)"
   ]
  },
  {
   "cell_type": "code",
   "execution_count": 108,
   "id": "325f5b40",
   "metadata": {},
   "outputs": [
    {
     "data": {
      "text/plain": [
       "0"
      ]
     },
     "execution_count": 108,
     "metadata": {},
     "output_type": "execute_result"
    }
   ],
   "source": [
    "(get-signal inverter-output)"
   ]
  },
  {
   "cell_type": "markdown",
   "id": "08ad5d3d",
   "metadata": {},
   "source": [
    "反过来把输入引脚的信号设置成0"
   ]
  },
  {
   "cell_type": "code",
   "execution_count": 109,
   "id": "a9579adc",
   "metadata": {},
   "outputs": [
    {
     "data": {
      "text/plain": [
       "done"
      ]
     },
     "execution_count": 109,
     "metadata": {},
     "output_type": "execute_result"
    }
   ],
   "source": [
    "(set-signal! inverter-input 0)"
   ]
  },
  {
   "cell_type": "code",
   "execution_count": 110,
   "id": "e8f47d71",
   "metadata": {},
   "outputs": [
    {
     "data": {
      "text/plain": [
       "0"
      ]
     },
     "execution_count": 110,
     "metadata": {},
     "output_type": "execute_result"
    }
   ],
   "source": [
    "(get-signal inverter-input)"
   ]
  },
  {
   "cell_type": "code",
   "execution_count": 111,
   "id": "bc734690",
   "metadata": {},
   "outputs": [
    {
     "data": {
      "text/plain": [
       "done"
      ]
     },
     "execution_count": 111,
     "metadata": {},
     "output_type": "execute_result"
    }
   ],
   "source": [
    "(propagate)"
   ]
  },
  {
   "cell_type": "markdown",
   "id": "42a4f179",
   "metadata": {},
   "source": [
    "再看看输出引脚的信号："
   ]
  },
  {
   "cell_type": "code",
   "execution_count": 112,
   "id": "d9757608",
   "metadata": {},
   "outputs": [
    {
     "data": {
      "text/plain": [
       "1"
      ]
     },
     "execution_count": 112,
     "metadata": {},
     "output_type": "execute_result"
    }
   ],
   "source": [
    "(get-signal inverter-output)"
   ]
  },
  {
   "cell_type": "markdown",
   "id": "8f01d962",
   "metadata": {},
   "source": [
    "下面定义一个展示引脚信号的函数："
   ]
  },
  {
   "cell_type": "code",
   "execution_count": 113,
   "id": "9d02edb4",
   "metadata": {},
   "outputs": [],
   "source": [
    "\n",
    "(define (probe name wire)\n",
    "  (add-action! wire\n",
    "\t       (lambda ()\n",
    "\t\t (newline)\n",
    "\t\t (display name)\n",
    "\t\t (display \" \")\n",
    "\t\t (display (current-time the-agenda))\n",
    "\t\t (display \" New-value = \")\n",
    "\t\t (display (get-signal wire)))))"
   ]
  },
  {
   "cell_type": "markdown",
   "id": "6053b639",
   "metadata": {},
   "source": [
    "然后把上面的测试代码打包一下："
   ]
  },
  {
   "cell_type": "code",
   "execution_count": 115,
   "id": "56cf8420",
   "metadata": {},
   "outputs": [],
   "source": [
    "(define (start-unit-test-3-28)\n",
    "  (define inverter-input (make-wire))\n",
    "  (define inverter-output (make-wire))\n",
    "  \n",
    "  (probe 'inverter-input inverter-input)\n",
    "  (probe 'inverter-output inverter-output)\n",
    "\n",
    "  (inverter inverter-input inverter-output)\n",
    "\n",
    "  (set-signal! inverter-input 1)\n",
    "\n",
    "  (propagate)\n",
    "  )\n"
   ]
  },
  {
   "cell_type": "code",
   "execution_count": 117,
   "id": "504390bb",
   "metadata": {},
   "outputs": [
    {
     "name": "stdout",
     "output_type": "stream",
     "text": [
      "\n",
      "inverter-input 4 New-value = 0\n",
      "inverter-output 4 New-value = 0\n",
      "inverter-input 4 New-value = 1\n",
      "inverter-output 6 New-value = 1\n",
      "inverter-output 6 New-value = 0"
     ]
    },
    {
     "data": {
      "text/plain": [
       "done"
      ]
     },
     "execution_count": 117,
     "metadata": {},
     "output_type": "execute_result"
    }
   ],
   "source": [
    "(start-unit-test-3-28)"
   ]
  },
  {
   "cell_type": "markdown",
   "id": "93247ae7",
   "metadata": {},
   "source": [
    "然后就照猫画老虎做个and-gate:"
   ]
  },
  {
   "cell_type": "code",
   "execution_count": 122,
   "id": "954e09d6",
   "metadata": {},
   "outputs": [],
   "source": [
    "(define (and-gate a1 a2 output)\n",
    "  (define (and-action-procedure)\n",
    "    (let ((new-value\n",
    "\t   (logical-and (get-signal a1) (get-signal a2))))\n",
    "      (after-delay and-gate-delay\n",
    "\t\t   (lambda ()\n",
    "\t\t     (set-signal! output new-value)))))\n",
    "  (add-action! a1 and-action-procedure)\n",
    "  (add-action! a2 and-action-procedure)\n",
    "  'ok)\n",
    "\n",
    "(define (logical-and a1 a2)\n",
    "  (cond ((and (not (= a1 0))\n",
    "\t     (not (= a1 1))) (error \"Invalid signal\" a1))\n",
    "\t((and (not (= a2 0))\n",
    "\t     (not (= a2 1))) (error \"Invalid signal\" a2))\n",
    "\t((and (= a1 1) (= a2 1)) 1)\n",
    "\t(else 0)))\n",
    "\n",
    "(define and-gate-delay 3)\n"
   ]
  },
  {
   "cell_type": "markdown",
   "id": "441ab4e7",
   "metadata": {},
   "source": [
    "还有or-gate，这个就是题目的要求了："
   ]
  },
  {
   "cell_type": "code",
   "execution_count": 123,
   "id": "5f39b5bd",
   "metadata": {},
   "outputs": [],
   "source": [
    "(define (or-gate a1 a2 output)\n",
    "  (define (or-action-procedure)\n",
    "    (let ((new-value\n",
    "\t   (logical-or (get-signal a1) (get-signal a2))))\n",
    "      (after-delay or-gate-delay\n",
    "\t\t   (lambda ()\n",
    "\t\t     (set-signal! output new-value)))))\n",
    "  (add-action! a1 or-action-procedure)\n",
    "  (add-action! a2 or-action-procedure)\n",
    "  'ok)\n",
    "\n",
    "(define (logical-or a1 a2)\n",
    "  (cond ((and (not (= a1 0))\n",
    "\t     (not (= a1 1))) (error \"Invalid signal\" a1))\n",
    "\t((and (not (= a2 0))\n",
    "\t     (not (= a2 1))) (error \"Invalid signal\" a2))\n",
    "\t((or (= a1 1) (= a2 1)) 1)\n",
    "\t(else 0)))\n",
    "\n",
    "\n",
    "(define or-gate-delay 5)\n"
   ]
  },
  {
   "cell_type": "markdown",
   "id": "e6767a97",
   "metadata": {},
   "source": [
    "再测试一下 and-gate和or-gate:"
   ]
  },
  {
   "cell_type": "code",
   "execution_count": 131,
   "id": "15421603",
   "metadata": {},
   "outputs": [],
   "source": [
    "(define (and-gate-test input-1-value input-2-value)\n",
    "  (define input-1 (make-wire))\n",
    "  (define input-2 (make-wire))\n",
    "  (define output (make-wire))\n",
    "  \n",
    "  (and-gate input-1 input-2 output)\n",
    "  \n",
    "  (set-signal! input-1 input-1-value)\n",
    "  (set-signal! input-2 input-2-value)\n",
    "  \n",
    "  (propagate)\n",
    "  \n",
    "  (get-signal output)\n",
    ")\n"
   ]
  },
  {
   "cell_type": "code",
   "execution_count": 132,
   "id": "e58c050a",
   "metadata": {},
   "outputs": [
    {
     "data": {
      "text/plain": [
       "(0 0 0 1)"
      ]
     },
     "execution_count": 132,
     "metadata": {},
     "output_type": "execute_result"
    }
   ],
   "source": [
    "(list (and-gate-test 0 0) (and-gate-test 0 1) (and-gate-test 1 0) (and-gate-test 1 1))"
   ]
  },
  {
   "cell_type": "code",
   "execution_count": 133,
   "id": "4f29bb31",
   "metadata": {},
   "outputs": [],
   "source": [
    "(define (or-gate-test input-1-value input-2-value)\n",
    "  (define input-1 (make-wire))\n",
    "  (define input-2 (make-wire))\n",
    "  (define output (make-wire))\n",
    "  \n",
    "  (or-gate input-1 input-2 output)\n",
    "  \n",
    "  (set-signal! input-1 input-1-value)\n",
    "  (set-signal! input-2 input-2-value)\n",
    "  \n",
    "  (propagate)\n",
    "  \n",
    "  (get-signal output)\n",
    ")\n"
   ]
  },
  {
   "cell_type": "code",
   "execution_count": 134,
   "id": "f994d7cc",
   "metadata": {},
   "outputs": [
    {
     "data": {
      "text/plain": [
       "(0 1 1 1)"
      ]
     },
     "execution_count": 134,
     "metadata": {},
     "output_type": "execute_result"
    }
   ],
   "source": [
    "(list (or-gate-test 0 0) (or-gate-test 0 1) (or-gate-test 1 0) (or-gate-test 1 1))"
   ]
  },
  {
   "cell_type": "code",
   "execution_count": null,
   "id": "2b83e368",
   "metadata": {},
   "outputs": [],
   "source": []
  },
  {
   "cell_type": "code",
   "execution_count": null,
   "id": "4d372b1a",
   "metadata": {},
   "outputs": [],
   "source": []
  },
  {
   "cell_type": "code",
   "execution_count": null,
   "id": "7e977cde",
   "metadata": {},
   "outputs": [],
   "source": []
  }
 ],
 "metadata": {
  "kernelspec": {
   "display_name": "Calysto Scheme 3",
   "language": "scheme",
   "name": "calysto_scheme"
  },
  "language_info": {
   "codemirror_mode": {
    "name": "scheme"
   },
   "mimetype": "text/x-scheme",
   "name": "scheme",
   "pygments_lexer": "scheme"
  }
 },
 "nbformat": 4,
 "nbformat_minor": 5
}
