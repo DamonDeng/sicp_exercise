{
 "cells": [
  {
   "cell_type": "markdown",
   "id": "0454da55",
   "metadata": {},
   "source": [
    "## SICP 习题 （2.48）解题总结：绘制框架"
   ]
  },
  {
   "cell_type": "markdown",
   "id": "43ffdc12",
   "metadata": {},
   "source": [
    "关于图形语言这部分的所有习题都在2.44里讲解了。\n",
    "\n",
    "关于2.48的部分摘抄如下："
   ]
  },
  {
   "cell_type": "markdown",
   "id": "de43c158",
   "metadata": {},
   "source": [
    "### 2.48\n",
    "\n",
    "接着开始定义线段，定义完你就做完习题2.48了。。。。"
   ]
  },
  {
   "cell_type": "code",
   "execution_count": 1,
   "id": "e1aaea2b",
   "metadata": {},
   "outputs": [],
   "source": [
    "(define (make-segment v1 v2)\n",
    "   (cons v1 v2))\n",
    "\n",
    "(define (start-segment segment)\n",
    "  (car segment))\n",
    "\n",
    "(define (end-segment segment)\n",
    "  (cdr segment))"
   ]
  },
  {
   "cell_type": "code",
   "execution_count": null,
   "id": "b89e926b",
   "metadata": {},
   "outputs": [],
   "source": []
  }
 ],
 "metadata": {
  "kernelspec": {
   "display_name": "Calysto Scheme 3",
   "language": "scheme",
   "name": "calysto_scheme"
  },
  "language_info": {
   "codemirror_mode": {
    "name": "scheme"
   },
   "mimetype": "text/x-scheme",
   "name": "scheme",
   "pygments_lexer": "scheme"
  }
 },
 "nbformat": 4,
 "nbformat_minor": 5
}
