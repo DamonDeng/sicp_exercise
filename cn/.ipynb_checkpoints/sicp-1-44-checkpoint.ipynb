{
 "cells": [
  {
   "cell_type": "markdown",
   "id": "160af8d0",
   "metadata": {},
   "source": [
    "## SICP 习题 （1.44）解题总结"
   ]
  },
  {
   "cell_type": "markdown",
   "id": "df98249f",
   "metadata": {},
   "source": [
    "SICP 习题1.44 要求我们实现一个平滑函数的过程，和以往一样，如果你太在意平滑函数的数学定义你就输了。简单的办法就是直奔平滑函数的要求，其实就是给我们一个不清楚细节的函数f，要求我们返回一个过程专门计算(f (+ x dx)) ， (f x) ， (f (- x dx))的平均值。其中dx是事先定义好的一个很小的数，比如0.001。\n",
    "\n",
    "这就比较简单了，直接实现如下："
   ]
  },
  {
   "cell_type": "code",
   "execution_count": 1,
   "id": "6710bafa",
   "metadata": {},
   "outputs": [],
   "source": [
    "(define (smooth f)\n",
    "  (lambda (x) (/ (+ (f (- x dx)) (f x) (f (+ x dx))) 3)))"
   ]
  },
  {
   "cell_type": "markdown",
   "id": "840834ab",
   "metadata": {},
   "source": [
    "如果希望对一个过程进行多次平滑处理，可以结合之前的repeat过程多次调用smooth过程，代码如下："
   ]
  },
  {
   "cell_type": "code",
   "execution_count": 2,
   "id": "c94c9c22",
   "metadata": {},
   "outputs": [],
   "source": [
    "(define (n-smooth f n)\n",
    "  ((repeat smooth n) f))"
   ]
  },
  {
   "cell_type": "markdown",
   "id": "a8bb8e18",
   "metadata": {},
   "source": [
    "所依赖的相关的函数定义如下，是从之前的题解中拷贝过来的："
   ]
  },
  {
   "cell_type": "code",
   "execution_count": 4,
   "id": "eab8bf63",
   "metadata": {},
   "outputs": [],
   "source": [
    "(define (compose f g)\n",
    "  (lambda (x)\n",
    "    (f (g x))))\n",
    "\n",
    "\n",
    "(define (repeat f n)\n",
    "  (define (repeat-inner f cur-n)\n",
    "    (if (< cur-n n)\n",
    "\t (compose f (repeat-inner f (+ cur-n 1)))\n",
    "\tf ))\n",
    "  (repeat-inner f 1))"
   ]
  },
  {
   "cell_type": "markdown",
   "id": "e9562722",
   "metadata": {},
   "source": [
    "然后就可以开始测试了，不过，测试什么函数好呢？我第一个想到的是sin()函数，通过不断的平滑可以把它平滑成一条横着的直线。不过现在还没有开始在notebook的Calysto Scheme调用图形化界面，不好展现效果，等后续有机会再搞。\n"
   ]
  },
  {
   "cell_type": "code",
   "execution_count": null,
   "id": "aa13b0c6",
   "metadata": {},
   "outputs": [],
   "source": []
  }
 ],
 "metadata": {
  "kernelspec": {
   "display_name": "Calysto Scheme 3",
   "language": "scheme",
   "name": "calysto_scheme"
  },
  "language_info": {
   "codemirror_mode": {
    "name": "scheme"
   },
   "mimetype": "text/x-scheme",
   "name": "scheme",
   "pygments_lexer": "scheme"
  }
 },
 "nbformat": 4,
 "nbformat_minor": 5
}
