{
 "cells": [
  {
   "cell_type": "markdown",
   "id": "750813eb",
   "metadata": {},
   "source": [
    "##  SICP 习题 （1.31）解题总结"
   ]
  },
  {
   "cell_type": "markdown",
   "id": "8ef4e41f",
   "metadata": {},
   "source": [
    "SICP 习题1.31开始拔高我们的抽象能力，向更高的高度进发，以更好地理解高阶函数。\n",
    "\n",
    "习题1.31是基于1.30的。\n",
    "\n",
    "在习题1.30中我们定义了累加的过程sum，其实我们可以发现，这种累积操作是可以做更高的抽象的。\n",
    "\n",
    "在做更高的抽象之前让我们看看使用乘法做累积的代码是什么样的，这就是题目要求我们完成的第一个任务，做函数值的乘积。\n",
    "\n",
    "定义出来的过程如下："
   ]
  },
  {
   "cell_type": "code",
   "execution_count": 1,
   "id": "f5d6e30c",
   "metadata": {},
   "outputs": [],
   "source": [
    "(define (product term a next b)\n",
    "  (if (> a b)\n",
    "      1\n",
    "      (* (term a)\n",
    "\t (product term (next a) next b))))"
   ]
  },
  {
   "cell_type": "markdown",
   "id": "65fa27fb",
   "metadata": {},
   "source": [
    "可以发现，除了其中的+号变成了*号，初始值由0变成了1，这个过程和sum几乎是一样的。\n",
    "\n",
    "另外，题目还要求我们实现迭代版的函数值乘积，定义出来的过程如下："
   ]
  },
  {
   "cell_type": "code",
   "execution_count": 2,
   "id": "227082c4",
   "metadata": {},
   "outputs": [],
   "source": [
    "(define (product-iter term a next b )\n",
    "  (define (iter a result)\n",
    "    (if (> a b)\n",
    "\tresult\n",
    "\t(iter (next a) (* (term a) result))))\n",
    "  (iter a 1))"
   ]
  },
  {
   "cell_type": "markdown",
   "id": "fe743f65",
   "metadata": {},
   "source": [
    "同样，迭代版的乘积累积过程和迭代版的累加过程几乎是一样的，除了*号代替+号，1代替0.\n",
    "\n",
    "不知道在哪里听说过，如果我们在重复输入大量相同的代码，肯定是哪里出问题了。\n",
    "\n",
    "我们应该是把乘法的累积和加法的累积做成一个抽象的叫“累积”的过程，然后将“乘法”或者是“加法”作为参数传进去。\n",
    "\n",
    "当然，这一切是在高阶函数成立的条件下才可以做到的。\n",
    "\n",
    "这就是后面的习题1.32要做的事情，更多的我们在下一题再讨论。\n",
    "\n",
    "回到习题1.31，题目还要求我们根据公式“pie/4=(2/3)*(4/3)*(4/5)*(6/5)*(6/7)*(8/7)…”求出pie的近似值。\n",
    "\n",
    "其实我们可以将以上公式写成下面这样：\n",
    "\n",
    "pie/4=f(1)*f(2)*f(3)*f(4)*f(5)*f(6)…f(k)\n",
    "\n",
    "其中，如果k是偶数，f(k)=(K+2)/(k+1)\n",
    "\n",
    "如果k是奇数，f(k)=(k+1)/(k+2)\n",
    "\n",
    "使用Scheme代码定义的这个f(k)为："
   ]
  },
  {
   "cell_type": "code",
   "execution_count": 3,
   "id": "6443af17",
   "metadata": {},
   "outputs": [],
   "source": [
    "(define (for-pie k)\n",
    "  (if (even? k)\n",
    "      (/ (+ k 2) (+ k 1))\n",
    "      (/ (+ k 1) (+ k 2))))"
   ]
  },
  {
   "cell_type": "markdown",
   "id": "6ccdf877",
   "metadata": {},
   "source": [
    "这样我们可以利用上面的product过程来完成习题，定义的过程如下："
   ]
  },
  {
   "cell_type": "code",
   "execution_count": 4,
   "id": "033ca238",
   "metadata": {},
   "outputs": [],
   "source": [
    "(define (generate-pie n)\n",
    "  (* (product  for-pie 1 next-integer n) 4.0))"
   ]
  },
  {
   "cell_type": "markdown",
   "id": "671c0c4d",
   "metadata": {},
   "source": [
    "其中next-integer用于生成下一个整数，过程如下："
   ]
  },
  {
   "cell_type": "code",
   "execution_count": 5,
   "id": "3a02c3f1",
   "metadata": {},
   "outputs": [],
   "source": [
    "(define (next-integer a) (+ a 1))"
   ]
  },
  {
   "cell_type": "markdown",
   "id": "acfcc740",
   "metadata": {},
   "source": [
    "简单跑一下："
   ]
  },
  {
   "cell_type": "code",
   "execution_count": 7,
   "id": "e6ec755a",
   "metadata": {},
   "outputs": [
    {
     "data": {
      "text/plain": [
       "3.1431607055322663"
      ]
     },
     "execution_count": 7,
     "metadata": {},
     "output_type": "execute_result"
    }
   ],
   "source": [
    "(generate-pie 1000)"
   ]
  },
  {
   "cell_type": "code",
   "execution_count": null,
   "id": "a53c81e8",
   "metadata": {},
   "outputs": [],
   "source": []
  },
  {
   "cell_type": "markdown",
   "id": "0a2b1b3f",
   "metadata": {},
   "source": [
    "​\n",
    "\n",
    "\n",
    "\n",
    "\n",
    "\n",
    "\n",
    "\n",
    "\n",
    "\n",
    "\n",
    "\n",
    "\n",
    "\n",
    "\n",
    "\n",
    "\n",
    "\n",
    "\n",
    "\n",
    "\n",
    "\n",
    "​"
   ]
  }
 ],
 "metadata": {
  "kernelspec": {
   "display_name": "Calysto Scheme 3",
   "language": "scheme",
   "name": "calysto_scheme"
  },
  "language_info": {
   "codemirror_mode": {
    "name": "scheme"
   },
   "mimetype": "text/x-scheme",
   "name": "scheme",
   "pygments_lexer": "scheme"
  }
 },
 "nbformat": 4,
 "nbformat_minor": 5
}
