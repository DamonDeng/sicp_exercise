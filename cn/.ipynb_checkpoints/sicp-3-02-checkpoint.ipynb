{
 "cells": [
  {
   "cell_type": "markdown",
   "id": "079f4e51",
   "metadata": {},
   "source": [
    "## SICP 习题 （3.2）解题总结:  赋值和调用次数统计"
   ]
  },
  {
   "cell_type": "markdown",
   "id": "3b1112cc",
   "metadata": {},
   "source": [
    "SICP 第三章刚开始的习题对我们这些普通程序员来讲都显的特别简单，因为这里面讨论的“赋值”和相关的“副作用”是我们平时普通的编程工作中最基本的工作。"
   ]
  },
  {
   "cell_type": "markdown",
   "id": "b2fc4a52",
   "metadata": {},
   "source": [
    "题目要求我们实现一个调用次数统计的功能，可以记录一个函数被调用多少次。\n",
    "\n",
    "简单定义一个call-times变量，加上赋值操作就可以了。"
   ]
  },
  {
   "cell_type": "code",
   "execution_count": 5,
   "id": "51239efd",
   "metadata": {},
   "outputs": [],
   "source": [
    "(define (make-monitored monitored-f)\n",
    "  (define call-times 0)\n",
    "  (display \"call-times init: \")\n",
    "  (display call-times)\n",
    "  (newline)\n",
    "  (lambda (f-input)\n",
    "    (cond ((equal? f-input \"how many call?\")\n",
    "\t   call-times)\n",
    "\t  ((equal? f-input \"reset\")\n",
    "\t   (begin (set! call-times 0)\n",
    "\t\t  \"Call time reset to 0\"))\n",
    "\t  (else\n",
    "\t   (begin (set! call-times (+ call-times 1))\n",
    "\t\t  (monitored-f f-input))))))\n",
    "\n",
    "(define (start-test-3-2)\n",
    "  (define new-sqrt (make-monitored sqrt))\n",
    "  (new-sqrt 16)\n",
    "  (new-sqrt 9)\n",
    "  (new-sqrt 4)\n",
    "  (display (new-sqrt \"how many call?\"))(newline)\n",
    "  (new-sqrt \"reset\")\n",
    "  (new-sqrt 16)\n",
    "  (display (new-sqrt \"how many call?\"))(newline))\n"
   ]
  },
  {
   "cell_type": "code",
   "execution_count": 6,
   "id": "d2798500",
   "metadata": {},
   "outputs": [
    {
     "name": "stdout",
     "output_type": "stream",
     "text": [
      "call-times init: 0\n",
      "3\n",
      "1\n"
     ]
    }
   ],
   "source": [
    "(start-test-3-2)"
   ]
  },
  {
   "cell_type": "code",
   "execution_count": null,
   "id": "7aaf6af9",
   "metadata": {},
   "outputs": [],
   "source": []
  }
 ],
 "metadata": {
  "kernelspec": {
   "display_name": "Calysto Scheme 3",
   "language": "scheme",
   "name": "calysto_scheme"
  },
  "language_info": {
   "codemirror_mode": {
    "name": "scheme"
   },
   "mimetype": "text/x-scheme",
   "name": "scheme",
   "pygments_lexer": "scheme"
  }
 },
 "nbformat": 4,
 "nbformat_minor": 5
}
