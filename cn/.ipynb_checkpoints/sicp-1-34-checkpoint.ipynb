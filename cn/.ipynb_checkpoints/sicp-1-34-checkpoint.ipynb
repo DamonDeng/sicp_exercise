{
 "cells": [
  {
   "cell_type": "markdown",
   "id": "49026a58",
   "metadata": {},
   "source": [
    "## SICP 习题 （1.34）解题总结"
   ]
  },
  {
   "cell_type": "markdown",
   "id": "4661c7cb",
   "metadata": {},
   "source": [
    "SICP 习题 1.34的题目比较特别一点，对于没有接触过高阶函数的同学们来说是个很好的学习机会。\n",
    "\n",
    "\n",
    "题目是这样的，如果我们定义下面的过程："
   ]
  },
  {
   "cell_type": "code",
   "execution_count": 1,
   "id": "cbebb886",
   "metadata": {},
   "outputs": [],
   "source": [
    "(define (f g)\n",
    "\n",
    "  (g 2))"
   ]
  },
  {
   "cell_type": "markdown",
   "id": "b491b7bc",
   "metadata": {},
   "source": [
    "那么就有："
   ]
  },
  {
   "cell_type": "code",
   "execution_count": 3,
   "id": "ee5f00e1",
   "metadata": {},
   "outputs": [
    {
     "data": {
      "text/plain": [
       "4"
      ]
     },
     "execution_count": 3,
     "metadata": {},
     "output_type": "execute_result"
    }
   ],
   "source": [
    "(define (square x) (* x x))\n",
    "(f square)"
   ]
  },
  {
   "cell_type": "markdown",
   "id": "20cec189",
   "metadata": {},
   "source": [
    "因为有(f square) => (square 2) => 4\n",
    "\n",
    "\n",
    "还有"
   ]
  },
  {
   "cell_type": "code",
   "execution_count": 4,
   "id": "59783d37",
   "metadata": {},
   "outputs": [
    {
     "data": {
      "text/plain": [
       "6"
      ]
     },
     "execution_count": 4,
     "metadata": {},
     "output_type": "execute_result"
    }
   ],
   "source": [
    "(f (lambda (z) (* z (+ z 1))))"
   ]
  },
  {
   "cell_type": "markdown",
   "id": "9aea3524",
   "metadata": {},
   "source": [
    "因为有\n",
    "\n",
    "    (f (lambda (z) (* z (+ z 1))))\n",
    "\n",
    "    => ((lambda (z) (* z (+ z 1))) 2)\n",
    "\n",
    "    => (* 2 (+ 2 1))\n",
    "\n",
    "    => (* 2 3)\n",
    "\n",
    "    => 6"
   ]
  },
  {
   "cell_type": "markdown",
   "id": "666944d3",
   "metadata": {},
   "source": [
    "\n",
    "\n",
    "那么，(f f)的结果会是什么样的呢？这就是题目要求我们回答的问题。\n",
    "\n",
    "\n",
    "如果对高阶函数有准确的理解，做起来不算太难，可以一步一步推导："
   ]
  },
  {
   "cell_type": "markdown",
   "id": "8a5dbd23",
   "metadata": {},
   "source": [
    "    (f f)\n",
    "\n",
    "    => (f 2)\n",
    "\n",
    "    => (2 2)\n",
    "\n",
    "    =>报错，因为2被当做运算符了。。。。。"
   ]
  },
  {
   "cell_type": "markdown",
   "id": "e8a42432",
   "metadata": {},
   "source": [
    "不信的话直接跑一把："
   ]
  },
  {
   "cell_type": "code",
   "execution_count": 5,
   "id": "0154f4a5",
   "metadata": {},
   "outputs": [
    {
     "name": "stderr",
     "output_type": "stream",
     "text": [
      "\u001b[0;31m\n",
      "Traceback (most recent call last):\n",
      "  File \"In [5]\", line 1, col 1, in 'f'\n",
      "  File \"In [1]\", line 3, col 3, in 'g'\n",
      "  File \"In [1]\", line 3, col 3, in 'g'\n",
      "  File \"In [1]\", line 3, col 3\n",
      "RunTimeError: attempt to apply non-procedure '2'\n",
      "\n",
      "\u001b[0m"
     ]
    }
   ],
   "source": [
    "(f f)"
   ]
  },
  {
   "cell_type": "markdown",
   "id": "dd1fbe30",
   "metadata": {},
   "source": [
    "    RunTimeError: attempt to apply non-procedure '2'\n",
    "    \n",
    "意思就是把2当作procedure跑了"
   ]
  }
 ],
 "metadata": {
  "kernelspec": {
   "display_name": "Calysto Scheme 3",
   "language": "scheme",
   "name": "calysto_scheme"
  },
  "language_info": {
   "codemirror_mode": {
    "name": "scheme"
   },
   "mimetype": "text/x-scheme",
   "name": "scheme",
   "pygments_lexer": "scheme"
  }
 },
 "nbformat": 4,
 "nbformat_minor": 5
}
