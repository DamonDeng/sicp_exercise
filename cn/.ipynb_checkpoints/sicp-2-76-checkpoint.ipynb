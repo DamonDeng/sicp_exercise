{
 "cells": [
  {
   "cell_type": "markdown",
   "id": "0454da55",
   "metadata": {},
   "source": [
    "## SICP 习题 （2.76）解题总结：不同风格的比较"
   ]
  },
  {
   "cell_type": "markdown",
   "id": "6b3b715e",
   "metadata": {},
   "source": [
    "SICP 习题 2.76 是道论述题，不需要写代码，需要我们分析一下 数据导向 风格和 消息传递 风格的差别。\n",
    "\n",
    "做SICP习题不用写代码还是会觉得不习惯。"
   ]
  },
  {
   "cell_type": "markdown",
   "id": "9ba2de71",
   "metadata": {},
   "source": [
    "题目要求我们比较上文提到的数据导向的设计思路和消息传递的设计思路，问我们它们分别适合哪种情况。\n",
    "\n",
    "题目里提到两种情况，一种是需要经常增加类型的，一种是需要经常增加操作的。\n",
    "\n",
    "要看不同思路分别适合哪种情况，我们就假装要实现一下，看看分别的困难在哪里。\n",
    "\n",
    "先看看增加一个类型。\n",
    "\n",
    "如果是数据导向的风格，需要在增加和查找动作表的时候添加新的类型，在增加动作上需要的修改不大，但是在查找动上需要修改。以2.73的求导应用为例，假设有种奇怪的求导类型需要加进来，需要修改deriv函数。\n",
    "\n",
    "如果是消息传递的风格，则需要增加一个类型的实现，对原有代码没有修改要求。以2.75的复数的应用为例，如果还有一种新的奇怪的方法表达复数，我们只需要创建一个新的(make-from-xxx-xxx)就好了。\n",
    "\n",
    "所以消息传递的风格对增加一个类型更友好一些。\n",
    "\n",
    "接着看看增加一个操作。\n",
    "\n",
    "如果是数据导向的风格，同样以2.73的求导应用为例，我们只需要多写一个(put 'drive 'new-operator)就好了\n",
    "\n",
    "如果是消息传递的风格，以2.75的复数应用为例，我们需要分别修改(make-from-real-imag)和(make-from-mag-ang)\n",
    "\n",
    "所以数据导向的风格对增加一个操作更友好一些。"
   ]
  },
  {
   "cell_type": "code",
   "execution_count": null,
   "id": "0eeaa8fe",
   "metadata": {},
   "outputs": [],
   "source": []
  }
 ],
 "metadata": {
  "kernelspec": {
   "display_name": "Calysto Scheme 3",
   "language": "scheme",
   "name": "calysto_scheme"
  },
  "language_info": {
   "codemirror_mode": {
    "name": "scheme"
   },
   "mimetype": "text/x-scheme",
   "name": "scheme",
   "pygments_lexer": "scheme"
  }
 },
 "nbformat": 4,
 "nbformat_minor": 5
}
