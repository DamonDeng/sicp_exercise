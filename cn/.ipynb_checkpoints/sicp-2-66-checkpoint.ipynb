{
 "cells": [
  {
   "cell_type": "markdown",
   "id": "0454da55",
   "metadata": {},
   "source": [
    "## SICP 习题 （2.66）解题总结：二叉树的查找"
   ]
  },
  {
   "cell_type": "markdown",
   "id": "36dba41e",
   "metadata": {},
   "source": [
    "SICP 2.66 提到二叉树的查找，题目的上文提到我们在构建数据库的时候可以把记录的ID按某种方式保存，以便于查找，因为信息的索引和查找是信息系统的两个关键功能。\n",
    "\n",
    "数据库记录的ID可以保存为未排序的列表，也可以保存为排序的列表，还可以保存为二叉树。\n",
    "\n",
    "如果保存为二叉树，它的查找复杂度是O(ln(n))，因为一棵平衡的二叉树的平均高度就是ln(n)。\n",
    "\n",
    "我在做这道题的多年以后接触云计算里的分布式对象存储，发现里面的key的索引用的是同样的方法，突然感叹算法的强大。\n",
    "\n",
    "回到题目的要求，关于实现树的查找，主要就是利用排序的二叉树增强查找的效率。\n",
    "\n",
    "具体实现上就是按照当前分支的值进行判断，如果当前值等于查找值，就返回结果，如果当前值大于查找值，就去左树继续查找，如果当前值小于查找值，就去右树继续查找。"
   ]
  },
  {
   "cell_type": "markdown",
   "id": "85987340",
   "metadata": {},
   "source": [
    "代码如下："
   ]
  },
  {
   "cell_type": "code",
   "execution_count": 2,
   "id": "46dc68dd",
   "metadata": {},
   "outputs": [],
   "source": [
    "(define (lookup-tree given-key tree)\n",
    "  (if (null? tree)\n",
    "      #f\n",
    "      (let ((target-key (key (entry tree))))\n",
    "\t(cond ((eq? target-key given-key) (entry tree))\n",
    "\t      ((> target-key given-key) (lookup-tree given-key (left-branch tree)))\n",
    "\t      ((< target-key given-key) (lookup-tree given-key (right-branch tree)))\n",
    "\t      (else (error \"impossible value!\" (list target-key given-key)))))))"
   ]
  },
  {
   "cell_type": "code",
   "execution_count": null,
   "id": "fecd4119",
   "metadata": {},
   "outputs": [],
   "source": []
  }
 ],
 "metadata": {
  "kernelspec": {
   "display_name": "Calysto Scheme 3",
   "language": "scheme",
   "name": "calysto_scheme"
  },
  "language_info": {
   "codemirror_mode": {
    "name": "scheme"
   },
   "mimetype": "text/x-scheme",
   "name": "scheme",
   "pygments_lexer": "scheme"
  }
 },
 "nbformat": 4,
 "nbformat_minor": 5
}
