{
 "cells": [
  {
   "cell_type": "markdown",
   "id": "0454da55",
   "metadata": {},
   "source": [
    "## SICP 习题 （2.47）解题总结：绘制框架"
   ]
  },
  {
   "cell_type": "markdown",
   "id": "1f3a073f",
   "metadata": {},
   "source": [
    "关于图形语言这部分的所有习题都在2.44里讲解了。\n",
    "\n",
    "关于2.47的部分摘抄如下："
   ]
  },
  {
   "cell_type": "markdown",
   "id": "1bb80cab",
   "metadata": {},
   "source": [
    "## 2.47\n",
    "\n",
    "然后定义“绘制框架”，用于框定“画家”，做完你就完成习题2.47了，这题目顺序。。。。"
   ]
  },
  {
   "cell_type": "code",
   "execution_count": 1,
   "id": "8554b28a",
   "metadata": {},
   "outputs": [],
   "source": [
    "(define (make-frame origin edge1 edge2)\n",
    "  (list origin edge1 edge2))\n",
    "\n",
    "(define (origin-frame frame)\n",
    "  (car frame))\n",
    "\n",
    "(define (edge1-frame frame)\n",
    "  (cadr frame))\n",
    "\n",
    "(define (edge2-frame frame)\n",
    "  (caddr frame))"
   ]
  },
  {
   "cell_type": "code",
   "execution_count": null,
   "id": "9bff7d09",
   "metadata": {},
   "outputs": [],
   "source": []
  }
 ],
 "metadata": {
  "kernelspec": {
   "display_name": "Calysto Scheme 3",
   "language": "scheme",
   "name": "calysto_scheme"
  },
  "language_info": {
   "codemirror_mode": {
    "name": "scheme"
   },
   "mimetype": "text/x-scheme",
   "name": "scheme",
   "pygments_lexer": "scheme"
  }
 },
 "nbformat": 4,
 "nbformat_minor": 5
}
