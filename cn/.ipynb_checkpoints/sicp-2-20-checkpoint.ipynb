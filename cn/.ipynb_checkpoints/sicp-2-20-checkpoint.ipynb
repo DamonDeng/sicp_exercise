{
 "cells": [
  {
   "cell_type": "markdown",
   "id": "0454da55",
   "metadata": {},
   "source": [
    "SICP 习题 （2.20）解题总结: 不确定数量参数"
   ]
  },
  {
   "cell_type": "markdown",
   "id": "a167f362",
   "metadata": {},
   "source": [
    "​\n",
    "\n",
    "SICP 习题 2.20 引入了一种新的函数调用方式，就是带 . 符号的不确定参数调用方式。\n",
    "\n",
    "题中也讲到了， Scheme支持这种调用方式，如果我们把方法定义成下面这个样子\n",
    "\n",
    "(define (my-method first-p  .  others-p)\n",
    "  ;…..\n",
    ")\n",
    "\n",
    "我们就可以在调用方法my-method时传入大于2的任何数量的参数，比如：\n",
    "\n",
    "(my-method 1 2 3 4 5 6)\n",
    "\n",
    "这时my-method获得两个变量，first-p是1，而others-p是一个list，成员有2 3 4 5 6，就是说others-p等于(2 3 4 5 6)\n",
    "\n",
    "题目要求我们实现一个叫same-parity的方法，该方法接受不确定数量的参数，返回和第一个参数具有同样奇偶性的所有参数。\n",
    "\n",
    "这道题不难，题目的意思主要是介绍这种不确定数量参数的使用方式。\n",
    "\n",
    "方法定义如下：\n",
    "\n",
    "(define (same-parity first . others)\n",
    "  (display first)\n",
    "  (newline)\n",
    "  (display others)\n",
    "  (newline)\n",
    "  (if (not (null? others))\n",
    "      (if (odd? first)\n",
    "\t  (cons first (filter odd? others))\n",
    "\t  (cons first (remove odd? others)))\n",
    "      (list first)))\n",
    "\n",
    "这里有点偷懒，使用了系统的filter过程和remove过程， 系统的filter过程可以返回一个列表中满足条件的成员，而系统过程remove返回所有不满足条件的成员。\n",
    "\n",
    "而odd?过程也是一个系统过程，用于判断一个数的奇偶性。\n",
    "\n",
    "不过方法里面加了两行打印代码，用于打印first参数和others参数，这样在测试的时候可以更清楚地观察两个参数的值。\n",
    "\n",
    "​"
   ]
  },
  {
   "cell_type": "code",
   "execution_count": null,
   "id": "df7c1220",
   "metadata": {},
   "outputs": [],
   "source": []
  }
 ],
 "metadata": {
  "kernelspec": {
   "display_name": "Calysto Scheme 3",
   "language": "scheme",
   "name": "calysto_scheme"
  },
  "language_info": {
   "codemirror_mode": {
    "name": "scheme"
   },
   "mimetype": "text/x-scheme",
   "name": "scheme",
   "pygments_lexer": "scheme"
  }
 },
 "nbformat": 4,
 "nbformat_minor": 5
}
