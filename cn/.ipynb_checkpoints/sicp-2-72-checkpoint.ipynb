{
 "cells": [
  {
   "cell_type": "markdown",
   "id": "0454da55",
   "metadata": {},
   "source": [
    "## SICP 习题 （2.72）解题总结：生成huffman树的复杂度"
   ]
  },
  {
   "cell_type": "markdown",
   "id": "ca206000",
   "metadata": {},
   "source": [
    "SICP 习题2.72是SICP习题里少数不用写代码的题目。\n",
    "\n",
    "题目要求我们估计huffman树生成过程的复杂度。\n",
    "\n",
    "题目也提到要讨论通用的情况比较麻烦，希望我们讨论习题2.71的情况。\n",
    "\n",
    "在习题2.71里我们对那种特殊情况下的huffman生成也做了讨论，因为每次合并出来的元素权重都小于任何待处理的元素，所以在(adjoin-set)的调用中都不用遍历整个序列，第一个就可以插入了，所以单个adjoin-set的调用复杂度是O(1)。\n",
    "\n",
    "剩下就是对整个待处理序列的遍历，这个过程是O(n)的复杂度。"
   ]
  },
  {
   "cell_type": "code",
   "execution_count": null,
   "id": "15306e69",
   "metadata": {},
   "outputs": [],
   "source": []
  }
 ],
 "metadata": {
  "kernelspec": {
   "display_name": "Calysto Scheme 3",
   "language": "scheme",
   "name": "calysto_scheme"
  },
  "language_info": {
   "codemirror_mode": {
    "name": "scheme"
   },
   "mimetype": "text/x-scheme",
   "name": "scheme",
   "pygments_lexer": "scheme"
  }
 },
 "nbformat": 4,
 "nbformat_minor": 5
}
