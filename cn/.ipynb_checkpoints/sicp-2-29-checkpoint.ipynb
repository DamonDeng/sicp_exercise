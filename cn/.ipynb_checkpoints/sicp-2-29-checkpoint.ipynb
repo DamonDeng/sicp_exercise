{
 "cells": [
  {
   "cell_type": "markdown",
   "id": "0454da55",
   "metadata": {},
   "source": [
    "## SICP 习题 （2.29） 解题总结：二叉活动体"
   ]
  },
  {
   "cell_type": "markdown",
   "id": "40d6ca0d",
   "metadata": {},
   "source": [
    "SICP 习题 2.29题目很长，实现起来有点繁琐，不过题目不难，花点时间还是容易完成的。\n",
    "\n",
    "题目引入了一个概念叫二叉活动体，这种东西有一个左分支，有一个右分支，每个分支包括一个长度和一个悬挂物，悬挂物可以是一个数，也可以是另一个二叉活动体。\n",
    "\n",
    "题中给出了二叉活动体的实现代码："
   ]
  },
  {
   "cell_type": "code",
   "execution_count": 1,
   "id": "2a7bfa77",
   "metadata": {},
   "outputs": [],
   "source": [
    "(define (make-mobile left right)\n",
    "  (list left right))\n"
   ]
  },
  {
   "cell_type": "markdown",
   "id": "279e1987",
   "metadata": {},
   "source": [
    "也给出了分支的实现代码："
   ]
  },
  {
   "cell_type": "code",
   "execution_count": 2,
   "id": "6daa6545",
   "metadata": {},
   "outputs": [],
   "source": [
    "(define (make-branch b-length structure)\n",
    "  (list b-length structure))\n"
   ]
  },
  {
   "cell_type": "markdown",
   "id": "69b72e3d",
   "metadata": {},
   "source": [
    "题目要求我们写出left-branch和right-branch的过程，用于返回左分支或者是右分支。\n",
    "\n",
    "这个比较简单，因为二叉活动体的实现代码中左分支和右分支是通过list过程组合起来的，将他们取出来的过程就分别是car和cadr，代码如下："
   ]
  },
  {
   "cell_type": "code",
   "execution_count": 3,
   "id": "fe5d10b8",
   "metadata": {},
   "outputs": [],
   "source": [
    "(define (left-branch mobile)\n",
    "  (car mobile))\n",
    "\n",
    "(define (right-branch mobile)\n",
    "  (cadr mobile))"
   ]
  },
  {
   "cell_type": "markdown",
   "id": "12b8aaea",
   "metadata": {},
   "source": [
    "题目还要求我们实现branch-length和branch-structure过程，用于返回分支的长度和悬挂物。\n",
    "\n",
    "同样，实现的时候还是通过car和cadr分别取得，代码如下："
   ]
  },
  {
   "cell_type": "code",
   "execution_count": 4,
   "id": "4fd301f7",
   "metadata": {},
   "outputs": [],
   "source": [
    "(define (branch-length branch)\n",
    "  (car branch))\n",
    "\n",
    "(define (branch-structure branch)\n",
    "  (cadr branch))\n"
   ]
  },
  {
   "cell_type": "markdown",
   "id": "4089ac53",
   "metadata": {},
   "source": [
    "此外，题目还要求我们实现过程total-weight，用于获得一个二叉活动体的总重量。\n",
    "\n",
    "这个实现起来麻烦一点点，需要遍历整棵树，然后统计所有总量，代码如下："
   ]
  },
  {
   "cell_type": "code",
   "execution_count": 5,
   "id": "6fc6a254",
   "metadata": {},
   "outputs": [],
   "source": [
    "\n",
    "(define (total-weight mobile)\n",
    " (if (not (list? mobile))\n",
    "     mobile\n",
    "\n",
    "  (+ \n",
    "   (branch-weight (left-branch mobile)) \n",
    "   (branch-weight (right-branch mobile)))))\n",
    "\n",
    "\n",
    "\n",
    "(define (branch-weight branch)\n",
    "  (newline)\n",
    "  (display \"caculating branch-weight\")\n",
    "  (display branch)\n",
    "  (if (list? branch)\n",
    "      (if (list? (branch-structure branch))\n",
    "\t  (total-weight (branch-structure branch))\n",
    "\t  (branch-structure branch))\n",
    "      branch))"
   ]
  },
  {
   "cell_type": "markdown",
   "id": "a2832ee6",
   "metadata": {},
   "source": [
    "接着，题目还要求我们实现一个balance?过程用于检查一个二叉活动体是否是平衡的，平衡的定义书中有说到，就是左分支重量乘以长度等于右分支重量乘以长度，而且所有子树都满足这样的条件。\n",
    "\n",
    "借助以上实现的方法，检查一个二叉活动体是否平衡可以通过不断递归，不断判断每一个二叉分叉点来实现，代码如下："
   ]
  },
  {
   "cell_type": "code",
   "execution_count": 6,
   "id": "d2741103",
   "metadata": {},
   "outputs": [],
   "source": [
    "(define (balance? mobile)\n",
    "  (newline)\n",
    "  (display \"evaluating: \")\n",
    "  (display mobile)\n",
    "  (if (not (list? mobile))\n",
    "      (begin\n",
    "\t(display \"not list\")\n",
    "\t#t\n",
    "\t)\n",
    "      (let ((left-one (branch-structure (left-branch mobile)))\n",
    "\t    (right-one (branch-structure (right-branch mobile))))\n",
    "\t(newline)\n",
    "\t(display \"inner evaluating:\")\n",
    "\t(display left-one)\n",
    "\t(display right-one)\n",
    "\t(if (and (balance? left-one)\n",
    "\t\t (balance? right-one)\n",
    "\t\t (= (* (branch-length (left-branch mobile))\n",
    "\t\t       (total-weight left-one))\n",
    "\t\t    (* (branch-length (right-branch mobile))\n",
    "\t\t       (total-weight right-one))))\n",
    "\t    #t\n",
    "\t    #f))))\n"
   ]
  },
  {
   "cell_type": "markdown",
   "id": "685fc2d7",
   "metadata": {},
   "source": [
    " 最后，题目问我们如果活动体的实现过程中不是使用list过程，而是使用cons过程，我们的程序是否需要很大量的修改。\n",
    "\n",
    "因为我们使用接口封装了不同的获取函数，所以我们的代码不需要大量的修改，只需要改一下那些获取函数就可以了，比如\n",
    "\n",
    "right-branch过程中的cadr修改成cdr就好了:\n"
   ]
  },
  {
   "cell_type": "code",
   "execution_count": 7,
   "id": "919231a3",
   "metadata": {},
   "outputs": [],
   "source": [
    ";; (define (right-branch mobile)\n",
    ";;   (cdr mobile))"
   ]
  },
  {
   "cell_type": "code",
   "execution_count": null,
   "id": "b95b095d",
   "metadata": {},
   "outputs": [],
   "source": []
  },
  {
   "cell_type": "code",
   "execution_count": 8,
   "id": "13964af2",
   "metadata": {},
   "outputs": [],
   "source": [
    "(define sample1 (make-mobile (make-branch 13 2) (make-branch 2 13)))\n",
    "(balance? sample1)\n"
   ]
  },
  {
   "cell_type": "code",
   "execution_count": 14,
   "id": "eb5dcb62",
   "metadata": {},
   "outputs": [
    {
     "name": "stdout",
     "output_type": "stream",
     "text": [
      "\n",
      "evaluating: ((10 ((10 2) (11 2))) (2 13))\n",
      "inner evaluating:((10 2) (11 2))13\n",
      "evaluating: ((10 2) (11 2))\n",
      "inner evaluating:22\n",
      "evaluating: 2not list\n",
      "evaluating: 2not list"
     ]
    },
    {
     "data": {
      "text/plain": [
       "#f"
      ]
     },
     "execution_count": 14,
     "metadata": {},
     "output_type": "execute_result"
    }
   ],
   "source": [
    "(define sample2 (make-mobile (make-branch 10 (make-mobile (make-branch 10 2) (make-branch 11 2))) (make-branch 2 13)))\n",
    "(balance? sample2)\n"
   ]
  }
 ],
 "metadata": {
  "kernelspec": {
   "display_name": "Calysto Scheme 3",
   "language": "scheme",
   "name": "calysto_scheme"
  },
  "language_info": {
   "codemirror_mode": {
    "name": "scheme"
   },
   "mimetype": "text/x-scheme",
   "name": "scheme",
   "pygments_lexer": "scheme"
  }
 },
 "nbformat": 4,
 "nbformat_minor": 5
}
