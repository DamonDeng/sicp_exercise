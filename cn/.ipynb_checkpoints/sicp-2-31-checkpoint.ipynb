{
 "cells": [
  {
   "cell_type": "markdown",
   "id": "0454da55",
   "metadata": {},
   "source": [
    "## SICP 习题 (2.31)解题总结 : 通用的Square-Tree"
   ]
  },
  {
   "cell_type": "markdown",
   "id": "0941fc78",
   "metadata": {},
   "source": [
    "SICP  习题 2.31 秉承该书一直以来的抽象作风，要求读者对习题2.30的结果进行抽象，使square-tree这种形式的过程更加通用。\n",
    "\n",
    "习题2.30中的square-tree只能对树状列表求平方，不能执行其他操作，但是我们可以发现其实使用map遍历树状列表的操作是通用的，只要我们将square换成其他过程就可以执行其他操作了。\n",
    "\n",
    "而Lisp里强大的将过程当做数据的功能可以帮助我们把square换成一个变量，由传入的参数来决定这个变量是什么。\n",
    "\n",
    "我们可以定义一个tree-map过程，接收两个参数，一个是需要执行的操作，一个是作为操作目标的树状列表。\n",
    "\n",
    "代码如下："
   ]
  },
  {
   "cell_type": "code",
   "execution_count": 1,
   "id": "5deddfbb",
   "metadata": {},
   "outputs": [],
   "source": [
    "(define (tree-map method tree)\n",
    "  (map (lambda (i)\n",
    "\t (if (list? i)\n",
    "\t     (tree-map method i)\n",
    "\t     (method i))) tree))"
   ]
  },
  {
   "cell_type": "markdown",
   "id": "40bdf54e",
   "metadata": {},
   "source": [
    "这样就可以通过传入不同的method决定对列表执行什么操作了。\n",
    "\n",
    "然后用下面的过程包装一下就可以继续完成square-tree的工作：\n"
   ]
  },
  {
   "cell_type": "code",
   "execution_count": 2,
   "id": "7e1a92a1",
   "metadata": {},
   "outputs": [],
   "source": [
    "(define (new-square-tree input-list)\n",
    "  (tree-map square input-list))"
   ]
  },
  {
   "cell_type": "code",
   "execution_count": 3,
   "id": "be9a9a9f",
   "metadata": {},
   "outputs": [],
   "source": [
    "(define (square x)\n",
    "  (* x x))"
   ]
  },
  {
   "cell_type": "code",
   "execution_count": 4,
   "id": "b69ac6a8",
   "metadata": {},
   "outputs": [
    {
     "data": {
      "text/plain": [
       "(1 9 (9) 25 81)"
      ]
     },
     "execution_count": 4,
     "metadata": {},
     "output_type": "execute_result"
    }
   ],
   "source": [
    "(new-square-tree '(1 3 (3 ) 5 9 ))"
   ]
  },
  {
   "cell_type": "code",
   "execution_count": 5,
   "id": "dfd0aae8",
   "metadata": {},
   "outputs": [],
   "source": [
    "(define (cube x)\n",
    "  (* x x x))"
   ]
  },
  {
   "cell_type": "code",
   "execution_count": 6,
   "id": "5a134e2c",
   "metadata": {},
   "outputs": [],
   "source": [
    "(define (cube-tree input-list)\n",
    "  (tree-map cube input-list))"
   ]
  },
  {
   "cell_type": "code",
   "execution_count": 7,
   "id": "488be994",
   "metadata": {},
   "outputs": [
    {
     "data": {
      "text/plain": [
       "(27 64 125 (729 64))"
      ]
     },
     "execution_count": 7,
     "metadata": {},
     "output_type": "execute_result"
    }
   ],
   "source": [
    "(cube-tree '( 3 4 5 ( 9 4 )))"
   ]
  },
  {
   "cell_type": "code",
   "execution_count": null,
   "id": "bdef73a2",
   "metadata": {},
   "outputs": [],
   "source": []
  }
 ],
 "metadata": {
  "kernelspec": {
   "display_name": "Calysto Scheme 3",
   "language": "scheme",
   "name": "calysto_scheme"
  },
  "language_info": {
   "codemirror_mode": {
    "name": "scheme"
   },
   "mimetype": "text/x-scheme",
   "name": "scheme",
   "pygments_lexer": "scheme"
  }
 },
 "nbformat": 4,
 "nbformat_minor": 5
}
