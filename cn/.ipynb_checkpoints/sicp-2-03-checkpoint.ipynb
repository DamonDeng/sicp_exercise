{
 "cells": [
  {
   "cell_type": "markdown",
   "id": "0454da55",
   "metadata": {},
   "source": [
    "## SICP 习题 （2.3） 解题总结：用复合数据表示矩形"
   ]
  },
  {
   "cell_type": "markdown",
   "id": "2158276b",
   "metadata": {},
   "source": [
    "SICP 习题 2.3 要求我们实现一种平面矩形的表示，定义获取数据的相关选择函数。然后定义几个过程来计算矩形的周长和面积。\n",
    "\n",
    "接着题目还要求我们实现矩形的另一种表示方式，要求这个新的矩形表示方式同样适用于以上定义的周长和面积计算过程。\n",
    "\n",
    "有关这道题我们可以通过由上而下的方式进行实现，实现过程也不算复杂，原因是这道题涉及到的数学概念还是比较简单，就是矩形的面积和周长，差不多是我们小学的知识吧。不过题目后面要求我们实现矩形的不同表示方式，还要同时支持同一个计算周长和面积的过程，这点有些麻烦，实际上这道题有点偷跑了，涉及到的一些概念在本书的后面章节中才详细讲到。如果只是使用我们目前学习过的一些Scheme技术，实际上无法妥善的完成这道题目，只能部分实现。\n",
    "\n",
    "我们先从最上层开始实现，首先是面积计算过程和周长计算过程。 \n",
    "\n",
    "面积计算过程就是“长乘以宽”嘛，代码如下："
   ]
  },
  {
   "cell_type": "code",
   "execution_count": 1,
   "id": "02d2ce9b",
   "metadata": {},
   "outputs": [],
   "source": [
    "(define (area-rect rect)\n",
    "  (* (get-length rect) (get-width rect)))"
   ]
  },
  {
   "cell_type": "markdown",
   "id": "cdf751e4",
   "metadata": {},
   "source": [
    "周长计算过程就是“长加上宽，然后乘以2”，代码如下："
   ]
  },
  {
   "cell_type": "code",
   "execution_count": 2,
   "id": "8ab8e9f9",
   "metadata": {},
   "outputs": [],
   "source": [
    "(define (perimeter-rect rect)\n",
    "  (* 2 (+ (get-length rect) (get-width rect))))"
   ]
  },
  {
   "cell_type": "markdown",
   "id": "aeb7865c",
   "metadata": {},
   "source": [
    "通过以上过程我们就可以发现，我们需要实现的是get-length和get-width两个过程，用于获取一个矩形的长和宽。\n",
    "\n",
    "具体的get-length和get-width如何实现，又取决于我们的矩形数据结构如何实现。\n",
    "\n",
    "我在下面列出我的第一种实现，实现的方式是通过矩形的两个顶点的坐标来定义一个矩形，代码如下："
   ]
  },
  {
   "cell_type": "code",
   "execution_count": 3,
   "id": "cc47b078",
   "metadata": {},
   "outputs": [],
   "source": [
    "(define (make-rectangle-1 corner-1 corner-2)\n",
    "  (cons corner-1 corner-2))\n"
   ]
  },
  {
   "cell_type": "markdown",
   "id": "55c3087f",
   "metadata": {},
   "source": [
    "根据我们上两道题的经验，我们知道这里需要定义两个函数分别用于获取一个矩形的两个顶点，代码如下："
   ]
  },
  {
   "cell_type": "code",
   "execution_count": 4,
   "id": "f9b95475",
   "metadata": {},
   "outputs": [],
   "source": [
    "(define (corner-1 rectangle)\n",
    "  (car rectangle))\n",
    "\n",
    "(define (corner-2 rectangle)\n",
    "  (cdr rectangle))"
   ]
  },
  {
   "cell_type": "markdown",
   "id": "1febe5ec",
   "metadata": {},
   "source": [
    "当我们可以获取到一个矩形的两个顶点的数据之后，我们就可以去定义get-length和get-width过程了，代码如下："
   ]
  },
  {
   "cell_type": "code",
   "execution_count": 5,
   "id": "264e85ca",
   "metadata": {},
   "outputs": [],
   "source": [
    "(define (get-length rectangle)\n",
    "    (let ((length1 (abs (- (point-x (corner-1 rectangle)) (point-x (corner-2 rectangle)))))\n",
    "\t  (length2 (abs (- (point-y (corner-1 rectangle)) (point-y (corner-2 rectangle))))))\n",
    "      (if (> length1 length2)\n",
    "\t  length1\n",
    "\t  length2)))\n",
    "\n",
    "(define (get-width rectangle)\n",
    "  (let ((width1 (abs (- (point-x (corner-1 rectangle)) (point-x (corner-2 rectangle)))))\n",
    "\t(width2 (abs (- (point-y (corner-1 rectangle)) (point-y (corner-2 rectangle))))))\n",
    "    (if (> width1 width2)\n",
    "\twidth2\n",
    "\twidth1)))\n"
   ]
  },
  {
   "cell_type": "markdown",
   "id": "6d04b5b6",
   "metadata": {},
   "source": [
    "以上代码比较简单，就是通过conner-1和conner-2过程获得矩形的顶点的数据，然后通过point-x和point-y获得这些顶点的x坐标和y坐标，通过两个顶点的x坐标的差和y坐标的差可以得到矩形的长和宽。\n",
    "\n",
    "以上实现都是比较直接的，和上几道题差不多，接着的问题有些麻烦，就是定义另一种矩形的表示方式，并用同一个面积和周长计算过程来计算矩形的面积的周长。\n",
    "\n",
    "单纯用另一种表示方式来定义矩形还是比较简单，比如我们可以通过矩形的一个顶点，还有长、宽这三个数据来定义一个矩形。\n",
    "\n",
    "建构这种矩形的代码如下："
   ]
  },
  {
   "cell_type": "code",
   "execution_count": 6,
   "id": "64a1ff24",
   "metadata": {},
   "outputs": [],
   "source": [
    "(define (make-rectangle-2 corner width length)\n",
    " (cons corner (cons width length)))"
   ]
  },
  {
   "cell_type": "markdown",
   "id": "d44eec83",
   "metadata": {},
   "source": [
    "以上代码就是简单地使用cons过程将顶点、长、宽连接起来。\n",
    "\n",
    "对应这样的实现，获取矩形的长和宽的代码就很直接了："
   ]
  },
  {
   "cell_type": "code",
   "execution_count": 7,
   "id": "ef1be288",
   "metadata": {},
   "outputs": [],
   "source": [
    "(define (get-length rectangle)\n",
    "    (abs (cdr (cdr rectangle))))\n",
    "\n",
    "(define (get-width rectangle)\n",
    "    (abs (car (cdr rectangle))))"
   ]
  },
  {
   "cell_type": "markdown",
   "id": "8ebd7394",
   "metadata": {},
   "source": [
    "\n",
    "因为同样实现了get-length和get-width过程，我们可以发现make-rectangle-1和make-rectangle-2做出来的矩形都可以通过area-rect过程来计算面积，也可以使用perimeter-rect过程来计算周长。\n",
    "\n",
    "也就是说，我们通过get-length和get-width将矩形的实现细节隐藏了。不管使用什么形式实现矩形的数据结构，因为获得长和宽的接口是一样的，所以area-rect和perimeter-rect都可以正确计算矩形的面积和周长。\n",
    "\n",
    "不过这里有一个问题，就是make-rectangle-1 和 make-rectangle-2 分别对应了不同的get-length和get-width过程，而Scheme里我们并没有看到“方法重载”的实现，在一个运行环境里只允许一套get-length和get-width存在。也就是说，我们定义的两种矩形的实现方法无法在一个环境里并存。\n",
    "\n",
    "如果我们的目标仅仅是满足题目要求，以上的代码已经可以完成工作了，我们定义了两种矩形实现，他们可以使用同一套面积、周长过程来计算面积和周长。\n",
    "\n",
    "但是，作为一个有自尊的程序员，以上的代码似乎是无法接受的，两种矩形实现甚至都无法在同一个系统里运行，这算什么事嘛。\n",
    "\n",
    "一旦你考虑到这一点，你就会发现这还不是一个可以简单解决的问题，这里涉及到“方法重载”的概念，说的直接一点，就是我们定义两个或者多个同名方法（或者说同名函数），它们可以根据参数类型的不同做不同的事情。大概的代码是这样的："
   ]
  },
  {
   "cell_type": "code",
   "execution_count": 8,
   "id": "c6fd9f65",
   "metadata": {},
   "outputs": [],
   "source": [
    "\n",
    ";; (define (catch 鱼)\n",
    ";; \t(display “使用网抓鱼”))\n",
    "\n",
    ";; (define (catch 兔)\n",
    ";; \t(display “找个树桩等着”))\n",
    "\n",
    ";; (define (catch 虎）\n",
    ";; \t(display “抓什么抓呀，快逃吧”))"
   ]
  },
  {
   "cell_type": "markdown",
   "id": "f82b2ac4",
   "metadata": {},
   "source": [
    "这里有三个catch方法，当我们输入的参数是“鱼”，“兔”，“虎”时，它们完成的工作是不一样的。\n",
    "\n",
    "当然，以上代码在Scheme里并不能像我们希望的那样工作，在Scheme里只有(catch 虎)这个函数是有效的。因为Scheme不支持过程重载，只有最后定义的过程生效。\n",
    "\n",
    "如果我们考虑自己实现“方法重载”，我们会进一步发现这里面还有很多问题需要解决，比如我们需要去判断参数的类型，就是判断参数是“鱼”，“兔”还是“虎”。为了实现这一点，我们需要进一步引入“类型”的概念，去判断输入的参数属于“鱼”、“兔”还是“虎”，比如以下代码需要调用抓鱼的过程：\n",
    "\n",
    "(catch “三文鱼”)    ( catch “大头鱼”)\n",
    "\n",
    "所以我们需要有办法判断“三文鱼”的“类型”是“鱼”，最后才决定调用抓鱼的过程。\n",
    "\n",
    "进一步，为了有办法判断“三文鱼”的“类型”，我们需要在保存“三文鱼”的数据结构中增加“类型”这一项。\n",
    "\n",
    "在支持过程重载的语言中，对于参数类型的判断和对应过程的选择是在底层实现的，开发人员不需要知道。\n",
    "\n",
    "然而，对于我们目前的学习进度来讲，在语言级别实现的过程重载实在太过超前了，SICP以后的章节中还有详细的讲述，事实上也有不同的实现方法。\n",
    "\n",
    "所以，在完成本题的过程中，我们还是使用一些简单，或许有些拙劣方法，直接通过类型判断来完成工作。\n",
    "\n",
    "回到我们的矩形定义，我们需要做的第一件事情是在矩形的数据结构中加入“类型”。考虑到不同类型矩形的数据结构不同，把“类型”这一数据放在第一个位置显然是一个好方法。因为这样可以在拿到矩形数据之后在第一时间取第一个数值进行判断，就可以知道该矩形的类型。\n",
    "\n",
    "对应的代码如下："
   ]
  },
  {
   "cell_type": "code",
   "execution_count": 9,
   "id": "f53fd193",
   "metadata": {},
   "outputs": [],
   "source": [
    "(define (make-wrapped-rectangle-1 corner-1 corner-2)\n",
    "  (cons 'type-1 (make-rectangle-1 corner-1 corner-2)))\n",
    "\n",
    "(define (make-wrapped-rectangle-2 corner width length)\n",
    "  (cons 'type-2 (make-rectangle-2 corner width length)))\n",
    "\n"
   ]
  },
  {
   "cell_type": "markdown",
   "id": "3d16a2cf",
   "metadata": {},
   "source": [
    "这样，为了从“wrapped-rectangle”中取得类型和正真的内容，我们需要定义对应的获取方法，代码如下：\n",
    "\n"
   ]
  },
  {
   "cell_type": "code",
   "execution_count": 10,
   "id": "011202fc",
   "metadata": {},
   "outputs": [],
   "source": [
    "(define (type rectangle)\n",
    "  (car rectangle))\n",
    "\n",
    "(define (content rectangle)\n",
    "  (cdr rectangle))"
   ]
  },
  {
   "cell_type": "markdown",
   "id": "24b239ea",
   "metadata": {},
   "source": [
    "\n",
    "有了新型的矩形数据结构，我们就可以定义我们新的get-width和get-length过程了："
   ]
  },
  {
   "cell_type": "code",
   "execution_count": 11,
   "id": "f18c4d9c",
   "metadata": {},
   "outputs": [],
   "source": [
    "(define (get-length rect)\n",
    "  (cond ((eq? (type rect) 'type-1)\n",
    "\t (get-length-1 (content rect)))\n",
    "\t((eq? (type rect) 'type-2)\n",
    "\t (get-length-2 (content rect)))\n",
    "\t(else (error \"incorrect data type\" rect))))\n",
    "\n",
    "\n",
    "(define (get-width rect)\n",
    "  (cond ((eq? (type rect) 'type-1)\n",
    "\t (get-width-1 (content rect)))\n",
    "\t((eq? (type rect) 'type-2)\n",
    "\t (get-width-2 (content rect)))\n",
    "\t(else (error \"incorrect data type\" rect))))"
   ]
  },
  {
   "cell_type": "markdown",
   "id": "fbaceab3",
   "metadata": {},
   "source": [
    "以上代码也是比较直接的，就是获得矩形的“类型”，如果是type-1，就调用正真的get-width-1和get-length-1过程，如果是type-2，就调用get-width-2和get-length-2过程。\n",
    "\n",
    "对应的，我们需要把以前实现的两种get-width过程重新命名为get-width-1和get-width-2过程。\n",
    "\n",
    "get-length过程也一样，代码如下："
   ]
  },
  {
   "cell_type": "code",
   "execution_count": 12,
   "id": "74ff8f12",
   "metadata": {},
   "outputs": [],
   "source": [
    "(define (get-length-1 rectangle)\n",
    "    (let ((length1 (abs (- (point-x (corner-1 rectangle)) (point-x (corner-2 rectangle)))))\n",
    "\t  (length2 (abs (- (point-y (corner-1 rectangle)) (point-y (corner-2 rectangle))))))\n",
    "      (if (> length1 length2)\n",
    "\t  length1\n",
    "\t  length2)))\n",
    "\n",
    "(define (get-width-1 rectangle)\n",
    "  (let ((width1 (abs (- (point-x (corner-1 rectangle)) (point-x (corner-2 rectangle)))))\n",
    "\t(width2 (abs (- (point-y (corner-1 rectangle)) (point-y (corner-2 rectangle))))))\n",
    "    (if (> width1 width2)\n",
    "\twidth2\n",
    "\twidth1)))\n",
    "\n",
    "(define (get-length-2 rectangle)\n",
    "    (abs (cdr (cdr rectangle))))\n",
    "\n",
    "(define (get-width-2 rectangle)\n",
    "    (abs (car (cdr rectangle))))"
   ]
  },
  {
   "cell_type": "markdown",
   "id": "56d84bb8",
   "metadata": {},
   "source": [
    "这样我们就基本完成工作了。\n",
    "\n",
    "当然，就像前面说到的，这是一种并不高明的办法，不过你也不需要担心，后面的题目会讲到更多方法，其中不乏高明的办法。\n",
    "\n",
    "继续加油！"
   ]
  },
  {
   "cell_type": "code",
   "execution_count": 15,
   "id": "1133cff9",
   "metadata": {},
   "outputs": [],
   "source": [
    "(define (make-point x y)\n",
    "  (cons x y))\n",
    "\n",
    "\n",
    "(define (point-x point)\n",
    "  (car point))\n",
    "\n",
    "(define (point-y point)\n",
    "  (cdr point))"
   ]
  },
  {
   "cell_type": "code",
   "execution_count": 16,
   "id": "a259c463",
   "metadata": {},
   "outputs": [],
   "source": [
    "(define (start-test-2-3)\n",
    "  (define retangle1 (make-wrapped-rectangle-1 (make-point 1 1) (make-point 41 41)))\n",
    "\n",
    "  (define retangle2 (make-wrapped-rectangle-2 (make-point 1 1) 20 30))\n",
    "\n",
    "\n",
    "  (display (area-rect retangle1))\n",
    "  (newline)\n",
    "  (display (perimeter-rect retangle1))\n",
    "  (newline)\n",
    "\n",
    "  (display (area-rect retangle2))\n",
    "  (newline)\n",
    "  (display (perimeter-rect retangle2))\n",
    "  (newline)\n",
    "\t   \n",
    "\n",
    ")"
   ]
  },
  {
   "cell_type": "code",
   "execution_count": 17,
   "id": "c5795e8f",
   "metadata": {},
   "outputs": [
    {
     "name": "stdout",
     "output_type": "stream",
     "text": [
      "1600\n",
      "160\n",
      "600\n",
      "100\n"
     ]
    }
   ],
   "source": [
    "(start-test-2-3)"
   ]
  },
  {
   "cell_type": "code",
   "execution_count": null,
   "id": "a1321744",
   "metadata": {},
   "outputs": [],
   "source": []
  }
 ],
 "metadata": {
  "kernelspec": {
   "display_name": "Calysto Scheme 3",
   "language": "scheme",
   "name": "calysto_scheme"
  },
  "language_info": {
   "codemirror_mode": {
    "name": "scheme"
   },
   "mimetype": "text/x-scheme",
   "name": "scheme",
   "pygments_lexer": "scheme"
  }
 },
 "nbformat": 4,
 "nbformat_minor": 5
}
