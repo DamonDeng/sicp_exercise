{
 "cells": [
  {
   "cell_type": "markdown",
   "id": "540543da",
   "metadata": {},
   "source": [
    "## SICP 习题 (1.21) 解题总结"
   ]
  },
  {
   "cell_type": "markdown",
   "id": "a36fdb07",
   "metadata": {},
   "source": [
    "SICP 习题1.21要求用书中的smallest-divisor过程找出199, 1999, 19999的最小因子。\n",
    "\n",
    "这道题是个纯复习题，没有新知识，也没有什么难度。\n",
    "\n",
    "为了方便，将书中的smallest-divisor过程列出如下："
   ]
  },
  {
   "cell_type": "code",
   "execution_count": 1,
   "id": "132f4476",
   "metadata": {},
   "outputs": [],
   "source": [
    "(define (smallest-divisor n)\n",
    "  (find-divisor n 2))\n",
    "\n",
    "(define (find-divisor n test-divisor)\n",
    "  (cond ((> (square test-divisor) n) n)\n",
    "\t((divides? test-divisor n) test-divisor)\n",
    "\t(else (find-divisor n (+ test-divisor 1)))))\n",
    "\n",
    "(define (divides? a b)\n",
    "  (= (remainder b a) 0))\n",
    "\n",
    "(define (square x)\n",
    "  (* x x))"
   ]
  },
  {
   "cell_type": "markdown",
   "id": "092be86a",
   "metadata": {},
   "source": [
    "\n",
    "\n",
    "使用这个过程计算一下下面的代码就可以得出题目要求的结果了。"
   ]
  },
  {
   "cell_type": "code",
   "execution_count": 3,
   "id": "28acb173",
   "metadata": {},
   "outputs": [
    {
     "data": {
      "text/plain": [
       "199"
      ]
     },
     "execution_count": 3,
     "metadata": {},
     "output_type": "execute_result"
    }
   ],
   "source": [
    "(smallest-divisor 199)\n"
   ]
  },
  {
   "cell_type": "code",
   "execution_count": 5,
   "id": "8ba7e219",
   "metadata": {},
   "outputs": [
    {
     "data": {
      "text/plain": [
       "1999"
      ]
     },
     "execution_count": 5,
     "metadata": {},
     "output_type": "execute_result"
    }
   ],
   "source": [
    "(smallest-divisor 1999)\n"
   ]
  },
  {
   "cell_type": "code",
   "execution_count": 6,
   "id": "f3650092",
   "metadata": {},
   "outputs": [
    {
     "data": {
      "text/plain": [
       "7"
      ]
     },
     "execution_count": 6,
     "metadata": {},
     "output_type": "execute_result"
    }
   ],
   "source": [
    "(smallest-divisor 19999)"
   ]
  },
  {
   "cell_type": "markdown",
   "id": "197e4242",
   "metadata": {},
   "source": [
    "如果希望仔细看过程smallest-divisor的原理也很简单，书中说的也比较清楚，大概思路就是从2开始检查，看是不是目标数n的因子，是就返回，不是就将当前检查过的数加一继续检查。\n",
    "\n",
    "这个方法是个笨办法，逐个逐个去算，其中有一点点小聪明的是不需要检查到目标数n，只需要检查到 \"根号n\"，因为两个\"根号n\"相乘已经大于n了，比根号n大的数不会是n的最小因子。\n",
    "\n",
    "以上就是习题1.21的解题过程，虽然题目很简单，建议大家还是在你的Scheme环境里自己实现一遍smallest-divisor过程，这样理解的更透彻一点，也为以后几道题打好基础，因为后面开始讨论素数检测的时候经常要用到这里的几个过程。"
   ]
  }
 ],
 "metadata": {
  "kernelspec": {
   "display_name": "Calysto Scheme 3",
   "language": "scheme",
   "name": "calysto_scheme"
  },
  "language_info": {
   "codemirror_mode": {
    "name": "scheme"
   },
   "mimetype": "text/x-scheme",
   "name": "scheme",
   "pygments_lexer": "scheme"
  }
 },
 "nbformat": 4,
 "nbformat_minor": 5
}
