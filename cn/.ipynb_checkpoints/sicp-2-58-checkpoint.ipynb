{
 "cells": [
  {
   "cell_type": "markdown",
   "id": "0454da55",
   "metadata": {},
   "source": [
    "## SICP 习题 （2.58）解题总结：前缀表达式和中缀表达式"
   ]
  },
  {
   "cell_type": "markdown",
   "id": "19704e31",
   "metadata": {},
   "source": [
    "SICP 习题 2.58虽然也是2.56和2.57的延伸，但是这个题目提出了一个关键的思考，就是关于前缀表达式和中缀表达式。\n",
    "\n",
    "学习SICP和Lisp的同学们都会有一个疑问，为什么Lisp选择前缀表达式，Lisp这些看起来很厉害的操作是不是缘于前缀表达式的选择。\n",
    "\n",
    "SICP书中除了第一章介绍了前缀表达式以外，也没有太多提及这种特殊的表达形式。\n",
    "\n",
    "事实上，前缀表达式没有那么重要，使用前缀表达式确实让Lisp省去了很多语句解析的麻烦，但是Lisp的强大和前缀表达式没有特别多的关系。原因就是前缀表达式和中缀表达式的互换并不是特别麻烦。\n",
    "\n",
    "题目有两个部分，第一部分比较简单，就是假设我们获得的中缀表达式比较规范，每个操作都只有两个参数，然后该有的括号都写好了。题目让我们看看我们的deriv函数能不能处理这种表达式。\n",
    "\n",
    "被SICP惯坏以后我就开始不太愿意去修改代码了，我的解题思路是把中缀表达式换成前缀表达式就好了。而且题目的第一部分只是要我们处理规范的中缀表达式，看起来不是那么难的样子。\n",
    "\n",
    "下面看看如何把中缀表达式翻译成前缀表达式，关于题目的第二部分在后面继续分析。"
   ]
  },
  {
   "cell_type": "markdown",
   "id": "5e04dc65",
   "metadata": {},
   "source": [
    "如果我们获得的输入是一个规范的中缀表达式，我们要做的基本上就是把操作符号从中间换到前面来。\n",
    "\n",
    "代码框架如下："
   ]
  },
  {
   "cell_type": "code",
   "execution_count": 23,
   "id": "2324aff4",
   "metadata": {},
   "outputs": [],
   "source": [
    "(define (prefix-translate expression)\n",
    "  (let ((first (car expression))\n",
    "        (second (cadr expression))\n",
    "        (third (caddr expression)))\n",
    "    (list  second \n",
    "           first\n",
    "           third)))"
   ]
  },
  {
   "cell_type": "markdown",
   "id": "45d14967",
   "metadata": {},
   "source": [
    "这样就搞定了："
   ]
  },
  {
   "cell_type": "code",
   "execution_count": 24,
   "id": "5730388a",
   "metadata": {},
   "outputs": [
    {
     "data": {
      "text/plain": [
       "(+ x y)"
      ]
     },
     "execution_count": 24,
     "metadata": {},
     "output_type": "execute_result"
    }
   ],
   "source": [
    "(prefix-translate '(x + y))"
   ]
  },
  {
   "cell_type": "markdown",
   "id": "d643dbd2",
   "metadata": {},
   "source": [
    "哦，不对，如果操作数本身还是个表达式还是不行："
   ]
  },
  {
   "cell_type": "code",
   "execution_count": 25,
   "id": "37ebd7d5",
   "metadata": {},
   "outputs": [
    {
     "data": {
      "text/plain": [
       "(+ x (x + y))"
      ]
     },
     "execution_count": 25,
     "metadata": {},
     "output_type": "execute_result"
    }
   ],
   "source": [
    "(prefix-translate '(x + (x + y)))"
   ]
  },
  {
   "cell_type": "markdown",
   "id": "c40d9764",
   "metadata": {},
   "source": [
    "这个简单，判断一下操作数是不是pair，是的话递归调用就好了："
   ]
  },
  {
   "cell_type": "code",
   "execution_count": 26,
   "id": "56b2320e",
   "metadata": {},
   "outputs": [],
   "source": [
    "(define (prefix-translate expression)\n",
    "  (let ((first (car expression))\n",
    "        (second (cadr expression))\n",
    "        (third (caddr expression)))\n",
    "    (list  second \n",
    "           (cond ((pair? first) (prefix-translate first))\n",
    "                 (first))\n",
    "           (cond ((pair? third) (prefix-translate third))\n",
    "                 (third)))))\n"
   ]
  },
  {
   "cell_type": "code",
   "execution_count": 27,
   "id": "f18cfb10",
   "metadata": {
    "scrolled": true
   },
   "outputs": [
    {
     "data": {
      "text/plain": [
       "(+ 1 (* 2 4))"
      ]
     },
     "execution_count": 27,
     "metadata": {},
     "output_type": "execute_result"
    }
   ],
   "source": [
    "(prefix-translate '(1 + ( 2 * 4)))"
   ]
  },
  {
   "cell_type": "markdown",
   "id": "7045b5e6",
   "metadata": {},
   "source": [
    "题目的第二部分比较麻烦，题目要求我们处理普通的中缀表达式，就是那种没有写好括号，需要你按操作符的优先级自己计算的表达式，比如`(3 + 4 * 5 + 6 / 7)`\n",
    "\n",
    "四则运算我们还是很懂的，上面的表达式要强制加上括号的话就是： `(3 + (4 * 5) + (6 / 7))`\n",
    "\n",
    "另外这里的操作符有可能是连续操作的，像`(1 + 1 + 1)`这样，我们的翻译器不支持这种做法，进一步可以把上面的表达式写成这样：\n",
    "\n",
    "`(3 + ((4 * 5) + (6 / 7)))`\n",
    "\n",
    "写成这样我们的翻译器就可以直接工作了："
   ]
  },
  {
   "cell_type": "code",
   "execution_count": 28,
   "id": "44a7a668",
   "metadata": {},
   "outputs": [
    {
     "data": {
      "text/plain": [
       "(+ 3 (+ (* 4 5) (/ 6 7)))"
      ]
     },
     "execution_count": 28,
     "metadata": {},
     "output_type": "execute_result"
    }
   ],
   "source": [
    "(prefix-translate '(3 + ((4 * 5) + (6 / 7))))"
   ]
  },
  {
   "cell_type": "markdown",
   "id": "71aca4e6",
   "metadata": {},
   "source": [
    "后续的工作就是如何按优先级把括号加上，然后就是如何把多操作数的表达式换成两个参数的表达式。\n",
    "\n",
    "这个思路虽然有了，还是需要一定的代码工作，最近赶内容，就先把这个代码留个空，后续有时间回来填："
   ]
  },
  {
   "cell_type": "code",
   "execution_count": 29,
   "id": "0b924901",
   "metadata": {},
   "outputs": [],
   "source": [
    ";//todo"
   ]
  },
  {
   "cell_type": "code",
   "execution_count": null,
   "id": "cd957b26",
   "metadata": {},
   "outputs": [],
   "source": []
  }
 ],
 "metadata": {
  "kernelspec": {
   "display_name": "Calysto Scheme 3",
   "language": "scheme",
   "name": "calysto_scheme"
  },
  "language_info": {
   "codemirror_mode": {
    "name": "scheme"
   },
   "mimetype": "text/x-scheme",
   "name": "scheme",
   "pygments_lexer": "scheme"
  }
 },
 "nbformat": 4,
 "nbformat_minor": 5
}
