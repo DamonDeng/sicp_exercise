{
 "cells": [
  {
   "cell_type": "markdown",
   "id": "079f4e51",
   "metadata": {},
   "source": [
    "## SICP 习题 （3.17）解题总结: 正确的序对统计方法"
   ]
  },
  {
   "cell_type": "markdown",
   "id": "85f93fa7",
   "metadata": {},
   "source": [
    "SICP 习题 3.17要求我们修改 习题 3.16的序对统计代码，让它正常工作。\n",
    "\n",
    "关于3.16题中的代码错误我们在3.16的题解中已经做了讨论，现在是要看如何修改。题目也有提示，关键思路就是构建另一个数据结构保存已经遍历的序对就好了。"
   ]
  },
  {
   "cell_type": "markdown",
   "id": "47214cd4",
   "metadata": {},
   "source": [
    "首先有个问题是我们怎么知道某一个序对已经访问过了？记录一个序对的值是不行的，因为一个列表里可能有两个元素是相同的，他们其实是两个元素，我们不能因为他们的值相等就认为他们是一个东西。\n",
    "\n",
    "所以这里就涉及到什么是“同一个”的问题。这个看似简单的问题在程序编译，程序解析中都特别重要。\n",
    "\n",
    "在我们这个上下文了简单给答案的话，可以认为是指向同一段内存的是同一个。\n",
    "\n",
    "下面通过简单的代码测试一下："
   ]
  },
  {
   "cell_type": "code",
   "execution_count": 3,
   "id": "51239efd",
   "metadata": {},
   "outputs": [
    {
     "data": {
      "text/plain": [
       "#t"
      ]
     },
     "execution_count": 3,
     "metadata": {},
     "output_type": "execute_result"
    }
   ],
   "source": [
    "(define leaf (cons 1 2))\n",
    "(define to-same-leaf (cons leaf leaf))\n",
    "(eq? (car to-same-leaf) (cdr to-same-leaf))"
   ]
  },
  {
   "cell_type": "markdown",
   "id": "81070c02",
   "metadata": {},
   "source": [
    "以上代码里(car to-same-leaf)和(cdr to-same-leaf)认为是同一个，因为他们都指向了leaf，这种“同一性”可以通过eq?来判断。\n",
    "\n",
    "下面这段代码就可以告诉我们两个“相同”的元素不是“同一个”："
   ]
  },
  {
   "cell_type": "code",
   "execution_count": 2,
   "id": "cb0ae301",
   "metadata": {},
   "outputs": [
    {
     "data": {
      "text/plain": [
       "#f"
      ]
     },
     "execution_count": 2,
     "metadata": {},
     "output_type": "execute_result"
    }
   ],
   "source": [
    "(define leaf-2 (cons 1 2))\n",
    "(eq? leaf leaf-2)"
   ]
  },
  {
   "cell_type": "markdown",
   "id": "09fad5a4",
   "metadata": {},
   "source": [
    "虽然leaf和leaf-2的值都是(cons 1 2)，但是他们不是同一个东西，简单讲就是修改leaf不会改变leaf-2"
   ]
  },
  {
   "cell_type": "markdown",
   "id": "f248415f",
   "metadata": {},
   "source": [
    "### 实现\n",
    "\n",
    "这个逻辑理顺了要实现就不是那么难了，我们之前做过set这个数据结构，可以通过set来保存已经访问过的序对。\n",
    "\n",
    "set相关的代码如下，注意这里修改了代码，把equal?换成了eq?，因为我们要比较地址，而不是比较值："
   ]
  },
  {
   "cell_type": "code",
   "execution_count": 22,
   "id": "6a90a231",
   "metadata": {},
   "outputs": [],
   "source": [
    "(define (element-of-set? x set)\n",
    "  (cond ((null? set) #f)\n",
    "\t((eq? x (car set)) #t)\n",
    "\t(else (element-of-set? x (cdr set)))))\n",
    "\n",
    "(define (adjoin-set x set)\n",
    "  (if (element-of-set? x set)\n",
    "      set\n",
    "      (cons x set)))\n"
   ]
  },
  {
   "cell_type": "markdown",
   "id": "2d7582ba",
   "metadata": {},
   "source": [
    "简单测试一下："
   ]
  },
  {
   "cell_type": "code",
   "execution_count": 24,
   "id": "28b51595",
   "metadata": {},
   "outputs": [],
   "source": [
    "(define visited-set '())\n",
    "(set! visited-set (adjoin-set leaf visited-set))"
   ]
  },
  {
   "cell_type": "code",
   "execution_count": 25,
   "id": "f1fc72bd",
   "metadata": {},
   "outputs": [
    {
     "data": {
      "text/plain": [
       "((1 . 2))"
      ]
     },
     "execution_count": 25,
     "metadata": {},
     "output_type": "execute_result"
    }
   ],
   "source": [
    "visited-set"
   ]
  },
  {
   "cell_type": "code",
   "execution_count": 26,
   "id": "b261ee74",
   "metadata": {},
   "outputs": [
    {
     "data": {
      "text/plain": [
       "#t"
      ]
     },
     "execution_count": 26,
     "metadata": {},
     "output_type": "execute_result"
    }
   ],
   "source": [
    "(element-of-set? leaf visited-set)"
   ]
  },
  {
   "cell_type": "code",
   "execution_count": 27,
   "id": "23b7db0a",
   "metadata": {},
   "outputs": [
    {
     "data": {
      "text/plain": [
       "#f"
      ]
     },
     "execution_count": 27,
     "metadata": {},
     "output_type": "execute_result"
    }
   ],
   "source": [
    "(element-of-set? to-same-leaf visited-set)"
   ]
  },
  {
   "cell_type": "code",
   "execution_count": 28,
   "id": "e1401b31",
   "metadata": {},
   "outputs": [
    {
     "data": {
      "text/plain": [
       "#f"
      ]
     },
     "execution_count": 28,
     "metadata": {},
     "output_type": "execute_result"
    }
   ],
   "source": [
    "(element-of-set? leaf-2 visited-set)"
   ]
  },
  {
   "cell_type": "markdown",
   "id": "e819c08e",
   "metadata": {},
   "source": [
    "下面就是解题的主体，通过一个内部函数count-inner来遍历序对，每遇到一个序对先检查是不是之前遇到过这个序对，如果遇到过的话就跳过这个序对，如果没有遇到过就把这个序对加入到已访问列表里，然后开始遍历它的左树和右树："
   ]
  },
  {
   "cell_type": "code",
   "execution_count": 38,
   "id": "f206b8ec",
   "metadata": {},
   "outputs": [],
   "source": [
    "(define (count-pairs x)\n",
    "  (let ((visited-set '()))\n",
    "    (define (count-inner target)\n",
    "      (if (not (pair? target))\n",
    "          0\n",
    "          (if  (element-of-set? target visited-set)\n",
    "              0\n",
    "              (begin \n",
    "               (set! visited-set (adjoin-set target visited-set))\n",
    "               (+ (count-inner (car target))\n",
    "                 (count-inner (cdr target))\n",
    "                  1))\n",
    "              )))\n",
    "    (count-inner x)\n",
    "  ))"
   ]
  },
  {
   "cell_type": "markdown",
   "id": "3f55138c",
   "metadata": {},
   "source": [
    "下面是测试函数："
   ]
  },
  {
   "cell_type": "code",
   "execution_count": 40,
   "id": "704d7e2c",
   "metadata": {},
   "outputs": [
    {
     "data": {
      "text/plain": [
       "3"
      ]
     },
     "execution_count": 40,
     "metadata": {},
     "output_type": "execute_result"
    }
   ],
   "source": [
    "(define leaf (cons 1 2))\n",
    "(define to-same-leaf (cons leaf leaf))\n",
    "(define test-sample (cons to-same-leaf leaf))\n",
    "(count-pairs test-sample)"
   ]
  },
  {
   "cell_type": "code",
   "execution_count": null,
   "id": "785d48b0",
   "metadata": {},
   "outputs": [],
   "source": []
  }
 ],
 "metadata": {
  "kernelspec": {
   "display_name": "Calysto Scheme 3",
   "language": "scheme",
   "name": "calysto_scheme"
  },
  "language_info": {
   "codemirror_mode": {
    "name": "scheme"
   },
   "mimetype": "text/x-scheme",
   "name": "scheme",
   "pygments_lexer": "scheme"
  }
 },
 "nbformat": 4,
 "nbformat_minor": 5
}
