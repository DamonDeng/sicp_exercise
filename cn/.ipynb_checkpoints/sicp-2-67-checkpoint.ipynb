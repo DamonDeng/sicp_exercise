{
 "cells": [
  {
   "cell_type": "markdown",
   "id": "0454da55",
   "metadata": {},
   "source": [
    "## SICP 习题 （2.67）解题总结：编码树"
   ]
  },
  {
   "cell_type": "markdown",
   "id": "7b9315c0",
   "metadata": {},
   "source": [
    "SICP 习题 2.67 是关于编码树的，要解这道题必须把上文提到的整个编码树实现都搞明白。\n",
    "\n",
    "要搞明白差不多就是要把所有相关代码都抄一遍，然后运行起来：\n",
    "\n",
    "感觉SICP的习题做到后面都是这个德行，需要把几节的内容串起来先把代码抄进去让它跑起来，才能深入理解书本的内容并进行解题。"
   ]
  },
  {
   "cell_type": "markdown",
   "id": "49690eaa",
   "metadata": {},
   "source": [
    "首先是叶子节点的定义，编码树的叶子节点是一个三元组，第一个元素直接是'leaf，用于标记一个节点是叶子结点，然后第二个元素是该节点的符号，第三个元素是该节点的权重。\n",
    "\n",
    "然后需要定义对应的函数获取这些信息"
   ]
  },
  {
   "cell_type": "code",
   "execution_count": 1,
   "id": "7d6da195",
   "metadata": {},
   "outputs": [],
   "source": [
    "(define (make-leaf symbol weight)\n",
    "  (list 'leaf symbol weight))\n",
    "\n",
    "(define (leaf? object)\n",
    "  (eq? (car object) 'leaf))\n",
    "\n",
    "(define (symbol-leaf x) (cadr x))\n",
    "\n",
    "(define (weight-leaf x) (caddr x))"
   ]
  },
  {
   "cell_type": "code",
   "execution_count": 2,
   "id": "08e060e1",
   "metadata": {},
   "outputs": [],
   "source": [
    "(define sample-leaf (make-leaf 'A 10))"
   ]
  },
  {
   "cell_type": "code",
   "execution_count": 3,
   "id": "92372308",
   "metadata": {},
   "outputs": [
    {
     "data": {
      "text/plain": [
       "#t"
      ]
     },
     "execution_count": 3,
     "metadata": {},
     "output_type": "execute_result"
    }
   ],
   "source": [
    "(leaf? sample-leaf)"
   ]
  },
  {
   "cell_type": "code",
   "execution_count": 4,
   "id": "cf8a594d",
   "metadata": {},
   "outputs": [
    {
     "data": {
      "text/plain": [
       "A"
      ]
     },
     "execution_count": 4,
     "metadata": {},
     "output_type": "execute_result"
    }
   ],
   "source": [
    "(symbol-leaf sample-leaf)"
   ]
  },
  {
   "cell_type": "code",
   "execution_count": 5,
   "id": "e6b9fd0f",
   "metadata": {},
   "outputs": [
    {
     "data": {
      "text/plain": [
       "10"
      ]
     },
     "execution_count": 5,
     "metadata": {},
     "output_type": "execute_result"
    }
   ],
   "source": [
    "(weight-leaf sample-leaf)"
   ]
  },
  {
   "cell_type": "markdown",
   "id": "f786f8a2",
   "metadata": {},
   "source": [
    "然后就是树的构建，构建的时候输入左值和右值，输入的值可以是另一棵树，也可以是叶子节点。\n",
    "\n",
    "接着是对应的获取信息的函数"
   ]
  },
  {
   "cell_type": "code",
   "execution_count": 6,
   "id": "c7251ba6",
   "metadata": {},
   "outputs": [],
   "source": [
    "(define (make-code-tree left right)\n",
    "  (list left\n",
    "\tright\n",
    "\t(append (symbols left) (symbols right))\n",
    "\t(+ (weight left) (weight right))))\n",
    "\n",
    "(define (left-branch tree) (car tree))\n",
    "\n",
    "(define (right-branch tree) (cadr tree))\n",
    "\n",
    "(define (symbols tree)\n",
    "  (if (leaf? tree)\n",
    "      (list (symbol-leaf tree))\n",
    "      (caddr tree)))\n",
    "\n",
    "(define (weight tree)\n",
    "  (if (leaf? tree)\n",
    "      (weight-leaf tree)\n",
    "      (cadddr tree)))"
   ]
  },
  {
   "cell_type": "code",
   "execution_count": 7,
   "id": "5d294496",
   "metadata": {},
   "outputs": [],
   "source": [
    "(define sample-leaf-2 (make-leaf 'B 2))\n",
    "(define sample-leaf-3 (make-leaf 'C 3))\n",
    "(define sample-leaf-4 (make-leaf 'D 4))\n"
   ]
  },
  {
   "cell_type": "code",
   "execution_count": 8,
   "id": "51174831",
   "metadata": {},
   "outputs": [],
   "source": [
    "(define sub-tree (make-code-tree sample-leaf sample-leaf-2))"
   ]
  },
  {
   "cell_type": "code",
   "execution_count": 9,
   "id": "42f73bb2",
   "metadata": {},
   "outputs": [],
   "source": [
    "(define sample-tree (make-code-tree sub-tree sample-leaf-3))"
   ]
  },
  {
   "cell_type": "code",
   "execution_count": 10,
   "id": "ba651a83",
   "metadata": {},
   "outputs": [
    {
     "data": {
      "text/plain": [
       "(A B C)"
      ]
     },
     "execution_count": 10,
     "metadata": {},
     "output_type": "execute_result"
    }
   ],
   "source": [
    "(symbols sample-tree)"
   ]
  },
  {
   "cell_type": "code",
   "execution_count": 11,
   "id": "d4e9a22b",
   "metadata": {},
   "outputs": [
    {
     "data": {
      "text/plain": [
       "15"
      ]
     },
     "execution_count": 11,
     "metadata": {},
     "output_type": "execute_result"
    }
   ],
   "source": [
    "(weight sample-tree)"
   ]
  },
  {
   "cell_type": "markdown",
   "id": "42f2fbee",
   "metadata": {},
   "source": [
    "然后是书中写好的decode代码，这个代码根据输入的bits决定从左树还是右树获取symbol，注意在这里是没有使用weight的，weight是用于后续生成优化代码树的"
   ]
  },
  {
   "cell_type": "code",
   "execution_count": 12,
   "id": "d2991c5c",
   "metadata": {},
   "outputs": [],
   "source": [
    "(define (decode bits tree)\n",
    "  (define (decode-1 bits current-branch)\n",
    "    (if (null? bits)\n",
    "\t'()\n",
    "\t(let ((next-branch\n",
    "\t       (choose-branch (car bits) current-branch)))\n",
    "\t  (if (leaf? next-branch)\n",
    "\t      (cons (symbol-leaf next-branch)\n",
    "\t\t    (decode-1 (cdr bits) tree))\n",
    "\t      (decode-1 (cdr bits) next-branch)))))\n",
    "  (decode-1 bits tree))\n",
    "\n",
    "(define (choose-branch bit branch)\n",
    "  (cond ((= bit 0) (left-branch branch))\n",
    "\t((= bit 1) (right-branch branch))\n",
    "\t(else (error \"bad bit -- CHOOSE-BRANCH\" bit))))"
   ]
  },
  {
   "cell_type": "markdown",
   "id": "3b8969c8",
   "metadata": {},
   "source": [
    "然后是书中的样例代码树和测试消息："
   ]
  },
  {
   "cell_type": "code",
   "execution_count": 13,
   "id": "d7ffc1cc",
   "metadata": {},
   "outputs": [],
   "source": [
    "(define sample-tree\n",
    "  (make-code-tree (make-leaf 'A 4)\n",
    "\t\t  (make-code-tree\n",
    "\t\t   (make-leaf 'B 2)\n",
    "\t\t   (make-code-tree (make-leaf 'D 1)\n",
    "\t\t\t\t   (make-leaf 'C 1)))))\n",
    "\n",
    "(define sample-message '(0 1 1 0 0 1 0 1 0 1 1 1 1 0))\n",
    "\n"
   ]
  },
  {
   "cell_type": "markdown",
   "id": "4800838f",
   "metadata": {},
   "source": [
    "封装一个测试函数用于解码样例消息："
   ]
  },
  {
   "cell_type": "code",
   "execution_count": 15,
   "id": "ee2b15db",
   "metadata": {},
   "outputs": [],
   "source": [
    "(define (start-test-2-67)\n",
    "\n",
    "  (display (decode sample-message sample-tree)))"
   ]
  },
  {
   "cell_type": "code",
   "execution_count": 16,
   "id": "de98224d",
   "metadata": {
    "scrolled": true
   },
   "outputs": [
    {
     "name": "stdout",
     "output_type": "stream",
     "text": [
      "(A D A B B C B)"
     ]
    }
   ],
   "source": [
    "(start-test-2-67)"
   ]
  },
  {
   "cell_type": "code",
   "execution_count": null,
   "id": "a848fe33",
   "metadata": {},
   "outputs": [],
   "source": []
  }
 ],
 "metadata": {
  "kernelspec": {
   "display_name": "Calysto Scheme 3",
   "language": "scheme",
   "name": "calysto_scheme"
  },
  "language_info": {
   "codemirror_mode": {
    "name": "scheme"
   },
   "mimetype": "text/x-scheme",
   "name": "scheme",
   "pygments_lexer": "scheme"
  }
 },
 "nbformat": 4,
 "nbformat_minor": 5
}
