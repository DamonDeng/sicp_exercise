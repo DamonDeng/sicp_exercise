{
 "cells": [
  {
   "cell_type": "markdown",
   "id": "0454da55",
   "metadata": {},
   "source": [
    "## SICP 习题 (2.35)解题总结 : 用累积过程实现count-leaves"
   ]
  },
  {
   "cell_type": "markdown",
   "id": "5c9068a3",
   "metadata": {},
   "source": [
    "SICP 习题  2.35 要求我们使用累积过程从新定义一个2.2.2节的count-leaves过程。\n",
    "\n",
    "2.2.2的count-leaves过程是对树状列表的遍历和统计，用于计算一棵树的叶子数量，当时定义的方法如下："
   ]
  },
  {
   "cell_type": "code",
   "execution_count": 1,
   "id": "92b9e65f",
   "metadata": {},
   "outputs": [],
   "source": [
    "(define (count-leaves x)\n",
    "  (cond ((null? x) 0)\n",
    "\t((not (pair? x)) 1)\n",
    "\t(else (+ (count-leaves (car x))\n",
    "\t      (count-leaves (cdr x))))))"
   ]
  },
  {
   "cell_type": "markdown",
   "id": "f0f71885",
   "metadata": {},
   "source": [
    "题目要求我们使用累积过程，就是accumulate重新实现一遍，按以前几道题的经验，使用accumulate的关键是找出累积操作，然后是根据累积操作得出初始累积值。\n",
    "\n",
    "对于树状列表的累积来讲，情况相对复杂一点，以前只是做扁平列表的累积，从列表的末尾开始不断做累积操作就好了。但是现在是树状列表，如何遍历这棵树，同时又要使用accumulate过程是个问题。\n",
    "\n",
    "不过我们可以通过方法的递归调用简化整个计算过程。\n",
    "\n",
    "基本思路就是拿到需要统计的列表后，对列表做一个map计算，对列表中的每一个元素进行操作，操作过程就是判断元素的类型，如果是一个简单元素就返回1，如果是另一个列表就递归调用count-leaves，先不管count-leaves是如何实现的。\n",
    "\n",
    "这样就得出了第一层所有元素的数量。\n",
    "\n",
    "比如我们有一个列表是(a a (b b b ) c c ( d d d d) )，执行以上map操作的结果就是(1 1 3 1 1 4)，其中的3是b的个数，而4是d的个数。\n",
    "\n",
    "接着就可以accumulate了，将(1 1 3 1 1 4)这样的列表累积起来我们之前就做了，初始值是0， 累积操作为+。\n",
    "\n",
    "整体代码如下："
   ]
  },
  {
   "cell_type": "code",
   "execution_count": 2,
   "id": "974373e0",
   "metadata": {},
   "outputs": [],
   "source": [
    "(define (new-count-leaves x)\n",
    "  (accumulate + 0 (map (lambda (i) (if (list? i)\n",
    "\t\t\t\t       (new-count-leaves i)\n",
    "\t\t\t\t       1)) x)))\n",
    "\n",
    "(define (accumulate op initial sequence)\n",
    "  (if (null? sequence)\n",
    "      initial\n",
    "      (op (car sequence)\n",
    "\t  (accumulate op initial (cdr sequence)))))"
   ]
  },
  {
   "cell_type": "code",
   "execution_count": 4,
   "id": "9adcca6e",
   "metadata": {},
   "outputs": [
    {
     "data": {
      "text/plain": [
       "3"
      ]
     },
     "execution_count": 4,
     "metadata": {},
     "output_type": "execute_result"
    }
   ],
   "source": [
    "(count-leaves '(1 (2 3)))"
   ]
  },
  {
   "cell_type": "code",
   "execution_count": 5,
   "id": "ccbce176",
   "metadata": {},
   "outputs": [
    {
     "data": {
      "text/plain": [
       "3"
      ]
     },
     "execution_count": 5,
     "metadata": {},
     "output_type": "execute_result"
    }
   ],
   "source": [
    "(new-count-leaves '(1 (2 3)))"
   ]
  },
  {
   "cell_type": "code",
   "execution_count": null,
   "id": "c5fbd6db",
   "metadata": {},
   "outputs": [],
   "source": []
  }
 ],
 "metadata": {
  "kernelspec": {
   "display_name": "Calysto Scheme 3",
   "language": "scheme",
   "name": "calysto_scheme"
  },
  "language_info": {
   "codemirror_mode": {
    "name": "scheme"
   },
   "mimetype": "text/x-scheme",
   "name": "scheme",
   "pygments_lexer": "scheme"
  }
 },
 "nbformat": 4,
 "nbformat_minor": 5
}
