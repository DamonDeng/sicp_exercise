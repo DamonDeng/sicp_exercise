{
 "cells": [
  {
   "cell_type": "markdown",
   "id": "0454da55",
   "metadata": {},
   "source": [
    "## SICP 习题 （2.63）解题总结：二叉树的实现"
   ]
  },
  {
   "cell_type": "markdown",
   "id": "b8004bd7",
   "metadata": {},
   "source": [
    "SICP习题 2.63 开始讲述二叉树，这个也是程序员们熟悉的概念。\n",
    "\n",
    "说到二叉树，让我想起一段关于程序猿的描述：“程序猿是灵长类动物的近亲瞎长类动物，平时都在二叉树上活动。。。”\n",
    "\n",
    "2.63题目要求我们考察两个将树转变为列表的函数，让我们看看它们的差别："
   ]
  },
  {
   "cell_type": "code",
   "execution_count": 1,
   "id": "f7081df7",
   "metadata": {},
   "outputs": [],
   "source": [
    "(define (tree->list-1 tree)\n",
    "  (if (null? tree)\n",
    "      '()\n",
    "      (append (tree->list-1 (left-branch tree))\n",
    "\t      (cons (entry tree)\n",
    "\t\t    (tree->list-1 (right-branch tree))))))\n",
    "\n",
    "(define (tree->list-2 tree)\n",
    "  (define (copy-to-list tree result-list)\n",
    "    (if (null? tree)\n",
    "\tresult-list\n",
    "\t(copy-to-list (left-branch tree)\n",
    "\t\t      (cons (entry tree)\n",
    "\t\t\t    (copy-to-list (right-branch tree)\n",
    "\t\t\t\t\t  result-list)))))\n",
    "  (copy-to-list tree '()))"
   ]
  },
  {
   "cell_type": "markdown",
   "id": "3c0d22da",
   "metadata": {},
   "source": [
    "为了运行上面的代码，我们需要实现对应的树操作函数，这些函数在书里面都有实现，抄写如下：\n"
   ]
  },
  {
   "cell_type": "markdown",
   "id": "07cba1a7",
   "metadata": {},
   "source": [
    "首先是创建树的函数，这里通过一个三元组来表示二叉树，第一个元素是当前值，第二个元素是左树，第三个元素是右树："
   ]
  },
  {
   "cell_type": "code",
   "execution_count": 13,
   "id": "9e83c3d6",
   "metadata": {},
   "outputs": [],
   "source": [
    "(define (make-tree entry left right)\n",
    "  (list entry left right))"
   ]
  },
  {
   "cell_type": "markdown",
   "id": "ea4b6f0e",
   "metadata": {},
   "source": [
    "判断一个元素是否是树的函数："
   ]
  },
  {
   "cell_type": "code",
   "execution_count": 14,
   "id": "66b03b14",
   "metadata": {},
   "outputs": [],
   "source": [
    "(define (is-tree? tree)\n",
    "  (if (pair? tree)\n",
    "      (if (= (length tree) 3)\n",
    "\t  #t\n",
    "\t  #f)\n",
    "      #f))"
   ]
  },
  {
   "cell_type": "code",
   "execution_count": 12,
   "id": "f4d13087",
   "metadata": {},
   "outputs": [
    {
     "data": {
      "text/plain": [
       "#t"
      ]
     },
     "execution_count": 12,
     "metadata": {},
     "output_type": "execute_result"
    }
   ],
   "source": [
    "(is-tree? '(1 2 3))"
   ]
  },
  {
   "cell_type": "markdown",
   "id": "4317027f",
   "metadata": {},
   "source": [
    "然后是二叉树各属性的获取函数，获取当前值，获取左树，获取右树："
   ]
  },
  {
   "cell_type": "code",
   "execution_count": 15,
   "id": "f5af533e",
   "metadata": {},
   "outputs": [],
   "source": [
    "(define (entry tree) \n",
    "  (if (is-tree? tree) \n",
    "       (car tree)\n",
    "       tree))\n",
    "\n",
    "(define (left-branch tree)\n",
    "  (if (is-tree? tree)\n",
    "      (cadr tree)\n",
    "      '()))\n",
    "\n",
    "(define (right-branch tree) \n",
    "  (if (is-tree? tree)\n",
    "      (caddr tree)\n",
    "      '()))"
   ]
  },
  {
   "cell_type": "markdown",
   "id": "8e4e977d",
   "metadata": {},
   "source": [
    "回过头再看看两个转换函数："
   ]
  },
  {
   "cell_type": "code",
   "execution_count": 16,
   "id": "c6e1e916",
   "metadata": {},
   "outputs": [],
   "source": [
    "(define (tree->list-1 tree)\n",
    "  (if (null? tree)\n",
    "      '()\n",
    "      (append (tree->list-1 (left-branch tree))\n",
    "\t      (cons (entry tree)\n",
    "\t\t    (tree->list-1 (right-branch tree))))))\n",
    "\n",
    "(define (tree->list-2 tree)\n",
    "  (define (copy-to-list tree result-list)\n",
    "    (if (null? tree)\n",
    "\tresult-list\n",
    "\t(copy-to-list (left-branch tree)\n",
    "\t\t      (cons (entry tree)\n",
    "\t\t\t    (copy-to-list (right-branch tree)\n",
    "\t\t\t\t\t  result-list)))))\n",
    "  (copy-to-list tree '()))"
   ]
  },
  {
   "cell_type": "markdown",
   "id": "b3e8670c",
   "metadata": {},
   "source": [
    "先测试一下，可以发现两个函数的结果是一样的："
   ]
  },
  {
   "cell_type": "code",
   "execution_count": 17,
   "id": "0c0c7829",
   "metadata": {},
   "outputs": [
    {
     "data": {
      "text/plain": [
       "(2 1 6 5 7 4 8 3 9)"
      ]
     },
     "execution_count": 17,
     "metadata": {},
     "output_type": "execute_result"
    }
   ],
   "source": [
    "(tree->list-1 '(1 2 (3 (4 (5 6 7) 8) 9)))"
   ]
  },
  {
   "cell_type": "code",
   "execution_count": 18,
   "id": "9d26c66d",
   "metadata": {},
   "outputs": [
    {
     "data": {
      "text/plain": [
       "(2 1 6 5 7 4 8 3 9)"
      ]
     },
     "execution_count": 18,
     "metadata": {},
     "output_type": "execute_result"
    }
   ],
   "source": [
    "(tree->list-2 '(1 2 (3 (4 (5 6 7) 8) 9)))"
   ]
  },
  {
   "cell_type": "markdown",
   "id": "7811afd9",
   "metadata": {},
   "source": [
    "仔细看两个函数的实现，发现关键的差别在于一个使用append函数，一个使用cons函数。\n",
    "\n",
    "cons函数我们比较熟悉了，系统里实现的连接两个 “盒子” 的函数。\n",
    "\n",
    "关于append函数的实现我们可以看回68页的代码："
   ]
  },
  {
   "cell_type": "code",
   "execution_count": 23,
   "id": "a34974ed",
   "metadata": {},
   "outputs": [],
   "source": [
    ";page 68:\n",
    "\n",
    "(define (append list1 list2)\n",
    "  (if (null? list1)\n",
    "      list2\n",
    "      (cons (car list1) (append (cdr list1) list2))))"
   ]
  },
  {
   "cell_type": "markdown",
   "id": "df2ac5c9",
   "metadata": {},
   "source": [
    "可以发现append函数是一个递归实现，需要对第一个输入列表进行遍历。\n",
    "\n",
    "到这里基本就知道两个函数的差别了，append的使用导致了额外的遍历工作。"
   ]
  },
  {
   "cell_type": "markdown",
   "id": "cee0b862",
   "metadata": {},
   "source": [
    "我定义的测试函数如下："
   ]
  },
  {
   "cell_type": "code",
   "execution_count": 20,
   "id": "f5eef231",
   "metadata": {},
   "outputs": [],
   "source": [
    "\n",
    "\n",
    "(define (start-test-2-63)\n",
    "\n",
    "  (define sample-tree \n",
    "    (make-tree '123 (make-tree 'a1 'a2 'a3) (make-tree 'b1 'b2 'b3)))\n",
    "\n",
    "  (define sample-tree-1 \n",
    "    (make-tree 7 (make-tree 3 1 5) (make-tree 9 '() 11)))\n",
    "  (define sample-tree-2 \n",
    "    (make-tree 3 1 (make-tree 7 5 (make-tree 9 '() 11))))\n",
    "  (define sample-tree-3 \n",
    "    (make-tree 5 (make-tree 3 1 '()) (make-tree 9 7 11)))\n",
    "\n",
    "\n",
    "  (display (tree->list-1 sample-tree))\n",
    "  (newline)\n",
    "  (display (tree->list-2 sample-tree))\n",
    "  (newline)\n",
    "\n",
    "  (display (tree->list-1 sample-tree-1))\n",
    "  (newline)\n",
    "  (display (tree->list-2 sample-tree-1))\n",
    "  (newline)\n",
    "\n",
    "  (display (tree->list-1 sample-tree-2))\n",
    "  (newline)\n",
    "  (display (tree->list-2 sample-tree-2))\n",
    "  (newline)\n",
    "\n",
    "  (display (tree->list-1 sample-tree-3))\n",
    "  (newline)\n",
    "  (display (tree->list-2 sample-tree-3))\n",
    "  (newline)\n",
    "\n",
    "  (display \"the descriptive complexity of tree->list-1 is O(n^2), because of the complexity of append is O(n)\")\n",
    "  (newline)\n",
    "  (display \"the descriptive complexity of tree->list-2 is O(n), because of the complexity of cons is O(1)\")\n",
    "  (newline)\n",
    "  \n",
    "\n",
    ")"
   ]
  },
  {
   "cell_type": "code",
   "execution_count": 21,
   "id": "df6f2634",
   "metadata": {},
   "outputs": [
    {
     "name": "stdout",
     "output_type": "stream",
     "text": [
      "(a2 a1 a3 123 b2 b1 b3)\n",
      "(a2 a1 a3 123 b2 b1 b3)\n",
      "(1 3 5 7 9 11)\n",
      "(1 3 5 7 9 11)\n",
      "(1 3 5 7 9 11)\n",
      "(1 3 5 7 9 11)\n",
      "(1 3 5 7 9 11)\n",
      "(1 3 5 7 9 11)\n",
      "the descriptive complexity of tree->list-1 is O(n^2), because of the complexity of append is O(n)\n",
      "the descriptive complexity of tree->list-2 is O(n), because of the complexity of cons is O(1)\n"
     ]
    }
   ],
   "source": [
    "(start-test-2-63)"
   ]
  },
  {
   "cell_type": "markdown",
   "id": "37396cb8",
   "metadata": {},
   "source": [
    "以上的测试函数基本上就是跑个结果出来,要想知道append函数额外的工作，可以在append函数里多打印一个*号出来："
   ]
  },
  {
   "cell_type": "code",
   "execution_count": 26,
   "id": "7b972c76",
   "metadata": {},
   "outputs": [],
   "source": [
    "(define (append list1 list2)\n",
    "  (display '*)\n",
    "  (if (null? list1)\n",
    "      list2\n",
    "      (cons (car list1) (append (cdr list1) list2))))"
   ]
  },
  {
   "cell_type": "code",
   "execution_count": 27,
   "id": "17063e34",
   "metadata": {},
   "outputs": [
    {
     "name": "stdout",
     "output_type": "stream",
     "text": [
      "*****"
     ]
    },
    {
     "data": {
      "text/plain": [
       "(a b c d e f g)"
      ]
     },
     "execution_count": 27,
     "metadata": {},
     "output_type": "execute_result"
    }
   ],
   "source": [
    "(append '(a b c d) '(e f g))"
   ]
  },
  {
   "cell_type": "markdown",
   "id": "83a51645",
   "metadata": {},
   "source": [
    "这个时候再跑跑测试代码："
   ]
  },
  {
   "cell_type": "code",
   "execution_count": 29,
   "id": "f8f2e74d",
   "metadata": {},
   "outputs": [
    {
     "name": "stdout",
     "output_type": "stream",
     "text": [
      "************(a2 a1 a3 123 b2 b1 b3)\n",
      "(a2 a1 a3 123 b2 b1 b3)\n",
      "**********(1 3 5 7 9 11)\n",
      "(1 3 5 7 9 11)\n",
      "********(1 3 5 7 9 11)\n",
      "(1 3 5 7 9 11)\n",
      "**********(1 3 5 7 9 11)\n",
      "(1 3 5 7 9 11)\n",
      "the descriptive complexity of tree->list-1 is O(n^2), because of the complexity of append is O(n)\n",
      "the descriptive complexity of tree->list-2 is O(n), because of the complexity of cons is O(1)\n"
     ]
    }
   ],
   "source": [
    "(start-test-2-63)"
   ]
  },
  {
   "cell_type": "markdown",
   "id": "d889d453",
   "metadata": {},
   "source": [
    "这个时候你数一下星星，会发现星星有点出乎意料地多，主要是因为tree->list函数本身又是递归调用。\n",
    "\n",
    "为了更好地分析，我们可以构建极端不平衡的左偏树来看看："
   ]
  },
  {
   "cell_type": "code",
   "execution_count": 33,
   "id": "a673bd0a",
   "metadata": {},
   "outputs": [
    {
     "name": "stdout",
     "output_type": "stream",
     "text": [
      "*************************"
     ]
    },
    {
     "data": {
      "text/plain": [
       "(5 4 6 3 7 2 8 1 9)"
      ]
     },
     "execution_count": 33,
     "metadata": {},
     "output_type": "execute_result"
    }
   ],
   "source": [
    "(tree->list-1 '(1 (2 (3 (4 5 6) 7) 8) 9) )"
   ]
  },
  {
   "cell_type": "markdown",
   "id": "e4ea2361",
   "metadata": {},
   "source": [
    "这棵树一直往左边长了5层，最后的左叶子结点是5, 这个时候append函数被调用的时候遍历左树产生的列表打印了一个星星，接着到(4 5 6)的处理的时候打印了3个星星，接着（3 （4 5 6）7)的时候打印了5个星星，一直往上，结果就是："
   ]
  },
  {
   "cell_type": "code",
   "execution_count": 37,
   "id": "d3afda33",
   "metadata": {},
   "outputs": [
    {
     "data": {
      "text/plain": [
       "25"
      ]
     },
     "execution_count": 37,
     "metadata": {},
     "output_type": "execute_result"
    }
   ],
   "source": [
    "(+ 1 3 5 7 9)"
   ]
  },
  {
   "cell_type": "markdown",
   "id": "a0a03ed6",
   "metadata": {},
   "source": [
    "再看看星星的数量："
   ]
  },
  {
   "cell_type": "code",
   "execution_count": 38,
   "id": "f3685bc3",
   "metadata": {},
   "outputs": [
    {
     "data": {
      "text/plain": [
       "25"
      ]
     },
     "execution_count": 38,
     "metadata": {},
     "output_type": "execute_result"
    }
   ],
   "source": [
    "(length '(* * * * * * * * * * * * * * * * * * * * * * * * *))"
   ]
  },
  {
   "cell_type": "markdown",
   "id": "45126ee7",
   "metadata": {},
   "source": [
    "这样就自然地来到了题目的第二部分，题目问我们这两种转换函数对一棵平衡树进行处理时哪个增长阶高，这样看就是tree->list-1了。\n",
    "\n",
    "题目为什么强调平衡树呢？因为如果我们处理的是一棵极端不平衡的右偏树，就没有这个问题了："
   ]
  },
  {
   "cell_type": "code",
   "execution_count": 39,
   "id": "7ac842c8",
   "metadata": {},
   "outputs": [
    {
     "name": "stdout",
     "output_type": "stream",
     "text": [
      "****"
     ]
    },
    {
     "data": {
      "text/plain": [
       "(2 1 (3 (4 (5 (6 (7 8 9))))))"
      ]
     },
     "execution_count": 39,
     "metadata": {},
     "output_type": "execute_result"
    }
   ],
   "source": [
    "(tree->list-1 '(1 2 (3 (4 (5 (6 (7 8 9)))))))\n"
   ]
  },
  {
   "cell_type": "code",
   "execution_count": null,
   "id": "44ebfbc6",
   "metadata": {},
   "outputs": [],
   "source": []
  }
 ],
 "metadata": {
  "kernelspec": {
   "display_name": "Calysto Scheme 3",
   "language": "scheme",
   "name": "calysto_scheme"
  },
  "language_info": {
   "codemirror_mode": {
    "name": "scheme"
   },
   "mimetype": "text/x-scheme",
   "name": "scheme",
   "pygments_lexer": "scheme"
  }
 },
 "nbformat": 4,
 "nbformat_minor": 5
}
