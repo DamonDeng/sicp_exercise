{
 "cells": [
  {
   "cell_type": "markdown",
   "id": "84d55ba0",
   "metadata": {},
   "source": [
    "## SICP习题 (1.12)解题总结"
   ]
  },
  {
   "cell_type": "markdown",
   "id": "80e55118",
   "metadata": {},
   "source": [
    "SICP 习题 1.12 要完成的工作是帕斯卡三角，有没有觉得“帕斯卡”这三个字很熟悉呀，在你人生知识水平的最高点上你应该接触过他，不过现在你可能忘了。\n",
    "\n",
    "仔细回想的话，你可能会有点印象，物理中的压强单位就是“帕斯卡”。很开心地告诉你，这两个“帕斯卡”是同一个人。帕斯卡不仅是个物理学家，还是个数学家，百度百科里这样描述：“布莱士.帕斯卡是法国数学家、物理学家、哲学家、散文家。” 。\n",
    "\n",
    "人家还是个散文家！！ 牛人就是牛人，完全无视我等庸才地存在着。"
   ]
  },
  {
   "cell_type": "markdown",
   "id": "4dd874fe",
   "metadata": {},
   "source": [
    "\n",
    "所谓帕斯卡三角就是像下面这样的三角型：\n",
    "\n",
    " 1 \n",
    "\n",
    " 1  1 \n",
    "\n",
    " 1  2  1 \n",
    "\n",
    " 1  3  3  1 \n",
    "\n",
    " 1  4  6  4  1 \n",
    "\n",
    " 1  5  10  10  5  1 \n",
    "\n",
    " 1  6  15  20  15  6  1 \n",
    "\n",
    "注意我这里的排列方式和书中的不一样。书中是一个正立的等腰三角型的样子，所以可以说每个数是它上面两个数的和。\n",
    "\n",
    "我这里将帕斯卡三角形向左对齐了，所以我这里每个数等于它左上方和正上方两个数的和。\n",
    "\n",
    "我这样做不是为了偷懒，不是觉得这样排版简单，是因为这样比较容易对应上数据模型。\n",
    "\n",
    "如果是按书中的排列方式，我们怎么定位每一个数呢，按行号和列号编排的话，第一行的第一个数应该算是number(1,1)，既然是number(1,1)，不如就将它放到第一排的第一列，不要放在一行的中间了。\n",
    "\n",
    "然后就是对于number(x,y)中x和y的约定，我使用的是以左上角为原点，x轴向右，y轴向下的坐标系，不好意思，做窗口绘制做多了，习惯使用这样的坐标系。\n",
    "\n",
    "也就是说number (3,4)是指的由上往下第4排的第3列。\n",
    "\n",
    "好，接着就是如何求帕斯卡三角形某一个位置上的数，我定义的过程如下，没有做太多调用参数的判断，使用的时候需要小心一点，不要用错参数。"
   ]
  },
  {
   "cell_type": "code",
   "execution_count": 1,
   "id": "e2909785",
   "metadata": {},
   "outputs": [],
   "source": [
    "(define (pascal-recursive x y)\n",
    "  (if (= x 1) 1\n",
    "      (if (= x y) 1\n",
    "\t  (+ (pascal-recursive x (- y 1)) (pascal-recursive (- x 1) (- y 1))))))\n"
   ]
  },
  {
   "cell_type": "markdown",
   "id": "6826a2bb",
   "metadata": {},
   "source": [
    "简单跑一下："
   ]
  },
  {
   "cell_type": "code",
   "execution_count": 2,
   "id": "8b5cb5b0",
   "metadata": {},
   "outputs": [
    {
     "data": {
      "text/plain": [
       "4"
      ]
     },
     "execution_count": 2,
     "metadata": {},
     "output_type": "execute_result"
    }
   ],
   "source": [
    "(pascal-recursive 4 5)"
   ]
  },
  {
   "cell_type": "markdown",
   "id": "7846686b",
   "metadata": {},
   "source": [
    "求以上结果使用的还是递归方法，求某一个位置的数就通过求它左上方\"(x-1)(y-1)\"和正上方“(x) (y -1)”的数来得到，一直递归求值。\n",
    "\n",
    "完成以上工作以后我们觉得还有好多事情要做，就是求得每一行的每一个数，将它们按正确的方式打印出来。可能是做以前的c编程题做的太多，习惯了这个方式。\n",
    "\n",
    "后来我全做完了去网上查答案，发现很多人做到我这步就算成功了，根本没有去求完整的帕斯卡三角形，可惜是做完了才发现这一点，不然可以省点时间。\n",
    "\n",
    "既然已经做了，就和大家分享一下，我先是做了一个pascal-recrusive-line过程，用来打印某一行帕斯卡数，过程如下："
   ]
  },
  {
   "cell_type": "code",
   "execution_count": 3,
   "id": "bc77ab5c",
   "metadata": {},
   "outputs": [],
   "source": [
    "(define (pascal-recursive-line x n)\n",
    "   (display (format \" ~s \"  (pascal-recursive x n)))\n",
    "   (if (> x 1)\n",
    "   (pascal-recursive-line (- x 1) n)))"
   ]
  },
  {
   "cell_type": "markdown",
   "id": "94ffed92",
   "metadata": {},
   "source": [
    "注意这里没有检查参数正确性，不能随便调用，下面是一个正确的例子"
   ]
  },
  {
   "cell_type": "code",
   "execution_count": 4,
   "id": "b0bfabcd",
   "metadata": {},
   "outputs": [
    {
     "name": "stdout",
     "output_type": "stream",
     "text": [
      " 10  10  5  1 "
     ]
    },
    {
     "data": {
      "text/plain": [
       "#f"
      ]
     },
     "execution_count": 4,
     "metadata": {},
     "output_type": "execute_result"
    }
   ],
   "source": [
    "(pascal-recursive-line 4 6)"
   ]
  },
  {
   "cell_type": "markdown",
   "id": "d50b4c7a",
   "metadata": {},
   "source": [
    "然后又做了一个pascal-recursive-displayer过程，用来迭代指定数量的行，过程如下："
   ]
  },
  {
   "cell_type": "code",
   "execution_count": 5,
   "id": "6d72de7d",
   "metadata": {},
   "outputs": [],
   "source": [
    "(define (pascal-recursive-displayer n)\n",
    "  (if (> n 1)\n",
    "      (pascal-recursive-displayer (- n 1)))\n",
    "  (pascal-recursive-line n n)\n",
    "  (display (format \"~%\")))"
   ]
  },
  {
   "cell_type": "markdown",
   "id": "18367746",
   "metadata": {},
   "source": [
    "简单跑一下："
   ]
  },
  {
   "cell_type": "code",
   "execution_count": 6,
   "id": "93666c8a",
   "metadata": {},
   "outputs": [
    {
     "name": "stdout",
     "output_type": "stream",
     "text": [
      " 1 \n",
      " 1  1 \n",
      " 1  2  1 \n",
      " 1  3  3  1 \n",
      " 1  4  6  4  1 \n",
      " 1  5  10  10  5  1 \n",
      " 1  6  15  20  15  6  1 \n",
      " 1  7  21  35  35  21  7  1 \n",
      " 1  8  28  56  70  56  28  8  1 \n",
      " 1  9  36  84  126  126  84  36  9  1 \n"
     ]
    }
   ],
   "source": [
    "(pascal-recursive-displayer 10)"
   ]
  },
  {
   "cell_type": "markdown",
   "id": "6280fcd7",
   "metadata": {},
   "source": [
    "不知道大家有没有留意我的过程名使用的是recrusive，既然有recrusive版本的实现，应该有迭代版本的实现吧。\n",
    "\n",
    "我真做了一个，因为这个帕斯卡数确实有迭代解，我用迭代方式算出每一行的帕斯卡数，记录在一个列表里，将这些列表又保存在一个大的列表里形成一个类型二维数组的东西来记录产生的帕斯卡数。\n",
    "\n",
    "实现如下，供大家参考：\n"
   ]
  },
  {
   "cell_type": "code",
   "execution_count": 9,
   "id": "d08ac107",
   "metadata": {},
   "outputs": [],
   "source": [
    "(define (pascal-iterator n)\n",
    "  (pascal-iterator-line 2 '(0 1 0) (+ n 1)))\n",
    "\n",
    "(define (pascal-iterator-line current-line previous-elements n)\n",
    "  (display (format \"~s~%\" previous-elements))\n",
    "  \n",
    "  (if (= current-line n) 0\n",
    "      (pascal-iterator-line (+ current-line 1) (pascal-iterator-next-line previous-elements) n)))\n",
    "\n",
    "(define (pascal-iterator-next-line previous-line)\n",
    "  (cons '0 (pascal-iterator-content previous-line)))\n",
    "  \n",
    "\n",
    "(define (pascal-iterator-content line)\n",
    "  (if (= 1 (length line)) line\n",
    "      (cons (+ (car line) (cadr line)) \n",
    "\t    (pascal-iterator-content (cdr line)))))"
   ]
  },
  {
   "cell_type": "code",
   "execution_count": 10,
   "id": "690b0b63",
   "metadata": {},
   "outputs": [
    {
     "name": "stdout",
     "output_type": "stream",
     "text": [
      "(0 1 0)\n",
      "(0 1 1 0)\n",
      "(0 1 2 1 0)\n",
      "(0 1 3 3 1 0)\n",
      "(0 1 4 6 4 1 0)\n",
      "(0 1 5 10 10 5 1 0)\n",
      "(0 1 6 15 20 15 6 1 0)\n",
      "(0 1 7 21 35 35 21 7 1 0)\n",
      "(0 1 8 28 56 70 56 28 8 1 0)\n",
      "(0 1 9 36 84 126 126 84 36 9 1 0)\n"
     ]
    },
    {
     "data": {
      "text/plain": [
       "0"
      ]
     },
     "execution_count": 10,
     "metadata": {},
     "output_type": "execute_result"
    }
   ],
   "source": [
    "(pascal-iterator 10)"
   ]
  },
  {
   "cell_type": "code",
   "execution_count": null,
   "id": "0860368e",
   "metadata": {},
   "outputs": [],
   "source": []
  }
 ],
 "metadata": {
  "kernelspec": {
   "display_name": "Calysto Scheme 3",
   "language": "scheme",
   "name": "calysto_scheme"
  },
  "language_info": {
   "codemirror_mode": {
    "name": "scheme"
   },
   "mimetype": "text/x-scheme",
   "name": "scheme",
   "pygments_lexer": "scheme"
  }
 },
 "nbformat": 4,
 "nbformat_minor": 5
}
