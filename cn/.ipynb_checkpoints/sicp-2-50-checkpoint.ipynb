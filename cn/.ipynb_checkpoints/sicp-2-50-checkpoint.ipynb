{
 "cells": [
  {
   "cell_type": "markdown",
   "id": "0454da55",
   "metadata": {},
   "source": [
    "## SICP 习题 （2.50）解题总结：水平翻转"
   ]
  },
  {
   "cell_type": "markdown",
   "id": "9e876933",
   "metadata": {},
   "source": [
    "关于图形语言这部分的所有习题都在2.44里讲解了。\n",
    "\n",
    "关于2.50的部分摘抄如下："
   ]
  },
  {
   "cell_type": "markdown",
   "id": "48b3c38b",
   "metadata": {},
   "source": [
    "### 2.50\n",
    "\n",
    "接着是实现水平翻转，这个参考垂直翻转的代码就好了。\n",
    "\n",
    "做完的话就完成习题2.50的一部分了，另外题目还要求我们实现逆时针180度和270的旋转，下面分别有实现："
   ]
  },
  {
   "cell_type": "code",
   "execution_count": 1,
   "id": "89863247",
   "metadata": {},
   "outputs": [],
   "source": [
    "(define (flip-horiz painter)\n",
    "  (transform-painter painter\n",
    "                     (make-vect 1.0 0.0)\n",
    "                     (make-vect 0.0 0.0)\n",
    "                     (make-vect 1.0 1.0)))"
   ]
  },
  {
   "cell_type": "code",
   "execution_count": null,
   "id": "b5827357",
   "metadata": {},
   "outputs": [],
   "source": []
  }
 ],
 "metadata": {
  "kernelspec": {
   "display_name": "Calysto Scheme 3",
   "language": "scheme",
   "name": "calysto_scheme"
  },
  "language_info": {
   "codemirror_mode": {
    "name": "scheme"
   },
   "mimetype": "text/x-scheme",
   "name": "scheme",
   "pygments_lexer": "scheme"
  }
 },
 "nbformat": 4,
 "nbformat_minor": 5
}
