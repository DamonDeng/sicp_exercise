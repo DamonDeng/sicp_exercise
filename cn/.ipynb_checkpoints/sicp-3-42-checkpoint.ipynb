{
 "cells": [
  {
   "cell_type": "markdown",
   "id": "079f4e51",
   "metadata": {},
   "source": [
    "## title"
   ]
  },
  {
   "cell_type": "code",
   "execution_count": 1,
   "id": "51239efd",
   "metadata": {},
   "outputs": [],
   "source": [
    "(define (make-instance)\n",
    "  (define (method-1)\n",
    "    (display \"in method 1\") (newline))\n",
    "\n",
    "  (let ((input-value (read-char)))\n",
    "    (define (dispatch m)\n",
    "      (cond ((eq?  m 'method-1) method-1)\n",
    "\t    (else (error \"Unkonw action\" m))))\n",
    "    dispatch))\n",
    "\n",
    "(define (sicp-3-42-test)\n",
    "  (define instance1 (make-instance))\n",
    "\n",
    "  ((instance1 'method-1))\n",
    "  ((instance1 'method-1))\n",
    "  ((instance1 'method-1))\n",
    "\n",
    "  (display \"we only input one character to run all these three methods.\")\n",
    "  (newline)\n",
    "  (display \"that means the read-char only run once\"))\n"
   ]
  },
  {
   "cell_type": "code",
   "execution_count": null,
   "id": "a0db6c9c",
   "metadata": {},
   "outputs": [],
   "source": []
  }
 ],
 "metadata": {
  "kernelspec": {
   "display_name": "Calysto Scheme 3",
   "language": "scheme",
   "name": "calysto_scheme"
  },
  "language_info": {
   "codemirror_mode": {
    "name": "scheme"
   },
   "mimetype": "text/x-scheme",
   "name": "scheme",
   "pygments_lexer": "scheme"
  }
 },
 "nbformat": 4,
 "nbformat_minor": 5
}
