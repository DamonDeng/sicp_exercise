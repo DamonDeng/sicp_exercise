{
 "cells": [
  {
   "cell_type": "markdown",
   "id": "0454da55",
   "metadata": {},
   "source": [
    "## SICP 习题 （2.49）解题总结：画个奇怪的小人"
   ]
  },
  {
   "cell_type": "markdown",
   "id": "11e6102e",
   "metadata": {},
   "source": [
    "关于图形语言这部分的所有习题都在2.44里讲解了。\n",
    "\n",
    "关于2.49的部分摘抄如下："
   ]
  },
  {
   "cell_type": "markdown",
   "id": "4f5d65fd",
   "metadata": {},
   "source": [
    "### 2.49\n",
    "\n",
    "这个其实就是习题2.49的要求，不过我只画了这个奇怪小人，没有去画个叉叉什么的。\n",
    "\n",
    "保存数据以后到display那个 \n",
    "[notebook](./sicp-2-44-display.ipynb) 把数据绘制成正真的画\n",
    "\n",
    "结果如下：\n",
    "\n",
    "![](./image/2-44-1.png)\n",
    "\n"
   ]
  },
  {
   "cell_type": "code",
   "execution_count": null,
   "id": "e891f455",
   "metadata": {},
   "outputs": [],
   "source": []
  }
 ],
 "metadata": {
  "kernelspec": {
   "display_name": "Calysto Scheme 3",
   "language": "scheme",
   "name": "calysto_scheme"
  },
  "language_info": {
   "codemirror_mode": {
    "name": "scheme"
   },
   "mimetype": "text/x-scheme",
   "name": "scheme",
   "pygments_lexer": "scheme"
  }
 },
 "nbformat": 4,
 "nbformat_minor": 5
}
