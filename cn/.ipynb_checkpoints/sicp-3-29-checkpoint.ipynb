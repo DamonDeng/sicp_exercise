{
 "cells": [
  {
   "cell_type": "markdown",
   "id": "079f4e51",
   "metadata": {},
   "source": [
    "## SICP 习题 （3.29）解题总结: 创建或门的新方法"
   ]
  },
  {
   "cell_type": "markdown",
   "id": "5ec1a5b0",
   "metadata": {},
   "source": [
    "SICP 习题 3.29 延续了 3.28 的数字电路的话题，题目要求我们用一种新的方式构建或门。\n",
    "\n",
    "在 3.28 中我们已经仿照与门的创建方法创建了一个或门，题目 3.29要求我们用与门和反门构建或门。\n",
    "\n",
    "同时要求我们计算这种或门的delay应该怎么设置。\n",
    "\n",
    "我们先看看习题3.28中与门与反门的使用，以下代码不能直接运行，因为它们依赖的具体组件还没有定义。\n",
    "\n",
    "我们先分析一下代码："
   ]
  },
  {
   "cell_type": "code",
   "execution_count": 1,
   "id": "b323a869",
   "metadata": {},
   "outputs": [],
   "source": [
    ";; (define input-1 (make-wire))\n",
    ";; (define input-2 (make-wire))\n",
    ";; (define output (make-wire))\n",
    "\n",
    ";; (and-gate input-1 input-2 output)\n",
    "\n",
    ";; (define inverter-input (make-wire))\n",
    ";; (define inverter-output (make-wire))\n",
    "\n",
    ";; (inverter inverter-input inverter-output)"
   ]
  },
  {
   "cell_type": "markdown",
   "id": "075d9ab0",
   "metadata": {},
   "source": [
    "以上代码是与门和反门的使用，其中的关键就是wire或者说是“引脚”连接。\n",
    "\n",
    "按照逻辑电路的计算规则，我们需要对input-1取反，对input-2取反，然后计算它们的与，然后再取反。\n",
    "\n",
    "代码如下："
   ]
  },
  {
   "cell_type": "code",
   "execution_count": 2,
   "id": "2f94606a",
   "metadata": {},
   "outputs": [],
   "source": [
    "(define (or-gate input-1 input-2 output)\n",
    "  (define input-1-invert (make-wire))\n",
    "  (define input-2-invert (make-wire))\n",
    "  (define and-gate-output (make-wire))\n",
    "  \n",
    "  (inverter input-1 input-1-invert)\n",
    "  (inverter input-2 input-2-invert)\n",
    "  (and-gate input-1-invert input-2-invert and-gate-output)\n",
    "  (inverter and-gate-output output)\n",
    "  \n",
    "  )"
   ]
  },
  {
   "cell_type": "markdown",
   "id": "c7adbcd8",
   "metadata": {},
   "source": [
    "上面的代码定义了新的or-gate但是还不能运行，需要把以下组件代码先定义了："
   ]
  },
  {
   "cell_type": "code",
   "execution_count": 3,
   "id": "fa623708",
   "metadata": {},
   "outputs": [],
   "source": [
    "(define (make-wire)\n",
    "  (let ((signal-value 0) (action-procedures '()))\n",
    "    (define (set-my-signal! new-value)\n",
    "      (if (not (= signal-value new-value))\n",
    "\t  (begin (set! signal-value new-value)\n",
    "\t\t (call-each action-procedures))\n",
    "\t  'done))\n",
    "    (define (accept-action-procedure! proc)\n",
    "      (set! action-procedures (cons proc action-procedures))\n",
    "      (proc))\n",
    "\n",
    "    (define (dispatch m)\n",
    "      (cond ((eq? m 'get-signal) signal-value)\n",
    "\t    ((eq? m 'set-signal!) set-my-signal!)\n",
    "\t    ((eq? m 'add-action!) accept-action-procedure!)\n",
    "\t    (else (error \"Unknown operation --WIRE\" m))))\n",
    "    dispatch))"
   ]
  },
  {
   "cell_type": "code",
   "execution_count": 4,
   "id": "87b8e220",
   "metadata": {},
   "outputs": [],
   "source": [
    "(define (get-signal wire)\n",
    "  (wire 'get-signal))\n",
    "\n",
    "(define (set-signal! wire new-value)\n",
    "  ((wire 'set-signal!) new-value))\n",
    "\n"
   ]
  },
  {
   "cell_type": "code",
   "execution_count": 5,
   "id": "2dac50dd",
   "metadata": {},
   "outputs": [],
   "source": [
    "\n",
    "(define (call-each procedures)\n",
    "  (if (null? procedures)\n",
    "      'done\n",
    "      (begin\n",
    "\t((car procedures))\n",
    "\t(call-each (cdr procedures)))))\n"
   ]
  },
  {
   "cell_type": "code",
   "execution_count": 6,
   "id": "15a0a05f",
   "metadata": {},
   "outputs": [],
   "source": [
    "(define (inverter input output)\n",
    "  (define (invert-input)\n",
    "    (let ((new-value (logical-not (get-signal input))))\n",
    "      (after-delay inverter-delay\n",
    "\t\t   (lambda ()\n",
    "\t\t     (set-signal! output new-value)))))\n",
    "  (add-action! input invert-input)\n",
    "  'ok)\n",
    "\n",
    "(define (logical-not s)\n",
    "  (cond ((= s 0 ) 1)\n",
    "\t((= s 1) 0)\n",
    "\t(else (error \"Invalid signal\" s))))"
   ]
  },
  {
   "cell_type": "code",
   "execution_count": 7,
   "id": "eb9f0066",
   "metadata": {},
   "outputs": [],
   "source": [
    "(define (add-action! wire action-procedure)\n",
    "  ((wire 'add-action!) action-procedure))\n"
   ]
  },
  {
   "cell_type": "code",
   "execution_count": 8,
   "id": "074b1226",
   "metadata": {},
   "outputs": [],
   "source": [
    "(define inverter-delay 2)"
   ]
  },
  {
   "cell_type": "code",
   "execution_count": 9,
   "id": "752f05b2",
   "metadata": {},
   "outputs": [],
   "source": [
    "(define (after-delay delay action)\n",
    "  (add-to-agenda! (+ delay (current-time the-agenda))\n",
    "\t\t  action\n",
    "\t\t  the-agenda))"
   ]
  },
  {
   "cell_type": "code",
   "execution_count": 10,
   "id": "c2e77e9d",
   "metadata": {},
   "outputs": [],
   "source": [
    "(define (make-agenda) (list 0))"
   ]
  },
  {
   "cell_type": "code",
   "execution_count": 11,
   "id": "40f520c5",
   "metadata": {},
   "outputs": [],
   "source": [
    "(define the-agenda (make-agenda))"
   ]
  },
  {
   "cell_type": "code",
   "execution_count": 12,
   "id": "8c81dfe8",
   "metadata": {},
   "outputs": [],
   "source": [
    "(define (current-time agenda) (car agenda))"
   ]
  },
  {
   "cell_type": "code",
   "execution_count": 13,
   "id": "b92949f4",
   "metadata": {},
   "outputs": [],
   "source": [
    "(define (add-to-agenda! time action agenda)\n",
    "  (define (belongs-before? segments)\n",
    "    (or (null? segments)\n",
    "\t(< time (segment-time (car segments)))))\n",
    "  (define (make-new-time-segment time action)\n",
    "    (let ((q (make-queue)))\n",
    "      (insert-queue! q action)\n",
    "      (make-time-segment time q )))\n",
    "  (define (add-to-segments! segments)\n",
    "    (if (= (segment-time (car segments)) time)\n",
    "\t(insert-queue! (segment-queue (car segments))\n",
    "\t\t       action)\n",
    "\t(let ((rest (cdr segments)))\n",
    "\t  (if (belongs-before? rest)\n",
    "\t      (set-cdr!\n",
    "\t       segments\n",
    "\t       (cons (make-new-time-segment time action)\n",
    "\t\t     (cdr segments)))\n",
    "\t      (add-to-segments! rest)))))\n",
    "  (let ((segments (segments agenda)))\n",
    "    (if (belongs-before? segments)\n",
    "\t(set-segments!\n",
    "\t agenda\n",
    "\t (cons (make-new-time-segment time action)\n",
    "\t       segments))\n",
    "\t(add-to-segments! segments))))"
   ]
  },
  {
   "cell_type": "code",
   "execution_count": 14,
   "id": "cc9aad75",
   "metadata": {},
   "outputs": [],
   "source": [
    "(define (segments agenda) (cdr agenda))"
   ]
  },
  {
   "cell_type": "code",
   "execution_count": 15,
   "id": "b057bfc6",
   "metadata": {},
   "outputs": [],
   "source": [
    "(define (make-queue) (cons '() '()))\n",
    "\n",
    "(define (front-queue queue)\n",
    "  (if (empty-queue? queue)\n",
    "      (error \"FRONT called with an empty queue\" queue)\n",
    "      (car (front-ptr queue))))\n",
    "\n",
    "(define (insert-queue! queue item)\n",
    "  (let ((new-pair (cons item '())))\n",
    "    (cond ((empty-queue? queue)\n",
    "\t   (set-front-ptr! queue new-pair)\n",
    "\t   (set-rear-ptr! queue new-pair)\n",
    "\t   queue)\n",
    "\t  (else\n",
    "\t   (set-cdr! (rear-ptr queue) new-pair)\n",
    "\t   (set-rear-ptr! queue new-pair)\n",
    "\t   queue))))\n",
    "\n",
    "(define (delete-queue! queue)\n",
    "  (cond ((empty-queue? queue)\n",
    "\t (error \"DELETE! called with an empty queue\" queue))\n",
    "\t(else\n",
    "\t (set-front-ptr! queue (cdr (front-ptr queue)))))\n",
    "\t queue)\n",
    "\n",
    "(define (print-queue queue)\n",
    "  (cond ((null? queue)\n",
    "\t (error \"print-queue called with an incorrect data\" queue))\n",
    "\t(else\n",
    "\t (display (car queue)))))\n",
    "\n",
    "(define (front-ptr queue) (car queue))\n",
    "\n",
    "(define (rear-ptr queue) (cdr queue))\n",
    "\n",
    "(define (set-front-ptr! queue item) (set-car! queue item))\n",
    "\n",
    "(define (set-rear-ptr! queue item) (set-cdr! queue item))\n",
    "\n",
    "(define (empty-queue? queue) (null? (front-ptr queue)))\n"
   ]
  },
  {
   "cell_type": "code",
   "execution_count": 16,
   "id": "b2c833cb",
   "metadata": {},
   "outputs": [],
   "source": [
    "(define (make-time-segment time queue)\n",
    "  (cons time queue))\n",
    "\n",
    "(define (segment-time s) (car s))\n",
    "\n",
    "(define (segment-queue s) (cdr s))\n",
    "\n",
    "(define (set-current-time! agenda time)\n",
    "  (set-car! agenda time))\n",
    "\n",
    "(define (set-segments! agenda segments)\n",
    "  (set-cdr! agenda segments))\n",
    "\n",
    "(define (first-segment agenda) (car (segments agenda)))\n",
    "\n",
    "(define (rest-segments agenda) (cdr (segments agenda)))\n",
    "\n",
    "(define (empty-agenda? agenda)\n",
    "  (null? (segments agenda)))"
   ]
  },
  {
   "cell_type": "code",
   "execution_count": 17,
   "id": "b866005f",
   "metadata": {},
   "outputs": [],
   "source": [
    "(define (propagate)\n",
    "  (if (empty-agenda? the-agenda)\n",
    "      'done\n",
    "      (let ((first-item (first-agenda-item the-agenda)))\n",
    "\t(first-item)\n",
    "\t(remove-first-agenda-item! the-agenda)\n",
    "\t(propagate))))"
   ]
  },
  {
   "cell_type": "code",
   "execution_count": 18,
   "id": "da131bb1",
   "metadata": {},
   "outputs": [],
   "source": [
    "(define (first-agenda-item agenda)\n",
    "  (if (empty-agenda? agenda)\n",
    "      (error \"Agenda is empty -- FIRST-AGENDA-ITEM\")\n",
    "      (let ((first-seg (first-segment agenda)))\n",
    "\t(set-current-time! agenda (segment-time first-seg))\n",
    "\t(front-queue (segment-queue first-seg)))))\n",
    "\n",
    "(define (remove-first-agenda-item! agenda)\n",
    "  (let ((q (segment-queue (first-segment agenda))))\n",
    "    (delete-queue! q)\n",
    "    (if (empty-queue? q)\n",
    "\t(set-segments! agenda (rest-segments agenda)))))"
   ]
  },
  {
   "cell_type": "code",
   "execution_count": 19,
   "id": "9d02edb4",
   "metadata": {},
   "outputs": [],
   "source": [
    "\n",
    "(define (probe name wire)\n",
    "  (add-action! wire\n",
    "\t       (lambda ()\n",
    "\t\t (newline)\n",
    "\t\t (display name)\n",
    "\t\t (display \" \")\n",
    "\t\t (display (current-time the-agenda))\n",
    "\t\t (display \" New-value = \")\n",
    "\t\t (display (get-signal wire)))))"
   ]
  },
  {
   "cell_type": "code",
   "execution_count": 20,
   "id": "954e09d6",
   "metadata": {},
   "outputs": [],
   "source": [
    "(define (and-gate a1 a2 output)\n",
    "  (define (and-action-procedure)\n",
    "    (let ((new-value\n",
    "\t   (logical-and (get-signal a1) (get-signal a2))))\n",
    "      (after-delay and-gate-delay\n",
    "\t\t   (lambda ()\n",
    "\t\t     (set-signal! output new-value)))))\n",
    "  (add-action! a1 and-action-procedure)\n",
    "  (add-action! a2 and-action-procedure)\n",
    "  'ok)\n",
    "\n",
    "(define (logical-and a1 a2)\n",
    "  (cond ((and (not (= a1 0))\n",
    "\t     (not (= a1 1))) (error \"Invalid signal\" a1))\n",
    "\t((and (not (= a2 0))\n",
    "\t     (not (= a2 1))) (error \"Invalid signal\" a2))\n",
    "\t((and (= a1 1) (= a2 1)) 1)\n",
    "\t(else 0)))\n",
    "\n",
    "(define and-gate-delay 3)\n"
   ]
  },
  {
   "cell_type": "markdown",
   "id": "441ab4e7",
   "metadata": {},
   "source": [
    "以上一长串代码就是相关组件的定义，包括了与门和非门。\n",
    "\n",
    "下面是原来3.28里的或门的定义，为了避免干扰，我们把它注释掉："
   ]
  },
  {
   "cell_type": "code",
   "execution_count": 21,
   "id": "5f39b5bd",
   "metadata": {},
   "outputs": [],
   "source": [
    ";; (define (or-gate a1 a2 output)\n",
    ";;   (define (or-action-procedure)\n",
    ";;     (let ((new-value\n",
    ";; \t   (logical-or (get-signal a1) (get-signal a2))))\n",
    ";;       (after-delay or-gate-delay\n",
    ";; \t\t   (lambda ()\n",
    ";; \t\t     (set-signal! output new-value)))))\n",
    ";;   (add-action! a1 or-action-procedure)\n",
    ";;   (add-action! a2 or-action-procedure)\n",
    ";;   'ok)\n",
    "\n",
    ";; (define (logical-or a1 a2)\n",
    ";;   (cond ((and (not (= a1 0))\n",
    ";; \t     (not (= a1 1))) (error \"Invalid signal\" a1))\n",
    ";; \t((and (not (= a2 0))\n",
    ";; \t     (not (= a2 1))) (error \"Invalid signal\" a2))\n",
    ";; \t((or (= a1 1) (= a2 1)) 1)\n",
    ";; \t(else 0)))\n",
    "\n",
    "\n",
    ";; (define or-gate-delay 5)\n"
   ]
  },
  {
   "cell_type": "markdown",
   "id": "e6767a97",
   "metadata": {},
   "source": [
    "再测试一下新的or-gate:"
   ]
  },
  {
   "cell_type": "code",
   "execution_count": 22,
   "id": "4f29bb31",
   "metadata": {},
   "outputs": [],
   "source": [
    "(define (or-gate-test input-1-value input-2-value)\n",
    "  (define input-1 (make-wire))\n",
    "  (define input-2 (make-wire))\n",
    "  (define output (make-wire))\n",
    "  \n",
    "  (or-gate input-1 input-2 output)\n",
    "  \n",
    "  (set-signal! input-1 input-1-value)\n",
    "  (set-signal! input-2 input-2-value)\n",
    "  \n",
    "  (propagate)\n",
    "  \n",
    "  (get-signal output)\n",
    ")\n"
   ]
  },
  {
   "cell_type": "code",
   "execution_count": 23,
   "id": "f994d7cc",
   "metadata": {},
   "outputs": [
    {
     "data": {
      "text/plain": [
       "(0 1 1 1)"
      ]
     },
     "execution_count": 23,
     "metadata": {},
     "output_type": "execute_result"
    }
   ],
   "source": [
    "(list (or-gate-test 0 0) (or-gate-test 0 1) (or-gate-test 1 0) (or-gate-test 1 1))"
   ]
  },
  {
   "cell_type": "markdown",
   "id": "9a63129d",
   "metadata": {},
   "source": [
    "这样也是可以正常工作的。"
   ]
  },
  {
   "cell_type": "markdown",
   "id": "648723a5",
   "metadata": {},
   "source": [
    "题目还要求我们计算新的or-gate的delay是多少，\n",
    "\n",
    "我们知道and-gate的delay是3， inverter的delay是2。\n",
    "\n",
    "or-gate里刚开始两个输入的inverter是并行的，同时发生，占用了2个delay, 接着是and-gate的3个delay，然后是再接一个inverter的2个delay。一共是 2 + 3 + 2等于7个delay\n",
    "\n",
    "也可以通过增加probe来进行观察："
   ]
  },
  {
   "cell_type": "code",
   "execution_count": 26,
   "id": "7e977cde",
   "metadata": {},
   "outputs": [],
   "source": [
    "(define (or-gate-test input-1-value input-2-value)\n",
    "  (define input-1 (make-wire))\n",
    "  (define input-2 (make-wire))\n",
    "  (define output (make-wire))\n",
    "  \n",
    "  (or-gate input-1 input-2 output)\n",
    "  \n",
    "  (set-signal! input-1 input-1-value)\n",
    "  (set-signal! input-2 input-2-value)\n",
    "  \n",
    "  (probe 'or-gate-output output)\n",
    "  \n",
    "  (propagate)\n",
    "  \n",
    "  \n",
    "  (get-signal output)\n",
    ")\n"
   ]
  },
  {
   "cell_type": "code",
   "execution_count": 27,
   "id": "7bd93f9e",
   "metadata": {},
   "outputs": [
    {
     "name": "stdout",
     "output_type": "stream",
     "text": [
      "\n",
      "or-gate-output 35 New-value = 0\n",
      "or-gate-output 37 New-value = 1\n",
      "or-gate-output 42 New-value = 0"
     ]
    },
    {
     "data": {
      "text/plain": [
       "0"
      ]
     },
     "execution_count": 27,
     "metadata": {},
     "output_type": "execute_result"
    }
   ],
   "source": [
    "(or-gate-test 0 0)"
   ]
  },
  {
   "cell_type": "code",
   "execution_count": null,
   "id": "74551d2c",
   "metadata": {},
   "outputs": [],
   "source": []
  }
 ],
 "metadata": {
  "kernelspec": {
   "display_name": "Calysto Scheme 3",
   "language": "scheme",
   "name": "calysto_scheme"
  },
  "language_info": {
   "codemirror_mode": {
    "name": "scheme"
   },
   "mimetype": "text/x-scheme",
   "name": "scheme",
   "pygments_lexer": "scheme"
  }
 },
 "nbformat": 4,
 "nbformat_minor": 5
}
