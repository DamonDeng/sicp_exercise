{
 "cells": [
  {
   "cell_type": "code",
   "execution_count": 1,
   "id": "53e21a0b",
   "metadata": {},
   "outputs": [],
   "source": [
    "from ipycanvas import Canvas"
   ]
  },
  {
   "cell_type": "code",
   "execution_count": 41,
   "id": "aeb7f383",
   "metadata": {},
   "outputs": [],
   "source": [
    "def display_data_in_file(file_name, input_width=100, input_height=100, line_limit=0):\n",
    "    open_file = open(file_name, 'r')\n",
    "    all_lines = open_file.readlines()\n",
    "    open_file.close()\n",
    "    data = all_lines[0].replace('((', '').replace('))', '').replace(') (', ',').split(',')\n",
    "    \n",
    "    all_line_number = list()\n",
    "    \n",
    "    canvas = Canvas(width=input_width, height=input_height)\n",
    "    \n",
    "    for index, each_line in enumerate(data):\n",
    "        if (line_limit != 0):\n",
    "            if (index > line_limit):\n",
    "                break\n",
    "        numbers_str = each_line.split(' ')\n",
    "        numbers = list()\n",
    "        for each_number_str in numbers_str:\n",
    "            numbers.append(float(each_number_str))\n",
    "        \n",
    "        line_number = numbers\n",
    "        canvas.stroke_line(line_number[0], line_number[1], line_number[2], line_number[3])\n",
    "\n",
    "#         all_line_number.append(numbers)\n",
    "\n",
    "    \n",
    "    \n",
    "#     for line_number in all_line_number:\n",
    "#     #     print(line_number)\n",
    "#         canvas.stroke_line(line_number[0], line_number[1], line_number[2], line_number[3])\n",
    "        \n",
    "    return canvas"
   ]
  },
  {
   "cell_type": "code",
   "execution_count": 10,
   "id": "5f145964",
   "metadata": {},
   "outputs": [],
   "source": [
    "file_name = './sicp-2-44-output.txt'"
   ]
  },
  {
   "cell_type": "code",
   "execution_count": 13,
   "id": "e0bfef1e",
   "metadata": {},
   "outputs": [
    {
     "data": {
      "application/vnd.jupyter.widget-view+json": {
       "model_id": "b7df8d2214994ab387d0d4bd1a82f8ba",
       "version_major": 2,
       "version_minor": 0
      },
      "text/plain": [
       "Canvas(height=300, width=300)"
      ]
     },
     "metadata": {},
     "output_type": "display_data"
    }
   ],
   "source": [
    "display_data_in_file(file_name, input_width=300, input_height=300)"
   ]
  },
  {
   "cell_type": "code",
   "execution_count": 15,
   "id": "85231eb9",
   "metadata": {},
   "outputs": [
    {
     "data": {
      "application/vnd.jupyter.widget-view+json": {
       "model_id": "eb16374528754bb7a974a83d63c37333",
       "version_major": 2,
       "version_minor": 0
      },
      "text/plain": [
       "Canvas(height=300, width=300)"
      ]
     },
     "metadata": {},
     "output_type": "display_data"
    }
   ],
   "source": [
    "file_name = './sicp-2-44-output-vert.txt'\n",
    "display_data_in_file(file_name, input_width=300, input_height=300)"
   ]
  },
  {
   "cell_type": "code",
   "execution_count": 18,
   "id": "51fc3eab",
   "metadata": {},
   "outputs": [
    {
     "data": {
      "application/vnd.jupyter.widget-view+json": {
       "model_id": "2d3e09a35d4643798d5d52f26ced5bdb",
       "version_major": 2,
       "version_minor": 0
      },
      "text/plain": [
       "Canvas(height=300, width=300)"
      ]
     },
     "metadata": {},
     "output_type": "display_data"
    }
   ],
   "source": [
    "file_name = './sicp-2-44-output-painter2.txt'\n",
    "display_data_in_file(file_name, input_width=300, input_height=300)"
   ]
  },
  {
   "cell_type": "code",
   "execution_count": 25,
   "id": "b86f11a7",
   "metadata": {},
   "outputs": [
    {
     "data": {
      "application/vnd.jupyter.widget-view+json": {
       "model_id": "f1e7433929914d458a02e62f5fa5712a",
       "version_major": 2,
       "version_minor": 0
      },
      "text/plain": [
       "Canvas(height=300, width=300)"
      ]
     },
     "metadata": {},
     "output_type": "display_data"
    }
   ],
   "source": [
    "file_name = './sicp-2-44-output-painter4.txt'\n",
    "display_data_in_file(file_name, input_width=300, input_height=300)"
   ]
  },
  {
   "cell_type": "code",
   "execution_count": 26,
   "id": "97d254b9",
   "metadata": {},
   "outputs": [
    {
     "data": {
      "application/vnd.jupyter.widget-view+json": {
       "model_id": "96ba2074c46a4ba8be9e9425765a429f",
       "version_major": 2,
       "version_minor": 0
      },
      "text/plain": [
       "Canvas(height=300, width=300)"
      ]
     },
     "metadata": {},
     "output_type": "display_data"
    }
   ],
   "source": [
    "file_name = './sicp-2-44-output-right-split.txt'\n",
    "display_data_in_file(file_name, input_width=300, input_height=300)"
   ]
  },
  {
   "cell_type": "code",
   "execution_count": 27,
   "id": "a8c4b458",
   "metadata": {},
   "outputs": [
    {
     "data": {
      "application/vnd.jupyter.widget-view+json": {
       "model_id": "82f22b84d3dd4de29fcb0dc4442d9bec",
       "version_major": 2,
       "version_minor": 0
      },
      "text/plain": [
       "Canvas(height=300, width=300)"
      ]
     },
     "metadata": {},
     "output_type": "display_data"
    }
   ],
   "source": [
    "file_name = './sicp-2-44-output-up-split.txt'\n",
    "display_data_in_file(file_name, input_width=300, input_height=300)"
   ]
  },
  {
   "cell_type": "code",
   "execution_count": 31,
   "id": "01a8a871",
   "metadata": {},
   "outputs": [
    {
     "data": {
      "application/vnd.jupyter.widget-view+json": {
       "model_id": "f1c0c378edb449d09517af4683704d86",
       "version_major": 2,
       "version_minor": 0
      },
      "text/plain": [
       "Canvas(height=300, width=300)"
      ]
     },
     "metadata": {},
     "output_type": "display_data"
    }
   ],
   "source": [
    "file_name = './sicp-2-44-output-corner-split.txt'\n",
    "display_data_in_file(file_name, input_width=300, input_height=300)"
   ]
  },
  {
   "cell_type": "code",
   "execution_count": 32,
   "id": "30c9a4bb",
   "metadata": {},
   "outputs": [
    {
     "data": {
      "application/vnd.jupyter.widget-view+json": {
       "model_id": "240b41b26aad41ad8cef552b6fc3ca28",
       "version_major": 2,
       "version_minor": 0
      },
      "text/plain": [
       "Canvas(height=300, width=300)"
      ]
     },
     "metadata": {},
     "output_type": "display_data"
    }
   ],
   "source": [
    "file_name = './sicp-2-44-output-h-flip.txt'\n",
    "display_data_in_file(file_name, input_width=300, input_height=300)"
   ]
  },
  {
   "cell_type": "code",
   "execution_count": 46,
   "id": "f2b3a692",
   "metadata": {},
   "outputs": [
    {
     "data": {
      "application/vnd.jupyter.widget-view+json": {
       "model_id": "ecf05a8e031246fcafd0d6d9277ef6c1",
       "version_major": 2,
       "version_minor": 0
      },
      "text/plain": [
       "Canvas(height=300, width=300)"
      ]
     },
     "metadata": {},
     "output_type": "display_data"
    }
   ],
   "source": [
    "file_name = './sicp-2-44-output-square.txt'\n",
    "display_data_in_file(file_name, input_width=300, input_height=300, line_limit=4300)"
   ]
  },
  {
   "cell_type": "code",
   "execution_count": null,
   "id": "b9b0ec4b",
   "metadata": {},
   "outputs": [],
   "source": []
  },
  {
   "cell_type": "code",
   "execution_count": 34,
   "id": "08d02db3",
   "metadata": {},
   "outputs": [
    {
     "data": {
      "application/vnd.jupyter.widget-view+json": {
       "model_id": "aaaf3029922040bb8ecf4d7528393de5",
       "version_major": 2,
       "version_minor": 0
      },
      "text/plain": [
       "Canvas(height=300, width=300)"
      ]
     },
     "metadata": {},
     "output_type": "display_data"
    }
   ],
   "source": [
    "file_name = './sicp-2-44-output-new-right-split.txt'\n",
    "display_data_in_file(file_name, input_width=300, input_height=300)"
   ]
  },
  {
   "cell_type": "code",
   "execution_count": null,
   "id": "25e7ab09",
   "metadata": {},
   "outputs": [],
   "source": []
  },
  {
   "cell_type": "code",
   "execution_count": 21,
   "id": "f31e9f33",
   "metadata": {},
   "outputs": [],
   "source": [
    "open_file = open('./sicp-2-44-output.txt', 'r')"
   ]
  },
  {
   "cell_type": "code",
   "execution_count": 22,
   "id": "4680c8a4",
   "metadata": {},
   "outputs": [],
   "source": [
    "all_lines = open_file.readlines()"
   ]
  },
  {
   "cell_type": "code",
   "execution_count": 23,
   "id": "497bc5ac",
   "metadata": {},
   "outputs": [
    {
     "data": {
      "text/plain": [
       "['((24 0 20 10) (20 10 24 20) (24 20 18 20) (18 20 0 42) (0 42 0 50) (0 50 24 30) (24 30 16 60) (16 60 24 60) (24 60 30 40) (30 40 36 60) (36 60 44 60) (44 60 36 30) (36 30 40 24) (40 24 50 30) (50 30 60 18) (60 18 60 10) (60 10 50 22) (50 22 40 20) (40 20 36 20) (36 20 40 10) (40 10 36 0))']"
      ]
     },
     "execution_count": 23,
     "metadata": {},
     "output_type": "execute_result"
    }
   ],
   "source": [
    "all_lines"
   ]
  },
  {
   "cell_type": "code",
   "execution_count": 24,
   "id": "52945e53",
   "metadata": {},
   "outputs": [],
   "source": [
    "# data = all_lines[0].replace('(', '{').replace(')', '}').replace(' ', ',')\n",
    "data = all_lines[0].replace('((', '').replace('))', '').replace(') (', ',').split(',')\n"
   ]
  },
  {
   "cell_type": "code",
   "execution_count": 25,
   "id": "7de1941f",
   "metadata": {},
   "outputs": [],
   "source": [
    "all_line_number = list()\n",
    "for each_line in data:\n",
    "    numbers_str = each_line.split(' ')\n",
    "    numbers = list()\n",
    "    for each_number_str in numbers_str:\n",
    "        numbers.append(float(each_number_str))\n",
    "        \n",
    "    all_line_number.append(numbers)"
   ]
  },
  {
   "cell_type": "code",
   "execution_count": 27,
   "id": "82d3d67e",
   "metadata": {},
   "outputs": [],
   "source": [
    "# all_line_number"
   ]
  },
  {
   "cell_type": "code",
   "execution_count": 28,
   "id": "5fe55e50",
   "metadata": {},
   "outputs": [],
   "source": [
    "canvas = Canvas(width=100, height=100)"
   ]
  },
  {
   "cell_type": "code",
   "execution_count": 29,
   "id": "e57a70e3",
   "metadata": {},
   "outputs": [],
   "source": [
    "for line_number in all_line_number:\n",
    "#     print(line_number)\n",
    "    canvas.stroke_line(line_number[0], line_number[1], line_number[2], line_number[3])"
   ]
  },
  {
   "cell_type": "code",
   "execution_count": 30,
   "id": "a2106732",
   "metadata": {},
   "outputs": [
    {
     "data": {
      "application/vnd.jupyter.widget-view+json": {
       "model_id": "e99ce678b438465598eaaf40aaaaefcb",
       "version_major": 2,
       "version_minor": 0
      },
      "text/plain": [
       "Canvas(height=100, width=100)"
      ]
     },
     "metadata": {},
     "output_type": "display_data"
    }
   ],
   "source": [
    "canvas"
   ]
  },
  {
   "cell_type": "code",
   "execution_count": null,
   "id": "42ea58ec",
   "metadata": {},
   "outputs": [],
   "source": []
  }
 ],
 "metadata": {
  "kernelspec": {
   "display_name": "Python 3 (ipykernel)",
   "language": "python",
   "name": "python3"
  },
  "language_info": {
   "codemirror_mode": {
    "name": "ipython",
    "version": 3
   },
   "file_extension": ".py",
   "mimetype": "text/x-python",
   "name": "python",
   "nbconvert_exporter": "python",
   "pygments_lexer": "ipython3",
   "version": "3.8.8"
  }
 },
 "nbformat": 4,
 "nbformat_minor": 5
}
