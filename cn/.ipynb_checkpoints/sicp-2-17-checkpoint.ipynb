{
 "cells": [
  {
   "cell_type": "markdown",
   "id": "0454da55",
   "metadata": {},
   "source": [
    "## SICP 习题 （2.17）解题总结：列表的遍历"
   ]
  },
  {
   "cell_type": "markdown",
   "id": "556413ff",
   "metadata": {},
   "source": [
    "SICP 习题 2.17 要求我们定义出过程last-pair，它返回只包含给定表里之后一个元素的表。\n",
    "\n",
    "比如 \n",
    "\n",
    "`(last-pair (list 23 72 149 34))`的结果应该是`(34)`\n",
    "\n",
    "当你开始做这道题的时候你应该已经看完书中有关list操作的内容了，你应该明白car和cdr分别是什么意思，也应该知道如何通过递归调用遍历一个list。\n",
    "\n",
    "有了以上基础的话完成习题2.17就是小菜一碟啦，基本思路就是不断对目标list进行cdr操作，直到最后一个元素为止。\n",
    "\n",
    "在递归实现上的基本思路就是看目标list是不是只有一个元素，如果是的话就直接返回目标list，如果不是的话取(cdr 目标list)，再递归判断。\n",
    "\n",
    "实现代码如下："
   ]
  },
  {
   "cell_type": "code",
   "execution_count": 1,
   "id": "67f6763e",
   "metadata": {},
   "outputs": [],
   "source": [
    "(define (last-pair input-list)\n",
    "  (if (null? (cdr input-list))\n",
    "      input-list\n",
    "      (last-pair (cdr input-list))))"
   ]
  },
  {
   "cell_type": "markdown",
   "id": "db207cb5",
   "metadata": {},
   "source": [
    "简单搞定！"
   ]
  },
  {
   "cell_type": "code",
   "execution_count": 2,
   "id": "46b7fac0",
   "metadata": {},
   "outputs": [],
   "source": [
    "(define (start-test-2-9)\n",
    "  (last-pair '(1 2 3 4)))"
   ]
  },
  {
   "cell_type": "code",
   "execution_count": 3,
   "id": "34fb25ce",
   "metadata": {},
   "outputs": [
    {
     "data": {
      "text/plain": [
       "(4)"
      ]
     },
     "execution_count": 3,
     "metadata": {},
     "output_type": "execute_result"
    }
   ],
   "source": [
    "(start-test-2-9)"
   ]
  },
  {
   "cell_type": "code",
   "execution_count": null,
   "id": "9d9462ea",
   "metadata": {},
   "outputs": [],
   "source": []
  }
 ],
 "metadata": {
  "kernelspec": {
   "display_name": "Calysto Scheme 3",
   "language": "scheme",
   "name": "calysto_scheme"
  },
  "language_info": {
   "codemirror_mode": {
    "name": "scheme"
   },
   "mimetype": "text/x-scheme",
   "name": "scheme",
   "pygments_lexer": "scheme"
  }
 },
 "nbformat": 4,
 "nbformat_minor": 5
}
