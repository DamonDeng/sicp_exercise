{
 "cells": [
  {
   "cell_type": "markdown",
   "id": "0454da55",
   "metadata": {},
   "source": [
    "## SICP 习题 （2.75）解题总结：消息传递风格的对象构造"
   ]
  },
  {
   "cell_type": "markdown",
   "id": "faaafad1",
   "metadata": {},
   "source": [
    "SICP 习题 2.75 要求我们按照上文(make-from-real-imag)的代码仿写一个(make-from-mag-ang).\n",
    "\n",
    "题目的灵魂还是数据的封装，就是不管我们底层怎么表达，上层是可以呈现一致的访问手段的。\n",
    "\n",
    "就像题目中提到的复数，底层可以保存为 实部 和 虚部， 也可以保存为 幅度 和角度， 但是上层呈现出来的访问方式可以是一样的。\n",
    "\n",
    "书中已经有(make-from-real-imag)的实现："
   ]
  },
  {
   "cell_type": "code",
   "execution_count": 38,
   "id": "fcfba7a6",
   "metadata": {},
   "outputs": [],
   "source": [
    "; message style implementation:\n",
    "(define (make-from-real-imag x y)\n",
    "  (define (dispatch op)\n",
    "    (cond ((eq? op 'real-part) x)\n",
    "\t  ((eq? op 'imag-part) y)\n",
    "\t  ((eq? op 'magnitude)\n",
    "\t   (sqrt (+ (square x) (square y))))\n",
    "\t  ((eq? op 'angle) (atan (/ y x)))\n",
    "\t  (else \n",
    "\t   (error \"Unknown op -- MAKE-FROM-REAL-IMAG\" op))))\n",
    "  dispatch)"
   ]
  },
  {
   "cell_type": "markdown",
   "id": "0dd84ff1",
   "metadata": {},
   "source": [
    "我们只需要仿写就好了， 这两部分代码从一定意义上来讲是反过来的：一个通过实部和虚部计算幅度和角度，另一个通过幅度和角度计算实部和虚部："
   ]
  },
  {
   "cell_type": "code",
   "execution_count": 40,
   "id": "5c62775b",
   "metadata": {},
   "outputs": [],
   "source": [
    "(define (make-from-mag-ang x y)\n",
    "  (define (dispatch op)\n",
    "    (cond ((eq? op 'real-part) (* x (cos y)))\n",
    "\t  ((eq? op 'imag-part) (* x (sin y)))\n",
    "\t  ((eq? op 'magnitude) x)\n",
    "\t  ((eq? op 'angle) y)\n",
    "\t  (else \n",
    "\t   (error \"Unknown op -- MAKE-FROM-MAG-ANG\" op))))\n",
    "  dispatch)"
   ]
  },
  {
   "cell_type": "markdown",
   "id": "93d6221f",
   "metadata": {},
   "source": [
    "不过在Calysto Scheme里运行以上代码会遇到问题，就是三角函数在Calysto Scheme里没有实现。\n",
    "\n",
    "于是我又偷懒通过(python-exec)把python里的三角函数包进来了："
   ]
  },
  {
   "cell_type": "code",
   "execution_count": 41,
   "id": "def99fe8",
   "metadata": {},
   "outputs": [],
   "source": [
    "(import 'math)\n",
    "\n",
    "(python-exec \"\n",
    "def cos(input_number):\n",
    "    return math.cos(input_number)\n",
    "             \")\n",
    "\n",
    "(python-exec \"\n",
    "def sin(input_number):\n",
    "    return math.sin(input_number)\n",
    "             \")\n",
    "\n",
    "(python-exec \"\n",
    "def atan(input_number):\n",
    "    return math.atan(input_number)\n",
    "             \")"
   ]
  },
  {
   "cell_type": "markdown",
   "id": "a606b06b",
   "metadata": {},
   "source": [
    "另外还需要一个求平方的函数(square x)，好像这个函数我们已经实现很多遍了。。。。。"
   ]
  },
  {
   "cell_type": "code",
   "execution_count": 42,
   "id": "c9491f7a",
   "metadata": {},
   "outputs": [],
   "source": [
    "(define (square x) (* x x))"
   ]
  },
  {
   "cell_type": "markdown",
   "id": "b425c36c",
   "metadata": {},
   "source": [
    "接着是各种复数的运行操作和获取操作："
   ]
  },
  {
   "cell_type": "code",
   "execution_count": 43,
   "id": "b92ade2d",
   "metadata": {},
   "outputs": [],
   "source": [
    "\n",
    "(define (add-complex z1 z2)\n",
    "  (make-from-real-imag (+ (real-part z1) (real-part z2))\n",
    "\t\t       (+ (imag-part z1) (imag-part z2))))\n",
    "\n",
    "(define (sub-complex z1 z2)\n",
    "  (make-from-real-imag (- (real-part z1) (real-part z2))\n",
    "\t\t       (- (imag-part z1) (imag-part z2))))\n",
    "\n",
    "(define (mul-complex z1 z2)\n",
    "  (make-from-mag-ang (* (magnitude z1) (magnitude z2))\n",
    "\t\t     (+ (angle z1) (angle z2))))\n",
    "\n",
    "(define (div-complex z1 z2)\n",
    "  (make-from-mag-ang (/ (magnitude z1) (magnitude z2))\n",
    "\t\t     (- (angle z1 ) (angle z2))))\n",
    "\n",
    "\n",
    "\n",
    "(define (real-part z) (apply-generic 'real-part z))\n",
    "(define (imag-part z) (apply-generic 'imag-part z))\n",
    "(define (magnitude z) (apply-generic 'magnitude z))\n",
    "(define (angle z) (apply-generic 'angle z))\n",
    "\n",
    "(define (apply-generic op arg) (arg op))\n",
    "\n",
    "(define (display-complex complex)\n",
    " (display \"--------------------\") (newline)\n",
    "  (display \"real part:\") (display (real-part complex)) (newline)\n",
    "  (display \"imag part:\") (display (imag-part complex)) (newline)\n",
    "  (display \"magnitude:\") (display (magnitude complex)) (newline)\n",
    "  (display \"angle    :\") (display (angle complex))(newline)\n",
    "  (display \"--------------------\") (newline)\n",
    ")\n"
   ]
  },
  {
   "cell_type": "markdown",
   "id": "c2b85620",
   "metadata": {},
   "source": [
    "于是我们就多了一种构建复数的方法："
   ]
  },
  {
   "cell_type": "code",
   "execution_count": 44,
   "id": "d44c79b4",
   "metadata": {},
   "outputs": [],
   "source": [
    "(define complex1 (make-from-mag-ang 2 0.4))"
   ]
  },
  {
   "cell_type": "code",
   "execution_count": 45,
   "id": "68b58d64",
   "metadata": {},
   "outputs": [
    {
     "name": "stdout",
     "output_type": "stream",
     "text": [
      "--------------------\n",
      "real part:1.8421219880057702\n",
      "imag part:0.778836684617301\n",
      "magnitude:2\n",
      "angle    :0.4\n",
      "--------------------\n"
     ]
    }
   ],
   "source": [
    "(display-complex complex1)"
   ]
  },
  {
   "cell_type": "code",
   "execution_count": 46,
   "id": "fd79ab3a",
   "metadata": {},
   "outputs": [],
   "source": [
    "(define complex2 (make-from-real-imag 1.8421219880057702 0.778836684617301))"
   ]
  },
  {
   "cell_type": "code",
   "execution_count": 47,
   "id": "c70a6dfd",
   "metadata": {},
   "outputs": [
    {
     "name": "stdout",
     "output_type": "stream",
     "text": [
      "--------------------\n",
      "real part:1.8421219880057702\n",
      "imag part:0.778836684617301\n",
      "magnitude:2.0\n",
      "angle    :0.4\n",
      "--------------------\n"
     ]
    }
   ],
   "source": [
    "(display-complex complex2)"
   ]
  },
  {
   "cell_type": "markdown",
   "id": "97f2b961",
   "metadata": {},
   "source": [
    "打包测试一下："
   ]
  },
  {
   "cell_type": "code",
   "execution_count": 48,
   "id": "6659848c",
   "metadata": {},
   "outputs": [],
   "source": [
    "(define (start-test-2-75)\n",
    "  (define complex1 (make-from-mag-ang 2 0.4))\n",
    "  (define complex2 (make-from-mag-ang 2 0.4))\n",
    "\n",
    "  (define result1 (add-complex complex1 complex2))\n",
    "  (display-complex result1)(newline))"
   ]
  },
  {
   "cell_type": "code",
   "execution_count": 49,
   "id": "623e9cbf",
   "metadata": {},
   "outputs": [
    {
     "name": "stdout",
     "output_type": "stream",
     "text": [
      "--------------------\n",
      "real part:3.6842439760115404\n",
      "imag part:1.557673369234602\n",
      "magnitude:4.0\n",
      "angle    :0.4\n",
      "--------------------\n",
      "\n"
     ]
    }
   ],
   "source": [
    "(start-test-2-75)"
   ]
  },
  {
   "cell_type": "code",
   "execution_count": null,
   "id": "57ece7b8",
   "metadata": {},
   "outputs": [],
   "source": []
  }
 ],
 "metadata": {
  "kernelspec": {
   "display_name": "Calysto Scheme 3",
   "language": "scheme",
   "name": "calysto_scheme"
  },
  "language_info": {
   "codemirror_mode": {
    "name": "scheme"
   },
   "mimetype": "text/x-scheme",
   "name": "scheme",
   "pygments_lexer": "scheme"
  }
 },
 "nbformat": 4,
 "nbformat_minor": 5
}
