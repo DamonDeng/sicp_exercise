{
 "cells": [
  {
   "cell_type": "markdown",
   "id": "0454da55",
   "metadata": {},
   "source": [
    "## SICP 习题 （2.60）解题总结：允许重复元素的集合表示"
   ]
  },
  {
   "cell_type": "markdown",
   "id": "60970311",
   "metadata": {},
   "source": [
    "SICP习题2.60是2.59的延伸。\n",
    "\n",
    "在习题2.59里，我们讨论的是不允许重复元素的集合表示，就是用一个没有重复元素的列表表示一个集合。\n",
    "\n",
    "现在题目2.60问我们，如果用一个允许重复元素的列表表示一个集合，我们会怎么设计相关的函数。"
   ]
  },
  {
   "cell_type": "markdown",
   "id": "b7958531",
   "metadata": {},
   "source": [
    "先看最简单的，往集合添加一个元素，因为允许重复，所以就直接加上就好了："
   ]
  },
  {
   "cell_type": "code",
   "execution_count": 2,
   "id": "2ba1af18",
   "metadata": {},
   "outputs": [],
   "source": [
    "(define (adjoin-set x set)\n",
    "      (cons x set))"
   ]
  },
  {
   "cell_type": "code",
   "execution_count": 3,
   "id": "f6c2be96",
   "metadata": {},
   "outputs": [
    {
     "data": {
      "text/plain": [
       "(a a b c)"
      ]
     },
     "execution_count": 3,
     "metadata": {},
     "output_type": "execute_result"
    }
   ],
   "source": [
    "(adjoin-set 'a '(a b c))"
   ]
  },
  {
   "cell_type": "markdown",
   "id": "a5219730",
   "metadata": {},
   "source": [
    "第二个就是关于元素的查找，判断一个元素是否在集合中，不管是否有重复元素，这段代码是一样的，就是不断递归，找到元素就返回#t:"
   ]
  },
  {
   "cell_type": "code",
   "execution_count": 4,
   "id": "ced8dda0",
   "metadata": {},
   "outputs": [],
   "source": [
    "(define (element-of-set? x set)\n",
    "  (cond ((null? set) #f)\n",
    "\t((equal? x (car set)) #t)\n",
    "\t(else (element-of-set? x (cdr set)))))\n"
   ]
  },
  {
   "cell_type": "code",
   "execution_count": 5,
   "id": "a74c0709",
   "metadata": {},
   "outputs": [
    {
     "data": {
      "text/plain": [
       "#t"
      ]
     },
     "execution_count": 5,
     "metadata": {},
     "output_type": "execute_result"
    }
   ],
   "source": [
    "(element-of-set? 'a '(b b a a c c))"
   ]
  },
  {
   "cell_type": "markdown",
   "id": "e35d4546",
   "metadata": {},
   "source": [
    "还有就是并集，这个也好处理，直接把两个列表合并就好了，反正允许重复"
   ]
  },
  {
   "cell_type": "code",
   "execution_count": 6,
   "id": "5c1f633a",
   "metadata": {},
   "outputs": [],
   "source": [
    "(define (union-set set1 set2)\n",
    "  (cond ((null? set1) set2)\n",
    "\t(else\n",
    "\t (cons (car set1) (union-set (cdr set1) set2)))))"
   ]
  },
  {
   "cell_type": "markdown",
   "id": "28bce358",
   "metadata": {},
   "source": [
    "最麻烦的应该是交集，不过仔细一想，处理过程竟然是和不允许重复的列表是一样的:"
   ]
  },
  {
   "cell_type": "code",
   "execution_count": 9,
   "id": "870cfb39",
   "metadata": {},
   "outputs": [],
   "source": [
    "(define (intersection-set set1 set2)\n",
    "  (cond ((or (null? set1) (null? set2)) '())\n",
    "\t((element-of-set? (car set1) set2)\n",
    "\t (cons (car set1)\n",
    "\t       (intersection-set (cdr set1) set2)))\n",
    "\t(else (intersection-set (cdr set1) set2))))\n",
    "\n"
   ]
  },
  {
   "cell_type": "code",
   "execution_count": 10,
   "id": "ecc786df",
   "metadata": {},
   "outputs": [
    {
     "data": {
      "text/plain": [
       "(b c b c)"
      ]
     },
     "execution_count": 10,
     "metadata": {},
     "output_type": "execute_result"
    }
   ],
   "source": [
    "(intersection-set '(a b c a b c) '( b c d k k b c d k k))"
   ]
  },
  {
   "cell_type": "markdown",
   "id": "14bcca8b",
   "metadata": {},
   "source": [
    "如果是这样的话，那我们是不是可以直接使用允许重复元素的列表表示集合好了？\n",
    "\n",
    "问题在于效率，这也是题目的第二部分问我们的。\n",
    "\n",
    "允许重复元素会大幅度降低元素查找的效率，比如一个集合有两个元素a 和 b，如果不允许重复，那列表里只有两个元素，查找很快，集合操作也快。如果允许重复，那有可能列表里有10000个a，100000个b,查找起来效率就低了，更重要的是集合操作效率就更低了。\n",
    "\n",
    "题目还问我们什么情况下会使用这种允许重复的列表来表示集合。\n",
    "\n",
    "从上面的分析大概就有个概念了，如果这个集合是重度写，轻度读的，而且存储空间不是限制，就可以考虑用这种允许重复元素的列表来表示集合了。\n",
    "\n",
    "另外，如果条件允许，也可以采用实时读写，批量压缩的模式，就是白天应用高峰期直接使用允许重复元素的列表，到晚上1点的时候自动运行一个压缩过程，把重复元素去掉。\n"
   ]
  },
  {
   "cell_type": "code",
   "execution_count": null,
   "id": "2e294919",
   "metadata": {},
   "outputs": [],
   "source": []
  }
 ],
 "metadata": {
  "kernelspec": {
   "display_name": "Calysto Scheme 3",
   "language": "scheme",
   "name": "calysto_scheme"
  },
  "language_info": {
   "codemirror_mode": {
    "name": "scheme"
   },
   "mimetype": "text/x-scheme",
   "name": "scheme",
   "pygments_lexer": "scheme"
  }
 },
 "nbformat": 4,
 "nbformat_minor": 5
}
