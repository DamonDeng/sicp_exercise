{
 "cells": [
  {
   "cell_type": "markdown",
   "id": "079f4e51",
   "metadata": {},
   "source": [
    "## title"
   ]
  },
  {
   "cell_type": "code",
   "execution_count": null,
   "id": "51239efd",
   "metadata": {},
   "outputs": [],
   "source": [
    "(load \"./parallel.scm\")\n",
    "\n",
    "(define (make-serializer)\n",
    "  (let ((mutex (make-mutex)))\n",
    "    (lambda (p)\n",
    "      (define (serialized-p . args)\n",
    "\t(mutex 'acquire)\n",
    "\t(let ((val (apply p args)))\n",
    "\t  (mutex 'release)\n",
    "\t  val))\n",
    "      serialized-p)))\n",
    "\n",
    "(define (make-mutex)\n",
    "  (let ((cell (list false)))\n",
    "    (define (the-mutex m)\n",
    "      (cond ((eq? m 'acquire)\n",
    "\t     (if (test-and-set! cell)\n",
    "\t\t (the-mutex 'actuire))); retry\n",
    "\t    ((eq? m 'release) (clear! cell))))\n",
    "    the-mutex))\n",
    "\n",
    "(define (clear! cell)\n",
    "  (set-car! cell false))\n",
    "\n",
    "(define (test-and-set! cell)\n",
    "  (if (car cell)\n",
    "      true\n",
    "      (begin (set-car! cell true)\n",
    "\t     false)))\n",
    "\n",
    "(define x 10)\n",
    "\n",
    "(define s (make-serializer))\n",
    "\n",
    "(define (start-test-3-39-inter time)\n",
    "  (if (< time 1)\n",
    "      (begin\n",
    "\t(display \"finished\")\n",
    "\t(newline))\n",
    "      (begin\n",
    "\t(set! x 10)\n",
    "\t(parallel-execute (lambda () (set! x ((s (lambda () (* x x))))))\n",
    "\t\t\t  (s (lambda () (set! x (+ x 1)))))\n",
    "\t(display \"wait a second and press any key following an enter\") (newline)\n",
    "\t(read-char)\n",
    "\t(read-char)\n",
    "\t(display \"result is: \") (display x) (newline)\n",
    "\t(start-test-3-39-inter (- time 1)))))\n",
    "\n",
    "(define (start-test-3-39)\n",
    "  (display \"we may get 101 121 100\") (newline)\n",
    "  (start-test-3-39-inter 20))\n",
    "\n",
    "\n"
   ]
  }
 ],
 "metadata": {
  "kernelspec": {
   "display_name": "Calysto Scheme 3",
   "language": "scheme",
   "name": "calysto_scheme"
  },
  "language_info": {
   "codemirror_mode": {
    "name": "scheme"
   },
   "mimetype": "text/x-scheme",
   "name": "scheme",
   "pygments_lexer": "scheme"
  }
 },
 "nbformat": 4,
 "nbformat_minor": 5
}
