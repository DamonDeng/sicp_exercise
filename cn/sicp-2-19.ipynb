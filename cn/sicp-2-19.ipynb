{
 "cells": [
  {
   "cell_type": "markdown",
   "id": "0454da55",
   "metadata": {},
   "source": [
    "## SICP 习题 （2.19） 解题总结：重写零钱兑换程序"
   ]
  },
  {
   "cell_type": "markdown",
   "id": "10f45682",
   "metadata": {},
   "source": [
    "SICP 习题2.19 要求我们重新设计1.2.2节的零钱兑换程序，要求我们可以轻易改变程序里用的兑换币种。\n",
    "\n",
    "我们先看看1.2.2节的零钱兑换程序，代码是这样的："
   ]
  },
  {
   "cell_type": "code",
   "execution_count": 3,
   "id": "2630e869",
   "metadata": {},
   "outputs": [],
   "source": [
    "(define (RMB-Change amount)\n",
    "  (format #t \"Changing ~S~%\" amount)\n",
    "  (cond ((= amount 0) 0)\n",
    "\t((< amount 0) 0)\n",
    "\t(else (RMB-Change-Recursive amount 1 '() ))))\n",
    "\n",
    "(define (RMB-Change-Recursive amount change-kind change-result)\n",
    "  (format #t \"( ~S ~S )\" amount change-kind)\n",
    "  (if (= amount 0) (format #t \"Got one: ~S~%\" change-result))\n",
    "  (cond ((= amount 0) 1)\n",
    "\t((> change-kind amount) 0)\n",
    "\t((= change-kind 0) 0)\n",
    "\t(else (+ (RMB-Change-Recursive amount (RMB-Change-Next-Kind change-kind) change-result)\n",
    "\t\t (RMB-Change-Recursive (- amount change-kind) change-kind (cons change-kind change-result))))))"
   ]
  },
  {
   "cell_type": "markdown",
   "id": "c88c9fa0",
   "metadata": {},
   "source": [
    "注意，我这里的代码是我自己写的，和书中的样例代码有出入。\n",
    "\n",
    "不过我们需要留意的是代码的思路，所以不需要留意代码细节。\n",
    "\n",
    "1.2.2节中的零钱兑换程序的主要思路就是将遍历所有面额，对每一种面额的钱币都对当前需要兑换的总数做两种假设，一是零钱兑换方式包括了当前面额，第二种是零钱兑换方式没包括当前面额。\n",
    "\n",
    "对第一种方式，就是将当前需要兑换的总数减当前面额，产生新的需要兑换的总数，然后递归处理。\n",
    "\n",
    "对第二种方式，就是将当前面额的从所有面额中除去，看当前总数对应剩下的面额有多少兑换方式，然后递归处理。\n",
    "\n",
    "为了方便地使用以上方法计算不同国家的币种，简单的方式就是将不同国家的零钱组合做成一个list，然后计算过程中就从该list中获取不同的零钱面额。\n",
    "\n",
    "代码如下：\n"
   ]
  },
  {
   "cell_type": "code",
   "execution_count": 1,
   "id": "4171ede4",
   "metadata": {},
   "outputs": [],
   "source": [
    "(define us-coins (list 50 25 10 5 1))\n",
    "\n",
    "(define uk-coins (list 100 50 20 10 5 2 1 0.5))\n",
    "\n",
    "(define cn-coins (list 100 50 20 10 5 2 1))\n",
    "\n",
    "(define (cc amount coin-values)\n",
    "  (cond ((= amount 0) 1)\n",
    "\t((or (< amount 0) (no-more? coin-values)) 0)\n",
    "\t(else \n",
    "\t (+ (cc amount \n",
    "\t\t(except-first-denomination coin-values))\n",
    "\t    (cc (- amount \n",
    "\t\t   (first-denomination coin-values))\n",
    "\t\tcoin-values)))))\n",
    "\n",
    "(define (first-denomination coin-values)\n",
    "  (car coin-values))\n",
    "\n",
    "(define (except-first-denomination coin-values)\n",
    "  (cdr coin-values))\n",
    "\n",
    "(define (no-more? coin-values)\n",
    "  (null? coin-values))\n",
    "\n",
    "(define (test-it)\n",
    "  (cc 101 cn-coins))\n"
   ]
  },
  {
   "cell_type": "code",
   "execution_count": 2,
   "id": "1761d5ec",
   "metadata": {},
   "outputs": [
    {
     "data": {
      "text/plain": [
       "4710"
      ]
     },
     "execution_count": 2,
     "metadata": {},
     "output_type": "execute_result"
    }
   ],
   "source": [
    "(test-it)"
   ]
  },
  {
   "cell_type": "code",
   "execution_count": null,
   "id": "f028dbfb",
   "metadata": {},
   "outputs": [],
   "source": []
  }
 ],
 "metadata": {
  "kernelspec": {
   "display_name": "Calysto Scheme 3",
   "language": "scheme",
   "name": "calysto_scheme"
  },
  "language_info": {
   "codemirror_mode": {
    "name": "scheme"
   },
   "mimetype": "text/x-scheme",
   "name": "scheme",
   "pygments_lexer": "scheme"
  }
 },
 "nbformat": 4,
 "nbformat_minor": 5
}
