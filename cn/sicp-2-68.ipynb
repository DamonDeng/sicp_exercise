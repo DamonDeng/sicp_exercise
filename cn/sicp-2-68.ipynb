{
 "cells": [
  {
   "cell_type": "markdown",
   "id": "0454da55",
   "metadata": {},
   "source": [
    "## SICP 习题 （2.68）解题总结：编码树的编码过程"
   ]
  },
  {
   "cell_type": "markdown",
   "id": "91360178",
   "metadata": {},
   "source": [
    "SICP 2.68要求我们在指定的代码框架下实现编码过程，这个是习题2.67的延伸，习题2.67是和解码相关。\n",
    "\n"
   ]
  },
  {
   "cell_type": "markdown",
   "id": "265aea72",
   "metadata": {},
   "source": [
    "书里写好了encode方法，要求我们实现encode-symbol方法.\n",
    "\n",
    "encode方法是对输入消息的遍历，对输入消息的每个元素都调用encode-symbol以生成编码"
   ]
  },
  {
   "cell_type": "code",
   "execution_count": 3,
   "id": "6f183098",
   "metadata": {},
   "outputs": [],
   "source": [
    "(define (encode message tree)\n",
    "  (if (null? message)\n",
    "      '()\n",
    "      (append (encode-symbol (car message) tree)\n",
    "\t      (encode (cdr message) tree))))\n",
    "\n"
   ]
  },
  {
   "cell_type": "markdown",
   "id": "3c6c064b",
   "metadata": {},
   "source": [
    "(encode-symbol)函数是对某个元素，或者说某个符号，的编码过程。\n",
    "\n",
    "基本思路就是从根开始遍历编码树，是左树为先的深度优先遍历，直到叶子节点,如果在叶子节点找到要编码的符号就返回'()，如果在叶子节点没有找到要编码的符号就返回#f。\n",
    "\n",
    "返回到上一级树枝的时候，判断返回值，\n",
    "\n",
    "1. 如果返回值不为#f，则表示在左树找到了，累积0然后返回\n",
    "\n",
    "2. 如果返回的是#f，则表示左树没有找到，就会开始遍历右树，右树如果找到就累积1并返回，如果右树也没有找到就返回#f，表示在这个子树里没有找到\n",
    "\n"
   ]
  },
  {
   "cell_type": "code",
   "execution_count": 5,
   "id": "4d645dcc",
   "metadata": {},
   "outputs": [],
   "source": [
    "(define (encode-symbol symbol tree)\n",
    "  (cond ((leaf? tree)\n",
    "\t (if (equal? symbol (symbol-leaf tree))\n",
    "\t     '()\n",
    "\t     #f))\n",
    "\t(else \n",
    "\t (let ((left-branch-result (encode-symbol symbol (left-branch tree))))\n",
    "\t   (if left-branch-result\n",
    "\t       (cons '0 left-branch-result)\n",
    "\t       (let ((right-branch-result (encode-symbol symbol (right-branch tree))))\n",
    "             (if right-branch-result\n",
    "                 (cons '1 right-branch-result)\n",
    "                 #f)))))))"
   ]
  },
  {
   "cell_type": "markdown",
   "id": "7d02a117",
   "metadata": {},
   "source": [
    "下面是完整的代码："
   ]
  },
  {
   "cell_type": "code",
   "execution_count": 6,
   "id": "a8637a8f",
   "metadata": {},
   "outputs": [],
   "source": [
    "(define (make-leaf symbol weight)\n",
    "  (list 'leaf symbol weight))\n",
    "\n",
    "(define (leaf? object)\n",
    "  (eq? (car object) 'leaf))\n",
    "\n",
    "(define (symbol-leaf x) (cadr x))\n",
    "\n",
    "(define (weight-leaf x) (caddr x))\n",
    "\n",
    "(define (make-code-tree left right)\n",
    "  (list left\n",
    "\tright\n",
    "\t(append (symbols left) (symbols right))\n",
    "\t(+ (weight left) (weight right))))\n",
    "\n",
    "(define (left-branch tree) (car tree))\n",
    "\n",
    "(define (right-branch tree) (cadr tree))\n",
    "\n",
    "(define (symbols tree)\n",
    "  (if (leaf? tree)\n",
    "      (list (symbol-leaf tree))\n",
    "      (caddr tree)))\n",
    "\n",
    "(define (weight tree)\n",
    "  (if (leaf? tree)\n",
    "      (weight-leaf tree)\n",
    "      (cadddr tree)))\n",
    "\n",
    "(define (decode bits tree)\n",
    "  (define (decode-1 bits current-branch)\n",
    "    (if (null? bits)\n",
    "\t'()\n",
    "\t(let ((next-branch\n",
    "\t       (choose-branch (car bits) current-branch)))\n",
    "\t  (if (leaf? next-branch)\n",
    "\t      (cons (symbol-leaf next-branch)\n",
    "\t\t    (decode-1 (cdr bits) tree))\n",
    "\t      (decode-1 (cdr bits) next-branch)))))\n",
    "  (decode-1 bits tree))\n",
    "\n",
    "(define (choose-branch bit branch)\n",
    "  (cond ((= bit 0) (left-branch branch))\n",
    "\t((= bit 1) (right-branch branch))\n",
    "\t(else (error \"bad bit -- CHOOSE-BRANCH\" bit))))\n",
    "\n",
    "\n",
    "\n",
    "(define sample-tree\n",
    "  (make-code-tree (make-leaf 'A 4)\n",
    "\t\t  (make-code-tree\n",
    "\t\t   (make-leaf 'B 2)\n",
    "\t\t   (make-code-tree (make-leaf 'D 1)\n",
    "\t\t\t\t   (make-leaf 'C 1)))))\n",
    "\n",
    "(define sample-message '(0 1 1 0 0 1 0 1 0 1 1 1 1 0))\n",
    "\n",
    "(define (start-test-2-67)\n",
    "\n",
    "  (display (decode sample-message sample-tree)))\n",
    "\n",
    "(define (encode message tree)\n",
    "  (if (null? message)\n",
    "      '()\n",
    "      (append (encode-symbol (car message) tree)\n",
    "\t      (encode (cdr message) tree))))\n",
    "\n",
    "(define (encode-symbol symbol tree)\n",
    "  (cond ((leaf? tree)\n",
    "\t (if (equal? symbol (symbol-leaf tree))\n",
    "\t     '()\n",
    "\t     #f))\n",
    "\t(else \n",
    "\t (let ((left-branch-result (encode-symbol symbol (left-branch tree))))\n",
    "\t   (if left-branch-result\n",
    "\t       (cons '0 left-branch-result)\n",
    "\t       (let ((right-branch-result (encode-symbol symbol (right-branch tree))))\n",
    "\t\t (if right-branch-result\n",
    "\t\t     (cons '1 right-branch-result)\n",
    "\t\t     #f)))))))\n",
    "\n",
    "(define (start-test-2-68)\n",
    "  (define decode-result (decode sample-message sample-tree))\n",
    "  (display \"input sample message is:            \") (display sample-message) (newline)\n",
    "  (display \"message after decode and encode is: \")\n",
    "  (display (encode decode-result sample-tree))\n",
    "  (newline))\n",
    "\n",
    "\t       \n",
    "\t       \n",
    "\n"
   ]
  },
  {
   "cell_type": "markdown",
   "id": "703c9fcc",
   "metadata": {},
   "source": [
    "测试函数运行如下："
   ]
  },
  {
   "cell_type": "code",
   "execution_count": 7,
   "id": "32eed140",
   "metadata": {},
   "outputs": [
    {
     "name": "stdout",
     "output_type": "stream",
     "text": [
      "input sample message is:            (0 1 1 0 0 1 0 1 0 1 1 1 1 0)\n",
      "message after decode and encode is: (0 1 1 0 0 1 0 1 0 1 1 1 1 0)\n"
     ]
    }
   ],
   "source": [
    "(start-test-2-68)"
   ]
  },
  {
   "cell_type": "code",
   "execution_count": null,
   "id": "e67e60f3",
   "metadata": {},
   "outputs": [],
   "source": []
  }
 ],
 "metadata": {
  "kernelspec": {
   "display_name": "Calysto Scheme 3",
   "language": "scheme",
   "name": "calysto_scheme"
  },
  "language_info": {
   "codemirror_mode": {
    "name": "scheme"
   },
   "mimetype": "text/x-scheme",
   "name": "scheme",
   "pygments_lexer": "scheme"
  }
 },
 "nbformat": 4,
 "nbformat_minor": 5
}
