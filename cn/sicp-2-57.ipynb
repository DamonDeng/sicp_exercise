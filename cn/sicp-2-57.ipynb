{
 "cells": [
  {
   "cell_type": "markdown",
   "id": "0454da55",
   "metadata": {},
   "source": [
    "## SICP 习题 （2.57）解题总结：求导表达式里任意项参数的处理"
   ]
  },
  {
   "cell_type": "markdown",
   "id": "a4694936",
   "metadata": {},
   "source": [
    "SICP 习题 2.57 是 2.56的延伸，题目要求我们的求导函数不仅可以处理 `'(+ x y)` 这种形式，还可以处理 `(+ x y z)` 这中形式，而且，更宽泛地讲，需要我们处理`(+ x1 x2 x3 ...)`这样的形式。\n",
    "\n",
    "这个解题方法在题干中有提示，我在2.56的题解中也有剧透，\n",
    "\n",
    "基本做法就是把`(+ x1 x2 x3)`变成`(+ x1 (+ x2 x3 ...))`\n",
    "\n",
    "这里面不用再担心`(+ x2 x3 ...)`里其它参数的处理，因为我们定义的deriv函数对递归调用，把`(+ x2 x3 ...)`当另一个加式进行处理，这样就可以处理任意项的参数了。\n"
   ]
  },
  {
   "cell_type": "markdown",
   "id": "514d1bf0",
   "metadata": {},
   "source": [
    "下面把两种方法都列出来："
   ]
  },
  {
   "cell_type": "markdown",
   "id": "e110ea32",
   "metadata": {},
   "source": [
    "加式的处理"
   ]
  },
  {
   "cell_type": "code",
   "execution_count": 1,
   "id": "224c12d2",
   "metadata": {},
   "outputs": [],
   "source": [
    ";原来的方法\n",
    "(define (augend-original s) (cddr s))\n",
    "\n",
    ";新的方法\n",
    "(define (augend s) \n",
    "   (if (null? (cdddr s)) \n",
    "       (caddr s) \n",
    "       (cons '+ (cddr s)))) "
   ]
  },
  {
   "cell_type": "markdown",
   "id": "b3196908",
   "metadata": {},
   "source": [
    "乘式的处理"
   ]
  },
  {
   "cell_type": "code",
   "execution_count": 3,
   "id": "5dbaa6b5",
   "metadata": {},
   "outputs": [],
   "source": [
    ";原来的方法\n",
    "(define (multiplicand-original p) (caddr p))\n",
    "\n",
    ";新的方法\n",
    "(define (multiplicand p) \n",
    "   (if (null? (cdddr p)) \n",
    "       (caddr p) \n",
    "       (cons '* (cddr p)))) "
   ]
  },
  {
   "cell_type": "markdown",
   "id": "177b6921",
   "metadata": {},
   "source": [
    "下面把完整的代码列出来："
   ]
  },
  {
   "cell_type": "code",
   "execution_count": 4,
   "id": "4065f5a8",
   "metadata": {},
   "outputs": [],
   "source": [
    "(define (variable? x) (symbol? x))\n",
    "\n",
    "(define (same-variable? v1 v2)\n",
    "  (and (variable? v1) (variable? v2) (eq? v1 v2)))\n",
    "\n",
    "(define (make-sum-original a1 a2) (list '+ a1 a2))\n",
    "\n",
    "(define (make-sum a1 a2)\n",
    "  (define (iter sum1 sum2)\n",
    "    '())\n",
    "  (cond ((=number? a1 0) a2)\n",
    "\t((=number? a2 0) a1)\n",
    "\t((and (number? a1) (number? a2)) (+ a1 a2))\n",
    "\t(else \n",
    "\t (list '+ a1 a2))))\n",
    "\n",
    "(define (=number? exp num)\n",
    "  (and (number? exp) (= exp num)))\n",
    "\n",
    "(define (make-product-original m1 m2) (list '* m1 m2))\n",
    "\n",
    "(define (make-product m1 m2)\n",
    "  (cond ((or (=number? m1 0) (=number? m2 0)) 0)\n",
    "\t((=number? m1 1) m2)\n",
    "\t((=number? m2 1) m1)\n",
    "\t((and (number? m1) (number? m2)) (* m1 m2))\n",
    "\t(else (list '* m1 m2))))\n",
    "\n",
    "(define (sum? x)\n",
    "  (and (pair? x) (eq? (car x) '+)))\n",
    "\n",
    "(define (addend s) (cadr s))\n",
    "\n",
    "(define (augend-original s) (cddr s))\n",
    "(define (augend s) \n",
    "   (if (null? (cdddr s)) \n",
    "       (caddr s) \n",
    "       (cons '+ (cddr s)))) \n",
    "\n",
    "(define (product? x)\n",
    "  (and (pair? x) (eq? (car x) '*)))\n",
    "\n",
    "(define (multiplier p) (cadr p))\n",
    "\n",
    "(define (multiplicand-original p) (caddr p))\n",
    "\n",
    "\n",
    " (define (multiplicand p) \n",
    "   (if (null? (cdddr p)) \n",
    "       (caddr p) \n",
    "       (cons '* (cddr p)))) \n",
    "\n",
    "\n",
    "(define (make-exponentiation base exponent)\n",
    "  (cond ((= exponent 0)\n",
    "\t 1)\n",
    "\t((= exponent 1)\n",
    "\t base)\n",
    "\t(else\n",
    "\t (list '** base exponent))))\n",
    "\n",
    "(define (exponentiation? x)\n",
    "  (and (pair? x)\n",
    "       (eq? (car x) '**)))\n",
    "\n",
    "(define (base exp)\n",
    "  (cadr exp))\n",
    "\n",
    "(define (exponent exp)\n",
    "  (caddr exp))\n",
    "\n",
    "\n",
    "(define (deriv exp var)\n",
    "  (cond ((number? exp) 0)\n",
    "\t((variable? exp)\n",
    "\t (if (same-variable? exp var) 1 0))\n",
    "\t((sum? exp)\n",
    "\t (make-sum (deriv (addend exp) var)\n",
    "\t\t   (deriv (augend exp) var)))\n",
    "\t((product? exp)\n",
    "\t (make-sum\n",
    "\t  (make-product (multiplier exp)\n",
    "\t\t\t(deriv (multiplicand exp) var))\n",
    "\t  (make-product (deriv (multiplier exp) var)\n",
    "\t\t\t(multiplicand exp))))\n",
    "\t((exponentiation? exp)\n",
    "\t (let ((n (exponent exp))\n",
    "\t       (u (base exp)))\n",
    "\t   (make-product\n",
    "\t    n\n",
    "\t    (make-product\n",
    "\t     (make-exponentiation\n",
    "\t      u\n",
    "\t      (- n 1))\n",
    "\t     (deriv u var)))))\n",
    "\t(else \n",
    "\t (error \"unkonwn expression type -- DERIV\" exp))))\n",
    "\n",
    "\n",
    "(define (start-test-2-57)\n",
    "  (display (deriv '(+ x 3) 'x)) (newline)\n",
    "\n",
    "  (display (deriv '(* x y) 'x)) (newline)\n",
    "\n",
    "  (display (deriv '(* x y (+ x 3)) 'x))(newline)) \n"
   ]
  },
  {
   "cell_type": "code",
   "execution_count": 5,
   "id": "30095653",
   "metadata": {},
   "outputs": [
    {
     "name": "stdout",
     "output_type": "stream",
     "text": [
      "1\n",
      "y\n",
      "(+ (* x y) (* y (+ x 3)))\n"
     ]
    }
   ],
   "source": [
    "(start-test-2-57)"
   ]
  },
  {
   "cell_type": "code",
   "execution_count": null,
   "id": "999ff3ab",
   "metadata": {},
   "outputs": [],
   "source": []
  }
 ],
 "metadata": {
  "kernelspec": {
   "display_name": "Calysto Scheme 3",
   "language": "scheme",
   "name": "calysto_scheme"
  },
  "language_info": {
   "codemirror_mode": {
    "name": "scheme"
   },
   "mimetype": "text/x-scheme",
   "name": "scheme",
   "pygments_lexer": "scheme"
  }
 },
 "nbformat": 4,
 "nbformat_minor": 5
}
