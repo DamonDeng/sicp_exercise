{
 "cells": [
  {
   "cell_type": "markdown",
   "id": "079f4e51",
   "metadata": {},
   "source": [
    "## SICP 习题 （3.15）解题总结: set-car!的应用"
   ]
  },
  {
   "cell_type": "markdown",
   "id": "2e9c2dac",
   "metadata": {},
   "source": [
    "SICP 习题 3.15 主要讨论的是set-car!的作用，题目还是要求我们画出格子图用于说明元素之间的关系。\n",
    "\n",
    "不过像set-car!这样相对简单的函数，通过代码执行也可以分析个基本结果出来。\n",
    "\n",
    "先看看基本的set-car!的使用："
   ]
  },
  {
   "cell_type": "code",
   "execution_count": 9,
   "id": "b9159399",
   "metadata": {},
   "outputs": [
    {
     "data": {
      "text/plain": [
       "(new-wow 2 3)"
      ]
     },
     "execution_count": 9,
     "metadata": {},
     "output_type": "execute_result"
    }
   ],
   "source": [
    "(define z '(1 2 3))\n",
    "(set-car! z 'new-wow)\n",
    "z"
   ]
  },
  {
   "cell_type": "markdown",
   "id": "977c96aa",
   "metadata": {},
   "source": [
    "在以上代码中，(set-car!）函数修改了变量z的car的值，也就是修改了列表'(1 2 3)中的1，结果简单明了。"
   ]
  },
  {
   "cell_type": "markdown",
   "id": "7cd641f0",
   "metadata": {},
   "source": [
    "下面这个题目要求我们分析的代码是对(car x)进行set-car!操作，因为已经调用了一次car,所以我们修改的应该是列表的第一个元素中的第一个元素，有个嵌套关系。\n",
    "\n",
    "所以我们测试的目标应该是长成类似这样： '((1 2 3)) 或者是 '((1 2 3) 4 5 6)。\n",
    "\n",
    "总之列表的第一个元素必须还是个列表，当然第一个元素是cons也行，反正第一个元素需要有自己的car"
   ]
  },
  {
   "cell_type": "code",
   "execution_count": 10,
   "id": "51239efd",
   "metadata": {},
   "outputs": [],
   "source": [
    "(define (set-to-wow! x)\n",
    "  (set-car! (car x) 'wow)\n",
    "  x)\n",
    "\n"
   ]
  },
  {
   "cell_type": "markdown",
   "id": "11982380",
   "metadata": {},
   "source": [
    "测试结果如下："
   ]
  },
  {
   "cell_type": "code",
   "execution_count": 11,
   "id": "d950377e",
   "metadata": {},
   "outputs": [],
   "source": [
    "(define y '((1 2 3)))"
   ]
  },
  {
   "cell_type": "code",
   "execution_count": 12,
   "id": "127da447",
   "metadata": {},
   "outputs": [
    {
     "data": {
      "text/plain": [
       "((wow 2 3))"
      ]
     },
     "execution_count": 12,
     "metadata": {},
     "output_type": "execute_result"
    }
   ],
   "source": [
    "(set-to-wow! y)"
   ]
  },
  {
   "cell_type": "code",
   "execution_count": 7,
   "id": "05576f43",
   "metadata": {},
   "outputs": [],
   "source": []
  },
  {
   "cell_type": "code",
   "execution_count": 8,
   "id": "44716c1c",
   "metadata": {},
   "outputs": [
    {
     "data": {
      "text/plain": [
       "(new-wow 2 3)"
      ]
     },
     "execution_count": 8,
     "metadata": {},
     "output_type": "execute_result"
    }
   ],
   "source": [
    "z"
   ]
  },
  {
   "cell_type": "code",
   "execution_count": null,
   "id": "33fe8a0b",
   "metadata": {},
   "outputs": [],
   "source": []
  }
 ],
 "metadata": {
  "kernelspec": {
   "display_name": "Calysto Scheme 3",
   "language": "scheme",
   "name": "calysto_scheme"
  },
  "language_info": {
   "codemirror_mode": {
    "name": "scheme"
   },
   "mimetype": "text/x-scheme",
   "name": "scheme",
   "pygments_lexer": "scheme"
  }
 },
 "nbformat": 4,
 "nbformat_minor": 5
}
