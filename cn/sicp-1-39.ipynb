{
 "cells": [
  {
   "cell_type": "markdown",
   "id": "bc393efc",
   "metadata": {},
   "source": [
    "## SICP 习题 （1.39）解题总结"
   ]
  },
  {
   "cell_type": "markdown",
   "id": "27cdb0eb",
   "metadata": {},
   "source": [
    "SICP 习题1.39沿着习题1.37， 1.38的方向继续前行，要求我们根据德国数学家J.H.Lambert的公式定义tan-cf过程，用于计算正切函数的近似值。\n",
    "\n",
    "J.H.Lambert的公式如下：\n",
    "\n",
    "$$ tan (x) = \\frac {x} {1 - \\frac {x^2} {3 - \\frac {x^2} {5 - \\frac {x^2} {...}}} } $$"
   ]
  },
  {
   "cell_type": "markdown",
   "id": "1250c6d4",
   "metadata": {},
   "source": [
    "可以发现，这个和之前的无穷连分式是一样一样的，所不同的就是N是一个变量，不是固定数值。\n",
    "\n",
    "不过这个已经难不倒我们啦，可以从公式中发现,除了第一个N是x，其它的N都是x平方，\n",
    "\n",
    "D对应的数值是1,3,5，就是所有奇数，以数字n为下标的话可以通过(（n * 2）-1) 得到。\n",
    "\n",
    "最后直接定义以下过程搞定："
   ]
  },
  {
   "cell_type": "code",
   "execution_count": 21,
   "id": "ec651adc",
   "metadata": {},
   "outputs": [],
   "source": [
    "(define (tan-cf x k)\n",
    "  (cont-frac \n",
    "   (lambda (i)\n",
    "     (if (= i 1) \n",
    "\t x\n",
    "\t (- (* x x))))\n",
    "   (lambda (i)\n",
    "     (- (* i 2.0) 1))\n",
    "   k))"
   ]
  },
  {
   "cell_type": "code",
   "execution_count": 22,
   "id": "ee4e9ddd",
   "metadata": {},
   "outputs": [],
   "source": [
    "(define (cont-frac n d k)\n",
    "  (define (cont-frac-inner n d cur-k)\n",
    "    (if (< cur-k k)\n",
    "\t(/ (n cur-k) (+ (d cur-k) (cont-frac-inner n d (+ cur-k 1))))\n",
    "\t(d cur-k)))\n",
    "  (cont-frac-inner n d 1))"
   ]
  },
  {
   "cell_type": "code",
   "execution_count": 26,
   "id": "daa880f8",
   "metadata": {},
   "outputs": [
    {
     "data": {
      "text/plain": [
       "0.9999986732059835"
      ]
     },
     "execution_count": 26,
     "metadata": {},
     "output_type": "execute_result"
    }
   ],
   "source": [
    "(tan-cf (/ 3.14159 4) 100)"
   ]
  },
  {
   "cell_type": "code",
   "execution_count": 27,
   "id": "9dca277d",
   "metadata": {},
   "outputs": [
    {
     "data": {
      "text/plain": [
       "753695.9951179451"
      ]
     },
     "execution_count": 27,
     "metadata": {},
     "output_type": "execute_result"
    }
   ],
   "source": [
    "(tan-cf (/ 3.14159 2) 100)"
   ]
  },
  {
   "cell_type": "code",
   "execution_count": 28,
   "id": "115481be",
   "metadata": {},
   "outputs": [
    {
     "data": {
      "text/plain": [
       "-2.6535897933138355e-06"
      ]
     },
     "execution_count": 28,
     "metadata": {},
     "output_type": "execute_result"
    }
   ],
   "source": [
    "(tan-cf (/ 3.14159 1) 100)"
   ]
  },
  {
   "cell_type": "code",
   "execution_count": null,
   "id": "ebc42425",
   "metadata": {},
   "outputs": [],
   "source": []
  }
 ],
 "metadata": {
  "kernelspec": {
   "display_name": "Calysto Scheme 3",
   "language": "scheme",
   "name": "calysto_scheme"
  },
  "language_info": {
   "codemirror_mode": {
    "name": "scheme"
   },
   "mimetype": "text/x-scheme",
   "name": "scheme",
   "pygments_lexer": "scheme"
  }
 },
 "nbformat": 4,
 "nbformat_minor": 5
}
