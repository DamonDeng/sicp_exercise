{
 "cells": [
  {
   "cell_type": "markdown",
   "id": "4d3a3665",
   "metadata": {},
   "source": [
    "## SICP 习题 （1.41）解题总结"
   ]
  },
  {
   "cell_type": "markdown",
   "id": "3209b2ce",
   "metadata": {},
   "source": [
    "SICP 习题1.41 看似和周边的题目没有关系，突然叫我们去定义一个叫double的过程，其实这道题的核心还是高阶函数。\n",
    "\n",
    "题目要求我们定义一个过程double，它以一个过程作为参数，这个作为参数的过程已经约定是一个单参数过程。double过程需要返回一个过程，所返回的过程将传入的过程应用两次。"
   ]
  },
  {
   "cell_type": "markdown",
   "id": "aa081e61",
   "metadata": {},
   "source": [
    "举例说，如果我们有个过程叫（扇耳光 贱人），调用这个过程会扇贱人一个耳光。\n",
    "\n",
    "那么（double 扇耳光）会返回另一个过程，这个过程没有名字，我们暂且叫他“扇俩耳光”吧，调用(扇俩耳光 贱人)就会扇贱人两个耳光了。\n",
    "\n",
    "也就是说((double 扇耳光) 贱人)这样的调用会扇贱人两个耳光。"
   ]
  },
  {
   "cell_type": "markdown",
   "id": "c8efeec1",
   "metadata": {},
   "source": [
    "好，题目问我们(((double ( double double)) inc) 5)的结果是什么，其中inc方法会给传入参数加1.\n",
    "\n",
    "要完成这道题，先看看double如何定义吧。\n",
    "\n",
    "完全按照题目意思，定义的double如下："
   ]
  },
  {
   "cell_type": "code",
   "execution_count": 3,
   "id": "02cd7bf6",
   "metadata": {},
   "outputs": [],
   "source": [
    "(define (double f)\n",
    "  (lambda (x) \n",
    "    (f (f x)))) "
   ]
  },
  {
   "cell_type": "markdown",
   "id": "6c38bb93",
   "metadata": {},
   "source": [
    "为了测试，我定义了一个我自己的inc过程"
   ]
  },
  {
   "cell_type": "code",
   "execution_count": 4,
   "id": "c44d688f",
   "metadata": {},
   "outputs": [],
   "source": [
    "(define (my-inc x)\n",
    "  (+ x 1))"
   ]
  },
  {
   "cell_type": "markdown",
   "id": "fc7b1d7c",
   "metadata": {},
   "source": [
    "先测试一般的使用方法："
   ]
  },
  {
   "cell_type": "code",
   "execution_count": 7,
   "id": "7ad3b00a",
   "metadata": {},
   "outputs": [
    {
     "data": {
      "text/plain": [
       "12"
      ]
     },
     "execution_count": 7,
     "metadata": {},
     "output_type": "execute_result"
    }
   ],
   "source": [
    "((double my-inc) 10)"
   ]
  },
  {
   "cell_type": "markdown",
   "id": "d5cbd5b4",
   "metadata": {},
   "source": [
    "最后直接测试题目中的调用"
   ]
  },
  {
   "cell_type": "code",
   "execution_count": 5,
   "id": "4926cbaa",
   "metadata": {},
   "outputs": [
    {
     "data": {
      "text/plain": [
       "21"
      ]
     },
     "execution_count": 5,
     "metadata": {},
     "output_type": "execute_result"
    }
   ],
   "source": [
    "(define (test-it) (((double ( double double)) my-inc) 5))\n",
    "(test-it)"
   ]
  },
  {
   "cell_type": "markdown",
   "id": "d19df127",
   "metadata": {},
   "source": [
    "结果是21，也就是5+16，就是做了16次加一的操作。\n",
    "\n",
    "为什么呢？\n",
    "\n",
    "我们可以一步一步展开"
   ]
  },
  {
   "cell_type": "markdown",
   "id": "9d943bc7",
   "metadata": {},
   "source": [
    "    ;首先将不同的double标号，分别是double1 , double2, double3，这样比较清晰\n",
    "    (define step1 (((double1 ( double2 double3)) my-inc) 5))\n",
    "\n",
    "    ;然后将（double2 double3)展开：\n",
    "    (define step2 (((double1 (lambda (x) (double3 (double3 x)))) my-inc) 5))\n",
    "\n",
    "    ;将(lambda (x) (double3 (double3 x))) 命名为lam1:\n",
    "    (define (lam1 x) (double3 (double3 x)))\n",
    "\n",
    "    ;这样step2就等同于下面的step3:\n",
    "    (define step3 (((double1 lam1) my-inc) 5))\n",
    "\n",
    "    ;再将(double1 lam1)展开：\n",
    "    (define step4 (((lambda (x) (lam1 (lam1 x))) my-inc) 5))\n",
    "\n",
    "    ;将my-inc代入step4中得lambda中：\n",
    "    (define step5 ((lam1 (lam1 my-inc)) 5))\n",
    "\n",
    "    ;将里面的lam1还原回原来的定义：\n",
    "    (define step6 ((lam1 (double3 (double3 my-inc))) 5))\n",
    "\n",
    "    ;将里面的(double3 my-inc)展开：\n",
    "    (define step7 ((lam1 (double3 (lambda (x) (my-inc (my-inc x))))) 5))\n",
    "\n",
    "    ; 将step7里的lambda定义为lam2:\n",
    "    (define (lam2 x) (my-inc (my-inc x)))\n",
    "\n",
    "    ；那么step7可以转换为：\n",
    "    (define step8 ((lam1 (double3 lam2)) 5))\n",
    "\n",
    "    ; 再将step8中的(double3 lam2)展开得到step9:\n",
    "    (define step9 ((lam1 (lambda (x) (lam2 (lam2)))) 5))\n",
    "\n",
    "    ；将step9中得lambda函数定义为lam3:\n",
    "    (define (lam3 x) (lam2 (lam2)))\n",
    "\n",
    "    ；那么step9就可以转换成step10这样：\n",
    "    (define step10 ((lam1 lam3) 5))\n",
    "\n",
    "    ; 将step10中的lam1恢复成原来的定义：\n",
    "    (define step11 ((double3 (double3 lam3)) 5))\n",
    "\n",
    "    ;将(double3 lam3)展开：\n",
    "    (define step12 ((double3 (lambda (x) (lam3 (lam3 x)))) 5))\n",
    "\n",
    "    ;将step12中的lambda函数命名为lam4:\n",
    "    (define (lam4 x) (lam3 (lam3 x)))\n",
    "\n",
    "    ；则step12可以表示成step13这样：\n",
    "    (define step13 ((double3 lam4) 5))\n",
    "\n",
    "    ;将(double3 lam4)展开：\n",
    "    (define step14 ((lambda (x) (lam4 (lam4 x))) 5))\n",
    "\n",
    "    ;将5代入step14中的lambda过程中：\n",
    "    (define step15 (lam4 (lam4 5)))\n",
    "\n",
    "    ;将lam4还原回原始定义：\n",
    "    (define step16 (lam3 (lam3 (lam3 (lam3 5)))))\n",
    "\n",
    "    ;将lam3还原回原始定义：\n",
    "    (define step17 (lam2 (lam2 (lam2 (lam2 (lam2 (lam2 (lam2 (lam2 5)))))))))\n",
    "\n",
    "    ;将lam2还原回原始定义:\n",
    "    (define step18 (my-inc (my-inc (my-inc (my-inc (my-inc (my-inc (my-inc (my-inc (my-inc (my-inc (my-inc (my-inc (my-inc (my-inc (my-inc (my-inc 5)))))))))))))))))\n",
    "\n",
    "    ；结果就是21了：\n",
    "    (define step19 21)\n",
    "\n",
    "以上的分析过程比较繁琐，不过也比较详细。\n",
    "\n",
    "如果从抽象一点的层面来看的话，也可以用另外一种方法\n",
    "\n",
    "考察以下方法：\n",
    "\n",
    "    (((double ( double double)) my-inc) 5)\n",
    "\n",
    "double过程的作用是将任何方法嵌套调用两次。\n",
    "\n",
    "而(double double)就是将double嵌套调用两次，结果就是将任何方法嵌套调用4次。\n",
    "\n",
    "如果有`(define four-time (double double))`的话，fourtime过程将任何方法嵌套调用4次。\n",
    "\n",
    "’\n",
    "\n",
    "进一步看得话`(double (double double))`相当于`(double four-time)`。\n",
    "\n",
    "相当于是`(four-time (four-time x))`\n",
    "\n",
    "这里要特别注意，两次four-time的嵌套调用并不是4+4次，而是4*4次调用，就是16次调用。\n",
    "\n",
    "习题1.41解题完成，这道题也可以很好地帮助同学们理解高阶函数，特别是高阶函数的嵌套。"
   ]
  },
  {
   "cell_type": "code",
   "execution_count": null,
   "id": "e61bb943",
   "metadata": {},
   "outputs": [],
   "source": []
  }
 ],
 "metadata": {
  "kernelspec": {
   "display_name": "Calysto Scheme 3",
   "language": "scheme",
   "name": "calysto_scheme"
  },
  "language_info": {
   "codemirror_mode": {
    "name": "scheme"
   },
   "mimetype": "text/x-scheme",
   "name": "scheme",
   "pygments_lexer": "scheme"
  }
 },
 "nbformat": 4,
 "nbformat_minor": 5
}
