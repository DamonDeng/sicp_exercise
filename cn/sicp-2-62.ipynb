{
 "cells": [
  {
   "cell_type": "markdown",
   "id": "0454da55",
   "metadata": {},
   "source": [
    "## SICP 习题 （2.62）解题总结：排序集合的并集"
   ]
  },
  {
   "cell_type": "markdown",
   "id": "5075e8f3",
   "metadata": {},
   "source": [
    "SICP 习题2.62是2.61的延伸，要求我们实现排序集合的并集方法(union-set)，而且要求是 O(n) 的复杂度。"
   ]
  },
  {
   "cell_type": "markdown",
   "id": "7cffb85c",
   "metadata": {},
   "source": [
    "如果不考虑新列表的排序，直接把两个列表合并就好了。\n",
    "\n",
    "但是我们要保证新生成的列表也是排好序的，所以需要对列表元素进行逐一处理。\n",
    "\n",
    "方法和取交集差不多，差别就是发现不同的时候要保留这个不同的元素："
   ]
  },
  {
   "cell_type": "code",
   "execution_count": 1,
   "id": "6eab6720",
   "metadata": {},
   "outputs": [],
   "source": [
    "(define (union-set set1 set2)\n",
    "  (if (null? set1)\n",
    "       set2\n",
    "       (if (null? set2)\n",
    "\t   set1\n",
    "\t   (let (( x1 (car set1)) (x2 (car set2)))\n",
    "\t     (cond ((= x1 x2)\n",
    "\t\t    (cons x1\n",
    "\t\t\t  (union-set (cdr set1)\n",
    "\t\t\t\t     (cdr set2))))\n",
    "\t\t   ((< x1 x2)\n",
    "\t\t    (cons x1 (union-set (cdr set1) set2)))\n",
    "\t\t   ((< x2 x1)\n",
    "\t\t    (cons x2 (union-set set1 (cdr set2)))))))))\n",
    "\n"
   ]
  },
  {
   "cell_type": "code",
   "execution_count": 4,
   "id": "5566ce30",
   "metadata": {},
   "outputs": [
    {
     "data": {
      "text/plain": [
       "(1 2 3 4 7 9 10)"
      ]
     },
     "execution_count": 4,
     "metadata": {},
     "output_type": "execute_result"
    }
   ],
   "source": [
    "(union-set '(1 2 4 7 9) '(3 4 7 10 ))"
   ]
  },
  {
   "cell_type": "code",
   "execution_count": null,
   "id": "8406950f",
   "metadata": {},
   "outputs": [],
   "source": []
  }
 ],
 "metadata": {
  "kernelspec": {
   "display_name": "Calysto Scheme 3",
   "language": "scheme",
   "name": "calysto_scheme"
  },
  "language_info": {
   "codemirror_mode": {
    "name": "scheme"
   },
   "mimetype": "text/x-scheme",
   "name": "scheme",
   "pygments_lexer": "scheme"
  }
 },
 "nbformat": 4,
 "nbformat_minor": 5
}
