{
 "cells": [
  {
   "cell_type": "markdown",
   "id": "0454da55",
   "metadata": {},
   "source": [
    "## SICP 习题 （2.21）解题总结: map的使用"
   ]
  },
  {
   "cell_type": "markdown",
   "id": "794e88cc",
   "metadata": {},
   "source": [
    "SICP 习题 2.21 开始引入了map，准确来讲，是这道题目前的文章内容开始引入了map。\n",
    "\n",
    "为了完成本习题，甚至说为了完成本文以后的阅读，请读者一定要理解清楚map的概念，正如书中所说，“map是一种很重要的结构，不仅因为它代表了一种公共模式，而且因为它建立起了一种处理表的高层抽象”。\n",
    "\n",
    "虽然说得非常高大上，但是map的概念理解起来并不困难，最基本的理解就是给你一组东西，你对这组东西执行map操作的话，就是把这组东西里面的成员逐个拿出来执行对应操作。\n",
    "\n",
    "比如(map  做朋友  土豪们）就是和土豪们中的每一个土豪都做朋友。。。。。\n",
    "\n",
    "另外要注意的就是map的返回值，map过程会返回一个组，组成员的个数和输入组相同，组成员的值取决于对应的操作。\n",
    "\n",
    "比如(map  做朋友  土豪们）返回的应该是“土豪朋友们”，个数和“土豪们”相同，不过一个一个都是你朋友了，因为他们都执行的做朋友的操作。\n",
    "\n",
    "习题2.21要求我们完成的就是接受一个数值列表，然后对每一个元素执行平方操作，然后返回以平方数为元素的列表。\n",
    "\n",
    "题中给出了两种实现方法，一种是不使用map的，一种是使用map的，而且给出了一些代码框架。"
   ]
  },
  {
   "cell_type": "markdown",
   "id": "a73d706d",
   "metadata": {},
   "source": [
    "不使用map的代码框架如下：\n",
    "\n",
    "    (define (square-list-1 items)\n",
    "      (if (null? items)\n",
    "          '()\n",
    "          (cons <??> <??>)))\n",
    "\n",
    "根据我们之前遍历列表的经验我们知道这里需要使用递归，其中的第一个<??>应该是要坐的操作，第二个<??>应该是递归调用square-list。\n",
    "\n",
    "有了思路做起来就比较简单了，完成后的代码如下："
   ]
  },
  {
   "cell_type": "code",
   "execution_count": 1,
   "id": "2ec8da5e",
   "metadata": {},
   "outputs": [],
   "source": [
    "(define (square-list-1 items)\n",
    "  (if (null? items)\n",
    "      '()\n",
    "      (cons (* (car items) (car items)) \n",
    "\t    (square-list-1 (cdr items)))))"
   ]
  },
  {
   "cell_type": "markdown",
   "id": "78d1b1bc",
   "metadata": {},
   "source": [
    "其实，如果使用map的话就更简单，使用(lambda (x) (* x x))作为map操作就可以了，map过程会去遍历列表，将每一个元素拿出来，传递给\n",
    "\n",
    "(lambda (x) (* x x))执行平方操作。\n",
    "\n",
    "完成代码如下："
   ]
  },
  {
   "cell_type": "code",
   "execution_count": 2,
   "id": "00b2e287",
   "metadata": {},
   "outputs": [],
   "source": [
    "(define (square-list-2 items)\n",
    "  (map (lambda (x) (* x x) ) items))"
   ]
  },
  {
   "cell_type": "code",
   "execution_count": 5,
   "id": "c8318695",
   "metadata": {},
   "outputs": [],
   "source": [
    "(define (start-test-2-21)\n",
    "  (define sample-list '(1 3 4 5 9))\n",
    "  (display (square-list-1 sample-list))\n",
    "  (newline)\n",
    "  (display (square-list-2 sample-list))\n",
    "  )"
   ]
  },
  {
   "cell_type": "code",
   "execution_count": 6,
   "id": "99ac3026",
   "metadata": {},
   "outputs": [
    {
     "name": "stdout",
     "output_type": "stream",
     "text": [
      "(1 9 16 25 81)\n",
      "(1 9 16 25 81)"
     ]
    }
   ],
   "source": [
    "(start-test-2-21)"
   ]
  },
  {
   "cell_type": "code",
   "execution_count": null,
   "id": "62b318aa",
   "metadata": {},
   "outputs": [],
   "source": []
  }
 ],
 "metadata": {
  "kernelspec": {
   "display_name": "Calysto Scheme 3",
   "language": "scheme",
   "name": "calysto_scheme"
  },
  "language_info": {
   "codemirror_mode": {
    "name": "scheme"
   },
   "mimetype": "text/x-scheme",
   "name": "scheme",
   "pygments_lexer": "scheme"
  }
 },
 "nbformat": 4,
 "nbformat_minor": 5
}
