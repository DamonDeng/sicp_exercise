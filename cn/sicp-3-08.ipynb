{
 "cells": [
  {
   "cell_type": "markdown",
   "id": "079f4e51",
   "metadata": {},
   "source": [
    "## SICP 习题 （3.8）解题总结: 参数的求值顺序"
   ]
  },
  {
   "cell_type": "markdown",
   "id": "a3a5e904",
   "metadata": {},
   "source": [
    "SICP 习题 3.8 的要求比较诡异，也引起了不同的讨论。\n",
    "\n",
    "题目的主要的目的是让我们关注函数参数的求值顺序。普通情况下我们不需要太考虑函数参数的求值顺序，比如下面这样的代码：\n",
    "\n",
    "    (define a 10)\n",
    "    (some-function (+ a 1) (+ a 2))\n",
    "    \n",
    "这个时候先计算（+ a 1）还是先计算 (+ a 2)没啥差别。\n",
    "\n",
    "另外，如果没有引入set!函数，Scheme的函数是无状态的，这个时候函数在不同的调用中的表现是一致的，先调用哪个都不造成差别。\n",
    "\n",
    "现在我们讨论了set!函数，那同一个函数在不同时间的表现是不同的，那参数的计算顺序就会有关系了。\n",
    "\n",
    "3.8这道题目把这个事情搞得更加复杂一点，题目要求我们实现一个简单的函数(f n)，要求在从左到右求值的情况下`(+ (f 0) (f 1))`等于0，而在从右到左求值的情况下会返回1.\n",
    "\n",
    "这里首先突出了参数的求值顺序对结果的影响，我们也清晰地认识到这里肯定要用set!。\n",
    "\n",
    "另外题目希望我们定义一个简单的函数(f n)实现这一点，似乎意味着这里又个非常优雅的方法。"
   ]
  },
  {
   "cell_type": "markdown",
   "id": "9591f96a",
   "metadata": {},
   "source": [
    "我自己想了一段时间以后定义了一个看起来不是那么简单的函数："
   ]
  },
  {
   "cell_type": "code",
   "execution_count": 13,
   "id": "c49af742",
   "metadata": {},
   "outputs": [],
   "source": [
    "(define f\n",
    "  (let ((pre-input -1) (pre-result -1))\n",
    "    (lambda (input-value)\n",
    "      (define temp-result 0)\n",
    "      (set! temp-result \n",
    "\t    (cond \n",
    "\t     ((and (eq? pre-input 0) (eq? input-value 1))\n",
    "\t      (- 1 pre-result))\n",
    "\t     ((and (eq? pre-input 1) (eq? input-value 0))\n",
    "\t      (- 0 pre-result))\n",
    "\t     (else \n",
    "\t      input-value)))\n",
    "\n",
    "       (set! pre-input input-value)\n",
    "       (set! pre-result temp-result)\n",
    "       pre-result)))\n",
    "\n",
    "      "
   ]
  },
  {
   "cell_type": "markdown",
   "id": "9add74d7",
   "metadata": {},
   "source": [
    "以上函数是写出来以后自己觉得是可以实现题目的要求的，就是感觉太复杂了一点，基本思路就是记录(f)函数上次调用的情况，根据这个情况确定应该返回什么值"
   ]
  },
  {
   "cell_type": "markdown",
   "id": "0d64ea11",
   "metadata": {},
   "source": [
    "要测试这个函数也有点麻烦，因为Scheme本身就是从右到左求值的，不能验证从左到右的求值情况。\n",
    "\n",
    "所以我自己写了(add-from-left)和(add-from-right)，然后在函数里显式地决定(f 0)和(f 1)的顺序。\n",
    "\n",
    "接着测试发现自己写反了。。。。。要返回1的返回了0"
   ]
  },
  {
   "cell_type": "code",
   "execution_count": 18,
   "id": "7d20209b",
   "metadata": {},
   "outputs": [],
   "source": [
    "(define (add-from-left)\n",
    "  (define x (f 0))\n",
    "  (define y (f 1))\n",
    "  (+ x y)\n",
    "  )"
   ]
  },
  {
   "cell_type": "code",
   "execution_count": 19,
   "id": "484b8bd0",
   "metadata": {},
   "outputs": [],
   "source": [
    "(define (add-from-right)\n",
    "  (define x (f 1))\n",
    "  (define y (f 0))\n",
    "  (+ x y)\n",
    "  )"
   ]
  },
  {
   "cell_type": "code",
   "execution_count": 20,
   "id": "8f458732",
   "metadata": {},
   "outputs": [
    {
     "data": {
      "text/plain": [
       "1"
      ]
     },
     "execution_count": 20,
     "metadata": {},
     "output_type": "execute_result"
    }
   ],
   "source": [
    "(add-from-left)"
   ]
  },
  {
   "cell_type": "code",
   "execution_count": 21,
   "id": "923f1f33",
   "metadata": {},
   "outputs": [
    {
     "data": {
      "text/plain": [
       "0"
      ]
     },
     "execution_count": 21,
     "metadata": {},
     "output_type": "execute_result"
    }
   ],
   "source": [
    "(add-from-right)"
   ]
  },
  {
   "cell_type": "markdown",
   "id": "c1f13963",
   "metadata": {},
   "source": [
    "本来也是一个感觉太复杂的实现，结果又写反了，就懒得改了，重新写了一个相对简单一点的："
   ]
  },
  {
   "cell_type": "code",
   "execution_count": 23,
   "id": "0b3dc9ec",
   "metadata": {},
   "outputs": [],
   "source": [
    "(define f\n",
    "  (let ((pre-input -1) (pre-result -1))\n",
    "    (lambda (input-value)\n",
    "      (cond ((> input-value pre-input) (set! pre-result (* -1 pre-result)))\n",
    "            (else (set! pre-result (+ 1 (* -1 pre-result)))))\n",
    "      (set! pre-input input-value)\n",
    "      pre-result)))"
   ]
  },
  {
   "cell_type": "code",
   "execution_count": 24,
   "id": "6ed2eb7f",
   "metadata": {},
   "outputs": [
    {
     "data": {
      "text/plain": [
       "1"
      ]
     },
     "execution_count": 24,
     "metadata": {},
     "output_type": "execute_result"
    }
   ],
   "source": [
    "(add-from-right)"
   ]
  },
  {
   "cell_type": "code",
   "execution_count": 25,
   "id": "72bca11f",
   "metadata": {},
   "outputs": [
    {
     "data": {
      "text/plain": [
       "1"
      ]
     },
     "execution_count": 25,
     "metadata": {},
     "output_type": "execute_result"
    }
   ],
   "source": [
    "(add-from-right)"
   ]
  },
  {
   "cell_type": "code",
   "execution_count": 26,
   "id": "c8cd2b63",
   "metadata": {},
   "outputs": [
    {
     "data": {
      "text/plain": [
       "0"
      ]
     },
     "execution_count": 26,
     "metadata": {},
     "output_type": "execute_result"
    }
   ],
   "source": [
    "(add-from-left)"
   ]
  },
  {
   "cell_type": "markdown",
   "id": "dc84c50d",
   "metadata": {},
   "source": [
    "以上测试是通过了，就是还是感觉太复杂，不满足题目的要求，于是去各地找了一下答案。发现大家的答案五花八门，应该都是去追求题目要求的简单实现。但是正确的答案都不是那么的简单，有些看起来特别漂亮的实现，测试的发现只能运行一次，如果多调用几次都出问题了。。。。\n",
    "\n",
    "大家有兴趣可以尝试看能不能找到一个合适的优雅实现"
   ]
  },
  {
   "cell_type": "code",
   "execution_count": null,
   "id": "330a74f7",
   "metadata": {},
   "outputs": [],
   "source": []
  }
 ],
 "metadata": {
  "kernelspec": {
   "display_name": "Calysto Scheme 3",
   "language": "scheme",
   "name": "calysto_scheme"
  },
  "language_info": {
   "codemirror_mode": {
    "name": "scheme"
   },
   "mimetype": "text/x-scheme",
   "name": "scheme",
   "pygments_lexer": "scheme"
  }
 },
 "nbformat": 4,
 "nbformat_minor": 5
}
