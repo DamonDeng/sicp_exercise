{
 "cells": [
  {
   "cell_type": "markdown",
   "id": "0454da55",
   "metadata": {},
   "source": [
    "## SICP 习题 （2.27）解题总结：树状列表的遍历"
   ]
  },
  {
   "cell_type": "markdown",
   "id": "f70be1e3",
   "metadata": {},
   "source": [
    "SICP 习题 2.27 又开始有些难度了，题目要求我们实现reverse的升级版deep-reverse，就是不仅要将一个列表的元素顺序倒过来，还要将列表中所有子列表的元素也倒过来。\n",
    "\n",
    "想清楚思路以后也不算太难，其实就是在对所有元素进行倒转的过程中加多一个判断，如果正在处理的元素是一个列表，则对该列表递归调用deep-reverse过程，如果正在处理的元素是一个简单的元素则直接返回该元素。\n",
    "\n",
    "我的代码如下："
   ]
  },
  {
   "cell_type": "code",
   "execution_count": 1,
   "id": "3bd12037",
   "metadata": {},
   "outputs": [],
   "source": [
    "(define (deep-reverse input-list)\n",
    "  (if (null? input-list)\n",
    "      '()\n",
    "      (append (deep-reverse (cdr input-list)) \n",
    "\t      (if (list? (car input-list))\n",
    "\t\t\t (list (deep-reverse (car input-list)))\n",
    "\t\t\t (list (car input-list))))))"
   ]
  },
  {
   "cell_type": "code",
   "execution_count": 2,
   "id": "b0d65e6f",
   "metadata": {},
   "outputs": [],
   "source": [
    "(define (start-test-2-27)\n",
    "  (deep-reverse '(1 2 (3 4 5 (7 8 9) 10 11 (12 13 (14 15 16 17)))))\n",
    "  )"
   ]
  },
  {
   "cell_type": "code",
   "execution_count": 3,
   "id": "05d67160",
   "metadata": {},
   "outputs": [
    {
     "data": {
      "text/plain": [
       "((((17 16 15 14) 13 12) 11 10 (9 8 7) 5 4 3) 2 1)"
      ]
     },
     "execution_count": 3,
     "metadata": {},
     "output_type": "execute_result"
    }
   ],
   "source": [
    "(start-test-2-27)"
   ]
  }
 ],
 "metadata": {
  "kernelspec": {
   "display_name": "Calysto Scheme 3",
   "language": "scheme",
   "name": "calysto_scheme"
  },
  "language_info": {
   "codemirror_mode": {
    "name": "scheme"
   },
   "mimetype": "text/x-scheme",
   "name": "scheme",
   "pygments_lexer": "scheme"
  }
 },
 "nbformat": 4,
 "nbformat_minor": 5
}
