{
 "cells": [
  {
   "cell_type": "markdown",
   "id": "079f4e51",
   "metadata": {},
   "source": [
    "## title"
   ]
  },
  {
   "cell_type": "code",
   "execution_count": null,
   "id": "51239efd",
   "metadata": {},
   "outputs": [],
   "source": [
    "(define (stream-enumerate-interval low high)\n",
    "  (if (> low high)\n",
    "      the-empty-stream\n",
    "      (cons-stream \n",
    "       low\n",
    "       (stream-enumerate-interval (+ low 1) high))))\n",
    "\n",
    "(define (show x)\n",
    "  (display x)\n",
    "  \n",
    "  x)\n",
    "\n",
    "(define (start-test-3-51)\n",
    "  (define x (stream-map show (stream-enumerate-interval 0 10)))\n",
    "  (newline)\n",
    "  (display (stream-ref x 5))\n",
    "  (newline)\n",
    "  (display (stream-ref x 7)))"
   ]
  }
 ],
 "metadata": {
  "kernelspec": {
   "display_name": "Calysto Scheme 3",
   "language": "scheme",
   "name": "calysto_scheme"
  },
  "language_info": {
   "codemirror_mode": {
    "name": "scheme"
   },
   "mimetype": "text/x-scheme",
   "name": "scheme",
   "pygments_lexer": "scheme"
  }
 },
 "nbformat": 4,
 "nbformat_minor": 5
}
