{
 "cells": [
  {
   "cell_type": "markdown",
   "id": "941c4fe0",
   "metadata": {},
   "source": [
    "## 第一章\n",
    "\n",
    "[习题1.1 - 习题1.4](./cn/sicp-1-04.ipynb) &ensp;&ensp;&ensp;&ensp;\n",
    "[习题1.5](./cn/sicp-1-05.ipynb)&ensp;&ensp;&ensp;&ensp;\n",
    "[习题1.6](./cn/sicp-1-06.ipynb)&ensp;&ensp;&ensp;&ensp;\n",
    "[习题1.7](./cn/sicp-1-07.ipynb)&ensp;&ensp;&ensp;&ensp;\n",
    "[习题1.8](./cn/sicp-1-08.ipynb)&ensp;&ensp;&ensp;&ensp;\n",
    "[习题1.9](./cn/sicp-1-09.ipynb)&ensp;&ensp;&ensp;&ensp;\n",
    "[习题1.10](./cn/sicp-1-10.ipynb)&ensp;&ensp;&ensp;&ensp;\n",
    "\n",
    "\n",
    "[习题1.11](./cn/sicp-1-11.ipynb) &ensp;&ensp;&ensp;&ensp;\n",
    "[习题1.12](./cn/sicp-1-12.ipynb) &ensp;&ensp;&ensp;&ensp;\n",
    "[习题1.13](./cn/sicp-1-13.ipynb) &ensp;&ensp;&ensp;&ensp;\n",
    "[习题1.14](./cn/sicp-1-14.ipynb) &ensp;&ensp;&ensp;&ensp;\n",
    "[习题1.15](./cn/sicp-1-15.ipynb)&ensp;&ensp;&ensp;&ensp;\n",
    "[习题1.16](./cn/sicp-1-16.ipynb)&ensp;&ensp;&ensp;&ensp;\n",
    "[习题1.17](./cn/sicp-1-17.ipynb)&ensp;&ensp;&ensp;&ensp;\n",
    "[习题1.18](./cn/sicp-1-18.ipynb)&ensp;&ensp;&ensp;&ensp;\n",
    "[习题1.19](./cn/sicp-1-19.ipynb)&ensp;&ensp;&ensp;&ensp;\n",
    "[习题1.20](./cn/sicp-1-20.ipynb)&ensp;&ensp;&ensp;&ensp;\n",
    "\n",
    "\n",
    "[习题1.21](./cn/sicp-1-21.ipynb) &ensp;&ensp;&ensp;&ensp;\n",
    "[习题1.22](./cn/sicp-1-22.ipynb) &ensp;&ensp;&ensp;&ensp;\n",
    "[习题1.23](./cn/sicp-1-23.ipynb) &ensp;&ensp;&ensp;&ensp;\n",
    "[习题1.24](./cn/sicp-1-24.ipynb) &ensp;&ensp;&ensp;&ensp;\n",
    "[习题1.25](./cn/sicp-1-25.ipynb)&ensp;&ensp;&ensp;&ensp;\n",
    "[习题1.26](./cn/sicp-1-26.ipynb)&ensp;&ensp;&ensp;&ensp;\n",
    "[习题1.27](./cn/sicp-1-27.ipynb)&ensp;&ensp;&ensp;&ensp;\n",
    "[习题1.28](./cn/sicp-1-28.ipynb)&ensp;&ensp;&ensp;&ensp;\n",
    "[习题1.29](./cn/sicp-1-29.ipynb)&ensp;&ensp;&ensp;&ensp;\n",
    "[习题1.30](./cn/sicp-1-30.ipynb)&ensp;&ensp;&ensp;&ensp;\n",
    "\n",
    "\n",
    "[习题1.41](./cn/sicp-1-41.ipynb) &ensp;&ensp;&ensp;&ensp;\n",
    "[习题1.42](./cn/sicp-1-42.ipynb) &ensp;&ensp;&ensp;&ensp;\n",
    "[习题1.43](./cn/sicp-1-43.ipynb) &ensp;&ensp;&ensp;&ensp;\n",
    "[习题1.44](./cn/sicp-1-44.ipynb) &ensp;&ensp;&ensp;&ensp;\n",
    "[习题1.45](./cn/sicp-1-45.ipynb)&ensp;&ensp;&ensp;&ensp;\n",
    "[习题1.46](./cn/sicp-1-46.ipynb)&ensp;&ensp;&ensp;&ensp;\n"
   ]
  },
  {
   "cell_type": "code",
   "execution_count": null,
   "id": "82b67ca7",
   "metadata": {},
   "outputs": [],
   "source": []
  }
 ],
 "metadata": {
  "kernelspec": {
   "display_name": "Calysto Scheme 3",
   "language": "scheme",
   "name": "calysto_scheme"
  },
  "language_info": {
   "codemirror_mode": {
    "name": "scheme"
   },
   "mimetype": "text/x-scheme",
   "name": "scheme",
   "pygments_lexer": "scheme"
  }
 },
 "nbformat": 4,
 "nbformat_minor": 5
}
